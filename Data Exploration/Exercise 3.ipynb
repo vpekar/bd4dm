{
 "cells": [
  {
   "cell_type": "markdown",
   "id": "0f07a493-a409-4e7b-8420-c37654db64b4",
   "metadata": {},
   "source": [
    "Apply the transformation steps specified below to the Ames housing dataset."
   ]
  },
  {
   "cell_type": "code",
   "execution_count": null,
   "id": "69e4edba-edc0-41db-bcc8-536f567a95d9",
   "metadata": {},
   "outputs": [],
   "source": [
    "import pandas as pd\n",
    "import numpy as np\n",
    "import seaborn as sns\n",
    "\n",
    "import matplotlib.pyplot as plt\n",
    "\n",
    "from sklearn.model_selection import train_test_split\n",
    "\n",
    "sns.set_theme(palette=\"Set2\")"
   ]
  },
  {
   "cell_type": "markdown",
   "id": "258f796d-5cc9-4912-a625-81ba0a78a6be",
   "metadata": {},
   "source": [
    "# Load the data"
   ]
  },
  {
   "cell_type": "code",
   "execution_count": null,
   "id": "813aceb8-d2f7-45cb-882c-fa5eb8aeb3fe",
   "metadata": {},
   "outputs": [],
   "source": []
  },
  {
   "cell_type": "markdown",
   "id": "02505283-dcef-4390-80ae-ab4d040ced25",
   "metadata": {},
   "source": [
    "# Train-test split\n",
    "\n",
    "Split the data into the training and test parts, reproducing the split used in the previous exercise."
   ]
  },
  {
   "cell_type": "code",
   "execution_count": null,
   "id": "7360aa09-dd2c-4121-80f5-288b457b1ff4",
   "metadata": {},
   "outputs": [],
   "source": []
  },
  {
   "cell_type": "markdown",
   "id": "0812fa05-5266-4a9c-8bcc-ba64f3d859e8",
   "metadata": {},
   "source": [
    "# Feature engineering\n",
    "\n",
    "Create a feature representing the age of the house."
   ]
  },
  {
   "cell_type": "code",
   "execution_count": null,
   "id": "5c4cc19a-5ac1-435f-b389-674571cb80dd",
   "metadata": {},
   "outputs": [],
   "source": []
  },
  {
   "cell_type": "markdown",
   "id": "fc34d430-110b-49cd-8d71-d2b01606c6f0",
   "metadata": {},
   "source": [
    "Delete the \"Utilities\" column."
   ]
  },
  {
   "cell_type": "code",
   "execution_count": null,
   "id": "77280c80-4275-4798-b371-bd6f5641210e",
   "metadata": {},
   "outputs": [],
   "source": []
  },
  {
   "cell_type": "markdown",
   "id": "18b129b8-3099-4028-8562-e7578e23b0de",
   "metadata": {},
   "source": [
    "# Dummy variables"
   ]
  },
  {
   "cell_type": "code",
   "execution_count": null,
   "id": "86055ec5-a782-486c-aff3-f0fc8407fe48",
   "metadata": {},
   "outputs": [],
   "source": []
  },
  {
   "cell_type": "markdown",
   "id": "b56dba84-4295-4063-b627-b8768d5594c5",
   "metadata": {},
   "source": [
    "# Missing values\n",
    "\n",
    "Use IterativeImputer to impute missing values in the data."
   ]
  },
  {
   "cell_type": "code",
   "execution_count": null,
   "id": "29fd8705-be1f-4de5-b913-97d242cd3026",
   "metadata": {},
   "outputs": [],
   "source": []
  },
  {
   "cell_type": "markdown",
   "id": "c24073e5-3757-4bb8-b65c-55493468f862",
   "metadata": {},
   "source": [
    "# Log transformation"
   ]
  },
  {
   "cell_type": "markdown",
   "id": "9f2c3306-c736-48e5-af8b-f6d6570b6158",
   "metadata": {},
   "source": [
    "Apply log transformation to LotArea, TotalBmstSF, GrLivArea, OpenPorchSF."
   ]
  },
  {
   "cell_type": "code",
   "execution_count": null,
   "id": "87e26db1-5103-458c-9793-9505ac269c91",
   "metadata": {},
   "outputs": [],
   "source": [
    "trainset[[\"LotArea\", \"TotalBsmtSF\", \"GrLivArea\", \"OpenPorchSF\"]].hist(bins=50, figsize=(8,8))"
   ]
  },
  {
   "cell_type": "code",
   "execution_count": null,
   "id": "47e30da2-d158-4332-928c-b4eb20fe56df",
   "metadata": {},
   "outputs": [],
   "source": []
  },
  {
   "cell_type": "code",
   "execution_count": null,
   "id": "a8691d20-720d-49b3-ac2d-207c9fed571c",
   "metadata": {},
   "outputs": [],
   "source": [
    "trainset[[\"LotArea\", \"TotalBsmtSF\", \"GrLivArea\", \"OpenPorchSF\"]].hist(bins=50, figsize=(8,8))"
   ]
  },
  {
   "cell_type": "markdown",
   "id": "e89e0669-128e-40d0-bb18-2e9ec7d6265b",
   "metadata": {},
   "source": [
    "# Outlier detection\n",
    "\n",
    "Use the Isolation Forest method to remove 5% of the outliers."
   ]
  },
  {
   "cell_type": "code",
   "execution_count": null,
   "id": "97a44144-6389-4012-9fe0-413194c79a4b",
   "metadata": {},
   "outputs": [],
   "source": [
    "# separate the target and predictors\n",
    "ytrain = trainset[\"SalePrice\"].copy()\n",
    "Xtrain = trainset.drop(\"SalePrice\", axis=1)\n",
    "ytest = testset[\"SalePrice\"].copy()\n",
    "Xtest = testset.drop(\"SalePrice\", axis=1)"
   ]
  },
  {
   "cell_type": "code",
   "execution_count": null,
   "id": "c9e97ace-d55a-455c-aeda-440f29648194",
   "metadata": {},
   "outputs": [],
   "source": [
    "# check the size of the Xtrain and Xtest datasets\n",
    "Xtrain.shape, Xtest.shape"
   ]
  },
  {
   "cell_type": "code",
   "execution_count": null,
   "id": "6d31d18a-9d7e-4761-b62f-7ab3232c4db0",
   "metadata": {},
   "outputs": [],
   "source": []
  },
  {
   "cell_type": "markdown",
   "id": "c3e56b6c-0d71-4ab1-a4d0-773a8bc8fb29",
   "metadata": {},
   "source": [
    "# Feature selection\n",
    "\n",
    "Select 10 features with the greatest correlation with the target."
   ]
  },
  {
   "cell_type": "code",
   "execution_count": null,
   "id": "9c515830-b863-4ab9-af70-0ce5ebdb81a5",
   "metadata": {},
   "outputs": [],
   "source": []
  },
  {
   "cell_type": "markdown",
   "id": "848d317f-e3b8-4d86-aa35-a7905f06ee00",
   "metadata": {},
   "source": [
    "# Feature scaling\n",
    "\n",
    "Use StandardScaler to scale all features."
   ]
  },
  {
   "cell_type": "code",
   "execution_count": null,
   "id": "1e7a6daa-8e4c-486b-9ee8-c987a3e502f1",
   "metadata": {},
   "outputs": [],
   "source": []
  },
  {
   "cell_type": "code",
   "execution_count": null,
   "id": "9c01bb48-6557-42aa-bac7-259723f9fab6",
   "metadata": {},
   "outputs": [],
   "source": []
  }
 ],
 "metadata": {
  "kernelspec": {
   "display_name": "Python 3 (ipykernel)",
   "language": "python",
   "name": "python3"
  },
  "language_info": {
   "codemirror_mode": {
    "name": "ipython",
    "version": 3
   },
   "file_extension": ".py",
   "mimetype": "text/x-python",
   "name": "python",
   "nbconvert_exporter": "python",
   "pygments_lexer": "ipython3",
   "version": "3.9.18"
  }
 },
 "nbformat": 4,
 "nbformat_minor": 5
}
