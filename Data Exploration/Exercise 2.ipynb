{
 "cells": [
  {
   "cell_type": "markdown",
   "id": "cacd29cb-87b3-46f9-965a-d027b2b48cf7",
   "metadata": {},
   "source": [
    "The dataset contains various attributes on residential homes in Ames, Iowa, USA, along with the prices for which they were sold.\n",
    "\n",
    "The source of the data: https://openml.org\n",
    "\n",
    "The dataset contains the following columns:\n",
    "\n",
    "MSZoning: Identifies the general zoning classification of the sale.\n",
    "\t\t\n",
    "       A\tAgriculture\n",
    "       C\tCommercial\n",
    "       FV\tFloating Village Residential\n",
    "       I\tIndustrial\n",
    "       RH\tResidential High Density\n",
    "       RL\tResidential Low Density\n",
    "       RP\tResidential Low Density Park \n",
    "       RM\tResidential Medium Density\n",
    "\n",
    "LotArea: Lot size in square feet\n",
    "\n",
    "Street: Type of road access to property\n",
    "\n",
    "       Grvl\tGravel\t\n",
    "       Pave\tPaved\n",
    "\n",
    "Utilities: Type of utilities available\n",
    "\t\t\n",
    "       AllPub\tAll public Utilities (E,G,W,& S)\t\n",
    "       NoSewr\tElectricity, Gas, and Water (Septic Tank)\n",
    "       NoSeWa\tElectricity and Gas Only\n",
    "       ELO\tElectricity only\n",
    "\n",
    "OverallCond: Rates the overall condition of the house\n",
    "\n",
    "       10\tVery Excellent\n",
    "       9\tExcellent\n",
    "       8\tVery Good\n",
    "       7\tGood\n",
    "       6\tAbove Average\t\n",
    "       5\tAverage\n",
    "       4\tBelow Average\t\n",
    "       3\tFair\n",
    "       2\tPoor\n",
    "       1\tVery Poor\n",
    "\n",
    "YearBuilt: Original construction date\n",
    "\n",
    "TotalBsmtSF: Total square feet of basement area\n",
    "\n",
    "GrLivArea: Above grade (ground) living area square feet\n",
    "\n",
    "FullBath: Full bathrooms above grade\n",
    "\n",
    "HalfBath: Half baths above grade\n",
    "\n",
    "Bedroom: Bedrooms above grade (does NOT include basement bedrooms)\n",
    "\n",
    "Kitchen: Kitchens above grade\n",
    "\n",
    "TotRmsAbvGrd: Total rooms above grade (does not include bathrooms)\n",
    "\n",
    "GarageArea: Size of garage in square feet\n",
    "\n",
    "OpenPorchSF: Open porch area in square feet\n",
    "\n",
    "EnclosedPorch: Enclosed porch area in square feet\n",
    "\n",
    "PoolArea: Pool area in square feet\n",
    "\n",
    "YrSold: Year Sold (YYYY)\n",
    "\n",
    "SalePrice: the price of the house (target)\n",
    "\n",
    "Perform EDA and suggest what transformation steps might be necessary before a predictive model of house prices can be developed.\n",
    "\n"
   ]
  },
  {
   "cell_type": "code",
   "execution_count": null,
   "id": "3d01e74b-f752-45f2-b0c7-17fb6d976eb4",
   "metadata": {},
   "outputs": [],
   "source": [
    "import pandas as pd\n",
    "import numpy as np\n",
    "import seaborn as sns\n",
    "\n",
    "import matplotlib.pyplot as plt\n",
    "\n",
    "sns.set_theme(palette=\"Set2\")"
   ]
  },
  {
   "cell_type": "code",
   "execution_count": null,
   "id": "d7a11ec2-3c77-498a-ab62-8b6bea451810",
   "metadata": {},
   "outputs": [],
   "source": [
    "# load the data set and display information on its columns\n",
    "???"
   ]
  },
  {
   "cell_type": "markdown",
   "id": "d7932fe4-8bbd-4b4b-9f02-a8656188fa38",
   "metadata": {},
   "source": [
    "# Train-test split\n",
    "\r\n",
    "Split the data into the training and test parts, using 20% for testing. Use random sampling."
   ]
  },
  {
   "cell_type": "code",
   "execution_count": null,
   "id": "efafdadb-ca6e-4576-ad4a-ccb737b2c3b6",
   "metadata": {},
   "outputs": [],
   "source": [
    "???"
   ]
  },
  {
   "cell_type": "markdown",
   "id": "067721ce-990f-44e2-9692-e3e77b4a2eee",
   "metadata": {},
   "source": [
    "# Univariate analysis"
   ]
  },
  {
   "cell_type": "markdown",
   "id": "ecfc9691-ddaf-4e7c-938a-6b208217ee58",
   "metadata": {},
   "source": [
    "## Distribution of categorical variables"
   ]
  },
  {
   "cell_type": "code",
   "execution_count": null,
   "id": "00a5693b-4ea8-46d2-b439-f79a845c46d0",
   "metadata": {},
   "outputs": [],
   "source": [
    "???"
   ]
  },
  {
   "cell_type": "markdown",
   "id": "243b7334-eea5-437f-82d5-e102775a1208",
   "metadata": {},
   "source": [
    "## Distribution of numerical variables"
   ]
  },
  {
   "cell_type": "code",
   "execution_count": null,
   "id": "4c3ff150-ce57-4e06-aeb5-691dcd121c47",
   "metadata": {},
   "outputs": [],
   "source": [
    "???"
   ]
  },
  {
   "cell_type": "markdown",
   "id": "57b7a6f3-f89c-4a3c-a5d9-aa6f08de8f81",
   "metadata": {},
   "source": [
    "# Bivariate analysis"
   ]
  },
  {
   "cell_type": "markdown",
   "id": "9b896b98-a535-4b54-9d0c-0da07a16d179",
   "metadata": {},
   "source": [
    "## Correlation matrix"
   ]
  },
  {
   "cell_type": "code",
   "execution_count": null,
   "id": "76e1bef9-c329-4fff-8dbb-a712498db796",
   "metadata": {},
   "outputs": [],
   "source": [
    "???"
   ]
  },
  {
   "cell_type": "markdown",
   "id": "7ac4c165-fe87-4bf0-a426-3ecae6b020f3",
   "metadata": {},
   "source": [
    "## Scatter matrix"
   ]
  },
  {
   "cell_type": "code",
   "execution_count": null,
   "id": "307943a9-1e86-412f-a6ee-0c3c1d950413",
   "metadata": {},
   "outputs": [],
   "source": [
    "???"
   ]
  },
  {
   "cell_type": "markdown",
   "id": "e8198fc5-ad99-4874-b66a-49f91322d2d0",
   "metadata": {},
   "source": [
    "## Correlations with the target variable"
   ]
  },
  {
   "cell_type": "code",
   "execution_count": null,
   "id": "1edf5fb2-cdce-4158-8e1c-4df5f94309bc",
   "metadata": {},
   "outputs": [],
   "source": [
    "???"
   ]
  },
  {
   "cell_type": "code",
   "execution_count": null,
   "id": "66920ad9-97f1-4edd-9434-39f3bd23f1d9",
   "metadata": {},
   "outputs": [],
   "source": []
  }
 ],
 "metadata": {
  "kernelspec": {
   "display_name": "Python 3 (ipykernel)",
   "language": "python",
   "name": "python3"
  },
  "language_info": {
   "codemirror_mode": {
    "name": "ipython",
    "version": 3
   },
   "file_extension": ".py",
   "mimetype": "text/x-python",
   "name": "python",
   "nbconvert_exporter": "python",
   "pygments_lexer": "ipython3",
   "version": "3.9.18"
  }
 },
 "nbformat": 4,
 "nbformat_minor": 5
}
