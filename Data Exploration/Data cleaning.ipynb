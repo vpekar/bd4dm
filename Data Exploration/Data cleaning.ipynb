{
 "cells": [
  {
   "cell_type": "markdown",
   "metadata": {},
   "source": [
    "# Regression problem\n",
    "\n",
    "The task is to predict the median price of a house on a given district in California, given past records on sold properties in this US state."
   ]
  },
  {
   "cell_type": "code",
   "execution_count": 1,
   "metadata": {
    "ExecuteTime": {
     "end_time": "2022-11-21T21:50:04.046959Z",
     "start_time": "2022-11-21T21:50:01.570063Z"
    }
   },
   "outputs": [],
   "source": [
    "# setting logging to print only error messages from Sklearnex\n",
    "import logging\n",
    "logging.basicConfig()\n",
    "logging.getLogger(\"SKLEARNEX\").setLevel(logging.ERROR)\n",
    "\n",
    "import pandas as pd\n",
    "import numpy as np\n",
    "import seaborn as sns\n",
    "\n",
    "import matplotlib.pyplot as plt\n",
    "\n",
    "from sklearn.model_selection import train_test_split\n",
    "\n",
    "sns.set_theme(palette=\"Set2\")"
   ]
  },
  {
   "cell_type": "markdown",
   "metadata": {},
   "source": [
    "# Load the data"
   ]
  },
  {
   "cell_type": "code",
   "execution_count": 2,
   "metadata": {
    "ExecuteTime": {
     "end_time": "2022-11-21T21:50:04.077883Z",
     "start_time": "2022-11-21T21:50:04.051952Z"
    }
   },
   "outputs": [],
   "source": [
    "import os\n",
    "import tarfile\n",
    "import urllib\n",
    "\n",
    "\n",
    "# the file is archived with tar and gunzip\n",
    "URL = \"https://raw.githubusercontent.com/ageron/handson-ml/master/datasets/housing/housing.tgz\"\n",
    "\n",
    "def get_dataframe():\n",
    "    global URL\n",
    "    \n",
    "    # if the \"datasets\" folder does not exist, create it\n",
    "    if not os.path.exists(\"datasets\"):\n",
    "        os.makedirs(\"datasets\")\n",
    "    \n",
    "    # if the archived file does not exist, download it\n",
    "    if not os.path.exists(\"datasets/housing.tgz\"):\n",
    "        urllib.request.urlretrieve(URL, \"datasets/housing.tgz\")\n",
    "    \n",
    "    # if the unpacked file does not exist, unpack it\n",
    "    if not os.path.exists(\"datasets/housing.csv\"):\n",
    "        infile = tarfile.open(\"datasets/housing.tgz\")\n",
    "        infile.extractall(path=\"datasets\")\n",
    "        infile.close()\n",
    "    \n",
    "    # load the dataframe\n",
    "    return pd.read_csv(\"datasets/housing.csv\")"
   ]
  },
  {
   "cell_type": "code",
   "execution_count": 3,
   "metadata": {
    "ExecuteTime": {
     "end_time": "2022-11-21T21:50:10.684627Z",
     "start_time": "2022-11-21T21:50:04.079877Z"
    }
   },
   "outputs": [],
   "source": [
    "df = get_dataframe()"
   ]
  },
  {
   "cell_type": "code",
   "execution_count": 4,
   "metadata": {
    "ExecuteTime": {
     "end_time": "2022-11-21T21:50:10.716582Z",
     "start_time": "2022-11-21T21:50:10.686669Z"
    }
   },
   "outputs": [
    {
     "data": {
      "text/html": [
       "<div>\n",
       "<style scoped>\n",
       "    .dataframe tbody tr th:only-of-type {\n",
       "        vertical-align: middle;\n",
       "    }\n",
       "\n",
       "    .dataframe tbody tr th {\n",
       "        vertical-align: top;\n",
       "    }\n",
       "\n",
       "    .dataframe thead th {\n",
       "        text-align: right;\n",
       "    }\n",
       "</style>\n",
       "<table border=\"1\" class=\"dataframe\">\n",
       "  <thead>\n",
       "    <tr style=\"text-align: right;\">\n",
       "      <th></th>\n",
       "      <th>longitude</th>\n",
       "      <th>latitude</th>\n",
       "      <th>housing_median_age</th>\n",
       "      <th>total_rooms</th>\n",
       "      <th>total_bedrooms</th>\n",
       "      <th>population</th>\n",
       "      <th>households</th>\n",
       "      <th>median_income</th>\n",
       "      <th>median_house_value</th>\n",
       "      <th>ocean_proximity</th>\n",
       "    </tr>\n",
       "  </thead>\n",
       "  <tbody>\n",
       "    <tr>\n",
       "      <th>0</th>\n",
       "      <td>-122.23</td>\n",
       "      <td>37.88</td>\n",
       "      <td>41.0</td>\n",
       "      <td>880.0</td>\n",
       "      <td>129.0</td>\n",
       "      <td>322.0</td>\n",
       "      <td>126.0</td>\n",
       "      <td>8.3252</td>\n",
       "      <td>452600.0</td>\n",
       "      <td>NEAR BAY</td>\n",
       "    </tr>\n",
       "    <tr>\n",
       "      <th>1</th>\n",
       "      <td>-122.22</td>\n",
       "      <td>37.86</td>\n",
       "      <td>21.0</td>\n",
       "      <td>7099.0</td>\n",
       "      <td>1106.0</td>\n",
       "      <td>2401.0</td>\n",
       "      <td>1138.0</td>\n",
       "      <td>8.3014</td>\n",
       "      <td>358500.0</td>\n",
       "      <td>NEAR BAY</td>\n",
       "    </tr>\n",
       "    <tr>\n",
       "      <th>2</th>\n",
       "      <td>-122.24</td>\n",
       "      <td>37.85</td>\n",
       "      <td>52.0</td>\n",
       "      <td>1467.0</td>\n",
       "      <td>190.0</td>\n",
       "      <td>496.0</td>\n",
       "      <td>177.0</td>\n",
       "      <td>7.2574</td>\n",
       "      <td>352100.0</td>\n",
       "      <td>NEAR BAY</td>\n",
       "    </tr>\n",
       "    <tr>\n",
       "      <th>3</th>\n",
       "      <td>-122.25</td>\n",
       "      <td>37.85</td>\n",
       "      <td>52.0</td>\n",
       "      <td>1274.0</td>\n",
       "      <td>235.0</td>\n",
       "      <td>558.0</td>\n",
       "      <td>219.0</td>\n",
       "      <td>5.6431</td>\n",
       "      <td>341300.0</td>\n",
       "      <td>NEAR BAY</td>\n",
       "    </tr>\n",
       "    <tr>\n",
       "      <th>4</th>\n",
       "      <td>-122.25</td>\n",
       "      <td>37.85</td>\n",
       "      <td>52.0</td>\n",
       "      <td>1627.0</td>\n",
       "      <td>280.0</td>\n",
       "      <td>565.0</td>\n",
       "      <td>259.0</td>\n",
       "      <td>3.8462</td>\n",
       "      <td>342200.0</td>\n",
       "      <td>NEAR BAY</td>\n",
       "    </tr>\n",
       "  </tbody>\n",
       "</table>\n",
       "</div>"
      ],
      "text/plain": [
       "   longitude  latitude  housing_median_age  total_rooms  total_bedrooms  \\\n",
       "0    -122.23     37.88                41.0        880.0           129.0   \n",
       "1    -122.22     37.86                21.0       7099.0          1106.0   \n",
       "2    -122.24     37.85                52.0       1467.0           190.0   \n",
       "3    -122.25     37.85                52.0       1274.0           235.0   \n",
       "4    -122.25     37.85                52.0       1627.0           280.0   \n",
       "\n",
       "   population  households  median_income  median_house_value ocean_proximity  \n",
       "0       322.0       126.0         8.3252            452600.0        NEAR BAY  \n",
       "1      2401.0      1138.0         8.3014            358500.0        NEAR BAY  \n",
       "2       496.0       177.0         7.2574            352100.0        NEAR BAY  \n",
       "3       558.0       219.0         5.6431            341300.0        NEAR BAY  \n",
       "4       565.0       259.0         3.8462            342200.0        NEAR BAY  "
      ]
     },
     "execution_count": 4,
     "metadata": {},
     "output_type": "execute_result"
    }
   ],
   "source": [
    "# inspect the first couple of rows\n",
    "df.head()"
   ]
  },
  {
   "cell_type": "code",
   "execution_count": 5,
   "metadata": {
    "ExecuteTime": {
     "end_time": "2022-11-21T21:50:10.732540Z",
     "start_time": "2022-11-21T21:50:10.718541Z"
    }
   },
   "outputs": [
    {
     "data": {
      "text/plain": [
       "(20640, 10)"
      ]
     },
     "execution_count": 5,
     "metadata": {},
     "output_type": "execute_result"
    }
   ],
   "source": [
    "# the size of the dataset\n",
    "df.shape"
   ]
  },
  {
   "cell_type": "markdown",
   "metadata": {},
   "source": [
    "# Train-test split"
   ]
  },
  {
   "cell_type": "code",
   "execution_count": 6,
   "metadata": {
    "ExecuteTime": {
     "end_time": "2022-11-21T21:50:11.473438Z",
     "start_time": "2022-11-21T21:50:11.459476Z"
    }
   },
   "outputs": [],
   "source": [
    "df[\"income_cat\"] = pd.cut(df[\"median_income\"], bins=[0., 1.5, 3.0, 4.5, 6., np.inf],\n",
    "                          labels=[1, 2, 3, 4, 5])"
   ]
  },
  {
   "cell_type": "code",
   "execution_count": 7,
   "metadata": {
    "ExecuteTime": {
     "end_time": "2022-11-21T21:50:13.576971Z",
     "start_time": "2022-11-21T21:50:13.547016Z"
    }
   },
   "outputs": [],
   "source": [
    "trainset, testset = train_test_split(df, test_size=0.2, random_state=7,\n",
    "                                     stratify=df[\"income_cat\"])"
   ]
  },
  {
   "cell_type": "code",
   "execution_count": 8,
   "metadata": {
    "ExecuteTime": {
     "end_time": "2022-11-21T21:50:13.655762Z",
     "start_time": "2022-11-21T21:50:13.641762Z"
    }
   },
   "outputs": [],
   "source": [
    "del trainset[\"income_cat\"]\n",
    "del testset[\"income_cat\"]"
   ]
  },
  {
   "cell_type": "markdown",
   "metadata": {},
   "source": [
    "# Feature engineering"
   ]
  },
  {
   "cell_type": "code",
   "execution_count": 9,
   "metadata": {
    "ExecuteTime": {
     "end_time": "2022-11-21T21:50:20.608085Z",
     "start_time": "2022-11-21T21:50:20.597129Z"
    }
   },
   "outputs": [],
   "source": [
    "# create two new features\n",
    "trainset[\"rooms_per_household\"] = trainset[\"total_rooms\"]/trainset[\"households\"]\n",
    "trainset[\"population_per_household\"] = trainset[\"population\"]/trainset[\"households\"]"
   ]
  },
  {
   "cell_type": "code",
   "execution_count": 10,
   "metadata": {
    "ExecuteTime": {
     "end_time": "2022-11-21T21:50:20.640004Z",
     "start_time": "2022-11-21T21:50:20.610082Z"
    }
   },
   "outputs": [
    {
     "data": {
      "text/plain": [
       "median_house_value          1.000000\n",
       "median_income               0.686289\n",
       "rooms_per_household         0.147401\n",
       "total_rooms                 0.135723\n",
       "housing_median_age          0.109030\n",
       "households                  0.066404\n",
       "total_bedrooms              0.050819\n",
       "population_per_household   -0.021876\n",
       "population                 -0.024405\n",
       "longitude                  -0.045513\n",
       "latitude                   -0.145896\n",
       "Name: median_house_value, dtype: float64"
      ]
     },
     "execution_count": 10,
     "metadata": {},
     "output_type": "execute_result"
    }
   ],
   "source": [
    "corr_matrix = trainset.corr(numeric_only=True)\n",
    "corr_matrix['median_house_value'].sort_values(ascending=False)"
   ]
  },
  {
   "cell_type": "code",
   "execution_count": 11,
   "metadata": {
    "ExecuteTime": {
     "end_time": "2022-11-21T21:50:20.655957Z",
     "start_time": "2022-11-21T21:50:20.643991Z"
    }
   },
   "outputs": [],
   "source": [
    "testset[\"rooms_per_household\"] = testset[\"total_rooms\"]/testset[\"households\"]\n",
    "testset[\"population_per_household\"] = testset[\"population\"]/testset[\"households\"]"
   ]
  },
  {
   "cell_type": "code",
   "execution_count": 12,
   "metadata": {},
   "outputs": [
    {
     "data": {
      "text/plain": [
       "array(['NEAR OCEAN', 'NEAR BAY', 'INLAND', '<1H OCEAN'], dtype=object)"
      ]
     },
     "execution_count": 12,
     "metadata": {},
     "output_type": "execute_result"
    }
   ],
   "source": [
    "# rename \"ISLAND\" to \"NEAR OCEAN\"\n",
    "trainset[\"ocean_proximity\"] = trainset[\"ocean_proximity\"].replace(\"ISLAND\", \"NEAR OCEAN\")\n",
    "testset[\"ocean_proximity\"] = testset[\"ocean_proximity\"].replace(\"ISLAND\", \"NEAR OCEAN\")\n",
    "trainset[\"ocean_proximity\"].unique()"
   ]
  },
  {
   "cell_type": "code",
   "execution_count": 13,
   "metadata": {},
   "outputs": [
    {
     "name": "stdout",
     "output_type": "stream",
     "text": [
      "Before: 16512 train instances, 4128 test instances\n",
      "After: 15735 train instances, 3940 test instances\n"
     ]
    }
   ],
   "source": [
    "# delete capped values\n",
    "    \n",
    "print(f\"Before: {trainset.shape[0]} train instances, {testset.shape[0]} test instances\")\n",
    "\n",
    "trainset.drop(trainset[trainset[\"median_house_value\"] >= 500001].index, inplace=True)\n",
    "testset.drop(testset[testset[\"median_house_value\"] >= 500001].index, inplace=True)\n",
    "\n",
    "print(f\"After: {trainset.shape[0]} train instances, {testset.shape[0]} test instances\")"
   ]
  },
  {
   "cell_type": "markdown",
   "metadata": {},
   "source": [
    "# Dummy variables"
   ]
  },
  {
   "cell_type": "code",
   "execution_count": 14,
   "metadata": {
    "ExecuteTime": {
     "end_time": "2022-11-21T21:50:21.362084Z",
     "start_time": "2022-11-21T21:50:21.303240Z"
    }
   },
   "outputs": [],
   "source": [
    "from sklearn.preprocessing import OneHotEncoder\n",
    "\n",
    "one_hot_encoder = OneHotEncoder(drop=\"first\", sparse=False)"
   ]
  },
  {
   "cell_type": "code",
   "execution_count": 15,
   "metadata": {},
   "outputs": [
    {
     "data": {
      "text/html": [
       "<div>\n",
       "<style scoped>\n",
       "    .dataframe tbody tr th:only-of-type {\n",
       "        vertical-align: middle;\n",
       "    }\n",
       "\n",
       "    .dataframe tbody tr th {\n",
       "        vertical-align: top;\n",
       "    }\n",
       "\n",
       "    .dataframe thead th {\n",
       "        text-align: right;\n",
       "    }\n",
       "</style>\n",
       "<table border=\"1\" class=\"dataframe\">\n",
       "  <thead>\n",
       "    <tr style=\"text-align: right;\">\n",
       "      <th></th>\n",
       "      <th>ocean_proximity</th>\n",
       "    </tr>\n",
       "  </thead>\n",
       "  <tbody>\n",
       "    <tr>\n",
       "      <th>8088</th>\n",
       "      <td>NEAR OCEAN</td>\n",
       "    </tr>\n",
       "    <tr>\n",
       "      <th>15259</th>\n",
       "      <td>NEAR OCEAN</td>\n",
       "    </tr>\n",
       "    <tr>\n",
       "      <th>710</th>\n",
       "      <td>NEAR BAY</td>\n",
       "    </tr>\n",
       "    <tr>\n",
       "      <th>12828</th>\n",
       "      <td>INLAND</td>\n",
       "    </tr>\n",
       "    <tr>\n",
       "      <th>1327</th>\n",
       "      <td>INLAND</td>\n",
       "    </tr>\n",
       "    <tr>\n",
       "      <th>...</th>\n",
       "      <td>...</td>\n",
       "    </tr>\n",
       "    <tr>\n",
       "      <th>8285</th>\n",
       "      <td>NEAR OCEAN</td>\n",
       "    </tr>\n",
       "    <tr>\n",
       "      <th>20569</th>\n",
       "      <td>INLAND</td>\n",
       "    </tr>\n",
       "    <tr>\n",
       "      <th>12632</th>\n",
       "      <td>INLAND</td>\n",
       "    </tr>\n",
       "    <tr>\n",
       "      <th>5135</th>\n",
       "      <td>&lt;1H OCEAN</td>\n",
       "    </tr>\n",
       "    <tr>\n",
       "      <th>2786</th>\n",
       "      <td>INLAND</td>\n",
       "    </tr>\n",
       "  </tbody>\n",
       "</table>\n",
       "<p>15735 rows × 1 columns</p>\n",
       "</div>"
      ],
      "text/plain": [
       "      ocean_proximity\n",
       "8088       NEAR OCEAN\n",
       "15259      NEAR OCEAN\n",
       "710          NEAR BAY\n",
       "12828          INLAND\n",
       "1327           INLAND\n",
       "...               ...\n",
       "8285       NEAR OCEAN\n",
       "20569          INLAND\n",
       "12632          INLAND\n",
       "5135        <1H OCEAN\n",
       "2786           INLAND\n",
       "\n",
       "[15735 rows x 1 columns]"
      ]
     },
     "execution_count": 15,
     "metadata": {},
     "output_type": "execute_result"
    }
   ],
   "source": [
    "# categorical columns to transform\n",
    "cat_cols = [\"ocean_proximity\"]\n",
    "\n",
    "# fit an encoder and transform the **trainset**\n",
    "cat_vals = trainset[cat_cols]\n",
    "cat_vals"
   ]
  },
  {
   "cell_type": "code",
   "execution_count": 16,
   "metadata": {},
   "outputs": [
    {
     "name": "stderr",
     "output_type": "stream",
     "text": [
      "C:\\Users\\pekarv\\Anaconda3\\envs\\.env\\lib\\site-packages\\sklearn\\preprocessing\\_encoders.py:972: FutureWarning: `sparse` was renamed to `sparse_output` in version 1.2 and will be removed in 1.4. `sparse_output` is ignored unless you leave `sparse` to its default value.\n",
      "  warnings.warn(\n"
     ]
    },
    {
     "data": {
      "text/plain": [
       "array([[0., 0., 1.],\n",
       "       [0., 0., 1.],\n",
       "       [0., 1., 0.],\n",
       "       ...,\n",
       "       [1., 0., 0.],\n",
       "       [0., 0., 0.],\n",
       "       [1., 0., 0.]])"
      ]
     },
     "execution_count": 16,
     "metadata": {},
     "output_type": "execute_result"
    }
   ],
   "source": [
    "transformed = one_hot_encoder.fit_transform(cat_vals)\n",
    "transformed"
   ]
  },
  {
   "cell_type": "code",
   "execution_count": 17,
   "metadata": {},
   "outputs": [
    {
     "data": {
      "text/plain": [
       "array(['ocean_proximity_INLAND', 'ocean_proximity_NEAR BAY',\n",
       "       'ocean_proximity_NEAR OCEAN'], dtype=object)"
      ]
     },
     "execution_count": 17,
     "metadata": {},
     "output_type": "execute_result"
    }
   ],
   "source": [
    "# the names of the new columns are the unique values of \"ocean_proximity\"\n",
    "new_col_names = one_hot_encoder.get_feature_names_out(cat_cols)\n",
    "new_col_names"
   ]
  },
  {
   "cell_type": "code",
   "execution_count": 18,
   "metadata": {},
   "outputs": [
    {
     "data": {
      "text/html": [
       "<div>\n",
       "<style scoped>\n",
       "    .dataframe tbody tr th:only-of-type {\n",
       "        vertical-align: middle;\n",
       "    }\n",
       "\n",
       "    .dataframe tbody tr th {\n",
       "        vertical-align: top;\n",
       "    }\n",
       "\n",
       "    .dataframe thead th {\n",
       "        text-align: right;\n",
       "    }\n",
       "</style>\n",
       "<table border=\"1\" class=\"dataframe\">\n",
       "  <thead>\n",
       "    <tr style=\"text-align: right;\">\n",
       "      <th></th>\n",
       "      <th>longitude</th>\n",
       "      <th>latitude</th>\n",
       "      <th>housing_median_age</th>\n",
       "      <th>total_rooms</th>\n",
       "      <th>total_bedrooms</th>\n",
       "      <th>population</th>\n",
       "      <th>households</th>\n",
       "      <th>median_income</th>\n",
       "      <th>median_house_value</th>\n",
       "      <th>ocean_proximity</th>\n",
       "      <th>rooms_per_household</th>\n",
       "      <th>population_per_household</th>\n",
       "      <th>ocean_proximity_INLAND</th>\n",
       "      <th>ocean_proximity_NEAR BAY</th>\n",
       "      <th>ocean_proximity_NEAR OCEAN</th>\n",
       "    </tr>\n",
       "  </thead>\n",
       "  <tbody>\n",
       "    <tr>\n",
       "      <th>8088</th>\n",
       "      <td>-118.21</td>\n",
       "      <td>33.82</td>\n",
       "      <td>34.0</td>\n",
       "      <td>1719.0</td>\n",
       "      <td>398.0</td>\n",
       "      <td>1444.0</td>\n",
       "      <td>372.0</td>\n",
       "      <td>2.8438</td>\n",
       "      <td>139300.0</td>\n",
       "      <td>NEAR OCEAN</td>\n",
       "      <td>4.620968</td>\n",
       "      <td>3.881720</td>\n",
       "      <td>0.0</td>\n",
       "      <td>0.0</td>\n",
       "      <td>1.0</td>\n",
       "    </tr>\n",
       "    <tr>\n",
       "      <th>15259</th>\n",
       "      <td>-117.27</td>\n",
       "      <td>33.03</td>\n",
       "      <td>25.0</td>\n",
       "      <td>1787.0</td>\n",
       "      <td>311.0</td>\n",
       "      <td>1108.0</td>\n",
       "      <td>311.0</td>\n",
       "      <td>3.9826</td>\n",
       "      <td>215800.0</td>\n",
       "      <td>NEAR OCEAN</td>\n",
       "      <td>5.745981</td>\n",
       "      <td>3.562701</td>\n",
       "      <td>0.0</td>\n",
       "      <td>0.0</td>\n",
       "      <td>1.0</td>\n",
       "    </tr>\n",
       "    <tr>\n",
       "      <th>710</th>\n",
       "      <td>-122.08</td>\n",
       "      <td>37.68</td>\n",
       "      <td>26.0</td>\n",
       "      <td>1167.0</td>\n",
       "      <td>370.0</td>\n",
       "      <td>253.0</td>\n",
       "      <td>137.0</td>\n",
       "      <td>2.4196</td>\n",
       "      <td>275000.0</td>\n",
       "      <td>NEAR BAY</td>\n",
       "      <td>8.518248</td>\n",
       "      <td>1.846715</td>\n",
       "      <td>0.0</td>\n",
       "      <td>1.0</td>\n",
       "      <td>0.0</td>\n",
       "    </tr>\n",
       "    <tr>\n",
       "      <th>12828</th>\n",
       "      <td>-121.45</td>\n",
       "      <td>38.70</td>\n",
       "      <td>24.0</td>\n",
       "      <td>2159.0</td>\n",
       "      <td>369.0</td>\n",
       "      <td>1141.0</td>\n",
       "      <td>355.0</td>\n",
       "      <td>3.9853</td>\n",
       "      <td>90400.0</td>\n",
       "      <td>INLAND</td>\n",
       "      <td>6.081690</td>\n",
       "      <td>3.214085</td>\n",
       "      <td>1.0</td>\n",
       "      <td>0.0</td>\n",
       "      <td>0.0</td>\n",
       "    </tr>\n",
       "    <tr>\n",
       "      <th>1327</th>\n",
       "      <td>-121.90</td>\n",
       "      <td>38.02</td>\n",
       "      <td>5.0</td>\n",
       "      <td>1560.0</td>\n",
       "      <td>369.0</td>\n",
       "      <td>1037.0</td>\n",
       "      <td>372.0</td>\n",
       "      <td>3.6154</td>\n",
       "      <td>181800.0</td>\n",
       "      <td>INLAND</td>\n",
       "      <td>4.193548</td>\n",
       "      <td>2.787634</td>\n",
       "      <td>1.0</td>\n",
       "      <td>0.0</td>\n",
       "      <td>0.0</td>\n",
       "    </tr>\n",
       "  </tbody>\n",
       "</table>\n",
       "</div>"
      ],
      "text/plain": [
       "       longitude  latitude  housing_median_age  total_rooms  total_bedrooms  \\\n",
       "8088     -118.21     33.82                34.0       1719.0           398.0   \n",
       "15259    -117.27     33.03                25.0       1787.0           311.0   \n",
       "710      -122.08     37.68                26.0       1167.0           370.0   \n",
       "12828    -121.45     38.70                24.0       2159.0           369.0   \n",
       "1327     -121.90     38.02                 5.0       1560.0           369.0   \n",
       "\n",
       "       population  households  median_income  median_house_value  \\\n",
       "8088       1444.0       372.0         2.8438            139300.0   \n",
       "15259      1108.0       311.0         3.9826            215800.0   \n",
       "710         253.0       137.0         2.4196            275000.0   \n",
       "12828      1141.0       355.0         3.9853             90400.0   \n",
       "1327       1037.0       372.0         3.6154            181800.0   \n",
       "\n",
       "      ocean_proximity  rooms_per_household  population_per_household  \\\n",
       "8088       NEAR OCEAN             4.620968                  3.881720   \n",
       "15259      NEAR OCEAN             5.745981                  3.562701   \n",
       "710          NEAR BAY             8.518248                  1.846715   \n",
       "12828          INLAND             6.081690                  3.214085   \n",
       "1327           INLAND             4.193548                  2.787634   \n",
       "\n",
       "       ocean_proximity_INLAND  ocean_proximity_NEAR BAY  \\\n",
       "8088                      0.0                       0.0   \n",
       "15259                     0.0                       0.0   \n",
       "710                       0.0                       1.0   \n",
       "12828                     1.0                       0.0   \n",
       "1327                      1.0                       0.0   \n",
       "\n",
       "       ocean_proximity_NEAR OCEAN  \n",
       "8088                          1.0  \n",
       "15259                         1.0  \n",
       "710                           0.0  \n",
       "12828                         0.0  \n",
       "1327                          0.0  "
      ]
     },
     "execution_count": 18,
     "metadata": {},
     "output_type": "execute_result"
    }
   ],
   "source": [
    "# put the transformed data as columns in the trainset dataframe\n",
    "for i, new_col_name in enumerate(new_col_names):\n",
    "    trainset[new_col_name] = transformed[:,i]\n",
    "\n",
    "# check if the dummies are produced correctly in the trainset\n",
    "trainset.head()"
   ]
  },
  {
   "cell_type": "code",
   "execution_count": 19,
   "metadata": {
    "ExecuteTime": {
     "end_time": "2022-11-21T21:50:21.378040Z",
     "start_time": "2022-11-21T21:50:21.364116Z"
    }
   },
   "outputs": [],
   "source": [
    "# delete the categorical column\n",
    "del trainset['ocean_proximity']"
   ]
  },
  {
   "cell_type": "code",
   "execution_count": 20,
   "metadata": {
    "ExecuteTime": {
     "end_time": "2022-11-21T21:50:21.424950Z",
     "start_time": "2022-11-21T21:50:21.380035Z"
    }
   },
   "outputs": [
    {
     "data": {
      "text/html": [
       "<div>\n",
       "<style scoped>\n",
       "    .dataframe tbody tr th:only-of-type {\n",
       "        vertical-align: middle;\n",
       "    }\n",
       "\n",
       "    .dataframe tbody tr th {\n",
       "        vertical-align: top;\n",
       "    }\n",
       "\n",
       "    .dataframe thead th {\n",
       "        text-align: right;\n",
       "    }\n",
       "</style>\n",
       "<table border=\"1\" class=\"dataframe\">\n",
       "  <thead>\n",
       "    <tr style=\"text-align: right;\">\n",
       "      <th></th>\n",
       "      <th>longitude</th>\n",
       "      <th>latitude</th>\n",
       "      <th>housing_median_age</th>\n",
       "      <th>total_rooms</th>\n",
       "      <th>total_bedrooms</th>\n",
       "      <th>population</th>\n",
       "      <th>households</th>\n",
       "      <th>median_income</th>\n",
       "      <th>median_house_value</th>\n",
       "      <th>ocean_proximity</th>\n",
       "      <th>rooms_per_household</th>\n",
       "      <th>population_per_household</th>\n",
       "      <th>ocean_proximity_INLAND</th>\n",
       "      <th>ocean_proximity_NEAR BAY</th>\n",
       "      <th>ocean_proximity_NEAR OCEAN</th>\n",
       "    </tr>\n",
       "  </thead>\n",
       "  <tbody>\n",
       "    <tr>\n",
       "      <th>19752</th>\n",
       "      <td>-122.22</td>\n",
       "      <td>40.18</td>\n",
       "      <td>13.0</td>\n",
       "      <td>3719.0</td>\n",
       "      <td>803.0</td>\n",
       "      <td>1754.0</td>\n",
       "      <td>764.0</td>\n",
       "      <td>2.3517</td>\n",
       "      <td>88900.0</td>\n",
       "      <td>INLAND</td>\n",
       "      <td>4.867801</td>\n",
       "      <td>2.295812</td>\n",
       "      <td>1.0</td>\n",
       "      <td>0.0</td>\n",
       "      <td>0.0</td>\n",
       "    </tr>\n",
       "    <tr>\n",
       "      <th>17692</th>\n",
       "      <td>-121.81</td>\n",
       "      <td>37.29</td>\n",
       "      <td>15.0</td>\n",
       "      <td>5957.0</td>\n",
       "      <td>1037.0</td>\n",
       "      <td>3838.0</td>\n",
       "      <td>997.0</td>\n",
       "      <td>6.2907</td>\n",
       "      <td>253100.0</td>\n",
       "      <td>&lt;1H OCEAN</td>\n",
       "      <td>5.974925</td>\n",
       "      <td>3.849549</td>\n",
       "      <td>0.0</td>\n",
       "      <td>0.0</td>\n",
       "      <td>0.0</td>\n",
       "    </tr>\n",
       "    <tr>\n",
       "      <th>1689</th>\n",
       "      <td>-122.26</td>\n",
       "      <td>38.02</td>\n",
       "      <td>5.0</td>\n",
       "      <td>3846.0</td>\n",
       "      <td>786.0</td>\n",
       "      <td>2053.0</td>\n",
       "      <td>716.0</td>\n",
       "      <td>5.0473</td>\n",
       "      <td>184800.0</td>\n",
       "      <td>NEAR BAY</td>\n",
       "      <td>5.371508</td>\n",
       "      <td>2.867318</td>\n",
       "      <td>0.0</td>\n",
       "      <td>1.0</td>\n",
       "      <td>0.0</td>\n",
       "    </tr>\n",
       "    <tr>\n",
       "      <th>8369</th>\n",
       "      <td>-118.34</td>\n",
       "      <td>33.98</td>\n",
       "      <td>47.0</td>\n",
       "      <td>2649.0</td>\n",
       "      <td>684.0</td>\n",
       "      <td>2374.0</td>\n",
       "      <td>607.0</td>\n",
       "      <td>2.3882</td>\n",
       "      <td>137700.0</td>\n",
       "      <td>&lt;1H OCEAN</td>\n",
       "      <td>4.364086</td>\n",
       "      <td>3.911038</td>\n",
       "      <td>0.0</td>\n",
       "      <td>0.0</td>\n",
       "      <td>0.0</td>\n",
       "    </tr>\n",
       "    <tr>\n",
       "      <th>17245</th>\n",
       "      <td>-119.67</td>\n",
       "      <td>34.42</td>\n",
       "      <td>37.0</td>\n",
       "      <td>1673.0</td>\n",
       "      <td>444.0</td>\n",
       "      <td>1477.0</td>\n",
       "      <td>446.0</td>\n",
       "      <td>2.0643</td>\n",
       "      <td>246700.0</td>\n",
       "      <td>&lt;1H OCEAN</td>\n",
       "      <td>3.751121</td>\n",
       "      <td>3.311659</td>\n",
       "      <td>0.0</td>\n",
       "      <td>0.0</td>\n",
       "      <td>0.0</td>\n",
       "    </tr>\n",
       "  </tbody>\n",
       "</table>\n",
       "</div>"
      ],
      "text/plain": [
       "       longitude  latitude  housing_median_age  total_rooms  total_bedrooms  \\\n",
       "19752    -122.22     40.18                13.0       3719.0           803.0   \n",
       "17692    -121.81     37.29                15.0       5957.0          1037.0   \n",
       "1689     -122.26     38.02                 5.0       3846.0           786.0   \n",
       "8369     -118.34     33.98                47.0       2649.0           684.0   \n",
       "17245    -119.67     34.42                37.0       1673.0           444.0   \n",
       "\n",
       "       population  households  median_income  median_house_value  \\\n",
       "19752      1754.0       764.0         2.3517             88900.0   \n",
       "17692      3838.0       997.0         6.2907            253100.0   \n",
       "1689       2053.0       716.0         5.0473            184800.0   \n",
       "8369       2374.0       607.0         2.3882            137700.0   \n",
       "17245      1477.0       446.0         2.0643            246700.0   \n",
       "\n",
       "      ocean_proximity  rooms_per_household  population_per_household  \\\n",
       "19752          INLAND             4.867801                  2.295812   \n",
       "17692       <1H OCEAN             5.974925                  3.849549   \n",
       "1689         NEAR BAY             5.371508                  2.867318   \n",
       "8369        <1H OCEAN             4.364086                  3.911038   \n",
       "17245       <1H OCEAN             3.751121                  3.311659   \n",
       "\n",
       "       ocean_proximity_INLAND  ocean_proximity_NEAR BAY  \\\n",
       "19752                     1.0                       0.0   \n",
       "17692                     0.0                       0.0   \n",
       "1689                      0.0                       1.0   \n",
       "8369                      0.0                       0.0   \n",
       "17245                     0.0                       0.0   \n",
       "\n",
       "       ocean_proximity_NEAR OCEAN  \n",
       "19752                         0.0  \n",
       "17692                         0.0  \n",
       "1689                          0.0  \n",
       "8369                          0.0  \n",
       "17245                         0.0  "
      ]
     },
     "execution_count": 20,
     "metadata": {},
     "output_type": "execute_result"
    }
   ],
   "source": [
    "# transform the **testset** using the encoder fitted on trainset\n",
    "cat_vals = testset[cat_cols]\n",
    "transformed = one_hot_encoder.transform(cat_vals)\n",
    "\n",
    "# put the transformed data as columns in the testset dataframe\n",
    "for i, new_col_name in enumerate(new_col_names):\n",
    "    testset[new_col_name] = transformed[:,i]\n",
    "    \n",
    "# check if the dummies are produced correctly in the testset\n",
    "testset.head()"
   ]
  },
  {
   "cell_type": "code",
   "execution_count": 21,
   "metadata": {
    "ExecuteTime": {
     "end_time": "2022-11-21T21:50:21.440472Z",
     "start_time": "2022-11-21T21:50:21.426912Z"
    }
   },
   "outputs": [],
   "source": [
    "# delete the categorical column also in the test set\n",
    "del testset['ocean_proximity']"
   ]
  },
  {
   "cell_type": "markdown",
   "metadata": {},
   "source": [
    "# Missing values\n",
    "\n",
    "## SimpleImputer"
   ]
  },
  {
   "cell_type": "code",
   "execution_count": 22,
   "metadata": {
    "ExecuteTime": {
     "end_time": "2022-11-21T21:50:20.671916Z",
     "start_time": "2022-11-21T21:50:20.657953Z"
    }
   },
   "outputs": [
    {
     "data": {
      "text/plain": [
       "longitude                       0\n",
       "latitude                        0\n",
       "housing_median_age              0\n",
       "total_rooms                     0\n",
       "total_bedrooms                150\n",
       "population                      0\n",
       "households                      0\n",
       "median_income                   0\n",
       "median_house_value              0\n",
       "rooms_per_household             0\n",
       "population_per_household        0\n",
       "ocean_proximity_INLAND          0\n",
       "ocean_proximity_NEAR BAY        0\n",
       "ocean_proximity_NEAR OCEAN      0\n",
       "dtype: int64"
      ]
     },
     "execution_count": 22,
     "metadata": {},
     "output_type": "execute_result"
    }
   ],
   "source": [
    "trainset.isnull().sum()"
   ]
  },
  {
   "cell_type": "code",
   "execution_count": 23,
   "metadata": {},
   "outputs": [
    {
     "data": {
      "text/plain": [
       "longitude                      0\n",
       "latitude                       0\n",
       "housing_median_age             0\n",
       "total_rooms                    0\n",
       "total_bedrooms                50\n",
       "population                     0\n",
       "households                     0\n",
       "median_income                  0\n",
       "median_house_value             0\n",
       "rooms_per_household            0\n",
       "population_per_household       0\n",
       "ocean_proximity_INLAND         0\n",
       "ocean_proximity_NEAR BAY       0\n",
       "ocean_proximity_NEAR OCEAN     0\n",
       "dtype: int64"
      ]
     },
     "execution_count": 23,
     "metadata": {},
     "output_type": "execute_result"
    }
   ],
   "source": [
    "testset.isnull().sum()"
   ]
  },
  {
   "cell_type": "code",
   "execution_count": 24,
   "metadata": {
    "ExecuteTime": {
     "end_time": "2022-11-21T21:50:20.702833Z",
     "start_time": "2022-11-21T21:50:20.673909Z"
    }
   },
   "outputs": [
    {
     "data": {
      "text/html": [
       "<style>#sk-container-id-1 {color: black;}#sk-container-id-1 pre{padding: 0;}#sk-container-id-1 div.sk-toggleable {background-color: white;}#sk-container-id-1 label.sk-toggleable__label {cursor: pointer;display: block;width: 100%;margin-bottom: 0;padding: 0.3em;box-sizing: border-box;text-align: center;}#sk-container-id-1 label.sk-toggleable__label-arrow:before {content: \"▸\";float: left;margin-right: 0.25em;color: #696969;}#sk-container-id-1 label.sk-toggleable__label-arrow:hover:before {color: black;}#sk-container-id-1 div.sk-estimator:hover label.sk-toggleable__label-arrow:before {color: black;}#sk-container-id-1 div.sk-toggleable__content {max-height: 0;max-width: 0;overflow: hidden;text-align: left;background-color: #f0f8ff;}#sk-container-id-1 div.sk-toggleable__content pre {margin: 0.2em;color: black;border-radius: 0.25em;background-color: #f0f8ff;}#sk-container-id-1 input.sk-toggleable__control:checked~div.sk-toggleable__content {max-height: 200px;max-width: 100%;overflow: auto;}#sk-container-id-1 input.sk-toggleable__control:checked~label.sk-toggleable__label-arrow:before {content: \"▾\";}#sk-container-id-1 div.sk-estimator input.sk-toggleable__control:checked~label.sk-toggleable__label {background-color: #d4ebff;}#sk-container-id-1 div.sk-label input.sk-toggleable__control:checked~label.sk-toggleable__label {background-color: #d4ebff;}#sk-container-id-1 input.sk-hidden--visually {border: 0;clip: rect(1px 1px 1px 1px);clip: rect(1px, 1px, 1px, 1px);height: 1px;margin: -1px;overflow: hidden;padding: 0;position: absolute;width: 1px;}#sk-container-id-1 div.sk-estimator {font-family: monospace;background-color: #f0f8ff;border: 1px dotted black;border-radius: 0.25em;box-sizing: border-box;margin-bottom: 0.5em;}#sk-container-id-1 div.sk-estimator:hover {background-color: #d4ebff;}#sk-container-id-1 div.sk-parallel-item::after {content: \"\";width: 100%;border-bottom: 1px solid gray;flex-grow: 1;}#sk-container-id-1 div.sk-label:hover label.sk-toggleable__label {background-color: #d4ebff;}#sk-container-id-1 div.sk-serial::before {content: \"\";position: absolute;border-left: 1px solid gray;box-sizing: border-box;top: 0;bottom: 0;left: 50%;z-index: 0;}#sk-container-id-1 div.sk-serial {display: flex;flex-direction: column;align-items: center;background-color: white;padding-right: 0.2em;padding-left: 0.2em;position: relative;}#sk-container-id-1 div.sk-item {position: relative;z-index: 1;}#sk-container-id-1 div.sk-parallel {display: flex;align-items: stretch;justify-content: center;background-color: white;position: relative;}#sk-container-id-1 div.sk-item::before, #sk-container-id-1 div.sk-parallel-item::before {content: \"\";position: absolute;border-left: 1px solid gray;box-sizing: border-box;top: 0;bottom: 0;left: 50%;z-index: -1;}#sk-container-id-1 div.sk-parallel-item {display: flex;flex-direction: column;z-index: 1;position: relative;background-color: white;}#sk-container-id-1 div.sk-parallel-item:first-child::after {align-self: flex-end;width: 50%;}#sk-container-id-1 div.sk-parallel-item:last-child::after {align-self: flex-start;width: 50%;}#sk-container-id-1 div.sk-parallel-item:only-child::after {width: 0;}#sk-container-id-1 div.sk-dashed-wrapped {border: 1px dashed gray;margin: 0 0.4em 0.5em 0.4em;box-sizing: border-box;padding-bottom: 0.4em;background-color: white;}#sk-container-id-1 div.sk-label label {font-family: monospace;font-weight: bold;display: inline-block;line-height: 1.2em;}#sk-container-id-1 div.sk-label-container {text-align: center;}#sk-container-id-1 div.sk-container {/* jupyter's `normalize.less` sets `[hidden] { display: none; }` but bootstrap.min.css set `[hidden] { display: none !important; }` so we also need the `!important` here to be able to override the default hidden behavior on the sphinx rendered scikit-learn.org. See: https://github.com/scikit-learn/scikit-learn/issues/21755 */display: inline-block !important;position: relative;}#sk-container-id-1 div.sk-text-repr-fallback {display: none;}</style><div id=\"sk-container-id-1\" class=\"sk-top-container\"><div class=\"sk-text-repr-fallback\"><pre>SimpleImputer(strategy=&#x27;median&#x27;)</pre><b>In a Jupyter environment, please rerun this cell to show the HTML representation or trust the notebook. <br />On GitHub, the HTML representation is unable to render, please try loading this page with nbviewer.org.</b></div><div class=\"sk-container\" hidden><div class=\"sk-item\"><div class=\"sk-estimator sk-toggleable\"><input class=\"sk-toggleable__control sk-hidden--visually\" id=\"sk-estimator-id-1\" type=\"checkbox\" checked><label for=\"sk-estimator-id-1\" class=\"sk-toggleable__label sk-toggleable__label-arrow\">SimpleImputer</label><div class=\"sk-toggleable__content\"><pre>SimpleImputer(strategy=&#x27;median&#x27;)</pre></div></div></div></div></div>"
      ],
      "text/plain": [
       "SimpleImputer(strategy='median')"
      ]
     },
     "execution_count": 24,
     "metadata": {},
     "output_type": "execute_result"
    }
   ],
   "source": [
    "from sklearn.impute import SimpleImputer\n",
    "\n",
    "imputer = SimpleImputer(strategy=\"median\")\n",
    "\n",
    "imputer.fit(trainset)"
   ]
  },
  {
   "cell_type": "code",
   "execution_count": 25,
   "metadata": {
    "ExecuteTime": {
     "end_time": "2022-11-21T21:50:21.221457Z",
     "start_time": "2022-11-21T21:50:21.207498Z"
    }
   },
   "outputs": [],
   "source": [
    "# The transform method returns a np array, so we create a pd.DataFrame from it\n",
    "trainset = pd.DataFrame(imputer.transform(trainset), \n",
    "                                     columns=trainset.columns,\n",
    "                                     index=trainset.index)"
   ]
  },
  {
   "cell_type": "code",
   "execution_count": 26,
   "metadata": {
    "ExecuteTime": {
     "end_time": "2022-11-21T21:50:21.253373Z",
     "start_time": "2022-11-21T21:50:21.224450Z"
    }
   },
   "outputs": [
    {
     "data": {
      "text/plain": [
       "longitude                     0\n",
       "latitude                      0\n",
       "housing_median_age            0\n",
       "total_rooms                   0\n",
       "total_bedrooms                0\n",
       "population                    0\n",
       "households                    0\n",
       "median_income                 0\n",
       "median_house_value            0\n",
       "rooms_per_household           0\n",
       "population_per_household      0\n",
       "ocean_proximity_INLAND        0\n",
       "ocean_proximity_NEAR BAY      0\n",
       "ocean_proximity_NEAR OCEAN    0\n",
       "dtype: int64"
      ]
     },
     "execution_count": 26,
     "metadata": {},
     "output_type": "execute_result"
    }
   ],
   "source": [
    "# check if there are missing values now\n",
    "trainset.isnull().sum()"
   ]
  },
  {
   "cell_type": "code",
   "execution_count": 27,
   "metadata": {
    "ExecuteTime": {
     "end_time": "2022-11-21T21:50:21.299252Z",
     "start_time": "2022-11-21T21:50:21.256365Z"
    }
   },
   "outputs": [
    {
     "data": {
      "text/plain": [
       "longitude                     0\n",
       "latitude                      0\n",
       "housing_median_age            0\n",
       "total_rooms                   0\n",
       "total_bedrooms                0\n",
       "population                    0\n",
       "households                    0\n",
       "median_income                 0\n",
       "median_house_value            0\n",
       "rooms_per_household           0\n",
       "population_per_household      0\n",
       "ocean_proximity_INLAND        0\n",
       "ocean_proximity_NEAR BAY      0\n",
       "ocean_proximity_NEAR OCEAN    0\n",
       "dtype: int64"
      ]
     },
     "execution_count": 27,
     "metadata": {},
     "output_type": "execute_result"
    }
   ],
   "source": [
    "testset = pd.DataFrame(imputer.transform(testset), \n",
    "                                     columns=testset.columns,\n",
    "                                     index=testset.index)\n",
    "\n",
    "testset.isnull().sum()"
   ]
  },
  {
   "cell_type": "markdown",
   "metadata": {},
   "source": [
    "## KNN Imputer"
   ]
  },
  {
   "cell_type": "code",
   "execution_count": 28,
   "metadata": {},
   "outputs": [
    {
     "data": {
      "text/plain": [
       "longitude                     1594\n",
       "latitude                      1489\n",
       "housing_median_age            1596\n",
       "total_rooms                   1561\n",
       "total_bedrooms                1580\n",
       "population                    1537\n",
       "households                    1524\n",
       "median_income                 1502\n",
       "median_house_value            1595\n",
       "rooms_per_household           1608\n",
       "population_per_household      1553\n",
       "ocean_proximity_INLAND        1591\n",
       "ocean_proximity_NEAR BAY      1628\n",
       "ocean_proximity_NEAR OCEAN    1592\n",
       "dtype: int64"
      ]
     },
     "execution_count": 28,
     "metadata": {},
     "output_type": "execute_result"
    }
   ],
   "source": [
    "trainset_tmp = trainset.copy()\n",
    "trainset_tmp = trainset_tmp.mask(np.random.random(trainset_tmp.shape) < .1, other=np.NaN)\n",
    "trainset_tmp.isnull().sum()"
   ]
  },
  {
   "cell_type": "code",
   "execution_count": 29,
   "metadata": {},
   "outputs": [
    {
     "data": {
      "text/plain": [
       "longitude                     401\n",
       "latitude                      370\n",
       "housing_median_age            387\n",
       "total_rooms                   366\n",
       "total_bedrooms                373\n",
       "population                    363\n",
       "households                    417\n",
       "median_income                 397\n",
       "median_house_value            368\n",
       "rooms_per_household           356\n",
       "population_per_household      383\n",
       "ocean_proximity_INLAND        388\n",
       "ocean_proximity_NEAR BAY      402\n",
       "ocean_proximity_NEAR OCEAN    365\n",
       "dtype: int64"
      ]
     },
     "execution_count": 29,
     "metadata": {},
     "output_type": "execute_result"
    }
   ],
   "source": [
    "testset_tmp = testset.copy()\n",
    "testset_tmp = testset_tmp.mask(np.random.random(testset_tmp.shape) < .1, other=np.NaN)\n",
    "testset_tmp.isnull().sum()"
   ]
  },
  {
   "cell_type": "code",
   "execution_count": 30,
   "metadata": {},
   "outputs": [
    {
     "data": {
      "text/plain": [
       "longitude                     0\n",
       "latitude                      0\n",
       "housing_median_age            0\n",
       "total_rooms                   0\n",
       "total_bedrooms                0\n",
       "population                    0\n",
       "households                    0\n",
       "median_income                 0\n",
       "median_house_value            0\n",
       "rooms_per_household           0\n",
       "population_per_household      0\n",
       "ocean_proximity_INLAND        0\n",
       "ocean_proximity_NEAR BAY      0\n",
       "ocean_proximity_NEAR OCEAN    0\n",
       "dtype: int64"
      ]
     },
     "execution_count": 30,
     "metadata": {},
     "output_type": "execute_result"
    }
   ],
   "source": [
    "from sklearn.impute import KNNImputer\n",
    "\n",
    "imputer = KNNImputer(n_neighbors=3)\n",
    "\n",
    "trainset_tmp = pd.DataFrame(imputer.fit_transform(trainset_tmp), \n",
    "                                     columns=trainset_tmp.columns,\n",
    "                                     index=trainset_tmp.index)\n",
    "\n",
    "trainset_tmp.isnull().sum()"
   ]
  },
  {
   "cell_type": "code",
   "execution_count": 31,
   "metadata": {},
   "outputs": [
    {
     "data": {
      "text/plain": [
       "longitude                     0\n",
       "latitude                      0\n",
       "housing_median_age            0\n",
       "total_rooms                   0\n",
       "total_bedrooms                0\n",
       "population                    0\n",
       "households                    0\n",
       "median_income                 0\n",
       "median_house_value            0\n",
       "rooms_per_household           0\n",
       "population_per_household      0\n",
       "ocean_proximity_INLAND        0\n",
       "ocean_proximity_NEAR BAY      0\n",
       "ocean_proximity_NEAR OCEAN    0\n",
       "dtype: int64"
      ]
     },
     "execution_count": 31,
     "metadata": {},
     "output_type": "execute_result"
    }
   ],
   "source": [
    "testset_tmp = pd.DataFrame(imputer.transform(testset_tmp), \n",
    "                                     columns=testset_tmp.columns,\n",
    "                                     index=testset_tmp.index)\n",
    "testset_tmp.isnull().sum()"
   ]
  },
  {
   "cell_type": "markdown",
   "metadata": {},
   "source": [
    "## IterativeImputer (Multiple Imputation by Chained Equation, MICE)"
   ]
  },
  {
   "cell_type": "code",
   "execution_count": 32,
   "metadata": {},
   "outputs": [
    {
     "data": {
      "text/plain": [
       "longitude                     1523\n",
       "latitude                      1565\n",
       "housing_median_age            1562\n",
       "total_rooms                   1515\n",
       "total_bedrooms                1609\n",
       "population                    1510\n",
       "households                    1552\n",
       "median_income                 1587\n",
       "median_house_value            1561\n",
       "rooms_per_household           1574\n",
       "population_per_household      1546\n",
       "ocean_proximity_INLAND        1616\n",
       "ocean_proximity_NEAR BAY      1602\n",
       "ocean_proximity_NEAR OCEAN    1533\n",
       "dtype: int64"
      ]
     },
     "execution_count": 32,
     "metadata": {},
     "output_type": "execute_result"
    }
   ],
   "source": [
    "trainset_tmp = trainset.copy()\n",
    "trainset_tmp = trainset_tmp.mask(np.random.random(trainset_tmp.shape) < .1, other=np.NaN)\n",
    "trainset_tmp.isnull().sum()"
   ]
  },
  {
   "cell_type": "code",
   "execution_count": 33,
   "metadata": {},
   "outputs": [
    {
     "data": {
      "text/plain": [
       "longitude                     391\n",
       "latitude                      396\n",
       "housing_median_age            365\n",
       "total_rooms                   423\n",
       "total_bedrooms                417\n",
       "population                    395\n",
       "households                    392\n",
       "median_income                 429\n",
       "median_house_value            370\n",
       "rooms_per_household           347\n",
       "population_per_household      362\n",
       "ocean_proximity_INLAND        415\n",
       "ocean_proximity_NEAR BAY      409\n",
       "ocean_proximity_NEAR OCEAN    397\n",
       "dtype: int64"
      ]
     },
     "execution_count": 33,
     "metadata": {},
     "output_type": "execute_result"
    }
   ],
   "source": [
    "testset_tmp = testset.copy()\n",
    "testset_tmp = testset_tmp.mask(np.random.random(testset_tmp.shape) < .1, other=np.NaN)\n",
    "testset_tmp.isnull().sum()"
   ]
  },
  {
   "cell_type": "code",
   "execution_count": 34,
   "metadata": {},
   "outputs": [
    {
     "name": "stderr",
     "output_type": "stream",
     "text": [
      "C:\\Users\\pekarv\\Anaconda3\\envs\\.env\\lib\\site-packages\\sklearn\\impute\\_iterative.py:796: ConvergenceWarning: [IterativeImputer] Early stopping criterion not reached.\n",
      "  warnings.warn(\n"
     ]
    },
    {
     "data": {
      "text/plain": [
       "longitude                     0\n",
       "latitude                      0\n",
       "housing_median_age            0\n",
       "total_rooms                   0\n",
       "total_bedrooms                0\n",
       "population                    0\n",
       "households                    0\n",
       "median_income                 0\n",
       "median_house_value            0\n",
       "rooms_per_household           0\n",
       "population_per_household      0\n",
       "ocean_proximity_INLAND        0\n",
       "ocean_proximity_NEAR BAY      0\n",
       "ocean_proximity_NEAR OCEAN    0\n",
       "dtype: int64"
      ]
     },
     "execution_count": 34,
     "metadata": {},
     "output_type": "execute_result"
    }
   ],
   "source": [
    "from sklearn.experimental import enable_iterative_imputer\n",
    "from sklearn.impute import IterativeImputer\n",
    "\n",
    "imputer = IterativeImputer(max_iter=20)\n",
    "\n",
    "trainset_tmp = pd.DataFrame(imputer.fit_transform(trainset_tmp), \n",
    "                                     columns=trainset_tmp.columns,\n",
    "                                     index=trainset_tmp.index)\n",
    "\n",
    "trainset_tmp.isnull().sum()"
   ]
  },
  {
   "cell_type": "code",
   "execution_count": 35,
   "metadata": {},
   "outputs": [
    {
     "data": {
      "text/plain": [
       "longitude                     0\n",
       "latitude                      0\n",
       "housing_median_age            0\n",
       "total_rooms                   0\n",
       "total_bedrooms                0\n",
       "population                    0\n",
       "households                    0\n",
       "median_income                 0\n",
       "median_house_value            0\n",
       "rooms_per_household           0\n",
       "population_per_household      0\n",
       "ocean_proximity_INLAND        0\n",
       "ocean_proximity_NEAR BAY      0\n",
       "ocean_proximity_NEAR OCEAN    0\n",
       "dtype: int64"
      ]
     },
     "execution_count": 35,
     "metadata": {},
     "output_type": "execute_result"
    }
   ],
   "source": [
    "testset_tmp = pd.DataFrame(imputer.transform(testset_tmp), \n",
    "                                     columns=testset_tmp.columns,\n",
    "                                     index=testset_tmp.index)\n",
    "testset_tmp.isnull().sum()"
   ]
  },
  {
   "cell_type": "markdown",
   "metadata": {},
   "source": [
    "# Log transformation"
   ]
  },
  {
   "cell_type": "code",
   "execution_count": 36,
   "metadata": {},
   "outputs": [
    {
     "data": {
      "image/png": "[encoded data removed]",
      "text/plain": [
       "<Figure size 800x800 with 6 Axes>"
      ]
     },
     "metadata": {},
     "output_type": "display_data"
    }
   ],
   "source": [
    "_ = trainset[[\"total_rooms\", \"total_bedrooms\", \"population\", \"households\", \"median_income\"]].hist(bins=50, figsize=(8,8))"
   ]
  },
  {
   "cell_type": "code",
   "execution_count": 37,
   "metadata": {},
   "outputs": [],
   "source": [
    "for col in [\"total_rooms\", \"total_bedrooms\", \"population\", \"households\", \"median_income\"]:\n",
    "    trainset.loc[:, col] = np.log(trainset.loc[:, col] + 1)\n",
    "    testset.loc[:, col] = np.log(testset.loc[:, col] + 1)"
   ]
  },
  {
   "cell_type": "code",
   "execution_count": 38,
   "metadata": {},
   "outputs": [
    {
     "data": {
      "image/png": "[encoded data removed]",
      "text/plain": [
       "<Figure size 800x800 with 6 Axes>"
      ]
     },
     "metadata": {},
     "output_type": "display_data"
    }
   ],
   "source": [
    "_ = trainset[[\"total_rooms\", \"total_bedrooms\", \"population\", \"households\", \"median_income\"]].hist(bins=50, figsize=(8,8))"
   ]
  },
  {
   "cell_type": "markdown",
   "metadata": {},
   "source": [
    "# Outlier detection"
   ]
  },
  {
   "cell_type": "markdown",
   "metadata": {},
   "source": [
    "## Standard deviation method"
   ]
  },
  {
   "cell_type": "code",
   "execution_count": 39,
   "metadata": {},
   "outputs": [
    {
     "data": {
      "text/plain": [
       "array([ 1,  1, -1, -1])"
      ]
     },
     "execution_count": 39,
     "metadata": {},
     "output_type": "execute_result"
    }
   ],
   "source": [
    "from sklearn.base import OutlierMixin\n",
    "\n",
    "class StdOutlierDetector(OutlierMixin):\n",
    "\n",
    "    def __init__(self, threshold=3):\n",
    "        self.threshold = threshold\n",
    "        self.m, self.std = None, None\n",
    "\n",
    "    def fit(self, X, y=None):\n",
    "        self.m = X.mean()\n",
    "        self.std = X.std()\n",
    "        return self\n",
    "\n",
    "    def predict(self, X, y=None):\n",
    "        \"\"\"Return -1 to indicate outliers, 1 to indicate inliers\n",
    "        \"\"\"\n",
    "        z = np.abs((X - self.m) / self.std)\n",
    "        return np.where((z <= self.threshold).all(axis=1), 1, -1)\n",
    "\n",
    "\n",
    "Xtrain = np.array([[-1.1, -1.1], [0.2, 0.2], [1001.1, 0.2], [0.3, 1000.3]])\n",
    "Xtest = np.array([[1, 1], [0.3, 900.3]])\n",
    "clf = StdOutlierDetector(threshold=1)\n",
    "yhat = clf.fit_predict(Xtrain)\n",
    "yhat"
   ]
  },
  {
   "cell_type": "code",
   "execution_count": 40,
   "metadata": {},
   "outputs": [
    {
     "data": {
      "text/plain": [
       "array([ 1, -1])"
      ]
     },
     "execution_count": 40,
     "metadata": {},
     "output_type": "execute_result"
    }
   ],
   "source": [
    "yhat = clf.predict(Xtest)\n",
    "yhat"
   ]
  },
  {
   "cell_type": "code",
   "execution_count": 41,
   "metadata": {},
   "outputs": [],
   "source": [
    "ytrain = trainset[\"median_house_value\"].copy()\n",
    "Xtrain = trainset.drop(\"median_house_value\", axis=1)\n",
    "ytest = testset[\"median_house_value\"].copy()\n",
    "Xtest = testset.drop(\"median_house_value\", axis=1)"
   ]
  },
  {
   "cell_type": "code",
   "execution_count": 42,
   "metadata": {},
   "outputs": [
    {
     "data": {
      "text/plain": [
       "(15735, 13)"
      ]
     },
     "execution_count": 42,
     "metadata": {},
     "output_type": "execute_result"
    }
   ],
   "source": [
    "Xtrain.shape"
   ]
  },
  {
   "cell_type": "code",
   "execution_count": 43,
   "metadata": {},
   "outputs": [
    {
     "data": {
      "text/plain": [
       "(3940, 13)"
      ]
     },
     "execution_count": 43,
     "metadata": {},
     "output_type": "execute_result"
    }
   ],
   "source": [
    "Xtest.shape"
   ]
  },
  {
   "cell_type": "code",
   "execution_count": 44,
   "metadata": {},
   "outputs": [
    {
     "data": {
      "text/plain": [
       "(15315, 13)"
      ]
     },
     "execution_count": 44,
     "metadata": {},
     "output_type": "execute_result"
    }
   ],
   "source": [
    "# remove outliers in training set\n",
    "clf = StdOutlierDetector(threshold=3)\n",
    "yhat = clf.fit_predict(Xtrain)\n",
    "Xtrain = Xtrain[yhat != -1]\n",
    "ytrain = ytrain[yhat != -1]\n",
    "Xtrain.shape"
   ]
  },
  {
   "cell_type": "code",
   "execution_count": 45,
   "metadata": {},
   "outputs": [
    {
     "data": {
      "text/plain": [
       "(3844, 13)"
      ]
     },
     "execution_count": 45,
     "metadata": {},
     "output_type": "execute_result"
    }
   ],
   "source": [
    "# remove outliers in test set\n",
    "yhat = clf.predict(Xtest)\n",
    "Xtest = Xtest[yhat == 1]\n",
    "ytest = ytest[yhat != -1]\n",
    "Xtest.shape"
   ]
  },
  {
   "cell_type": "markdown",
   "metadata": {},
   "source": [
    "## IQR method"
   ]
  },
  {
   "cell_type": "code",
   "execution_count": 46,
   "metadata": {},
   "outputs": [
    {
     "data": {
      "text/plain": [
       "<Axes: >"
      ]
     },
     "execution_count": 46,
     "metadata": {},
     "output_type": "execute_result"
    },
    {
     "data": {
      "image/png": "[encoded data removed]",
      "text/plain": [
       "<Figure size 640x480 with 1 Axes>"
      ]
     },
     "metadata": {},
     "output_type": "display_data"
    }
   ],
   "source": [
    "trainset.boxplot(column=[\"total_rooms\", \"total_bedrooms\", \"population\", \"households\", \"median_income\"])"
   ]
  },
  {
   "cell_type": "code",
   "execution_count": 47,
   "metadata": {},
   "outputs": [
    {
     "data": {
      "text/plain": [
       "array([ 1,  1, -1, -1])"
      ]
     },
     "execution_count": 47,
     "metadata": {},
     "output_type": "execute_result"
    }
   ],
   "source": [
    "class IqrOutlierDetector(OutlierMixin):\n",
    "\n",
    "    def __init__(self, factor=1.5):\n",
    "        self.factor = factor\n",
    "        self.upper, self.lower = None, None\n",
    "\n",
    "    def fit(self, X, y=None):\n",
    "        try:\n",
    "            assert X.isnull().sum().sum() == 0\n",
    "        except AttributeError:\n",
    "            assert np.isnan(X).sum() == 0\n",
    "        q25 = np.percentile(X, 25, axis=0)\n",
    "        q75 = np.percentile(X, 75, axis=0)\n",
    "        cut_off = (q75 - q25) * self.factor\n",
    "        self.lower = q25 - cut_off\n",
    "        self.upper = q75 + cut_off\n",
    "        return self\n",
    "\n",
    "    def predict(self, X, y=None):\n",
    "        \"\"\"Return -1 to indicate outliers, 1 to indicate inliers\n",
    "        \"\"\"\n",
    "        return np.where(((X >= self.lower) & (X <= self.upper)).all(axis=1), 1, -1)\n",
    "\n",
    "Xtrain = np.array([[-1.1, -1.1], [0.2, 0.2], [1001.1, 0.2], [0.3, 1000.3]])\n",
    "Xtest = np.array([[1, 1], [0.3, 900.3]])\n",
    "clf = IqrOutlierDetector()\n",
    "yhat = clf.fit_predict(Xtrain)\n",
    "yhat"
   ]
  },
  {
   "cell_type": "code",
   "execution_count": 48,
   "metadata": {},
   "outputs": [
    {
     "data": {
      "text/plain": [
       "array([ 1, -1])"
      ]
     },
     "execution_count": 48,
     "metadata": {},
     "output_type": "execute_result"
    }
   ],
   "source": [
    "yhat = clf.predict(Xtest)\n",
    "yhat"
   ]
  },
  {
   "cell_type": "code",
   "execution_count": 49,
   "metadata": {},
   "outputs": [],
   "source": [
    "ytrain = trainset[\"median_house_value\"].copy()\n",
    "Xtrain = trainset.drop(\"median_house_value\", axis=1)\n",
    "ytest = testset[\"median_house_value\"].copy()\n",
    "Xtest = testset.drop(\"median_house_value\", axis=1)"
   ]
  },
  {
   "cell_type": "code",
   "execution_count": 50,
   "metadata": {},
   "outputs": [
    {
     "data": {
      "text/plain": [
       "(10742, 13)"
      ]
     },
     "execution_count": 50,
     "metadata": {},
     "output_type": "execute_result"
    }
   ],
   "source": [
    "clf = IqrOutlierDetector()\n",
    "yhat = clf.fit_predict(Xtrain)\n",
    "Xtrain = Xtrain[yhat != -1]\n",
    "ytrain = ytrain[yhat != -1]\n",
    "Xtrain.shape"
   ]
  },
  {
   "cell_type": "code",
   "execution_count": 51,
   "metadata": {},
   "outputs": [
    {
     "data": {
      "text/plain": [
       "(2653, 13)"
      ]
     },
     "execution_count": 51,
     "metadata": {},
     "output_type": "execute_result"
    }
   ],
   "source": [
    "yhat = clf.predict(Xtest)\n",
    "Xtest = Xtest[yhat == 1]\n",
    "ytest = ytest[yhat != -1]\n",
    "Xtest.shape"
   ]
  },
  {
   "cell_type": "markdown",
   "metadata": {},
   "source": [
    "## Isolation Forest"
   ]
  },
  {
   "cell_type": "code",
   "execution_count": 52,
   "metadata": {},
   "outputs": [],
   "source": [
    "ytrain = trainset[\"median_house_value\"].copy()\n",
    "Xtrain = trainset.drop(\"median_house_value\", axis=1)\n",
    "ytest = testset[\"median_house_value\"].copy()\n",
    "Xtest = testset.drop(\"median_house_value\", axis=1)"
   ]
  },
  {
   "cell_type": "code",
   "execution_count": 53,
   "metadata": {},
   "outputs": [
    {
     "data": {
      "text/plain": [
       "((15735, 13), (3940, 13))"
      ]
     },
     "execution_count": 53,
     "metadata": {},
     "output_type": "execute_result"
    }
   ],
   "source": [
    "Xtrain.shape, Xtest.shape"
   ]
  },
  {
   "cell_type": "code",
   "execution_count": 54,
   "metadata": {},
   "outputs": [
    {
     "data": {
      "text/plain": [
       "(14161, 13)"
      ]
     },
     "execution_count": 54,
     "metadata": {},
     "output_type": "execute_result"
    }
   ],
   "source": [
    "from sklearn.ensemble import IsolationForest\n",
    "\n",
    "clf = IsolationForest(n_estimators=100, random_state=0, contamination=0.1).fit(Xtrain)\n",
    "yhat = clf.predict(Xtrain)\n",
    "Xtrain = Xtrain[yhat != -1]\n",
    "ytrain = ytrain[yhat != -1]\n",
    "Xtrain.shape"
   ]
  },
  {
   "cell_type": "code",
   "execution_count": 55,
   "metadata": {},
   "outputs": [
    {
     "data": {
      "text/plain": [
       "(3536, 13)"
      ]
     },
     "execution_count": 55,
     "metadata": {},
     "output_type": "execute_result"
    }
   ],
   "source": [
    "yhat = clf.predict(Xtest)\n",
    "Xtest = Xtest[yhat == 1]\n",
    "ytest = ytest[yhat != -1]\n",
    "Xtest.shape"
   ]
  },
  {
   "cell_type": "markdown",
   "metadata": {},
   "source": [
    "# Feature selection"
   ]
  },
  {
   "cell_type": "code",
   "execution_count": 56,
   "metadata": {},
   "outputs": [],
   "source": [
    "from sklearn.feature_selection import SelectKBest\n",
    "from sklearn.feature_selection import r_regression "
   ]
  },
  {
   "cell_type": "code",
   "execution_count": 57,
   "metadata": {},
   "outputs": [
    {
     "data": {
      "text/plain": [
       "(14161, 13)"
      ]
     },
     "execution_count": 57,
     "metadata": {},
     "output_type": "execute_result"
    }
   ],
   "source": [
    "Xtrain.shape"
   ]
  },
  {
   "cell_type": "code",
   "execution_count": 58,
   "metadata": {},
   "outputs": [],
   "source": [
    "selector = SelectKBest(r_regression, k=5)\n",
    "Xtrain = selector.fit_transform(Xtrain, ytrain)\n",
    "Xtest = selector.transform(Xtest)"
   ]
  },
  {
   "cell_type": "code",
   "execution_count": 59,
   "metadata": {},
   "outputs": [
    {
     "data": {
      "text/plain": [
       "(14161, 5)"
      ]
     },
     "execution_count": 59,
     "metadata": {},
     "output_type": "execute_result"
    }
   ],
   "source": [
    "Xtrain.shape"
   ]
  },
  {
   "cell_type": "code",
   "execution_count": 60,
   "metadata": {},
   "outputs": [
    {
     "data": {
      "text/plain": [
       "(3536, 5)"
      ]
     },
     "execution_count": 60,
     "metadata": {},
     "output_type": "execute_result"
    }
   ],
   "source": [
    "Xtest.shape"
   ]
  },
  {
   "cell_type": "code",
   "execution_count": 61,
   "metadata": {},
   "outputs": [
    {
     "data": {
      "text/plain": [
       "array(['total_rooms', 'median_income', 'rooms_per_household',\n",
       "       'ocean_proximity_NEAR BAY', 'ocean_proximity_NEAR OCEAN'],\n",
       "      dtype=object)"
      ]
     },
     "execution_count": 61,
     "metadata": {},
     "output_type": "execute_result"
    }
   ],
   "source": [
    "selector.get_feature_names_out()"
   ]
  },
  {
   "cell_type": "code",
   "execution_count": 62,
   "metadata": {},
   "outputs": [],
   "source": [
    "# fit_transform returns a NumPy array, so we need to put it back \n",
    "# into a Pandas dataframe\n",
    "Xtrain = pd.DataFrame(Xtrain, columns=selector.get_feature_names_out())\n",
    "Xtest = pd.DataFrame(Xtest, columns=selector.get_feature_names_out())"
   ]
  },
  {
   "cell_type": "markdown",
   "metadata": {},
   "source": [
    "# Feature scaling"
   ]
  },
  {
   "cell_type": "code",
   "execution_count": 63,
   "metadata": {
    "ExecuteTime": {
     "end_time": "2022-03-13T12:37:03.090063Z",
     "start_time": "2022-03-13T12:37:03.041537Z"
    }
   },
   "outputs": [
    {
     "data": {
      "text/html": [
       "<div>\n",
       "<style scoped>\n",
       "    .dataframe tbody tr th:only-of-type {\n",
       "        vertical-align: middle;\n",
       "    }\n",
       "\n",
       "    .dataframe tbody tr th {\n",
       "        vertical-align: top;\n",
       "    }\n",
       "\n",
       "    .dataframe thead th {\n",
       "        text-align: right;\n",
       "    }\n",
       "</style>\n",
       "<table border=\"1\" class=\"dataframe\">\n",
       "  <thead>\n",
       "    <tr style=\"text-align: right;\">\n",
       "      <th></th>\n",
       "      <th>total_rooms</th>\n",
       "      <th>median_income</th>\n",
       "      <th>rooms_per_household</th>\n",
       "      <th>ocean_proximity_NEAR BAY</th>\n",
       "      <th>ocean_proximity_NEAR OCEAN</th>\n",
       "      <th>median_house_value</th>\n",
       "    </tr>\n",
       "  </thead>\n",
       "  <tbody>\n",
       "    <tr>\n",
       "      <th>0</th>\n",
       "      <td>-0.401956</td>\n",
       "      <td>-0.451154</td>\n",
       "      <td>-0.499018</td>\n",
       "      <td>-0.31469</td>\n",
       "      <td>2.940486</td>\n",
       "      <td>NaN</td>\n",
       "    </tr>\n",
       "    <tr>\n",
       "      <th>1</th>\n",
       "      <td>-0.331693</td>\n",
       "      <td>0.371915</td>\n",
       "      <td>0.438519</td>\n",
       "      <td>-0.31469</td>\n",
       "      <td>2.940486</td>\n",
       "      <td>NaN</td>\n",
       "    </tr>\n",
       "    <tr>\n",
       "      <th>2</th>\n",
       "      <td>0.010823</td>\n",
       "      <td>0.373633</td>\n",
       "      <td>0.718285</td>\n",
       "      <td>-0.31469</td>\n",
       "      <td>-0.340080</td>\n",
       "      <td>NaN</td>\n",
       "    </tr>\n",
       "    <tr>\n",
       "      <th>3</th>\n",
       "      <td>-0.577730</td>\n",
       "      <td>0.129098</td>\n",
       "      <td>-0.855211</td>\n",
       "      <td>-0.31469</td>\n",
       "      <td>-0.340080</td>\n",
       "      <td>341300.0</td>\n",
       "    </tr>\n",
       "    <tr>\n",
       "      <th>4</th>\n",
       "      <td>0.297344</td>\n",
       "      <td>1.014585</td>\n",
       "      <td>0.562793</td>\n",
       "      <td>-0.31469</td>\n",
       "      <td>-0.340080</td>\n",
       "      <td>342200.0</td>\n",
       "    </tr>\n",
       "  </tbody>\n",
       "</table>\n",
       "</div>"
      ],
      "text/plain": [
       "   total_rooms  median_income  rooms_per_household  ocean_proximity_NEAR BAY  \\\n",
       "0    -0.401956      -0.451154            -0.499018                  -0.31469   \n",
       "1    -0.331693       0.371915             0.438519                  -0.31469   \n",
       "2     0.010823       0.373633             0.718285                  -0.31469   \n",
       "3    -0.577730       0.129098            -0.855211                  -0.31469   \n",
       "4     0.297344       1.014585             0.562793                  -0.31469   \n",
       "\n",
       "   ocean_proximity_NEAR OCEAN  median_house_value  \n",
       "0                    2.940486                 NaN  \n",
       "1                    2.940486                 NaN  \n",
       "2                   -0.340080                 NaN  \n",
       "3                   -0.340080            341300.0  \n",
       "4                   -0.340080            342200.0  "
      ]
     },
     "execution_count": 63,
     "metadata": {},
     "output_type": "execute_result"
    }
   ],
   "source": [
    "from sklearn.preprocessing import StandardScaler\n",
    "\n",
    "scaler = StandardScaler()\n",
    "\n",
    "# fit_transform returns a NumPy array, so we need to put it back \n",
    "# into a Pandas dataframe\n",
    "scaled_vals = scaler.fit_transform(Xtrain)\n",
    "trainset = pd.DataFrame(scaled_vals, columns=Xtrain.columns)\n",
    "\n",
    "# put the non-scaled target back in\n",
    "trainset['median_house_value'] = ytrain\n",
    "\n",
    "# inspect the data\n",
    "trainset.head()"
   ]
  },
  {
   "cell_type": "code",
   "execution_count": 64,
   "metadata": {
    "ExecuteTime": {
     "end_time": "2022-03-13T12:37:03.135867Z",
     "start_time": "2022-03-13T12:37:03.093143Z"
    }
   },
   "outputs": [
    {
     "data": {
      "text/html": [
       "<div>\n",
       "<style scoped>\n",
       "    .dataframe tbody tr th:only-of-type {\n",
       "        vertical-align: middle;\n",
       "    }\n",
       "\n",
       "    .dataframe tbody tr th {\n",
       "        vertical-align: top;\n",
       "    }\n",
       "\n",
       "    .dataframe thead th {\n",
       "        text-align: right;\n",
       "    }\n",
       "</style>\n",
       "<table border=\"1\" class=\"dataframe\">\n",
       "  <thead>\n",
       "    <tr style=\"text-align: right;\">\n",
       "      <th></th>\n",
       "      <th>total_rooms</th>\n",
       "      <th>median_income</th>\n",
       "      <th>rooms_per_household</th>\n",
       "      <th>ocean_proximity_NEAR BAY</th>\n",
       "      <th>ocean_proximity_NEAR OCEAN</th>\n",
       "      <th>median_house_value</th>\n",
       "    </tr>\n",
       "  </thead>\n",
       "  <tbody>\n",
       "    <tr>\n",
       "      <th>0</th>\n",
       "      <td>0.995936</td>\n",
       "      <td>-0.885681</td>\n",
       "      <td>-0.293318</td>\n",
       "      <td>-0.314690</td>\n",
       "      <td>-0.34008</td>\n",
       "      <td>NaN</td>\n",
       "    </tr>\n",
       "    <tr>\n",
       "      <th>1</th>\n",
       "      <td>1.849479</td>\n",
       "      <td>1.579280</td>\n",
       "      <td>0.629312</td>\n",
       "      <td>-0.314690</td>\n",
       "      <td>-0.34008</td>\n",
       "      <td>NaN</td>\n",
       "    </tr>\n",
       "    <tr>\n",
       "      <th>2</th>\n",
       "      <td>1.056769</td>\n",
       "      <td>0.986179</td>\n",
       "      <td>0.126450</td>\n",
       "      <td>3.177729</td>\n",
       "      <td>-0.34008</td>\n",
       "      <td>NaN</td>\n",
       "    </tr>\n",
       "    <tr>\n",
       "      <th>3</th>\n",
       "      <td>0.381319</td>\n",
       "      <td>-0.851326</td>\n",
       "      <td>-0.713093</td>\n",
       "      <td>-0.314690</td>\n",
       "      <td>-0.34008</td>\n",
       "      <td>NaN</td>\n",
       "    </tr>\n",
       "    <tr>\n",
       "      <th>4</th>\n",
       "      <td>-0.451080</td>\n",
       "      <td>-1.170034</td>\n",
       "      <td>-1.223911</td>\n",
       "      <td>-0.314690</td>\n",
       "      <td>-0.34008</td>\n",
       "      <td>NaN</td>\n",
       "    </tr>\n",
       "  </tbody>\n",
       "</table>\n",
       "</div>"
      ],
      "text/plain": [
       "   total_rooms  median_income  rooms_per_household  ocean_proximity_NEAR BAY  \\\n",
       "0     0.995936      -0.885681            -0.293318                 -0.314690   \n",
       "1     1.849479       1.579280             0.629312                 -0.314690   \n",
       "2     1.056769       0.986179             0.126450                  3.177729   \n",
       "3     0.381319      -0.851326            -0.713093                 -0.314690   \n",
       "4    -0.451080      -1.170034            -1.223911                 -0.314690   \n",
       "\n",
       "   ocean_proximity_NEAR OCEAN  median_house_value  \n",
       "0                    -0.34008                 NaN  \n",
       "1                    -0.34008                 NaN  \n",
       "2                    -0.34008                 NaN  \n",
       "3                    -0.34008                 NaN  \n",
       "4                    -0.34008                 NaN  "
      ]
     },
     "execution_count": 64,
     "metadata": {},
     "output_type": "execute_result"
    }
   ],
   "source": [
    "scaled_vals = scaler.transform(Xtest)\n",
    "testset = pd.DataFrame(scaled_vals, columns=Xtest.columns)\n",
    "\n",
    "# put the non-scaled target back in\n",
    "testset['median_house_value'] = ytest\n",
    "\n",
    "testset.head()"
   ]
  },
  {
   "cell_type": "markdown",
   "metadata": {},
   "source": [
    "# Citing this notebook\n",
    "\n",
    "If you use this notebook in your work, please cite it as follows:\n",
    "    \n",
    "Pekar, V. (2024). Big Data for Decision Making. Lecture examples and exercises. (Version 1.0.0). URL: https://github.com/vpekar/bd4dm"
   ]
  },
  {
   "cell_type": "code",
   "execution_count": null,
   "metadata": {},
   "outputs": [],
   "source": []
  }
 ],
 "metadata": {
  "kernelspec": {
   "display_name": "Python 3 (ipykernel)",
   "language": "python",
   "name": "python3"
  },
  "language_info": {
   "codemirror_mode": {
    "name": "ipython",
    "version": 3
   },
   "file_extension": ".py",
   "mimetype": "text/x-python",
   "name": "python",
   "nbconvert_exporter": "python",
   "pygments_lexer": "ipython3",
   "version": "3.9.18"
  },
  "toc": {
   "base_numbering": 1,
   "nav_menu": {},
   "number_sections": true,
   "sideBar": true,
   "skip_h1_title": false,
   "title_cell": "Table of Contents",
   "title_sidebar": "Contents",
   "toc_cell": false,
   "toc_position": {},
   "toc_section_display": true,
   "toc_window_display": true
  }
 },
 "nbformat": 4,
 "nbformat_minor": 4
}
