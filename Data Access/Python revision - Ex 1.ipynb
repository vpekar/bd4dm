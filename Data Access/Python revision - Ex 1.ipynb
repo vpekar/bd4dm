{
 "cells": [
  {
   "cell_type": "markdown",
   "id": "6103afe9-1098-4079-b019-1c3d5dc012e4",
   "metadata": {},
   "source": [
    "# Load the data from \"world-data-2023.csv\" into a Pandas dataframe."
   ]
  },
  {
   "cell_type": "code",
   "execution_count": null,
   "id": "98908940-b4dd-453f-aac7-9f83f95396b8",
   "metadata": {},
   "outputs": [],
   "source": []
  },
  {
   "cell_type": "markdown",
   "id": "37b498eb-2d4b-4037-918e-607aa83e9613",
   "metadata": {},
   "source": [
    "# Inspect the first several rows."
   ]
  },
  {
   "cell_type": "code",
   "execution_count": null,
   "id": "e22328e7-d989-4187-beac-a45f853c8796",
   "metadata": {},
   "outputs": [],
   "source": []
  },
  {
   "cell_type": "markdown",
   "id": "841d3a84-545e-445e-84b4-8271ef4b81e7",
   "metadata": {},
   "source": [
    "# Find out the names of all columns in the dataframe and their data type.\n",
    "\n",
    "Give examples of numerical and categorical columns. What is the type of the \"Calling code\" column? What is the type of \"Official language\"?"
   ]
  },
  {
   "cell_type": "code",
   "execution_count": null,
   "id": "b1291515-2361-4520-80cb-dd85c20e1e26",
   "metadata": {},
   "outputs": [],
   "source": []
  },
  {
   "cell_type": "markdown",
   "id": "23e26b8d-595e-4009-8fcb-938b1a17e3f0",
   "metadata": {},
   "source": [
    "# Convert the datatype of \"Calling Code\" to *object*."
   ]
  },
  {
   "cell_type": "code",
   "execution_count": null,
   "id": "cee84951-d30e-412a-93ff-11b9dc1d4ee6",
   "metadata": {},
   "outputs": [],
   "source": []
  },
  {
   "cell_type": "markdown",
   "id": "4e7c3b24-e121-4be9-98cc-a2b77377ff56",
   "metadata": {},
   "source": [
    "# What is the average unemployment rate in the world?"
   ]
  },
  {
   "cell_type": "code",
   "execution_count": null,
   "id": "7d9daf0a-1d87-454c-a398-0a5b438dc358",
   "metadata": {},
   "outputs": [],
   "source": []
  },
  {
   "cell_type": "markdown",
   "id": "dfde6912-e9ca-4f0f-b6c1-363f397cb9fb",
   "metadata": {},
   "source": [
    "# What is the total urban population in the world?"
   ]
  },
  {
   "cell_type": "code",
   "execution_count": null,
   "id": "e9135ec7-ba84-4675-8f19-6e34958535d8",
   "metadata": {},
   "outputs": [],
   "source": []
  },
  {
   "cell_type": "markdown",
   "id": "082d2861-036d-4562-8421-c62cbfed997c",
   "metadata": {},
   "source": [
    "# Set \"Country\" to be the index in the data and find out the population of UK"
   ]
  },
  {
   "cell_type": "code",
   "execution_count": null,
   "id": "e569d121-3545-41a6-9cd3-3b0962c8d90e",
   "metadata": {},
   "outputs": [],
   "source": []
  },
  {
   "cell_type": "code",
   "execution_count": null,
   "id": "f119c6c8-a83b-4c5a-938d-4a55c11d00ce",
   "metadata": {},
   "outputs": [],
   "source": []
  },
  {
   "cell_type": "markdown",
   "id": "da25235a-9d94-453d-9ecb-e4c1ddb3edd0",
   "metadata": {},
   "source": [
    "# Retrieve the names of all capitals"
   ]
  },
  {
   "cell_type": "code",
   "execution_count": null,
   "id": "4a76ace5-5733-43a9-99bf-60d0478e45c2",
   "metadata": {},
   "outputs": [],
   "source": []
  },
  {
   "cell_type": "markdown",
   "id": "c967a4e6-2e66-44db-bfeb-8b17f64ad323",
   "metadata": {},
   "source": [
    "# Retrieve all data relating to Brazil"
   ]
  },
  {
   "cell_type": "code",
   "execution_count": null,
   "id": "7331afe7-57d4-4788-bb91-0bc61621a10d",
   "metadata": {},
   "outputs": [],
   "source": []
  },
  {
   "cell_type": "markdown",
   "id": "f584e675-f3a1-412d-b64f-1be4d674fd48",
   "metadata": {},
   "source": [
    "# Select all countries, where the life expectancy is over 83."
   ]
  },
  {
   "cell_type": "code",
   "execution_count": null,
   "id": "29fafd4b-323c-4b07-92aa-6bc65910cab8",
   "metadata": {},
   "outputs": [],
   "source": []
  },
  {
   "cell_type": "markdown",
   "id": "62694f43-2c58-4244-b7bb-3b3720fb3f35",
   "metadata": {},
   "source": [
    "# Add a column\n",
    "\n",
    "Add a column that describes if a country is urbanised (1) or not (0), assuming that an urbanised country is one where the size of urban population is at least 75% of the total population. Print the list of urbanised countries."
   ]
  },
  {
   "cell_type": "code",
   "execution_count": null,
   "id": "cdb48e3a-feb8-426f-aeb5-20be8d211585",
   "metadata": {},
   "outputs": [],
   "source": []
  },
  {
   "cell_type": "markdown",
   "id": "a6d03204-9e7c-49f3-a06d-2788035e9546",
   "metadata": {},
   "source": [
    "# Delete the latitude and longitude columns."
   ]
  },
  {
   "cell_type": "code",
   "execution_count": null,
   "id": "5a8f2d93-a16f-409b-bd50-f2b18444eecf",
   "metadata": {},
   "outputs": [],
   "source": []
  },
  {
   "cell_type": "code",
   "execution_count": null,
   "id": "25ae2879-fb0c-42d8-9921-6877c3e967ff",
   "metadata": {},
   "outputs": [],
   "source": []
  },
  {
   "cell_type": "code",
   "execution_count": null,
   "id": "4001aed5-86e6-4a75-9411-551788bd569b",
   "metadata": {},
   "outputs": [],
   "source": []
  }
 ],
 "metadata": {
  "kernelspec": {
   "display_name": "Python 3 (ipykernel)",
   "language": "python",
   "name": "python3"
  },
  "language_info": {
   "codemirror_mode": {
    "name": "ipython",
    "version": 3
   },
   "file_extension": ".py",
   "mimetype": "text/x-python",
   "name": "python",
   "nbconvert_exporter": "python",
   "pygments_lexer": "ipython3",
   "version": "3.9.18"
  }
 },
 "nbformat": 4,
 "nbformat_minor": 5
}
