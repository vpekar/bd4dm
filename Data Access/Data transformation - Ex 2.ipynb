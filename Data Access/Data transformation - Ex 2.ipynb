{
 "cells": [
  {
   "cell_type": "markdown",
   "id": "bcae0200",
   "metadata": {},
   "source": [
    "Using the data contained in the two data files from the previous exercise, find out how the severity of the accident is related to the age of the vehicle."
   ]
  },
  {
   "cell_type": "code",
   "execution_count": null,
   "id": "e977cb37",
   "metadata": {},
   "outputs": [],
   "source": [
    "# import Pandas and Numpy packages\n",
    "\n",
    "???\n",
    "\n",
    "import seaborn as sns\n",
    "\n",
    "sns.set_theme(palette=\"Set2\")"
   ]
  },
  {
   "cell_type": "code",
   "execution_count": null,
   "id": "50ef5c1a",
   "metadata": {},
   "outputs": [],
   "source": [
    "# load the data\n",
    "df1 = pd.read_csv(\"accidents.csv\")\n",
    "df2 = pd.read_csv(\"vehicles.csv\")"
   ]
  },
  {
   "cell_type": "code",
   "execution_count": null,
   "id": "6b3cd952",
   "metadata": {},
   "outputs": [],
   "source": [
    "# check values in the Age_of_Vehicle of the vehicles dataframe\n",
    "df2[\"Age_of_Vehicle\"].unique()"
   ]
  },
  {
   "cell_type": "markdown",
   "id": "847b81d3",
   "metadata": {},
   "source": [
    "\"-1\" in the \"Age_of_Vehicle\" column suggests the age of the car is unknown. Let's replace it with the `np.NaN` symbol. This will make it easier for us to drop all rows with missing values."
   ]
  },
  {
   "cell_type": "code",
   "execution_count": null,
   "id": "60e2d065",
   "metadata": {},
   "outputs": [],
   "source": [
    "# replace \"-1\" with np.NaN\n",
    "df2.loc[:, \"Age_of_Vehicle\"] = ???"
   ]
  },
  {
   "cell_type": "code",
   "execution_count": null,
   "id": "863f6b99",
   "metadata": {},
   "outputs": [],
   "source": [
    "# drop rows with missing values\n",
    "df2.dropna(inplace=True)"
   ]
  },
  {
   "cell_type": "markdown",
   "id": "98a3b4e8",
   "metadata": {},
   "source": [
    "Choose appropriate options of `merge` to combine the accidents and the vehicle dataframes. Check that the merge was successful."
   ]
  },
  {
   "cell_type": "code",
   "execution_count": null,
   "id": "8b0c0572",
   "metadata": {},
   "outputs": [],
   "source": []
  },
  {
   "cell_type": "markdown",
   "id": "d8b71a7d",
   "metadata": {},
   "source": [
    "Determine the relationship between the severity of the accident and the age of the vehicle."
   ]
  },
  {
   "cell_type": "code",
   "execution_count": null,
   "id": "566867dc",
   "metadata": {},
   "outputs": [],
   "source": []
  },
  {
   "cell_type": "code",
   "execution_count": null,
   "id": "42741c75",
   "metadata": {},
   "outputs": [],
   "source": []
  },
  {
   "cell_type": "markdown",
   "id": "104c031f",
   "metadata": {},
   "source": [
    "# Citing this notebook\n",
    "\n",
    "If you use this notebook in your work, please cite it as follows:\n",
    "    \n",
    "Pekar, V. (2022). Big Data for Decision Making. Lecture examples and exercises. (Version 1.0.0). URL: https://github.com/vpekar/bd4dm"
   ]
  },
  {
   "cell_type": "code",
   "execution_count": null,
   "id": "80cb1268",
   "metadata": {},
   "outputs": [],
   "source": []
  }
 ],
 "metadata": {
  "kernelspec": {
   "display_name": "Python 3 (ipykernel)",
   "language": "python",
   "name": "python3"
  },
  "language_info": {
   "codemirror_mode": {
    "name": "ipython",
    "version": 3
   },
   "file_extension": ".py",
   "mimetype": "text/x-python",
   "name": "python",
   "nbconvert_exporter": "python",
   "pygments_lexer": "ipython3",
   "version": "3.9.18"
  },
  "toc": {
   "base_numbering": 1,
   "nav_menu": {},
   "number_sections": true,
   "sideBar": true,
   "skip_h1_title": false,
   "title_cell": "Table of Contents",
   "title_sidebar": "Contents",
   "toc_cell": false,
   "toc_position": {},
   "toc_section_display": true,
   "toc_window_display": false
  }
 },
 "nbformat": 4,
 "nbformat_minor": 5
}
