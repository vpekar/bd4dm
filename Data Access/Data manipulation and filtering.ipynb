{
 "cells": [
  {
   "cell_type": "code",
   "execution_count": 1,
   "id": "1844524f-1955-49ac-9bce-10b6ac5c8a7f",
   "metadata": {},
   "outputs": [],
   "source": [
    "import pandas as pd\n",
    "import numpy as np\n",
    "import seaborn as sns\n",
    "\n",
    "sns.set_theme(palette=\"Set2\")\n",
    "\n",
    "df = pd.read_csv(\"world-data-2023.csv\")"
   ]
  },
  {
   "cell_type": "markdown",
   "id": "b4657105-9d8c-413b-950a-0637978969c8",
   "metadata": {},
   "source": [
    "# Replacing a value\n",
    "\n",
    "## Replacing a string\n",
    "\n",
    "### Using string manipulation"
   ]
  },
  {
   "cell_type": "code",
   "execution_count": 2,
   "id": "9d7e9740-39fc-4393-8181-a8001001a020",
   "metadata": {},
   "outputs": [
    {
     "data": {
      "text/plain": [
       "array(['Pashto', 'Albanian', 'Arabic', 'Catalan', 'Portuguese', 'English',\n",
       "       'Spanish', 'Armenian', nan, 'German', 'Azerbaijani language',\n",
       "       'Bengali', 'Russian', 'French', 'Dzongkha', 'Bosnian', 'Malay',\n",
       "       'Bulgarian', 'Kirundi', 'Khmer language', 'Standard Chinese',\n",
       "       'Croatian', 'Greek', 'Czech', 'Danish', 'Modern Standard Arabic',\n",
       "       'Tigrinya', 'Estonian', 'Amharic', 'Fiji Hindi', 'Swedish',\n",
       "       'Georgian', 'Italian', 'Hungarian', 'Icelandic', 'Hindi',\n",
       "       'Indonesian', 'Persian', 'Irish', 'Hebrew', 'Jamaican English',\n",
       "       'Swahili', 'Lao', 'Latvian', 'Lithuanian', 'Luxembourgish',\n",
       "       'Malaysian language', 'Divehi', 'Maltese', 'Marshallese',\n",
       "       'Romanian', 'Mongolian', 'Montenegrin language', 'Burmese',\n",
       "       'Nepali', 'Dutch', 'Korean', 'Macedonian', 'Norwegian', 'Urdu',\n",
       "       'Tok Pisin', 'Polish', 'Samoan', 'Serbian', 'Slovak',\n",
       "       'Slovene language', 'Afrikaans', 'Tamil', 'Thai',\n",
       "       'Tongan Language', 'Turkish', 'Turkmen', 'Tuvaluan Language',\n",
       "       'Ukrainian', 'Uzbek', 'Vietnamese', 'Shona'], dtype=object)"
      ]
     },
     "execution_count": 2,
     "metadata": {},
     "output_type": "execute_result"
    }
   ],
   "source": [
    "df[\"Official language\"].unique()"
   ]
  },
  {
   "cell_type": "code",
   "execution_count": 3,
   "id": "fe2c9706-f77e-4538-9ea3-b38222df0670",
   "metadata": {},
   "outputs": [
    {
     "data": {
      "text/plain": [
       "array(['Pashto', 'Albanian', 'Arabic', 'Catalan', 'Portuguese', 'English',\n",
       "       'Spanish', 'Armenian', nan, 'German', 'Azerbaijani', 'Bengali',\n",
       "       'Russian', 'French', 'Dzongkha', 'Bosnian', 'Malay', 'Bulgarian',\n",
       "       'Kirundi', 'Khmer', 'Standard Chinese', 'Croatian', 'Greek',\n",
       "       'Czech', 'Danish', 'Modern Standard Arabic', 'Tigrinya',\n",
       "       'Estonian', 'Amharic', 'Fiji Hindi', 'Swedish', 'Georgian',\n",
       "       'Italian', 'Hungarian', 'Icelandic', 'Hindi', 'Indonesian',\n",
       "       'Persian', 'Irish', 'Hebrew', 'Jamaican English', 'Swahili', 'Lao',\n",
       "       'Latvian', 'Lithuanian', 'Luxembourgish', 'Malaysian', 'Divehi',\n",
       "       'Maltese', 'Marshallese', 'Romanian', 'Mongolian', 'Montenegrin',\n",
       "       'Burmese', 'Nepali', 'Dutch', 'Korean', 'Macedonian', 'Norwegian',\n",
       "       'Urdu', 'Tok Pisin', 'Polish', 'Samoan', 'Serbian', 'Slovak',\n",
       "       'Slovene', 'Afrikaans', 'Tamil', 'Thai', 'Tongan', 'Turkish',\n",
       "       'Turkmen', 'Tuvaluan', 'Ukrainian', 'Uzbek', 'Vietnamese', 'Shona'],\n",
       "      dtype=object)"
      ]
     },
     "execution_count": 3,
     "metadata": {},
     "output_type": "execute_result"
    }
   ],
   "source": [
    "df[\"Official language\"] = df[\"Official language\"].str.replace(\" language\", \"\")\n",
    "df[\"Official language\"] = df[\"Official language\"].str.replace(\" Language\", \"\")\n",
    "df[\"Official language\"].unique()"
   ]
  },
  {
   "cell_type": "markdown",
   "id": "29274350-b7c0-4380-90f0-7cf8d411998c",
   "metadata": {},
   "source": [
    "### Using a regular expression"
   ]
  },
  {
   "cell_type": "code",
   "execution_count": 4,
   "id": "5cf3856a-bc59-46e5-8086-929cefa03342",
   "metadata": {},
   "outputs": [
    {
     "data": {
      "text/plain": [
       "array(['Pashto', 'Albanian', 'Arabic', 'Catalan', 'Portuguese', 'English',\n",
       "       'Spanish', 'Armenian', nan, 'German', 'Azerbaijani', 'Bengali',\n",
       "       'Russian', 'French', 'Dzongkha', 'Bosnian', 'Malay', 'Bulgarian',\n",
       "       'Kirundi', 'Khmer', 'Standard Chinese', 'Croatian', 'Greek',\n",
       "       'Czech', 'Danish', 'Modern Standard Arabic', 'Tigrinya',\n",
       "       'Estonian', 'Amharic', 'Fiji Hindi', 'Swedish', 'Georgian',\n",
       "       'Italian', 'Hungarian', 'Icelandic', 'Hindi', 'Indonesian',\n",
       "       'Persian', 'Irish', 'Hebrew', 'Jamaican English', 'Swahili', 'Lao',\n",
       "       'Latvian', 'Lithuanian', 'Luxembourgish', 'Malaysian', 'Divehi',\n",
       "       'Maltese', 'Marshallese', 'Romanian', 'Mongolian', 'Montenegrin',\n",
       "       'Burmese', 'Nepali', 'Dutch', 'Korean', 'Macedonian', 'Norwegian',\n",
       "       'Urdu', 'Tok Pisin', 'Polish', 'Samoan', 'Serbian', 'Slovak',\n",
       "       'Slovene', 'Afrikaans', 'Tamil', 'Thai', 'Tongan', 'Turkish',\n",
       "       'Turkmen', 'Tuvaluan', 'Ukrainian', 'Uzbek', 'Vietnamese', 'Shona'],\n",
       "      dtype=object)"
      ]
     },
     "execution_count": 4,
     "metadata": {},
     "output_type": "execute_result"
    }
   ],
   "source": [
    "df[\"Official language\"].unique()"
   ]
  },
  {
   "cell_type": "code",
   "execution_count": 5,
   "id": "314114a8-4e85-4ebf-8e50-a359e6090576",
   "metadata": {},
   "outputs": [],
   "source": [
    "df[\"Official language\"] = df[\"Official language\"].str.replace(\"\\s[Ll]anguage\", \"\", regex=True)"
   ]
  },
  {
   "cell_type": "code",
   "execution_count": 6,
   "id": "97357bbc-e39e-48a9-a509-23ff0ea2a188",
   "metadata": {},
   "outputs": [
    {
     "data": {
      "text/plain": [
       "array(['Pashto', 'Albanian', 'Arabic', 'Catalan', 'Portuguese', 'English',\n",
       "       'Spanish', 'Armenian', nan, 'German', 'Azerbaijani', 'Bengali',\n",
       "       'Russian', 'French', 'Dzongkha', 'Bosnian', 'Malay', 'Bulgarian',\n",
       "       'Kirundi', 'Khmer', 'Standard Chinese', 'Croatian', 'Greek',\n",
       "       'Czech', 'Danish', 'Modern Standard Arabic', 'Tigrinya',\n",
       "       'Estonian', 'Amharic', 'Fiji Hindi', 'Swedish', 'Georgian',\n",
       "       'Italian', 'Hungarian', 'Icelandic', 'Hindi', 'Indonesian',\n",
       "       'Persian', 'Irish', 'Hebrew', 'Jamaican English', 'Swahili', 'Lao',\n",
       "       'Latvian', 'Lithuanian', 'Luxembourgish', 'Malaysian', 'Divehi',\n",
       "       'Maltese', 'Marshallese', 'Romanian', 'Mongolian', 'Montenegrin',\n",
       "       'Burmese', 'Nepali', 'Dutch', 'Korean', 'Macedonian', 'Norwegian',\n",
       "       'Urdu', 'Tok Pisin', 'Polish', 'Samoan', 'Serbian', 'Slovak',\n",
       "       'Slovene', 'Afrikaans', 'Tamil', 'Thai', 'Tongan', 'Turkish',\n",
       "       'Turkmen', 'Tuvaluan', 'Ukrainian', 'Uzbek', 'Vietnamese', 'Shona'],\n",
       "      dtype=object)"
      ]
     },
     "execution_count": 6,
     "metadata": {},
     "output_type": "execute_result"
    }
   ],
   "source": [
    "df[\"Official language\"].unique()"
   ]
  },
  {
   "cell_type": "markdown",
   "id": "bb9ea810-4068-4e07-8e43-56434bca70fd",
   "metadata": {},
   "source": [
    "## Extract a substring and put it into a separate column"
   ]
  },
  {
   "cell_type": "code",
   "execution_count": 7,
   "id": "2fb6fc02-3d60-4c20-856c-6d2e874d38f1",
   "metadata": {},
   "outputs": [
    {
     "name": "stdout",
     "output_type": "stream",
     "text": [
      "<class 'pandas.core.frame.DataFrame'>\n",
      "RangeIndex: 195 entries, 0 to 194\n",
      "Data columns (total 35 columns):\n",
      " #   Column                                     Non-Null Count  Dtype  \n",
      "---  ------                                     --------------  -----  \n",
      " 0   Country                                    195 non-null    object \n",
      " 1   Density (P/Km2)                            195 non-null    int64  \n",
      " 2   Agricultural Land( %)                      188 non-null    float64\n",
      " 3   Land Area(Km2)                             194 non-null    float64\n",
      " 4   Armed Forces size                          171 non-null    float64\n",
      " 5   Birth Rate                                 189 non-null    float64\n",
      " 6   Calling Code                               194 non-null    float64\n",
      " 7   Capital/Major City                         192 non-null    object \n",
      " 8   Co2-Emissions                              188 non-null    float64\n",
      " 9   CPI                                        178 non-null    float64\n",
      " 10  CPI Change (%)                             179 non-null    float64\n",
      " 11  Currency-Code                              180 non-null    object \n",
      " 12  Fertility Rate                             188 non-null    float64\n",
      " 13  Forested Area (%)                          188 non-null    float64\n",
      " 14  Gasoline Price (USD)                       175 non-null    float64\n",
      " 15  GDP (USD)                                  193 non-null    float64\n",
      " 16  Gross primary education enrollment (%)     188 non-null    float64\n",
      " 17  Gross tertiary education enrollment (%)    183 non-null    float64\n",
      " 18  Infant mortality                           189 non-null    float64\n",
      " 19  Largest city                               189 non-null    object \n",
      " 20  Life expectancy                            187 non-null    float64\n",
      " 21  Maternal mortality ratio                   181 non-null    float64\n",
      " 22  Minimum wage (USD)                         150 non-null    float64\n",
      " 23  Official language                          190 non-null    object \n",
      " 24  Out of pocket health expenditure (%)       188 non-null    float64\n",
      " 25  Physicians per thousand                    188 non-null    float64\n",
      " 26  Population                                 194 non-null    float64\n",
      " 27  Population: Labor force participation (%)  176 non-null    float64\n",
      " 28  Tax revenue (%)                            169 non-null    float64\n",
      " 29  Total tax rate                             183 non-null    float64\n",
      " 30  Unemployment rate                          176 non-null    float64\n",
      " 31  Urban_population                           190 non-null    float64\n",
      " 32  Latitude                                   194 non-null    float64\n",
      " 33  Longitude                                  194 non-null    float64\n",
      " 34  Abbreviated name                           193 non-null    object \n",
      "dtypes: float64(28), int64(1), object(6)\n",
      "memory usage: 53.4+ KB\n"
     ]
    }
   ],
   "source": [
    "df[\"Abbreviated name\"] = df[\"Country\"].str.extract(\"^([A-Za-z]{3})\")\n",
    "df[\"Abbreviated name\"] = df[\"Abbreviated name\"].str.upper()\n",
    "df.info()"
   ]
  },
  {
   "cell_type": "code",
   "execution_count": 8,
   "id": "c6526fba-0784-4cef-aa44-2fd3b2951cf5",
   "metadata": {},
   "outputs": [
    {
     "data": {
      "text/plain": [
       "array(['AFG', 'ALB', 'ALG', 'AND', 'ANG', 'ANT', 'ARG', 'ARM', 'AUS',\n",
       "       'AZE', 'THE', 'BAH', 'BAN', 'BAR', 'BEL', 'BEN', 'BHU', 'BOL',\n",
       "       'BOS', 'BOT', 'BRA', 'BRU', 'BUL', 'BUR', 'IVO', 'CAP', 'CAM',\n",
       "       'CAN', 'CEN', 'CHA', 'CHI', 'COL', 'COM', 'REP', 'COS', 'CRO',\n",
       "       'CUB', 'CYP', 'CZE', 'DEM', 'DEN', 'DJI', 'DOM', 'ECU', 'EGY', nan,\n",
       "       'EQU', 'ERI', 'EST', 'ESW', 'ETH', 'FIJ', 'FIN', 'FRA', 'GAB',\n",
       "       'GEO', 'GER', 'GHA', 'GRE', 'GUA', 'GUI', 'GUY', 'HAI', 'VAT',\n",
       "       'HON', 'HUN', 'ICE', 'IND', 'IRA', 'ISR', 'ITA', 'JAM', 'JAP',\n",
       "       'JOR', 'KAZ', 'KEN', 'KIR', 'KUW', 'KYR', 'LAO', 'LAT', 'LEB',\n",
       "       'LES', 'LIB', 'LIE', 'LIT', 'LUX', 'MAD', 'MAL', 'MAR', 'MAU',\n",
       "       'MEX', 'FED', 'MOL', 'MON', 'MOR', 'MOZ', 'MYA', 'NAM', 'NAU',\n",
       "       'NEP', 'NET', 'NEW', 'NIC', 'NIG', 'NOR', 'OMA', 'PAK', 'PAL',\n",
       "       'PAN', 'PAP', 'PAR', 'PER', 'PHI', 'POL', 'POR', 'QAT', 'ROM',\n",
       "       'RUS', 'RWA', 'SAI', 'SAM', 'SAN', 'SAU', 'SEN', 'SER', 'SEY',\n",
       "       'SIE', 'SIN', 'SLO', 'SOL', 'SOM', 'SOU', 'SPA', 'SRI', 'SUD',\n",
       "       'SUR', 'SWE', 'SWI', 'SYR', 'TAJ', 'TAN', 'THA', 'EAS', 'TOG',\n",
       "       'TON', 'TRI', 'TUN', 'TUR', 'TUV', 'UGA', 'UKR', 'UNI', 'URU',\n",
       "       'UZB', 'VAN', 'VEN', 'VIE', 'YEM', 'ZAM', 'ZIM'], dtype=object)"
      ]
     },
     "execution_count": 8,
     "metadata": {},
     "output_type": "execute_result"
    }
   ],
   "source": [
    "df[\"Abbreviated name\"].unique()"
   ]
  },
  {
   "cell_type": "markdown",
   "id": "fe583475-3d09-44f9-be85-c2bbe5e7678a",
   "metadata": {},
   "source": [
    "## Replacing non-string values"
   ]
  },
  {
   "cell_type": "code",
   "execution_count": 9,
   "id": "357b3964-46a3-48a7-8d7e-de5259b66419",
   "metadata": {},
   "outputs": [
    {
     "data": {
      "text/plain": [
       "array(['Pashto', 'Albanian', 'Arabic', 'Catalan', 'Portuguese', 'English',\n",
       "       'Spanish', 'Armenian', 'Unknown', 'German', 'Azerbaijani',\n",
       "       'Bengali', 'Russian', 'French', 'Dzongkha', 'Bosnian', 'Malay',\n",
       "       'Bulgarian', 'Kirundi', 'Khmer', 'Standard Chinese', 'Croatian',\n",
       "       'Greek', 'Czech', 'Danish', 'Modern Standard Arabic', 'Tigrinya',\n",
       "       'Estonian', 'Amharic', 'Fiji Hindi', 'Swedish', 'Georgian',\n",
       "       'Italian', 'Hungarian', 'Icelandic', 'Hindi', 'Indonesian',\n",
       "       'Persian', 'Irish', 'Hebrew', 'Jamaican English', 'Swahili', 'Lao',\n",
       "       'Latvian', 'Lithuanian', 'Luxembourgish', 'Malaysian', 'Divehi',\n",
       "       'Maltese', 'Marshallese', 'Romanian', 'Mongolian', 'Montenegrin',\n",
       "       'Burmese', 'Nepali', 'Dutch', 'Korean', 'Macedonian', 'Norwegian',\n",
       "       'Urdu', 'Tok Pisin', 'Polish', 'Samoan', 'Serbian', 'Slovak',\n",
       "       'Slovene', 'Afrikaans', 'Tamil', 'Thai', 'Tongan', 'Turkish',\n",
       "       'Turkmen', 'Tuvaluan', 'Ukrainian', 'Uzbek', 'Vietnamese', 'Shona'],\n",
       "      dtype=object)"
      ]
     },
     "execution_count": 9,
     "metadata": {},
     "output_type": "execute_result"
    }
   ],
   "source": [
    "df[\"Official language\"] = df[\"Official language\"].replace(np.NaN, \"Unknown\")\n",
    "df[\"Official language\"].unique()"
   ]
  },
  {
   "cell_type": "markdown",
   "id": "7f182d68-5267-4e12-91bc-774530b24a69",
   "metadata": {},
   "source": [
    "# Conditional replacement\n",
    "\n",
    "Capping very large values"
   ]
  },
  {
   "cell_type": "code",
   "execution_count": 10,
   "id": "f8332424-2e93-44f5-a255-d6c86731090f",
   "metadata": {},
   "outputs": [
    {
     "data": {
      "image/png": "[encoded data removed]",
      "text/plain": [
       "<Figure size 400x700 with 1 Axes>"
      ]
     },
     "metadata": {},
     "output_type": "display_data"
    }
   ],
   "source": [
    "_ = df[\"Density (P/Km2)\"].hist(figsize=(4, 7))"
   ]
  },
  {
   "cell_type": "code",
   "execution_count": 11,
   "id": "100354e2-e537-4b44-a72b-4274862117d6",
   "metadata": {},
   "outputs": [],
   "source": [
    "df.loc[df[\"Density (P/Km2)\"] > 1000, \"Density (P/Km2)\"] = 1000"
   ]
  },
  {
   "cell_type": "code",
   "execution_count": 12,
   "id": "71c7cc0f-52b9-4f97-8305-6c052a49ed9f",
   "metadata": {},
   "outputs": [
    {
     "data": {
      "text/plain": [
       "<Axes: >"
      ]
     },
     "execution_count": 12,
     "metadata": {},
     "output_type": "execute_result"
    },
    {
     "data": {
      "image/png": "[encoded data removed]",
      "text/plain": [
       "<Figure size 640x480 with 1 Axes>"
      ]
     },
     "metadata": {},
     "output_type": "display_data"
    }
   ],
   "source": [
    "df[\"Density (P/Km2)\"].hist()"
   ]
  },
  {
   "cell_type": "markdown",
   "id": "b10b0069-bcf6-4670-af84-d41ec220fa0d",
   "metadata": {},
   "source": [
    "# Create a new variable\n",
    "\n",
    "## Using vectorised operations"
   ]
  },
  {
   "cell_type": "code",
   "execution_count": 13,
   "id": "53c91037-5299-40d0-991e-3c14f204e1c4",
   "metadata": {},
   "outputs": [
    {
     "name": "stdout",
     "output_type": "stream",
     "text": [
      "<class 'pandas.core.frame.DataFrame'>\n",
      "RangeIndex: 195 entries, 0 to 194\n",
      "Data columns (total 36 columns):\n",
      " #   Column                                     Non-Null Count  Dtype  \n",
      "---  ------                                     --------------  -----  \n",
      " 0   Country                                    195 non-null    object \n",
      " 1   Density (P/Km2)                            195 non-null    int64  \n",
      " 2   Agricultural Land( %)                      188 non-null    float64\n",
      " 3   Land Area(Km2)                             194 non-null    float64\n",
      " 4   Armed Forces size                          171 non-null    float64\n",
      " 5   Birth Rate                                 189 non-null    float64\n",
      " 6   Calling Code                               194 non-null    float64\n",
      " 7   Capital/Major City                         192 non-null    object \n",
      " 8   Co2-Emissions                              188 non-null    float64\n",
      " 9   CPI                                        178 non-null    float64\n",
      " 10  CPI Change (%)                             179 non-null    float64\n",
      " 11  Currency-Code                              180 non-null    object \n",
      " 12  Fertility Rate                             188 non-null    float64\n",
      " 13  Forested Area (%)                          188 non-null    float64\n",
      " 14  Gasoline Price (USD)                       175 non-null    float64\n",
      " 15  GDP (USD)                                  193 non-null    float64\n",
      " 16  Gross primary education enrollment (%)     188 non-null    float64\n",
      " 17  Gross tertiary education enrollment (%)    183 non-null    float64\n",
      " 18  Infant mortality                           189 non-null    float64\n",
      " 19  Largest city                               189 non-null    object \n",
      " 20  Life expectancy                            187 non-null    float64\n",
      " 21  Maternal mortality ratio                   181 non-null    float64\n",
      " 22  Minimum wage (USD)                         150 non-null    float64\n",
      " 23  Official language                          195 non-null    object \n",
      " 24  Out of pocket health expenditure (%)       188 non-null    float64\n",
      " 25  Physicians per thousand                    188 non-null    float64\n",
      " 26  Population                                 194 non-null    float64\n",
      " 27  Population: Labor force participation (%)  176 non-null    float64\n",
      " 28  Tax revenue (%)                            169 non-null    float64\n",
      " 29  Total tax rate                             183 non-null    float64\n",
      " 30  Unemployment rate                          176 non-null    float64\n",
      " 31  Urban_population                           190 non-null    float64\n",
      " 32  Latitude                                   194 non-null    float64\n",
      " 33  Longitude                                  194 non-null    float64\n",
      " 34  Abbreviated name                           193 non-null    object \n",
      " 35  GDP per capita                             193 non-null    float64\n",
      "dtypes: float64(29), int64(1), object(6)\n",
      "memory usage: 55.0+ KB\n"
     ]
    }
   ],
   "source": [
    "df[\"GDP per capita\"] = df[\"GDP (USD)\"]/df[\"Population\"]\n",
    "df.info()"
   ]
  },
  {
   "cell_type": "code",
   "execution_count": 14,
   "id": "beb3e55c-fee2-45f2-beb7-59ee94786412",
   "metadata": {},
   "outputs": [
    {
     "data": {
      "text/html": [
       "<div>\n",
       "<style scoped>\n",
       "    .dataframe tbody tr th:only-of-type {\n",
       "        vertical-align: middle;\n",
       "    }\n",
       "\n",
       "    .dataframe tbody tr th {\n",
       "        vertical-align: top;\n",
       "    }\n",
       "\n",
       "    .dataframe thead th {\n",
       "        text-align: right;\n",
       "    }\n",
       "</style>\n",
       "<table border=\"1\" class=\"dataframe\">\n",
       "  <thead>\n",
       "    <tr style=\"text-align: right;\">\n",
       "      <th></th>\n",
       "      <th>Country</th>\n",
       "      <th>Density (P/Km2)</th>\n",
       "      <th>Agricultural Land( %)</th>\n",
       "      <th>Land Area(Km2)</th>\n",
       "      <th>Armed Forces size</th>\n",
       "      <th>Birth Rate</th>\n",
       "      <th>Calling Code</th>\n",
       "      <th>Capital/Major City</th>\n",
       "      <th>Co2-Emissions</th>\n",
       "      <th>CPI</th>\n",
       "      <th>...</th>\n",
       "      <th>Population</th>\n",
       "      <th>Population: Labor force participation (%)</th>\n",
       "      <th>Tax revenue (%)</th>\n",
       "      <th>Total tax rate</th>\n",
       "      <th>Unemployment rate</th>\n",
       "      <th>Urban_population</th>\n",
       "      <th>Latitude</th>\n",
       "      <th>Longitude</th>\n",
       "      <th>Abbreviated name</th>\n",
       "      <th>GDP per capita</th>\n",
       "    </tr>\n",
       "  </thead>\n",
       "  <tbody>\n",
       "    <tr>\n",
       "      <th>113</th>\n",
       "      <td>Monaco</td>\n",
       "      <td>1000</td>\n",
       "      <td>NaN</td>\n",
       "      <td>2.0</td>\n",
       "      <td>NaN</td>\n",
       "      <td>5.9</td>\n",
       "      <td>377.0</td>\n",
       "      <td>Monaco City</td>\n",
       "      <td>NaN</td>\n",
       "      <td>NaN</td>\n",
       "      <td>...</td>\n",
       "      <td>38964.0</td>\n",
       "      <td>NaN</td>\n",
       "      <td>NaN</td>\n",
       "      <td>NaN</td>\n",
       "      <td>NaN</td>\n",
       "      <td>38964.0</td>\n",
       "      <td>43.74</td>\n",
       "      <td>7.42</td>\n",
       "      <td>MON</td>\n",
       "      <td>184396.986783</td>\n",
       "    </tr>\n",
       "    <tr>\n",
       "      <th>98</th>\n",
       "      <td>Liechtenstein</td>\n",
       "      <td>238</td>\n",
       "      <td>0.32</td>\n",
       "      <td>160.0</td>\n",
       "      <td>NaN</td>\n",
       "      <td>9.9</td>\n",
       "      <td>423.0</td>\n",
       "      <td>Vaduz</td>\n",
       "      <td>51.0</td>\n",
       "      <td>NaN</td>\n",
       "      <td>...</td>\n",
       "      <td>38019.0</td>\n",
       "      <td>NaN</td>\n",
       "      <td>NaN</td>\n",
       "      <td>0.22</td>\n",
       "      <td>NaN</td>\n",
       "      <td>5464.0</td>\n",
       "      <td>47.14</td>\n",
       "      <td>9.52</td>\n",
       "      <td>LIE</td>\n",
       "      <td>172357.472290</td>\n",
       "    </tr>\n",
       "    <tr>\n",
       "      <th>100</th>\n",
       "      <td>Luxembourg</td>\n",
       "      <td>242</td>\n",
       "      <td>0.54</td>\n",
       "      <td>2586.0</td>\n",
       "      <td>2000.0</td>\n",
       "      <td>10.3</td>\n",
       "      <td>352.0</td>\n",
       "      <td>Luxembourg City</td>\n",
       "      <td>8988.0</td>\n",
       "      <td>115.09</td>\n",
       "      <td>...</td>\n",
       "      <td>645397.0</td>\n",
       "      <td>0.59</td>\n",
       "      <td>0.27</td>\n",
       "      <td>0.20</td>\n",
       "      <td>0.05</td>\n",
       "      <td>565488.0</td>\n",
       "      <td>49.82</td>\n",
       "      <td>6.13</td>\n",
       "      <td>LUX</td>\n",
       "      <td>110172.373141</td>\n",
       "    </tr>\n",
       "    <tr>\n",
       "      <th>169</th>\n",
       "      <td>Switzerland</td>\n",
       "      <td>219</td>\n",
       "      <td>0.38</td>\n",
       "      <td>41277.0</td>\n",
       "      <td>21000.0</td>\n",
       "      <td>10.0</td>\n",
       "      <td>41.0</td>\n",
       "      <td>Bern</td>\n",
       "      <td>34477.0</td>\n",
       "      <td>99.55</td>\n",
       "      <td>...</td>\n",
       "      <td>8574832.0</td>\n",
       "      <td>0.68</td>\n",
       "      <td>0.10</td>\n",
       "      <td>0.29</td>\n",
       "      <td>0.05</td>\n",
       "      <td>6332428.0</td>\n",
       "      <td>46.82</td>\n",
       "      <td>8.23</td>\n",
       "      <td>SWI</td>\n",
       "      <td>81993.676378</td>\n",
       "    </tr>\n",
       "    <tr>\n",
       "      <th>81</th>\n",
       "      <td>Republic of Ireland</td>\n",
       "      <td>72</td>\n",
       "      <td>0.65</td>\n",
       "      <td>70273.0</td>\n",
       "      <td>9000.0</td>\n",
       "      <td>12.5</td>\n",
       "      <td>353.0</td>\n",
       "      <td>Dublin</td>\n",
       "      <td>37711.0</td>\n",
       "      <td>106.58</td>\n",
       "      <td>...</td>\n",
       "      <td>5007069.0</td>\n",
       "      <td>0.62</td>\n",
       "      <td>0.18</td>\n",
       "      <td>0.26</td>\n",
       "      <td>0.05</td>\n",
       "      <td>3133123.0</td>\n",
       "      <td>53.41</td>\n",
       "      <td>-8.24</td>\n",
       "      <td>REP</td>\n",
       "      <td>77630.046640</td>\n",
       "    </tr>\n",
       "  </tbody>\n",
       "</table>\n",
       "<p>5 rows × 36 columns</p>\n",
       "</div>"
      ],
      "text/plain": [
       "                 Country  Density (P/Km2)  Agricultural Land( %)  \\\n",
       "113               Monaco             1000                    NaN   \n",
       "98         Liechtenstein              238                   0.32   \n",
       "100           Luxembourg              242                   0.54   \n",
       "169          Switzerland              219                   0.38   \n",
       "81   Republic of Ireland               72                   0.65   \n",
       "\n",
       "     Land Area(Km2)  Armed Forces size  Birth Rate  Calling Code  \\\n",
       "113             2.0                NaN         5.9         377.0   \n",
       "98            160.0                NaN         9.9         423.0   \n",
       "100          2586.0             2000.0        10.3         352.0   \n",
       "169         41277.0            21000.0        10.0          41.0   \n",
       "81          70273.0             9000.0        12.5         353.0   \n",
       "\n",
       "    Capital/Major City  Co2-Emissions     CPI  ...  Population  \\\n",
       "113        Monaco City            NaN     NaN  ...     38964.0   \n",
       "98               Vaduz           51.0     NaN  ...     38019.0   \n",
       "100    Luxembourg City         8988.0  115.09  ...    645397.0   \n",
       "169               Bern        34477.0   99.55  ...   8574832.0   \n",
       "81              Dublin        37711.0  106.58  ...   5007069.0   \n",
       "\n",
       "    Population: Labor force participation (%)  Tax revenue (%)  \\\n",
       "113                                       NaN              NaN   \n",
       "98                                        NaN              NaN   \n",
       "100                                      0.59             0.27   \n",
       "169                                      0.68             0.10   \n",
       "81                                       0.62             0.18   \n",
       "\n",
       "     Total tax rate  Unemployment rate  Urban_population  Latitude  Longitude  \\\n",
       "113             NaN                NaN           38964.0     43.74       7.42   \n",
       "98             0.22                NaN            5464.0     47.14       9.52   \n",
       "100            0.20               0.05          565488.0     49.82       6.13   \n",
       "169            0.29               0.05         6332428.0     46.82       8.23   \n",
       "81             0.26               0.05         3133123.0     53.41      -8.24   \n",
       "\n",
       "     Abbreviated name GDP per capita  \n",
       "113               MON  184396.986783  \n",
       "98                LIE  172357.472290  \n",
       "100               LUX  110172.373141  \n",
       "169               SWI   81993.676378  \n",
       "81                REP   77630.046640  \n",
       "\n",
       "[5 rows x 36 columns]"
      ]
     },
     "execution_count": 14,
     "metadata": {},
     "output_type": "execute_result"
    }
   ],
   "source": [
    "df.nlargest(5, \"GDP per capita\")"
   ]
  },
  {
   "cell_type": "markdown",
   "id": "22904ca6-0b8d-4b0a-959b-105b328e0ec7",
   "metadata": {},
   "source": [
    "## Using `apply`"
   ]
  },
  {
   "cell_type": "code",
   "execution_count": 15,
   "id": "06d2bdac-1588-411f-b164-968e7c9f33f0",
   "metadata": {},
   "outputs": [
    {
     "name": "stdout",
     "output_type": "stream",
     "text": [
      "<class 'pandas.core.frame.DataFrame'>\n",
      "RangeIndex: 195 entries, 0 to 194\n",
      "Data columns (total 37 columns):\n",
      " #   Column                                     Non-Null Count  Dtype  \n",
      "---  ------                                     --------------  -----  \n",
      " 0   Country                                    195 non-null    object \n",
      " 1   Density (P/Km2)                            195 non-null    int64  \n",
      " 2   Agricultural Land( %)                      188 non-null    float64\n",
      " 3   Land Area(Km2)                             194 non-null    float64\n",
      " 4   Armed Forces size                          171 non-null    float64\n",
      " 5   Birth Rate                                 189 non-null    float64\n",
      " 6   Calling Code                               194 non-null    float64\n",
      " 7   Capital/Major City                         192 non-null    object \n",
      " 8   Co2-Emissions                              188 non-null    float64\n",
      " 9   CPI                                        178 non-null    float64\n",
      " 10  CPI Change (%)                             179 non-null    float64\n",
      " 11  Currency-Code                              180 non-null    object \n",
      " 12  Fertility Rate                             188 non-null    float64\n",
      " 13  Forested Area (%)                          188 non-null    float64\n",
      " 14  Gasoline Price (USD)                       175 non-null    float64\n",
      " 15  GDP (USD)                                  193 non-null    float64\n",
      " 16  Gross primary education enrollment (%)     188 non-null    float64\n",
      " 17  Gross tertiary education enrollment (%)    183 non-null    float64\n",
      " 18  Infant mortality                           189 non-null    float64\n",
      " 19  Largest city                               189 non-null    object \n",
      " 20  Life expectancy                            187 non-null    float64\n",
      " 21  Maternal mortality ratio                   181 non-null    float64\n",
      " 22  Minimum wage (USD)                         150 non-null    float64\n",
      " 23  Official language                          195 non-null    object \n",
      " 24  Out of pocket health expenditure (%)       188 non-null    float64\n",
      " 25  Physicians per thousand                    188 non-null    float64\n",
      " 26  Population                                 194 non-null    float64\n",
      " 27  Population: Labor force participation (%)  176 non-null    float64\n",
      " 28  Tax revenue (%)                            169 non-null    float64\n",
      " 29  Total tax rate                             183 non-null    float64\n",
      " 30  Unemployment rate                          176 non-null    float64\n",
      " 31  Urban_population                           190 non-null    float64\n",
      " 32  Latitude                                   194 non-null    float64\n",
      " 33  Longitude                                  194 non-null    float64\n",
      " 34  Abbreviated name                           193 non-null    object \n",
      " 35  GDP per capita                             193 non-null    float64\n",
      " 36  GDP (GBP)                                  193 non-null    float64\n",
      "dtypes: float64(30), int64(1), object(6)\n",
      "memory usage: 56.5+ KB\n"
     ]
    }
   ],
   "source": [
    "def f(row):\n",
    "    xrate = 0.79\n",
    "    row[\"GDP (GBP)\"] = row[\"GDP (USD)\"] * 0.79\n",
    "    return row\n",
    "\n",
    "df = df.apply(f, axis=1)\n",
    "\n",
    "df.info()"
   ]
  },
  {
   "cell_type": "markdown",
   "id": "24db1673-b8dc-4b8e-b945-f400fd26cc81",
   "metadata": {},
   "source": [
    "# Discretise a continuous numerical variable"
   ]
  },
  {
   "cell_type": "code",
   "execution_count": 16,
   "id": "23b4f40c-15d4-4085-aca3-d61e00a0dca3",
   "metadata": {},
   "outputs": [
    {
     "data": {
      "text/plain": [
       "<Axes: >"
      ]
     },
     "execution_count": 16,
     "metadata": {},
     "output_type": "execute_result"
    },
    {
     "data": {
      "image/png": "[encoded data removed]",
      "text/plain": [
       "<Figure size 1200x400 with 1 Axes>"
      ]
     },
     "metadata": {},
     "output_type": "display_data"
    }
   ],
   "source": [
    "df[\"Unemployment rate\"].hist(figsize=(12, 4))"
   ]
  },
  {
   "cell_type": "code",
   "execution_count": 17,
   "id": "6b0db944-9789-4da8-84c0-6948ff028d08",
   "metadata": {},
   "outputs": [
    {
     "name": "stdout",
     "output_type": "stream",
     "text": [
      "<class 'pandas.core.frame.DataFrame'>\n",
      "RangeIndex: 195 entries, 0 to 194\n",
      "Data columns (total 38 columns):\n",
      " #   Column                                     Non-Null Count  Dtype   \n",
      "---  ------                                     --------------  -----   \n",
      " 0   Country                                    195 non-null    object  \n",
      " 1   Density (P/Km2)                            195 non-null    int64   \n",
      " 2   Agricultural Land( %)                      188 non-null    float64 \n",
      " 3   Land Area(Km2)                             194 non-null    float64 \n",
      " 4   Armed Forces size                          171 non-null    float64 \n",
      " 5   Birth Rate                                 189 non-null    float64 \n",
      " 6   Calling Code                               194 non-null    float64 \n",
      " 7   Capital/Major City                         192 non-null    object  \n",
      " 8   Co2-Emissions                              188 non-null    float64 \n",
      " 9   CPI                                        178 non-null    float64 \n",
      " 10  CPI Change (%)                             179 non-null    float64 \n",
      " 11  Currency-Code                              180 non-null    object  \n",
      " 12  Fertility Rate                             188 non-null    float64 \n",
      " 13  Forested Area (%)                          188 non-null    float64 \n",
      " 14  Gasoline Price (USD)                       175 non-null    float64 \n",
      " 15  GDP (USD)                                  193 non-null    float64 \n",
      " 16  Gross primary education enrollment (%)     188 non-null    float64 \n",
      " 17  Gross tertiary education enrollment (%)    183 non-null    float64 \n",
      " 18  Infant mortality                           189 non-null    float64 \n",
      " 19  Largest city                               189 non-null    object  \n",
      " 20  Life expectancy                            187 non-null    float64 \n",
      " 21  Maternal mortality ratio                   181 non-null    float64 \n",
      " 22  Minimum wage (USD)                         150 non-null    float64 \n",
      " 23  Official language                          195 non-null    object  \n",
      " 24  Out of pocket health expenditure (%)       188 non-null    float64 \n",
      " 25  Physicians per thousand                    188 non-null    float64 \n",
      " 26  Population                                 194 non-null    float64 \n",
      " 27  Population: Labor force participation (%)  176 non-null    float64 \n",
      " 28  Tax revenue (%)                            169 non-null    float64 \n",
      " 29  Total tax rate                             183 non-null    float64 \n",
      " 30  Unemployment rate                          176 non-null    float64 \n",
      " 31  Urban_population                           190 non-null    float64 \n",
      " 32  Latitude                                   194 non-null    float64 \n",
      " 33  Longitude                                  194 non-null    float64 \n",
      " 34  Abbreviated name                           193 non-null    object  \n",
      " 35  GDP per capita                             193 non-null    float64 \n",
      " 36  GDP (GBP)                                  193 non-null    float64 \n",
      " 37  Unemployment levels                        174 non-null    category\n",
      "dtypes: category(1), float64(30), int64(1), object(6)\n",
      "memory usage: 56.8+ KB\n"
     ]
    }
   ],
   "source": [
    "df[\"Unemployment levels\"] = pd.cut(df[\"Unemployment rate\"], bins=[0., 0.025, 0.1, np.inf],\n",
    "                                   labels=[\"low\", \"medium\", \"high\"])\n",
    "\n",
    "df.info()"
   ]
  },
  {
   "cell_type": "code",
   "execution_count": 18,
   "id": "95475e39-4e3e-4966-a07a-f176e56a4155",
   "metadata": {},
   "outputs": [
    {
     "data": {
      "text/plain": [
       "<Axes: xlabel='Unemployment levels'>"
      ]
     },
     "execution_count": 18,
     "metadata": {},
     "output_type": "execute_result"
    },
    {
     "data": {
      "image/png": "[encoded data removed]",
      "text/plain": [
       "<Figure size 640x480 with 1 Axes>"
      ]
     },
     "metadata": {},
     "output_type": "display_data"
    }
   ],
   "source": [
    "df[\"Unemployment levels\"].value_counts().plot(kind=\"bar\", rot=0)"
   ]
  },
  {
   "cell_type": "markdown",
   "id": "abc5dddc-c037-4be7-bf75-144e97d8a73c",
   "metadata": {},
   "source": [
    "# Missing values"
   ]
  },
  {
   "cell_type": "code",
   "execution_count": 19,
   "id": "212e9497-6cfa-4bd8-8dd5-c46af910d1e2",
   "metadata": {},
   "outputs": [
    {
     "name": "stdout",
     "output_type": "stream",
     "text": [
      "<class 'pandas.core.frame.DataFrame'>\n",
      "RangeIndex: 195 entries, 0 to 194\n",
      "Data columns (total 38 columns):\n",
      " #   Column                                     Non-Null Count  Dtype   \n",
      "---  ------                                     --------------  -----   \n",
      " 0   Country                                    195 non-null    object  \n",
      " 1   Density (P/Km2)                            195 non-null    int64   \n",
      " 2   Agricultural Land( %)                      188 non-null    float64 \n",
      " 3   Land Area(Km2)                             194 non-null    float64 \n",
      " 4   Armed Forces size                          171 non-null    float64 \n",
      " 5   Birth Rate                                 189 non-null    float64 \n",
      " 6   Calling Code                               194 non-null    float64 \n",
      " 7   Capital/Major City                         192 non-null    object  \n",
      " 8   Co2-Emissions                              188 non-null    float64 \n",
      " 9   CPI                                        178 non-null    float64 \n",
      " 10  CPI Change (%)                             179 non-null    float64 \n",
      " 11  Currency-Code                              180 non-null    object  \n",
      " 12  Fertility Rate                             188 non-null    float64 \n",
      " 13  Forested Area (%)                          188 non-null    float64 \n",
      " 14  Gasoline Price (USD)                       175 non-null    float64 \n",
      " 15  GDP (USD)                                  193 non-null    float64 \n",
      " 16  Gross primary education enrollment (%)     188 non-null    float64 \n",
      " 17  Gross tertiary education enrollment (%)    183 non-null    float64 \n",
      " 18  Infant mortality                           189 non-null    float64 \n",
      " 19  Largest city                               189 non-null    object  \n",
      " 20  Life expectancy                            187 non-null    float64 \n",
      " 21  Maternal mortality ratio                   181 non-null    float64 \n",
      " 22  Minimum wage (USD)                         150 non-null    float64 \n",
      " 23  Official language                          195 non-null    object  \n",
      " 24  Out of pocket health expenditure (%)       188 non-null    float64 \n",
      " 25  Physicians per thousand                    188 non-null    float64 \n",
      " 26  Population                                 194 non-null    float64 \n",
      " 27  Population: Labor force participation (%)  176 non-null    float64 \n",
      " 28  Tax revenue (%)                            169 non-null    float64 \n",
      " 29  Total tax rate                             183 non-null    float64 \n",
      " 30  Unemployment rate                          176 non-null    float64 \n",
      " 31  Urban_population                           190 non-null    float64 \n",
      " 32  Latitude                                   194 non-null    float64 \n",
      " 33  Longitude                                  194 non-null    float64 \n",
      " 34  Abbreviated name                           193 non-null    object  \n",
      " 35  GDP per capita                             193 non-null    float64 \n",
      " 36  GDP (GBP)                                  193 non-null    float64 \n",
      " 37  Unemployment levels                        174 non-null    category\n",
      "dtypes: category(1), float64(30), int64(1), object(6)\n",
      "memory usage: 56.8+ KB\n"
     ]
    }
   ],
   "source": [
    "df.info()"
   ]
  },
  {
   "cell_type": "markdown",
   "id": "33616362-ec14-4f08-adf8-a56e2c869bb8",
   "metadata": {},
   "source": [
    "## Drop columns with many missing values"
   ]
  },
  {
   "cell_type": "code",
   "execution_count": 20,
   "id": "fadbc803-7caf-4199-8fc3-393570375397",
   "metadata": {},
   "outputs": [
    {
     "name": "stdout",
     "output_type": "stream",
     "text": [
      "<class 'pandas.core.frame.DataFrame'>\n",
      "RangeIndex: 195 entries, 0 to 194\n",
      "Data columns (total 29 columns):\n",
      " #   Column                                   Non-Null Count  Dtype  \n",
      "---  ------                                   --------------  -----  \n",
      " 0   Country                                  195 non-null    object \n",
      " 1   Density (P/Km2)                          195 non-null    int64  \n",
      " 2   Agricultural Land( %)                    188 non-null    float64\n",
      " 3   Land Area(Km2)                           194 non-null    float64\n",
      " 4   Birth Rate                               189 non-null    float64\n",
      " 5   Calling Code                             194 non-null    float64\n",
      " 6   Capital/Major City                       192 non-null    object \n",
      " 7   Co2-Emissions                            188 non-null    float64\n",
      " 8   Currency-Code                            180 non-null    object \n",
      " 9   Fertility Rate                           188 non-null    float64\n",
      " 10  Forested Area (%)                        188 non-null    float64\n",
      " 11  GDP (USD)                                193 non-null    float64\n",
      " 12  Gross primary education enrollment (%)   188 non-null    float64\n",
      " 13  Gross tertiary education enrollment (%)  183 non-null    float64\n",
      " 14  Infant mortality                         189 non-null    float64\n",
      " 15  Largest city                             189 non-null    object \n",
      " 16  Life expectancy                          187 non-null    float64\n",
      " 17  Maternal mortality ratio                 181 non-null    float64\n",
      " 18  Official language                        195 non-null    object \n",
      " 19  Out of pocket health expenditure (%)     188 non-null    float64\n",
      " 20  Physicians per thousand                  188 non-null    float64\n",
      " 21  Population                               194 non-null    float64\n",
      " 22  Total tax rate                           183 non-null    float64\n",
      " 23  Urban_population                         190 non-null    float64\n",
      " 24  Latitude                                 194 non-null    float64\n",
      " 25  Longitude                                194 non-null    float64\n",
      " 26  Abbreviated name                         193 non-null    object \n",
      " 27  GDP per capita                           193 non-null    float64\n",
      " 28  GDP (GBP)                                193 non-null    float64\n",
      "dtypes: float64(22), int64(1), object(6)\n",
      "memory usage: 44.3+ KB\n"
     ]
    }
   ],
   "source": [
    "df = df.dropna(thresh=180, axis=1)\n",
    "df.info()"
   ]
  },
  {
   "cell_type": "markdown",
   "id": "0e7309a9-6fd4-4d1e-a424-df99f1c720a1",
   "metadata": {},
   "source": [
    "## Drop rows with missing values"
   ]
  },
  {
   "cell_type": "code",
   "execution_count": 21,
   "id": "1c289a0f-f9ad-4508-901d-5ee1862c9b8f",
   "metadata": {},
   "outputs": [
    {
     "name": "stdout",
     "output_type": "stream",
     "text": [
      "<class 'pandas.core.frame.DataFrame'>\n",
      "Index: 177 entries, 0 to 194\n",
      "Data columns (total 29 columns):\n",
      " #   Column                                   Non-Null Count  Dtype  \n",
      "---  ------                                   --------------  -----  \n",
      " 0   Country                                  177 non-null    object \n",
      " 1   Density (P/Km2)                          177 non-null    int64  \n",
      " 2   Agricultural Land( %)                    177 non-null    float64\n",
      " 3   Land Area(Km2)                           177 non-null    float64\n",
      " 4   Birth Rate                               177 non-null    float64\n",
      " 5   Calling Code                             177 non-null    float64\n",
      " 6   Capital/Major City                       177 non-null    object \n",
      " 7   Co2-Emissions                            177 non-null    float64\n",
      " 8   Currency-Code                            165 non-null    object \n",
      " 9   Fertility Rate                           177 non-null    float64\n",
      " 10  Forested Area (%)                        177 non-null    float64\n",
      " 11  GDP (USD)                                177 non-null    float64\n",
      " 12  Gross primary education enrollment (%)   176 non-null    float64\n",
      " 13  Gross tertiary education enrollment (%)  174 non-null    float64\n",
      " 14  Infant mortality                         177 non-null    float64\n",
      " 15  Largest city                             176 non-null    object \n",
      " 16  Life expectancy                          177 non-null    float64\n",
      " 17  Maternal mortality ratio                 173 non-null    float64\n",
      " 18  Official language                        177 non-null    object \n",
      " 19  Out of pocket health expenditure (%)     177 non-null    float64\n",
      " 20  Physicians per thousand                  177 non-null    float64\n",
      " 21  Population                               177 non-null    float64\n",
      " 22  Total tax rate                           176 non-null    float64\n",
      " 23  Urban_population                         177 non-null    float64\n",
      " 24  Latitude                                 177 non-null    float64\n",
      " 25  Longitude                                177 non-null    float64\n",
      " 26  Abbreviated name                         177 non-null    object \n",
      " 27  GDP per capita                           177 non-null    float64\n",
      " 28  GDP (GBP)                                177 non-null    float64\n",
      "dtypes: float64(22), int64(1), object(6)\n",
      "memory usage: 41.5+ KB\n"
     ]
    }
   ],
   "source": [
    "df = df.dropna(thresh=28, axis=0)\n",
    "df.info()"
   ]
  },
  {
   "cell_type": "markdown",
   "id": "b0a88c15-803c-4b84-b54c-fe5b11e796f4",
   "metadata": {},
   "source": [
    "## Drop rows with missing values only in particular columns"
   ]
  },
  {
   "cell_type": "code",
   "execution_count": 22,
   "id": "cfde8957-fd9d-4dc0-a13e-3c508bc329f0",
   "metadata": {},
   "outputs": [
    {
     "name": "stdout",
     "output_type": "stream",
     "text": [
      "<class 'pandas.core.frame.DataFrame'>\n",
      "Index: 164 entries, 0 to 193\n",
      "Data columns (total 29 columns):\n",
      " #   Column                                   Non-Null Count  Dtype  \n",
      "---  ------                                   --------------  -----  \n",
      " 0   Country                                  164 non-null    object \n",
      " 1   Density (P/Km2)                          164 non-null    int64  \n",
      " 2   Agricultural Land( %)                    164 non-null    float64\n",
      " 3   Land Area(Km2)                           164 non-null    float64\n",
      " 4   Birth Rate                               164 non-null    float64\n",
      " 5   Calling Code                             164 non-null    float64\n",
      " 6   Capital/Major City                       164 non-null    object \n",
      " 7   Co2-Emissions                            164 non-null    float64\n",
      " 8   Currency-Code                            164 non-null    object \n",
      " 9   Fertility Rate                           164 non-null    float64\n",
      " 10  Forested Area (%)                        164 non-null    float64\n",
      " 11  GDP (USD)                                164 non-null    float64\n",
      " 12  Gross primary education enrollment (%)   163 non-null    float64\n",
      " 13  Gross tertiary education enrollment (%)  161 non-null    float64\n",
      " 14  Infant mortality                         164 non-null    float64\n",
      " 15  Largest city                             163 non-null    object \n",
      " 16  Life expectancy                          164 non-null    float64\n",
      " 17  Maternal mortality ratio                 160 non-null    float64\n",
      " 18  Official language                        164 non-null    object \n",
      " 19  Out of pocket health expenditure (%)     164 non-null    float64\n",
      " 20  Physicians per thousand                  164 non-null    float64\n",
      " 21  Population                               164 non-null    float64\n",
      " 22  Total tax rate                           164 non-null    float64\n",
      " 23  Urban_population                         164 non-null    float64\n",
      " 24  Latitude                                 164 non-null    float64\n",
      " 25  Longitude                                164 non-null    float64\n",
      " 26  Abbreviated name                         164 non-null    object \n",
      " 27  GDP per capita                           164 non-null    float64\n",
      " 28  GDP (GBP)                                164 non-null    float64\n",
      "dtypes: float64(22), int64(1), object(6)\n",
      "memory usage: 38.4+ KB\n"
     ]
    }
   ],
   "source": [
    "df = df.dropna(subset=[\"Currency-Code\", \"Total tax rate\"], axis=0)\n",
    "df.info()"
   ]
  },
  {
   "cell_type": "markdown",
   "id": "0e8db2f7-9d4a-4893-8607-45a44ca659d2",
   "metadata": {},
   "source": [
    "# Deduplication"
   ]
  },
  {
   "cell_type": "code",
   "execution_count": 23,
   "id": "bd761a2e-a9ec-4626-acb5-baabb9d0c21e",
   "metadata": {},
   "outputs": [
    {
     "data": {
      "text/html": [
       "<div>\n",
       "<style scoped>\n",
       "    .dataframe tbody tr th:only-of-type {\n",
       "        vertical-align: middle;\n",
       "    }\n",
       "\n",
       "    .dataframe tbody tr th {\n",
       "        vertical-align: top;\n",
       "    }\n",
       "\n",
       "    .dataframe thead th {\n",
       "        text-align: right;\n",
       "    }\n",
       "</style>\n",
       "<table border=\"1\" class=\"dataframe\">\n",
       "  <thead>\n",
       "    <tr style=\"text-align: right;\">\n",
       "      <th></th>\n",
       "      <th>Country</th>\n",
       "      <th>Density (P/Km2)</th>\n",
       "      <th>Agricultural Land( %)</th>\n",
       "      <th>Land Area(Km2)</th>\n",
       "      <th>Birth Rate</th>\n",
       "      <th>Calling Code</th>\n",
       "      <th>Capital/Major City</th>\n",
       "      <th>Co2-Emissions</th>\n",
       "      <th>Currency-Code</th>\n",
       "      <th>Fertility Rate</th>\n",
       "      <th>...</th>\n",
       "      <th>Out of pocket health expenditure (%)</th>\n",
       "      <th>Physicians per thousand</th>\n",
       "      <th>Population</th>\n",
       "      <th>Total tax rate</th>\n",
       "      <th>Urban_population</th>\n",
       "      <th>Latitude</th>\n",
       "      <th>Longitude</th>\n",
       "      <th>Abbreviated name</th>\n",
       "      <th>GDP per capita</th>\n",
       "      <th>GDP (GBP)</th>\n",
       "    </tr>\n",
       "  </thead>\n",
       "  <tbody>\n",
       "    <tr>\n",
       "      <th>155</th>\n",
       "      <td>United Kingdom</td>\n",
       "      <td>281</td>\n",
       "      <td>0.72</td>\n",
       "      <td>243610.0</td>\n",
       "      <td>11.0</td>\n",
       "      <td>44.0</td>\n",
       "      <td>London</td>\n",
       "      <td>379025.0</td>\n",
       "      <td>GBP</td>\n",
       "      <td>1.68</td>\n",
       "      <td>...</td>\n",
       "      <td>0.15</td>\n",
       "      <td>2.81</td>\n",
       "      <td>66834405.0</td>\n",
       "      <td>0.31</td>\n",
       "      <td>55908316.0</td>\n",
       "      <td>55.38</td>\n",
       "      <td>-3.44</td>\n",
       "      <td>UNI</td>\n",
       "      <td>42300.219475</td>\n",
       "      <td>2.233417e+12</td>\n",
       "    </tr>\n",
       "    <tr>\n",
       "      <th>164</th>\n",
       "      <td>Great Britain</td>\n",
       "      <td>281</td>\n",
       "      <td>0.72</td>\n",
       "      <td>243610.0</td>\n",
       "      <td>11.0</td>\n",
       "      <td>44.0</td>\n",
       "      <td>London</td>\n",
       "      <td>379025.0</td>\n",
       "      <td>GBP</td>\n",
       "      <td>1.68</td>\n",
       "      <td>...</td>\n",
       "      <td>0.15</td>\n",
       "      <td>2.81</td>\n",
       "      <td>66834405.0</td>\n",
       "      <td>0.31</td>\n",
       "      <td>55908316.0</td>\n",
       "      <td>55.38</td>\n",
       "      <td>-3.44</td>\n",
       "      <td>UNI</td>\n",
       "      <td>42300.219475</td>\n",
       "      <td>2.233417e+12</td>\n",
       "    </tr>\n",
       "  </tbody>\n",
       "</table>\n",
       "<p>2 rows × 29 columns</p>\n",
       "</div>"
      ],
      "text/plain": [
       "            Country  Density (P/Km2)  Agricultural Land( %)  Land Area(Km2)  \\\n",
       "155  United Kingdom              281                   0.72        243610.0   \n",
       "164   Great Britain              281                   0.72        243610.0   \n",
       "\n",
       "     Birth Rate  Calling Code Capital/Major City  Co2-Emissions Currency-Code  \\\n",
       "155        11.0          44.0             London       379025.0           GBP   \n",
       "164        11.0          44.0             London       379025.0           GBP   \n",
       "\n",
       "     Fertility Rate  ...  Out of pocket health expenditure (%)  \\\n",
       "155            1.68  ...                                  0.15   \n",
       "164            1.68  ...                                  0.15   \n",
       "\n",
       "     Physicians per thousand  Population  Total tax rate  Urban_population  \\\n",
       "155                     2.81  66834405.0            0.31        55908316.0   \n",
       "164                     2.81  66834405.0            0.31        55908316.0   \n",
       "\n",
       "    Latitude  Longitude  Abbreviated name GDP per capita     GDP (GBP)  \n",
       "155    55.38      -3.44               UNI   42300.219475  2.233417e+12  \n",
       "164    55.38      -3.44               UNI   42300.219475  2.233417e+12  \n",
       "\n",
       "[2 rows x 29 columns]"
      ]
     },
     "execution_count": 23,
     "metadata": {},
     "output_type": "execute_result"
    }
   ],
   "source": [
    "df_uk = df[df[\"Country\"] == \"United Kingdom\"]\n",
    "df_uk.loc[:, \"Country\"] = \"Great Britain\"\n",
    "df = pd.concat([df, df_uk]).reset_index(drop=True)\n",
    "df[df[\"Capital/Major City\"] == \"London\"]"
   ]
  },
  {
   "cell_type": "code",
   "execution_count": 24,
   "id": "55af7d04-f31f-4762-b905-b03ef8e87027",
   "metadata": {
    "scrolled": true
   },
   "outputs": [
    {
     "data": {
      "text/html": [
       "<div>\n",
       "<style scoped>\n",
       "    .dataframe tbody tr th:only-of-type {\n",
       "        vertical-align: middle;\n",
       "    }\n",
       "\n",
       "    .dataframe tbody tr th {\n",
       "        vertical-align: top;\n",
       "    }\n",
       "\n",
       "    .dataframe thead th {\n",
       "        text-align: right;\n",
       "    }\n",
       "</style>\n",
       "<table border=\"1\" class=\"dataframe\">\n",
       "  <thead>\n",
       "    <tr style=\"text-align: right;\">\n",
       "      <th></th>\n",
       "      <th>Country</th>\n",
       "      <th>Density (P/Km2)</th>\n",
       "      <th>Agricultural Land( %)</th>\n",
       "      <th>Land Area(Km2)</th>\n",
       "      <th>Birth Rate</th>\n",
       "      <th>Calling Code</th>\n",
       "      <th>Capital/Major City</th>\n",
       "      <th>Co2-Emissions</th>\n",
       "      <th>Currency-Code</th>\n",
       "      <th>Fertility Rate</th>\n",
       "      <th>...</th>\n",
       "      <th>Out of pocket health expenditure (%)</th>\n",
       "      <th>Physicians per thousand</th>\n",
       "      <th>Population</th>\n",
       "      <th>Total tax rate</th>\n",
       "      <th>Urban_population</th>\n",
       "      <th>Latitude</th>\n",
       "      <th>Longitude</th>\n",
       "      <th>Abbreviated name</th>\n",
       "      <th>GDP per capita</th>\n",
       "      <th>GDP (GBP)</th>\n",
       "    </tr>\n",
       "  </thead>\n",
       "  <tbody>\n",
       "    <tr>\n",
       "      <th>155</th>\n",
       "      <td>United Kingdom</td>\n",
       "      <td>281</td>\n",
       "      <td>0.72</td>\n",
       "      <td>243610.0</td>\n",
       "      <td>11.0</td>\n",
       "      <td>44.0</td>\n",
       "      <td>London</td>\n",
       "      <td>379025.0</td>\n",
       "      <td>GBP</td>\n",
       "      <td>1.68</td>\n",
       "      <td>...</td>\n",
       "      <td>0.15</td>\n",
       "      <td>2.81</td>\n",
       "      <td>66834405.0</td>\n",
       "      <td>0.31</td>\n",
       "      <td>55908316.0</td>\n",
       "      <td>55.38</td>\n",
       "      <td>-3.44</td>\n",
       "      <td>UNI</td>\n",
       "      <td>42300.219475</td>\n",
       "      <td>2.233417e+12</td>\n",
       "    </tr>\n",
       "  </tbody>\n",
       "</table>\n",
       "<p>1 rows × 29 columns</p>\n",
       "</div>"
      ],
      "text/plain": [
       "            Country  Density (P/Km2)  Agricultural Land( %)  Land Area(Km2)  \\\n",
       "155  United Kingdom              281                   0.72        243610.0   \n",
       "\n",
       "     Birth Rate  Calling Code Capital/Major City  Co2-Emissions Currency-Code  \\\n",
       "155        11.0          44.0             London       379025.0           GBP   \n",
       "\n",
       "     Fertility Rate  ...  Out of pocket health expenditure (%)  \\\n",
       "155            1.68  ...                                  0.15   \n",
       "\n",
       "     Physicians per thousand  Population  Total tax rate  Urban_population  \\\n",
       "155                     2.81  66834405.0            0.31        55908316.0   \n",
       "\n",
       "    Latitude  Longitude  Abbreviated name GDP per capita     GDP (GBP)  \n",
       "155    55.38      -3.44               UNI   42300.219475  2.233417e+12  \n",
       "\n",
       "[1 rows x 29 columns]"
      ]
     },
     "execution_count": 24,
     "metadata": {},
     "output_type": "execute_result"
    }
   ],
   "source": [
    "df = df.drop_duplicates(subset=[\"Capital/Major City\", \"Currency-Code\"])\n",
    "df[df[\"Capital/Major City\"] == \"London\"]"
   ]
  },
  {
   "cell_type": "markdown",
   "id": "d162941f-0134-4874-8320-8e53b9ccc40d",
   "metadata": {},
   "source": [
    "# Filtering"
   ]
  },
  {
   "cell_type": "markdown",
   "id": "60e833e0-45b2-48db-99c9-cea7c98dc409",
   "metadata": {},
   "source": [
    "## Select a subset of columns"
   ]
  },
  {
   "cell_type": "code",
   "execution_count": 25,
   "id": "715ab8ed-3ed7-446b-a7cc-ad817377ab76",
   "metadata": {},
   "outputs": [
    {
     "name": "stdout",
     "output_type": "stream",
     "text": [
      "<class 'pandas.core.frame.DataFrame'>\n",
      "Index: 164 entries, 0 to 163\n",
      "Data columns (total 4 columns):\n",
      " #   Column                 Non-Null Count  Dtype  \n",
      "---  ------                 --------------  -----  \n",
      " 0   Country                164 non-null    object \n",
      " 1   Density (P/Km2)        164 non-null    int64  \n",
      " 2   Agricultural Land( %)  164 non-null    float64\n",
      " 3   Land Area(Km2)         164 non-null    float64\n",
      "dtypes: float64(2), int64(1), object(1)\n",
      "memory usage: 6.4+ KB\n"
     ]
    }
   ],
   "source": [
    "df2 = df[[\"Country\", \"Density (P/Km2)\", \"Agricultural Land( %)\", \"Land Area(Km2)\"]]\n",
    "df2.info()"
   ]
  },
  {
   "cell_type": "code",
   "execution_count": 26,
   "id": "e1f2cc05-6b69-4e80-9964-7e4470247e03",
   "metadata": {},
   "outputs": [
    {
     "name": "stdout",
     "output_type": "stream",
     "text": [
      "<class 'pandas.core.frame.DataFrame'>\n",
      "Index: 5 entries, 56 to 155\n",
      "Data columns (total 29 columns):\n",
      " #   Column                                   Non-Null Count  Dtype  \n",
      "---  ------                                   --------------  -----  \n",
      " 0   Country                                  5 non-null      object \n",
      " 1   Density (P/Km2)                          5 non-null      int64  \n",
      " 2   Agricultural Land( %)                    5 non-null      float64\n",
      " 3   Land Area(Km2)                           5 non-null      float64\n",
      " 4   Birth Rate                               5 non-null      float64\n",
      " 5   Calling Code                             5 non-null      float64\n",
      " 6   Capital/Major City                       5 non-null      object \n",
      " 7   Co2-Emissions                            5 non-null      float64\n",
      " 8   Currency-Code                            5 non-null      object \n",
      " 9   Fertility Rate                           5 non-null      float64\n",
      " 10  Forested Area (%)                        5 non-null      float64\n",
      " 11  GDP (USD)                                5 non-null      float64\n",
      " 12  Gross primary education enrollment (%)   5 non-null      float64\n",
      " 13  Gross tertiary education enrollment (%)  5 non-null      float64\n",
      " 14  Infant mortality                         5 non-null      float64\n",
      " 15  Largest city                             5 non-null      object \n",
      " 16  Life expectancy                          5 non-null      float64\n",
      " 17  Maternal mortality ratio                 5 non-null      float64\n",
      " 18  Official language                        5 non-null      object \n",
      " 19  Out of pocket health expenditure (%)     5 non-null      float64\n",
      " 20  Physicians per thousand                  5 non-null      float64\n",
      " 21  Population                               5 non-null      float64\n",
      " 22  Total tax rate                           5 non-null      float64\n",
      " 23  Urban_population                         5 non-null      float64\n",
      " 24  Latitude                                 5 non-null      float64\n",
      " 25  Longitude                                5 non-null      float64\n",
      " 26  Abbreviated name                         5 non-null      object \n",
      " 27  GDP per capita                           5 non-null      float64\n",
      " 28  GDP (GBP)                                5 non-null      float64\n",
      "dtypes: float64(22), int64(1), object(6)\n",
      "memory usage: 1.2+ KB\n"
     ]
    }
   ],
   "source": [
    "df2 = df[(df[\"Density (P/Km2)\"] > 200) & (df[\"Co2-Emissions\"] > 300000)]\n",
    "df2.info()"
   ]
  },
  {
   "cell_type": "markdown",
   "id": "c8564a4d-3190-466c-80ad-fcc15df20f58",
   "metadata": {},
   "source": [
    "# Citing this notebook\n",
    "\n",
    "If you use this notebook in your work, please cite it as follows:\n",
    "    \n",
    "Pekar, V. (2024). Big Data for Decision Making. Lecture examples and exercises. (Version 1.0.0). URL: https://github.com/vpekar/bd4dm"
   ]
  },
  {
   "cell_type": "code",
   "execution_count": null,
   "id": "df2f51cc-78ce-49d1-aa2d-ebe3bbfe73a0",
   "metadata": {},
   "outputs": [],
   "source": []
  }
 ],
 "metadata": {
  "kernelspec": {
   "display_name": "Python 3 (ipykernel)",
   "language": "python",
   "name": "python3"
  },
  "language_info": {
   "codemirror_mode": {
    "name": "ipython",
    "version": 3
   },
   "file_extension": ".py",
   "mimetype": "text/x-python",
   "name": "python",
   "nbconvert_exporter": "python",
   "pygments_lexer": "ipython3",
   "version": "3.9.18"
  }
 },
 "nbformat": 4,
 "nbformat_minor": 5
}
