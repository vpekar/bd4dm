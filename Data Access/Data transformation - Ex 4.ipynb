{
 "cells": [
  {
   "cell_type": "markdown",
   "id": "ad6060ca-bfa2-409d-ac74-07b245ca7bbe",
   "metadata": {},
   "source": [
    "The data file contains data on bank transactions of a company in FY2018:\n",
    "\n",
    "- Transaction id;\n",
    "- Purchase order id (each transaction belongs to a purchase order, i.e., each purchase may involve multiple bank transactions);\n",
    "- The net worth of the transaction in Euros;\n",
    "- The date of the transaction;\n",
    "\n",
    "As part of an internal audit, the database must be analysed to establish if it contains any erroneous or fraudulent transactions. As it is impossible to manually verify each purchase order, the auditor would like to use a machine learning model that will automatically label suspicious purchase orders, so they can later be checked by hand. The first step in constructing the model is to extract predictive features from the data.\n",
    "\n",
    "Your goal is to create predictive features for each Purchase Order that will capture:\n",
    "- The number of transactions in the Purchase Order: too many transactions within one order may be suspicious.\n",
    "- The average size of the transactions of the Purchase Order: too small or too large transactions are likely to be fraudulent.\n",
    "- The spread of the money amounts of the transactions: the more varied are the amounts of the transactions, the more suspicious is the purchase order.\n",
    "- The spread of the transactions in time: the larger the spread, the more suspicious is the purchase order.\n",
    "- If the Purchase Order contains transactions outside of the financial year, i.e. before 06-04-2018 or after 06-04-2019.\n",
    "\n",
    "The result must be a dataframe containing Purchase Order id and the five columns representing the five predictive features.\n",
    "\n",
    "The source of the data is https://icpmconference.org/2019/icpm-2019/contests-challenges/bpi-challenge-2019/"
   ]
  },
  {
   "cell_type": "code",
   "execution_count": null,
   "id": "00ba3337-3272-41db-bfca-731ab4835b60",
   "metadata": {},
   "outputs": [],
   "source": [
    "import pandas as pd\n",
    "from datetime import datetime"
   ]
  },
  {
   "cell_type": "code",
   "execution_count": null,
   "id": "02107deb-122b-4759-a887-24e19e7ee406",
   "metadata": {},
   "outputs": [],
   "source": [
    "# load the data\n",
    "???"
   ]
  },
  {
   "cell_type": "code",
   "execution_count": null,
   "id": "425646f1-7fc0-4af9-8f86-dcf0486dfc74",
   "metadata": {},
   "outputs": [],
   "source": [
    "# check columns and their datatypes\n",
    "???"
   ]
  },
  {
   "cell_type": "code",
   "execution_count": null,
   "id": "dc0a3794-9fd7-4df3-be27-ecc5ec377900",
   "metadata": {},
   "outputs": [],
   "source": [
    "# inspect the first several rows\n",
    "???"
   ]
  },
  {
   "cell_type": "code",
   "execution_count": null,
   "id": "2320fc30-d2ad-4aa7-b3e9-595ebc17a087",
   "metadata": {},
   "outputs": [],
   "source": [
    "# convert timestamp to datetime\n",
    "df[\"timestamp\"] = pd.to_datetime(df[\"timestamp\"], format=\"???\")"
   ]
  },
  {
   "cell_type": "code",
   "execution_count": null,
   "id": "06efc2a3-79bf-4156-8740-69b30f2e74b2",
   "metadata": {},
   "outputs": [],
   "source": [
    "def days_diff(group_col):\n",
    "    diff = group_col.max() - group_col.min()\n",
    "    return diff.days\n",
    "\n",
    "def date_outside_2018(group_col):\n",
    "    if group_col.max() > datetime(2019, 4, 6):\n",
    "        return False\n",
    "    elif group_col.min() < datetime(2018, 4, 6):\n",
    "        return False\n",
    "    else:\n",
    "        return True"
   ]
  },
  {
   "cell_type": "code",
   "execution_count": null,
   "id": "a144ed29-f268-409c-babb-09b2916b0376",
   "metadata": {},
   "outputs": [],
   "source": [
    "# extract features\n",
    "???"
   ]
  },
  {
   "cell_type": "code",
   "execution_count": null,
   "id": "1e6606a9-95bf-4b03-8e5c-78cb8e438f21",
   "metadata": {},
   "outputs": [],
   "source": []
  }
 ],
 "metadata": {
  "kernelspec": {
   "display_name": "Python 3 (ipykernel)",
   "language": "python",
   "name": "python3"
  },
  "language_info": {
   "codemirror_mode": {
    "name": "ipython",
    "version": 3
   },
   "file_extension": ".py",
   "mimetype": "text/x-python",
   "name": "python",
   "nbconvert_exporter": "python",
   "pygments_lexer": "ipython3",
   "version": "3.9.18"
  }
 },
 "nbformat": 4,
 "nbformat_minor": 5
}
