{
 "cells": [
  {
   "cell_type": "markdown",
   "id": "ab3c6da7-4f14-475f-81e0-e023c67bc2a8",
   "metadata": {},
   "source": [
    "Dealscan is a large database containing detailed information on loans that international companies took over the period between 1982 and 2021. The file dealscan.csv contains a subset of this data, namely for each loan, it stores the borrower's name (\"Borrower_Name\"), the Borrower Id specific to Dealscan (\"Borrower_Id\"), and the financial year when the loan was taken (\"fyear\").\n",
    "\n",
    "Compustat is another database containing financial reporting data on different companies over roughly the same period of time. The file compustat.csv contains a subset of this data, namely the company id specific to Compustat (\"gvkey\"), the company name (\"Borrower_Name\"), and the financial year of the report (\"fyear\").\n",
    "\n",
    "Your task is to link each loan in Dealscan with the data on the borrower contained in Compustat. How many loans can be linked to Compustat? How many loans remain unlinked?"
   ]
  },
  {
   "cell_type": "code",
   "execution_count": null,
   "id": "0f6aa115-e58c-4be6-a448-c6116bf3baad",
   "metadata": {},
   "outputs": [],
   "source": [
    "import pandas as pd\n",
    "import numpy as np"
   ]
  },
  {
   "cell_type": "code",
   "execution_count": null,
   "id": "20824f5a-a3a3-4b69-9623-1bdcf23b2f9f",
   "metadata": {},
   "outputs": [],
   "source": [
    "# load Compustat data and display the columns and types\n",
    "???"
   ]
  },
  {
   "cell_type": "code",
   "execution_count": null,
   "id": "09db3c81-ec42-4fb0-8ed5-dbcf4f949415",
   "metadata": {},
   "outputs": [],
   "source": [
    "# load Dealscan data and display the columns and types\n",
    "???"
   ]
  },
  {
   "cell_type": "code",
   "execution_count": null,
   "id": "773c40b0-c2e8-44e0-80ee-4e6fe399c523",
   "metadata": {},
   "outputs": [],
   "source": [
    "# merge the two dataframes and visually verify the result\n",
    "???"
   ]
  },
  {
   "cell_type": "code",
   "execution_count": null,
   "id": "996fb48c-2be5-4832-aedd-041b1232f784",
   "metadata": {},
   "outputs": [],
   "source": [
    "# How many loans can be linked?\n",
    "???"
   ]
  },
  {
   "cell_type": "code",
   "execution_count": null,
   "id": "8af9e320-d4c6-448d-8432-8d2ce4327e4a",
   "metadata": {},
   "outputs": [],
   "source": [
    "# How many loans remain unlinked?\n",
    "???"
   ]
  },
  {
   "cell_type": "code",
   "execution_count": null,
   "id": "768c23c5-67a0-4416-a91a-3fc7391c2a53",
   "metadata": {},
   "outputs": [],
   "source": []
  }
 ],
 "metadata": {
  "kernelspec": {
   "display_name": "Python 3 (ipykernel)",
   "language": "python",
   "name": "python3"
  },
  "language_info": {
   "codemirror_mode": {
    "name": "ipython",
    "version": 3
   },
   "file_extension": ".py",
   "mimetype": "text/x-python",
   "name": "python",
   "nbconvert_exporter": "python",
   "pygments_lexer": "ipython3",
   "version": "3.9.18"
  }
 },
 "nbformat": 4,
 "nbformat_minor": 5
}
