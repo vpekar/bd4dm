{
 "cells": [
  {
   "cell_type": "markdown",
   "id": "05ca9250-b786-4cf6-9a72-eccdfb13b91e",
   "metadata": {},
   "source": [
    "The datafile contains a series of money amounts in different currencies. Find out the total sums in each currency contained in this file.\n",
    "\n",
    "Note: in some values, the decimal part is separated by a comma, and in some by a dot."
   ]
  },
  {
   "cell_type": "code",
   "execution_count": null,
   "id": "7c71dd5c-87cb-4ce4-8f1f-93368a49010c",
   "metadata": {},
   "outputs": [],
   "source": [
    "import pandas as pd\n",
    "import numpy as np"
   ]
  },
  {
   "cell_type": "code",
   "execution_count": null,
   "id": "84fabc42-a70e-4e1c-a9e0-28c4f3a6fdbb",
   "metadata": {},
   "outputs": [],
   "source": [
    "# read the file and inspect the first several rows\n",
    "???"
   ]
  },
  {
   "cell_type": "code",
   "execution_count": null,
   "id": "b992c653-2040-49f6-a9a7-69c7d55acf1d",
   "metadata": {},
   "outputs": [],
   "source": [
    "# extract the currency symbol and put it into a separate column\n",
    "df[\"Currency\"] = ???"
   ]
  },
  {
   "cell_type": "code",
   "execution_count": null,
   "id": "b3c2a77a-5f5f-46bb-a182-3744644382a2",
   "metadata": {},
   "outputs": [],
   "source": [
    "# replace commas with dots, for consistency\n",
    "df[\"Value\"] = ???"
   ]
  },
  {
   "cell_type": "code",
   "execution_count": null,
   "id": "e03975ca-bb9e-4173-a196-dfc1c722eabf",
   "metadata": {},
   "outputs": [],
   "source": [
    "# extract the amount and put it into a separate column\n",
    "df[\"Amount\"] = ???"
   ]
  },
  {
   "cell_type": "code",
   "execution_count": null,
   "id": "e370296b-7dce-4960-90d6-22caa87b2deb",
   "metadata": {},
   "outputs": [],
   "source": [
    "# inspect the resulting columns\n",
    "???"
   ]
  },
  {
   "cell_type": "code",
   "execution_count": null,
   "id": "96171cd6-a4ba-42b2-bf48-b69484dddd56",
   "metadata": {},
   "outputs": [],
   "source": [
    "# check if there are any missing values in any of the columns\n",
    "df.isnull().sum()"
   ]
  },
  {
   "cell_type": "code",
   "execution_count": null,
   "id": "30c6f3ff-79fd-4afe-a000-d75bd01ba71f",
   "metadata": {},
   "outputs": [],
   "source": [
    "# before we can calculate sums, convert the Amount column to float\n",
    "df[\"Amount\"] = df[\"Amount\"].astype(\"float\")"
   ]
  },
  {
   "cell_type": "code",
   "execution_count": null,
   "id": "a56127cf-e310-4a0b-907c-898bbb870501",
   "metadata": {},
   "outputs": [],
   "source": [
    "# sum up the values for each currency\n",
    "???"
   ]
  },
  {
   "cell_type": "code",
   "execution_count": null,
   "id": "f3e61b73-ec27-4968-8e25-463b2e46f7df",
   "metadata": {},
   "outputs": [],
   "source": []
  }
 ],
 "metadata": {
  "kernelspec": {
   "display_name": "Python 3 (ipykernel)",
   "language": "python",
   "name": "python3"
  },
  "language_info": {
   "codemirror_mode": {
    "name": "ipython",
    "version": 3
   },
   "file_extension": ".py",
   "mimetype": "text/x-python",
   "name": "python",
   "nbconvert_exporter": "python",
   "pygments_lexer": "ipython3",
   "version": "3.9.18"
  }
 },
 "nbformat": 4,
 "nbformat_minor": 5
}
