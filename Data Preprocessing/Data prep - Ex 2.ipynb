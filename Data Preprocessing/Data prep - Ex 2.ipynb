{
 "cells": [
  {
   "cell_type": "markdown",
   "id": "bcae0200",
   "metadata": {},
   "source": [
    "Using the data contained in the two data files from the previous exercise, find out how the severity of the accident is related to the age of the vehicle."
   ]
  },
  {
   "cell_type": "code",
   "execution_count": null,
   "id": "e977cb37",
   "metadata": {},
   "outputs": [],
   "source": [
    "# import Pandas and Numpy packages\n",
    "\n",
    "???\n",
    "\n",
    "import seaborn as sns\n",
    "\n",
    "sns.set_theme(palette=\"Set2\")"
   ]
  },
  {
   "cell_type": "code",
   "execution_count": null,
   "id": "50ef5c1a",
   "metadata": {},
   "outputs": [],
   "source": [
    "# load the data\n",
    "df1 = pd.read_csv(\"accidents.csv\")\n",
    "df2 = pd.read_csv(\"vehicles.csv\")"
   ]
  },
  {
   "cell_type": "code",
   "execution_count": null,
   "id": "6b3cd952",
   "metadata": {},
   "outputs": [],
   "source": [
    "# check values in the Age_of_Vehicle of the vehicles dataframe\n",
    "df2[\"Age_of_Vehicle\"].unique()"
   ]
  },
  {
   "cell_type": "markdown",
   "id": "847b81d3",
   "metadata": {},
   "source": [
    "\"-1\" in the \"Age_of_Vehicle\" column suggests the age of the car is unknown. Let's replace it with the `np.NaN` symbol. This will make it easier for us to drop all rows with missing values."
   ]
  },
  {
   "cell_type": "code",
   "execution_count": null,
   "id": "60e2d065",
   "metadata": {},
   "outputs": [],
   "source": [
    "# replace \"-1\" with np.NaN\n",
    "df2.loc[:, \"Age_of_Vehicle\"] = ???"
   ]
  },
  {
   "cell_type": "code",
   "execution_count": null,
   "id": "863f6b99",
   "metadata": {},
   "outputs": [],
   "source": [
    "# drop rows with missing values\n",
    "df2.dropna(inplace=True)"
   ]
  },
  {
   "cell_type": "markdown",
   "id": "48082313",
   "metadata": {
    "ExecuteTime": {
     "end_time": "2022-12-18T21:02:12.242934Z",
     "start_time": "2022-12-18T21:02:12.226977Z"
    }
   },
   "source": [
    "# Merging two dataframes on a column\n",
    "\n",
    "The two kinds of information, the severity of the accident and the age of the vehicle are contained in different dataframes, so we need to join them. They can be joined using the \"Accident_Index\" column, which is present in both of them.\n",
    "\n",
    "To merge two dataframes, on a column, we can use `pd.merge`. It works as follows:\n",
    "\n",
    "`result = pd.merge(left, right, on='key')`"
   ]
  },
  {
   "cell_type": "code",
   "execution_count": null,
   "id": "380b8070",
   "metadata": {},
   "outputs": [],
   "source": [
    "left = pd.DataFrame({\"key\": [0, 1, 2], \"a\": [\"a0\", \"a1\", \"a2\"], \"b\": [\"b0\", \"b1\", \"b2\"]})\n",
    "left.head()"
   ]
  },
  {
   "cell_type": "code",
   "execution_count": null,
   "id": "b4c34f76",
   "metadata": {},
   "outputs": [],
   "source": [
    "right = pd.DataFrame({\"key\": [0, 1, 2], \"c\": [\"c0\", \"c1\", \"c2\"], \"d\": [\"d0\", \"d1\", \"d2\"]})\n",
    "right.head()"
   ]
  },
  {
   "cell_type": "code",
   "execution_count": null,
   "id": "9de399f1",
   "metadata": {},
   "outputs": [],
   "source": [
    "result = pd.merge(left, right, on='key')\n",
    "result"
   ]
  },
  {
   "cell_type": "markdown",
   "id": "b7e4a8fe",
   "metadata": {},
   "source": [
    "An important argument in `pd.merge` is `how`. If the keys do not correspond exactly between the two dataframes, one can use it to specify how the merge should occur. It takes the following values:\n",
    "* `left`: use keys in the first dataframe only and attach records from the second dataframe only for matching keys\n",
    "* `right`: use keys in the second dataframe only and attach records from the first dataframe only for matching keys\n",
    "* `inner`: use the intersection of the keys in the two dataframes (this is the default value)\n",
    "* `outer`: use the union of the keys in the two dataframe\n",
    "\n",
    "This becomes important when there is no one-to-one mapping between the two dataframes. Consider this example:"
   ]
  },
  {
   "cell_type": "code",
   "execution_count": null,
   "id": "846da04f",
   "metadata": {},
   "outputs": [],
   "source": [
    "left = pd.DataFrame({\"key\": [0, 1, 2], \"a\": [\"a0\", \"a1\", \"a2\"], \"b\": [\"b0\", \"b1\", \"b2\"]})\n",
    "left.head()"
   ]
  },
  {
   "cell_type": "code",
   "execution_count": null,
   "id": "ddd9c696",
   "metadata": {},
   "outputs": [],
   "source": [
    "right = pd.DataFrame({\"key\": [0, 1, 3, 1],\n",
    "                      \"c\": [\"c0\", \"c1\", \"c3\", \"c4\"],\n",
    "                      \"d\": [\"d0\", \"d1\", \"d3\", \"d4\"]})\n",
    "right.head()"
   ]
  },
  {
   "cell_type": "markdown",
   "id": "4e3efc34",
   "metadata": {},
   "source": [
    "## Left join"
   ]
  },
  {
   "cell_type": "code",
   "execution_count": null,
   "id": "fc0b5153",
   "metadata": {},
   "outputs": [],
   "source": [
    "result = pd.merge(left, right, on='key', how=\"left\")\n",
    "result.head()"
   ]
  },
  {
   "cell_type": "markdown",
   "id": "b7b0f15f",
   "metadata": {},
   "source": [
    "## Right join"
   ]
  },
  {
   "cell_type": "code",
   "execution_count": null,
   "id": "7ac3a33e",
   "metadata": {},
   "outputs": [],
   "source": [
    "result = pd.merge(left, right, on='key', how=\"right\")\n",
    "result.head()"
   ]
  },
  {
   "cell_type": "markdown",
   "id": "9ca779e0",
   "metadata": {},
   "source": [
    "## Inner join"
   ]
  },
  {
   "cell_type": "code",
   "execution_count": null,
   "id": "d6df2417",
   "metadata": {},
   "outputs": [],
   "source": [
    "result = pd.merge(left, right, on='key', how=\"inner\")\n",
    "result.head()"
   ]
  },
  {
   "cell_type": "markdown",
   "id": "73497ede",
   "metadata": {},
   "source": [
    "## Outer join"
   ]
  },
  {
   "cell_type": "code",
   "execution_count": null,
   "id": "fff649a3",
   "metadata": {},
   "outputs": [],
   "source": [
    "result = pd.merge(left, right, on='key', how=\"outer\")\n",
    "result.head()"
   ]
  },
  {
   "cell_type": "markdown",
   "id": "21f32f51",
   "metadata": {},
   "source": [
    "More details in the pandas [documentation](https://pandas.pydata.org/pandas-docs/stable/user_guide/merging.html), see the \"Brief primer on merge methods (relational algebra)\"."
   ]
  },
  {
   "cell_type": "markdown",
   "id": "98a3b4e8",
   "metadata": {},
   "source": [
    "## Solution\n",
    "\n",
    "Choose appropriate options of `merge` to combine the accidents and the vehicle dataframes. Check that the merge was successful."
   ]
  },
  {
   "cell_type": "code",
   "execution_count": null,
   "id": "8b0c0572",
   "metadata": {},
   "outputs": [],
   "source": []
  },
  {
   "cell_type": "markdown",
   "id": "d8b71a7d",
   "metadata": {},
   "source": [
    "Determine the relationship between the severity of the accident and the age of the vehicle."
   ]
  },
  {
   "cell_type": "code",
   "execution_count": null,
   "id": "566867dc",
   "metadata": {},
   "outputs": [],
   "source": []
  },
  {
   "cell_type": "code",
   "execution_count": null,
   "id": "42741c75",
   "metadata": {},
   "outputs": [],
   "source": []
  },
  {
   "cell_type": "markdown",
   "id": "104c031f",
   "metadata": {},
   "source": [
    "# Citing this notebook\n",
    "\n",
    "If you use this notebook in your work, please cite it as follows:\n",
    "    \n",
    "Pekar, V. (2022). Big Data for Decision Making. Lecture examples and exercises. (Version 1.0.0). URL: https://github.com/vpekar/bd4dm"
   ]
  },
  {
   "cell_type": "code",
   "execution_count": null,
   "id": "80cb1268",
   "metadata": {},
   "outputs": [],
   "source": []
  }
 ],
 "metadata": {
  "kernelspec": {
   "display_name": "Python 3 (ipykernel)",
   "language": "python",
   "name": "python3"
  },
  "language_info": {
   "codemirror_mode": {
    "name": "ipython",
    "version": 3
   },
   "file_extension": ".py",
   "mimetype": "text/x-python",
   "name": "python",
   "nbconvert_exporter": "python",
   "pygments_lexer": "ipython3",
   "version": "3.9.18"
  },
  "toc": {
   "base_numbering": 1,
   "nav_menu": {},
   "number_sections": true,
   "sideBar": true,
   "skip_h1_title": false,
   "title_cell": "Table of Contents",
   "title_sidebar": "Contents",
   "toc_cell": false,
   "toc_position": {},
   "toc_section_display": true,
   "toc_window_display": false
  }
 },
 "nbformat": 4,
 "nbformat_minor": 5
}
