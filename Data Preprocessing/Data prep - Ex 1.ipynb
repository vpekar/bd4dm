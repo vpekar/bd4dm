{
 "cells": [
  {
   "cell_type": "markdown",
   "id": "858788d6",
   "metadata": {},
   "source": [
    "The attached data files are a sample of the UK Road Safety Data for 2019, available from [the UK Department for Transport](https://data.gov.uk/dataset/cb7ae6f0-4be6-4935-9277-47e5ce24a11f/road-safety-data). The first file contains some data on accidents, while the second file contains ages of vehicles that were involved in these accidents.\n",
    "\n",
    "    (1) Find out the number of columns and observations in each file\n",
    "    (2) Find out information stored in each column and the data type of each column\n",
    "    (3) Convert the column containing dates to the datetime type\n",
    "    (4) Plot the number of accidents per day\n",
    "    (5) Find out how many accidents happened during rain or snow? (bonus question)\n",
    "\n",
    "You need to supply the code in cells indicated with \"???\""
   ]
  },
  {
   "cell_type": "code",
   "execution_count": null,
   "id": "3383bbf3",
   "metadata": {},
   "outputs": [],
   "source": [
    "# import pandas\n",
    "???\n",
    "\n",
    "# import seaborn\n",
    "import seaborn as sns\n",
    "sns.set_theme(palette=\"Set2\")"
   ]
  },
  {
   "cell_type": "code",
   "execution_count": null,
   "id": "3e2a9e96",
   "metadata": {},
   "outputs": [],
   "source": [
    "# load the data\n",
    "df1 = ???\n",
    "df2 = ???"
   ]
  },
  {
   "cell_type": "markdown",
   "id": "6926eef0",
   "metadata": {},
   "source": [
    "# The number of columns and observations in each file"
   ]
  },
  {
   "cell_type": "code",
   "execution_count": null,
   "id": "0ce8f81e",
   "metadata": {},
   "outputs": [],
   "source": [
    "???"
   ]
  },
  {
   "cell_type": "code",
   "execution_count": null,
   "id": "2fbdc86a",
   "metadata": {},
   "outputs": [],
   "source": [
    "???"
   ]
  },
  {
   "cell_type": "markdown",
   "id": "adfb2d85",
   "metadata": {},
   "source": [
    "# Information stored in each column and the data type of each column"
   ]
  },
  {
   "cell_type": "code",
   "execution_count": null,
   "id": "e6366f14",
   "metadata": {},
   "outputs": [],
   "source": [
    "???"
   ]
  },
  {
   "cell_type": "code",
   "execution_count": null,
   "id": "5f18dc26",
   "metadata": {},
   "outputs": [],
   "source": [
    "???"
   ]
  },
  {
   "cell_type": "markdown",
   "id": "a3c5e0bf",
   "metadata": {},
   "source": [
    "# Convert column containing dates to the datetime type"
   ]
  },
  {
   "cell_type": "code",
   "execution_count": null,
   "id": "95a3d2f8",
   "metadata": {},
   "outputs": [],
   "source": [
    "# check how dates are represented\n",
    "df1.head()"
   ]
  },
  {
   "cell_type": "code",
   "execution_count": null,
   "id": "6ad13c29",
   "metadata": {},
   "outputs": [],
   "source": [
    "???"
   ]
  },
  {
   "cell_type": "code",
   "execution_count": null,
   "id": "012d6124",
   "metadata": {},
   "outputs": [],
   "source": [
    "# verify that the conversion was successful\n",
    "???"
   ]
  },
  {
   "cell_type": "markdown",
   "id": "a8091d19",
   "metadata": {},
   "source": [
    "# Plot the number of accidents per day"
   ]
  },
  {
   "cell_type": "code",
   "execution_count": null,
   "id": "5d234e8a",
   "metadata": {},
   "outputs": [],
   "source": [
    "# Group the data by Date\n",
    "tmp = df1.groupby('Date').count()\n",
    "tmp.head()"
   ]
  },
  {
   "cell_type": "code",
   "execution_count": null,
   "id": "ebc5bc8b",
   "metadata": {},
   "outputs": [],
   "source": [
    "???"
   ]
  },
  {
   "cell_type": "markdown",
   "id": "095b880e",
   "metadata": {},
   "source": [
    "# How many accidents happened during rain or snow?"
   ]
  },
  {
   "cell_type": "code",
   "execution_count": null,
   "id": "10973032",
   "metadata": {},
   "outputs": [],
   "source": [
    "# replace integers with string values in the \"Weather_Conditions\" column\n",
    "\n",
    "replacement_dict = {\n",
    "    1: \"Fine no high winds\",\n",
    "    2: \"Raining no high winds\",\n",
    "    3: \"Snowing no high winds\",\n",
    "    4: \"Fine + high winds\",\n",
    "    5: \"Raining + high winds\",\n",
    "    6: \"Snowing + high winds\",\n",
    "    7: \"Fog or mist\",\n",
    "    8: \"Other\",\n",
    "    9: \"Unknown\",\n",
    "    -1: \"Data missing or out of range\"\n",
    "}\n",
    "df1.loc[:, 'Weather_Conditions'] = df1['Weather_Conditions'].map(replacement_dict)"
   ]
  },
  {
   "cell_type": "code",
   "execution_count": null,
   "id": "ddcbe04c",
   "metadata": {},
   "outputs": [],
   "source": [
    "# examine the result\n",
    "\n",
    "# option 1\n",
    "df1.head()\n",
    "\n",
    "# option 2\n",
    "df1[\"Weather_Conditions\"].unique()"
   ]
  },
  {
   "cell_type": "code",
   "execution_count": null,
   "id": "f3e802ca",
   "metadata": {},
   "outputs": [],
   "source": [
    "???"
   ]
  },
  {
   "cell_type": "markdown",
   "id": "05f53f59",
   "metadata": {},
   "source": [
    "# Citing this notebook\n",
    "\n",
    "If you use this notebook in your work, please cite it as follows:\n",
    "    \n",
    "Pekar, V. (2022). Big Data for Decision Making. Lecture examples and exercises. (Version 1.0.0). URL: https://github.com/vpekar/bd4dm"
   ]
  },
  {
   "cell_type": "code",
   "execution_count": null,
   "id": "e7957483",
   "metadata": {},
   "outputs": [],
   "source": []
  }
 ],
 "metadata": {
  "kernelspec": {
   "display_name": "Python 3 (ipykernel)",
   "language": "python",
   "name": "python3"
  },
  "language_info": {
   "codemirror_mode": {
    "name": "ipython",
    "version": 3
   },
   "file_extension": ".py",
   "mimetype": "text/x-python",
   "name": "python",
   "nbconvert_exporter": "python",
   "pygments_lexer": "ipython3",
   "version": "3.9.18"
  },
  "toc": {
   "base_numbering": 1,
   "nav_menu": {},
   "number_sections": true,
   "sideBar": true,
   "skip_h1_title": false,
   "title_cell": "Table of Contents",
   "title_sidebar": "Contents",
   "toc_cell": false,
   "toc_position": {},
   "toc_section_display": true,
   "toc_window_display": false
  }
 },
 "nbformat": 4,
 "nbformat_minor": 5
}
