{
 "cells": [
  {
   "cell_type": "markdown",
   "id": "51d5faba",
   "metadata": {},
   "source": [
    "From the dataset on the turnover of Australian companies, select a region and industry sector, retrieve the corresponding turnover data, and find the appropriate order of differencing to obtain stationary data. Use the ADF test as the stationarity test.\n",
    "\n",
    "Complete your solution by writing code in the lines indicated with \"???\""
   ]
  },
  {
   "cell_type": "code",
   "execution_count": null,
   "id": "390ca2f4",
   "metadata": {},
   "outputs": [],
   "source": [
    "import pandas as pd\n",
    "\n",
    "import seaborn as sns\n",
    "sns.set_theme(palette=\"Set2\")"
   ]
  },
  {
   "cell_type": "code",
   "execution_count": null,
   "id": "8bdc3af2",
   "metadata": {},
   "outputs": [],
   "source": [
    "# load the data\n",
    "df = pd.read_csv(\"aus_retail.csv\")\n",
    "\n",
    "# pick a region and sector\n",
    "region = ???\n",
    "print(f\"Region: {region}\")\n",
    "sector = ???\n",
    "print(f\"Sector: {sector}\")\n",
    "\n",
    "# select a subset of the data for the region and sector\n",
    "???\n",
    "\n",
    "# plot the series\n",
    "???"
   ]
  },
  {
   "cell_type": "code",
   "execution_count": null,
   "id": "7e6d4155",
   "metadata": {},
   "outputs": [],
   "source": [
    "from statsmodels.tsa.stattools import adfuller\n",
    "\n",
    "def do_adf_test(x):\n",
    "    # use regression=\"nc\" for statsmodels <=0.12.2 else regression=\"n\"\n",
    "    adf_stat, pval, lags, obs, crit_vals, icbest = adfuller(x, regression=\"nc\")\n",
    "    print(f\"ADF statistic: {adf_stat}\")\n",
    "    print(f\"p-value: {pval}\")\n",
    "    print(f\"Critical values: {crit_vals}\")"
   ]
  },
  {
   "cell_type": "code",
   "execution_count": null,
   "id": "7b879789",
   "metadata": {},
   "outputs": [],
   "source": [
    "???"
   ]
  },
  {
   "cell_type": "code",
   "execution_count": null,
   "id": "644dc56c",
   "metadata": {},
   "outputs": [],
   "source": []
  }
 ],
 "metadata": {
  "kernelspec": {
   "display_name": "Python 3",
   "language": "python",
   "name": "python3"
  },
  "language_info": {
   "codemirror_mode": {
    "name": "ipython",
    "version": 3
   },
   "file_extension": ".py",
   "mimetype": "text/x-python",
   "name": "python",
   "nbconvert_exporter": "python",
   "pygments_lexer": "ipython3",
   "version": "3.9.7"
  },
  "toc": {
   "base_numbering": 1,
   "nav_menu": {},
   "number_sections": true,
   "sideBar": true,
   "skip_h1_title": false,
   "title_cell": "Table of Contents",
   "title_sidebar": "Contents",
   "toc_cell": false,
   "toc_position": {},
   "toc_section_display": true,
   "toc_window_display": false
  }
 },
 "nbformat": 4,
 "nbformat_minor": 5
}
