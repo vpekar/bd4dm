{
 "cells": [
  {
   "cell_type": "markdown",
   "metadata": {},
   "source": [
    "Please download the file \"trainset.csv\" and save it into same folder as this notebook.\n",
    "\n",
    "The two files are the training and test sets created from the California housing dataset in one of previous sessions."
   ]
  },
  {
   "cell_type": "code",
   "execution_count": 1,
   "metadata": {
    "ExecuteTime": {
     "end_time": "2022-09-08T15:21:33.787821Z",
     "start_time": "2022-09-08T15:21:31.686251Z"
    }
   },
   "outputs": [
    {
     "name": "stderr",
     "output_type": "stream",
     "text": [
      "Intel(R) Extension for Scikit-learn* enabled (https://github.com/intel/scikit-learn-intelex)\n"
     ]
    }
   ],
   "source": [
    "# setting logging to print only error messages\n",
    "import logging\n",
    "logging.basicConfig()\n",
    "logging.getLogger(\"SKLEARNEX\").setLevel(logging.ERROR)\n",
    "\n",
    "import numpy as np\n",
    "import pandas as pd\n",
    "import matplotlib.pyplot as plt\n",
    "import seaborn as sns\n",
    "\n",
    "sns.set_theme(palette=\"Set2\")\n",
    "\n",
    "from sklearn.preprocessing import PolynomialFeatures\n",
    "from sklearn.linear_model import LinearRegression\n",
    "from sklearn.metrics import mean_squared_error\n",
    "from sklearn.model_selection import train_test_split"
   ]
  },
  {
   "cell_type": "markdown",
   "metadata": {},
   "source": [
    "# Interaction features\n",
    "\n",
    "Let's fit a polynomial regression to the training part of the data. We will use the 7 most useful features found previously by the Random Forest algorithm."
   ]
  },
  {
   "cell_type": "code",
   "execution_count": 3,
   "metadata": {
    "ExecuteTime": {
     "end_time": "2022-09-08T15:22:18.709407Z",
     "start_time": "2022-09-08T15:22:18.635589Z"
    }
   },
   "outputs": [],
   "source": [
    "usecols = [\"median_income\", \"INLAND\", \"population_per_household\", \"longitude\", \"latitude\", \n",
    "           \"housing_median_age\", \"rooms_per_household\", \"median_house_value\"]\n",
    "trainset = pd.read_csv(\"trainset.csv\", usecols=usecols)"
   ]
  },
  {
   "cell_type": "markdown",
   "metadata": {},
   "source": [
    "Separate `X` and `y`:"
   ]
  },
  {
   "cell_type": "code",
   "execution_count": 4,
   "metadata": {
    "ExecuteTime": {
     "end_time": "2022-09-08T15:22:19.866178Z",
     "start_time": "2022-09-08T15:22:19.849188Z"
    }
   },
   "outputs": [],
   "source": [
    "Xtrain = trainset.drop(\"median_house_value\", axis=1)\n",
    "\n",
    "ytrain = trainset[\"median_house_value\"].copy()"
   ]
  },
  {
   "cell_type": "code",
   "execution_count": 5,
   "metadata": {
    "ExecuteTime": {
     "end_time": "2022-09-08T15:22:20.498920Z",
     "start_time": "2022-09-08T15:22:20.482435Z"
    }
   },
   "outputs": [
    {
     "data": {
      "text/plain": [
       "(15736, 7)"
      ]
     },
     "execution_count": 5,
     "metadata": {},
     "output_type": "execute_result"
    }
   ],
   "source": [
    "Xtrain.shape"
   ]
  },
  {
   "cell_type": "markdown",
   "metadata": {},
   "source": [
    "There are 7 predictor features in the dataset. We will create third-degree polynomial features. Note that `PolynomialFeatures` also creates **interaction features**, which makes it possible to capture possible interactions between individual predictor features. For example, if there are two features $a$ and $b$ in the dataset, `PolynomialFeatures` will create not only $a^2$ and $b^2$, but also the interaction feature $ab$.\n",
    "\n",
    "The addition of interaction features is meant to account for the possibility that two features may amplify or diminish each other's effect on the target variable. If the estimated coefficients on such interaction features are statistically significant, this is an indication about the joint effect of the features.\n",
    "\n",
    "A useful option in `PolynomialFeatures` is `interaction_only`: if the argument set to `True`, only interaction features will be generated. For example, for $a$ and $b$ only $ab$ will be added.\n",
    "\n",
    "We first create polynomial features:"
   ]
  },
  {
   "cell_type": "code",
   "execution_count": 6,
   "metadata": {
    "ExecuteTime": {
     "end_time": "2022-09-08T15:22:21.685621Z",
     "start_time": "2022-09-08T15:22:21.403305Z"
    }
   },
   "outputs": [],
   "source": [
    "poly_features = PolynomialFeatures(degree=3, include_bias=False)\n",
    "X_poly = poly_features.fit_transform(Xtrain)"
   ]
  },
  {
   "cell_type": "code",
   "execution_count": 7,
   "metadata": {
    "ExecuteTime": {
     "end_time": "2022-09-08T15:22:21.857742Z",
     "start_time": "2022-09-08T15:22:21.852716Z"
    }
   },
   "outputs": [
    {
     "data": {
      "text/plain": [
       "(15736, 119)"
      ]
     },
     "execution_count": 7,
     "metadata": {},
     "output_type": "execute_result"
    }
   ],
   "source": [
    "X_poly.shape"
   ]
  },
  {
   "cell_type": "markdown",
   "metadata": {},
   "source": [
    "Thus, `PolynomialFeatures` increased the number of features from 7 to 119. Beware of applying this transformation to datasets containing many variables and/or using high-degree polynomial features, as the number of features will explode!\n",
    "\n",
    "We can look up the names of features that have been created:"
   ]
  },
  {
   "cell_type": "code",
   "execution_count": 8,
   "metadata": {
    "ExecuteTime": {
     "end_time": "2022-09-08T15:22:23.059785Z",
     "start_time": "2022-09-08T15:22:23.039465Z"
    }
   },
   "outputs": [
    {
     "name": "stdout",
     "output_type": "stream",
     "text": [
      "['longitude' 'latitude' 'housing_median_age' 'median_income'\n",
      " 'rooms_per_household' 'population_per_household' 'INLAND' 'longitude^2'\n",
      " 'longitude latitude' 'longitude housing_median_age'\n",
      " 'longitude median_income' 'longitude rooms_per_household'\n",
      " 'longitude population_per_household' 'longitude INLAND' 'latitude^2'\n",
      " 'latitude housing_median_age' 'latitude median_income'\n",
      " 'latitude rooms_per_household' 'latitude population_per_household'\n",
      " 'latitude INLAND' 'housing_median_age^2'\n",
      " 'housing_median_age median_income'\n",
      " 'housing_median_age rooms_per_household'\n",
      " 'housing_median_age population_per_household' 'housing_median_age INLAND'\n",
      " 'median_income^2' 'median_income rooms_per_household'\n",
      " 'median_income population_per_household' 'median_income INLAND'\n",
      " 'rooms_per_household^2' 'rooms_per_household population_per_household'\n",
      " 'rooms_per_household INLAND' 'population_per_household^2'\n",
      " 'population_per_household INLAND' 'INLAND^2' 'longitude^3'\n",
      " 'longitude^2 latitude' 'longitude^2 housing_median_age'\n",
      " 'longitude^2 median_income' 'longitude^2 rooms_per_household'\n",
      " 'longitude^2 population_per_household' 'longitude^2 INLAND'\n",
      " 'longitude latitude^2' 'longitude latitude housing_median_age'\n",
      " 'longitude latitude median_income'\n",
      " 'longitude latitude rooms_per_household'\n",
      " 'longitude latitude population_per_household' 'longitude latitude INLAND'\n",
      " 'longitude housing_median_age^2'\n",
      " 'longitude housing_median_age median_income'\n",
      " 'longitude housing_median_age rooms_per_household'\n",
      " 'longitude housing_median_age population_per_household'\n",
      " 'longitude housing_median_age INLAND' 'longitude median_income^2'\n",
      " 'longitude median_income rooms_per_household'\n",
      " 'longitude median_income population_per_household'\n",
      " 'longitude median_income INLAND' 'longitude rooms_per_household^2'\n",
      " 'longitude rooms_per_household population_per_household'\n",
      " 'longitude rooms_per_household INLAND'\n",
      " 'longitude population_per_household^2'\n",
      " 'longitude population_per_household INLAND' 'longitude INLAND^2'\n",
      " 'latitude^3' 'latitude^2 housing_median_age' 'latitude^2 median_income'\n",
      " 'latitude^2 rooms_per_household' 'latitude^2 population_per_household'\n",
      " 'latitude^2 INLAND' 'latitude housing_median_age^2'\n",
      " 'latitude housing_median_age median_income'\n",
      " 'latitude housing_median_age rooms_per_household'\n",
      " 'latitude housing_median_age population_per_household'\n",
      " 'latitude housing_median_age INLAND' 'latitude median_income^2'\n",
      " 'latitude median_income rooms_per_household'\n",
      " 'latitude median_income population_per_household'\n",
      " 'latitude median_income INLAND' 'latitude rooms_per_household^2'\n",
      " 'latitude rooms_per_household population_per_household'\n",
      " 'latitude rooms_per_household INLAND'\n",
      " 'latitude population_per_household^2'\n",
      " 'latitude population_per_household INLAND' 'latitude INLAND^2'\n",
      " 'housing_median_age^3' 'housing_median_age^2 median_income'\n",
      " 'housing_median_age^2 rooms_per_household'\n",
      " 'housing_median_age^2 population_per_household'\n",
      " 'housing_median_age^2 INLAND' 'housing_median_age median_income^2'\n",
      " 'housing_median_age median_income rooms_per_household'\n",
      " 'housing_median_age median_income population_per_household'\n",
      " 'housing_median_age median_income INLAND'\n",
      " 'housing_median_age rooms_per_household^2'\n",
      " 'housing_median_age rooms_per_household population_per_household'\n",
      " 'housing_median_age rooms_per_household INLAND'\n",
      " 'housing_median_age population_per_household^2'\n",
      " 'housing_median_age population_per_household INLAND'\n",
      " 'housing_median_age INLAND^2' 'median_income^3'\n",
      " 'median_income^2 rooms_per_household'\n",
      " 'median_income^2 population_per_household' 'median_income^2 INLAND'\n",
      " 'median_income rooms_per_household^2'\n",
      " 'median_income rooms_per_household population_per_household'\n",
      " 'median_income rooms_per_household INLAND'\n",
      " 'median_income population_per_household^2'\n",
      " 'median_income population_per_household INLAND' 'median_income INLAND^2'\n",
      " 'rooms_per_household^3' 'rooms_per_household^2 population_per_household'\n",
      " 'rooms_per_household^2 INLAND'\n",
      " 'rooms_per_household population_per_household^2'\n",
      " 'rooms_per_household population_per_household INLAND'\n",
      " 'rooms_per_household INLAND^2' 'population_per_household^3'\n",
      " 'population_per_household^2 INLAND' 'population_per_household INLAND^2'\n",
      " 'INLAND^3']\n"
     ]
    }
   ],
   "source": [
    "print(poly_features.get_feature_names_out(input_features=Xtrain.columns))"
   ]
  },
  {
   "cell_type": "markdown",
   "metadata": {},
   "source": [
    "We will train and evaluate both a linear and a polynomial model, with the same setting: one train-test split, validation set size is 10% of the training set."
   ]
  },
  {
   "cell_type": "code",
   "execution_count": 9,
   "metadata": {
    "ExecuteTime": {
     "end_time": "2022-09-08T15:22:24.075790Z",
     "start_time": "2022-09-08T15:22:24.031523Z"
    }
   },
   "outputs": [
    {
     "name": "stdout",
     "output_type": "stream",
     "text": [
      "Polynomial: Train: 53398.48207089356, validation: 55266.86021529713\n"
     ]
    }
   ],
   "source": [
    "def evaluate_model(model, X, y):\n",
    "    \"\"\"Given a model object, predictors and the target, fit and evaluate a model,\n",
    "    output its RMSE on the training set and on the validation set\n",
    "    \"\"\"\n",
    "\n",
    "    X_train, X_val, y_train, y_val = train_test_split(X, y, test_size=0.1, random_state=7)\n",
    "\n",
    "    model.fit(X_train, y_train)\n",
    "\n",
    "    y_train_predict = model.predict(X_train)\n",
    "    y_val_predict = model.predict(X_val)\n",
    "\n",
    "    # record the results\n",
    "    train_rmse = np.sqrt(mean_squared_error(y_train_predict, y_train))\n",
    "    val_rmse = np.sqrt(mean_squared_error(y_val_predict, y_val))\n",
    "    \n",
    "    return train_rmse, val_rmse\n",
    "\n",
    "poly_reg = LinearRegression()\n",
    "train_rmse, val_rmse = evaluate_model(poly_reg, X_poly, ytrain)\n",
    "print(f\"Polynomial: Train: {train_rmse}, validation: {val_rmse}\")"
   ]
  },
  {
   "cell_type": "code",
   "execution_count": 10,
   "metadata": {
    "ExecuteTime": {
     "end_time": "2022-09-08T15:22:26.945466Z",
     "start_time": "2022-09-08T15:22:26.921910Z"
    }
   },
   "outputs": [
    {
     "name": "stdout",
     "output_type": "stream",
     "text": [
      "Linear: Train: 63742.73526194295, validation: 65459.24504863792\n"
     ]
    }
   ],
   "source": [
    "lin_reg = LinearRegression()\n",
    "train_rmse, val_rmse = evaluate_model(lin_reg, Xtrain, ytrain)\n",
    "print(f\"Linear: Train: {train_rmse}, validation: {val_rmse}\")"
   ]
  },
  {
   "cell_type": "markdown",
   "metadata": {},
   "source": [
    "These results indicate that the polynomial model fitted both the training and the validation sets better than the linear one. Because polynomial models have a much larger number of parameters, including non-linear ones, they generally tend to overfit training data. In these results, however, there is no evidence of strong overfitting of the polynomial model."
   ]
  },
  {
   "cell_type": "markdown",
   "metadata": {},
   "source": [
    "# Learning curve\n",
    "\n",
    "One useful way to detect over- and underfitting is to plot a **learning curve**. A learning curve plot shows the model's performance on the training and validation sets as a function of the amount of data used for training.\n",
    "\n",
    "The learning curve can be plotted using this code:"
   ]
  },
  {
   "cell_type": "code",
   "execution_count": 11,
   "metadata": {
    "ExecuteTime": {
     "end_time": "2022-09-08T15:22:29.024367Z",
     "start_time": "2022-09-08T15:22:29.011360Z"
    }
   },
   "outputs": [],
   "source": [
    "def plot_learning_curves(model, X, y):\n",
    "    \n",
    "    # create a train-test split\n",
    "    X_train, X_val, y_train, y_val = train_test_split(X, y, test_size=0.1, random_state=7)\n",
    "    train_errors, val_errors, sizes = [], [], []\n",
    "    \n",
    "    # take different sizes of the training data, starting from 50s instance, with the step of 10\n",
    "    for m in range(50, len(X_train), 10):\n",
    "        \n",
    "        # fit a model\n",
    "        model.fit(X_train[:m], y_train[:m])\n",
    "        \n",
    "        # evaluate the model on both training and validation sets\n",
    "        y_train_predict = model.predict(X_train[:m])\n",
    "        y_val_predict = model.predict(X_val)\n",
    "        \n",
    "        # calculate RMSE and record the results\n",
    "        train_rmse = np.sqrt(mean_squared_error(y_train_predict, y_train[:m]))\n",
    "        val_rmse = np.sqrt(mean_squared_error(y_val_predict, y_val))\n",
    "        \n",
    "        train_errors.append(train_rmse)\n",
    "        val_errors.append(val_rmse)\n",
    "        sizes.append(m)\n",
    "        \n",
    "    # make a plot\n",
    "    temp_df = pd.DataFrame({\"training set size\": sizes, \n",
    "                        \"train\": train_errors,\n",
    "                        \"val\": val_errors})\n",
    "    temp_df.plot(x=\"training set size\", y=[\"train\", \"val\"], kind=\"line\", \n",
    "             figsize=(6, 4), ylim=(40000, 80000))"
   ]
  },
  {
   "cell_type": "code",
   "execution_count": 12,
   "metadata": {
    "ExecuteTime": {
     "end_time": "2022-09-08T15:22:39.576317Z",
     "start_time": "2022-09-08T15:22:29.925432Z"
    }
   },
   "outputs": [
    {
     "data": {
      "image/png": "[encoded data removed]",
      "text/plain": [
       "<Figure size 432x288 with 1 Axes>"
      ]
     },
     "metadata": {},
     "output_type": "display_data"
    }
   ],
   "source": [
    "# linear curve for the polynomial model\n",
    "lin_reg = LinearRegression()\n",
    "plot_learning_curves(lin_reg, X_poly, ytrain)"
   ]
  },
  {
   "cell_type": "markdown",
   "metadata": {},
   "source": [
    "Initially, the polynomial model overfits a lot: it fits the training data really well (at under 2,000 instances RMSE stays below 50k), and performs very poorly on the validation data (RMSE well above 80k). As the training data size increases, the two curves start to converge, with the validation curve very gradually decreasing. This shows that the addition of extra training data helps to fit better models, and the degree of overfitting gets smaller. More data might help to decrease the error rate even further, although not by a lot: the validation curve appears to stabilize soon."
   ]
  },
  {
   "cell_type": "code",
   "execution_count": 13,
   "metadata": {
    "ExecuteTime": {
     "end_time": "2022-09-08T15:22:48.647011Z",
     "start_time": "2022-09-08T15:22:39.576317Z"
    }
   },
   "outputs": [
    {
     "data": {
      "image/png": "[encoded data removed]",
      "text/plain": [
       "<Figure size 432x288 with 1 Axes>"
      ]
     },
     "metadata": {},
     "output_type": "display_data"
    }
   ],
   "source": [
    "lin_reg = LinearRegression()\n",
    "plot_learning_curves(lin_reg, Xtrain, ytrain)"
   ]
  },
  {
   "cell_type": "markdown",
   "metadata": {},
   "source": [
    "With, linear regression, one can notice that in the beginning, at smaller sizes of training data, the model overfits a little (the training set performance is mainly below 60k, while performance on validation is over 65k at very small sizes of training data; the validation error rate is never as high as with the polynomial model). As the size of the training data increases, the validation set performance stabilizes very quickly and stays on the same level. The training set performance also plateaus at some point and does not change much any more. This indicates that adding more training data will not improve the performance on the validation set."
   ]
  },
  {
   "cell_type": "markdown",
   "metadata": {},
   "source": [
    "# Acknowledgement\n",
    "\n",
    "The notebook is based on the code examples from [Aurélien Géron's textbook](https://www.oreilly.com/library/view/hands-on-machine-learning/9781492032632/) \"Hands-On Machine Learning with Scikit-Learn, Keras, and TensorFlow\".\n"
   ]
  },
  {
   "cell_type": "markdown",
   "metadata": {},
   "source": [
    "# Citing this notebook\n",
    "\n",
    "If you use this notebook in your work, please cite it as follows:\n",
    "    \n",
    "Pekar, V. (2022). Big Data for Decision Making. Lecture examples and exercises. (Version 1.0.0). URL: https://github.com/vpekar/bd4dm\n"
   ]
  },
  {
   "cell_type": "code",
   "execution_count": null,
   "metadata": {},
   "outputs": [],
   "source": []
  }
 ],
 "metadata": {
  "kernelspec": {
   "display_name": "Python 3",
   "language": "python",
   "name": "python3"
  },
  "language_info": {
   "codemirror_mode": {
    "name": "ipython",
    "version": 3
   },
   "file_extension": ".py",
   "mimetype": "text/x-python",
   "name": "python",
   "nbconvert_exporter": "python",
   "pygments_lexer": "ipython3",
   "version": "3.9.7"
  },
  "toc": {
   "base_numbering": 1,
   "nav_menu": {},
   "number_sections": true,
   "sideBar": true,
   "skip_h1_title": false,
   "title_cell": "Table of Contents",
   "title_sidebar": "Contents",
   "toc_cell": false,
   "toc_position": {},
   "toc_section_display": true,
   "toc_window_display": true
  }
 },
 "nbformat": 4,
 "nbformat_minor": 2
}
