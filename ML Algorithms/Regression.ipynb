{
 "cells": [
  {
   "cell_type": "markdown",
   "metadata": {},
   "source": [
    "Please download the file \"trainset.csv\" and save it into same folder as this notebook.\n",
    "\n",
    "The two files are the training and test sets created from the California housing dataset."
   ]
  },
  {
   "cell_type": "code",
   "execution_count": 1,
   "metadata": {
    "ExecuteTime": {
     "end_time": "2022-02-26T22:55:38.179379Z",
     "start_time": "2022-02-26T22:55:29.057762Z"
    }
   },
   "outputs": [],
   "source": [
    "# setting logging to print only error messages\n",
    "import logging\n",
    "logging.basicConfig()\n",
    "logging.getLogger(\"SKLEARNEX\").setLevel(logging.ERROR)\n",
    "\n",
    "import numpy as np\n",
    "import pandas as pd\n",
    "import matplotlib.pyplot as plt\n",
    "import seaborn as sns\n",
    "\n",
    "sns.set_theme(palette=\"Set2\")"
   ]
  },
  {
   "cell_type": "markdown",
   "metadata": {},
   "source": [
    "# Polynomial Regression\n",
    "\n",
    "As we saw in experiments with Linear Regression on the California housing data, it performs quite poorly, as it is relies on the assumption that the price of a house can be described as a **linear combination** of some other variables, that is the target variable `y` can be predicted from:\n",
    "\n",
    "$y = \\alpha + \\beta_1 x_1 + \\beta_2 x_2 ... + \\beta_n x_n$\n",
    "\n",
    "But if the target does not appear to be linearly dependent on other variable, one can attempt to fit a non-linear model. This can be achieved by adding extra variables which are the original variables taken to a power:\n",
    "\n",
    "$y = \\alpha + \\beta_1 x_1 + \\beta_2 x_1^2 + \\beta_3 x_2 + \\beta_4 x_2^2 + ... $\n",
    "\n",
    "Let's take a look at an example."
   ]
  },
  {
   "cell_type": "code",
   "execution_count": 2,
   "metadata": {
    "ExecuteTime": {
     "end_time": "2022-02-26T22:55:38.211293Z",
     "start_time": "2022-02-26T22:55:38.189352Z"
    }
   },
   "outputs": [],
   "source": [
    "# number of points\n",
    "m = 100\n",
    "\n",
    "# x coordinates: -3 + 6 * an array with the shape (100, 1)\n",
    "# containing random numbers between 0 and 1\n",
    "X = 6 * np.random.rand(m, 1) - 3\n",
    "\n",
    "# y coordinates\n",
    "y = 2 + 0.5 * X**2 + X + np.random.randn(m, 1)"
   ]
  },
  {
   "cell_type": "markdown",
   "metadata": {},
   "source": [
    "So we've generated points using this equation:\n",
    "\n",
    "$y = 2 + 0.5x^2 + x + e$\n",
    "\n",
    "where $e$ is a certain random amount between 0 and 1."
   ]
  },
  {
   "cell_type": "code",
   "execution_count": 3,
   "metadata": {
    "ExecuteTime": {
     "end_time": "2022-02-26T22:55:38.272134Z",
     "start_time": "2022-02-26T22:55:38.222265Z"
    }
   },
   "outputs": [
    {
     "data": {
      "text/plain": [
       "(100, 1)"
      ]
     },
     "execution_count": 3,
     "metadata": {},
     "output_type": "execute_result"
    }
   ],
   "source": [
    "X.shape"
   ]
  },
  {
   "cell_type": "markdown",
   "metadata": {},
   "source": [
    "There are 100 rows in one column in the array `X`."
   ]
  },
  {
   "cell_type": "code",
   "execution_count": 4,
   "metadata": {
    "ExecuteTime": {
     "end_time": "2022-02-26T22:55:39.656768Z",
     "start_time": "2022-02-26T22:55:38.287096Z"
    }
   },
   "outputs": [
    {
     "data": {
      "image/png": "[encoded data removed]",
      "text/plain": [
       "<Figure size 432x288 with 1 Axes>"
      ]
     },
     "metadata": {},
     "output_type": "display_data"
    }
   ],
   "source": [
    "# plot the points\n",
    "plt.scatter(X, y)\n",
    "plt.xlabel('X')\n",
    "plt.ylabel('y')\n",
    "plt.show()"
   ]
  },
  {
   "cell_type": "markdown",
   "metadata": {},
   "source": [
    "Clearly, a linear model will not fit the data points well.\n",
    "\n",
    "We can use Scikit-Learn’s `PolynomialFeatures` class to adding the square (2nd-degree polynomial) of each feature (in this case the single feature, `X`):"
   ]
  },
  {
   "cell_type": "code",
   "execution_count": 5,
   "metadata": {
    "ExecuteTime": {
     "end_time": "2022-02-26T22:55:44.736824Z",
     "start_time": "2022-02-26T22:55:39.664747Z"
    }
   },
   "outputs": [
    {
     "name": "stderr",
     "output_type": "stream",
     "text": [
      "Intel(R) Extension for Scikit-learn* enabled (https://github.com/intel/scikit-learn-intelex)\n"
     ]
    },
    {
     "data": {
      "text/plain": [
       "(100, 2)"
      ]
     },
     "execution_count": 5,
     "metadata": {},
     "output_type": "execute_result"
    }
   ],
   "source": [
    "from sklearn.preprocessing import PolynomialFeatures\n",
    "\n",
    "# initialize transformer (include_bias set to False not to add an extra column of 1's)\n",
    "poly_features = PolynomialFeatures(degree=2, include_bias=False)\n",
    "\n",
    "# fit the transformer and immediately use it to transform X:\n",
    "X_poly = poly_features.fit_transform(X)\n",
    "\n",
    "X_poly.shape"
   ]
  },
  {
   "cell_type": "markdown",
   "metadata": {},
   "source": [
    "`X_poly` now contains 100 rows and two columns: the first column is the original value in `X` and the second column is its square:"
   ]
  },
  {
   "cell_type": "code",
   "execution_count": 6,
   "metadata": {
    "ExecuteTime": {
     "end_time": "2022-02-26T22:55:44.790315Z",
     "start_time": "2022-02-26T22:55:44.767828Z"
    }
   },
   "outputs": [
    {
     "data": {
      "text/plain": [
       "array([-0.86883516,  0.75487454])"
      ]
     },
     "execution_count": 6,
     "metadata": {},
     "output_type": "execute_result"
    }
   ],
   "source": [
    "# the first row\n",
    "X_poly[0]"
   ]
  },
  {
   "cell_type": "markdown",
   "metadata": {},
   "source": [
    "Now we can fit a linear regression to `X`:"
   ]
  },
  {
   "cell_type": "code",
   "execution_count": 7,
   "metadata": {
    "ExecuteTime": {
     "end_time": "2022-02-26T22:55:44.870783Z",
     "start_time": "2022-02-26T22:55:44.797064Z"
    }
   },
   "outputs": [
    {
     "data": {
      "text/plain": [
       "(array([2.0571511]), array([[0.88937725, 0.52552283]]))"
      ]
     },
     "execution_count": 7,
     "metadata": {},
     "output_type": "execute_result"
    }
   ],
   "source": [
    "from sklearn.linear_model import LinearRegression\n",
    "\n",
    "lin_reg = LinearRegression()\n",
    "lin_reg.fit(X_poly, y)\n",
    "\n",
    "lin_reg.intercept_, lin_reg.coef_"
   ]
  },
  {
   "cell_type": "markdown",
   "metadata": {},
   "source": [
    "So the estimated equation is:\n",
    "\n",
    "$y = 2.11 + 0.97x + 0.5x^2$\n",
    "\n",
    "I.e., the fitted equation was able to largely recover the formula we used to generate the data originally.\n",
    "\n",
    "We can also plot the fitted regression:"
   ]
  },
  {
   "cell_type": "code",
   "execution_count": 8,
   "metadata": {
    "ExecuteTime": {
     "end_time": "2022-02-26T22:55:44.901914Z",
     "start_time": "2022-02-26T22:55:44.878975Z"
    }
   },
   "outputs": [],
   "source": [
    "Xf = np.arange(-3, 3, 0.01)\n",
    "yf = 2.11 + 0.5 * Xf**2 + 0.97 * Xf"
   ]
  },
  {
   "cell_type": "code",
   "execution_count": 9,
   "metadata": {
    "ExecuteTime": {
     "end_time": "2022-02-26T22:55:46.367785Z",
     "start_time": "2022-02-26T22:55:44.909907Z"
    }
   },
   "outputs": [
    {
     "data": {
      "image/png": "[encoded data removed]",
      "text/plain": [
       "<Figure size 432x288 with 1 Axes>"
      ]
     },
     "metadata": {},
     "output_type": "display_data"
    }
   ],
   "source": [
    "plt.scatter(X, y)\n",
    "plt.scatter(Xf, yf, s=1)\n",
    "plt.xlabel('X')\n",
    "plt.ylabel('y')\n",
    "plt.show()"
   ]
  },
  {
   "cell_type": "markdown",
   "metadata": {},
   "source": [
    "Let's fit a polynomial regression to the training part of the housing dataset. We will use the 7 most useful features found by the Random Forest algorithm in \"Housing.ipynb\"."
   ]
  },
  {
   "cell_type": "code",
   "execution_count": 10,
   "metadata": {
    "ExecuteTime": {
     "end_time": "2022-02-26T22:55:47.032234Z",
     "start_time": "2022-02-26T22:55:46.386729Z"
    }
   },
   "outputs": [],
   "source": [
    "usecols = [\"median_income\", \"INLAND\", \"population_per_household\", \"longitude\", \"latitude\", \n",
    "           \"housing_median_age\", \"rooms_per_household\", \"median_house_value\"]\n",
    "trainset = pd.read_csv(\"datasets/trainset.csv\", usecols=usecols)"
   ]
  },
  {
   "cell_type": "markdown",
   "metadata": {},
   "source": [
    "Separate `X` and `y`:"
   ]
  },
  {
   "cell_type": "code",
   "execution_count": 11,
   "metadata": {
    "ExecuteTime": {
     "end_time": "2022-02-26T22:55:47.075394Z",
     "start_time": "2022-02-26T22:55:47.045199Z"
    }
   },
   "outputs": [],
   "source": [
    "Xtrain = trainset.drop(\"median_house_value\", axis=1)\n",
    "\n",
    "ytrain = trainset[\"median_house_value\"].copy()"
   ]
  },
  {
   "cell_type": "code",
   "execution_count": 12,
   "metadata": {
    "ExecuteTime": {
     "end_time": "2022-02-26T22:55:47.107303Z",
     "start_time": "2022-02-26T22:55:47.083370Z"
    }
   },
   "outputs": [
    {
     "data": {
      "text/plain": [
       "(15736, 7)"
      ]
     },
     "execution_count": 12,
     "metadata": {},
     "output_type": "execute_result"
    }
   ],
   "source": [
    "Xtrain.shape"
   ]
  },
  {
   "cell_type": "markdown",
   "metadata": {},
   "source": [
    "There are 7 predictor features in the dataset. We will create third-degree polynomial features. Note that `PolynomialFeatures` also creates **interaction features**, which makes it possible to capture possible interactions between individual predictor features. For example, if there are two features $a$ and $b$ in the dataset, `PolynomialFeatures` will create not only $a^2$ and $b^2$, but also the interaction feature $ab$.\n",
    "\n",
    "The addition of interaction features is meant to account for the possibility that two features may amplify or diminish each other's effect on the target variable. If the estimated coefficients on such interaction features are statistically significant, this is an indication about the joint effect of the features.\n",
    "\n",
    "A useful option in `PolynomialFeatures` is `interaction_only`: if the argument set to `True`, only interaction features will be generated. For example, for $a$ and $b$ only $ab$ will be added.\n",
    "\n",
    "We first create polynomial features:"
   ]
  },
  {
   "cell_type": "code",
   "execution_count": 13,
   "metadata": {
    "ExecuteTime": {
     "end_time": "2022-02-26T22:55:47.263889Z",
     "start_time": "2022-02-26T22:55:47.115282Z"
    }
   },
   "outputs": [],
   "source": [
    "poly_features = PolynomialFeatures(degree=3, include_bias=False)\n",
    "X_poly = poly_features.fit_transform(Xtrain)"
   ]
  },
  {
   "cell_type": "code",
   "execution_count": 14,
   "metadata": {
    "ExecuteTime": {
     "end_time": "2022-02-26T22:55:47.309770Z",
     "start_time": "2022-02-26T22:55:47.281838Z"
    }
   },
   "outputs": [
    {
     "data": {
      "text/plain": [
       "(15736, 119)"
      ]
     },
     "execution_count": 14,
     "metadata": {},
     "output_type": "execute_result"
    }
   ],
   "source": [
    "X_poly.shape"
   ]
  },
  {
   "cell_type": "markdown",
   "metadata": {},
   "source": [
    "Thus, `PolynomialFeatures` increased the number of features from 7 to 119. Beware of applying this transformation to datasets containing many variables and/or using high-degree polynomial features, as the number of features will explode!\n",
    "\n",
    "We can look up the names of features that have been created:"
   ]
  },
  {
   "cell_type": "code",
   "execution_count": 15,
   "metadata": {
    "ExecuteTime": {
     "end_time": "2022-02-26T22:55:47.357634Z",
     "start_time": "2022-02-26T22:55:47.316742Z"
    }
   },
   "outputs": [
    {
     "name": "stdout",
     "output_type": "stream",
     "text": [
      "['longitude' 'latitude' 'housing_median_age' 'median_income'\n",
      " 'rooms_per_household' 'population_per_household' 'INLAND' 'longitude^2'\n",
      " 'longitude latitude' 'longitude housing_median_age'\n",
      " 'longitude median_income' 'longitude rooms_per_household'\n",
      " 'longitude population_per_household' 'longitude INLAND' 'latitude^2'\n",
      " 'latitude housing_median_age' 'latitude median_income'\n",
      " 'latitude rooms_per_household' 'latitude population_per_household'\n",
      " 'latitude INLAND' 'housing_median_age^2'\n",
      " 'housing_median_age median_income'\n",
      " 'housing_median_age rooms_per_household'\n",
      " 'housing_median_age population_per_household' 'housing_median_age INLAND'\n",
      " 'median_income^2' 'median_income rooms_per_household'\n",
      " 'median_income population_per_household' 'median_income INLAND'\n",
      " 'rooms_per_household^2' 'rooms_per_household population_per_household'\n",
      " 'rooms_per_household INLAND' 'population_per_household^2'\n",
      " 'population_per_household INLAND' 'INLAND^2' 'longitude^3'\n",
      " 'longitude^2 latitude' 'longitude^2 housing_median_age'\n",
      " 'longitude^2 median_income' 'longitude^2 rooms_per_household'\n",
      " 'longitude^2 population_per_household' 'longitude^2 INLAND'\n",
      " 'longitude latitude^2' 'longitude latitude housing_median_age'\n",
      " 'longitude latitude median_income'\n",
      " 'longitude latitude rooms_per_household'\n",
      " 'longitude latitude population_per_household' 'longitude latitude INLAND'\n",
      " 'longitude housing_median_age^2'\n",
      " 'longitude housing_median_age median_income'\n",
      " 'longitude housing_median_age rooms_per_household'\n",
      " 'longitude housing_median_age population_per_household'\n",
      " 'longitude housing_median_age INLAND' 'longitude median_income^2'\n",
      " 'longitude median_income rooms_per_household'\n",
      " 'longitude median_income population_per_household'\n",
      " 'longitude median_income INLAND' 'longitude rooms_per_household^2'\n",
      " 'longitude rooms_per_household population_per_household'\n",
      " 'longitude rooms_per_household INLAND'\n",
      " 'longitude population_per_household^2'\n",
      " 'longitude population_per_household INLAND' 'longitude INLAND^2'\n",
      " 'latitude^3' 'latitude^2 housing_median_age' 'latitude^2 median_income'\n",
      " 'latitude^2 rooms_per_household' 'latitude^2 population_per_household'\n",
      " 'latitude^2 INLAND' 'latitude housing_median_age^2'\n",
      " 'latitude housing_median_age median_income'\n",
      " 'latitude housing_median_age rooms_per_household'\n",
      " 'latitude housing_median_age population_per_household'\n",
      " 'latitude housing_median_age INLAND' 'latitude median_income^2'\n",
      " 'latitude median_income rooms_per_household'\n",
      " 'latitude median_income population_per_household'\n",
      " 'latitude median_income INLAND' 'latitude rooms_per_household^2'\n",
      " 'latitude rooms_per_household population_per_household'\n",
      " 'latitude rooms_per_household INLAND'\n",
      " 'latitude population_per_household^2'\n",
      " 'latitude population_per_household INLAND' 'latitude INLAND^2'\n",
      " 'housing_median_age^3' 'housing_median_age^2 median_income'\n",
      " 'housing_median_age^2 rooms_per_household'\n",
      " 'housing_median_age^2 population_per_household'\n",
      " 'housing_median_age^2 INLAND' 'housing_median_age median_income^2'\n",
      " 'housing_median_age median_income rooms_per_household'\n",
      " 'housing_median_age median_income population_per_household'\n",
      " 'housing_median_age median_income INLAND'\n",
      " 'housing_median_age rooms_per_household^2'\n",
      " 'housing_median_age rooms_per_household population_per_household'\n",
      " 'housing_median_age rooms_per_household INLAND'\n",
      " 'housing_median_age population_per_household^2'\n",
      " 'housing_median_age population_per_household INLAND'\n",
      " 'housing_median_age INLAND^2' 'median_income^3'\n",
      " 'median_income^2 rooms_per_household'\n",
      " 'median_income^2 population_per_household' 'median_income^2 INLAND'\n",
      " 'median_income rooms_per_household^2'\n",
      " 'median_income rooms_per_household population_per_household'\n",
      " 'median_income rooms_per_household INLAND'\n",
      " 'median_income population_per_household^2'\n",
      " 'median_income population_per_household INLAND' 'median_income INLAND^2'\n",
      " 'rooms_per_household^3' 'rooms_per_household^2 population_per_household'\n",
      " 'rooms_per_household^2 INLAND'\n",
      " 'rooms_per_household population_per_household^2'\n",
      " 'rooms_per_household population_per_household INLAND'\n",
      " 'rooms_per_household INLAND^2' 'population_per_household^3'\n",
      " 'population_per_household^2 INLAND' 'population_per_household INLAND^2'\n",
      " 'INLAND^3']\n"
     ]
    }
   ],
   "source": [
    "print(poly_features.get_feature_names_out(input_features=Xtrain.columns))"
   ]
  },
  {
   "cell_type": "markdown",
   "metadata": {},
   "source": [
    "We will train and evaluate both a linear and a polynomial model, with the same setting: one train-test split, validation set size is 10% of the training set."
   ]
  },
  {
   "cell_type": "code",
   "execution_count": 16,
   "metadata": {
    "ExecuteTime": {
     "end_time": "2022-02-26T22:55:47.500253Z",
     "start_time": "2022-02-26T22:55:47.365612Z"
    }
   },
   "outputs": [
    {
     "name": "stdout",
     "output_type": "stream",
     "text": [
      "Polynomial: Train: 53398.48207089356, validation: 55266.86021529713\n"
     ]
    }
   ],
   "source": [
    "from sklearn.metrics import mean_squared_error\n",
    "from sklearn.model_selection import train_test_split\n",
    "\n",
    "def evaluate_model(model, X, y):\n",
    "    \"\"\"Given a model object, predictors and the target, fit and evaluate a model,\n",
    "    output its RMSE on the training set and on the validation set\n",
    "    \"\"\"\n",
    "\n",
    "    X_train, X_val, y_train, y_val = train_test_split(X, y, test_size=0.1, random_state=7)\n",
    "\n",
    "    model.fit(X_train, y_train)\n",
    "\n",
    "    y_train_predict = model.predict(X_train)\n",
    "    y_val_predict = model.predict(X_val)\n",
    "\n",
    "    # record the results\n",
    "    train_rmse = np.sqrt(mean_squared_error(y_train_predict, y_train))\n",
    "    val_rmse = np.sqrt(mean_squared_error(y_val_predict, y_val))\n",
    "    \n",
    "    return train_rmse, val_rmse\n",
    "\n",
    "poly_reg = LinearRegression()\n",
    "train_rmse, val_rmse = evaluate_model(poly_reg, X_poly, ytrain)\n",
    "print(f\"Polynomial: Train: {train_rmse}, validation: {val_rmse}\")"
   ]
  },
  {
   "cell_type": "code",
   "execution_count": 17,
   "metadata": {
    "ExecuteTime": {
     "end_time": "2022-02-26T22:55:47.594008Z",
     "start_time": "2022-02-26T22:55:47.506237Z"
    }
   },
   "outputs": [
    {
     "name": "stdout",
     "output_type": "stream",
     "text": [
      "Linear: Train: 63742.73526194295, validation: 65459.24504863792\n"
     ]
    }
   ],
   "source": [
    "lin_reg = LinearRegression()\n",
    "train_rmse, val_rmse = evaluate_model(lin_reg, Xtrain, ytrain)\n",
    "print(f\"Linear: Train: {train_rmse}, validation: {val_rmse}\")"
   ]
  },
  {
   "cell_type": "markdown",
   "metadata": {},
   "source": [
    "These results indicate that the polynomial model fitted both the training and the validation sets better than the linear one. Because polynomial models have a much larger number of parameters, including non-linear ones, they generally tend to overfit training data. In these results, however, there is no evidence of strong overfitting of the polynomial model."
   ]
  },
  {
   "cell_type": "markdown",
   "metadata": {},
   "source": [
    "# Learning Curve\n",
    "\n",
    "One useful way to detect over- and underfitting is to plot a **learning curve**. A learning curve plot shows the model's performance on the training and validation sets as a function of the amount of data used for training.\n",
    "\n",
    "The learning curve can be plotted using this code:"
   ]
  },
  {
   "cell_type": "code",
   "execution_count": 18,
   "metadata": {
    "ExecuteTime": {
     "end_time": "2022-02-26T22:55:47.641879Z",
     "start_time": "2022-02-26T22:55:47.599986Z"
    }
   },
   "outputs": [],
   "source": [
    "from sklearn.metrics import mean_squared_error\n",
    "from sklearn.model_selection import train_test_split\n",
    "\n",
    "\n",
    "def plot_learning_curves(model, X, y):\n",
    "    \n",
    "    # create a train-test split\n",
    "    X_train, X_val, y_train, y_val = train_test_split(X, y, test_size=0.1, random_state=7)\n",
    "    train_errors, val_errors, sizes = [], [], []\n",
    "    \n",
    "    # take different sizes of the training data, starting from 50s instance, with the step of 10\n",
    "    for m in range(50, len(X_train), 10):\n",
    "        \n",
    "        # fit a model\n",
    "        model.fit(X_train[:m], y_train[:m])\n",
    "        \n",
    "        # evaluate the model on both training and validation sets\n",
    "        y_train_predict = model.predict(X_train[:m])\n",
    "        y_val_predict = model.predict(X_val)\n",
    "        \n",
    "        # calculate RMSE and record the results\n",
    "        train_rmse = np.sqrt(mean_squared_error(y_train_predict, y_train[:m]))\n",
    "        val_rmse = np.sqrt(mean_squared_error(y_val_predict, y_val))\n",
    "        \n",
    "        train_errors.append(train_rmse)\n",
    "        val_errors.append(val_rmse)\n",
    "        sizes.append(m)\n",
    "        \n",
    "    # make a plot\n",
    "    temp_df = pd.DataFrame({\"training set size\": sizes, \n",
    "                        \"train\": train_errors,\n",
    "                        \"val\": val_errors})\n",
    "    temp_df.plot(x=\"training set size\", y=[\"train\", \"val\"], kind=\"line\", \n",
    "             figsize=(6, 4), ylim=(40000, 80000))"
   ]
  },
  {
   "cell_type": "code",
   "execution_count": 19,
   "metadata": {
    "ExecuteTime": {
     "end_time": "2022-02-26T22:56:54.095481Z",
     "start_time": "2022-02-26T22:55:47.650850Z"
    }
   },
   "outputs": [
    {
     "data": {
      "image/png": "[encoded data removed]",
      "text/plain": [
       "<Figure size 432x288 with 1 Axes>"
      ]
     },
     "metadata": {},
     "output_type": "display_data"
    }
   ],
   "source": [
    "# linear curve for the polynomial model\n",
    "lin_reg = LinearRegression()\n",
    "plot_learning_curves(lin_reg, X_poly, ytrain)"
   ]
  },
  {
   "cell_type": "markdown",
   "metadata": {},
   "source": [
    "Initially, the polynomial model overfits a lot: it fits the training data really well (at under 2,000 instances RMSE stays below 50k), and performs very poorly on the validation data (RMSE well above 80k). As the training data size increases, the two curves start to converge, with the validation curve very gradually decreasing. This shows that the addition of extra training data helps to fit better models, and the degree of overfitting gets smaller. More data might help to decrease the error rate even further, although not by a lot: the validation curve appears to stabilize soon."
   ]
  },
  {
   "cell_type": "code",
   "execution_count": 20,
   "metadata": {
    "ExecuteTime": {
     "end_time": "2022-02-26T22:57:45.869633Z",
     "start_time": "2022-02-26T22:56:54.103453Z"
    }
   },
   "outputs": [
    {
     "data": {
      "image/png": "[encoded data removed]",
      "text/plain": [
       "<Figure size 432x288 with 1 Axes>"
      ]
     },
     "metadata": {},
     "output_type": "display_data"
    }
   ],
   "source": [
    "lin_reg = LinearRegression()\n",
    "plot_learning_curves(lin_reg, Xtrain, ytrain)"
   ]
  },
  {
   "cell_type": "markdown",
   "metadata": {},
   "source": [
    "With, linear regression, one can notice that in the beginning, at smaller sizes of training data, the model overfits a little (the training set performance is mainly below 60k, while performance on validation is over 65k at very small sizes of training data; the validation error rate is never as high as with the polynomial model). As the size of the training data increases, the validation set performance stabilizes very quickly and stays on the same level. The training set performance also plateaus at some point and does not change much any more. This indicates that adding more training data will not improve the performance on the validation set."
   ]
  },
  {
   "cell_type": "markdown",
   "metadata": {},
   "source": [
    "# Ridge Regression"
   ]
  },
  {
   "cell_type": "markdown",
   "metadata": {},
   "source": [
    "The cost function in Ridge Regression is the sum of squared errors plus a penalty term, which is the sum of squared coefficients:\n",
    "\n",
    "$\\underset{\\beta}{\\mathrm{argmin}} \\sum^{Y}\\limits_{i=1} (y_i - \\alpha - \\sum^{X}\\limits_{j=1}\\beta_{j} x_{i,j})^2 + \\lambda  \\sum^{X}\\limits_{i=j}\\beta_{j}^2$\n",
    "\n",
    "Plot its learning curve:"
   ]
  },
  {
   "cell_type": "code",
   "execution_count": 21,
   "metadata": {
    "ExecuteTime": {
     "end_time": "2022-02-26T22:58:20.732928Z",
     "start_time": "2022-02-26T22:57:45.875617Z"
    }
   },
   "outputs": [
    {
     "data": {
      "image/png": "[encoded data removed]",
      "text/plain": [
       "<Figure size 432x288 with 1 Axes>"
      ]
     },
     "metadata": {},
     "output_type": "display_data"
    }
   ],
   "source": [
    "from sklearn.linear_model import Ridge\n",
    "from sklearn.preprocessing import StandardScaler\n",
    "\n",
    "# first standartize X_poly\n",
    "scaler = StandardScaler()\n",
    "X_poly_st = scaler.fit_transform(X_poly)\n",
    "\n",
    "ridge = Ridge(random_state=7, alpha=50)\n",
    "plot_learning_curves(ridge, X_poly_st, ytrain)"
   ]
  },
  {
   "cell_type": "markdown",
   "metadata": {},
   "source": [
    "Train and evaluate a Ridge regression model:"
   ]
  },
  {
   "cell_type": "code",
   "execution_count": 22,
   "metadata": {
    "ExecuteTime": {
     "end_time": "2022-02-26T22:58:20.813975Z",
     "start_time": "2022-02-26T22:58:20.734975Z"
    }
   },
   "outputs": [
    {
     "name": "stdout",
     "output_type": "stream",
     "text": [
      "Ridge: Train: 56168.051205293166, validation: 57181.66449746129\n"
     ]
    }
   ],
   "source": [
    "ridge = Ridge(random_state=7, alpha=50)\n",
    "train_rmse, val_rmse = evaluate_model(ridge, X_poly_st, ytrain)\n",
    "print(f\"Ridge: Train: {train_rmse}, validation: {val_rmse}\")"
   ]
  },
  {
   "cell_type": "markdown",
   "metadata": {},
   "source": [
    "# LASSO"
   ]
  },
  {
   "cell_type": "markdown",
   "metadata": {},
   "source": [
    "The cost function in LASSO Regression is the sum of squared errors plus a penalty term, which is the sum of the absolute values of the coefficients:\n",
    "\n",
    "$\\underset{\\beta}{\\mathrm{argmin}} \\sum^{Y}\\limits_{i=1} (y_i - \\alpha - \\sum^{X}\\limits_{j=1}\\beta_{j} x_{i,j})^2 + \\lambda  \\sum^{X}\\limits_{i=j}|\\beta_{j}|$"
   ]
  },
  {
   "cell_type": "code",
   "execution_count": 23,
   "metadata": {
    "ExecuteTime": {
     "end_time": "2022-02-26T22:58:20.834265Z",
     "start_time": "2022-02-26T22:58:20.816034Z"
    }
   },
   "outputs": [],
   "source": [
    "from sklearn.linear_model import Lasso\n",
    "\n",
    "# this takes way too long!\n",
    "#lasso = Lasso(random_state=7, alpha=1, max_iter=100000)\n",
    "#plot_learning_curves(lasso, X_poly_st, ytrain)"
   ]
  },
  {
   "cell_type": "markdown",
   "metadata": {},
   "source": [
    "Train and evaluate a LASSO model (it will take an hour of so):"
   ]
  },
  {
   "cell_type": "code",
   "execution_count": 24,
   "metadata": {
    "ExecuteTime": {
     "end_time": "2022-02-26T22:58:24.790366Z",
     "start_time": "2022-02-26T22:58:20.840875Z"
    }
   },
   "outputs": [
    {
     "name": "stdout",
     "output_type": "stream",
     "text": [
      "Lasso: Train: 54846.5069032713, validation: 55732.62953776444\n"
     ]
    }
   ],
   "source": [
    "lasso = Lasso(random_state=7, alpha=0.1, max_iter=1000000)\n",
    "train_rmse, val_rmse = evaluate_model(lasso, X_poly_st, ytrain)\n",
    "print(f\"Lasso: Train: {train_rmse}, validation: {val_rmse}\")"
   ]
  },
  {
   "cell_type": "markdown",
   "metadata": {},
   "source": [
    "Display estimated coefficients on the features. The `coef_` attribute of a `Lasso` object holds the feature coefficients."
   ]
  },
  {
   "cell_type": "code",
   "execution_count": 25,
   "metadata": {
    "ExecuteTime": {
     "end_time": "2022-02-26T22:58:24.821282Z",
     "start_time": "2022-02-26T22:58:24.798346Z"
    }
   },
   "outputs": [
    {
     "data": {
      "text/plain": [
       "(119,)"
      ]
     },
     "execution_count": 25,
     "metadata": {},
     "output_type": "execute_result"
    }
   ],
   "source": [
    "lasso.coef_.shape"
   ]
  },
  {
   "cell_type": "markdown",
   "metadata": {},
   "source": [
    "We use the absolute values of the coefficients to determine importance of the features, and then sort them in the descending order (`reverse=True`) to find the most important ones, and in the ascending order (`reverse=False`) to find deleted ones."
   ]
  },
  {
   "cell_type": "code",
   "execution_count": 26,
   "metadata": {
    "ExecuteTime": {
     "end_time": "2022-02-26T22:58:24.886109Z",
     "start_time": "2022-02-26T22:58:24.833249Z"
    }
   },
   "outputs": [
    {
     "name": "stdout",
     "output_type": "stream",
     "text": [
      "population_per_household^2: 432483.6754074234\n",
      "latitude population_per_household^2: 292741.6623782751\n",
      "population_per_household: 251822.101834846\n",
      "rooms_per_household population_per_household^2: 247839.7309149113\n",
      "latitude population_per_household: 163230.7992629211\n",
      "population_per_household^3: 142528.28943733426\n",
      "median_income population_per_household INLAND: 119820.14167212452\n",
      "population_per_household INLAND: 118047.64977626466\n",
      "latitude rooms_per_household population_per_household: 103840.7736954994\n",
      "latitude median_income population_per_household: 99537.53386138174\n",
      "housing_median_age population_per_household: 97408.98505569118\n",
      "rooms_per_household^2 INLAND: 97189.86078259867\n",
      "median_income population_per_household: 95334.19306862148\n",
      "longitude latitude population_per_household: 82568.63500381938\n",
      "latitude median_income: 76896.15757324755\n",
      "longitude median_income: 73086.91451132299\n",
      "latitude: 70826.49962565996\n",
      "longitude rooms_per_household population_per_household: 70197.7572698844\n",
      "longitude^2 population_per_household: 69207.8725432851\n",
      "longitude population_per_household: 69131.2744982179\n",
      "rooms_per_household INLAND^2: 68300.50931753877\n",
      "rooms_per_household^2: 65422.77873914213\n",
      "longitude population_per_household^2: 64650.44027169178\n",
      "population_per_household^2 INLAND: 63329.17023174355\n",
      "latitude housing_median_age: 62888.008579530804\n",
      "latitude rooms_per_household INLAND: 58238.2231942945\n",
      "latitude^2 INLAND: 57671.15971559538\n",
      "median_income: 57139.046754132105\n",
      "longitude housing_median_age: 56053.489558655514\n",
      "longitude: 55950.918958397946\n",
      "housing_median_age population_per_household INLAND: 51727.40410543918\n",
      "median_income rooms_per_household population_per_household: 49276.03949062791\n",
      "rooms_per_household population_per_household: 46420.733577848696\n",
      "latitude rooms_per_household: 42798.489606912764\n",
      "latitude^3: 41245.43601665479\n",
      "housing_median_age median_income population_per_household: 40662.45412523124\n",
      "housing_median_age^2 population_per_household: 38613.933609460284\n",
      "median_income^2 population_per_household: 37934.28244367033\n",
      "latitude^2 population_per_household: 36070.664991939746\n",
      "median_income population_per_household^2: 35723.9857293391\n",
      "longitude latitude: 31744.877395331438\n",
      "longitude rooms_per_household INLAND: 31579.859985125117\n",
      "longitude latitude INLAND: 30274.474083130837\n",
      "latitude housing_median_age population_per_household: 29479.195518879085\n",
      "rooms_per_household: 29080.268098897643\n",
      "longitude rooms_per_household: 28453.065845736062\n",
      "rooms_per_household INLAND: 28114.793160616176\n",
      "housing_median_age population_per_household^2: 27663.012248154995\n",
      "longitude latitude^2: 26980.923085791208\n",
      "latitude rooms_per_household^2: 23554.629967717894\n",
      "median_income INLAND: 23261.986488787345\n",
      "latitude housing_median_age median_income: 22233.550107156458\n",
      "longitude population_per_household INLAND: 21527.192430908923\n",
      "latitude housing_median_age INLAND: 21047.762722347285\n",
      "latitude INLAND: 21039.498751832936\n",
      "longitude latitude rooms_per_household: 21007.870216624422\n",
      "rooms_per_household^3: 20798.689630445824\n",
      "rooms_per_household^2 population_per_household: 20236.89159428616\n",
      "housing_median_age INLAND: 20234.403948295905\n",
      "median_income INLAND^2: 20032.80343406064\n",
      "longitude housing_median_age median_income: 18959.812481740366\n",
      "latitude^2: 18466.674892916923\n",
      "latitude^2 rooms_per_household: 18233.78879035725\n",
      "latitude median_income INLAND: 17971.721715368654\n",
      "longitude housing_median_age population_per_household: 17716.839228250265\n",
      "longitude INLAND: 16563.896527061966\n",
      "longitude^2 INLAND: 16075.570189886288\n",
      "median_income rooms_per_household: 15502.028547106496\n",
      "INLAND^3: 15309.042676370753\n",
      "longitude housing_median_age INLAND: 15226.50415525932\n",
      "longitude^2 rooms_per_household: 15144.408049628528\n",
      "longitude median_income^2: 13868.24737588502\n",
      "longitude^2: 13759.318231423056\n",
      "housing_median_age INLAND^2: 13587.315108064093\n",
      "median_income^3: 13522.870738669033\n",
      "longitude median_income INLAND: 12669.053293682311\n",
      "longitude^3: 12539.526456528152\n",
      "latitude median_income^2: 12094.519947146022\n",
      "latitude INLAND^2: 11986.198532029735\n",
      "latitude population_per_household INLAND: 11889.624629243857\n",
      "longitude latitude median_income: 11424.442138552917\n",
      "median_income rooms_per_household^2: 10414.440938379912\n",
      "longitude^2 housing_median_age: 10388.856334375205\n",
      "latitude housing_median_age rooms_per_household: 9861.790368702199\n",
      "housing_median_age median_income: 9740.984727588379\n",
      "INLAND^2: 9624.036919034568\n",
      "housing_median_age median_income^2: 9492.141651057142\n",
      "housing_median_age rooms_per_household population_per_household: 8702.092960596961\n",
      "longitude housing_median_age^2: 8285.082294715367\n",
      "longitude median_income rooms_per_household: 7456.692283846908\n",
      "latitude housing_median_age^2: 6950.031646773651\n",
      "rooms_per_household population_per_household INLAND: 6810.189081831533\n",
      "longitude INLAND^2: 6799.921291638296\n",
      "median_income^2: 6430.724848478411\n",
      "longitude housing_median_age rooms_per_household: 6194.468023442109\n",
      "latitude median_income rooms_per_household: 5663.470517901812\n",
      "longitude^2 latitude: 4998.116675270664\n",
      "housing_median_age^3: 4851.469673362264\n",
      "housing_median_age median_income rooms_per_household: 4818.009910645725\n",
      "longitude rooms_per_household^2: 4810.3698109473335\n",
      "housing_median_age rooms_per_household: 4640.789071092172\n",
      "INLAND: 4495.156484460205\n",
      "housing_median_age rooms_per_household^2: 4376.959129828719\n",
      "longitude latitude housing_median_age: 3967.740245846542\n",
      "median_income^2 rooms_per_household: 3886.920667020581\n",
      "housing_median_age^2 INLAND: 3803.4526430767787\n",
      "median_income rooms_per_household INLAND: 3745.8363125456945\n",
      "housing_median_age^2: 3407.62643152813\n",
      "longitude median_income population_per_household: 3102.151541662283\n",
      "housing_median_age median_income INLAND: 2991.326300524293\n",
      "housing_median_age rooms_per_household INLAND: 2833.4620227779496\n",
      "longitude^2 median_income: 2362.5128319506953\n",
      "median_income^2 INLAND: 2310.8834297146573\n",
      "latitude^2 median_income: 2243.4135876540868\n",
      "population_per_household INLAND^2: 1840.0411738783737\n",
      "housing_median_age^2 rooms_per_household: 1459.5518648432403\n",
      "housing_median_age^2 median_income: 1184.8793749083081\n",
      "housing_median_age: 1017.6396326572155\n",
      "latitude^2 housing_median_age: 30.384414630319906\n"
     ]
    }
   ],
   "source": [
    "abs_scores = np.abs(lasso.coef_)\n",
    "poly_feature_names = poly_features.get_feature_names_out(input_features=Xtrain.columns)\n",
    "\n",
    "for score, name in sorted(zip(abs_scores, poly_feature_names), reverse=True):\n",
    "    print(f\"{name}: {score}\")"
   ]
  },
  {
   "cell_type": "markdown",
   "metadata": {},
   "source": [
    "# Acknowledgement\n",
    "\n",
    "The notebook is based on the code examples from [Aurélien Géron's textbook](https://www.oreilly.com/library/view/hands-on-machine-learning/9781492032632/) \"Hands-On Machine Learning with Scikit-Learn, Keras, and TensorFlow\".\n"
   ]
  },
  {
   "cell_type": "markdown",
   "metadata": {},
   "source": [
    "# Citing this notebook\n",
    "\n",
    "If you use this notebook in your work, please cite it as follows:\n",
    "    \n",
    "Pekar, V. (2022). Big Data for Decision Making. Lecture examples and exercises. (Version 1.0.0). URL: https://github.com/vpekar/bd4dm\n"
   ]
  },
  {
   "cell_type": "code",
   "execution_count": null,
   "metadata": {},
   "outputs": [],
   "source": []
  }
 ],
 "metadata": {
  "kernelspec": {
   "display_name": "Python 3",
   "language": "python",
   "name": "python3"
  },
  "language_info": {
   "codemirror_mode": {
    "name": "ipython",
    "version": 3
   },
   "file_extension": ".py",
   "mimetype": "text/x-python",
   "name": "python",
   "nbconvert_exporter": "python",
   "pygments_lexer": "ipython3",
   "version": "3.9.7"
  },
  "toc": {
   "base_numbering": 1,
   "nav_menu": {},
   "number_sections": true,
   "sideBar": true,
   "skip_h1_title": false,
   "title_cell": "Table of Contents",
   "title_sidebar": "Contents",
   "toc_cell": false,
   "toc_position": {},
   "toc_section_display": true,
   "toc_window_display": true
  }
 },
 "nbformat": 4,
 "nbformat_minor": 2
}
