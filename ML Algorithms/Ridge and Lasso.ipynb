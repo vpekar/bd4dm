{
 "cells": [
  {
   "cell_type": "markdown",
   "metadata": {},
   "source": [
    "Please download the file \"trainset.csv\" and save it into same folder as this notebook.\n",
    "\n",
    "The two files are the training and test sets created from the California housing dataset."
   ]
  },
  {
   "cell_type": "code",
   "execution_count": 1,
   "metadata": {
    "ExecuteTime": {
     "end_time": "2022-09-08T15:24:50.275040Z",
     "start_time": "2022-09-08T15:24:48.038291Z"
    }
   },
   "outputs": [
    {
     "name": "stderr",
     "output_type": "stream",
     "text": [
      "Intel(R) Extension for Scikit-learn* enabled (https://github.com/intel/scikit-learn-intelex)\n"
     ]
    }
   ],
   "source": [
    "# setting logging to print only error messages\n",
    "import logging\n",
    "logging.basicConfig()\n",
    "logging.getLogger(\"SKLEARNEX\").setLevel(logging.ERROR)\n",
    "\n",
    "import numpy as np\n",
    "import pandas as pd\n",
    "import matplotlib.pyplot as plt\n",
    "import seaborn as sns\n",
    "\n",
    "sns.set_theme(palette=\"Set2\")\n",
    "\n",
    "from sklearn.preprocessing import PolynomialFeatures\n",
    "from sklearn.linear_model import LinearRegression\n",
    "from sklearn.metrics import mean_squared_error\n",
    "from sklearn.model_selection import train_test_split"
   ]
  },
  {
   "cell_type": "code",
   "execution_count": 2,
   "metadata": {
    "ExecuteTime": {
     "end_time": "2022-09-08T15:24:50.305922Z",
     "start_time": "2022-09-08T15:24:50.278029Z"
    }
   },
   "outputs": [],
   "source": [
    "def evaluate_model(model, X, y):\n",
    "    \"\"\"Given a model object, predictors and the target, fit and evaluate a model,\n",
    "    output its RMSE on the training set and on the validation set\n",
    "    \"\"\"\n",
    "\n",
    "    X_train, X_val, y_train, y_val = train_test_split(X, y, test_size=0.1, random_state=7)\n",
    "\n",
    "    model.fit(X_train, y_train)\n",
    "\n",
    "    y_train_predict = model.predict(X_train)\n",
    "    y_val_predict = model.predict(X_val)\n",
    "\n",
    "    # record the results\n",
    "    train_rmse = np.sqrt(mean_squared_error(y_train_predict, y_train))\n",
    "    val_rmse = np.sqrt(mean_squared_error(y_val_predict, y_val))\n",
    "    \n",
    "    return train_rmse, val_rmse\n",
    "\n",
    "\n",
    "def plot_learning_curves(model, X, y):\n",
    "    \n",
    "    # create a train-test split\n",
    "    X_train, X_val, y_train, y_val = train_test_split(X, y, test_size=0.1, random_state=7)\n",
    "    train_errors, val_errors, sizes = [], [], []\n",
    "    \n",
    "    # take different sizes of the training data, starting from 50s instance, with the step of 10\n",
    "    for m in range(50, len(X_train), 10):\n",
    "        \n",
    "        # fit a model\n",
    "        model.fit(X_train[:m], y_train[:m])\n",
    "        \n",
    "        # evaluate the model on both training and validation sets\n",
    "        y_train_predict = model.predict(X_train[:m])\n",
    "        y_val_predict = model.predict(X_val)\n",
    "        \n",
    "        # calculate RMSE and record the results\n",
    "        train_rmse = np.sqrt(mean_squared_error(y_train_predict, y_train[:m]))\n",
    "        val_rmse = np.sqrt(mean_squared_error(y_val_predict, y_val))\n",
    "        \n",
    "        train_errors.append(train_rmse)\n",
    "        val_errors.append(val_rmse)\n",
    "        sizes.append(m)\n",
    "        \n",
    "    # make a plot\n",
    "    temp_df = pd.DataFrame({\"training set size\": sizes, \n",
    "                        \"train\": train_errors,\n",
    "                        \"val\": val_errors})\n",
    "    temp_df.plot(x=\"training set size\", y=[\"train\", \"val\"], kind=\"line\", \n",
    "             figsize=(6, 4), ylim=(40000, 80000))"
   ]
  },
  {
   "cell_type": "markdown",
   "metadata": {},
   "source": [
    "# Load the data"
   ]
  },
  {
   "cell_type": "code",
   "execution_count": 3,
   "metadata": {
    "ExecuteTime": {
     "end_time": "2022-09-08T15:24:50.769289Z",
     "start_time": "2022-09-08T15:24:50.308908Z"
    }
   },
   "outputs": [],
   "source": [
    "usecols = [\"median_income\", \"INLAND\", \"population_per_household\", \"longitude\", \"latitude\", \n",
    "           \"housing_median_age\", \"rooms_per_household\", \"median_house_value\"]\n",
    "trainset = pd.read_csv(\"trainset.csv\", usecols=usecols)\n",
    "\n",
    "Xtrain = trainset.drop(\"median_house_value\", axis=1)\n",
    "\n",
    "ytrain = trainset[\"median_house_value\"].copy()\n",
    "\n",
    "poly_features = PolynomialFeatures(degree=3, include_bias=False)\n",
    "X_poly = poly_features.fit_transform(Xtrain)"
   ]
  },
  {
   "cell_type": "markdown",
   "metadata": {},
   "source": [
    "# Ridge Regression"
   ]
  },
  {
   "cell_type": "markdown",
   "metadata": {},
   "source": [
    "The cost function in Ridge Regression is the sum of squared errors plus a penalty term, which is the sum of squared coefficients:\n",
    "\n",
    "$\\underset{\\beta}{\\mathrm{argmin}} \\sum^{Y}\\limits_{i=1} (y_i - \\alpha - \\sum^{X}\\limits_{j=1}\\beta_{j} x_{i,j})^2 + \\lambda  \\sum^{X}\\limits_{i=j}\\beta_{j}^2$\n",
    "\n",
    "Plot its learning curve:"
   ]
  },
  {
   "cell_type": "code",
   "execution_count": 4,
   "metadata": {
    "ExecuteTime": {
     "end_time": "2022-09-08T15:24:59.955679Z",
     "start_time": "2022-09-08T15:24:50.772167Z"
    }
   },
   "outputs": [
    {
     "data": {
      "image/png": "[encoded data removed]",
      "text/plain": [
       "<Figure size 432x288 with 1 Axes>"
      ]
     },
     "metadata": {},
     "output_type": "display_data"
    }
   ],
   "source": [
    "from sklearn.linear_model import Ridge\n",
    "from sklearn.preprocessing import StandardScaler\n",
    "\n",
    "# first standartize X_poly\n",
    "scaler = StandardScaler()\n",
    "X_poly_st = scaler.fit_transform(X_poly)\n",
    "\n",
    "ridge = Ridge(random_state=7, alpha=50)\n",
    "plot_learning_curves(ridge, X_poly_st, ytrain)"
   ]
  },
  {
   "cell_type": "markdown",
   "metadata": {},
   "source": [
    "Train and evaluate a Ridge regression model:"
   ]
  },
  {
   "cell_type": "code",
   "execution_count": 5,
   "metadata": {
    "ExecuteTime": {
     "end_time": "2022-09-08T15:25:00.002772Z",
     "start_time": "2022-09-08T15:24:59.957671Z"
    }
   },
   "outputs": [
    {
     "name": "stdout",
     "output_type": "stream",
     "text": [
      "Ridge: Train: 56168.051205293166, validation: 57181.66449746129\n"
     ]
    }
   ],
   "source": [
    "ridge = Ridge(random_state=7, alpha=50)\n",
    "train_rmse, val_rmse = evaluate_model(ridge, X_poly_st, ytrain)\n",
    "print(f\"Ridge: Train: {train_rmse}, validation: {val_rmse}\")"
   ]
  },
  {
   "cell_type": "markdown",
   "metadata": {},
   "source": [
    "# LASSO"
   ]
  },
  {
   "cell_type": "markdown",
   "metadata": {},
   "source": [
    "The cost function in LASSO Regression is the sum of squared errors plus a penalty term, which is the sum of the absolute values of the coefficients:\n",
    "\n",
    "$\\underset{\\beta}{\\mathrm{argmin}} \\sum^{Y}\\limits_{i=1} (y_i - \\alpha - \\sum^{X}\\limits_{j=1}\\beta_{j} x_{i,j})^2 + \\lambda  \\sum^{X}\\limits_{i=j}|\\beta_{j}|$"
   ]
  },
  {
   "cell_type": "code",
   "execution_count": 6,
   "metadata": {
    "ExecuteTime": {
     "end_time": "2022-09-08T15:25:00.018697Z",
     "start_time": "2022-09-08T15:25:00.005726Z"
    }
   },
   "outputs": [],
   "source": [
    "from sklearn.linear_model import Lasso\n",
    "\n",
    "# plotting learning curves takes way too long!\n",
    "#lasso = Lasso(random_state=7, alpha=1, max_iter=100000)\n",
    "#plot_learning_curves(lasso, X_poly_st, ytrain)"
   ]
  },
  {
   "cell_type": "markdown",
   "metadata": {},
   "source": [
    "Train and evaluate a LASSO model:"
   ]
  },
  {
   "cell_type": "code",
   "execution_count": 7,
   "metadata": {
    "ExecuteTime": {
     "end_time": "2022-09-08T15:25:00.616524Z",
     "start_time": "2022-09-08T15:25:00.021681Z"
    }
   },
   "outputs": [
    {
     "name": "stdout",
     "output_type": "stream",
     "text": [
      "Lasso: Train: 54846.5069032713, validation: 55732.62953776444\n"
     ]
    }
   ],
   "source": [
    "lasso = Lasso(random_state=7, alpha=0.1, max_iter=1000000)\n",
    "train_rmse, val_rmse = evaluate_model(lasso, X_poly_st, ytrain)\n",
    "print(f\"Lasso: Train: {train_rmse}, validation: {val_rmse}\")"
   ]
  },
  {
   "cell_type": "markdown",
   "metadata": {},
   "source": [
    "Display estimated coefficients on the features. The `coef_` attribute of a `Lasso` object holds the feature coefficients."
   ]
  },
  {
   "cell_type": "code",
   "execution_count": 8,
   "metadata": {
    "ExecuteTime": {
     "end_time": "2022-09-08T15:25:00.632179Z",
     "start_time": "2022-09-08T15:25:00.619211Z"
    }
   },
   "outputs": [
    {
     "data": {
      "text/plain": [
       "(119,)"
      ]
     },
     "execution_count": 8,
     "metadata": {},
     "output_type": "execute_result"
    }
   ],
   "source": [
    "lasso.coef_.shape"
   ]
  },
  {
   "cell_type": "markdown",
   "metadata": {},
   "source": [
    "We use the absolute values of the coefficients to determine importance of the features, and then sort them in the descending order (`reverse=True`) to find the most important ones, and in the ascending order (`reverse=False`) to find deleted ones."
   ]
  },
  {
   "cell_type": "code",
   "execution_count": 9,
   "metadata": {
    "ExecuteTime": {
     "end_time": "2022-09-08T15:25:00.663547Z",
     "start_time": "2022-09-08T15:25:00.635169Z"
    }
   },
   "outputs": [
    {
     "name": "stdout",
     "output_type": "stream",
     "text": [
      "population_per_household^2: 432483.6754074234\n",
      "latitude population_per_household^2: 292741.6623782751\n",
      "population_per_household: 251822.101834846\n",
      "rooms_per_household population_per_household^2: 247839.7309149113\n",
      "latitude population_per_household: 163230.7992629211\n",
      "population_per_household^3: 142528.28943733426\n",
      "median_income population_per_household INLAND: 119820.14167212452\n",
      "population_per_household INLAND: 118047.64977626466\n",
      "latitude rooms_per_household population_per_household: 103840.7736954994\n",
      "latitude median_income population_per_household: 99537.53386138174\n",
      "housing_median_age population_per_household: 97408.98505569118\n",
      "rooms_per_household^2 INLAND: 97189.86078259867\n",
      "median_income population_per_household: 95334.19306862148\n",
      "longitude latitude population_per_household: 82568.63500381938\n",
      "latitude median_income: 76896.15757324755\n",
      "longitude median_income: 73086.91451132299\n",
      "latitude: 70826.49962565996\n",
      "longitude rooms_per_household population_per_household: 70197.7572698844\n",
      "longitude^2 population_per_household: 69207.8725432851\n",
      "longitude population_per_household: 69131.2744982179\n",
      "rooms_per_household INLAND^2: 68300.50931753877\n",
      "rooms_per_household^2: 65422.77873914213\n",
      "longitude population_per_household^2: 64650.44027169178\n",
      "population_per_household^2 INLAND: 63329.17023174355\n",
      "latitude housing_median_age: 62888.008579530804\n",
      "latitude rooms_per_household INLAND: 58238.2231942945\n",
      "latitude^2 INLAND: 57671.15971559538\n",
      "median_income: 57139.046754132105\n",
      "longitude housing_median_age: 56053.489558655514\n",
      "longitude: 55950.918958397946\n",
      "housing_median_age population_per_household INLAND: 51727.40410543918\n",
      "median_income rooms_per_household population_per_household: 49276.03949062791\n",
      "rooms_per_household population_per_household: 46420.733577848696\n",
      "latitude rooms_per_household: 42798.489606912764\n",
      "latitude^3: 41245.43601665479\n",
      "housing_median_age median_income population_per_household: 40662.45412523124\n",
      "housing_median_age^2 population_per_household: 38613.933609460284\n",
      "median_income^2 population_per_household: 37934.28244367033\n",
      "latitude^2 population_per_household: 36070.664991939746\n",
      "median_income population_per_household^2: 35723.9857293391\n",
      "longitude latitude: 31744.877395331438\n",
      "longitude rooms_per_household INLAND: 31579.859985125117\n",
      "longitude latitude INLAND: 30274.474083130837\n",
      "latitude housing_median_age population_per_household: 29479.195518879085\n",
      "rooms_per_household: 29080.268098897643\n",
      "longitude rooms_per_household: 28453.065845736062\n",
      "rooms_per_household INLAND: 28114.793160616176\n",
      "housing_median_age population_per_household^2: 27663.012248154995\n",
      "longitude latitude^2: 26980.923085791208\n",
      "latitude rooms_per_household^2: 23554.629967717894\n",
      "median_income INLAND: 23261.986488787345\n",
      "latitude housing_median_age median_income: 22233.550107156458\n",
      "longitude population_per_household INLAND: 21527.192430908923\n",
      "latitude housing_median_age INLAND: 21047.762722347285\n",
      "latitude INLAND: 21039.498751832936\n",
      "longitude latitude rooms_per_household: 21007.870216624422\n",
      "rooms_per_household^3: 20798.689630445824\n",
      "rooms_per_household^2 population_per_household: 20236.89159428616\n",
      "housing_median_age INLAND: 20234.403948295905\n",
      "median_income INLAND^2: 20032.80343406064\n",
      "longitude housing_median_age median_income: 18959.812481740366\n",
      "latitude^2: 18466.674892916923\n",
      "latitude^2 rooms_per_household: 18233.78879035725\n",
      "latitude median_income INLAND: 17971.721715368654\n",
      "longitude housing_median_age population_per_household: 17716.839228250265\n",
      "longitude INLAND: 16563.896527061966\n",
      "longitude^2 INLAND: 16075.570189886288\n",
      "median_income rooms_per_household: 15502.028547106496\n",
      "INLAND^3: 15309.042676370753\n",
      "longitude housing_median_age INLAND: 15226.50415525932\n",
      "longitude^2 rooms_per_household: 15144.408049628528\n",
      "longitude median_income^2: 13868.24737588502\n",
      "longitude^2: 13759.318231423056\n",
      "housing_median_age INLAND^2: 13587.315108064093\n",
      "median_income^3: 13522.870738669033\n",
      "longitude median_income INLAND: 12669.053293682311\n",
      "longitude^3: 12539.526456528152\n",
      "latitude median_income^2: 12094.519947146022\n",
      "latitude INLAND^2: 11986.198532029735\n",
      "latitude population_per_household INLAND: 11889.624629243857\n",
      "longitude latitude median_income: 11424.442138552917\n",
      "median_income rooms_per_household^2: 10414.440938379912\n",
      "longitude^2 housing_median_age: 10388.856334375205\n",
      "latitude housing_median_age rooms_per_household: 9861.790368702199\n",
      "housing_median_age median_income: 9740.984727588379\n",
      "INLAND^2: 9624.036919034568\n",
      "housing_median_age median_income^2: 9492.141651057142\n",
      "housing_median_age rooms_per_household population_per_household: 8702.092960596961\n",
      "longitude housing_median_age^2: 8285.082294715367\n",
      "longitude median_income rooms_per_household: 7456.692283846908\n",
      "latitude housing_median_age^2: 6950.031646773651\n",
      "rooms_per_household population_per_household INLAND: 6810.189081831533\n",
      "longitude INLAND^2: 6799.921291638296\n",
      "median_income^2: 6430.724848478411\n",
      "longitude housing_median_age rooms_per_household: 6194.468023442109\n",
      "latitude median_income rooms_per_household: 5663.470517901812\n",
      "longitude^2 latitude: 4998.116675270664\n",
      "housing_median_age^3: 4851.469673362264\n",
      "housing_median_age median_income rooms_per_household: 4818.009910645725\n",
      "longitude rooms_per_household^2: 4810.3698109473335\n",
      "housing_median_age rooms_per_household: 4640.789071092172\n",
      "INLAND: 4495.156484460205\n",
      "housing_median_age rooms_per_household^2: 4376.959129828719\n",
      "longitude latitude housing_median_age: 3967.740245846542\n",
      "median_income^2 rooms_per_household: 3886.920667020581\n",
      "housing_median_age^2 INLAND: 3803.4526430767787\n",
      "median_income rooms_per_household INLAND: 3745.8363125456945\n",
      "housing_median_age^2: 3407.62643152813\n",
      "longitude median_income population_per_household: 3102.151541662283\n",
      "housing_median_age median_income INLAND: 2991.326300524293\n",
      "housing_median_age rooms_per_household INLAND: 2833.4620227779496\n",
      "longitude^2 median_income: 2362.5128319506953\n",
      "median_income^2 INLAND: 2310.8834297146573\n",
      "latitude^2 median_income: 2243.4135876540868\n",
      "population_per_household INLAND^2: 1840.0411738783737\n",
      "housing_median_age^2 rooms_per_household: 1459.5518648432403\n",
      "housing_median_age^2 median_income: 1184.8793749083081\n",
      "housing_median_age: 1017.6396326572155\n",
      "latitude^2 housing_median_age: 30.384414630319906\n"
     ]
    }
   ],
   "source": [
    "abs_scores = np.abs(lasso.coef_)\n",
    "poly_feature_names = poly_features.get_feature_names_out(input_features=Xtrain.columns)\n",
    "\n",
    "for score, name in sorted(zip(abs_scores, poly_feature_names), reverse=True):\n",
    "    print(f\"{name}: {score}\")"
   ]
  },
  {
   "cell_type": "markdown",
   "metadata": {},
   "source": [
    "# Acknowledgement\n",
    "\n",
    "The notebook is based on the code examples from [Aurélien Géron's textbook](https://www.oreilly.com/library/view/hands-on-machine-learning/9781492032632/) \"Hands-On Machine Learning with Scikit-Learn, Keras, and TensorFlow\".\n"
   ]
  },
  {
   "cell_type": "markdown",
   "metadata": {},
   "source": [
    "# Citing this notebook\n",
    "\n",
    "If you use this notebook in your work, please cite it as follows:\n",
    "    \n",
    "Pekar, V. (2022). Big Data for Decision Making. Lecture examples and exercises. (Version 1.0.0). URL: https://github.com/vpekar/bd4dm\n"
   ]
  },
  {
   "cell_type": "code",
   "execution_count": null,
   "metadata": {},
   "outputs": [],
   "source": []
  }
 ],
 "metadata": {
  "kernelspec": {
   "display_name": "Python 3",
   "language": "python",
   "name": "python3"
  },
  "language_info": {
   "codemirror_mode": {
    "name": "ipython",
    "version": 3
   },
   "file_extension": ".py",
   "mimetype": "text/x-python",
   "name": "python",
   "nbconvert_exporter": "python",
   "pygments_lexer": "ipython3",
   "version": "3.9.7"
  },
  "toc": {
   "base_numbering": 1,
   "nav_menu": {},
   "number_sections": true,
   "sideBar": true,
   "skip_h1_title": false,
   "title_cell": "Table of Contents",
   "title_sidebar": "Contents",
   "toc_cell": false,
   "toc_position": {},
   "toc_section_display": true,
   "toc_window_display": true
  }
 },
 "nbformat": 4,
 "nbformat_minor": 2
}
