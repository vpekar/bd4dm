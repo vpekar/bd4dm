{
 "cells": [
  {
   "cell_type": "markdown",
   "metadata": {},
   "source": [
    "# Classification problem\n",
    "\n",
    "The task is to predict if a sales opportunity will result in a won or a lost contract."
   ]
  },
  {
   "cell_type": "code",
   "execution_count": 1,
   "metadata": {
    "ExecuteTime": {
     "end_time": "2022-10-02T20:14:02.912056Z",
     "start_time": "2022-10-02T20:14:01.284818Z"
    }
   },
   "outputs": [],
   "source": [
    "# setting logging to print only error messages of sklearnex\n",
    "import logging\n",
    "logging.basicConfig()\n",
    "logging.getLogger(\"SKLEARNEX\").setLevel(logging.ERROR)\n",
    "\n",
    "import time\n",
    "import pandas as pd\n",
    "import numpy as np\n",
    "import matplotlib.pyplot as plt"
   ]
  },
  {
   "cell_type": "markdown",
   "metadata": {},
   "source": [
    "# Step 1. Load the data"
   ]
  },
  {
   "cell_type": "code",
   "execution_count": 2,
   "metadata": {
    "ExecuteTime": {
     "end_time": "2022-10-02T20:14:05.905380Z",
     "start_time": "2022-10-02T20:14:02.912056Z"
    }
   },
   "outputs": [],
   "source": [
    "url = \"https://raw.githubusercontent.com/vkrit/data-science-class/master/WA_Fn-UseC_-Sales-Win-Loss.csv\"\n",
    "df = pd.read_csv(url)"
   ]
  },
  {
   "cell_type": "code",
   "execution_count": 3,
   "metadata": {
    "ExecuteTime": {
     "end_time": "2022-10-02T20:14:05.936091Z",
     "start_time": "2022-10-02T20:14:05.905380Z"
    }
   },
   "outputs": [
    {
     "data": {
      "text/html": [
       "<div>\n",
       "<style scoped>\n",
       "    .dataframe tbody tr th:only-of-type {\n",
       "        vertical-align: middle;\n",
       "    }\n",
       "\n",
       "    .dataframe tbody tr th {\n",
       "        vertical-align: top;\n",
       "    }\n",
       "\n",
       "    .dataframe thead th {\n",
       "        text-align: right;\n",
       "    }\n",
       "</style>\n",
       "<table border=\"1\" class=\"dataframe\">\n",
       "  <thead>\n",
       "    <tr style=\"text-align: right;\">\n",
       "      <th></th>\n",
       "      <th>Opportunity Number</th>\n",
       "      <th>Supplies Subgroup</th>\n",
       "      <th>Supplies Group</th>\n",
       "      <th>Region</th>\n",
       "      <th>Route To Market</th>\n",
       "      <th>Elapsed Days In Sales Stage</th>\n",
       "      <th>Opportunity Result</th>\n",
       "      <th>Sales Stage Change Count</th>\n",
       "      <th>Total Days Identified Through Closing</th>\n",
       "      <th>Total Days Identified Through Qualified</th>\n",
       "      <th>Opportunity Amount USD</th>\n",
       "      <th>Client Size By Revenue</th>\n",
       "      <th>Client Size By Employee Count</th>\n",
       "      <th>Revenue From Client Past Two Years</th>\n",
       "      <th>Competitor Type</th>\n",
       "      <th>Ratio Days Identified To Total Days</th>\n",
       "      <th>Ratio Days Validated To Total Days</th>\n",
       "      <th>Ratio Days Qualified To Total Days</th>\n",
       "      <th>Deal Size Category</th>\n",
       "    </tr>\n",
       "  </thead>\n",
       "  <tbody>\n",
       "    <tr>\n",
       "      <th>0</th>\n",
       "      <td>1641984</td>\n",
       "      <td>Exterior Accessories</td>\n",
       "      <td>Car Accessories</td>\n",
       "      <td>Northwest</td>\n",
       "      <td>Fields Sales</td>\n",
       "      <td>76</td>\n",
       "      <td>Won</td>\n",
       "      <td>13</td>\n",
       "      <td>104</td>\n",
       "      <td>101</td>\n",
       "      <td>0</td>\n",
       "      <td>5</td>\n",
       "      <td>5</td>\n",
       "      <td>0</td>\n",
       "      <td>Unknown</td>\n",
       "      <td>0.69636</td>\n",
       "      <td>0.113985</td>\n",
       "      <td>0.154215</td>\n",
       "      <td>1</td>\n",
       "    </tr>\n",
       "    <tr>\n",
       "      <th>1</th>\n",
       "      <td>1658010</td>\n",
       "      <td>Exterior Accessories</td>\n",
       "      <td>Car Accessories</td>\n",
       "      <td>Pacific</td>\n",
       "      <td>Reseller</td>\n",
       "      <td>63</td>\n",
       "      <td>Loss</td>\n",
       "      <td>2</td>\n",
       "      <td>163</td>\n",
       "      <td>163</td>\n",
       "      <td>0</td>\n",
       "      <td>3</td>\n",
       "      <td>5</td>\n",
       "      <td>0</td>\n",
       "      <td>Unknown</td>\n",
       "      <td>0.00000</td>\n",
       "      <td>1.000000</td>\n",
       "      <td>0.000000</td>\n",
       "      <td>1</td>\n",
       "    </tr>\n",
       "    <tr>\n",
       "      <th>2</th>\n",
       "      <td>1674737</td>\n",
       "      <td>Motorcycle Parts</td>\n",
       "      <td>Performance &amp; Non-auto</td>\n",
       "      <td>Pacific</td>\n",
       "      <td>Reseller</td>\n",
       "      <td>24</td>\n",
       "      <td>Won</td>\n",
       "      <td>7</td>\n",
       "      <td>82</td>\n",
       "      <td>82</td>\n",
       "      <td>7750</td>\n",
       "      <td>1</td>\n",
       "      <td>1</td>\n",
       "      <td>0</td>\n",
       "      <td>Unknown</td>\n",
       "      <td>1.00000</td>\n",
       "      <td>0.000000</td>\n",
       "      <td>0.000000</td>\n",
       "      <td>1</td>\n",
       "    </tr>\n",
       "    <tr>\n",
       "      <th>3</th>\n",
       "      <td>1675224</td>\n",
       "      <td>Shelters &amp; RV</td>\n",
       "      <td>Performance &amp; Non-auto</td>\n",
       "      <td>Midwest</td>\n",
       "      <td>Reseller</td>\n",
       "      <td>16</td>\n",
       "      <td>Loss</td>\n",
       "      <td>5</td>\n",
       "      <td>124</td>\n",
       "      <td>124</td>\n",
       "      <td>0</td>\n",
       "      <td>1</td>\n",
       "      <td>1</td>\n",
       "      <td>0</td>\n",
       "      <td>Known</td>\n",
       "      <td>1.00000</td>\n",
       "      <td>0.000000</td>\n",
       "      <td>0.000000</td>\n",
       "      <td>1</td>\n",
       "    </tr>\n",
       "    <tr>\n",
       "      <th>4</th>\n",
       "      <td>1689785</td>\n",
       "      <td>Exterior Accessories</td>\n",
       "      <td>Car Accessories</td>\n",
       "      <td>Pacific</td>\n",
       "      <td>Reseller</td>\n",
       "      <td>69</td>\n",
       "      <td>Loss</td>\n",
       "      <td>11</td>\n",
       "      <td>91</td>\n",
       "      <td>13</td>\n",
       "      <td>69756</td>\n",
       "      <td>1</td>\n",
       "      <td>1</td>\n",
       "      <td>0</td>\n",
       "      <td>Unknown</td>\n",
       "      <td>0.00000</td>\n",
       "      <td>0.141125</td>\n",
       "      <td>0.000000</td>\n",
       "      <td>4</td>\n",
       "    </tr>\n",
       "  </tbody>\n",
       "</table>\n",
       "</div>"
      ],
      "text/plain": [
       "   Opportunity Number     Supplies Subgroup          Supplies Group  \\\n",
       "0             1641984  Exterior Accessories         Car Accessories   \n",
       "1             1658010  Exterior Accessories         Car Accessories   \n",
       "2             1674737      Motorcycle Parts  Performance & Non-auto   \n",
       "3             1675224         Shelters & RV  Performance & Non-auto   \n",
       "4             1689785  Exterior Accessories         Car Accessories   \n",
       "\n",
       "      Region Route To Market  Elapsed Days In Sales Stage Opportunity Result  \\\n",
       "0  Northwest    Fields Sales                           76                Won   \n",
       "1    Pacific        Reseller                           63               Loss   \n",
       "2    Pacific        Reseller                           24                Won   \n",
       "3    Midwest        Reseller                           16               Loss   \n",
       "4    Pacific        Reseller                           69               Loss   \n",
       "\n",
       "   Sales Stage Change Count  Total Days Identified Through Closing  \\\n",
       "0                        13                                    104   \n",
       "1                         2                                    163   \n",
       "2                         7                                     82   \n",
       "3                         5                                    124   \n",
       "4                        11                                     91   \n",
       "\n",
       "   Total Days Identified Through Qualified  Opportunity Amount USD  \\\n",
       "0                                      101                       0   \n",
       "1                                      163                       0   \n",
       "2                                       82                    7750   \n",
       "3                                      124                       0   \n",
       "4                                       13                   69756   \n",
       "\n",
       "   Client Size By Revenue  Client Size By Employee Count  \\\n",
       "0                       5                              5   \n",
       "1                       3                              5   \n",
       "2                       1                              1   \n",
       "3                       1                              1   \n",
       "4                       1                              1   \n",
       "\n",
       "   Revenue From Client Past Two Years Competitor Type  \\\n",
       "0                                   0         Unknown   \n",
       "1                                   0         Unknown   \n",
       "2                                   0         Unknown   \n",
       "3                                   0           Known   \n",
       "4                                   0         Unknown   \n",
       "\n",
       "   Ratio Days Identified To Total Days  Ratio Days Validated To Total Days  \\\n",
       "0                              0.69636                            0.113985   \n",
       "1                              0.00000                            1.000000   \n",
       "2                              1.00000                            0.000000   \n",
       "3                              1.00000                            0.000000   \n",
       "4                              0.00000                            0.141125   \n",
       "\n",
       "   Ratio Days Qualified To Total Days  Deal Size Category  \n",
       "0                            0.154215                   1  \n",
       "1                            0.000000                   1  \n",
       "2                            0.000000                   1  \n",
       "3                            0.000000                   1  \n",
       "4                            0.000000                   4  "
      ]
     },
     "execution_count": 3,
     "metadata": {},
     "output_type": "execute_result"
    }
   ],
   "source": [
    "df.head()"
   ]
  },
  {
   "cell_type": "code",
   "execution_count": 4,
   "metadata": {
    "ExecuteTime": {
     "end_time": "2022-10-02T20:14:05.984023Z",
     "start_time": "2022-10-02T20:14:05.938048Z"
    }
   },
   "outputs": [
    {
     "name": "stdout",
     "output_type": "stream",
     "text": [
      "<class 'pandas.core.frame.DataFrame'>\n",
      "RangeIndex: 78025 entries, 0 to 78024\n",
      "Data columns (total 19 columns):\n",
      " #   Column                                   Non-Null Count  Dtype  \n",
      "---  ------                                   --------------  -----  \n",
      " 0   Opportunity Number                       78025 non-null  int64  \n",
      " 1   Supplies Subgroup                        78025 non-null  object \n",
      " 2   Supplies Group                           78025 non-null  object \n",
      " 3   Region                                   78025 non-null  object \n",
      " 4   Route To Market                          78025 non-null  object \n",
      " 5   Elapsed Days In Sales Stage              78025 non-null  int64  \n",
      " 6   Opportunity Result                       78025 non-null  object \n",
      " 7   Sales Stage Change Count                 78025 non-null  int64  \n",
      " 8   Total Days Identified Through Closing    78025 non-null  int64  \n",
      " 9   Total Days Identified Through Qualified  78025 non-null  int64  \n",
      " 10  Opportunity Amount USD                   78025 non-null  int64  \n",
      " 11  Client Size By Revenue                   78025 non-null  int64  \n",
      " 12  Client Size By Employee Count            78025 non-null  int64  \n",
      " 13  Revenue From Client Past Two Years       78025 non-null  int64  \n",
      " 14  Competitor Type                          78025 non-null  object \n",
      " 15  Ratio Days Identified To Total Days      78025 non-null  float64\n",
      " 16  Ratio Days Validated To Total Days       78025 non-null  float64\n",
      " 17  Ratio Days Qualified To Total Days       78025 non-null  float64\n",
      " 18  Deal Size Category                       78025 non-null  int64  \n",
      "dtypes: float64(3), int64(10), object(6)\n",
      "memory usage: 11.3+ MB\n"
     ]
    }
   ],
   "source": [
    "df.info()"
   ]
  },
  {
   "cell_type": "markdown",
   "metadata": {},
   "source": [
    "There are 78025 rows, each describing a sales opportunity. For each sales opportunity, there are columns describing the geographical region, client size (by revenue and employee count), competitor (known, unknown, none), deal size category (how large is the potential contract), supplier group and subgroups (industry category), etc.\n",
    "\n",
    "We are going to predict the value of \"Opportunity Result\" (which can be either \"Win\" or \"Loss\"), i.e. this will be our target variable."
   ]
  },
  {
   "cell_type": "markdown",
   "metadata": {},
   "source": [
    "# Step 2. Train-test split\n",
    "\n",
    "We'll use 80% of the dataset for training and 20% for evaluation. The split will be done using stratified sampling to ensure the distributions of the \"Opportunity Result\" values are similar in the training and test set."
   ]
  },
  {
   "cell_type": "code",
   "execution_count": 5,
   "metadata": {
    "ExecuteTime": {
     "end_time": "2022-10-02T20:14:08.226309Z",
     "start_time": "2022-10-02T20:14:05.984634Z"
    }
   },
   "outputs": [
    {
     "name": "stderr",
     "output_type": "stream",
     "text": [
      "Intel(R) Extension for Scikit-learn* enabled (https://github.com/intel/scikit-learn-intelex)\n"
     ]
    }
   ],
   "source": [
    "from sklearn.model_selection import train_test_split\n",
    "\n",
    "trainset, testset = train_test_split(df, test_size=0.2,\n",
    "                                     stratify=df[\"Opportunity Result\"], random_state=7)"
   ]
  },
  {
   "cell_type": "markdown",
   "metadata": {},
   "source": [
    "Confirm that the distribution of the variable is similar:"
   ]
  },
  {
   "cell_type": "code",
   "execution_count": 6,
   "metadata": {
    "ExecuteTime": {
     "end_time": "2022-10-02T20:14:08.252940Z",
     "start_time": "2022-10-02T20:14:08.227306Z"
    }
   },
   "outputs": [
    {
     "data": {
      "text/plain": [
       "Loss    0.774079\n",
       "Won     0.225921\n",
       "Name: Opportunity Result, dtype: float64"
      ]
     },
     "execution_count": 6,
     "metadata": {},
     "output_type": "execute_result"
    }
   ],
   "source": [
    "trainset[\"Opportunity Result\"].value_counts(normalize=True)"
   ]
  },
  {
   "cell_type": "code",
   "execution_count": 7,
   "metadata": {
    "ExecuteTime": {
     "end_time": "2022-10-02T20:14:08.268578Z",
     "start_time": "2022-10-02T20:14:08.253931Z"
    }
   },
   "outputs": [
    {
     "data": {
      "text/plain": [
       "Loss    0.774111\n",
       "Won     0.225889\n",
       "Name: Opportunity Result, dtype: float64"
      ]
     },
     "execution_count": 7,
     "metadata": {},
     "output_type": "execute_result"
    }
   ],
   "source": [
    "testset[\"Opportunity Result\"].value_counts(normalize=True)"
   ]
  },
  {
   "cell_type": "markdown",
   "metadata": {},
   "source": [
    "The sizes of the two parts of the data:"
   ]
  },
  {
   "cell_type": "code",
   "execution_count": 8,
   "metadata": {
    "ExecuteTime": {
     "end_time": "2022-10-02T20:14:08.282603Z",
     "start_time": "2022-10-02T20:14:08.272567Z"
    }
   },
   "outputs": [
    {
     "name": "stdout",
     "output_type": "stream",
     "text": [
      "There are 62420 training and 15605 test instances\n"
     ]
    }
   ],
   "source": [
    "print(f\"There are {trainset.shape[0]} training and {testset.shape[0]} test instances\")"
   ]
  },
  {
   "cell_type": "markdown",
   "metadata": {},
   "source": [
    "# Step 3. Exploratory Data Analysis\n",
    "\n",
    "## Distribution of numerical variables"
   ]
  },
  {
   "cell_type": "code",
   "execution_count": 9,
   "metadata": {
    "ExecuteTime": {
     "end_time": "2022-10-02T20:14:12.632250Z",
     "start_time": "2022-10-02T20:14:08.282603Z"
    }
   },
   "outputs": [
    {
     "data": {
      "image/png": "[encoded data removed]",
      "text/plain": [
       "<Figure size 1152x864 with 16 Axes>"
      ]
     },
     "metadata": {
      "needs_background": "light"
     },
     "output_type": "display_data"
    }
   ],
   "source": [
    "dummy = trainset.hist(bins=50, figsize=(16,12))"
   ]
  },
  {
   "cell_type": "markdown",
   "metadata": {},
   "source": [
    "There are several variables that are right tail-heavy, suggesting they can be log-transformed.\n",
    "\n",
    "\"Opportunity number\" is a row id, and should be deleted.\n",
    "\n",
    "Several variables have to do with ratios, and the majority of their values tend to cluster around 0 and 1.\n",
    "\n",
    "Interestingly, \"Opportunity Amount USD\" have a lot of values near 0. We can find out exactly how many rows there are where the opportunity amount is 0:"
   ]
  },
  {
   "cell_type": "code",
   "execution_count": 10,
   "metadata": {
    "ExecuteTime": {
     "end_time": "2022-10-02T20:14:12.648203Z",
     "start_time": "2022-10-02T20:14:12.634205Z"
    }
   },
   "outputs": [
    {
     "data": {
      "text/plain": [
       "1641"
      ]
     },
     "execution_count": 10,
     "metadata": {},
     "output_type": "execute_result"
    }
   ],
   "source": [
    "trainset[trainset[\"Opportunity Amount USD\"] == 0].shape[0]"
   ]
  },
  {
   "cell_type": "markdown",
   "metadata": {},
   "source": [
    "There are quite a few of them. It may be that the opportunity amount is unknown in such cases. \n",
    "\n",
    "How about the \"Deal Size Category\" variable? The data type of \"Deal Size Category\" is int64, but it encodes categorical information. According to the description of the [dataset](https://books.google.co.uk/books?id=CpGyDwAAQBAJ&pg=PA409&lpg=PA409&dq=%22Sales_Win_Loss%22&source=bl&ots=5X1mrNtx8v&sig=ACfU3U1B44TUh442dz4Du9agB5K8souK5g&hl=en&sa=X&ved=2ahUKEwjP57GPsOjnAhWDmFwKHaIpCvEQ6AEwAnoECAoQAQ#v=onepage&q=%22Sales_Win_Loss%22&f=false), the integer values correspond to bands of opportunity amount, e.g., \"1\" stands for opportunity amounts less than 10k USD, \"2\" stands for opportunity amounts between 10k and 25k USD, etc. In other words, this is an ordinal variable.\n",
    "\n",
    "If we check the number of rows that have the lowest value in this variable, it is the same as the number of rows with \"Opportunity Amount USD\" equal to 0:"
   ]
  },
  {
   "cell_type": "code",
   "execution_count": 11,
   "metadata": {
    "ExecuteTime": {
     "end_time": "2022-10-02T20:14:12.659021Z",
     "start_time": "2022-10-02T20:14:12.649165Z"
    }
   },
   "outputs": [
    {
     "data": {
      "text/plain": [
       "1641"
      ]
     },
     "execution_count": 11,
     "metadata": {},
     "output_type": "execute_result"
    }
   ],
   "source": [
    "trainset[(trainset[\"Opportunity Amount USD\"] == 0) & (trainset[\"Deal Size Category\"] == 1)].shape[0]"
   ]
  },
  {
   "cell_type": "markdown",
   "metadata": {},
   "source": [
    "So it may well be that the sales opportunities with unknown amounts are records also as a special category in \"Deal Size Category\". We may consider dropping these rows as a possible cleaning step.\n",
    "\n",
    "Because \"Deal Size Category\" is ordinal, and we will use it as-is, without creating dummies."
   ]
  },
  {
   "cell_type": "markdown",
   "metadata": {},
   "source": [
    "## Distribution of categorical variables"
   ]
  },
  {
   "cell_type": "code",
   "execution_count": 12,
   "metadata": {
    "ExecuteTime": {
     "end_time": "2022-10-02T20:14:13.662314Z",
     "start_time": "2022-10-02T20:14:12.659021Z"
    }
   },
   "outputs": [
    {
     "data": {
      "image/png": "[encoded data removed]",
      "text/plain": [
       "<Figure size 1800x288 with 6 Axes>"
      ]
     },
     "metadata": {
      "needs_background": "light"
     },
     "output_type": "display_data"
    }
   ],
   "source": [
    "categorical_features = df.select_dtypes(include=['object']).columns\n",
    "\n",
    "fig, ax = plt.subplots(1, len(categorical_features), figsize=(25, 4))\n",
    "for i, categorical_feature in enumerate(df[categorical_features]):\n",
    "    df[categorical_feature].value_counts().plot(kind=\"bar\", ax=ax[i]).set_title(categorical_feature)"
   ]
  },
  {
   "cell_type": "markdown",
   "metadata": {},
   "source": [
    "There does not seem to be any categorical labels indicating missing values.\n",
    "\n",
    "The \"Supplies Group\" and \"Supplies Subgroup\" encode similar information: the latter are more specific categories than the latter. Because the categorical values are more balanced with \"Supplies Subgroup\", we may prefer to use it and delete \"Supplies Group\"."
   ]
  },
  {
   "cell_type": "markdown",
   "metadata": {},
   "source": [
    "# Step 4. Data cleaning and transformation\n",
    "\n",
    "## Delete variables"
   ]
  },
  {
   "cell_type": "code",
   "execution_count": 13,
   "metadata": {
    "ExecuteTime": {
     "end_time": "2022-10-02T20:14:13.681517Z",
     "start_time": "2022-10-02T20:14:13.664309Z"
    }
   },
   "outputs": [],
   "source": [
    "trainset.drop(columns=[\"Supplies Group\", \"Opportunity Number\"], inplace=True)\n",
    "testset.drop(columns=[\"Supplies Group\", \"Opportunity Number\"], inplace=True)"
   ]
  },
  {
   "cell_type": "markdown",
   "metadata": {},
   "source": [
    "## Log-transform right tail-heavy variables"
   ]
  },
  {
   "cell_type": "code",
   "execution_count": 14,
   "metadata": {
    "ExecuteTime": {
     "end_time": "2022-10-02T20:14:13.736679Z",
     "start_time": "2022-10-02T20:14:13.681517Z"
    }
   },
   "outputs": [],
   "source": [
    "for x in [\"Opportunity Amount USD\", \"Elapsed Days In Sales Stage\", \"Sales Stage Change Count\",\n",
    "          \"Total Days Identified Through Closing\", \"Total Days Identified Through Qualified\"]:\n",
    "    # add 1 so that 0s remain 0s\n",
    "    trainset[x] = np.log(trainset[x] + 1)\n",
    "    testset[x] = np.log(testset[x] + 1)"
   ]
  },
  {
   "cell_type": "markdown",
   "metadata": {},
   "source": [
    "## Create dummies\n",
    "\n",
    "We'll create dummies from \"Supplies Subgroup\", \"Region\", \"Route To Market\", \"Competitor Type\"."
   ]
  },
  {
   "cell_type": "code",
   "execution_count": 15,
   "metadata": {
    "ExecuteTime": {
     "end_time": "2022-10-02T20:14:13.998927Z",
     "start_time": "2022-10-02T20:14:13.738415Z"
    }
   },
   "outputs": [
    {
     "data": {
      "text/html": [
       "<div>\n",
       "<style scoped>\n",
       "    .dataframe tbody tr th:only-of-type {\n",
       "        vertical-align: middle;\n",
       "    }\n",
       "\n",
       "    .dataframe tbody tr th {\n",
       "        vertical-align: top;\n",
       "    }\n",
       "\n",
       "    .dataframe thead th {\n",
       "        text-align: right;\n",
       "    }\n",
       "</style>\n",
       "<table border=\"1\" class=\"dataframe\">\n",
       "  <thead>\n",
       "    <tr style=\"text-align: right;\">\n",
       "      <th></th>\n",
       "      <th>Supplies Subgroup</th>\n",
       "      <th>Region</th>\n",
       "      <th>Route To Market</th>\n",
       "      <th>Elapsed Days In Sales Stage</th>\n",
       "      <th>Opportunity Result</th>\n",
       "      <th>Sales Stage Change Count</th>\n",
       "      <th>Total Days Identified Through Closing</th>\n",
       "      <th>Total Days Identified Through Qualified</th>\n",
       "      <th>Opportunity Amount USD</th>\n",
       "      <th>Client Size By Revenue</th>\n",
       "      <th>...</th>\n",
       "      <th>Northwest</th>\n",
       "      <th>Pacific</th>\n",
       "      <th>Southeast</th>\n",
       "      <th>Southwest</th>\n",
       "      <th>Other</th>\n",
       "      <th>Reseller</th>\n",
       "      <th>Telecoverage</th>\n",
       "      <th>Telesales</th>\n",
       "      <th>None</th>\n",
       "      <th>Unknown</th>\n",
       "    </tr>\n",
       "  </thead>\n",
       "  <tbody>\n",
       "    <tr>\n",
       "      <th>8279</th>\n",
       "      <td>Shelters &amp; RV</td>\n",
       "      <td>Pacific</td>\n",
       "      <td>Fields Sales</td>\n",
       "      <td>4.262680</td>\n",
       "      <td>Loss</td>\n",
       "      <td>1.609438</td>\n",
       "      <td>3.258097</td>\n",
       "      <td>3.258097</td>\n",
       "      <td>11.542494</td>\n",
       "      <td>3</td>\n",
       "      <td>...</td>\n",
       "      <td>0.0</td>\n",
       "      <td>1.0</td>\n",
       "      <td>0.0</td>\n",
       "      <td>0.0</td>\n",
       "      <td>0.0</td>\n",
       "      <td>0.0</td>\n",
       "      <td>0.0</td>\n",
       "      <td>0.0</td>\n",
       "      <td>0.0</td>\n",
       "      <td>0.0</td>\n",
       "    </tr>\n",
       "    <tr>\n",
       "      <th>16176</th>\n",
       "      <td>Shelters &amp; RV</td>\n",
       "      <td>Northwest</td>\n",
       "      <td>Fields Sales</td>\n",
       "      <td>2.833213</td>\n",
       "      <td>Loss</td>\n",
       "      <td>1.791759</td>\n",
       "      <td>4.143135</td>\n",
       "      <td>4.143135</td>\n",
       "      <td>11.918397</td>\n",
       "      <td>5</td>\n",
       "      <td>...</td>\n",
       "      <td>1.0</td>\n",
       "      <td>0.0</td>\n",
       "      <td>0.0</td>\n",
       "      <td>0.0</td>\n",
       "      <td>0.0</td>\n",
       "      <td>0.0</td>\n",
       "      <td>0.0</td>\n",
       "      <td>0.0</td>\n",
       "      <td>0.0</td>\n",
       "      <td>0.0</td>\n",
       "    </tr>\n",
       "    <tr>\n",
       "      <th>63195</th>\n",
       "      <td>Garage &amp; Car Care</td>\n",
       "      <td>Northeast</td>\n",
       "      <td>Reseller</td>\n",
       "      <td>3.912023</td>\n",
       "      <td>Won</td>\n",
       "      <td>1.386294</td>\n",
       "      <td>2.197225</td>\n",
       "      <td>2.197225</td>\n",
       "      <td>9.014447</td>\n",
       "      <td>1</td>\n",
       "      <td>...</td>\n",
       "      <td>0.0</td>\n",
       "      <td>0.0</td>\n",
       "      <td>0.0</td>\n",
       "      <td>0.0</td>\n",
       "      <td>0.0</td>\n",
       "      <td>1.0</td>\n",
       "      <td>0.0</td>\n",
       "      <td>0.0</td>\n",
       "      <td>0.0</td>\n",
       "      <td>1.0</td>\n",
       "    </tr>\n",
       "    <tr>\n",
       "      <th>12810</th>\n",
       "      <td>Motorcycle Parts</td>\n",
       "      <td>Pacific</td>\n",
       "      <td>Fields Sales</td>\n",
       "      <td>4.343805</td>\n",
       "      <td>Loss</td>\n",
       "      <td>1.098612</td>\n",
       "      <td>2.302585</td>\n",
       "      <td>2.302585</td>\n",
       "      <td>11.561725</td>\n",
       "      <td>3</td>\n",
       "      <td>...</td>\n",
       "      <td>0.0</td>\n",
       "      <td>1.0</td>\n",
       "      <td>0.0</td>\n",
       "      <td>0.0</td>\n",
       "      <td>0.0</td>\n",
       "      <td>0.0</td>\n",
       "      <td>0.0</td>\n",
       "      <td>0.0</td>\n",
       "      <td>0.0</td>\n",
       "      <td>1.0</td>\n",
       "    </tr>\n",
       "    <tr>\n",
       "      <th>54035</th>\n",
       "      <td>Shelters &amp; RV</td>\n",
       "      <td>Mid-Atlantic</td>\n",
       "      <td>Fields Sales</td>\n",
       "      <td>4.454347</td>\n",
       "      <td>Loss</td>\n",
       "      <td>1.098612</td>\n",
       "      <td>1.098612</td>\n",
       "      <td>1.098612</td>\n",
       "      <td>11.695255</td>\n",
       "      <td>1</td>\n",
       "      <td>...</td>\n",
       "      <td>0.0</td>\n",
       "      <td>0.0</td>\n",
       "      <td>0.0</td>\n",
       "      <td>0.0</td>\n",
       "      <td>0.0</td>\n",
       "      <td>0.0</td>\n",
       "      <td>0.0</td>\n",
       "      <td>0.0</td>\n",
       "      <td>0.0</td>\n",
       "      <td>1.0</td>\n",
       "    </tr>\n",
       "  </tbody>\n",
       "</table>\n",
       "<p>5 rows × 39 columns</p>\n",
       "</div>"
      ],
      "text/plain": [
       "       Supplies Subgroup        Region Route To Market  \\\n",
       "8279       Shelters & RV       Pacific    Fields Sales   \n",
       "16176      Shelters & RV     Northwest    Fields Sales   \n",
       "63195  Garage & Car Care     Northeast        Reseller   \n",
       "12810   Motorcycle Parts       Pacific    Fields Sales   \n",
       "54035      Shelters & RV  Mid-Atlantic    Fields Sales   \n",
       "\n",
       "       Elapsed Days In Sales Stage Opportunity Result  \\\n",
       "8279                      4.262680               Loss   \n",
       "16176                     2.833213               Loss   \n",
       "63195                     3.912023                Won   \n",
       "12810                     4.343805               Loss   \n",
       "54035                     4.454347               Loss   \n",
       "\n",
       "       Sales Stage Change Count  Total Days Identified Through Closing  \\\n",
       "8279                   1.609438                               3.258097   \n",
       "16176                  1.791759                               4.143135   \n",
       "63195                  1.386294                               2.197225   \n",
       "12810                  1.098612                               2.302585   \n",
       "54035                  1.098612                               1.098612   \n",
       "\n",
       "       Total Days Identified Through Qualified  Opportunity Amount USD  \\\n",
       "8279                                  3.258097               11.542494   \n",
       "16176                                 4.143135               11.918397   \n",
       "63195                                 2.197225                9.014447   \n",
       "12810                                 2.302585               11.561725   \n",
       "54035                                 1.098612               11.695255   \n",
       "\n",
       "       Client Size By Revenue  ...  Northwest  Pacific Southeast  Southwest  \\\n",
       "8279                        3  ...        0.0      1.0       0.0        0.0   \n",
       "16176                       5  ...        1.0      0.0       0.0        0.0   \n",
       "63195                       1  ...        0.0      0.0       0.0        0.0   \n",
       "12810                       3  ...        0.0      1.0       0.0        0.0   \n",
       "54035                       1  ...        0.0      0.0       0.0        0.0   \n",
       "\n",
       "       Other  Reseller  Telecoverage  Telesales  None  Unknown  \n",
       "8279     0.0       0.0           0.0        0.0   0.0      0.0  \n",
       "16176    0.0       0.0           0.0        0.0   0.0      0.0  \n",
       "63195    0.0       1.0           0.0        0.0   0.0      1.0  \n",
       "12810    0.0       0.0           0.0        0.0   0.0      1.0  \n",
       "54035    0.0       0.0           0.0        0.0   0.0      1.0  \n",
       "\n",
       "[5 rows x 39 columns]"
      ]
     },
     "execution_count": 15,
     "metadata": {},
     "output_type": "execute_result"
    }
   ],
   "source": [
    "from sklearn.preprocessing import OneHotEncoder\n",
    "\n",
    "\n",
    "def get_dummies(trainset, testset, old_col_name):\n",
    "    \"\"\"Given a trainset, a testset, and the name of a column holding a \n",
    "    categorical variable, fit an encoder on the trainset, and use the \n",
    "    encoder to add dummy columns into the trainset and testset\n",
    "    \"\"\"\n",
    "    \n",
    "    one_hot_encoder = OneHotEncoder(drop=\"first\", sparse=False)\n",
    "    \n",
    "    # the input to the encoder must be a 2-d numpy array,\n",
    "    # so we take the column, extract their values and reshape the array to be 2-d\n",
    "    cat_vals = trainset[old_col_name].to_numpy().reshape(-1,1)\n",
    "\n",
    "    # fit an encoder and transform the **trainset**\n",
    "    \n",
    "    # the output is a new numpy array\n",
    "    transformed = one_hot_encoder.fit_transform(cat_vals)\n",
    "    \n",
    "    # in the list of new columns, convert numpy array to a list and\n",
    "    # drop the first column, because we requested \"drop='first'\"\n",
    "    new_col_names = one_hot_encoder.categories_[0].tolist()[1:]\n",
    "    \n",
    "    for i, new_col_name in enumerate(new_col_names):\n",
    "        \n",
    "        # put the transformed data as columns in the trainset dataframe\n",
    "        trainset[new_col_name] = transformed[:,i]\n",
    "    \n",
    "    # transform the **testset** using the fitted encoder\n",
    "    \n",
    "    cat_vals = testset[old_col_name].to_numpy().reshape(-1,1)\n",
    "    transformed = one_hot_encoder.transform(cat_vals)\n",
    "\n",
    "    for i, new_col_name in enumerate(new_col_names):\n",
    "        \n",
    "        # put the transformed data as columns in the trainset dataframe\n",
    "        testset[new_col_name] = transformed[:,i]\n",
    "    \n",
    "    return trainset, testset\n",
    "\n",
    "\n",
    "for col_name in [\"Supplies Subgroup\", \"Region\", \"Route To Market\", \"Competitor Type\"]:\n",
    "    trainset, testset = get_dummies(trainset, testset, col_name)\n",
    "\n",
    "# check if the dummies are produced correctly in the trainset\n",
    "trainset.head()"
   ]
  },
  {
   "cell_type": "code",
   "execution_count": 16,
   "metadata": {
    "ExecuteTime": {
     "end_time": "2022-10-02T20:14:14.062683Z",
     "start_time": "2022-10-02T20:14:14.000921Z"
    }
   },
   "outputs": [
    {
     "data": {
      "text/html": [
       "<div>\n",
       "<style scoped>\n",
       "    .dataframe tbody tr th:only-of-type {\n",
       "        vertical-align: middle;\n",
       "    }\n",
       "\n",
       "    .dataframe tbody tr th {\n",
       "        vertical-align: top;\n",
       "    }\n",
       "\n",
       "    .dataframe thead th {\n",
       "        text-align: right;\n",
       "    }\n",
       "</style>\n",
       "<table border=\"1\" class=\"dataframe\">\n",
       "  <thead>\n",
       "    <tr style=\"text-align: right;\">\n",
       "      <th></th>\n",
       "      <th>Supplies Subgroup</th>\n",
       "      <th>Region</th>\n",
       "      <th>Route To Market</th>\n",
       "      <th>Elapsed Days In Sales Stage</th>\n",
       "      <th>Opportunity Result</th>\n",
       "      <th>Sales Stage Change Count</th>\n",
       "      <th>Total Days Identified Through Closing</th>\n",
       "      <th>Total Days Identified Through Qualified</th>\n",
       "      <th>Opportunity Amount USD</th>\n",
       "      <th>Client Size By Revenue</th>\n",
       "      <th>...</th>\n",
       "      <th>Northwest</th>\n",
       "      <th>Pacific</th>\n",
       "      <th>Southeast</th>\n",
       "      <th>Southwest</th>\n",
       "      <th>Other</th>\n",
       "      <th>Reseller</th>\n",
       "      <th>Telecoverage</th>\n",
       "      <th>Telesales</th>\n",
       "      <th>None</th>\n",
       "      <th>Unknown</th>\n",
       "    </tr>\n",
       "  </thead>\n",
       "  <tbody>\n",
       "    <tr>\n",
       "      <th>60315</th>\n",
       "      <td>Batteries &amp; Accessories</td>\n",
       "      <td>Southeast</td>\n",
       "      <td>Fields Sales</td>\n",
       "      <td>3.828641</td>\n",
       "      <td>Loss</td>\n",
       "      <td>1.609438</td>\n",
       "      <td>3.091042</td>\n",
       "      <td>3.091042</td>\n",
       "      <td>11.824014</td>\n",
       "      <td>3</td>\n",
       "      <td>...</td>\n",
       "      <td>0.0</td>\n",
       "      <td>0.0</td>\n",
       "      <td>1.0</td>\n",
       "      <td>0.0</td>\n",
       "      <td>0.0</td>\n",
       "      <td>0.0</td>\n",
       "      <td>0.0</td>\n",
       "      <td>0.0</td>\n",
       "      <td>0.0</td>\n",
       "      <td>0.0</td>\n",
       "    </tr>\n",
       "    <tr>\n",
       "      <th>10342</th>\n",
       "      <td>Shelters &amp; RV</td>\n",
       "      <td>Midwest</td>\n",
       "      <td>Fields Sales</td>\n",
       "      <td>4.356709</td>\n",
       "      <td>Loss</td>\n",
       "      <td>1.098612</td>\n",
       "      <td>2.639057</td>\n",
       "      <td>2.639057</td>\n",
       "      <td>11.695255</td>\n",
       "      <td>4</td>\n",
       "      <td>...</td>\n",
       "      <td>0.0</td>\n",
       "      <td>0.0</td>\n",
       "      <td>0.0</td>\n",
       "      <td>0.0</td>\n",
       "      <td>0.0</td>\n",
       "      <td>0.0</td>\n",
       "      <td>0.0</td>\n",
       "      <td>0.0</td>\n",
       "      <td>1.0</td>\n",
       "      <td>0.0</td>\n",
       "    </tr>\n",
       "    <tr>\n",
       "      <th>37888</th>\n",
       "      <td>Batteries &amp; Accessories</td>\n",
       "      <td>Midwest</td>\n",
       "      <td>Other</td>\n",
       "      <td>3.401197</td>\n",
       "      <td>Loss</td>\n",
       "      <td>1.098612</td>\n",
       "      <td>0.693147</td>\n",
       "      <td>0.693147</td>\n",
       "      <td>11.918397</td>\n",
       "      <td>1</td>\n",
       "      <td>...</td>\n",
       "      <td>0.0</td>\n",
       "      <td>0.0</td>\n",
       "      <td>0.0</td>\n",
       "      <td>0.0</td>\n",
       "      <td>1.0</td>\n",
       "      <td>0.0</td>\n",
       "      <td>0.0</td>\n",
       "      <td>0.0</td>\n",
       "      <td>0.0</td>\n",
       "      <td>1.0</td>\n",
       "    </tr>\n",
       "    <tr>\n",
       "      <th>2755</th>\n",
       "      <td>Performance Parts</td>\n",
       "      <td>Pacific</td>\n",
       "      <td>Reseller</td>\n",
       "      <td>4.510860</td>\n",
       "      <td>Loss</td>\n",
       "      <td>1.098612</td>\n",
       "      <td>3.295837</td>\n",
       "      <td>3.295837</td>\n",
       "      <td>0.000000</td>\n",
       "      <td>1</td>\n",
       "      <td>...</td>\n",
       "      <td>0.0</td>\n",
       "      <td>1.0</td>\n",
       "      <td>0.0</td>\n",
       "      <td>0.0</td>\n",
       "      <td>0.0</td>\n",
       "      <td>1.0</td>\n",
       "      <td>0.0</td>\n",
       "      <td>0.0</td>\n",
       "      <td>0.0</td>\n",
       "      <td>1.0</td>\n",
       "    </tr>\n",
       "    <tr>\n",
       "      <th>53636</th>\n",
       "      <td>Exterior Accessories</td>\n",
       "      <td>Southeast</td>\n",
       "      <td>Fields Sales</td>\n",
       "      <td>4.343805</td>\n",
       "      <td>Loss</td>\n",
       "      <td>1.386294</td>\n",
       "      <td>2.564949</td>\n",
       "      <td>2.564949</td>\n",
       "      <td>12.456835</td>\n",
       "      <td>1</td>\n",
       "      <td>...</td>\n",
       "      <td>0.0</td>\n",
       "      <td>0.0</td>\n",
       "      <td>1.0</td>\n",
       "      <td>0.0</td>\n",
       "      <td>0.0</td>\n",
       "      <td>0.0</td>\n",
       "      <td>0.0</td>\n",
       "      <td>0.0</td>\n",
       "      <td>0.0</td>\n",
       "      <td>0.0</td>\n",
       "    </tr>\n",
       "  </tbody>\n",
       "</table>\n",
       "<p>5 rows × 39 columns</p>\n",
       "</div>"
      ],
      "text/plain": [
       "             Supplies Subgroup     Region Route To Market  \\\n",
       "60315  Batteries & Accessories  Southeast    Fields Sales   \n",
       "10342            Shelters & RV    Midwest    Fields Sales   \n",
       "37888  Batteries & Accessories    Midwest           Other   \n",
       "2755         Performance Parts    Pacific        Reseller   \n",
       "53636     Exterior Accessories  Southeast    Fields Sales   \n",
       "\n",
       "       Elapsed Days In Sales Stage Opportunity Result  \\\n",
       "60315                     3.828641               Loss   \n",
       "10342                     4.356709               Loss   \n",
       "37888                     3.401197               Loss   \n",
       "2755                      4.510860               Loss   \n",
       "53636                     4.343805               Loss   \n",
       "\n",
       "       Sales Stage Change Count  Total Days Identified Through Closing  \\\n",
       "60315                  1.609438                               3.091042   \n",
       "10342                  1.098612                               2.639057   \n",
       "37888                  1.098612                               0.693147   \n",
       "2755                   1.098612                               3.295837   \n",
       "53636                  1.386294                               2.564949   \n",
       "\n",
       "       Total Days Identified Through Qualified  Opportunity Amount USD  \\\n",
       "60315                                 3.091042               11.824014   \n",
       "10342                                 2.639057               11.695255   \n",
       "37888                                 0.693147               11.918397   \n",
       "2755                                  3.295837                0.000000   \n",
       "53636                                 2.564949               12.456835   \n",
       "\n",
       "       Client Size By Revenue  ...  Northwest  Pacific Southeast  Southwest  \\\n",
       "60315                       3  ...        0.0      0.0       1.0        0.0   \n",
       "10342                       4  ...        0.0      0.0       0.0        0.0   \n",
       "37888                       1  ...        0.0      0.0       0.0        0.0   \n",
       "2755                        1  ...        0.0      1.0       0.0        0.0   \n",
       "53636                       1  ...        0.0      0.0       1.0        0.0   \n",
       "\n",
       "       Other  Reseller  Telecoverage  Telesales  None  Unknown  \n",
       "60315    0.0       0.0           0.0        0.0   0.0      0.0  \n",
       "10342    0.0       0.0           0.0        0.0   1.0      0.0  \n",
       "37888    1.0       0.0           0.0        0.0   0.0      1.0  \n",
       "2755     0.0       1.0           0.0        0.0   0.0      1.0  \n",
       "53636    0.0       0.0           0.0        0.0   0.0      0.0  \n",
       "\n",
       "[5 rows x 39 columns]"
      ]
     },
     "execution_count": 16,
     "metadata": {},
     "output_type": "execute_result"
    }
   ],
   "source": [
    "# check if the dummies are produced correctly in the testset\n",
    "testset.head()"
   ]
  },
  {
   "cell_type": "markdown",
   "metadata": {},
   "source": [
    "Now we can delete the original (i.e., categorical) columns from both the training and the test sets:"
   ]
  },
  {
   "cell_type": "code",
   "execution_count": 17,
   "metadata": {
    "ExecuteTime": {
     "end_time": "2022-10-02T20:14:14.128994Z",
     "start_time": "2022-10-02T20:14:14.064873Z"
    }
   },
   "outputs": [],
   "source": [
    "cols_to_drop = [\"Supplies Subgroup\", \"Region\", \"Route To Market\", \"Competitor Type\"]\n",
    "trainset.drop(columns=cols_to_drop, inplace=True)\n",
    "testset.drop(columns=cols_to_drop, inplace=True)"
   ]
  },
  {
   "cell_type": "markdown",
   "metadata": {},
   "source": [
    "## Scale features\n",
    "\n",
    "We fit and transform a StandardScaler"
   ]
  },
  {
   "cell_type": "code",
   "execution_count": 18,
   "metadata": {
    "ExecuteTime": {
     "end_time": "2022-10-02T20:14:14.816227Z",
     "start_time": "2022-10-02T20:14:14.131769Z"
    },
    "scrolled": true
   },
   "outputs": [
    {
     "data": {
      "text/html": [
       "<div>\n",
       "<style scoped>\n",
       "    .dataframe tbody tr th:only-of-type {\n",
       "        vertical-align: middle;\n",
       "    }\n",
       "\n",
       "    .dataframe tbody tr th {\n",
       "        vertical-align: top;\n",
       "    }\n",
       "\n",
       "    .dataframe thead th {\n",
       "        text-align: right;\n",
       "    }\n",
       "</style>\n",
       "<table border=\"1\" class=\"dataframe\">\n",
       "  <thead>\n",
       "    <tr style=\"text-align: right;\">\n",
       "      <th></th>\n",
       "      <th>Elapsed Days In Sales Stage</th>\n",
       "      <th>Sales Stage Change Count</th>\n",
       "      <th>Total Days Identified Through Closing</th>\n",
       "      <th>Total Days Identified Through Qualified</th>\n",
       "      <th>Opportunity Amount USD</th>\n",
       "      <th>Client Size By Revenue</th>\n",
       "      <th>Client Size By Employee Count</th>\n",
       "      <th>Revenue From Client Past Two Years</th>\n",
       "      <th>Ratio Days Identified To Total Days</th>\n",
       "      <th>Ratio Days Validated To Total Days</th>\n",
       "      <th>...</th>\n",
       "      <th>Pacific</th>\n",
       "      <th>Southeast</th>\n",
       "      <th>Southwest</th>\n",
       "      <th>Other</th>\n",
       "      <th>Reseller</th>\n",
       "      <th>Telecoverage</th>\n",
       "      <th>Telesales</th>\n",
       "      <th>None</th>\n",
       "      <th>Unknown</th>\n",
       "      <th>Opportunity Result</th>\n",
       "    </tr>\n",
       "  </thead>\n",
       "  <tbody>\n",
       "    <tr>\n",
       "      <th>0</th>\n",
       "      <td>0.834715</td>\n",
       "      <td>0.909889</td>\n",
       "      <td>0.778476</td>\n",
       "      <td>0.799311</td>\n",
       "      <td>0.535819</td>\n",
       "      <td>1.112712</td>\n",
       "      <td>-0.499072</td>\n",
       "      <td>-0.325506</td>\n",
       "      <td>0.335908</td>\n",
       "      <td>-0.830850</td>\n",
       "      <td>...</td>\n",
       "      <td>2.038657</td>\n",
       "      <td>-0.365922</td>\n",
       "      <td>-0.339735</td>\n",
       "      <td>-0.194132</td>\n",
       "      <td>-0.897850</td>\n",
       "      <td>-0.089679</td>\n",
       "      <td>-0.180949</td>\n",
       "      <td>-0.366934</td>\n",
       "      <td>-1.630533</td>\n",
       "      <td>Loss</td>\n",
       "    </tr>\n",
       "    <tr>\n",
       "      <th>1</th>\n",
       "      <td>-0.767406</td>\n",
       "      <td>1.482327</td>\n",
       "      <td>1.532528</td>\n",
       "      <td>1.534874</td>\n",
       "      <td>0.699966</td>\n",
       "      <td>2.727300</td>\n",
       "      <td>1.983626</td>\n",
       "      <td>-0.325506</td>\n",
       "      <td>-0.418460</td>\n",
       "      <td>1.029264</td>\n",
       "      <td>...</td>\n",
       "      <td>-0.490519</td>\n",
       "      <td>-0.365922</td>\n",
       "      <td>-0.339735</td>\n",
       "      <td>-0.194132</td>\n",
       "      <td>-0.897850</td>\n",
       "      <td>-0.089679</td>\n",
       "      <td>-0.180949</td>\n",
       "      <td>-0.366934</td>\n",
       "      <td>-1.630533</td>\n",
       "      <td>Loss</td>\n",
       "    </tr>\n",
       "    <tr>\n",
       "      <th>2</th>\n",
       "      <td>0.441705</td>\n",
       "      <td>0.209282</td>\n",
       "      <td>-0.125386</td>\n",
       "      <td>-0.082389</td>\n",
       "      <td>-0.568110</td>\n",
       "      <td>-0.501875</td>\n",
       "      <td>-0.499072</td>\n",
       "      <td>0.750549</td>\n",
       "      <td>-0.555992</td>\n",
       "      <td>-1.061819</td>\n",
       "      <td>...</td>\n",
       "      <td>-0.490519</td>\n",
       "      <td>-0.365922</td>\n",
       "      <td>-0.339735</td>\n",
       "      <td>-0.194132</td>\n",
       "      <td>1.113772</td>\n",
       "      <td>-0.089679</td>\n",
       "      <td>-0.180949</td>\n",
       "      <td>-0.366934</td>\n",
       "      <td>0.613297</td>\n",
       "      <td>Won</td>\n",
       "    </tr>\n",
       "    <tr>\n",
       "      <th>3</th>\n",
       "      <td>0.925639</td>\n",
       "      <td>-0.693958</td>\n",
       "      <td>-0.035619</td>\n",
       "      <td>0.005177</td>\n",
       "      <td>0.544217</td>\n",
       "      <td>1.112712</td>\n",
       "      <td>-0.499072</td>\n",
       "      <td>-0.325506</td>\n",
       "      <td>-0.555992</td>\n",
       "      <td>1.141228</td>\n",
       "      <td>...</td>\n",
       "      <td>2.038657</td>\n",
       "      <td>-0.365922</td>\n",
       "      <td>-0.339735</td>\n",
       "      <td>-0.194132</td>\n",
       "      <td>-0.897850</td>\n",
       "      <td>-0.089679</td>\n",
       "      <td>-0.180949</td>\n",
       "      <td>-0.366934</td>\n",
       "      <td>0.613297</td>\n",
       "      <td>Loss</td>\n",
       "    </tr>\n",
       "    <tr>\n",
       "      <th>4</th>\n",
       "      <td>1.049532</td>\n",
       "      <td>-0.693958</td>\n",
       "      <td>-1.061403</td>\n",
       "      <td>-0.995456</td>\n",
       "      <td>0.602526</td>\n",
       "      <td>-0.501875</td>\n",
       "      <td>-0.499072</td>\n",
       "      <td>-0.325506</td>\n",
       "      <td>2.185778</td>\n",
       "      <td>-1.090806</td>\n",
       "      <td>...</td>\n",
       "      <td>-0.490519</td>\n",
       "      <td>-0.365922</td>\n",
       "      <td>-0.339735</td>\n",
       "      <td>-0.194132</td>\n",
       "      <td>-0.897850</td>\n",
       "      <td>-0.089679</td>\n",
       "      <td>-0.180949</td>\n",
       "      <td>-0.366934</td>\n",
       "      <td>0.613297</td>\n",
       "      <td>Loss</td>\n",
       "    </tr>\n",
       "  </tbody>\n",
       "</table>\n",
       "<p>5 rows × 35 columns</p>\n",
       "</div>"
      ],
      "text/plain": [
       "   Elapsed Days In Sales Stage  Sales Stage Change Count  \\\n",
       "0                     0.834715                  0.909889   \n",
       "1                    -0.767406                  1.482327   \n",
       "2                     0.441705                  0.209282   \n",
       "3                     0.925639                 -0.693958   \n",
       "4                     1.049532                 -0.693958   \n",
       "\n",
       "   Total Days Identified Through Closing  \\\n",
       "0                               0.778476   \n",
       "1                               1.532528   \n",
       "2                              -0.125386   \n",
       "3                              -0.035619   \n",
       "4                              -1.061403   \n",
       "\n",
       "   Total Days Identified Through Qualified  Opportunity Amount USD  \\\n",
       "0                                 0.799311                0.535819   \n",
       "1                                 1.534874                0.699966   \n",
       "2                                -0.082389               -0.568110   \n",
       "3                                 0.005177                0.544217   \n",
       "4                                -0.995456                0.602526   \n",
       "\n",
       "   Client Size By Revenue  Client Size By Employee Count  \\\n",
       "0                1.112712                      -0.499072   \n",
       "1                2.727300                       1.983626   \n",
       "2               -0.501875                      -0.499072   \n",
       "3                1.112712                      -0.499072   \n",
       "4               -0.501875                      -0.499072   \n",
       "\n",
       "   Revenue From Client Past Two Years  Ratio Days Identified To Total Days  \\\n",
       "0                           -0.325506                             0.335908   \n",
       "1                           -0.325506                            -0.418460   \n",
       "2                            0.750549                            -0.555992   \n",
       "3                           -0.325506                            -0.555992   \n",
       "4                           -0.325506                             2.185778   \n",
       "\n",
       "   Ratio Days Validated To Total Days  ...   Pacific  Southeast  Southwest  \\\n",
       "0                           -0.830850  ...  2.038657  -0.365922  -0.339735   \n",
       "1                            1.029264  ... -0.490519  -0.365922  -0.339735   \n",
       "2                           -1.061819  ... -0.490519  -0.365922  -0.339735   \n",
       "3                            1.141228  ...  2.038657  -0.365922  -0.339735   \n",
       "4                           -1.090806  ... -0.490519  -0.365922  -0.339735   \n",
       "\n",
       "      Other  Reseller  Telecoverage  Telesales      None   Unknown  \\\n",
       "0 -0.194132 -0.897850     -0.089679  -0.180949 -0.366934 -1.630533   \n",
       "1 -0.194132 -0.897850     -0.089679  -0.180949 -0.366934 -1.630533   \n",
       "2 -0.194132  1.113772     -0.089679  -0.180949 -0.366934  0.613297   \n",
       "3 -0.194132 -0.897850     -0.089679  -0.180949 -0.366934  0.613297   \n",
       "4 -0.194132 -0.897850     -0.089679  -0.180949 -0.366934  0.613297   \n",
       "\n",
       "   Opportunity Result  \n",
       "0                Loss  \n",
       "1                Loss  \n",
       "2                 Won  \n",
       "3                Loss  \n",
       "4                Loss  \n",
       "\n",
       "[5 rows x 35 columns]"
      ]
     },
     "execution_count": 18,
     "metadata": {},
     "output_type": "execute_result"
    }
   ],
   "source": [
    "from sklearn.preprocessing import StandardScaler\n",
    "\n",
    "scaler = StandardScaler()\n",
    "\n",
    "# take the target variable out before scaling\n",
    "trainset_target = trainset[\"Opportunity Result\"].values\n",
    "trainset_predictors = trainset.drop(\"Opportunity Result\", axis=1)\n",
    "\n",
    "# fit_transform returns a NumPy array, so we need to put it back \n",
    "# into a Pandas dataframe\n",
    "scaled_vals = scaler.fit_transform(trainset_predictors)\n",
    "trainset = pd.DataFrame(scaled_vals, columns=trainset_predictors.columns)\n",
    "\n",
    "# put the non-scaled target back in\n",
    "trainset['Opportunity Result'] = trainset_target\n",
    "\n",
    "# inspect the data\n",
    "trainset.head()"
   ]
  },
  {
   "cell_type": "markdown",
   "metadata": {},
   "source": [
    "Use the fitted scaler to transform also the test data:"
   ]
  },
  {
   "cell_type": "code",
   "execution_count": 19,
   "metadata": {
    "ExecuteTime": {
     "end_time": "2022-10-02T20:14:14.868378Z",
     "start_time": "2022-10-02T20:14:14.818183Z"
    }
   },
   "outputs": [
    {
     "data": {
      "text/html": [
       "<div>\n",
       "<style scoped>\n",
       "    .dataframe tbody tr th:only-of-type {\n",
       "        vertical-align: middle;\n",
       "    }\n",
       "\n",
       "    .dataframe tbody tr th {\n",
       "        vertical-align: top;\n",
       "    }\n",
       "\n",
       "    .dataframe thead th {\n",
       "        text-align: right;\n",
       "    }\n",
       "</style>\n",
       "<table border=\"1\" class=\"dataframe\">\n",
       "  <thead>\n",
       "    <tr style=\"text-align: right;\">\n",
       "      <th></th>\n",
       "      <th>Elapsed Days In Sales Stage</th>\n",
       "      <th>Sales Stage Change Count</th>\n",
       "      <th>Total Days Identified Through Closing</th>\n",
       "      <th>Total Days Identified Through Qualified</th>\n",
       "      <th>Opportunity Amount USD</th>\n",
       "      <th>Client Size By Revenue</th>\n",
       "      <th>Client Size By Employee Count</th>\n",
       "      <th>Revenue From Client Past Two Years</th>\n",
       "      <th>Ratio Days Identified To Total Days</th>\n",
       "      <th>Ratio Days Validated To Total Days</th>\n",
       "      <th>...</th>\n",
       "      <th>Pacific</th>\n",
       "      <th>Southeast</th>\n",
       "      <th>Southwest</th>\n",
       "      <th>Other</th>\n",
       "      <th>Reseller</th>\n",
       "      <th>Telecoverage</th>\n",
       "      <th>Telesales</th>\n",
       "      <th>None</th>\n",
       "      <th>Unknown</th>\n",
       "      <th>Opportunity Result</th>\n",
       "    </tr>\n",
       "  </thead>\n",
       "  <tbody>\n",
       "    <tr>\n",
       "      <th>0</th>\n",
       "      <td>0.348252</td>\n",
       "      <td>0.909889</td>\n",
       "      <td>0.636146</td>\n",
       "      <td>0.660471</td>\n",
       "      <td>0.658752</td>\n",
       "      <td>1.112712</td>\n",
       "      <td>1.983626</td>\n",
       "      <td>-0.325506</td>\n",
       "      <td>-0.305543</td>\n",
       "      <td>-0.865456</td>\n",
       "      <td>...</td>\n",
       "      <td>-0.490519</td>\n",
       "      <td>2.732823</td>\n",
       "      <td>-0.339735</td>\n",
       "      <td>-0.194132</td>\n",
       "      <td>-0.897850</td>\n",
       "      <td>-0.089679</td>\n",
       "      <td>-0.180949</td>\n",
       "      <td>-0.366934</td>\n",
       "      <td>-1.630533</td>\n",
       "      <td>Loss</td>\n",
       "    </tr>\n",
       "    <tr>\n",
       "      <th>1</th>\n",
       "      <td>0.940101</td>\n",
       "      <td>-0.693958</td>\n",
       "      <td>0.251055</td>\n",
       "      <td>0.284822</td>\n",
       "      <td>0.602526</td>\n",
       "      <td>1.920006</td>\n",
       "      <td>-0.499072</td>\n",
       "      <td>-0.325506</td>\n",
       "      <td>-0.555992</td>\n",
       "      <td>1.141228</td>\n",
       "      <td>...</td>\n",
       "      <td>-0.490519</td>\n",
       "      <td>-0.365922</td>\n",
       "      <td>-0.339735</td>\n",
       "      <td>-0.194132</td>\n",
       "      <td>-0.897850</td>\n",
       "      <td>-0.089679</td>\n",
       "      <td>-0.180949</td>\n",
       "      <td>2.725282</td>\n",
       "      <td>-1.630533</td>\n",
       "      <td>Loss</td>\n",
       "    </tr>\n",
       "    <tr>\n",
       "      <th>2</th>\n",
       "      <td>-0.130819</td>\n",
       "      <td>-0.693958</td>\n",
       "      <td>-1.406859</td>\n",
       "      <td>-1.332442</td>\n",
       "      <td>0.699966</td>\n",
       "      <td>-0.501875</td>\n",
       "      <td>-0.499072</td>\n",
       "      <td>-0.325506</td>\n",
       "      <td>2.185778</td>\n",
       "      <td>-1.090806</td>\n",
       "      <td>...</td>\n",
       "      <td>-0.490519</td>\n",
       "      <td>-0.365922</td>\n",
       "      <td>-0.339735</td>\n",
       "      <td>5.151134</td>\n",
       "      <td>-0.897850</td>\n",
       "      <td>-0.089679</td>\n",
       "      <td>-0.180949</td>\n",
       "      <td>-0.366934</td>\n",
       "      <td>0.613297</td>\n",
       "      <td>Loss</td>\n",
       "    </tr>\n",
       "    <tr>\n",
       "      <th>3</th>\n",
       "      <td>1.112870</td>\n",
       "      <td>-0.693958</td>\n",
       "      <td>0.810631</td>\n",
       "      <td>0.830677</td>\n",
       "      <td>-4.504476</td>\n",
       "      <td>-0.501875</td>\n",
       "      <td>1.983626</td>\n",
       "      <td>-0.325506</td>\n",
       "      <td>-0.555992</td>\n",
       "      <td>1.141228</td>\n",
       "      <td>...</td>\n",
       "      <td>2.038657</td>\n",
       "      <td>-0.365922</td>\n",
       "      <td>-0.339735</td>\n",
       "      <td>-0.194132</td>\n",
       "      <td>1.113772</td>\n",
       "      <td>-0.089679</td>\n",
       "      <td>-0.180949</td>\n",
       "      <td>-0.366934</td>\n",
       "      <td>0.613297</td>\n",
       "      <td>Loss</td>\n",
       "    </tr>\n",
       "    <tr>\n",
       "      <th>4</th>\n",
       "      <td>0.925639</td>\n",
       "      <td>0.209282</td>\n",
       "      <td>0.187915</td>\n",
       "      <td>0.223230</td>\n",
       "      <td>0.935087</td>\n",
       "      <td>-0.501875</td>\n",
       "      <td>-0.499072</td>\n",
       "      <td>-0.325506</td>\n",
       "      <td>-0.293737</td>\n",
       "      <td>-1.090806</td>\n",
       "      <td>...</td>\n",
       "      <td>-0.490519</td>\n",
       "      <td>2.732823</td>\n",
       "      <td>-0.339735</td>\n",
       "      <td>-0.194132</td>\n",
       "      <td>-0.897850</td>\n",
       "      <td>-0.089679</td>\n",
       "      <td>-0.180949</td>\n",
       "      <td>-0.366934</td>\n",
       "      <td>-1.630533</td>\n",
       "      <td>Loss</td>\n",
       "    </tr>\n",
       "  </tbody>\n",
       "</table>\n",
       "<p>5 rows × 35 columns</p>\n",
       "</div>"
      ],
      "text/plain": [
       "   Elapsed Days In Sales Stage  Sales Stage Change Count  \\\n",
       "0                     0.348252                  0.909889   \n",
       "1                     0.940101                 -0.693958   \n",
       "2                    -0.130819                 -0.693958   \n",
       "3                     1.112870                 -0.693958   \n",
       "4                     0.925639                  0.209282   \n",
       "\n",
       "   Total Days Identified Through Closing  \\\n",
       "0                               0.636146   \n",
       "1                               0.251055   \n",
       "2                              -1.406859   \n",
       "3                               0.810631   \n",
       "4                               0.187915   \n",
       "\n",
       "   Total Days Identified Through Qualified  Opportunity Amount USD  \\\n",
       "0                                 0.660471                0.658752   \n",
       "1                                 0.284822                0.602526   \n",
       "2                                -1.332442                0.699966   \n",
       "3                                 0.830677               -4.504476   \n",
       "4                                 0.223230                0.935087   \n",
       "\n",
       "   Client Size By Revenue  Client Size By Employee Count  \\\n",
       "0                1.112712                       1.983626   \n",
       "1                1.920006                      -0.499072   \n",
       "2               -0.501875                      -0.499072   \n",
       "3               -0.501875                       1.983626   \n",
       "4               -0.501875                      -0.499072   \n",
       "\n",
       "   Revenue From Client Past Two Years  Ratio Days Identified To Total Days  \\\n",
       "0                           -0.325506                            -0.305543   \n",
       "1                           -0.325506                            -0.555992   \n",
       "2                           -0.325506                             2.185778   \n",
       "3                           -0.325506                            -0.555992   \n",
       "4                           -0.325506                            -0.293737   \n",
       "\n",
       "   Ratio Days Validated To Total Days  ...   Pacific  Southeast  Southwest  \\\n",
       "0                           -0.865456  ... -0.490519   2.732823  -0.339735   \n",
       "1                            1.141228  ... -0.490519  -0.365922  -0.339735   \n",
       "2                           -1.090806  ... -0.490519  -0.365922  -0.339735   \n",
       "3                            1.141228  ...  2.038657  -0.365922  -0.339735   \n",
       "4                           -1.090806  ... -0.490519   2.732823  -0.339735   \n",
       "\n",
       "      Other  Reseller  Telecoverage  Telesales      None   Unknown  \\\n",
       "0 -0.194132 -0.897850     -0.089679  -0.180949 -0.366934 -1.630533   \n",
       "1 -0.194132 -0.897850     -0.089679  -0.180949  2.725282 -1.630533   \n",
       "2  5.151134 -0.897850     -0.089679  -0.180949 -0.366934  0.613297   \n",
       "3 -0.194132  1.113772     -0.089679  -0.180949 -0.366934  0.613297   \n",
       "4 -0.194132 -0.897850     -0.089679  -0.180949 -0.366934 -1.630533   \n",
       "\n",
       "   Opportunity Result  \n",
       "0                Loss  \n",
       "1                Loss  \n",
       "2                Loss  \n",
       "3                Loss  \n",
       "4                Loss  \n",
       "\n",
       "[5 rows x 35 columns]"
      ]
     },
     "execution_count": 19,
     "metadata": {},
     "output_type": "execute_result"
    }
   ],
   "source": [
    "testset_target = testset[\"Opportunity Result\"].values\n",
    "testset_predictors = testset.drop(\"Opportunity Result\", axis=1)\n",
    "\n",
    "scaled_vals = scaler.transform(testset_predictors)\n",
    "testset = pd.DataFrame(scaled_vals, columns=testset_predictors.columns)\n",
    "\n",
    "# put the non-scaled target back in\n",
    "testset['Opportunity Result'] = testset_target\n",
    "\n",
    "testset.head()"
   ]
  },
  {
   "cell_type": "markdown",
   "metadata": {},
   "source": [
    "# Step 5. Train models\n",
    "\n",
    "First, create separate arrays for the predictors (`Xtrain`) and for the target (`ytrain`):"
   ]
  },
  {
   "cell_type": "code",
   "execution_count": 20,
   "metadata": {
    "ExecuteTime": {
     "end_time": "2022-10-02T20:14:14.884338Z",
     "start_time": "2022-10-02T20:14:14.870373Z"
    }
   },
   "outputs": [],
   "source": [
    "from sklearn.model_selection import GridSearchCV\n",
    "\n",
    "# drop labels for training set, but keep all others\n",
    "Xtrain = trainset.drop(\"Opportunity Result\", axis=1)\n",
    "\n",
    "ytrain = trainset[\"Opportunity Result\"].copy()"
   ]
  },
  {
   "cell_type": "markdown",
   "metadata": {},
   "source": [
    "## Baseline\n",
    "\n",
    "We'll use a majority class classifier as a baseline, i.e., we will find out what is the most common class label in the training set and always output it as a prediction."
   ]
  },
  {
   "cell_type": "code",
   "execution_count": 21,
   "metadata": {
    "ExecuteTime": {
     "end_time": "2022-10-02T20:14:14.907039Z",
     "start_time": "2022-10-02T20:14:14.887327Z"
    }
   },
   "outputs": [
    {
     "data": {
      "text/plain": [
       "Loss    48318\n",
       "Won     14102\n",
       "Name: Opportunity Result, dtype: int64"
      ]
     },
     "execution_count": 21,
     "metadata": {},
     "output_type": "execute_result"
    }
   ],
   "source": [
    "# the number of instances belonging to each class\n",
    "trainset[\"Opportunity Result\"].value_counts()"
   ]
  },
  {
   "cell_type": "code",
   "execution_count": 22,
   "metadata": {
    "ExecuteTime": {
     "end_time": "2022-10-02T20:14:14.919779Z",
     "start_time": "2022-10-02T20:14:14.907039Z"
    }
   },
   "outputs": [
    {
     "data": {
      "text/plain": [
       "62420"
      ]
     },
     "execution_count": 22,
     "metadata": {},
     "output_type": "execute_result"
    }
   ],
   "source": [
    "# total size of the training set\n",
    "trainset.shape[0]"
   ]
  },
  {
   "cell_type": "markdown",
   "metadata": {},
   "source": [
    "The baseline classifier will output \"Loss\" for all predictions. We will use macro-averaging in this project (precision, recall and F-score are evaluated in each class separately and then averaged across classes).\n",
    "\n",
    "So if we apply the baseline classifier to all of the training set. \n",
    "\n",
    "For the \"Loss\" label, the accuracy measures will be:\n",
    "\n",
    "* Precision: 48318/62420 = 0.774\n",
    "\n",
    "* Recall: 48318/48318 = 1.0\n",
    "\n",
    "* F-score: 2/(1/precision + 1/recall) = 0.872\n",
    "\n",
    "For the \"Win\" label, it will be:\n",
    "\n",
    "* Precision: 0.0/0.0 = 0.0\n",
    "\n",
    "* Recall: 0.0/14102 = 0.0\n",
    "\n",
    "* F-score: 0.0\n",
    "\n",
    "The averages of the two classes, i.e. the eventual baseline scores:\n",
    "\n",
    "* **Precision: 0.387**\n",
    "\n",
    "* **Recall: 0.5**\n",
    "\n",
    "* **F-score: 0.436**"
   ]
  },
  {
   "cell_type": "markdown",
   "metadata": {},
   "source": [
    "## Random Forest"
   ]
  },
  {
   "cell_type": "code",
   "execution_count": 23,
   "metadata": {
    "ExecuteTime": {
     "end_time": "2022-10-02T20:21:01.294345Z",
     "start_time": "2022-10-02T20:15:00.606813Z"
    }
   },
   "outputs": [
    {
     "name": "stdout",
     "output_type": "stream",
     "text": [
      "Took 360.66857957839966 seconds\n",
      "Wall time: 6min\n"
     ]
    }
   ],
   "source": [
    "%%time\n",
    "\n",
    "from sklearn.ensemble import RandomForestClassifier\n",
    "\n",
    "rf = RandomForestClassifier(random_state=7)\n",
    "\n",
    "# specify the hyperparameters and their values\n",
    "# 4 x 2 x 2 = 16 combinations in the grid\n",
    "param_grid = {\n",
    "    'n_estimators': [10, 100, 200, 500],\n",
    "    'max_depth': [5, 15],\n",
    "    'min_samples_split': [5, 10]\n",
    "}\n",
    "\n",
    "# we'll use 5-fold cross-validation\n",
    "grid_search = GridSearchCV(rf, param_grid, cv=5,\n",
    "                           scoring='f1_macro', \n",
    "                           return_train_score=True)\n",
    "grid_search.fit(Xtrain, ytrain)"
   ]
  },
  {
   "cell_type": "code",
   "execution_count": 24,
   "metadata": {},
   "outputs": [
    {
     "data": {
      "text/plain": [
       "RandomForestClassifier(max_depth=15, min_samples_split=5, n_estimators=200,\n",
       "                       random_state=7)"
      ]
     },
     "execution_count": 24,
     "metadata": {},
     "output_type": "execute_result"
    }
   ],
   "source": [
    "grid_search.best_estimator_"
   ]
  },
  {
   "cell_type": "code",
   "execution_count": 25,
   "metadata": {},
   "outputs": [
    {
     "data": {
      "text/plain": [
       "0.8105791924822009"
      ]
     },
     "execution_count": 25,
     "metadata": {},
     "output_type": "execute_result"
    }
   ],
   "source": [
    "grid_search.best_score_"
   ]
  },
  {
   "cell_type": "markdown",
   "metadata": {},
   "source": [
    "The best hyperparameters prove to be `n_estimators=200`, `max_depth=15` and `min_sample_split=5`. They achieve the F-score of **0.81**, the best so far.\n",
    "\n",
    "Let's record the results of the best model in each split, for future reference.\n",
    "\n",
    "The best-performing model (rank 1) is in `grid_search.cv_results_[\"rank_test_score\"]` at index ..."
   ]
  },
  {
   "cell_type": "code",
   "execution_count": 26,
   "metadata": {},
   "outputs": [
    {
     "data": {
      "text/plain": [
       "10"
      ]
     },
     "execution_count": 26,
     "metadata": {},
     "output_type": "execute_result"
    }
   ],
   "source": [
    "best_model_index = grid_search.cv_results_[\"rank_test_score\"].tolist().index(1)\n",
    "best_model_index"
   ]
  },
  {
   "cell_type": "markdown",
   "metadata": {},
   "source": [
    "We'll store the F-scores achieved by the best model in each fold, so later on we can run a t-test to compare the mean F-score with the mean scores of other methods."
   ]
  },
  {
   "cell_type": "code",
   "execution_count": 27,
   "metadata": {},
   "outputs": [],
   "source": [
    "rf_split_test_scores = []\n",
    "for x in range(5):\n",
    "    # extract f-score of the best model (index='best_model_index') from each of the 5 splits\n",
    "    val = grid_search.cv_results_[f\"split{x}_test_score\"][best_model_index]\n",
    "    rf_split_test_scores.append(val)"
   ]
  },
  {
   "cell_type": "markdown",
   "metadata": {},
   "source": [
    "Let's review the scores achieved by all the models in the search grid:"
   ]
  },
  {
   "cell_type": "code",
   "execution_count": 28,
   "metadata": {},
   "outputs": [
    {
     "data": {
      "text/html": [
       "<div>\n",
       "<style scoped>\n",
       "    .dataframe tbody tr th:only-of-type {\n",
       "        vertical-align: middle;\n",
       "    }\n",
       "\n",
       "    .dataframe tbody tr th {\n",
       "        vertical-align: top;\n",
       "    }\n",
       "\n",
       "    .dataframe thead th {\n",
       "        text-align: right;\n",
       "    }\n",
       "</style>\n",
       "<table border=\"1\" class=\"dataframe\">\n",
       "  <thead>\n",
       "    <tr style=\"text-align: right;\">\n",
       "      <th></th>\n",
       "      <th>params</th>\n",
       "      <th>mean_train_score</th>\n",
       "      <th>mean_test_score</th>\n",
       "      <th>diff, %</th>\n",
       "    </tr>\n",
       "  </thead>\n",
       "  <tbody>\n",
       "    <tr>\n",
       "      <th>10</th>\n",
       "      <td>{'max_depth': 15, 'min_samples_split': 5, 'n_estimators': 200}</td>\n",
       "      <td>0.891479</td>\n",
       "      <td>0.810579</td>\n",
       "      <td>9.074753</td>\n",
       "    </tr>\n",
       "    <tr>\n",
       "      <th>11</th>\n",
       "      <td>{'max_depth': 15, 'min_samples_split': 5, 'n_estimators': 500}</td>\n",
       "      <td>0.892084</td>\n",
       "      <td>0.810563</td>\n",
       "      <td>9.138255</td>\n",
       "    </tr>\n",
       "    <tr>\n",
       "      <th>15</th>\n",
       "      <td>{'max_depth': 15, 'min_samples_split': 10, 'n_estimators': 500}</td>\n",
       "      <td>0.875855</td>\n",
       "      <td>0.809872</td>\n",
       "      <td>7.533532</td>\n",
       "    </tr>\n",
       "    <tr>\n",
       "      <th>14</th>\n",
       "      <td>{'max_depth': 15, 'min_samples_split': 10, 'n_estimators': 200}</td>\n",
       "      <td>0.875850</td>\n",
       "      <td>0.809722</td>\n",
       "      <td>7.550206</td>\n",
       "    </tr>\n",
       "    <tr>\n",
       "      <th>9</th>\n",
       "      <td>{'max_depth': 15, 'min_samples_split': 5, 'n_estimators': 100}</td>\n",
       "      <td>0.890960</td>\n",
       "      <td>0.809647</td>\n",
       "      <td>9.126401</td>\n",
       "    </tr>\n",
       "    <tr>\n",
       "      <th>13</th>\n",
       "      <td>{'max_depth': 15, 'min_samples_split': 10, 'n_estimators': 100}</td>\n",
       "      <td>0.875559</td>\n",
       "      <td>0.809042</td>\n",
       "      <td>7.597133</td>\n",
       "    </tr>\n",
       "    <tr>\n",
       "      <th>8</th>\n",
       "      <td>{'max_depth': 15, 'min_samples_split': 5, 'n_estimators': 10}</td>\n",
       "      <td>0.879668</td>\n",
       "      <td>0.799937</td>\n",
       "      <td>9.063829</td>\n",
       "    </tr>\n",
       "    <tr>\n",
       "      <th>12</th>\n",
       "      <td>{'max_depth': 15, 'min_samples_split': 10, 'n_estimators': 10}</td>\n",
       "      <td>0.863356</td>\n",
       "      <td>0.796682</td>\n",
       "      <td>7.722749</td>\n",
       "    </tr>\n",
       "    <tr>\n",
       "      <th>3</th>\n",
       "      <td>{'max_depth': 5, 'min_samples_split': 5, 'n_estimators': 500}</td>\n",
       "      <td>0.683376</td>\n",
       "      <td>0.680939</td>\n",
       "      <td>0.356536</td>\n",
       "    </tr>\n",
       "    <tr>\n",
       "      <th>7</th>\n",
       "      <td>{'max_depth': 5, 'min_samples_split': 10, 'n_estimators': 500}</td>\n",
       "      <td>0.682837</td>\n",
       "      <td>0.680024</td>\n",
       "      <td>0.411844</td>\n",
       "    </tr>\n",
       "    <tr>\n",
       "      <th>0</th>\n",
       "      <td>{'max_depth': 5, 'min_samples_split': 5, 'n_estimators': 10}</td>\n",
       "      <td>0.683773</td>\n",
       "      <td>0.678525</td>\n",
       "      <td>0.767558</td>\n",
       "    </tr>\n",
       "    <tr>\n",
       "      <th>6</th>\n",
       "      <td>{'max_depth': 5, 'min_samples_split': 10, 'n_estimators': 200}</td>\n",
       "      <td>0.680590</td>\n",
       "      <td>0.678162</td>\n",
       "      <td>0.356689</td>\n",
       "    </tr>\n",
       "    <tr>\n",
       "      <th>2</th>\n",
       "      <td>{'max_depth': 5, 'min_samples_split': 5, 'n_estimators': 200}</td>\n",
       "      <td>0.680605</td>\n",
       "      <td>0.677877</td>\n",
       "      <td>0.400807</td>\n",
       "    </tr>\n",
       "    <tr>\n",
       "      <th>1</th>\n",
       "      <td>{'max_depth': 5, 'min_samples_split': 5, 'n_estimators': 100}</td>\n",
       "      <td>0.680151</td>\n",
       "      <td>0.677760</td>\n",
       "      <td>0.351587</td>\n",
       "    </tr>\n",
       "    <tr>\n",
       "      <th>5</th>\n",
       "      <td>{'max_depth': 5, 'min_samples_split': 10, 'n_estimators': 100}</td>\n",
       "      <td>0.679434</td>\n",
       "      <td>0.677128</td>\n",
       "      <td>0.339519</td>\n",
       "    </tr>\n",
       "    <tr>\n",
       "      <th>4</th>\n",
       "      <td>{'max_depth': 5, 'min_samples_split': 10, 'n_estimators': 10}</td>\n",
       "      <td>0.679506</td>\n",
       "      <td>0.674444</td>\n",
       "      <td>0.745086</td>\n",
       "    </tr>\n",
       "  </tbody>\n",
       "</table>\n",
       "</div>"
      ],
      "text/plain": [
       "                                                             params  \\\n",
       "10   {'max_depth': 15, 'min_samples_split': 5, 'n_estimators': 200}   \n",
       "11   {'max_depth': 15, 'min_samples_split': 5, 'n_estimators': 500}   \n",
       "15  {'max_depth': 15, 'min_samples_split': 10, 'n_estimators': 500}   \n",
       "14  {'max_depth': 15, 'min_samples_split': 10, 'n_estimators': 200}   \n",
       "9    {'max_depth': 15, 'min_samples_split': 5, 'n_estimators': 100}   \n",
       "13  {'max_depth': 15, 'min_samples_split': 10, 'n_estimators': 100}   \n",
       "8     {'max_depth': 15, 'min_samples_split': 5, 'n_estimators': 10}   \n",
       "12   {'max_depth': 15, 'min_samples_split': 10, 'n_estimators': 10}   \n",
       "3     {'max_depth': 5, 'min_samples_split': 5, 'n_estimators': 500}   \n",
       "7    {'max_depth': 5, 'min_samples_split': 10, 'n_estimators': 500}   \n",
       "0      {'max_depth': 5, 'min_samples_split': 5, 'n_estimators': 10}   \n",
       "6    {'max_depth': 5, 'min_samples_split': 10, 'n_estimators': 200}   \n",
       "2     {'max_depth': 5, 'min_samples_split': 5, 'n_estimators': 200}   \n",
       "1     {'max_depth': 5, 'min_samples_split': 5, 'n_estimators': 100}   \n",
       "5    {'max_depth': 5, 'min_samples_split': 10, 'n_estimators': 100}   \n",
       "4     {'max_depth': 5, 'min_samples_split': 10, 'n_estimators': 10}   \n",
       "\n",
       "    mean_train_score  mean_test_score   diff, %  \n",
       "10          0.891479         0.810579  9.074753  \n",
       "11          0.892084         0.810563  9.138255  \n",
       "15          0.875855         0.809872  7.533532  \n",
       "14          0.875850         0.809722  7.550206  \n",
       "9           0.890960         0.809647  9.126401  \n",
       "13          0.875559         0.809042  7.597133  \n",
       "8           0.879668         0.799937  9.063829  \n",
       "12          0.863356         0.796682  7.722749  \n",
       "3           0.683376         0.680939  0.356536  \n",
       "7           0.682837         0.680024  0.411844  \n",
       "0           0.683773         0.678525  0.767558  \n",
       "6           0.680590         0.678162  0.356689  \n",
       "2           0.680605         0.677877  0.400807  \n",
       "1           0.680151         0.677760  0.351587  \n",
       "5           0.679434         0.677128  0.339519  \n",
       "4           0.679506         0.674444  0.745086  "
      ]
     },
     "execution_count": 28,
     "metadata": {},
     "output_type": "execute_result"
    }
   ],
   "source": [
    "cv_results = pd.DataFrame(grid_search.cv_results_)[['params', 'mean_train_score', 'mean_test_score']]\n",
    "cv_results[\"diff, %\"] = 100*(cv_results[\"mean_train_score\"]-cv_results[\"mean_test_score\"]\n",
    "                                                     )/cv_results[\"mean_train_score\"]\n",
    "\n",
    "pd.set_option('display.max_colwidth', 100)\n",
    "cv_results.sort_values('mean_test_score', ascending=False)"
   ]
  },
  {
   "cell_type": "markdown",
   "metadata": {},
   "source": [
    "The performance of Random Forest classifiers varies a lot across the runs, between 0.54 and 0.81 on the validation set. In particular, we notice that better performance is achieved with greater values of `max_depth`. However, at higher values of this hyperparameter, we notice some evidence of overfitting: the performance on training parts is considerably better than on the validation part. This suggests we may gain further improvements by regularizing the model with other hyperparameters of the RF method."
   ]
  },
  {
   "cell_type": "code",
   "execution_count": 29,
   "metadata": {},
   "outputs": [
    {
     "name": "stdout",
     "output_type": "stream",
     "text": [
      "Revenue From Client Past Two Years: 0.14694915598626623\n",
      "Total Days Identified Through Qualified: 0.12733943205890508\n",
      "Total Days Identified Through Closing: 0.10302804345436646\n",
      "Sales Stage Change Count: 0.09001718527026302\n",
      "Opportunity Amount USD: 0.08850592911217023\n",
      "Elapsed Days In Sales Stage: 0.07956558720199575\n",
      "Ratio Days Qualified To Total Days: 0.07665523623370608\n",
      "Ratio Days Validated To Total Days: 0.05105628507766576\n",
      "Ratio Days Identified To Total Days: 0.04800433985288199\n",
      "Deal Size Category: 0.04151741597634323\n",
      "Reseller: 0.03197238187695513\n",
      "Client Size By Employee Count: 0.011901380519681915\n",
      "Client Size By Revenue: 0.011894258181796876\n",
      "Unknown: 0.00836791346528643\n",
      "None: 0.007683682794843295\n",
      "Pacific: 0.007067805637408271\n",
      "Motorcycle Parts: 0.006078180965065242\n",
      "Midwest: 0.0060713825827899874\n",
      "Southwest: 0.0059559183890940896\n",
      "Exterior Accessories: 0.005403097095110707\n",
      "Garage & Car Care: 0.004971417159469702\n",
      "Replacement Parts: 0.0049166747734712595\n",
      "Southeast: 0.004881679657020113\n",
      "Northwest: 0.004771725231778323\n",
      "Northeast: 0.004622230869314858\n",
      "Shelters & RV: 0.004011904056862272\n",
      "Telesales: 0.003512675738266361\n",
      "Interior Accessories: 0.003487651040144835\n",
      "Towing & Hitches: 0.002959223262254076\n",
      "Other: 0.0024292428169487407\n",
      "Performance Parts: 0.0020237377994328275\n",
      "Car Electronics: 0.0008245274997428218\n",
      "Tires & Wheels: 0.0008021687985935414\n",
      "Telecoverage: 0.0007505295641043673\n"
     ]
    }
   ],
   "source": [
    "# put them into a separate variable for convenience\n",
    "feature_importances = grid_search.best_estimator_.feature_importances_\n",
    "\n",
    "# the order of the features in `feature_importances` is the same as in the Xtrain dataframe,\n",
    "# so we can \"zip\" the two and print in the descending order:\n",
    "\n",
    "for k, v in sorted(zip(feature_importances, Xtrain.columns), reverse=True):\n",
    "    print(f\"{v}: {k}\")"
   ]
  },
  {
   "cell_type": "markdown",
   "metadata": {},
   "source": [
    "Previous history of sales to the client (\"Revenue From Client Past Two Years\"), the size of the deal (\"Opportunity Amount USD\",  \"Deal Size Category\"), and the history of recent interaction with the client (\"Elapsed Days In Sales Stage\", \"Sales Stage Change Count\") are quite predictive of the outcome of the sales opportunity.\n",
    "\n",
    "On the other hand, the categories of supplies and the region seem to have little to do with the outcome of the sales opportunities.\n",
    "\n",
    "Finally, let's save the model to disk, so that if in the future we need it, e.g., after re-starting the notebook, we can read the trained model from the disk, instead of re-training it from scratch. This is useful for models that take long to train. We'll use the `dump` function from the built-in Python module `joblib` for this:"
   ]
  },
  {
   "cell_type": "code",
   "execution_count": 30,
   "metadata": {},
   "outputs": [
    {
     "data": {
      "text/plain": [
       "['models/rf-clf.joblib']"
      ]
     },
     "execution_count": 30,
     "metadata": {},
     "output_type": "execute_result"
    }
   ],
   "source": [
    "import os\n",
    "from joblib import dump\n",
    "\n",
    "# create a folder where all trained models will be kept\n",
    "if not os.path.exists(\"models\"):\n",
    "    os.makedirs(\"models\")\n",
    "    \n",
    "dump(grid_search.best_estimator_, 'models/rf-clf.joblib')"
   ]
  },
  {
   "cell_type": "markdown",
   "metadata": {},
   "source": [
    "If we need the model later on, we can load it with the joblib's `load` function."
   ]
  },
  {
   "cell_type": "markdown",
   "metadata": {},
   "source": [
    "## Support Vector Machines\n",
    "\n",
    "### Linear SVMs"
   ]
  },
  {
   "cell_type": "code",
   "execution_count": 31,
   "metadata": {},
   "outputs": [
    {
     "name": "stderr",
     "output_type": "stream",
     "text": [
      "C:\\Users\\pekarv\\Anaconda3\\lib\\site-packages\\sklearn\\svm\\_base.py:1206: ConvergenceWarning: Liblinear failed to converge, increase the number of iterations.\n",
      "  warnings.warn(\n",
      "C:\\Users\\pekarv\\Anaconda3\\lib\\site-packages\\sklearn\\svm\\_base.py:1206: ConvergenceWarning: Liblinear failed to converge, increase the number of iterations.\n",
      "  warnings.warn(\n",
      "C:\\Users\\pekarv\\Anaconda3\\lib\\site-packages\\sklearn\\svm\\_base.py:1206: ConvergenceWarning: Liblinear failed to converge, increase the number of iterations.\n",
      "  warnings.warn(\n",
      "C:\\Users\\pekarv\\Anaconda3\\lib\\site-packages\\sklearn\\svm\\_base.py:1206: ConvergenceWarning: Liblinear failed to converge, increase the number of iterations.\n",
      "  warnings.warn(\n",
      "C:\\Users\\pekarv\\Anaconda3\\lib\\site-packages\\sklearn\\svm\\_base.py:1206: ConvergenceWarning: Liblinear failed to converge, increase the number of iterations.\n",
      "  warnings.warn(\n",
      "C:\\Users\\pekarv\\Anaconda3\\lib\\site-packages\\sklearn\\svm\\_base.py:1206: ConvergenceWarning: Liblinear failed to converge, increase the number of iterations.\n",
      "  warnings.warn(\n",
      "C:\\Users\\pekarv\\Anaconda3\\lib\\site-packages\\sklearn\\svm\\_base.py:1206: ConvergenceWarning: Liblinear failed to converge, increase the number of iterations.\n",
      "  warnings.warn(\n",
      "C:\\Users\\pekarv\\Anaconda3\\lib\\site-packages\\sklearn\\svm\\_base.py:1206: ConvergenceWarning: Liblinear failed to converge, increase the number of iterations.\n",
      "  warnings.warn(\n",
      "C:\\Users\\pekarv\\Anaconda3\\lib\\site-packages\\sklearn\\svm\\_base.py:1206: ConvergenceWarning: Liblinear failed to converge, increase the number of iterations.\n",
      "  warnings.warn(\n",
      "C:\\Users\\pekarv\\Anaconda3\\lib\\site-packages\\sklearn\\svm\\_base.py:1206: ConvergenceWarning: Liblinear failed to converge, increase the number of iterations.\n",
      "  warnings.warn(\n"
     ]
    },
    {
     "name": "stdout",
     "output_type": "stream",
     "text": [
      "Took 699.8299720287323 seconds\n"
     ]
    }
   ],
   "source": [
    "%%time\n",
    "\n",
    "from sklearn.svm import LinearSVC\n",
    "\n",
    "lsvm = LinearSVC(random_state=7, max_iter=5000)\n",
    "\n",
    "# specify the hyperparameters and their values\n",
    "# 5 combinations in the grid\n",
    "param_grid = {\n",
    "    'C': [0.001, 0.01, 0.1, 1, 10],\n",
    "}\n",
    "\n",
    "# we'll use 5-fold cross-validation\n",
    "grid_search = GridSearchCV(lsvm, param_grid, cv=5, scoring='f1_macro', return_train_score=True) \n",
    "grid_search.fit(Xtrain, ytrain)"
   ]
  },
  {
   "cell_type": "code",
   "execution_count": 32,
   "metadata": {},
   "outputs": [
    {
     "data": {
      "text/plain": [
       "LinearSVC(C=0.1, max_iter=5000, random_state=7)"
      ]
     },
     "execution_count": 32,
     "metadata": {},
     "output_type": "execute_result"
    }
   ],
   "source": [
    "grid_search.best_estimator_"
   ]
  },
  {
   "cell_type": "code",
   "execution_count": 33,
   "metadata": {},
   "outputs": [
    {
     "data": {
      "text/plain": [
       "0.7077948552002802"
      ]
     },
     "execution_count": 33,
     "metadata": {},
     "output_type": "execute_result"
    }
   ],
   "source": [
    "grid_search.best_score_"
   ]
  },
  {
   "cell_type": "code",
   "execution_count": 34,
   "metadata": {},
   "outputs": [
    {
     "data": {
      "text/html": [
       "<div>\n",
       "<style scoped>\n",
       "    .dataframe tbody tr th:only-of-type {\n",
       "        vertical-align: middle;\n",
       "    }\n",
       "\n",
       "    .dataframe tbody tr th {\n",
       "        vertical-align: top;\n",
       "    }\n",
       "\n",
       "    .dataframe thead th {\n",
       "        text-align: right;\n",
       "    }\n",
       "</style>\n",
       "<table border=\"1\" class=\"dataframe\">\n",
       "  <thead>\n",
       "    <tr style=\"text-align: right;\">\n",
       "      <th></th>\n",
       "      <th>params</th>\n",
       "      <th>mean_train_score</th>\n",
       "      <th>mean_test_score</th>\n",
       "      <th>diff, %</th>\n",
       "    </tr>\n",
       "  </thead>\n",
       "  <tbody>\n",
       "    <tr>\n",
       "      <th>2</th>\n",
       "      <td>{'C': 0.1}</td>\n",
       "      <td>0.709174</td>\n",
       "      <td>0.707795</td>\n",
       "      <td>0.194531</td>\n",
       "    </tr>\n",
       "    <tr>\n",
       "      <th>3</th>\n",
       "      <td>{'C': 1}</td>\n",
       "      <td>0.709209</td>\n",
       "      <td>0.707706</td>\n",
       "      <td>0.212024</td>\n",
       "    </tr>\n",
       "    <tr>\n",
       "      <th>1</th>\n",
       "      <td>{'C': 0.01}</td>\n",
       "      <td>0.709007</td>\n",
       "      <td>0.707585</td>\n",
       "      <td>0.200503</td>\n",
       "    </tr>\n",
       "    <tr>\n",
       "      <th>4</th>\n",
       "      <td>{'C': 10}</td>\n",
       "      <td>0.708831</td>\n",
       "      <td>0.707470</td>\n",
       "      <td>0.191934</td>\n",
       "    </tr>\n",
       "    <tr>\n",
       "      <th>0</th>\n",
       "      <td>{'C': 0.001}</td>\n",
       "      <td>0.708879</td>\n",
       "      <td>0.707341</td>\n",
       "      <td>0.216977</td>\n",
       "    </tr>\n",
       "  </tbody>\n",
       "</table>\n",
       "</div>"
      ],
      "text/plain": [
       "         params  mean_train_score  mean_test_score   diff, %\n",
       "2    {'C': 0.1}          0.709174         0.707795  0.194531\n",
       "3      {'C': 1}          0.709209         0.707706  0.212024\n",
       "1   {'C': 0.01}          0.709007         0.707585  0.200503\n",
       "4     {'C': 10}          0.708831         0.707470  0.191934\n",
       "0  {'C': 0.001}          0.708879         0.707341  0.216977"
      ]
     },
     "execution_count": 34,
     "metadata": {},
     "output_type": "execute_result"
    }
   ],
   "source": [
    "cv_results = pd.DataFrame(grid_search.cv_results_)[['params', 'mean_train_score', 'mean_test_score']]\n",
    "cv_results[\"diff, %\"] = 100*(cv_results[\"mean_train_score\"]-cv_results[\"mean_test_score\"]\n",
    "                                                     )/cv_results[\"mean_train_score\"]\n",
    "\n",
    "pd.set_option('display.max_colwidth', 100)\n",
    "cv_results.sort_values('mean_test_score', ascending=False)"
   ]
  },
  {
   "cell_type": "markdown",
   "metadata": {},
   "source": [
    "Fine-tuning C of the linear SVM method does not seem to produce much effect on the quality of the model."
   ]
  },
  {
   "cell_type": "markdown",
   "metadata": {},
   "source": [
    "### Radial Basis Function\n",
    "\n",
    "<span style=\"color:red;font-weight:bold\">Careful - the cell below may take a couple of hours to complete!</span>"
   ]
  },
  {
   "cell_type": "code",
   "execution_count": 35,
   "metadata": {},
   "outputs": [
    {
     "name": "stdout",
     "output_type": "stream",
     "text": [
      "Took 31370.438645362854 seconds\n"
     ]
    }
   ],
   "source": [
    "%%time\n",
    "\n",
    "from sklearn.svm import SVC\n",
    "\n",
    "svm = SVC(random_state=7, kernel='rbf')\n",
    "\n",
    "# specify the hyperparameters and their values\n",
    "# 5 x 2 = 10 combinations in the grid\n",
    "param_grid = {\n",
    "    'C': [0.01, 0.1, 1, 10, 100],\n",
    "    'gamma': [\"auto\", 0.1],\n",
    "}\n",
    "\n",
    "# we'll use 5-fold cross-validation\n",
    "grid_search = GridSearchCV(svm, param_grid, cv=5,\n",
    "                           scoring='f1_macro', \n",
    "                           return_train_score=True) \n",
    "\n",
    "grid_search.fit(Xtrain, ytrain)"
   ]
  },
  {
   "cell_type": "markdown",
   "metadata": {},
   "source": [
    "Note that the non-linear SVMs take long to train and may be impractical for large datasets (over several tens of thousands of samples). When training time is an issue, one can consider [randomized grid search](https://scikit-learn.org/stable/modules/generated/sklearn.model_selection.RandomizedSearchCV.html)."
   ]
  },
  {
   "cell_type": "code",
   "execution_count": 36,
   "metadata": {},
   "outputs": [
    {
     "data": {
      "text/plain": [
       "SVC(C=10, gamma='auto', random_state=7)"
      ]
     },
     "execution_count": 36,
     "metadata": {},
     "output_type": "execute_result"
    }
   ],
   "source": [
    "grid_search.best_estimator_"
   ]
  },
  {
   "cell_type": "code",
   "execution_count": 37,
   "metadata": {},
   "outputs": [
    {
     "data": {
      "text/plain": [
       "0.7924959305858236"
      ]
     },
     "execution_count": 37,
     "metadata": {},
     "output_type": "execute_result"
    }
   ],
   "source": [
    "grid_search.best_score_"
   ]
  },
  {
   "cell_type": "markdown",
   "metadata": {},
   "source": [
    "The best model achieves an F-score of 0.792, which is only slightly worse than the best Random Forest classifier. We can check for statistical significance of the difference.\n",
    "\n",
    "As before, let's retrieve the scores achieved by the best model on each fold."
   ]
  },
  {
   "cell_type": "code",
   "execution_count": 38,
   "metadata": {},
   "outputs": [
    {
     "data": {
      "text/plain": [
       "6"
      ]
     },
     "execution_count": 38,
     "metadata": {},
     "output_type": "execute_result"
    }
   ],
   "source": [
    "best_model_index = grid_search.cv_results_[\"rank_test_score\"].tolist().index(1)\n",
    "best_model_index"
   ]
  },
  {
   "cell_type": "code",
   "execution_count": 39,
   "metadata": {},
   "outputs": [],
   "source": [
    "# obtain the f-scores of the best models in each split\n",
    "\n",
    "svmrbf_split_test_scores = []\n",
    "for x in range(5):\n",
    "    # extract f-score of the best model (at index=best_model_index) from each of the 5 splits\n",
    "    val = grid_search.cv_results_[f\"split{x}_test_score\"][best_model_index]\n",
    "    svmrbf_split_test_scores.append(val)"
   ]
  },
  {
   "cell_type": "markdown",
   "metadata": {},
   "source": [
    "Now we can run an independent samples t-test to compare the mean F-scores of the best RF classifier and the best RBF SVM classifier, obtained by averaging across the folds."
   ]
  },
  {
   "cell_type": "code",
   "execution_count": 40,
   "metadata": {},
   "outputs": [
    {
     "name": "stdout",
     "output_type": "stream",
     "text": [
      "Mean F-score of RF across the folds: 0.8105791924822009\n",
      "Mean F-score of RBF SVM across the folds: 0.7924959305858236\n"
     ]
    }
   ],
   "source": [
    "print(f\"Mean F-score of RF across the folds: {np.array(rf_split_test_scores).mean()}\")\n",
    "print(f\"Mean F-score of RBF SVM across the folds: {np.array(svmrbf_split_test_scores).mean()}\")"
   ]
  },
  {
   "cell_type": "code",
   "execution_count": 41,
   "metadata": {},
   "outputs": [
    {
     "data": {
      "text/plain": [
       "Ttest_indResult(statistic=7.236699504681401, pvalue=8.920033805623607e-05)"
      ]
     },
     "execution_count": 41,
     "metadata": {},
     "output_type": "execute_result"
    }
   ],
   "source": [
    "# return the t-score and a two-tailed p-value\n",
    "from scipy.stats import ttest_ind\n",
    "\n",
    "ttest_ind(rf_split_test_scores, svmrbf_split_test_scores)"
   ]
  },
  {
   "cell_type": "markdown",
   "metadata": {},
   "source": [
    "I.e., there is a significant difference between the best models produced with Random Forests and SVMs.\n",
    "\n",
    "Let's view the scores achieved with all the SVM models in the search grid:"
   ]
  },
  {
   "cell_type": "code",
   "execution_count": 42,
   "metadata": {},
   "outputs": [
    {
     "data": {
      "text/html": [
       "<div>\n",
       "<style scoped>\n",
       "    .dataframe tbody tr th:only-of-type {\n",
       "        vertical-align: middle;\n",
       "    }\n",
       "\n",
       "    .dataframe tbody tr th {\n",
       "        vertical-align: top;\n",
       "    }\n",
       "\n",
       "    .dataframe thead th {\n",
       "        text-align: right;\n",
       "    }\n",
       "</style>\n",
       "<table border=\"1\" class=\"dataframe\">\n",
       "  <thead>\n",
       "    <tr style=\"text-align: right;\">\n",
       "      <th></th>\n",
       "      <th>params</th>\n",
       "      <th>mean_train_score</th>\n",
       "      <th>mean_test_score</th>\n",
       "      <th>diff, %</th>\n",
       "    </tr>\n",
       "  </thead>\n",
       "  <tbody>\n",
       "    <tr>\n",
       "      <th>6</th>\n",
       "      <td>{'C': 10, 'gamma': 'auto'}</td>\n",
       "      <td>0.857211</td>\n",
       "      <td>0.792496</td>\n",
       "      <td>7.549543</td>\n",
       "    </tr>\n",
       "    <tr>\n",
       "      <th>8</th>\n",
       "      <td>{'C': 100, 'gamma': 'auto'}</td>\n",
       "      <td>0.913892</td>\n",
       "      <td>0.781949</td>\n",
       "      <td>14.437389</td>\n",
       "    </tr>\n",
       "    <tr>\n",
       "      <th>4</th>\n",
       "      <td>{'C': 1, 'gamma': 'auto'}</td>\n",
       "      <td>0.804071</td>\n",
       "      <td>0.780950</td>\n",
       "      <td>2.875487</td>\n",
       "    </tr>\n",
       "    <tr>\n",
       "      <th>5</th>\n",
       "      <td>{'C': 1, 'gamma': 0.1}</td>\n",
       "      <td>0.857588</td>\n",
       "      <td>0.773864</td>\n",
       "      <td>9.762799</td>\n",
       "    </tr>\n",
       "    <tr>\n",
       "      <th>7</th>\n",
       "      <td>{'C': 10, 'gamma': 0.1}</td>\n",
       "      <td>0.940061</td>\n",
       "      <td>0.771810</td>\n",
       "      <td>17.897903</td>\n",
       "    </tr>\n",
       "    <tr>\n",
       "      <th>9</th>\n",
       "      <td>{'C': 100, 'gamma': 0.1}</td>\n",
       "      <td>0.973225</td>\n",
       "      <td>0.757243</td>\n",
       "      <td>22.192409</td>\n",
       "    </tr>\n",
       "    <tr>\n",
       "      <th>2</th>\n",
       "      <td>{'C': 0.1, 'gamma': 'auto'}</td>\n",
       "      <td>0.742548</td>\n",
       "      <td>0.735771</td>\n",
       "      <td>0.912674</td>\n",
       "    </tr>\n",
       "    <tr>\n",
       "      <th>3</th>\n",
       "      <td>{'C': 0.1, 'gamma': 0.1}</td>\n",
       "      <td>0.693403</td>\n",
       "      <td>0.676159</td>\n",
       "      <td>2.486972</td>\n",
       "    </tr>\n",
       "    <tr>\n",
       "      <th>0</th>\n",
       "      <td>{'C': 0.01, 'gamma': 'auto'}</td>\n",
       "      <td>0.576839</td>\n",
       "      <td>0.574238</td>\n",
       "      <td>0.450843</td>\n",
       "    </tr>\n",
       "    <tr>\n",
       "      <th>1</th>\n",
       "      <td>{'C': 0.01, 'gamma': 0.1}</td>\n",
       "      <td>0.437147</td>\n",
       "      <td>0.437075</td>\n",
       "      <td>0.016433</td>\n",
       "    </tr>\n",
       "  </tbody>\n",
       "</table>\n",
       "</div>"
      ],
      "text/plain": [
       "                         params  mean_train_score  mean_test_score    diff, %\n",
       "6    {'C': 10, 'gamma': 'auto'}          0.857211         0.792496   7.549543\n",
       "8   {'C': 100, 'gamma': 'auto'}          0.913892         0.781949  14.437389\n",
       "4     {'C': 1, 'gamma': 'auto'}          0.804071         0.780950   2.875487\n",
       "5        {'C': 1, 'gamma': 0.1}          0.857588         0.773864   9.762799\n",
       "7       {'C': 10, 'gamma': 0.1}          0.940061         0.771810  17.897903\n",
       "9      {'C': 100, 'gamma': 0.1}          0.973225         0.757243  22.192409\n",
       "2   {'C': 0.1, 'gamma': 'auto'}          0.742548         0.735771   0.912674\n",
       "3      {'C': 0.1, 'gamma': 0.1}          0.693403         0.676159   2.486972\n",
       "0  {'C': 0.01, 'gamma': 'auto'}          0.576839         0.574238   0.450843\n",
       "1     {'C': 0.01, 'gamma': 0.1}          0.437147         0.437075   0.016433"
      ]
     },
     "execution_count": 42,
     "metadata": {},
     "output_type": "execute_result"
    }
   ],
   "source": [
    "cv_results = pd.DataFrame(grid_search.cv_results_)[['params', 'mean_train_score', 'mean_test_score']]\n",
    "cv_results[\"diff, %\"] = 100*(cv_results[\"mean_train_score\"]-cv_results[\"mean_test_score\"]\n",
    "                                                     )/cv_results[\"mean_train_score\"]\n",
    "\n",
    "pd.set_option('display.max_colwidth', 100)\n",
    "cv_results.sort_values('mean_test_score', ascending=False)"
   ]
  },
  {
   "cell_type": "markdown",
   "metadata": {},
   "source": [
    "Looking at the classification accuracy scores of each model, we notice that they are strongly affected by the settings for `C`: values below 0.1 result in very poor scores. High values of `C` produce better results, but notice also that at `C=100`, there is evidence of overfitting.\n",
    "\n",
    "The most promising results are achieved with `C=10` and `gamma` set to `auto`. Further fine-tuning may focus on other settings of `C` around 10. `gamma=0.1` does not perform so well and can be dropped from further hyperparameter exploration.\n",
    "\n",
    "Let's save the model to disk:"
   ]
  },
  {
   "cell_type": "code",
   "execution_count": 43,
   "metadata": {},
   "outputs": [
    {
     "data": {
      "text/plain": [
       "['models/svm-rbf-clf.joblib']"
      ]
     },
     "execution_count": 43,
     "metadata": {},
     "output_type": "execute_result"
    }
   ],
   "source": [
    "import os\n",
    "from joblib import dump\n",
    "\n",
    "# create a folder where all trained models will be kept\n",
    "if not os.path.exists(\"models\"):\n",
    "    os.makedirs(\"models\")\n",
    "    \n",
    "dump(grid_search.best_estimator_, 'models/svm-rbf-clf.joblib')"
   ]
  },
  {
   "cell_type": "markdown",
   "metadata": {},
   "source": [
    "### Polynomial SVM\n",
    "\n",
    "<span style=\"color:red;font-weight:bold\">Careful - the cell below may take a couple of hours to complete!</span>"
   ]
  },
  {
   "cell_type": "code",
   "execution_count": 45,
   "metadata": {},
   "outputs": [
    {
     "name": "stdout",
     "output_type": "stream",
     "text": [
      "Couldn't find program: 'echo'\n"
     ]
    }
   ],
   "source": [
    "%%script echo skipping # remove this line to run the cell\n",
    "\n",
    "%%time\n",
    "\n",
    "from sklearn.svm import SVC\n",
    "\n",
    "svm_poly = SVC(kernel=\"poly\", gamma=\"scale\", random_state=7, degree=2)\n",
    "\n",
    "# specify the hyperparameters and their values\n",
    "param_grid = {\n",
    "    'C': [0.01, 0.1, 1, 10, 100],\n",
    "}\n",
    "\n",
    "# we'll use 5-fold cross-validation\n",
    "grid_search = GridSearchCV(svm_poly, param_grid, cv=5,\n",
    "                           scoring='f1_macro', \n",
    "                           return_train_score=True)\n",
    "grid_search.fit(Xtrain, ytrain)"
   ]
  },
  {
   "cell_type": "code",
   "execution_count": 46,
   "metadata": {},
   "outputs": [
    {
     "name": "stdout",
     "output_type": "stream",
     "text": [
      "Couldn't find program: 'echo'\n"
     ]
    }
   ],
   "source": [
    "%%script echo skipping # remove this line to run the cell\n",
    "\n",
    "print(grid_search.best_estimator_)\n",
    "print(grid_search.best_score_)"
   ]
  },
  {
   "cell_type": "markdown",
   "metadata": {},
   "source": [
    "The selected model achieves an F-score of 0.72, which is a little better than the linear SVM, but noticeably worse than SVM with the RBF kernel."
   ]
  },
  {
   "cell_type": "code",
   "execution_count": 47,
   "metadata": {},
   "outputs": [
    {
     "name": "stdout",
     "output_type": "stream",
     "text": [
      "Couldn't find program: 'echo'\n"
     ]
    }
   ],
   "source": [
    "%%script echo skipping # remove this line to run the cell\n",
    "\n",
    "cv_results = pd.DataFrame(grid_search.cv_results_)[['params', 'mean_train_score', 'mean_test_score']]\n",
    "cv_results[\"diff, %\"] = 100*(cv_results[\"mean_train_score\"]-cv_results[\"mean_test_score\"]\n",
    "                                                     )/cv_results[\"mean_train_score\"]\n",
    "\n",
    "pd.set_option('display.max_colwidth', 100)\n",
    "cv_results.sort_values('mean_test_score', ascending=False)"
   ]
  },
  {
   "cell_type": "markdown",
   "metadata": {},
   "source": [
    "The `C` hyperparameter has a lot of impact on F-score: greater values of `C` improves F-scores, althogh the rate of improvement slows down at the highest values of `C` tried."
   ]
  },
  {
   "cell_type": "markdown",
   "metadata": {},
   "source": [
    "# Step 6. Test the best models\n",
    "\n",
    "We'll evaluate the Random Forest and the SVM with a rbf kernel on the test set.\n",
    "\n",
    "First, load the models from disk:"
   ]
  },
  {
   "cell_type": "code",
   "execution_count": 15,
   "metadata": {
    "ExecuteTime": {
     "end_time": "2022-03-15T21:31:32.473971Z",
     "start_time": "2022-03-15T21:31:32.036905Z"
    }
   },
   "outputs": [],
   "source": [
    "from joblib import load\n",
    "\n",
    "best_rf = load(\"models/rf-clf.joblib\")\n",
    "best_svm = load(\"models/svm-rbf-clf.joblib\")"
   ]
  },
  {
   "cell_type": "code",
   "execution_count": 16,
   "metadata": {
    "ExecuteTime": {
     "end_time": "2022-03-15T21:31:33.268487Z",
     "start_time": "2022-03-15T21:31:33.250407Z"
    }
   },
   "outputs": [],
   "source": [
    "# drop labels for training set, but keep all others\n",
    "Xtest = testset.drop(\"Opportunity Result\", axis=1)\n",
    "ytest = testset[\"Opportunity Result\"].copy()"
   ]
  },
  {
   "cell_type": "markdown",
   "metadata": {},
   "source": [
    "## Random Forest"
   ]
  },
  {
   "cell_type": "code",
   "execution_count": 17,
   "metadata": {
    "ExecuteTime": {
     "end_time": "2022-03-15T21:31:36.148044Z",
     "start_time": "2022-03-15T21:31:35.564945Z"
    }
   },
   "outputs": [
    {
     "name": "stdout",
     "output_type": "stream",
     "text": [
      "Random Forest:\n",
      "Precision: 0.8479860701161428\n",
      "Recall: 0.7903791508148983\n",
      "F score: 0.8135990736025744\n"
     ]
    }
   ],
   "source": [
    "from sklearn.metrics import precision_recall_fscore_support\n",
    "\n",
    "# rf\n",
    "yhat = best_rf.predict(Xtest)\n",
    "\n",
    "# micro-averaged precision, recall and f-score\n",
    "p, r, f, s = precision_recall_fscore_support(ytest, yhat, average=\"macro\")\n",
    "print(\"Random Forest:\")\n",
    "print(f\"Precision: {p}\")\n",
    "print(f\"Recall: {r}\")\n",
    "print(f\"F score: {f}\")"
   ]
  },
  {
   "cell_type": "markdown",
   "metadata": {},
   "source": [
    "Plot a confusion matrix to perform error analysis:"
   ]
  },
  {
   "cell_type": "code",
   "execution_count": 20,
   "metadata": {
    "ExecuteTime": {
     "end_time": "2022-03-15T21:32:33.460443Z",
     "start_time": "2022-03-15T21:32:33.264823Z"
    }
   },
   "outputs": [
    {
     "data": {
      "text/plain": [
       "<sklearn.metrics._plot.confusion_matrix.ConfusionMatrixDisplay at 0x21a820c4820>"
      ]
     },
     "execution_count": 20,
     "metadata": {},
     "output_type": "execute_result"
    },
    {
     "data": {
      "image/png": "[encoded data removed]",
      "text/plain": [
       "<Figure size 432x288 with 2 Axes>"
      ]
     },
     "metadata": {
      "needs_background": "light"
     },
     "output_type": "display_data"
    }
   ],
   "source": [
    "from sklearn.metrics import ConfusionMatrixDisplay\n",
    "\n",
    "ConfusionMatrixDisplay.from_predictions(ytest, yhat, labels=best_rf.classes_, \n",
    "                                        xticks_rotation=\"vertical\", normalize=\"true\",\n",
    "                                        cmap=plt.cm.Blues)"
   ]
  },
  {
   "cell_type": "markdown",
   "metadata": {},
   "source": [
    "The model accurately classifies the \"Loss\" class (95% of true instances of \"Loss\" were classified as \"Loss\"), but it is much less accurate classifying the \"Won\" instances (only 64% were classified correctly)."
   ]
  },
  {
   "cell_type": "markdown",
   "metadata": {},
   "source": [
    "## SVM"
   ]
  },
  {
   "cell_type": "code",
   "execution_count": 21,
   "metadata": {
    "ExecuteTime": {
     "end_time": "2022-03-15T21:33:16.407431Z",
     "start_time": "2022-03-15T21:32:38.235659Z"
    }
   },
   "outputs": [
    {
     "name": "stdout",
     "output_type": "stream",
     "text": [
      "SVM:\n",
      "Precision: 0.8314108113378981\n",
      "Recall: 0.7822270560330655\n",
      "F score: 0.8024669855702284\n"
     ]
    }
   ],
   "source": [
    "# svm\n",
    "yhat = best_svm.predict(Xtest)\n",
    "\n",
    "# micro-averaged precision, recall and f-score\n",
    "p, r, f, s = precision_recall_fscore_support(ytest, yhat, average=\"macro\")\n",
    "print(\"SVM:\")\n",
    "print(f\"Precision: {p}\")\n",
    "print(f\"Recall: {r}\")\n",
    "print(f\"F score: {f}\")"
   ]
  },
  {
   "cell_type": "markdown",
   "metadata": {},
   "source": [
    "Thus, we find similar classification accuracy with both Random Forest and SVM classifiers, as we observed during cross-validation. Also, as was the case during cross-validation, the Random Forest performed better of the two."
   ]
  },
  {
   "cell_type": "markdown",
   "metadata": {},
   "source": [
    "Confusion matrix:"
   ]
  },
  {
   "cell_type": "code",
   "execution_count": 22,
   "metadata": {
    "ExecuteTime": {
     "end_time": "2022-03-15T21:33:44.570189Z",
     "start_time": "2022-03-15T21:33:44.395065Z"
    }
   },
   "outputs": [
    {
     "data": {
      "text/plain": [
       "<sklearn.metrics._plot.confusion_matrix.ConfusionMatrixDisplay at 0x21afe13f070>"
      ]
     },
     "execution_count": 22,
     "metadata": {},
     "output_type": "execute_result"
    },
    {
     "data": {
      "image/png": "[encoded data removed]",
      "text/plain": [
       "<Figure size 432x288 with 2 Axes>"
      ]
     },
     "metadata": {
      "needs_background": "light"
     },
     "output_type": "display_data"
    }
   ],
   "source": [
    "ConfusionMatrixDisplay.from_predictions(ytest, yhat, labels=best_svm.classes_, \n",
    "                                        xticks_rotation=\"vertical\", normalize=\"true\",\n",
    "                                        cmap=plt.cm.Blues)"
   ]
  },
  {
   "cell_type": "markdown",
   "metadata": {},
   "source": [
    "The errors made by the SVM classifier are very similar to those made by the RF classifier."
   ]
  },
  {
   "cell_type": "markdown",
   "metadata": {},
   "source": [
    "# Citing this notebook\n",
    "\n",
    "If you use this notebook in your work, please cite it as follows:\n",
    "    \n",
    "Pekar, V. (2022). Big Data for Decision Making. Lecture examples and exercises. (Version 1.0.0). URL: https://github.com/vpekar/bd4dm\n"
   ]
  },
  {
   "cell_type": "code",
   "execution_count": null,
   "metadata": {},
   "outputs": [],
   "source": []
  }
 ],
 "metadata": {
  "kernelspec": {
   "display_name": "Python 3",
   "language": "python",
   "name": "python3"
  },
  "language_info": {
   "codemirror_mode": {
    "name": "ipython",
    "version": 3
   },
   "file_extension": ".py",
   "mimetype": "text/x-python",
   "name": "python",
   "nbconvert_exporter": "python",
   "pygments_lexer": "ipython3",
   "version": "3.9.7"
  },
  "toc": {
   "base_numbering": 1,
   "nav_menu": {},
   "number_sections": true,
   "sideBar": true,
   "skip_h1_title": false,
   "title_cell": "Table of Contents",
   "title_sidebar": "Contents",
   "toc_cell": false,
   "toc_position": {},
   "toc_section_display": true,
   "toc_window_display": true
  }
 },
 "nbformat": 4,
 "nbformat_minor": 2
}
