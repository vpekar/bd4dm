{
 "cells": [
  {
   "cell_type": "code",
   "execution_count": 1,
   "metadata": {
    "ExecuteTime": {
     "end_time": "2022-09-08T15:20:26.806880Z",
     "start_time": "2022-09-08T15:20:25.107100Z"
    }
   },
   "outputs": [],
   "source": [
    "# setting logging to print only error messages\n",
    "import logging\n",
    "logging.basicConfig()\n",
    "logging.getLogger(\"SKLEARNEX\").setLevel(logging.ERROR)\n",
    "\n",
    "import numpy as np\n",
    "import pandas as pd\n",
    "import matplotlib.pyplot as plt\n",
    "import seaborn as sns\n",
    "\n",
    "sns.set_theme(palette=\"Set2\")"
   ]
  },
  {
   "cell_type": "markdown",
   "metadata": {},
   "source": [
    "# Polynomial Regression\n",
    "\n",
    "As we saw in experiments with Linear Regression on the California housing data, it performs quite poorly, as it is relies on the assumption that the price of a house can be described as a **linear combination** of some other variables, that is the target variable `y` can be predicted from:\n",
    "\n",
    "$y = \\alpha + \\beta_1 x_1 + \\beta_2 x_2 ... + \\beta_n x_n$\n",
    "\n",
    "But if the target does not appear to be linearly dependent on other variable, one can attempt to fit a non-linear model. This can be achieved by adding extra variables which are the original variables taken to a power:\n",
    "\n",
    "$y = \\alpha + \\beta_1 x_1 + \\beta_2 x_1^2 + \\beta_3 x_2 + \\beta_4 x_2^2 + ... $\n",
    "\n",
    "Let's take a look at an example."
   ]
  },
  {
   "cell_type": "code",
   "execution_count": 2,
   "metadata": {
    "ExecuteTime": {
     "end_time": "2022-09-08T15:20:26.822959Z",
     "start_time": "2022-09-08T15:20:26.808909Z"
    }
   },
   "outputs": [],
   "source": [
    "# number of points\n",
    "m = 100\n",
    "\n",
    "# x coordinates: -3 + 6 * an array with the shape (100, 1)\n",
    "# containing random numbers between 0 and 1\n",
    "X = 6 * np.random.rand(m, 1) - 3\n",
    "\n",
    "# y coordinates\n",
    "y = 2 + 0.5 * X**2 + X + np.random.randn(m, 1)"
   ]
  },
  {
   "cell_type": "markdown",
   "metadata": {},
   "source": [
    "So we've generated points using this equation:\n",
    "\n",
    "$y = 2 + 0.5x^2 + x + e$\n",
    "\n",
    "where $e$ is a certain random amount between 0 and 1."
   ]
  },
  {
   "cell_type": "code",
   "execution_count": 3,
   "metadata": {
    "ExecuteTime": {
     "end_time": "2022-09-08T15:20:26.838578Z",
     "start_time": "2022-09-08T15:20:26.824791Z"
    }
   },
   "outputs": [
    {
     "data": {
      "text/plain": [
       "(100, 1)"
      ]
     },
     "execution_count": 3,
     "metadata": {},
     "output_type": "execute_result"
    }
   ],
   "source": [
    "X.shape"
   ]
  },
  {
   "cell_type": "markdown",
   "metadata": {},
   "source": [
    "There are 100 rows in one column in the array `X`."
   ]
  },
  {
   "cell_type": "code",
   "execution_count": 4,
   "metadata": {
    "ExecuteTime": {
     "end_time": "2022-09-08T15:20:27.029083Z",
     "start_time": "2022-09-08T15:20:26.839580Z"
    }
   },
   "outputs": [
    {
     "data": {
      "image/png": "[encoded data removed]",
      "text/plain": [
       "<Figure size 432x288 with 1 Axes>"
      ]
     },
     "metadata": {},
     "output_type": "display_data"
    }
   ],
   "source": [
    "# plot the points\n",
    "plt.scatter(X, y)\n",
    "plt.xlabel('X')\n",
    "plt.ylabel('y')\n",
    "plt.show()"
   ]
  },
  {
   "cell_type": "markdown",
   "metadata": {},
   "source": [
    "Clearly, a linear model will not fit the data points well.\n",
    "\n",
    "We can use Scikit-Learn’s `PolynomialFeatures` class to adding the square (2nd-degree polynomial) of each feature (in this case the single feature, `X`):"
   ]
  },
  {
   "cell_type": "code",
   "execution_count": 5,
   "metadata": {
    "ExecuteTime": {
     "end_time": "2022-09-08T15:20:27.839174Z",
     "start_time": "2022-09-08T15:20:27.031082Z"
    }
   },
   "outputs": [
    {
     "name": "stderr",
     "output_type": "stream",
     "text": [
      "Intel(R) Extension for Scikit-learn* enabled (https://github.com/intel/scikit-learn-intelex)\n"
     ]
    },
    {
     "data": {
      "text/plain": [
       "(100, 2)"
      ]
     },
     "execution_count": 5,
     "metadata": {},
     "output_type": "execute_result"
    }
   ],
   "source": [
    "from sklearn.preprocessing import PolynomialFeatures\n",
    "\n",
    "# initialize transformer (include_bias set to False not to add an extra column of 1's)\n",
    "poly_features = PolynomialFeatures(degree=2, include_bias=False)\n",
    "\n",
    "# fit the transformer and immediately use it to transform X:\n",
    "X_poly = poly_features.fit_transform(X)\n",
    "\n",
    "X_poly.shape"
   ]
  },
  {
   "cell_type": "markdown",
   "metadata": {},
   "source": [
    "`X_poly` now contains 100 rows and two columns: the first column is the original value in `X` and the second column is its square:"
   ]
  },
  {
   "cell_type": "code",
   "execution_count": 6,
   "metadata": {
    "ExecuteTime": {
     "end_time": "2022-09-08T15:20:27.855090Z",
     "start_time": "2022-09-08T15:20:27.840130Z"
    }
   },
   "outputs": [
    {
     "data": {
      "text/plain": [
       "array([2.40001805, 5.76008662])"
      ]
     },
     "execution_count": 6,
     "metadata": {},
     "output_type": "execute_result"
    }
   ],
   "source": [
    "# the first row\n",
    "X_poly[0]"
   ]
  },
  {
   "cell_type": "markdown",
   "metadata": {},
   "source": [
    "Now we can fit a linear regression to `X`:"
   ]
  },
  {
   "cell_type": "code",
   "execution_count": 7,
   "metadata": {
    "ExecuteTime": {
     "end_time": "2022-09-08T15:20:27.870143Z",
     "start_time": "2022-09-08T15:20:27.857179Z"
    }
   },
   "outputs": [
    {
     "data": {
      "text/plain": [
       "(array([1.98292182]), array([[0.91435074, 0.53204316]]))"
      ]
     },
     "execution_count": 7,
     "metadata": {},
     "output_type": "execute_result"
    }
   ],
   "source": [
    "from sklearn.linear_model import LinearRegression\n",
    "\n",
    "lin_reg = LinearRegression()\n",
    "lin_reg.fit(X_poly, y)\n",
    "\n",
    "lin_reg.intercept_, lin_reg.coef_"
   ]
  },
  {
   "cell_type": "markdown",
   "metadata": {},
   "source": [
    "So the estimated equation is:\n",
    "\n",
    "$y = 2.11 + 0.97x + 0.5x^2$\n",
    "\n",
    "I.e., the fitted equation was able to largely recover the formula we used to generate the data originally.\n",
    "\n",
    "We can also plot the fitted regression:"
   ]
  },
  {
   "cell_type": "code",
   "execution_count": 8,
   "metadata": {
    "ExecuteTime": {
     "end_time": "2022-09-08T15:20:27.886399Z",
     "start_time": "2022-09-08T15:20:27.872153Z"
    }
   },
   "outputs": [],
   "source": [
    "Xf = np.arange(-3, 3, 0.01)\n",
    "yf = 2.11 + 0.5 * Xf**2 + 0.97 * Xf"
   ]
  },
  {
   "cell_type": "code",
   "execution_count": 9,
   "metadata": {
    "ExecuteTime": {
     "end_time": "2022-09-08T15:20:28.058992Z",
     "start_time": "2022-09-08T15:20:27.887398Z"
    }
   },
   "outputs": [
    {
     "data": {
      "image/png": "[encoded data removed]",
      "text/plain": [
       "<Figure size 432x288 with 1 Axes>"
      ]
     },
     "metadata": {},
     "output_type": "display_data"
    }
   ],
   "source": [
    "plt.scatter(X, y)\n",
    "plt.scatter(Xf, yf, s=1)\n",
    "plt.xlabel('X')\n",
    "plt.ylabel('y')\n",
    "plt.show()"
   ]
  },
  {
   "cell_type": "markdown",
   "metadata": {},
   "source": [
    "# Acknowledgement\n",
    "\n",
    "The notebook is based on the code examples from [Aurélien Géron's textbook](https://www.oreilly.com/library/view/hands-on-machine-learning/9781492032632/) \"Hands-On Machine Learning with Scikit-Learn, Keras, and TensorFlow\".\n"
   ]
  },
  {
   "cell_type": "markdown",
   "metadata": {},
   "source": [
    "# Citing this notebook\n",
    "\n",
    "If you use this notebook in your work, please cite it as follows:\n",
    "    \n",
    "Pekar, V. (2024). Big Data for Decision Making. Lecture examples and exercises. (Version 1.0.0). URL: https://github.com/vpekar/bd4dm\n"
   ]
  },
  {
   "cell_type": "code",
   "execution_count": null,
   "metadata": {},
   "outputs": [],
   "source": []
  }
 ],
 "metadata": {
  "kernelspec": {
   "display_name": "Python 3 (ipykernel)",
   "language": "python",
   "name": "python3"
  },
  "language_info": {
   "codemirror_mode": {
    "name": "ipython",
    "version": 3
   },
   "file_extension": ".py",
   "mimetype": "text/x-python",
   "name": "python",
   "nbconvert_exporter": "python",
   "pygments_lexer": "ipython3",
   "version": "3.9.18"
  },
  "toc": {
   "base_numbering": 1,
   "nav_menu": {},
   "number_sections": true,
   "sideBar": true,
   "skip_h1_title": false,
   "title_cell": "Table of Contents",
   "title_sidebar": "Contents",
   "toc_cell": false,
   "toc_position": {},
   "toc_section_display": true,
   "toc_window_display": true
  }
 },
 "nbformat": 4,
 "nbformat_minor": 4
}
