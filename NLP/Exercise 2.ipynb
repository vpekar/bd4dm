{
 "cells": [
  {
   "cell_type": "markdown",
   "id": "37dd4f53",
   "metadata": {},
   "source": [
    "# Sentiment Analysis of Customer Reviews: A Large Dataset\n",
    "\n",
    "The exercise concerns classification of mobile phone reviews by the 5-star ratings, i.e. this is an ordinal classification problem. The data contains 50k reviews and is characterised by class imbalance: there are much more positive reviews than negative ones in the dataset. Review the project and write your commentary in the sections below.\n",
    "\n",
    "Note that rather than Macroaveraged F-score, the project uses Macroaveraged RMSE ([Baccianella et al 2009](http://nmis.isti.cnr.it/sebastiani/Publications/ISDA09.pdf)) as an evaluation metric.\n",
    "\n",
    "No code needs to be written for this exercise, but if you want to run the notebook, download the data at this [page](https://jmcauley.ucsd.edu/data/amazon/), see the file [reviews_Cell_Phones_and_Accessories_5.json.gz](http://snap.stanford.edu/data/amazon/productGraph/categoryFiles/reviews_Cell_Phones_and_Accessories_5.json.gz) and put it into the same folder as the notebook.\n",
    "\n",
    "To run the code, you may also need to first install the imblearn package:\n",
    "\n",
    "`pip install -U imbalanced-learn`"
   ]
  },
  {
   "cell_type": "code",
   "execution_count": 1,
   "id": "a0d1017a",
   "metadata": {
    "ExecuteTime": {
     "end_time": "2023-02-24T17:03:54.314017Z",
     "start_time": "2023-02-24T17:03:51.565298Z"
    }
   },
   "outputs": [],
   "source": [
    "import logging\n",
    "logging.basicConfig()\n",
    "logging.getLogger(\"SKLEARNEX\").setLevel(logging.ERROR)\n",
    "\n",
    "import json\n",
    "import gzip\n",
    "import pandas as pd\n",
    "import numpy as np\n",
    "import matplotlib.pyplot as plt\n",
    "\n",
    "from sklearn.metrics import precision_recall_fscore_support, classification_report\n",
    "from sklearn.metrics import ConfusionMatrixDisplay\n",
    "from sklearn.model_selection import cross_val_predict\n",
    "\n",
    "from IPython.display import display"
   ]
  },
  {
   "cell_type": "code",
   "execution_count": 2,
   "id": "fd6e2e3f",
   "metadata": {
    "ExecuteTime": {
     "end_time": "2023-02-24T17:03:54.337261Z",
     "start_time": "2023-02-24T17:03:54.314017Z"
    }
   },
   "outputs": [],
   "source": [
    "def groupby_labels(y, yhat):\n",
    "    \"\"\"Based on https://stackoverflow.com/questions/38013778/is-there-any-numpy-group-by-function\n",
    "    \"\"\"\n",
    "    m = np.stack([y, yhat]).T\n",
    "    m = m[m[:, 0].argsort()]\n",
    "    grouped_preds = np.split(m[:, 1], np.unique(m[:, 0], return_index=True)[1])[1:]\n",
    "    labels = np.unique(m[:, 0])\n",
    "    return labels, grouped_preds\n",
    "\n",
    "def mae_macro(y, yhat):\n",
    "    \"\"\"Macroaveraged MAE\n",
    "    \"\"\"\n",
    "    labels, preds = groupby_labels(y, yhat)\n",
    "    mean_diff = np.array([np.abs(label - pred).mean() for label, pred in zip(labels, preds)]).mean()\n",
    "    return mean_diff\n",
    "\n",
    "def rmse_macro(y, yhat):\n",
    "    \"\"\"Macroaveraged RMSE\n",
    "    \"\"\"\n",
    "    labels, preds = groupby_labels(y, yhat)\n",
    "    mean_diff = np.array([np.power(label - pred, 2).mean() for label, pred in zip(labels, preds)]).mean()\n",
    "    return np.sqrt(mean_diff)\n",
    "\n",
    "def evaluate_model(model, ytest, Xtest):\n",
    "    \"\"\"Given a trained model and test data, generate predictions\n",
    "    and print a report with evaluation results\n",
    "    \"\"\"\n",
    "    yhat = model.predict(Xtest)\n",
    "    print(classification_report(ytest, yhat, zero_division=0))\n",
    "    rmse = rmse_macro(ytest, yhat)\n",
    "    print(f\"{'Macro RMSE':18} {rmse:.3}\")\n",
    "    mae = mae_macro(ytest, yhat)\n",
    "    print(f\"{'Macro MAE':18} {mae:.3}\")\n",
    "\n",
    "def print_cv_results(grid_search, col_width=100, max_rows=10):\n",
    "    \"\"\"Given a grid search object, print a table with the \n",
    "    cross-validation results\n",
    "    \"\"\"\n",
    "    results = pd.DataFrame(grid_search.cv_results_\n",
    "                             )[['params', 'mean_train_score', 'mean_test_score']]\n",
    "    \n",
    "    results[\"mean_train_score\"] = -results[\"mean_train_score\"]\n",
    "    results[\"mean_test_score\"] = -results[\"mean_test_score\"]\n",
    "    \n",
    "    results[\"diff, %\"] = 100*(results[\"mean_train_score\"]-results[\"mean_test_score\"]\n",
    "                                                         )/results[\"mean_train_score\"]\n",
    "\n",
    "    pd.set_option('display.max_colwidth', col_width)\n",
    "    pd.set_option('display.min_rows', max_rows)\n",
    "    pd.set_option('display.max_rows', max_rows)\n",
    "    display(results.sort_values('mean_test_score', ascending=True))"
   ]
  },
  {
   "cell_type": "code",
   "execution_count": 3,
   "id": "0d628eb3",
   "metadata": {
    "ExecuteTime": {
     "end_time": "2023-02-24T17:03:54.352699Z",
     "start_time": "2023-02-24T17:03:54.339468Z"
    }
   },
   "outputs": [],
   "source": [
    "# create a scoring function\n",
    "from sklearn.metrics import make_scorer\n",
    "\n",
    "neg_rmse_macro = make_scorer(rmse_macro, greater_is_better=False)"
   ]
  },
  {
   "cell_type": "markdown",
   "id": "522d545a",
   "metadata": {},
   "source": [
    "# Load the data\n",
    "\n",
    "Each review is provided with with a 5 star rating, read the first 50,000 reviews. "
   ]
  },
  {
   "cell_type": "code",
   "execution_count": 4,
   "id": "6193d670",
   "metadata": {
    "ExecuteTime": {
     "end_time": "2023-02-24T17:03:55.466322Z",
     "start_time": "2023-02-24T17:03:54.354695Z"
    }
   },
   "outputs": [],
   "source": [
    "texts = []\n",
    "targets = []\n",
    "max_lines = 50000\n",
    "lines = 0\n",
    "\n",
    "for line in gzip.open(\"reviews_Cell_Phones_and_Accessories_5.json.gz\", 'r'):\n",
    "    d = json.loads(line)\n",
    "    score = int(d['overall'])\n",
    "    text = d['reviewText']\n",
    "    texts.append(text)\n",
    "    targets.append(score)\n",
    "    \n",
    "    # read the first `max_lines` reviews\n",
    "    lines += 1\n",
    "    if lines >= max_lines:\n",
    "        break\n",
    "\n",
    "df = pd.DataFrame({\"text\": texts, \"target\": targets})"
   ]
  },
  {
   "cell_type": "markdown",
   "id": "c17ee6da",
   "metadata": {},
   "source": [
    "# Training-test split"
   ]
  },
  {
   "cell_type": "code",
   "execution_count": 5,
   "id": "008f70b8",
   "metadata": {
    "ExecuteTime": {
     "end_time": "2023-02-24T17:03:55.507383Z",
     "start_time": "2023-02-24T17:03:55.466322Z"
    }
   },
   "outputs": [],
   "source": [
    "from sklearn.model_selection import train_test_split\n",
    "\n",
    "trainset, testset = train_test_split(df, test_size=0.1, stratify=df[\"target\"], random_state=7)"
   ]
  },
  {
   "cell_type": "markdown",
   "id": "c38f4aac",
   "metadata": {},
   "source": [
    "# Data exploration and transformation\n",
    "\n",
    "Check the distribution of the class label in the training data."
   ]
  },
  {
   "cell_type": "code",
   "execution_count": 6,
   "id": "d37bd0f1",
   "metadata": {
    "ExecuteTime": {
     "end_time": "2023-02-24T17:03:55.753915Z",
     "start_time": "2023-02-24T17:03:55.509446Z"
    }
   },
   "outputs": [
    {
     "data": {
      "text/plain": [
       "<AxesSubplot: >"
      ]
     },
     "execution_count": 6,
     "metadata": {},
     "output_type": "execute_result"
    },
    {
     "data": {
      "image/png": "[encoded data removed]",
      "text/plain": [
       "<Figure size 640x480 with 1 Axes>"
      ]
     },
     "metadata": {},
     "output_type": "display_data"
    }
   ],
   "source": [
    "trainset[\"target\"].value_counts().plot(kind=\"bar\", rot=0)"
   ]
  },
  {
   "cell_type": "code",
   "execution_count": 7,
   "id": "280f1a97",
   "metadata": {
    "ExecuteTime": {
     "end_time": "2023-02-24T17:03:55.770716Z",
     "start_time": "2023-02-24T17:03:55.754870Z"
    }
   },
   "outputs": [],
   "source": [
    "Xtrain = trainset.drop(\"target\", axis=1)\n",
    "ytrain = trainset[\"target\"].copy()\n",
    "\n",
    "Xtest = testset.drop(\"target\", axis=1)\n",
    "ytest = testset[\"target\"].copy()"
   ]
  },
  {
   "cell_type": "markdown",
   "id": "92f2f671",
   "metadata": {},
   "source": [
    "## Construct document-by-word matrix"
   ]
  },
  {
   "cell_type": "code",
   "execution_count": 8,
   "id": "1792e67c",
   "metadata": {
    "ExecuteTime": {
     "end_time": "2023-02-24T17:03:55.819815Z",
     "start_time": "2023-02-24T17:03:55.770716Z"
    }
   },
   "outputs": [],
   "source": [
    "from sklearn.feature_extraction.text import CountVectorizer\n",
    "\n",
    "count_vectorizer = CountVectorizer(\n",
    "    strip_accents=\"unicode\", # convert accented chars to non-accented versions\n",
    "    lowercase=True,\n",
    "    tokenizer=None,        # None - use the default tokenizer\n",
    "    preprocessor=None,     # None - use the default preprocessor\n",
    "    stop_words=\"english\",\n",
    "    ngram_range=(1, 3),    # min and max range of ngrams\n",
    "    analyzer=\"word\",       # split the document into words, rather than e.g. characters\n",
    "    max_df=0.9,            # ignore words with df greater than the value (int represents count, \n",
    "                           # float represents proportion of documents)\n",
    "    min_df=10              # ignore words with df lower than the value (int represents count, \n",
    "                           # float represents proportion)\n",
    ")"
   ]
  },
  {
   "cell_type": "code",
   "execution_count": 9,
   "id": "835de1f7",
   "metadata": {
    "ExecuteTime": {
     "end_time": "2023-02-24T17:04:05.911342Z",
     "start_time": "2023-02-24T17:03:55.821772Z"
    }
   },
   "outputs": [
    {
     "data": {
      "text/plain": [
       "(45000, 29030)"
      ]
     },
     "execution_count": 9,
     "metadata": {},
     "output_type": "execute_result"
    }
   ],
   "source": [
    "docs_train_counts = count_vectorizer.fit_transform(Xtrain['text'])\n",
    "docs_train_counts.shape"
   ]
  },
  {
   "cell_type": "code",
   "execution_count": 10,
   "id": "fcbc3058",
   "metadata": {
    "ExecuteTime": {
     "end_time": "2023-02-24T17:04:06.713328Z",
     "start_time": "2023-02-24T17:04:05.914338Z"
    }
   },
   "outputs": [
    {
     "data": {
      "text/plain": [
       "(5000, 29030)"
      ]
     },
     "execution_count": 10,
     "metadata": {},
     "output_type": "execute_result"
    }
   ],
   "source": [
    "docs_test_counts = count_vectorizer.transform(Xtest['text'])\n",
    "docs_test_counts.shape"
   ]
  },
  {
   "cell_type": "markdown",
   "id": "91bf5098",
   "metadata": {},
   "source": [
    "## TFIDF weighting of document vectors\n",
    "\n",
    "We estimate TFIDF weights from the training data and then apply the weights both to the training and test data."
   ]
  },
  {
   "cell_type": "code",
   "execution_count": 11,
   "id": "ccfa350d",
   "metadata": {
    "ExecuteTime": {
     "end_time": "2023-02-24T17:04:06.883710Z",
     "start_time": "2023-02-24T17:04:06.715319Z"
    }
   },
   "outputs": [],
   "source": [
    "from sklearn.feature_extraction.text import TfidfTransformer\n",
    "\n",
    "tfidf_transformer = TfidfTransformer()\n",
    "\n",
    "docs_train_tfidf = tfidf_transformer.fit_transform(docs_train_counts)\n",
    "docs_test_tfidf = tfidf_transformer.transform(docs_test_counts)"
   ]
  },
  {
   "cell_type": "markdown",
   "id": "7dfb0b6d",
   "metadata": {},
   "source": [
    "After weighting, the data must be scaled."
   ]
  },
  {
   "cell_type": "code",
   "execution_count": 12,
   "id": "5001de02",
   "metadata": {
    "ExecuteTime": {
     "end_time": "2023-02-24T17:04:07.023275Z",
     "start_time": "2023-02-24T17:04:06.883710Z"
    }
   },
   "outputs": [],
   "source": [
    "from sklearn.preprocessing import MaxAbsScaler \n",
    "\n",
    "scaler = MaxAbsScaler()\n",
    "\n",
    "Xtrain = scaler.fit_transform(docs_train_tfidf)\n",
    "Xtest = scaler.transform(docs_test_tfidf)"
   ]
  },
  {
   "cell_type": "markdown",
   "id": "09cc96c7",
   "metadata": {},
   "source": [
    "# Baseline"
   ]
  },
  {
   "cell_type": "code",
   "execution_count": 13,
   "id": "6bb8f8fb",
   "metadata": {
    "ExecuteTime": {
     "end_time": "2023-02-24T17:04:07.053516Z",
     "start_time": "2023-02-24T17:04:07.027307Z"
    }
   },
   "outputs": [
    {
     "data": {
      "text/plain": [
       "5    23378\n",
       "4     9205\n",
       "3     5297\n",
       "1     4029\n",
       "2     3091\n",
       "Name: target, dtype: int64"
      ]
     },
     "execution_count": 13,
     "metadata": {},
     "output_type": "execute_result"
    }
   ],
   "source": [
    "trainset[\"target\"].value_counts()"
   ]
  },
  {
   "cell_type": "code",
   "execution_count": 14,
   "id": "84053bf9",
   "metadata": {
    "ExecuteTime": {
     "end_time": "2023-02-24T17:04:07.147686Z",
     "start_time": "2023-02-24T17:04:07.062500Z"
    }
   },
   "outputs": [
    {
     "name": "stdout",
     "output_type": "stream",
     "text": [
      "              precision    recall  f1-score   support\n",
      "\n",
      "           1       0.00      0.00      0.00      4029\n",
      "           2       0.00      0.00      0.00      3091\n",
      "           3       0.00      0.00      0.00      5297\n",
      "           4       0.00      0.00      0.00      9205\n",
      "           5       0.52      1.00      0.68     23378\n",
      "\n",
      "    accuracy                           0.52     45000\n",
      "   macro avg       0.10      0.20      0.14     45000\n",
      "weighted avg       0.27      0.52      0.36     45000\n",
      "\n",
      "Macro RMSE         2.45\n",
      "Macro MAE          2.0\n"
     ]
    }
   ],
   "source": [
    "from sklearn.dummy import DummyClassifier\n",
    "\n",
    "dummy_clf = DummyClassifier(strategy=\"most_frequent\")\n",
    "dummy_clf.fit(Xtrain, ytrain)\n",
    "yhat_train = dummy_clf.predict(Xtrain)\n",
    "\n",
    "evaluate_model(dummy_clf, ytrain, Xtrain)"
   ]
  },
  {
   "cell_type": "markdown",
   "id": "cece18a9",
   "metadata": {},
   "source": [
    "# Training\n",
    "\n",
    "## Unbalanced data"
   ]
  },
  {
   "cell_type": "code",
   "execution_count": 15,
   "id": "d90f15df",
   "metadata": {
    "ExecuteTime": {
     "end_time": "2023-02-24T17:11:24.677656Z",
     "start_time": "2023-02-24T17:04:07.148662Z"
    }
   },
   "outputs": [
    {
     "data": {
      "text/html": [
       "<div>\n",
       "<style scoped>\n",
       "    .dataframe tbody tr th:only-of-type {\n",
       "        vertical-align: middle;\n",
       "    }\n",
       "\n",
       "    .dataframe tbody tr th {\n",
       "        vertical-align: top;\n",
       "    }\n",
       "\n",
       "    .dataframe thead th {\n",
       "        text-align: right;\n",
       "    }\n",
       "</style>\n",
       "<table border=\"1\" class=\"dataframe\">\n",
       "  <thead>\n",
       "    <tr style=\"text-align: right;\">\n",
       "      <th></th>\n",
       "      <th>params</th>\n",
       "      <th>mean_train_score</th>\n",
       "      <th>mean_test_score</th>\n",
       "      <th>diff, %</th>\n",
       "    </tr>\n",
       "  </thead>\n",
       "  <tbody>\n",
       "    <tr>\n",
       "      <th>3</th>\n",
       "      <td>{'C': 1}</td>\n",
       "      <td>0.170474</td>\n",
       "      <td>1.493752</td>\n",
       "      <td>-776.234672</td>\n",
       "    </tr>\n",
       "    <tr>\n",
       "      <th>2</th>\n",
       "      <td>{'C': 0.1}</td>\n",
       "      <td>0.750984</td>\n",
       "      <td>1.524825</td>\n",
       "      <td>-103.043644</td>\n",
       "    </tr>\n",
       "    <tr>\n",
       "      <th>4</th>\n",
       "      <td>{'C': 10}</td>\n",
       "      <td>0.086472</td>\n",
       "      <td>1.530013</td>\n",
       "      <td>-1669.383132</td>\n",
       "    </tr>\n",
       "    <tr>\n",
       "      <th>1</th>\n",
       "      <td>{'C': 0.01}</td>\n",
       "      <td>1.727975</td>\n",
       "      <td>1.877565</td>\n",
       "      <td>-8.656981</td>\n",
       "    </tr>\n",
       "    <tr>\n",
       "      <th>0</th>\n",
       "      <td>{'C': 0.001}</td>\n",
       "      <td>2.425778</td>\n",
       "      <td>2.428026</td>\n",
       "      <td>-0.092655</td>\n",
       "    </tr>\n",
       "  </tbody>\n",
       "</table>\n",
       "</div>"
      ],
      "text/plain": [
       "         params  mean_train_score  mean_test_score      diff, %\n",
       "3      {'C': 1}          0.170474         1.493752  -776.234672\n",
       "2    {'C': 0.1}          0.750984         1.524825  -103.043644\n",
       "4     {'C': 10}          0.086472         1.530013 -1669.383132\n",
       "1   {'C': 0.01}          1.727975         1.877565    -8.656981\n",
       "0  {'C': 0.001}          2.425778         2.428026    -0.092655"
      ]
     },
     "metadata": {},
     "output_type": "display_data"
    }
   ],
   "source": [
    "from sklearn.model_selection import GridSearchCV\n",
    "from sklearn.svm import LinearSVC\n",
    "\n",
    "lsvm = LinearSVC(random_state=7, max_iter=10000)\n",
    "\n",
    "param_grid = {\n",
    "    'C': [0.001, 0.01, 0.1, 1, 10] \n",
    "}\n",
    "\n",
    "lsvc_grid_search = GridSearchCV(lsvm, param_grid, cv=10,\n",
    "                           scoring=neg_rmse_macro, #'f1_macro',\n",
    "                           return_train_score=True) \n",
    "lsvc_grid_search.fit(Xtrain, ytrain)\n",
    "\n",
    "print_cv_results(lsvc_grid_search, col_width=100, max_rows=150)"
   ]
  },
  {
   "cell_type": "code",
   "execution_count": 16,
   "id": "fce29201",
   "metadata": {
    "ExecuteTime": {
     "end_time": "2023-02-24T17:12:19.525128Z",
     "start_time": "2023-02-24T17:11:24.679676Z"
    }
   },
   "outputs": [
    {
     "data": {
      "image/png": "[encoded data removed]",
      "text/plain": [
       "<Figure size 640x480 with 2 Axes>"
      ]
     },
     "metadata": {},
     "output_type": "display_data"
    }
   ],
   "source": [
    "# cross-validation confusion matrix, training data\n",
    "yhat = cross_val_predict(lsvc_grid_search.best_estimator_, Xtrain, ytrain, cv=10)\n",
    "ConfusionMatrixDisplay.from_predictions(ytrain, yhat, \n",
    "                                        labels=lsvc_grid_search.best_estimator_.classes_, \n",
    "                                        normalize=\"true\",\n",
    "                                        cmap=plt.cm.Blues);"
   ]
  },
  {
   "cell_type": "markdown",
   "id": "323baebe",
   "metadata": {},
   "source": [
    "<mark>Comment:</mark> ???"
   ]
  },
  {
   "cell_type": "markdown",
   "id": "bf15f66a",
   "metadata": {},
   "source": [
    "## Class balancing"
   ]
  },
  {
   "cell_type": "code",
   "execution_count": 17,
   "id": "c3c476b5",
   "metadata": {
    "ExecuteTime": {
     "end_time": "2023-02-24T17:13:56.971636Z",
     "start_time": "2023-02-24T17:12:19.529181Z"
    }
   },
   "outputs": [
    {
     "data": {
      "text/html": [
       "<style>#sk-container-id-1 {color: black;background-color: white;}#sk-container-id-1 pre{padding: 0;}#sk-container-id-1 div.sk-toggleable {background-color: white;}#sk-container-id-1 label.sk-toggleable__label {cursor: pointer;display: block;width: 100%;margin-bottom: 0;padding: 0.3em;box-sizing: border-box;text-align: center;}#sk-container-id-1 label.sk-toggleable__label-arrow:before {content: \"▸\";float: left;margin-right: 0.25em;color: #696969;}#sk-container-id-1 label.sk-toggleable__label-arrow:hover:before {color: black;}#sk-container-id-1 div.sk-estimator:hover label.sk-toggleable__label-arrow:before {color: black;}#sk-container-id-1 div.sk-toggleable__content {max-height: 0;max-width: 0;overflow: hidden;text-align: left;background-color: #f0f8ff;}#sk-container-id-1 div.sk-toggleable__content pre {margin: 0.2em;color: black;border-radius: 0.25em;background-color: #f0f8ff;}#sk-container-id-1 input.sk-toggleable__control:checked~div.sk-toggleable__content {max-height: 200px;max-width: 100%;overflow: auto;}#sk-container-id-1 input.sk-toggleable__control:checked~label.sk-toggleable__label-arrow:before {content: \"▾\";}#sk-container-id-1 div.sk-estimator input.sk-toggleable__control:checked~label.sk-toggleable__label {background-color: #d4ebff;}#sk-container-id-1 div.sk-label input.sk-toggleable__control:checked~label.sk-toggleable__label {background-color: #d4ebff;}#sk-container-id-1 input.sk-hidden--visually {border: 0;clip: rect(1px 1px 1px 1px);clip: rect(1px, 1px, 1px, 1px);height: 1px;margin: -1px;overflow: hidden;padding: 0;position: absolute;width: 1px;}#sk-container-id-1 div.sk-estimator {font-family: monospace;background-color: #f0f8ff;border: 1px dotted black;border-radius: 0.25em;box-sizing: border-box;margin-bottom: 0.5em;}#sk-container-id-1 div.sk-estimator:hover {background-color: #d4ebff;}#sk-container-id-1 div.sk-parallel-item::after {content: \"\";width: 100%;border-bottom: 1px solid gray;flex-grow: 1;}#sk-container-id-1 div.sk-label:hover label.sk-toggleable__label {background-color: #d4ebff;}#sk-container-id-1 div.sk-serial::before {content: \"\";position: absolute;border-left: 1px solid gray;box-sizing: border-box;top: 0;bottom: 0;left: 50%;z-index: 0;}#sk-container-id-1 div.sk-serial {display: flex;flex-direction: column;align-items: center;background-color: white;padding-right: 0.2em;padding-left: 0.2em;position: relative;}#sk-container-id-1 div.sk-item {position: relative;z-index: 1;}#sk-container-id-1 div.sk-parallel {display: flex;align-items: stretch;justify-content: center;background-color: white;position: relative;}#sk-container-id-1 div.sk-item::before, #sk-container-id-1 div.sk-parallel-item::before {content: \"\";position: absolute;border-left: 1px solid gray;box-sizing: border-box;top: 0;bottom: 0;left: 50%;z-index: -1;}#sk-container-id-1 div.sk-parallel-item {display: flex;flex-direction: column;z-index: 1;position: relative;background-color: white;}#sk-container-id-1 div.sk-parallel-item:first-child::after {align-self: flex-end;width: 50%;}#sk-container-id-1 div.sk-parallel-item:last-child::after {align-self: flex-start;width: 50%;}#sk-container-id-1 div.sk-parallel-item:only-child::after {width: 0;}#sk-container-id-1 div.sk-dashed-wrapped {border: 1px dashed gray;margin: 0 0.4em 0.5em 0.4em;box-sizing: border-box;padding-bottom: 0.4em;background-color: white;}#sk-container-id-1 div.sk-label label {font-family: monospace;font-weight: bold;display: inline-block;line-height: 1.2em;}#sk-container-id-1 div.sk-label-container {text-align: center;}#sk-container-id-1 div.sk-container {/* jupyter's `normalize.less` sets `[hidden] { display: none; }` but bootstrap.min.css set `[hidden] { display: none !important; }` so we also need the `!important` here to be able to override the default hidden behavior on the sphinx rendered scikit-learn.org. See: https://github.com/scikit-learn/scikit-learn/issues/21755 */display: inline-block !important;position: relative;}#sk-container-id-1 div.sk-text-repr-fallback {display: none;}</style><div id=\"sk-container-id-1\" class=\"sk-top-container\"><div class=\"sk-text-repr-fallback\"><pre>GridSearchCV(cv=10,\n",
       "             estimator=Pipeline(steps=[(&#x27;cb&#x27;,\n",
       "                                        RandomUnderSampler(random_state=7)),\n",
       "                                       (&#x27;lsvc&#x27;,\n",
       "                                        LinearSVC(max_iter=10000,\n",
       "                                                  random_state=7))]),\n",
       "             param_grid=[{&#x27;cb__sampling_strategy&#x27;: [&#x27;auto&#x27;],\n",
       "                          &#x27;lsvc__C&#x27;: [0.001, 0.01, 0.1, 1, 10]}],\n",
       "             return_train_score=True,\n",
       "             scoring=make_scorer(rmse_macro, greater_is_better=False))</pre><b>In a Jupyter environment, please rerun this cell to show the HTML representation or trust the notebook. <br />On GitHub, the HTML representation is unable to render, please try loading this page with nbviewer.org.</b></div><div class=\"sk-container\" hidden><div class=\"sk-item sk-dashed-wrapped\"><div class=\"sk-label-container\"><div class=\"sk-label sk-toggleable\"><input class=\"sk-toggleable__control sk-hidden--visually\" id=\"sk-estimator-id-1\" type=\"checkbox\" ><label for=\"sk-estimator-id-1\" class=\"sk-toggleable__label sk-toggleable__label-arrow\">GridSearchCV</label><div class=\"sk-toggleable__content\"><pre>GridSearchCV(cv=10,\n",
       "             estimator=Pipeline(steps=[(&#x27;cb&#x27;,\n",
       "                                        RandomUnderSampler(random_state=7)),\n",
       "                                       (&#x27;lsvc&#x27;,\n",
       "                                        LinearSVC(max_iter=10000,\n",
       "                                                  random_state=7))]),\n",
       "             param_grid=[{&#x27;cb__sampling_strategy&#x27;: [&#x27;auto&#x27;],\n",
       "                          &#x27;lsvc__C&#x27;: [0.001, 0.01, 0.1, 1, 10]}],\n",
       "             return_train_score=True,\n",
       "             scoring=make_scorer(rmse_macro, greater_is_better=False))</pre></div></div></div><div class=\"sk-parallel\"><div class=\"sk-parallel-item\"><div class=\"sk-item\"><div class=\"sk-label-container\"><div class=\"sk-label sk-toggleable\"><input class=\"sk-toggleable__control sk-hidden--visually\" id=\"sk-estimator-id-2\" type=\"checkbox\" ><label for=\"sk-estimator-id-2\" class=\"sk-toggleable__label sk-toggleable__label-arrow\">estimator: Pipeline</label><div class=\"sk-toggleable__content\"><pre>Pipeline(steps=[(&#x27;cb&#x27;, RandomUnderSampler(random_state=7)),\n",
       "                (&#x27;lsvc&#x27;, LinearSVC(max_iter=10000, random_state=7))])</pre></div></div></div><div class=\"sk-serial\"><div class=\"sk-item\"><div class=\"sk-serial\"><div class=\"sk-item\"><div class=\"sk-estimator sk-toggleable\"><input class=\"sk-toggleable__control sk-hidden--visually\" id=\"sk-estimator-id-3\" type=\"checkbox\" ><label for=\"sk-estimator-id-3\" class=\"sk-toggleable__label sk-toggleable__label-arrow\">RandomUnderSampler</label><div class=\"sk-toggleable__content\"><pre>RandomUnderSampler(random_state=7)</pre></div></div></div><div class=\"sk-item\"><div class=\"sk-estimator sk-toggleable\"><input class=\"sk-toggleable__control sk-hidden--visually\" id=\"sk-estimator-id-4\" type=\"checkbox\" ><label for=\"sk-estimator-id-4\" class=\"sk-toggleable__label sk-toggleable__label-arrow\">LinearSVC</label><div class=\"sk-toggleable__content\"><pre>LinearSVC(max_iter=10000, random_state=7)</pre></div></div></div></div></div></div></div></div></div></div></div></div>"
      ],
      "text/plain": [
       "GridSearchCV(cv=10,\n",
       "             estimator=Pipeline(steps=[('cb',\n",
       "                                        RandomUnderSampler(random_state=7)),\n",
       "                                       ('lsvc',\n",
       "                                        LinearSVC(max_iter=10000,\n",
       "                                                  random_state=7))]),\n",
       "             param_grid=[{'cb__sampling_strategy': ['auto'],\n",
       "                          'lsvc__C': [0.001, 0.01, 0.1, 1, 10]}],\n",
       "             return_train_score=True,\n",
       "             scoring=make_scorer(rmse_macro, greater_is_better=False))"
      ]
     },
     "execution_count": 17,
     "metadata": {},
     "output_type": "execute_result"
    }
   ],
   "source": [
    "from imblearn.pipeline import Pipeline\n",
    "from imblearn.under_sampling import RandomUnderSampler\n",
    "\n",
    "pipeline = Pipeline([\n",
    "        ('cb', RandomUnderSampler(random_state=7)),\n",
    "        ('lsvc', LinearSVC(random_state=7, max_iter=10000))\n",
    "    ])\n",
    "\n",
    "param_grid = [\n",
    "    {\n",
    "        'cb__sampling_strategy': [\"auto\"],\n",
    "        'lsvc__C': [0.001, 0.01, 0.1, 1, 10],\n",
    "    },\n",
    "]\n",
    "\n",
    "cb_grid_search = GridSearchCV(pipeline, param_grid, cv=10, \n",
    "                              scoring=neg_rmse_macro, #'f1_macro',\n",
    "                              return_train_score=True)\n",
    "\n",
    "cb_grid_search.fit(Xtrain, ytrain)"
   ]
  },
  {
   "cell_type": "code",
   "execution_count": 18,
   "id": "1a9b8793",
   "metadata": {
    "ExecuteTime": {
     "end_time": "2023-02-24T17:13:57.018511Z",
     "start_time": "2023-02-24T17:13:56.976624Z"
    }
   },
   "outputs": [
    {
     "data": {
      "text/html": [
       "<div>\n",
       "<style scoped>\n",
       "    .dataframe tbody tr th:only-of-type {\n",
       "        vertical-align: middle;\n",
       "    }\n",
       "\n",
       "    .dataframe tbody tr th {\n",
       "        vertical-align: top;\n",
       "    }\n",
       "\n",
       "    .dataframe thead th {\n",
       "        text-align: right;\n",
       "    }\n",
       "</style>\n",
       "<table border=\"1\" class=\"dataframe\">\n",
       "  <thead>\n",
       "    <tr style=\"text-align: right;\">\n",
       "      <th></th>\n",
       "      <th>params</th>\n",
       "      <th>mean_train_score</th>\n",
       "      <th>mean_test_score</th>\n",
       "      <th>diff, %</th>\n",
       "    </tr>\n",
       "  </thead>\n",
       "  <tbody>\n",
       "    <tr>\n",
       "      <th>2</th>\n",
       "      <td>{'cb__sampling_strategy': 'auto', 'lsvc__C': 0.1}</td>\n",
       "      <td>0.879395</td>\n",
       "      <td>1.292535</td>\n",
       "      <td>-46.979980</td>\n",
       "    </tr>\n",
       "    <tr>\n",
       "      <th>1</th>\n",
       "      <td>{'cb__sampling_strategy': 'auto', 'lsvc__C': 0.01}</td>\n",
       "      <td>1.087488</td>\n",
       "      <td>1.302394</td>\n",
       "      <td>-19.761664</td>\n",
       "    </tr>\n",
       "    <tr>\n",
       "      <th>3</th>\n",
       "      <td>{'cb__sampling_strategy': 'auto', 'lsvc__C': 1}</td>\n",
       "      <td>0.917289</td>\n",
       "      <td>1.358631</td>\n",
       "      <td>-48.113773</td>\n",
       "    </tr>\n",
       "    <tr>\n",
       "      <th>4</th>\n",
       "      <td>{'cb__sampling_strategy': 'auto', 'lsvc__C': 10}</td>\n",
       "      <td>0.946738</td>\n",
       "      <td>1.380741</td>\n",
       "      <td>-45.841920</td>\n",
       "    </tr>\n",
       "    <tr>\n",
       "      <th>0</th>\n",
       "      <td>{'cb__sampling_strategy': 'auto', 'lsvc__C': 0.001}</td>\n",
       "      <td>1.306560</td>\n",
       "      <td>1.403666</td>\n",
       "      <td>-7.432123</td>\n",
       "    </tr>\n",
       "  </tbody>\n",
       "</table>\n",
       "</div>"
      ],
      "text/plain": [
       "                                                params  mean_train_score  \\\n",
       "2    {'cb__sampling_strategy': 'auto', 'lsvc__C': 0.1}          0.879395   \n",
       "1   {'cb__sampling_strategy': 'auto', 'lsvc__C': 0.01}          1.087488   \n",
       "3      {'cb__sampling_strategy': 'auto', 'lsvc__C': 1}          0.917289   \n",
       "4     {'cb__sampling_strategy': 'auto', 'lsvc__C': 10}          0.946738   \n",
       "0  {'cb__sampling_strategy': 'auto', 'lsvc__C': 0.001}          1.306560   \n",
       "\n",
       "   mean_test_score    diff, %  \n",
       "2         1.292535 -46.979980  \n",
       "1         1.302394 -19.761664  \n",
       "3         1.358631 -48.113773  \n",
       "4         1.380741 -45.841920  \n",
       "0         1.403666  -7.432123  "
      ]
     },
     "metadata": {},
     "output_type": "display_data"
    }
   ],
   "source": [
    "print_cv_results(cb_grid_search, col_width=100)"
   ]
  },
  {
   "cell_type": "markdown",
   "id": "722f43a6",
   "metadata": {},
   "source": [
    "<mark>Comment:</mark> ???"
   ]
  },
  {
   "cell_type": "code",
   "execution_count": 19,
   "id": "3f994d50",
   "metadata": {
    "ExecuteTime": {
     "end_time": "2023-02-24T17:14:05.389146Z",
     "start_time": "2023-02-24T17:13:57.024497Z"
    },
    "scrolled": true
   },
   "outputs": [
    {
     "data": {
      "image/png": "[encoded data removed]",
      "text/plain": [
       "<Figure size 640x480 with 2 Axes>"
      ]
     },
     "metadata": {},
     "output_type": "display_data"
    }
   ],
   "source": [
    "# cross-validation confusion matrix on the training data\n",
    "yhat = cross_val_predict(cb_grid_search.best_estimator_, Xtrain, ytrain, cv=10)\n",
    "\n",
    "ConfusionMatrixDisplay.from_predictions(ytrain, yhat, \n",
    "                                        labels=cb_grid_search.best_estimator_.classes_, \n",
    "                                        normalize=\"true\",\n",
    "                                        cmap=plt.cm.Blues);"
   ]
  },
  {
   "cell_type": "markdown",
   "id": "a32efad9",
   "metadata": {},
   "source": [
    "<mark>Comment:</mark> ???"
   ]
  },
  {
   "cell_type": "markdown",
   "id": "0c871e35",
   "metadata": {},
   "source": [
    "# Evaluate on test"
   ]
  },
  {
   "cell_type": "code",
   "execution_count": 20,
   "id": "491fc2dd",
   "metadata": {
    "ExecuteTime": {
     "end_time": "2023-02-24T17:14:05.420536Z",
     "start_time": "2023-02-24T17:14:05.392136Z"
    }
   },
   "outputs": [
    {
     "name": "stdout",
     "output_type": "stream",
     "text": [
      "              precision    recall  f1-score   support\n",
      "\n",
      "           1       0.48      0.45      0.46       448\n",
      "           2       0.23      0.19      0.21       343\n",
      "           3       0.27      0.26      0.27       589\n",
      "           4       0.32      0.32      0.32      1023\n",
      "           5       0.70      0.74      0.72      2597\n",
      "\n",
      "    accuracy                           0.53      5000\n",
      "   macro avg       0.40      0.39      0.39      5000\n",
      "weighted avg       0.52      0.53      0.52      5000\n",
      "\n",
      "Macro RMSE         1.53\n",
      "Macro MAE          1.05\n"
     ]
    }
   ],
   "source": [
    "# Unbalanced data\n",
    "evaluate_model(lsvc_grid_search.best_estimator_, ytest, Xtest)"
   ]
  },
  {
   "cell_type": "code",
   "execution_count": 21,
   "id": "7ee20ccd",
   "metadata": {
    "ExecuteTime": {
     "end_time": "2023-02-24T17:14:05.452514Z",
     "start_time": "2023-02-24T17:14:05.422530Z"
    }
   },
   "outputs": [
    {
     "name": "stdout",
     "output_type": "stream",
     "text": [
      "              precision    recall  f1-score   support\n",
      "\n",
      "           1       0.42      0.60      0.50       448\n",
      "           2       0.21      0.34      0.26       343\n",
      "           3       0.24      0.31      0.27       589\n",
      "           4       0.34      0.37      0.35      1023\n",
      "           5       0.79      0.59      0.67      2597\n",
      "\n",
      "    accuracy                           0.49      5000\n",
      "   macro avg       0.40      0.44      0.41      5000\n",
      "weighted avg       0.56      0.49      0.52      5000\n",
      "\n",
      "Macro RMSE         1.28\n",
      "Macro MAE          0.85\n"
     ]
    }
   ],
   "source": [
    "# Class balancing\n",
    "evaluate_model(cb_grid_search.best_estimator_, ytest, Xtest)"
   ]
  },
  {
   "cell_type": "markdown",
   "id": "67638e7e",
   "metadata": {},
   "source": [
    "<mark>Comment:</mark> ???"
   ]
  },
  {
   "cell_type": "markdown",
   "id": "8b493eca",
   "metadata": {},
   "source": [
    "# Citing this notebook\n",
    "\n",
    "If you use this notebook in your work, please cite it as follows:\n",
    "    \n",
    "Pekar, V. (2024). Big Data for Decision Making. Lecture examples and exercises. (Version 1.0.0). URL: https://github.com/vpekar/bd4dm"
   ]
  },
  {
   "cell_type": "code",
   "execution_count": null,
   "id": "8ef208c1",
   "metadata": {},
   "outputs": [],
   "source": []
  }
 ],
 "metadata": {
  "kernelspec": {
   "display_name": "Python 3 (ipykernel)",
   "language": "python",
   "name": "python3"
  },
  "language_info": {
   "codemirror_mode": {
    "name": "ipython",
    "version": 3
   },
   "file_extension": ".py",
   "mimetype": "text/x-python",
   "name": "python",
   "nbconvert_exporter": "python",
   "pygments_lexer": "ipython3",
   "version": "3.9.18"
  },
  "toc": {
   "base_numbering": 1,
   "nav_menu": {},
   "number_sections": true,
   "sideBar": true,
   "skip_h1_title": false,
   "title_cell": "Table of Contents",
   "title_sidebar": "Contents",
   "toc_cell": false,
   "toc_position": {
    "height": "calc(100% - 180px)",
    "left": "10px",
    "top": "150px",
    "width": "232.727px"
   },
   "toc_section_display": true,
   "toc_window_display": true
  }
 },
 "nbformat": 4,
 "nbformat_minor": 5
}
