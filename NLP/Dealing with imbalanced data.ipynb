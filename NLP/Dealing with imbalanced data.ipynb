{
 "cells": [
  {
   "cell_type": "markdown",
   "metadata": {},
   "source": [
    "# Helpfulness of a product review\n",
    "\n",
    "The notebook creates classification models of the helpfulness of a customer review. It is trained and evaluated on data where each review is provided with the number of helpfulness votes given by readers.\n",
    "\n",
    "The data can be obtained at this [address](https://jmcauley.ucsd.edu/data/amazon/), download the file [reviews_Cell_Phones_and_Accessories_5.json.gz](http://snap.stanford.edu/data/amazon/productGraph/categoryFiles/reviews_Cell_Phones_and_Accessories_5.json.gz) and put it into the same folder as the notebook."
   ]
  },
  {
   "cell_type": "code",
   "execution_count": 1,
   "metadata": {
    "ExecuteTime": {
     "end_time": "2022-03-15T12:02:57.334371Z",
     "start_time": "2022-03-15T12:02:52.889553Z"
    }
   },
   "outputs": [
    {
     "name": "stderr",
     "output_type": "stream",
     "text": [
      "Intel(R) Extension for Scikit-learn* enabled (https://github.com/intel/scikit-learn-intelex)\n"
     ]
    }
   ],
   "source": [
    "import logging\n",
    "logging.basicConfig()\n",
    "logging.getLogger(\"SKLEARNEX\").setLevel(logging.ERROR)\n",
    "\n",
    "import json\n",
    "import gzip\n",
    "import pandas as pd\n",
    "import numpy as np\n",
    "import matplotlib.pyplot as plt\n",
    "\n",
    "from sklearn.metrics import precision_recall_fscore_support, classification_report\n",
    "from sklearn.metrics import confusion_matrix, ConfusionMatrixDisplay\n",
    "from sklearn.model_selection import cross_val_predict"
   ]
  },
  {
   "cell_type": "code",
   "execution_count": 2,
   "metadata": {
    "ExecuteTime": {
     "end_time": "2022-03-15T12:02:57.349331Z",
     "start_time": "2022-03-15T12:02:57.337365Z"
    }
   },
   "outputs": [],
   "source": [
    "def evaluate_on_test(model, ytest, Xtest):\n",
    "    yhat = model.predict(Xtest)\n",
    "    print(classification_report(ytest, yhat))"
   ]
  },
  {
   "cell_type": "markdown",
   "metadata": {},
   "source": [
    "# Load the data\n",
    "\n",
    "Read the reviews and use only those that received 5 or more helpfulness votes.\n",
    "\n",
    "We will keep only the text of the review and create a helpfulness score, which is the number of upvotes divided by the total number of votes."
   ]
  },
  {
   "cell_type": "code",
   "execution_count": 3,
   "metadata": {
    "ExecuteTime": {
     "end_time": "2022-03-15T12:03:02.482311Z",
     "start_time": "2022-03-15T12:02:57.351327Z"
    }
   },
   "outputs": [],
   "source": [
    "texts = []\n",
    "targets = []\n",
    "for line in gzip.open(\"reviews_Cell_Phones_and_Accessories_5.json.gz\", 'r'):\n",
    "    d = json.loads(line)\n",
    "    h = d['helpful']\n",
    "    t = d['reviewText']\n",
    "    if h[1] < 5:\n",
    "        continue\n",
    "    texts.append(t)\n",
    "    # the helpfulness of a review is the fraction of readers who found the review helpful\n",
    "    score = h[0]/h[1]\n",
    "    targets.append(score)\n",
    "\n",
    "df = pd.DataFrame({\"text\": texts, \"target\": targets})"
   ]
  },
  {
   "cell_type": "code",
   "execution_count": 4,
   "metadata": {
    "ExecuteTime": {
     "end_time": "2022-03-15T12:03:02.502734Z",
     "start_time": "2022-03-15T12:03:02.484339Z"
    }
   },
   "outputs": [
    {
     "data": {
      "text/plain": [
       "(10619, 2)"
      ]
     },
     "execution_count": 4,
     "metadata": {},
     "output_type": "execute_result"
    }
   ],
   "source": [
    "df.shape"
   ]
  },
  {
   "cell_type": "markdown",
   "metadata": {},
   "source": [
    "# Data cleaning and transformation\n",
    "\n",
    "Using the helpfulness score, we will create helpfulness classes, using the `cut` method of pandas. First, we'll try creating 10 classes using 10 equally spaced \"bins\":"
   ]
  },
  {
   "cell_type": "code",
   "execution_count": 5,
   "metadata": {
    "ExecuteTime": {
     "end_time": "2022-03-15T12:03:02.530457Z",
     "start_time": "2022-03-15T12:03:02.505828Z"
    }
   },
   "outputs": [],
   "source": [
    "df[\"target_cat\"] = pd.cut(df[\"target\"], bins=10, labels=[x for x in range(10)])"
   ]
  },
  {
   "cell_type": "code",
   "execution_count": 6,
   "metadata": {
    "ExecuteTime": {
     "end_time": "2022-03-15T12:03:02.868267Z",
     "start_time": "2022-03-15T12:03:02.532416Z"
    }
   },
   "outputs": [
    {
     "data": {
      "text/plain": [
       "<AxesSubplot:>"
      ]
     },
     "execution_count": 6,
     "metadata": {},
     "output_type": "execute_result"
    },
    {
     "data": {
      "image/png": "[encoded data removed]",
      "text/plain": [
       "<Figure size 432x288 with 1 Axes>"
      ]
     },
     "metadata": {
      "needs_background": "light"
     },
     "output_type": "display_data"
    }
   ],
   "source": [
    "df[\"target_cat\"].value_counts().sort_index().plot(kind=\"bar\")"
   ]
  },
  {
   "cell_type": "markdown",
   "metadata": {},
   "source": [
    "We see that there are very few reviews that belong to categories reflecting poor helpfulness (categories 0-4), and that there are very many reviews that end up in categories reflecting a lot of helpfulness (categories 7, 8 and 9).\n",
    "\n",
    "So we'll create 3 bins, with custom bins: reviews with the score between 0 and 0.5 will be put into the class \"no\" (meaning \"not helpful\"), between 0.5 and 0.8 will be put into class \"undecided\", and between 0.8 and 1.0 into the class \"yes\" (meaning \"helpful\")."
   ]
  },
  {
   "cell_type": "code",
   "execution_count": 7,
   "metadata": {
    "ExecuteTime": {
     "end_time": "2022-03-15T12:03:02.883225Z",
     "start_time": "2022-03-15T12:03:02.870262Z"
    }
   },
   "outputs": [],
   "source": [
    "df[\"target_cat\"] = pd.cut(df[\"target\"], bins=[-0.001, 0.5, 0.8, 1.0], labels=[\"no\", \"undecided\", \"yes\"])"
   ]
  },
  {
   "cell_type": "code",
   "execution_count": 8,
   "metadata": {
    "ExecuteTime": {
     "end_time": "2022-03-15T12:03:03.086895Z",
     "start_time": "2022-03-15T12:03:02.885224Z"
    }
   },
   "outputs": [
    {
     "data": {
      "text/plain": [
       "<AxesSubplot:>"
      ]
     },
     "execution_count": 8,
     "metadata": {},
     "output_type": "execute_result"
    },
    {
     "data": {
      "image/png": "[encoded data removed]",
      "text/plain": [
       "<Figure size 432x288 with 1 Axes>"
      ]
     },
     "metadata": {
      "needs_background": "light"
     },
     "output_type": "display_data"
    }
   ],
   "source": [
    "df[\"target_cat\"].value_counts().sort_index().plot(kind=\"bar\")"
   ]
  },
  {
   "cell_type": "markdown",
   "metadata": {},
   "source": [
    "Now we see that the \"no\" class still contains around 6 times less reviews than the \"yes\" class. To simplify things, we will remove the \"undecided\" class from the data, so the decision between helpful and unhelpful reviews is a clear binary decision."
   ]
  },
  {
   "cell_type": "code",
   "execution_count": 9,
   "metadata": {
    "ExecuteTime": {
     "end_time": "2022-03-15T12:03:03.105775Z",
     "start_time": "2022-03-15T12:03:03.088892Z"
    }
   },
   "outputs": [],
   "source": [
    "df = df[df[\"target_cat\"] != \"undecided\"]"
   ]
  },
  {
   "cell_type": "code",
   "execution_count": 10,
   "metadata": {
    "ExecuteTime": {
     "end_time": "2022-03-15T12:03:03.121732Z",
     "start_time": "2022-03-15T12:03:03.110761Z"
    }
   },
   "outputs": [],
   "source": [
    "df.reset_index(inplace=True, drop=True)"
   ]
  },
  {
   "cell_type": "code",
   "execution_count": 11,
   "metadata": {
    "ExecuteTime": {
     "end_time": "2022-03-15T12:03:03.137692Z",
     "start_time": "2022-03-15T12:03:03.124726Z"
    }
   },
   "outputs": [
    {
     "data": {
      "text/plain": [
       "(7325, 3)"
      ]
     },
     "execution_count": 11,
     "metadata": {},
     "output_type": "execute_result"
    }
   ],
   "source": [
    "df.shape"
   ]
  },
  {
   "cell_type": "markdown",
   "metadata": {},
   "source": [
    "There are now 7325 reviews left in the dataset.\n",
    "\n",
    "Now we'll create a train and test split, using stratfied sampling, to ensure that the target classes have equal distributions in the training and test data."
   ]
  },
  {
   "cell_type": "code",
   "execution_count": 12,
   "metadata": {
    "ExecuteTime": {
     "end_time": "2022-03-15T12:03:03.169607Z",
     "start_time": "2022-03-15T12:03:03.140684Z"
    }
   },
   "outputs": [],
   "source": [
    "from sklearn.model_selection import train_test_split\n",
    "\n",
    "trainset, testset = train_test_split(df, test_size=0.1, \n",
    "                                     stratify=df[\"target_cat\"], random_state=7)"
   ]
  },
  {
   "cell_type": "markdown",
   "metadata": {},
   "source": [
    "Delete the column with numerical helpfulness scores:"
   ]
  },
  {
   "cell_type": "code",
   "execution_count": 13,
   "metadata": {
    "ExecuteTime": {
     "end_time": "2022-03-15T12:03:03.184572Z",
     "start_time": "2022-03-15T12:03:03.171603Z"
    }
   },
   "outputs": [],
   "source": [
    "del trainset[\"target\"]\n",
    "del testset[\"target\"]"
   ]
  },
  {
   "cell_type": "code",
   "execution_count": 14,
   "metadata": {
    "ExecuteTime": {
     "end_time": "2022-03-15T12:03:03.200526Z",
     "start_time": "2022-03-15T12:03:03.188563Z"
    }
   },
   "outputs": [
    {
     "name": "stdout",
     "output_type": "stream",
     "text": [
      "6592 train and 733 test instances\n"
     ]
    }
   ],
   "source": [
    "print(f\"{len(trainset)} train and {len(testset)} test instances\")"
   ]
  },
  {
   "cell_type": "markdown",
   "metadata": {},
   "source": [
    "We can inspect a couple of actual reviews and their scores."
   ]
  },
  {
   "cell_type": "code",
   "execution_count": 15,
   "metadata": {
    "ExecuteTime": {
     "end_time": "2022-03-15T12:03:03.231446Z",
     "start_time": "2022-03-15T12:03:03.203519Z"
    }
   },
   "outputs": [
    {
     "data": {
      "text/html": [
       "<div>\n",
       "<style scoped>\n",
       "    .dataframe tbody tr th:only-of-type {\n",
       "        vertical-align: middle;\n",
       "    }\n",
       "\n",
       "    .dataframe tbody tr th {\n",
       "        vertical-align: top;\n",
       "    }\n",
       "\n",
       "    .dataframe thead th {\n",
       "        text-align: right;\n",
       "    }\n",
       "</style>\n",
       "<table border=\"1\" class=\"dataframe\">\n",
       "  <thead>\n",
       "    <tr style=\"text-align: right;\">\n",
       "      <th></th>\n",
       "      <th>text</th>\n",
       "      <th>target_cat</th>\n",
       "    </tr>\n",
       "  </thead>\n",
       "  <tbody>\n",
       "    <tr>\n",
       "      <th>3648</th>\n",
       "      <td>Let me say this up front.  I would love to have a great Android phone.  I love Android's operating system much better than IOS.  The flexibility, the interconnection of apps, and screen size all make me love Android phones.The crucial difference is fragmentation and manufacturer support.My wife had the HTC Evo a couple of years ago and HTC did a decent job of patching and updating Android.  I had a Samsung Epic 4G and it was a crippled mess with Samsung pushing few updates to the phone, including one that hobbled an already awful GPS.My wife liked her Evo, so when it came time to upgrade, we saw the rather lackluster reports of \"improvements\" forthcoming to the iPhone 5 (we were hoping for a large screen version) and decided to stick with Android and the new Evo, since it was going to be a marked improvement over the Evo my wife found reliable.We got the phone and were pretty happy at first.  The Android upgrade and the faster phone meant that it was a joy to operate.  We loved the...</td>\n",
       "      <td>yes</td>\n",
       "    </tr>\n",
       "    <tr>\n",
       "      <th>5543</th>\n",
       "      <td>I use a silicone cover on my phone and this arm band is big enough to fit the phone with the silicone cover on.</td>\n",
       "      <td>yes</td>\n",
       "    </tr>\n",
       "    <tr>\n",
       "      <th>2646</th>\n",
       "      <td>This isn't the first rechargeable backup battery I've used, but it's the first one that gets all the important things right. First of all it has a generous 2000mAh capacity which is enough to bring my iPhone 3Gs from dead to full power on a single recharge (albeit it is pretty much used up after that). It also delivers USB power at a full 1 amp instead of the slower 500 milliamp that others do, this let you charge finicky items like tablets or completely drained blackberries too. And it's universal USB too, it comes with a cable that charges itself over USB (standard A size to micro), which can be flipped around to the output plug to charge a multitude of micro USB devices (it also has a mini USB adapter included). So it has the open standards pretty much covered which is most Android and feature phones, but if you have an iPhone, Samsung, or other proprietary brand you'll still need your existing data/charge cable to use it. Fortunately I have more than I need from a history of iP...</td>\n",
       "      <td>yes</td>\n",
       "    </tr>\n",
       "    <tr>\n",
       "      <th>1334</th>\n",
       "      <td>Perfect for the AT&amp;T Mifi, which has the stupid annoying design that will shut off wireless when a data cable is connected.  Really--who comes up with these brain dead ideas?  This is perfect because I can power the Mifi from the USB port all day long.</td>\n",
       "      <td>yes</td>\n",
       "    </tr>\n",
       "    <tr>\n",
       "      <th>6308</th>\n",
       "      <td>All of my previous reviews of wireless headphones were focused around sound quality, noise isolation, and ear tip fitment. Now, here comes a new chapter in wireless headphones with all these rules out of the window. Based on a military technology of bone conduction, AfterShokz were designed to sit outside of your ears conducting the sound through your cheekbones to your inner ear - a shortcut bypassing your eardrums. I know, the description of this process doesn't sound too attractive, but once you get these wraparound headphones on - it will make a perfect sense. I was a bit confused myself reading the description, that's why I couldn't wait to receive my review sample, to test it out, and to share my first hand experience.Once you open the box, the first thing you notice is a very nice and sturdy carrying case which is the size of the box itself. These are not earbuds or some foldable headphones, but rather a full wraparound band headphones with a unique design shape where having...</td>\n",
       "      <td>yes</td>\n",
       "    </tr>\n",
       "    <tr>\n",
       "      <th>7076</th>\n",
       "      <td>Wanted an Apple &amp;#34;certified&amp;#34; charger for my iPhone 5, and this one fits the bill. Well made and charges super fast.  I only wish the cord was a little longer -- plugging it into the socket in my glove box make it a little awkward based on length of cord, but it's still a great product.4.5/5 stars</td>\n",
       "      <td>yes</td>\n",
       "    </tr>\n",
       "    <tr>\n",
       "      <th>4794</th>\n",
       "      <td>I installed this screen protector on my husband's GNote II as a test. I understand that the trade-off for an anti-glare screen protector is a bit of hit on perceived clarity and brightness of the screen. Personally, I thought it did a great job of making the screen more visible and less prone to glare, especially outside. However, my husband did not like this screen protector because he felt that it made the screen &amp;#34;less clear&amp;#34; and less vibrant, and the anti-glare benefit could not overcome those shortcomings. I ended up removing it on his request and installing a Tech Armor HD Clear screen protector instead and he is happier.If I didn't already have a screen protector on my GNote II, I would consider applying this and testing it myself. It seemed to reduce fingerprints, which is a problem on very clear screen protectors (like mine).I will say that if your screen looks darker after applying this screen protector, I'd suggest turning up the brightness a notch to compensate f...</td>\n",
       "      <td>yes</td>\n",
       "    </tr>\n",
       "    <tr>\n",
       "      <th>4203</th>\n",
       "      <td>The protector is a nice, thick film. It retains sensitivity well. The only issue (besides my own incompetence on installing) is that your finger doesn't slide even remotely as well as it does without the protector. Makes Swype difficult.</td>\n",
       "      <td>yes</td>\n",
       "    </tr>\n",
       "    <tr>\n",
       "      <th>5220</th>\n",
       "      <td>Why buy a slim and thin iPhone 5 and then put a giant foam case (otter box) on it? This SPIGEN SGP SGP10088 Slim Armor Case for iPhone 5 will not add any noticeable size to your iPhone 5. I have used SPIGEN since I purchased a Droid Razor 2 years ago. I needed a case that will protect my phone but not add size because I carry it in my pocket.This is a great protective case for the iPhone 5. Mine looks as if there is no case on the iPhone. Mine is a slate metal, two tone color that adds a cool look to the phone. It protects well against accidents but it is much smaller than many protective cases. I highly recommend this case for someone like myself that carries a phone in your front pant pocket.</td>\n",
       "      <td>yes</td>\n",
       "    </tr>\n",
       "    <tr>\n",
       "      <th>3899</th>\n",
       "      <td>I prefer a thicker pen due to my arthritis,  and one of the pens has already fallen apart. Therefore they are just ok.</td>\n",
       "      <td>yes</td>\n",
       "    </tr>\n",
       "  </tbody>\n",
       "</table>\n",
       "</div>"
      ],
      "text/plain": [
       "                                                                                                                                                                                                                                                                                                                                                                                                                                                                                                                                                                                                                                                                                                                                                                                                                                                                                                                                                                                                                                         text  \\\n",
       "3648  Let me say this up front.  I would love to have a great Android phone.  I love Android's operating system much better than IOS.  The flexibility, the interconnection of apps, and screen size all make me love Android phones.The crucial difference is fragmentation and manufacturer support.My wife had the HTC Evo a couple of years ago and HTC did a decent job of patching and updating Android.  I had a Samsung Epic 4G and it was a crippled mess with Samsung pushing few updates to the phone, including one that hobbled an already awful GPS.My wife liked her Evo, so when it came time to upgrade, we saw the rather lackluster reports of \"improvements\" forthcoming to the iPhone 5 (we were hoping for a large screen version) and decided to stick with Android and the new Evo, since it was going to be a marked improvement over the Evo my wife found reliable.We got the phone and were pretty happy at first.  The Android upgrade and the faster phone meant that it was a joy to operate.  We loved the...   \n",
       "5543                                                                                                                                                                                                                                                                                                                                                                                                                                                                                                                                                                                                                                                                                                                                                                                                                                                                                                                          I use a silicone cover on my phone and this arm band is big enough to fit the phone with the silicone cover on.   \n",
       "2646  This isn't the first rechargeable backup battery I've used, but it's the first one that gets all the important things right. First of all it has a generous 2000mAh capacity which is enough to bring my iPhone 3Gs from dead to full power on a single recharge (albeit it is pretty much used up after that). It also delivers USB power at a full 1 amp instead of the slower 500 milliamp that others do, this let you charge finicky items like tablets or completely drained blackberries too. And it's universal USB too, it comes with a cable that charges itself over USB (standard A size to micro), which can be flipped around to the output plug to charge a multitude of micro USB devices (it also has a mini USB adapter included). So it has the open standards pretty much covered which is most Android and feature phones, but if you have an iPhone, Samsung, or other proprietary brand you'll still need your existing data/charge cable to use it. Fortunately I have more than I need from a history of iP...   \n",
       "1334                                                                                                                                                                                                                                                                                                                                                                                                                                                                                                                                                                                                                                                                                                                                                                             Perfect for the AT&T Mifi, which has the stupid annoying design that will shut off wireless when a data cable is connected.  Really--who comes up with these brain dead ideas?  This is perfect because I can power the Mifi from the USB port all day long.   \n",
       "6308  All of my previous reviews of wireless headphones were focused around sound quality, noise isolation, and ear tip fitment. Now, here comes a new chapter in wireless headphones with all these rules out of the window. Based on a military technology of bone conduction, AfterShokz were designed to sit outside of your ears conducting the sound through your cheekbones to your inner ear - a shortcut bypassing your eardrums. I know, the description of this process doesn't sound too attractive, but once you get these wraparound headphones on - it will make a perfect sense. I was a bit confused myself reading the description, that's why I couldn't wait to receive my review sample, to test it out, and to share my first hand experience.Once you open the box, the first thing you notice is a very nice and sturdy carrying case which is the size of the box itself. These are not earbuds or some foldable headphones, but rather a full wraparound band headphones with a unique design shape where having...   \n",
       "7076                                                                                                                                                                                                                                                                                                                                                                                                                                                                                                                                                                                                                                                                                                                         Wanted an Apple &#34;certified&#34; charger for my iPhone 5, and this one fits the bill. Well made and charges super fast.  I only wish the cord was a little longer -- plugging it into the socket in my glove box make it a little awkward based on length of cord, but it's still a great product.4.5/5 stars   \n",
       "4794  I installed this screen protector on my husband's GNote II as a test. I understand that the trade-off for an anti-glare screen protector is a bit of hit on perceived clarity and brightness of the screen. Personally, I thought it did a great job of making the screen more visible and less prone to glare, especially outside. However, my husband did not like this screen protector because he felt that it made the screen &#34;less clear&#34; and less vibrant, and the anti-glare benefit could not overcome those shortcomings. I ended up removing it on his request and installing a Tech Armor HD Clear screen protector instead and he is happier.If I didn't already have a screen protector on my GNote II, I would consider applying this and testing it myself. It seemed to reduce fingerprints, which is a problem on very clear screen protectors (like mine).I will say that if your screen looks darker after applying this screen protector, I'd suggest turning up the brightness a notch to compensate f...   \n",
       "4203                                                                                                                                                                                                                                                                                                                                                                                                                                                                                                                                                                                                                                                                                                                                                                                            The protector is a nice, thick film. It retains sensitivity well. The only issue (besides my own incompetence on installing) is that your finger doesn't slide even remotely as well as it does without the protector. Makes Swype difficult.   \n",
       "5220                                                                                                                                                                                                                                                                                                          Why buy a slim and thin iPhone 5 and then put a giant foam case (otter box) on it? This SPIGEN SGP SGP10088 Slim Armor Case for iPhone 5 will not add any noticeable size to your iPhone 5. I have used SPIGEN since I purchased a Droid Razor 2 years ago. I needed a case that will protect my phone but not add size because I carry it in my pocket.This is a great protective case for the iPhone 5. Mine looks as if there is no case on the iPhone. Mine is a slate metal, two tone color that adds a cool look to the phone. It protects well against accidents but it is much smaller than many protective cases. I highly recommend this case for someone like myself that carries a phone in your front pant pocket.   \n",
       "3899                                                                                                                                                                                                                                                                                                                                                                                                                                                                                                                                                                                                                                                                                                                                                                                                                                                                                                                   I prefer a thicker pen due to my arthritis,  and one of the pens has already fallen apart. Therefore they are just ok.   \n",
       "\n",
       "     target_cat  \n",
       "3648        yes  \n",
       "5543        yes  \n",
       "2646        yes  \n",
       "1334        yes  \n",
       "6308        yes  \n",
       "7076        yes  \n",
       "4794        yes  \n",
       "4203        yes  \n",
       "5220        yes  \n",
       "3899        yes  "
      ]
     },
     "execution_count": 15,
     "metadata": {},
     "output_type": "execute_result"
    }
   ],
   "source": [
    "pd.set_option('display.max_colwidth', 1000)\n",
    "trainset.head(10)"
   ]
  },
  {
   "cell_type": "code",
   "execution_count": 16,
   "metadata": {
    "ExecuteTime": {
     "end_time": "2022-03-15T12:03:03.246408Z",
     "start_time": "2022-03-15T12:03:03.233447Z"
    }
   },
   "outputs": [],
   "source": [
    "# drop labels for training set, but keep all others\n",
    "Xtrain = trainset.drop(\"target_cat\", axis=1)\n",
    "ytrain = trainset[\"target_cat\"].copy()\n",
    "\n",
    "Xtest = testset.drop(\"target_cat\", axis=1)\n",
    "ytest = testset[\"target_cat\"].copy()"
   ]
  },
  {
   "cell_type": "markdown",
   "metadata": {},
   "source": [
    "Next, convert the reviews to a word-document matrix using `CountVectorizer`:"
   ]
  },
  {
   "cell_type": "code",
   "execution_count": 17,
   "metadata": {
    "ExecuteTime": {
     "end_time": "2022-03-15T12:03:03.294282Z",
     "start_time": "2022-03-15T12:03:03.249399Z"
    }
   },
   "outputs": [],
   "source": [
    "import re\n",
    "\n",
    "from sklearn.feature_extraction.text import CountVectorizer\n",
    "\n",
    "\n",
    "def custom_preprocessor(text):\n",
    "    \"\"\"Replace all numbers with a symbol\n",
    "    \"\"\"\n",
    "    \n",
    "    # replace digits\n",
    "    text = re.compile(\"\\d+\").sub(\"digitsymbol\", text)\n",
    "        \n",
    "    return text\n",
    "\n",
    "\n",
    "count_vectorizer = CountVectorizer(\n",
    "    strip_accents=\"unicode\", # convert accented chars to non-accented versions\n",
    "    lowercase=True,\n",
    "    tokenizer=None,        # None - use the default tokenizer\n",
    "    preprocessor=custom_preprocessor,     # None - use the default preprocessor\n",
    "    stop_words=\"english\",\n",
    "    ngram_range=(1,3),     # min and max range of ngrams\n",
    "    analyzer=\"word\",       # split the document into words, rather than e.g. characters\n",
    "    max_df=0.9,            # ignore words with df greater than the value (int represents count, \n",
    "                           # float represents proportion of documents)\n",
    "    min_df=5               # ignore words with df lower than the value (int represents count, \n",
    "                           # float represents proportion)\n",
    ")"
   ]
  },
  {
   "cell_type": "code",
   "execution_count": 18,
   "metadata": {
    "ExecuteTime": {
     "end_time": "2022-03-15T12:03:10.532487Z",
     "start_time": "2022-03-15T12:03:03.297278Z"
    }
   },
   "outputs": [],
   "source": [
    "docs_train_counts = count_vectorizer.fit_transform(Xtrain['text'])"
   ]
  },
  {
   "cell_type": "code",
   "execution_count": 19,
   "metadata": {
    "ExecuteTime": {
     "end_time": "2022-03-15T12:03:10.547729Z",
     "start_time": "2022-03-15T12:03:10.533999Z"
    }
   },
   "outputs": [
    {
     "data": {
      "text/plain": [
       "(6592, 34584)"
      ]
     },
     "execution_count": 19,
     "metadata": {},
     "output_type": "execute_result"
    }
   ],
   "source": [
    "docs_train_counts.shape"
   ]
  },
  {
   "cell_type": "code",
   "execution_count": 20,
   "metadata": {
    "ExecuteTime": {
     "end_time": "2022-03-15T12:03:11.135911Z",
     "start_time": "2022-03-15T12:03:10.549725Z"
    }
   },
   "outputs": [],
   "source": [
    "docs_test_counts = count_vectorizer.transform(Xtest['text'])"
   ]
  },
  {
   "cell_type": "markdown",
   "metadata": {},
   "source": [
    "The matrix has been created, but it has a very large number of columns (34,584). This can make all the processing of the data very slow. To deal with this, we will use Latent Semantic Indexing (LSA), which is a technique commonly used in Information Retrieval to represent documents in a compact way while preserving the meaning captured by the word counts. \n",
    "\n",
    "LSA involves first weighting each cell in the matrix using TFIDF weights (term frequency multiplied by inverse document frequency, which gives a greater weight to words that (1) appeared a lot in a given document and (2) appeared in few other documents. In this way, the weights encourage words that are prominent in a given document and yet are specific to that document."
   ]
  },
  {
   "cell_type": "code",
   "execution_count": 21,
   "metadata": {
    "ExecuteTime": {
     "end_time": "2022-03-15T12:03:11.753528Z",
     "start_time": "2022-03-15T12:03:11.138420Z"
    }
   },
   "outputs": [],
   "source": [
    "from sklearn.feature_extraction.text import TfidfTransformer\n",
    "\n",
    "tfidf_transformer = TfidfTransformer()\n",
    "\n",
    "# fit and transform the training set with \"fit_transform()\"\n",
    "docs_train_tfidf = tfidf_transformer.fit_transform(docs_train_counts)\n",
    "\n",
    "# transform test\n",
    "docs_test_tfidf = tfidf_transformer.transform(docs_test_counts)"
   ]
  },
  {
   "cell_type": "markdown",
   "metadata": {},
   "source": [
    "The second step in LSA is to reduce the dimensionality of the matrix using Singular Value Decomposition. Here, we will specify the number of reduced dimensions of the matrix to be 10. The more common value to use is 300, but here we use a much smaller value, for a quick demonstration."
   ]
  },
  {
   "cell_type": "code",
   "execution_count": 22,
   "metadata": {
    "ExecuteTime": {
     "end_time": "2022-03-15T12:03:12.439657Z",
     "start_time": "2022-03-15T12:03:11.757516Z"
    }
   },
   "outputs": [],
   "source": [
    "from sklearn.decomposition import TruncatedSVD\n",
    "\n",
    "svd = TruncatedSVD(n_components=10)\n",
    "X_train_svd = svd.fit_transform(docs_train_tfidf)\n",
    "X_test_svd = svd.transform(docs_test_tfidf)"
   ]
  },
  {
   "cell_type": "markdown",
   "metadata": {},
   "source": [
    "Let's make sure the matrix has now only 10 dimensions, but the same number of rows (i.e. each review is now represented as a vector of 10 values):"
   ]
  },
  {
   "cell_type": "code",
   "execution_count": 23,
   "metadata": {
    "ExecuteTime": {
     "end_time": "2022-03-15T12:03:12.455614Z",
     "start_time": "2022-03-15T12:03:12.441653Z"
    }
   },
   "outputs": [
    {
     "data": {
      "text/plain": [
       "(6592, 10)"
      ]
     },
     "execution_count": 23,
     "metadata": {},
     "output_type": "execute_result"
    }
   ],
   "source": [
    "X_train_svd.shape"
   ]
  },
  {
   "cell_type": "code",
   "execution_count": 24,
   "metadata": {
    "ExecuteTime": {
     "end_time": "2022-03-15T12:03:12.470599Z",
     "start_time": "2022-03-15T12:03:12.457610Z"
    }
   },
   "outputs": [],
   "source": [
    "Xtrain, Xtest = X_train_svd, X_test_svd"
   ]
  },
  {
   "cell_type": "markdown",
   "metadata": {},
   "source": [
    "# Baseline\n",
    "\n",
    "Calculate the F-score for the majority baseline (every class label is \"yes\"):"
   ]
  },
  {
   "cell_type": "code",
   "execution_count": 25,
   "metadata": {
    "ExecuteTime": {
     "end_time": "2022-03-15T12:03:12.486570Z",
     "start_time": "2022-03-15T12:03:12.473569Z"
    }
   },
   "outputs": [
    {
     "data": {
      "text/plain": [
       "yes          5608\n",
       "no            984\n",
       "undecided       0\n",
       "Name: target_cat, dtype: int64"
      ]
     },
     "execution_count": 25,
     "metadata": {},
     "output_type": "execute_result"
    }
   ],
   "source": [
    "trainset[\"target_cat\"].value_counts()"
   ]
  },
  {
   "cell_type": "code",
   "execution_count": 26,
   "metadata": {
    "ExecuteTime": {
     "end_time": "2022-03-15T12:03:12.502491Z",
     "start_time": "2022-03-15T12:03:12.489561Z"
    }
   },
   "outputs": [],
   "source": [
    "n_yes = trainset[\"target_cat\"].value_counts()[\"yes\"]\n",
    "n_instances = trainset.shape[0]"
   ]
  },
  {
   "cell_type": "code",
   "execution_count": 27,
   "metadata": {
    "ExecuteTime": {
     "end_time": "2022-03-15T12:03:12.517452Z",
     "start_time": "2022-03-15T12:03:12.505485Z"
    }
   },
   "outputs": [
    {
     "name": "stdout",
     "output_type": "stream",
     "text": [
      "Precision: 0.42536\n",
      "Recall: 0.5\n",
      "F-score: 0.45967\n"
     ]
    }
   ],
   "source": [
    "# For the \"Yes\" label, the accuracy measures will be:\n",
    "yes_precision = n_yes/n_instances\n",
    "yes_recall = n_yes/n_yes\n",
    "yes_fscore = 2/(1/yes_precision + 1/yes_recall)\n",
    "\n",
    "# For the \"no\" label, it will be:\n",
    "no_precision = 0.0\n",
    "no_recall = 0.0\n",
    "no_fscore = 0.0\n",
    "\n",
    "# The averages of the two classes, i.e. the eventual baseline scores:\n",
    "p = (yes_precision+no_precision)/2\n",
    "r = (yes_recall+no_recall)/2\n",
    "f = (yes_fscore+no_fscore)/2\n",
    "\n",
    "print(f\"Precision: {p:.5}\")\n",
    "print(f\"Recall: {r:.5}\")\n",
    "print(f\"F-score: {f:.5}\")"
   ]
  },
  {
   "cell_type": "markdown",
   "metadata": {},
   "source": [
    "# Train a model"
   ]
  },
  {
   "cell_type": "markdown",
   "metadata": {},
   "source": [
    "## Unbalanced data\n",
    "\n",
    "First, we build a Random Forest model on the unbalanced data."
   ]
  },
  {
   "cell_type": "code",
   "execution_count": 28,
   "metadata": {
    "ExecuteTime": {
     "end_time": "2022-03-15T12:03:44.460589Z",
     "start_time": "2022-03-15T12:03:12.526903Z"
    }
   },
   "outputs": [
    {
     "data": {
      "text/plain": [
       "GridSearchCV(cv=10, estimator=RandomForestClassifier(random_state=7),\n",
       "             param_grid=[{'max_depth': [5, None],\n",
       "                          'n_estimators': [100, 200, 500]}],\n",
       "             return_train_score=True, scoring='f1_macro')"
      ]
     },
     "execution_count": 28,
     "metadata": {},
     "output_type": "execute_result"
    }
   ],
   "source": [
    "from sklearn.model_selection import GridSearchCV\n",
    "from sklearn.ensemble import RandomForestClassifier\n",
    "\n",
    "# specify the hyperparameters and their values\n",
    "param_grid = [\n",
    "    {'n_estimators': [100, 200, 500],\n",
    "     'max_depth': [5, None]},\n",
    "]\n",
    "\n",
    "forest = RandomForestClassifier(random_state=7)\n",
    "\n",
    "rf_grid_search = GridSearchCV(forest, param_grid, cv=10, \n",
    "                              scoring='f1_macro',\n",
    "                              return_train_score=True)\n",
    "\n",
    "rf_grid_search.fit(Xtrain, ytrain)"
   ]
  },
  {
   "cell_type": "code",
   "execution_count": 29,
   "metadata": {
    "ExecuteTime": {
     "end_time": "2022-03-15T12:03:44.475942Z",
     "start_time": "2022-03-15T12:03:44.463580Z"
    }
   },
   "outputs": [
    {
     "data": {
      "text/plain": [
       "RandomForestClassifier(n_estimators=500, random_state=7)"
      ]
     },
     "execution_count": 29,
     "metadata": {},
     "output_type": "execute_result"
    }
   ],
   "source": [
    "# the best model\n",
    "rf_grid_search.best_estimator_"
   ]
  },
  {
   "cell_type": "code",
   "execution_count": 30,
   "metadata": {
    "ExecuteTime": {
     "end_time": "2022-03-15T12:03:44.506861Z",
     "start_time": "2022-03-15T12:03:44.477937Z"
    },
    "scrolled": true
   },
   "outputs": [
    {
     "data": {
      "text/html": [
       "<div>\n",
       "<style scoped>\n",
       "    .dataframe tbody tr th:only-of-type {\n",
       "        vertical-align: middle;\n",
       "    }\n",
       "\n",
       "    .dataframe tbody tr th {\n",
       "        vertical-align: top;\n",
       "    }\n",
       "\n",
       "    .dataframe thead th {\n",
       "        text-align: right;\n",
       "    }\n",
       "</style>\n",
       "<table border=\"1\" class=\"dataframe\">\n",
       "  <thead>\n",
       "    <tr style=\"text-align: right;\">\n",
       "      <th></th>\n",
       "      <th>params</th>\n",
       "      <th>mean_train_score</th>\n",
       "      <th>mean_test_score</th>\n",
       "      <th>diff, %</th>\n",
       "    </tr>\n",
       "  </thead>\n",
       "  <tbody>\n",
       "    <tr>\n",
       "      <th>5</th>\n",
       "      <td>{'max_depth': None, 'n_estimators': 500}</td>\n",
       "      <td>0.999103</td>\n",
       "      <td>0.516417</td>\n",
       "      <td>48.311976</td>\n",
       "    </tr>\n",
       "    <tr>\n",
       "      <th>3</th>\n",
       "      <td>{'max_depth': None, 'n_estimators': 100}</td>\n",
       "      <td>0.999103</td>\n",
       "      <td>0.514998</td>\n",
       "      <td>48.453990</td>\n",
       "    </tr>\n",
       "    <tr>\n",
       "      <th>4</th>\n",
       "      <td>{'max_depth': None, 'n_estimators': 200}</td>\n",
       "      <td>0.999103</td>\n",
       "      <td>0.514966</td>\n",
       "      <td>48.457187</td>\n",
       "    </tr>\n",
       "    <tr>\n",
       "      <th>0</th>\n",
       "      <td>{'max_depth': 5, 'n_estimators': 100}</td>\n",
       "      <td>0.459672</td>\n",
       "      <td>0.459672</td>\n",
       "      <td>0.000002</td>\n",
       "    </tr>\n",
       "    <tr>\n",
       "      <th>1</th>\n",
       "      <td>{'max_depth': 5, 'n_estimators': 200}</td>\n",
       "      <td>0.459672</td>\n",
       "      <td>0.459672</td>\n",
       "      <td>0.000002</td>\n",
       "    </tr>\n",
       "    <tr>\n",
       "      <th>2</th>\n",
       "      <td>{'max_depth': 5, 'n_estimators': 500}</td>\n",
       "      <td>0.459672</td>\n",
       "      <td>0.459672</td>\n",
       "      <td>0.000002</td>\n",
       "    </tr>\n",
       "  </tbody>\n",
       "</table>\n",
       "</div>"
      ],
      "text/plain": [
       "                                     params  mean_train_score  \\\n",
       "5  {'max_depth': None, 'n_estimators': 500}          0.999103   \n",
       "3  {'max_depth': None, 'n_estimators': 100}          0.999103   \n",
       "4  {'max_depth': None, 'n_estimators': 200}          0.999103   \n",
       "0     {'max_depth': 5, 'n_estimators': 100}          0.459672   \n",
       "1     {'max_depth': 5, 'n_estimators': 200}          0.459672   \n",
       "2     {'max_depth': 5, 'n_estimators': 500}          0.459672   \n",
       "\n",
       "   mean_test_score    diff, %  \n",
       "5         0.516417  48.311976  \n",
       "3         0.514998  48.453990  \n",
       "4         0.514966  48.457187  \n",
       "0         0.459672   0.000002  \n",
       "1         0.459672   0.000002  \n",
       "2         0.459672   0.000002  "
      ]
     },
     "execution_count": 30,
     "metadata": {},
     "output_type": "execute_result"
    }
   ],
   "source": [
    "# training and validation RMSE\n",
    "\n",
    "cv_results = pd.DataFrame(rf_grid_search.cv_results_\n",
    "                         )[['params', 'mean_train_score', 'mean_test_score']]\n",
    "cv_results[\"diff, %\"] = 100*(cv_results[\"mean_train_score\"]-cv_results[\"mean_test_score\"]\n",
    "                                                     )/cv_results[\"mean_train_score\"]\n",
    "\n",
    "pd.set_option('display.max_colwidth', 100)\n",
    "cv_results.sort_values('mean_test_score', ascending=False)"
   ]
  },
  {
   "cell_type": "markdown",
   "metadata": {},
   "source": [
    "The best model improved on the baseline, but only a little. Its F-score is 0.519 vs the majority baseline's 0.459.\n",
    "\n",
    "Let's build a confusion matrix to see what errors the model made. \n",
    "\n",
    "The confusion matrix on the training data:"
   ]
  },
  {
   "cell_type": "code",
   "execution_count": 31,
   "metadata": {
    "ExecuteTime": {
     "end_time": "2022-03-15T12:03:55.229919Z",
     "start_time": "2022-03-15T12:03:44.508856Z"
    }
   },
   "outputs": [
    {
     "data": {
      "text/plain": [
       "<sklearn.metrics._plot.confusion_matrix.ConfusionMatrixDisplay at 0x1b86cf2cb80>"
      ]
     },
     "execution_count": 31,
     "metadata": {},
     "output_type": "execute_result"
    },
    {
     "data": {
      "image/png": "[encoded data removed]",
      "text/plain": [
       "<Figure size 432x288 with 2 Axes>"
      ]
     },
     "metadata": {
      "needs_background": "light"
     },
     "output_type": "display_data"
    }
   ],
   "source": [
    "# cross-validation confusion matrix, training data\n",
    "yhat = cross_val_predict(rf_grid_search.best_estimator_, Xtrain, ytrain, cv=10)\n",
    "ConfusionMatrixDisplay.from_predictions(ytrain, yhat, \n",
    "                                        labels=rf_grid_search.best_estimator_.classes_, \n",
    "                                        normalize=\"true\",\n",
    "                                        cmap=plt.cm.Blues)"
   ]
  },
  {
   "cell_type": "markdown",
   "metadata": {},
   "source": [
    "The confusion matrix on the test data:"
   ]
  },
  {
   "cell_type": "code",
   "execution_count": 32,
   "metadata": {
    "ExecuteTime": {
     "end_time": "2022-03-15T12:03:55.435631Z",
     "start_time": "2022-03-15T12:03:55.231879Z"
    }
   },
   "outputs": [
    {
     "data": {
      "text/plain": [
       "<sklearn.metrics._plot.confusion_matrix.ConfusionMatrixDisplay at 0x1b875bab130>"
      ]
     },
     "execution_count": 32,
     "metadata": {},
     "output_type": "execute_result"
    },
    {
     "data": {
      "image/png": "[encoded data removed]",
      "text/plain": [
       "<Figure size 432x288 with 2 Axes>"
      ]
     },
     "metadata": {
      "needs_background": "light"
     },
     "output_type": "display_data"
    }
   ],
   "source": [
    "ConfusionMatrixDisplay.from_estimator(rf_grid_search.best_estimator_, Xtest, ytest,\n",
    "                                 display_labels=rf_grid_search.best_estimator_.classes_,\n",
    "                                 cmap=plt.cm.Blues,\n",
    "                                 normalize='true')"
   ]
  },
  {
   "cell_type": "markdown",
   "metadata": {},
   "source": [
    "We see that on the test data, the model assigned 97-99% of all test instances - both of the \"yes\" and \"no\" class - to the \"yes\" class. This is the consequence of the training data being very imbalanced: there are much more training examples of the \"yes\" class than examples of the \"no\" class. So there is no surprise its F-score is not much different from the one of the majority baseline."
   ]
  },
  {
   "cell_type": "markdown",
   "metadata": {},
   "source": [
    "## Oversampling\n",
    "\n",
    "We'll use the oversampling technique to deal with the imbalanced training data. Oversampling will generate synthetic training data of a minority class, from the available training instances of that class. We can try different desired ratios between the minority and majority class. For example, we can set it to 1.0, meaning that the number of training instances of the \"no\" class will be the same as the number of training instances of the \"yes\" class.\n",
    "\n",
    "To use the oversampling technique, you may need to install the `imblearn` package:\n",
    "\n",
    "`conda install -c conda-forge imbalanced-learn`"
   ]
  },
  {
   "cell_type": "markdown",
   "metadata": {},
   "source": [
    "During grid search, we can fine-tune not only the hyperparameters of the classifier, but also the minority/majority ratio of the oversampling method. This can be achieved using the `Pipeline` class of `imblearn`, as follows:"
   ]
  },
  {
   "cell_type": "code",
   "execution_count": 33,
   "metadata": {
    "ExecuteTime": {
     "end_time": "2022-03-15T12:06:03.996769Z",
     "start_time": "2022-03-15T12:03:55.437626Z"
    }
   },
   "outputs": [
    {
     "data": {
      "text/plain": [
       "GridSearchCV(cv=10,\n",
       "             estimator=Pipeline(steps=[('smote', SMOTE(random_state=7)),\n",
       "                                       ('rfc',\n",
       "                                        RandomForestClassifier(random_state=7))]),\n",
       "             param_grid=[{'rfc__max_depth': [5, None],\n",
       "                          'rfc__n_estimators': [100, 200, 500],\n",
       "                          'smote__sampling_strategy': [0.5, 0.75, 1.0]}],\n",
       "             return_train_score=True, scoring='f1_macro')"
      ]
     },
     "execution_count": 33,
     "metadata": {},
     "output_type": "execute_result"
    }
   ],
   "source": [
    "from imblearn.pipeline import Pipeline\n",
    "from imblearn.over_sampling import SMOTE\n",
    "\n",
    "pipeline = Pipeline([\n",
    "        ('smote', SMOTE(random_state=7)),\n",
    "        ('rfc', RandomForestClassifier(random_state=7))\n",
    "    ])\n",
    "\n",
    "param_grid = [\n",
    "    {\n",
    "        'smote__sampling_strategy': [0.5, 0.75, 1.0],\n",
    "        'rfc__n_estimators': [100, 200, 500],\n",
    "        'rfc__max_depth': [5, None]\n",
    "    },\n",
    "]\n",
    "\n",
    "# we'll use 10-fold cross-validation\n",
    "os_grid_search = GridSearchCV(pipeline, param_grid, cv=10, \n",
    "                              scoring='f1_macro',\n",
    "                              return_train_score=True)\n",
    "\n",
    "os_grid_search.fit(Xtrain, ytrain)"
   ]
  },
  {
   "cell_type": "code",
   "execution_count": 34,
   "metadata": {
    "ExecuteTime": {
     "end_time": "2022-03-15T12:06:04.012725Z",
     "start_time": "2022-03-15T12:06:03.998764Z"
    }
   },
   "outputs": [
    {
     "data": {
      "text/plain": [
       "Pipeline(steps=[('smote', SMOTE(random_state=7, sampling_strategy=0.75)),\n",
       "                ('rfc', RandomForestClassifier(random_state=7))])"
      ]
     },
     "execution_count": 34,
     "metadata": {},
     "output_type": "execute_result"
    }
   ],
   "source": [
    "# the best model\n",
    "os_grid_search.best_estimator_"
   ]
  },
  {
   "cell_type": "code",
   "execution_count": 35,
   "metadata": {
    "ExecuteTime": {
     "end_time": "2022-03-15T12:06:04.044163Z",
     "start_time": "2022-03-15T12:06:04.015205Z"
    }
   },
   "outputs": [
    {
     "data": {
      "text/html": [
       "<div>\n",
       "<style scoped>\n",
       "    .dataframe tbody tr th:only-of-type {\n",
       "        vertical-align: middle;\n",
       "    }\n",
       "\n",
       "    .dataframe tbody tr th {\n",
       "        vertical-align: top;\n",
       "    }\n",
       "\n",
       "    .dataframe thead th {\n",
       "        text-align: right;\n",
       "    }\n",
       "</style>\n",
       "<table border=\"1\" class=\"dataframe\">\n",
       "  <thead>\n",
       "    <tr style=\"text-align: right;\">\n",
       "      <th></th>\n",
       "      <th>params</th>\n",
       "      <th>mean_train_score</th>\n",
       "      <th>mean_test_score</th>\n",
       "      <th>diff, %</th>\n",
       "    </tr>\n",
       "  </thead>\n",
       "  <tbody>\n",
       "    <tr>\n",
       "      <th>10</th>\n",
       "      <td>{'rfc__max_depth': None, 'rfc__n_estimators': 100, 'smote__sampling_strategy': 0.75}</td>\n",
       "      <td>0.999103</td>\n",
       "      <td>0.602414</td>\n",
       "      <td>39.704476</td>\n",
       "    </tr>\n",
       "    <tr>\n",
       "      <th>7</th>\n",
       "      <td>{'rfc__max_depth': 5, 'rfc__n_estimators': 500, 'smote__sampling_strategy': 0.75}</td>\n",
       "      <td>0.632746</td>\n",
       "      <td>0.601614</td>\n",
       "      <td>4.920182</td>\n",
       "    </tr>\n",
       "    <tr>\n",
       "      <th>16</th>\n",
       "      <td>{'rfc__max_depth': None, 'rfc__n_estimators': 500, 'smote__sampling_strategy': 0.75}</td>\n",
       "      <td>0.999103</td>\n",
       "      <td>0.601471</td>\n",
       "      <td>39.798877</td>\n",
       "    </tr>\n",
       "    <tr>\n",
       "      <th>4</th>\n",
       "      <td>{'rfc__max_depth': 5, 'rfc__n_estimators': 200, 'smote__sampling_strategy': 0.75}</td>\n",
       "      <td>0.631396</td>\n",
       "      <td>0.599648</td>\n",
       "      <td>5.028165</td>\n",
       "    </tr>\n",
       "    <tr>\n",
       "      <th>13</th>\n",
       "      <td>{'rfc__max_depth': None, 'rfc__n_estimators': 200, 'smote__sampling_strategy': 0.75}</td>\n",
       "      <td>0.999103</td>\n",
       "      <td>0.599585</td>\n",
       "      <td>39.987628</td>\n",
       "    </tr>\n",
       "    <tr>\n",
       "      <th>14</th>\n",
       "      <td>{'rfc__max_depth': None, 'rfc__n_estimators': 200, 'smote__sampling_strategy': 1.0}</td>\n",
       "      <td>0.999070</td>\n",
       "      <td>0.596747</td>\n",
       "      <td>40.269700</td>\n",
       "    </tr>\n",
       "    <tr>\n",
       "      <th>11</th>\n",
       "      <td>{'rfc__max_depth': None, 'rfc__n_estimators': 100, 'smote__sampling_strategy': 1.0}</td>\n",
       "      <td>0.999070</td>\n",
       "      <td>0.596740</td>\n",
       "      <td>40.270462</td>\n",
       "    </tr>\n",
       "    <tr>\n",
       "      <th>1</th>\n",
       "      <td>{'rfc__max_depth': 5, 'rfc__n_estimators': 100, 'smote__sampling_strategy': 0.75}</td>\n",
       "      <td>0.629652</td>\n",
       "      <td>0.596565</td>\n",
       "      <td>5.254828</td>\n",
       "    </tr>\n",
       "    <tr>\n",
       "      <th>6</th>\n",
       "      <td>{'rfc__max_depth': 5, 'rfc__n_estimators': 500, 'smote__sampling_strategy': 0.5}</td>\n",
       "      <td>0.617668</td>\n",
       "      <td>0.596375</td>\n",
       "      <td>3.447436</td>\n",
       "    </tr>\n",
       "    <tr>\n",
       "      <th>9</th>\n",
       "      <td>{'rfc__max_depth': None, 'rfc__n_estimators': 100, 'smote__sampling_strategy': 0.5}</td>\n",
       "      <td>0.999103</td>\n",
       "      <td>0.596301</td>\n",
       "      <td>40.316404</td>\n",
       "    </tr>\n",
       "    <tr>\n",
       "      <th>12</th>\n",
       "      <td>{'rfc__max_depth': None, 'rfc__n_estimators': 200, 'smote__sampling_strategy': 0.5}</td>\n",
       "      <td>0.999103</td>\n",
       "      <td>0.595834</td>\n",
       "      <td>40.363119</td>\n",
       "    </tr>\n",
       "    <tr>\n",
       "      <th>3</th>\n",
       "      <td>{'rfc__max_depth': 5, 'rfc__n_estimators': 200, 'smote__sampling_strategy': 0.5}</td>\n",
       "      <td>0.617142</td>\n",
       "      <td>0.594247</td>\n",
       "      <td>3.709789</td>\n",
       "    </tr>\n",
       "    <tr>\n",
       "      <th>17</th>\n",
       "      <td>{'rfc__max_depth': None, 'rfc__n_estimators': 500, 'smote__sampling_strategy': 1.0}</td>\n",
       "      <td>0.999103</td>\n",
       "      <td>0.594017</td>\n",
       "      <td>40.545002</td>\n",
       "    </tr>\n",
       "    <tr>\n",
       "      <th>0</th>\n",
       "      <td>{'rfc__max_depth': 5, 'rfc__n_estimators': 100, 'smote__sampling_strategy': 0.5}</td>\n",
       "      <td>0.616366</td>\n",
       "      <td>0.592087</td>\n",
       "      <td>3.938926</td>\n",
       "    </tr>\n",
       "    <tr>\n",
       "      <th>15</th>\n",
       "      <td>{'rfc__max_depth': None, 'rfc__n_estimators': 500, 'smote__sampling_strategy': 0.5}</td>\n",
       "      <td>0.999103</td>\n",
       "      <td>0.590647</td>\n",
       "      <td>40.882268</td>\n",
       "    </tr>\n",
       "    <tr>\n",
       "      <th>5</th>\n",
       "      <td>{'rfc__max_depth': 5, 'rfc__n_estimators': 200, 'smote__sampling_strategy': 1.0}</td>\n",
       "      <td>0.580444</td>\n",
       "      <td>0.551394</td>\n",
       "      <td>5.004703</td>\n",
       "    </tr>\n",
       "    <tr>\n",
       "      <th>2</th>\n",
       "      <td>{'rfc__max_depth': 5, 'rfc__n_estimators': 100, 'smote__sampling_strategy': 1.0}</td>\n",
       "      <td>0.578728</td>\n",
       "      <td>0.551070</td>\n",
       "      <td>4.779089</td>\n",
       "    </tr>\n",
       "    <tr>\n",
       "      <th>8</th>\n",
       "      <td>{'rfc__max_depth': 5, 'rfc__n_estimators': 500, 'smote__sampling_strategy': 1.0}</td>\n",
       "      <td>0.580724</td>\n",
       "      <td>0.548216</td>\n",
       "      <td>5.597863</td>\n",
       "    </tr>\n",
       "  </tbody>\n",
       "</table>\n",
       "</div>"
      ],
      "text/plain": [
       "                                                                                  params  \\\n",
       "10  {'rfc__max_depth': None, 'rfc__n_estimators': 100, 'smote__sampling_strategy': 0.75}   \n",
       "7      {'rfc__max_depth': 5, 'rfc__n_estimators': 500, 'smote__sampling_strategy': 0.75}   \n",
       "16  {'rfc__max_depth': None, 'rfc__n_estimators': 500, 'smote__sampling_strategy': 0.75}   \n",
       "4      {'rfc__max_depth': 5, 'rfc__n_estimators': 200, 'smote__sampling_strategy': 0.75}   \n",
       "13  {'rfc__max_depth': None, 'rfc__n_estimators': 200, 'smote__sampling_strategy': 0.75}   \n",
       "14   {'rfc__max_depth': None, 'rfc__n_estimators': 200, 'smote__sampling_strategy': 1.0}   \n",
       "11   {'rfc__max_depth': None, 'rfc__n_estimators': 100, 'smote__sampling_strategy': 1.0}   \n",
       "1      {'rfc__max_depth': 5, 'rfc__n_estimators': 100, 'smote__sampling_strategy': 0.75}   \n",
       "6       {'rfc__max_depth': 5, 'rfc__n_estimators': 500, 'smote__sampling_strategy': 0.5}   \n",
       "9    {'rfc__max_depth': None, 'rfc__n_estimators': 100, 'smote__sampling_strategy': 0.5}   \n",
       "12   {'rfc__max_depth': None, 'rfc__n_estimators': 200, 'smote__sampling_strategy': 0.5}   \n",
       "3       {'rfc__max_depth': 5, 'rfc__n_estimators': 200, 'smote__sampling_strategy': 0.5}   \n",
       "17   {'rfc__max_depth': None, 'rfc__n_estimators': 500, 'smote__sampling_strategy': 1.0}   \n",
       "0       {'rfc__max_depth': 5, 'rfc__n_estimators': 100, 'smote__sampling_strategy': 0.5}   \n",
       "15   {'rfc__max_depth': None, 'rfc__n_estimators': 500, 'smote__sampling_strategy': 0.5}   \n",
       "5       {'rfc__max_depth': 5, 'rfc__n_estimators': 200, 'smote__sampling_strategy': 1.0}   \n",
       "2       {'rfc__max_depth': 5, 'rfc__n_estimators': 100, 'smote__sampling_strategy': 1.0}   \n",
       "8       {'rfc__max_depth': 5, 'rfc__n_estimators': 500, 'smote__sampling_strategy': 1.0}   \n",
       "\n",
       "    mean_train_score  mean_test_score    diff, %  \n",
       "10          0.999103         0.602414  39.704476  \n",
       "7           0.632746         0.601614   4.920182  \n",
       "16          0.999103         0.601471  39.798877  \n",
       "4           0.631396         0.599648   5.028165  \n",
       "13          0.999103         0.599585  39.987628  \n",
       "14          0.999070         0.596747  40.269700  \n",
       "11          0.999070         0.596740  40.270462  \n",
       "1           0.629652         0.596565   5.254828  \n",
       "6           0.617668         0.596375   3.447436  \n",
       "9           0.999103         0.596301  40.316404  \n",
       "12          0.999103         0.595834  40.363119  \n",
       "3           0.617142         0.594247   3.709789  \n",
       "17          0.999103         0.594017  40.545002  \n",
       "0           0.616366         0.592087   3.938926  \n",
       "15          0.999103         0.590647  40.882268  \n",
       "5           0.580444         0.551394   5.004703  \n",
       "2           0.578728         0.551070   4.779089  \n",
       "8           0.580724         0.548216   5.597863  "
      ]
     },
     "execution_count": 35,
     "metadata": {},
     "output_type": "execute_result"
    }
   ],
   "source": [
    "cv_results = pd.DataFrame(os_grid_search.cv_results_\n",
    "                         )[['params', 'mean_train_score', 'mean_test_score']]\n",
    "cv_results[\"diff, %\"] = 100*(cv_results[\"mean_train_score\"]-cv_results[\"mean_test_score\"]\n",
    "                                                     )/cv_results[\"mean_train_score\"]\n",
    "\n",
    "pd.set_option('display.max_colwidth', 100)\n",
    "cv_results.sort_values('mean_test_score', ascending=False)"
   ]
  },
  {
   "cell_type": "markdown",
   "metadata": {},
   "source": [
    "So, oversampling made it possible to achieve the F-Score of 0.611, which is a perceptible improvement on 0.519 of the original RF classifier. Let's visualize the errors of the model trained on oversampled data:"
   ]
  },
  {
   "cell_type": "code",
   "execution_count": 37,
   "metadata": {
    "ExecuteTime": {
     "end_time": "2022-03-15T12:07:24.899844Z",
     "start_time": "2022-03-15T12:07:21.339364Z"
    }
   },
   "outputs": [
    {
     "data": {
      "text/plain": [
       "<sklearn.metrics._plot.confusion_matrix.ConfusionMatrixDisplay at 0x1b8728d7250>"
      ]
     },
     "execution_count": 37,
     "metadata": {},
     "output_type": "execute_result"
    },
    {
     "data": {
      "image/png": "[encoded data removed]",
      "text/plain": [
       "<Figure size 432x288 with 2 Axes>"
      ]
     },
     "metadata": {
      "needs_background": "light"
     },
     "output_type": "display_data"
    }
   ],
   "source": [
    "# cross-validation confusion matrix on the training data\n",
    "yhat = cross_val_predict(os_grid_search.best_estimator_, Xtrain, ytrain, cv=10)\n",
    "\n",
    "ConfusionMatrixDisplay.from_predictions(ytrain, yhat, \n",
    "                                        labels=os_grid_search.best_estimator_.classes_, \n",
    "                                        normalize=\"true\",\n",
    "                                        cmap=plt.cm.Blues)"
   ]
  },
  {
   "cell_type": "code",
   "execution_count": 38,
   "metadata": {
    "ExecuteTime": {
     "end_time": "2022-03-15T12:07:30.670043Z",
     "start_time": "2022-03-15T12:07:30.290966Z"
    }
   },
   "outputs": [
    {
     "data": {
      "text/plain": [
       "<sklearn.metrics._plot.confusion_matrix.ConfusionMatrixDisplay at 0x1b86bcb6910>"
      ]
     },
     "execution_count": 38,
     "metadata": {},
     "output_type": "execute_result"
    },
    {
     "data": {
      "image/png": "[encoded data removed]",
      "text/plain": [
       "<Figure size 432x288 with 2 Axes>"
      ]
     },
     "metadata": {
      "needs_background": "light"
     },
     "output_type": "display_data"
    }
   ],
   "source": [
    "# confusion matrix on the test data\n",
    "ConfusionMatrixDisplay.from_estimator(os_grid_search.best_estimator_, Xtest, ytest,\n",
    "                                 display_labels=os_grid_search.best_estimator_.classes_,\n",
    "                                 cmap=plt.cm.Blues,\n",
    "                                 normalize='true')"
   ]
  },
  {
   "cell_type": "markdown",
   "metadata": {},
   "source": [
    "One can see that while the model still has a tendency to classify most test instances as \"yes\", its ratio is much smaller than before: 77% of \"no\" instances were classified as \"yes\". This is a big reduction compared to 97% before."
   ]
  },
  {
   "cell_type": "markdown",
   "metadata": {},
   "source": [
    "## Undersampling\n",
    "\n",
    "Alternatively, we can use another technique called undersampling. Instead of generating synthetic training instances of the minority class, it will remove some training instances of the majority class from the data. As before, we can fine-tune the desired ratio of between the minority and majority classes using grid search:"
   ]
  },
  {
   "cell_type": "code",
   "execution_count": 39,
   "metadata": {
    "ExecuteTime": {
     "end_time": "2022-03-15T12:23:30.026174Z",
     "start_time": "2022-03-15T12:09:11.390511Z"
    }
   },
   "outputs": [
    {
     "data": {
      "text/plain": [
       "GridSearchCV(cv=10,\n",
       "             estimator=Pipeline(steps=[('cc', ClusterCentroids(random_state=7)),\n",
       "                                       ('rfc',\n",
       "                                        RandomForestClassifier(random_state=7))]),\n",
       "             param_grid=[{'cc__sampling_strategy': [0.5, 0.75, 1.0],\n",
       "                          'rfc__max_depth': [5, None],\n",
       "                          'rfc__n_estimators': [100, 200, 500]}],\n",
       "             return_train_score=True, scoring='f1_macro')"
      ]
     },
     "execution_count": 39,
     "metadata": {},
     "output_type": "execute_result"
    }
   ],
   "source": [
    "from imblearn.under_sampling import ClusterCentroids\n",
    "\n",
    "pipeline = Pipeline([\n",
    "        ('cc', ClusterCentroids(random_state=7)),\n",
    "        ('rfc', RandomForestClassifier(random_state=7))\n",
    "    ])\n",
    "\n",
    "\n",
    "param_grid = [\n",
    "    {\n",
    "        'cc__sampling_strategy': [0.5, 0.75, 1.0],\n",
    "        'rfc__n_estimators': [100, 200, 500],\n",
    "        'rfc__max_depth': [5, None]\n",
    "    },\n",
    "]\n",
    "\n",
    "# we'll use 10-fold cross-validation\n",
    "us_grid_search = GridSearchCV(pipeline, param_grid, cv=10, \n",
    "                              scoring='f1_macro',\n",
    "                              return_train_score=True)\n",
    "\n",
    "us_grid_search.fit(Xtrain, ytrain)"
   ]
  },
  {
   "cell_type": "code",
   "execution_count": 40,
   "metadata": {
    "ExecuteTime": {
     "end_time": "2022-03-15T12:23:30.041379Z",
     "start_time": "2022-03-15T12:23:30.026174Z"
    }
   },
   "outputs": [
    {
     "data": {
      "text/plain": [
       "Pipeline(steps=[('cc', ClusterCentroids(random_state=7, sampling_strategy=0.5)),\n",
       "                ('rfc',\n",
       "                 RandomForestClassifier(n_estimators=500, random_state=7))])"
      ]
     },
     "execution_count": 40,
     "metadata": {},
     "output_type": "execute_result"
    }
   ],
   "source": [
    "# the best model\n",
    "us_grid_search.best_estimator_"
   ]
  },
  {
   "cell_type": "code",
   "execution_count": 41,
   "metadata": {
    "ExecuteTime": {
     "end_time": "2022-03-15T12:23:30.123858Z",
     "start_time": "2022-03-15T12:23:30.043467Z"
    }
   },
   "outputs": [
    {
     "data": {
      "text/html": [
       "<div>\n",
       "<style scoped>\n",
       "    .dataframe tbody tr th:only-of-type {\n",
       "        vertical-align: middle;\n",
       "    }\n",
       "\n",
       "    .dataframe tbody tr th {\n",
       "        vertical-align: top;\n",
       "    }\n",
       "\n",
       "    .dataframe thead th {\n",
       "        text-align: right;\n",
       "    }\n",
       "</style>\n",
       "<table border=\"1\" class=\"dataframe\">\n",
       "  <thead>\n",
       "    <tr style=\"text-align: right;\">\n",
       "      <th></th>\n",
       "      <th>params</th>\n",
       "      <th>mean_train_score</th>\n",
       "      <th>mean_test_score</th>\n",
       "      <th>diff, %</th>\n",
       "    </tr>\n",
       "  </thead>\n",
       "  <tbody>\n",
       "    <tr>\n",
       "      <th>5</th>\n",
       "      <td>{'cc__sampling_strategy': 0.5, 'rfc__max_depth': None, 'rfc__n_estimators': 500}</td>\n",
       "      <td>0.756964</td>\n",
       "      <td>0.592436</td>\n",
       "      <td>21.735185</td>\n",
       "    </tr>\n",
       "    <tr>\n",
       "      <th>4</th>\n",
       "      <td>{'cc__sampling_strategy': 0.5, 'rfc__max_depth': None, 'rfc__n_estimators': 200}</td>\n",
       "      <td>0.754535</td>\n",
       "      <td>0.590561</td>\n",
       "      <td>21.731726</td>\n",
       "    </tr>\n",
       "    <tr>\n",
       "      <th>3</th>\n",
       "      <td>{'cc__sampling_strategy': 0.5, 'rfc__max_depth': None, 'rfc__n_estimators': 100}</td>\n",
       "      <td>0.752045</td>\n",
       "      <td>0.587769</td>\n",
       "      <td>21.843867</td>\n",
       "    </tr>\n",
       "    <tr>\n",
       "      <th>1</th>\n",
       "      <td>{'cc__sampling_strategy': 0.5, 'rfc__max_depth': 5, 'rfc__n_estimators': 200}</td>\n",
       "      <td>0.596132</td>\n",
       "      <td>0.576076</td>\n",
       "      <td>3.364415</td>\n",
       "    </tr>\n",
       "    <tr>\n",
       "      <th>2</th>\n",
       "      <td>{'cc__sampling_strategy': 0.5, 'rfc__max_depth': 5, 'rfc__n_estimators': 500}</td>\n",
       "      <td>0.595700</td>\n",
       "      <td>0.575075</td>\n",
       "      <td>3.462324</td>\n",
       "    </tr>\n",
       "    <tr>\n",
       "      <th>0</th>\n",
       "      <td>{'cc__sampling_strategy': 0.5, 'rfc__max_depth': 5, 'rfc__n_estimators': 100}</td>\n",
       "      <td>0.596012</td>\n",
       "      <td>0.573493</td>\n",
       "      <td>3.778262</td>\n",
       "    </tr>\n",
       "    <tr>\n",
       "      <th>11</th>\n",
       "      <td>{'cc__sampling_strategy': 0.75, 'rfc__max_depth': None, 'rfc__n_estimators': 500}</td>\n",
       "      <td>0.669157</td>\n",
       "      <td>0.555032</td>\n",
       "      <td>17.055003</td>\n",
       "    </tr>\n",
       "    <tr>\n",
       "      <th>10</th>\n",
       "      <td>{'cc__sampling_strategy': 0.75, 'rfc__max_depth': None, 'rfc__n_estimators': 200}</td>\n",
       "      <td>0.667437</td>\n",
       "      <td>0.552659</td>\n",
       "      <td>17.196796</td>\n",
       "    </tr>\n",
       "    <tr>\n",
       "      <th>9</th>\n",
       "      <td>{'cc__sampling_strategy': 0.75, 'rfc__max_depth': None, 'rfc__n_estimators': 100}</td>\n",
       "      <td>0.665148</td>\n",
       "      <td>0.551720</td>\n",
       "      <td>17.052970</td>\n",
       "    </tr>\n",
       "    <tr>\n",
       "      <th>7</th>\n",
       "      <td>{'cc__sampling_strategy': 0.75, 'rfc__max_depth': 5, 'rfc__n_estimators': 200}</td>\n",
       "      <td>0.557893</td>\n",
       "      <td>0.542702</td>\n",
       "      <td>2.722845</td>\n",
       "    </tr>\n",
       "    <tr>\n",
       "      <th>8</th>\n",
       "      <td>{'cc__sampling_strategy': 0.75, 'rfc__max_depth': 5, 'rfc__n_estimators': 500}</td>\n",
       "      <td>0.558631</td>\n",
       "      <td>0.542313</td>\n",
       "      <td>2.921039</td>\n",
       "    </tr>\n",
       "    <tr>\n",
       "      <th>6</th>\n",
       "      <td>{'cc__sampling_strategy': 0.75, 'rfc__max_depth': 5, 'rfc__n_estimators': 100}</td>\n",
       "      <td>0.557857</td>\n",
       "      <td>0.540946</td>\n",
       "      <td>3.031450</td>\n",
       "    </tr>\n",
       "    <tr>\n",
       "      <th>17</th>\n",
       "      <td>{'cc__sampling_strategy': 1.0, 'rfc__max_depth': None, 'rfc__n_estimators': 500}</td>\n",
       "      <td>0.609717</td>\n",
       "      <td>0.524479</td>\n",
       "      <td>13.979894</td>\n",
       "    </tr>\n",
       "    <tr>\n",
       "      <th>15</th>\n",
       "      <td>{'cc__sampling_strategy': 1.0, 'rfc__max_depth': None, 'rfc__n_estimators': 100}</td>\n",
       "      <td>0.605833</td>\n",
       "      <td>0.523519</td>\n",
       "      <td>13.587014</td>\n",
       "    </tr>\n",
       "    <tr>\n",
       "      <th>16</th>\n",
       "      <td>{'cc__sampling_strategy': 1.0, 'rfc__max_depth': None, 'rfc__n_estimators': 200}</td>\n",
       "      <td>0.607605</td>\n",
       "      <td>0.520928</td>\n",
       "      <td>14.265330</td>\n",
       "    </tr>\n",
       "    <tr>\n",
       "      <th>12</th>\n",
       "      <td>{'cc__sampling_strategy': 1.0, 'rfc__max_depth': 5, 'rfc__n_estimators': 100}</td>\n",
       "      <td>0.521310</td>\n",
       "      <td>0.506224</td>\n",
       "      <td>2.893806</td>\n",
       "    </tr>\n",
       "    <tr>\n",
       "      <th>14</th>\n",
       "      <td>{'cc__sampling_strategy': 1.0, 'rfc__max_depth': 5, 'rfc__n_estimators': 500}</td>\n",
       "      <td>0.522272</td>\n",
       "      <td>0.506178</td>\n",
       "      <td>3.081477</td>\n",
       "    </tr>\n",
       "    <tr>\n",
       "      <th>13</th>\n",
       "      <td>{'cc__sampling_strategy': 1.0, 'rfc__max_depth': 5, 'rfc__n_estimators': 200}</td>\n",
       "      <td>0.520339</td>\n",
       "      <td>0.503107</td>\n",
       "      <td>3.311689</td>\n",
       "    </tr>\n",
       "  </tbody>\n",
       "</table>\n",
       "</div>"
      ],
      "text/plain": [
       "                                                                               params  \\\n",
       "5    {'cc__sampling_strategy': 0.5, 'rfc__max_depth': None, 'rfc__n_estimators': 500}   \n",
       "4    {'cc__sampling_strategy': 0.5, 'rfc__max_depth': None, 'rfc__n_estimators': 200}   \n",
       "3    {'cc__sampling_strategy': 0.5, 'rfc__max_depth': None, 'rfc__n_estimators': 100}   \n",
       "1       {'cc__sampling_strategy': 0.5, 'rfc__max_depth': 5, 'rfc__n_estimators': 200}   \n",
       "2       {'cc__sampling_strategy': 0.5, 'rfc__max_depth': 5, 'rfc__n_estimators': 500}   \n",
       "0       {'cc__sampling_strategy': 0.5, 'rfc__max_depth': 5, 'rfc__n_estimators': 100}   \n",
       "11  {'cc__sampling_strategy': 0.75, 'rfc__max_depth': None, 'rfc__n_estimators': 500}   \n",
       "10  {'cc__sampling_strategy': 0.75, 'rfc__max_depth': None, 'rfc__n_estimators': 200}   \n",
       "9   {'cc__sampling_strategy': 0.75, 'rfc__max_depth': None, 'rfc__n_estimators': 100}   \n",
       "7      {'cc__sampling_strategy': 0.75, 'rfc__max_depth': 5, 'rfc__n_estimators': 200}   \n",
       "8      {'cc__sampling_strategy': 0.75, 'rfc__max_depth': 5, 'rfc__n_estimators': 500}   \n",
       "6      {'cc__sampling_strategy': 0.75, 'rfc__max_depth': 5, 'rfc__n_estimators': 100}   \n",
       "17   {'cc__sampling_strategy': 1.0, 'rfc__max_depth': None, 'rfc__n_estimators': 500}   \n",
       "15   {'cc__sampling_strategy': 1.0, 'rfc__max_depth': None, 'rfc__n_estimators': 100}   \n",
       "16   {'cc__sampling_strategy': 1.0, 'rfc__max_depth': None, 'rfc__n_estimators': 200}   \n",
       "12      {'cc__sampling_strategy': 1.0, 'rfc__max_depth': 5, 'rfc__n_estimators': 100}   \n",
       "14      {'cc__sampling_strategy': 1.0, 'rfc__max_depth': 5, 'rfc__n_estimators': 500}   \n",
       "13      {'cc__sampling_strategy': 1.0, 'rfc__max_depth': 5, 'rfc__n_estimators': 200}   \n",
       "\n",
       "    mean_train_score  mean_test_score    diff, %  \n",
       "5           0.756964         0.592436  21.735185  \n",
       "4           0.754535         0.590561  21.731726  \n",
       "3           0.752045         0.587769  21.843867  \n",
       "1           0.596132         0.576076   3.364415  \n",
       "2           0.595700         0.575075   3.462324  \n",
       "0           0.596012         0.573493   3.778262  \n",
       "11          0.669157         0.555032  17.055003  \n",
       "10          0.667437         0.552659  17.196796  \n",
       "9           0.665148         0.551720  17.052970  \n",
       "7           0.557893         0.542702   2.722845  \n",
       "8           0.558631         0.542313   2.921039  \n",
       "6           0.557857         0.540946   3.031450  \n",
       "17          0.609717         0.524479  13.979894  \n",
       "15          0.605833         0.523519  13.587014  \n",
       "16          0.607605         0.520928  14.265330  \n",
       "12          0.521310         0.506224   2.893806  \n",
       "14          0.522272         0.506178   3.081477  \n",
       "13          0.520339         0.503107   3.311689  "
      ]
     },
     "execution_count": 41,
     "metadata": {},
     "output_type": "execute_result"
    }
   ],
   "source": [
    "cv_results = pd.DataFrame(us_grid_search.cv_results_\n",
    "                         )[['params', 'mean_train_score', 'mean_test_score']]\n",
    "cv_results[\"diff, %\"] = 100*(cv_results[\"mean_train_score\"]-cv_results[\"mean_test_score\"]\n",
    "                                                     )/cv_results[\"mean_train_score\"]\n",
    "\n",
    "pd.set_option('display.max_colwidth', 100)\n",
    "cv_results.sort_values('mean_test_score', ascending=False)"
   ]
  },
  {
   "cell_type": "markdown",
   "metadata": {},
   "source": [
    "The best model achieved the F-score of 0.593, which is very similar to the one achieved with overfitting. We can also visualize the errors:"
   ]
  },
  {
   "cell_type": "code",
   "execution_count": 42,
   "metadata": {
    "ExecuteTime": {
     "end_time": "2022-03-15T12:24:22.949745Z",
     "start_time": "2022-03-15T12:23:30.127276Z"
    }
   },
   "outputs": [
    {
     "data": {
      "text/plain": [
       "<sklearn.metrics._plot.confusion_matrix.ConfusionMatrixDisplay at 0x1b86ef96040>"
      ]
     },
     "execution_count": 42,
     "metadata": {},
     "output_type": "execute_result"
    },
    {
     "data": {
      "image/png": "[encoded data removed]",
      "text/plain": [
       "<Figure size 432x288 with 2 Axes>"
      ]
     },
     "metadata": {
      "needs_background": "light"
     },
     "output_type": "display_data"
    }
   ],
   "source": [
    "# cross-validation confusion matrix\n",
    "yhat = cross_val_predict(us_grid_search.best_estimator_, Xtrain, ytrain, cv=10)\n",
    "\n",
    "ConfusionMatrixDisplay.from_predictions(ytrain, yhat, \n",
    "                                        labels=rf_grid_search.best_estimator_.classes_, \n",
    "                                        normalize=\"true\",\n",
    "                                        cmap=plt.cm.Blues)"
   ]
  },
  {
   "cell_type": "code",
   "execution_count": 43,
   "metadata": {
    "ExecuteTime": {
     "end_time": "2022-03-15T12:24:23.149245Z",
     "start_time": "2022-03-15T12:24:22.951742Z"
    }
   },
   "outputs": [
    {
     "data": {
      "text/plain": [
       "<sklearn.metrics._plot.confusion_matrix.ConfusionMatrixDisplay at 0x1b873122640>"
      ]
     },
     "execution_count": 43,
     "metadata": {},
     "output_type": "execute_result"
    },
    {
     "data": {
      "image/png": "[encoded data removed]",
      "text/plain": [
       "<Figure size 432x288 with 2 Axes>"
      ]
     },
     "metadata": {
      "needs_background": "light"
     },
     "output_type": "display_data"
    }
   ],
   "source": [
    "# confusion matrix on the test data\n",
    "ConfusionMatrixDisplay.from_estimator(us_grid_search.best_estimator_, Xtest, ytest,\n",
    "                                 display_labels=us_grid_search.best_estimator_.classes_,\n",
    "                                 cmap=plt.cm.Blues,\n",
    "                                 normalize='true')"
   ]
  },
  {
   "cell_type": "markdown",
   "metadata": {},
   "source": [
    "# Evaluate on test\n",
    "\n",
    "Finally, let's compared the performance of the original RF model to those created using over- and under-sampling on the test data:"
   ]
  },
  {
   "cell_type": "code",
   "execution_count": 44,
   "metadata": {
    "ExecuteTime": {
     "end_time": "2022-03-15T12:59:15.861729Z",
     "start_time": "2022-03-15T12:59:15.815284Z"
    }
   },
   "outputs": [
    {
     "name": "stdout",
     "output_type": "stream",
     "text": [
      "              precision    recall  f1-score   support\n",
      "\n",
      "          no       0.38      0.03      0.05       109\n",
      "         yes       0.85      0.99      0.92       624\n",
      "\n",
      "    accuracy                           0.85       733\n",
      "   macro avg       0.61      0.51      0.48       733\n",
      "weighted avg       0.78      0.85      0.79       733\n",
      "\n"
     ]
    }
   ],
   "source": [
    "# Unbalanced data\n",
    "evaluate_on_test(rf_grid_search.best_estimator_, ytest, Xtest)"
   ]
  },
  {
   "cell_type": "code",
   "execution_count": 45,
   "metadata": {
    "ExecuteTime": {
     "end_time": "2022-03-15T12:59:16.757774Z",
     "start_time": "2022-03-15T12:59:16.719911Z"
    }
   },
   "outputs": [
    {
     "name": "stdout",
     "output_type": "stream",
     "text": [
      "              precision    recall  f1-score   support\n",
      "\n",
      "          no       0.25      0.23      0.24       109\n",
      "         yes       0.87      0.88      0.87       624\n",
      "\n",
      "    accuracy                           0.78       733\n",
      "   macro avg       0.56      0.56      0.56       733\n",
      "weighted avg       0.78      0.78      0.78       733\n",
      "\n"
     ]
    }
   ],
   "source": [
    "# Oversampling: fine-tuning balance\n",
    "evaluate_on_test(os_grid_search.best_estimator_, ytest, Xtest)"
   ]
  },
  {
   "cell_type": "code",
   "execution_count": 46,
   "metadata": {
    "ExecuteTime": {
     "end_time": "2022-03-15T12:59:17.332568Z",
     "start_time": "2022-03-15T12:59:17.280760Z"
    }
   },
   "outputs": [
    {
     "name": "stdout",
     "output_type": "stream",
     "text": [
      "              precision    recall  f1-score   support\n",
      "\n",
      "          no       0.25      0.44      0.32       109\n",
      "         yes       0.89      0.76      0.82       624\n",
      "\n",
      "    accuracy                           0.72       733\n",
      "   macro avg       0.57      0.60      0.57       733\n",
      "weighted avg       0.79      0.72      0.75       733\n",
      "\n"
     ]
    }
   ],
   "source": [
    "# Undersampling\n",
    "evaluate_on_test(us_grid_search.best_estimator_, ytest, Xtest)"
   ]
  },
  {
   "cell_type": "markdown",
   "metadata": {},
   "source": [
    "The results appear to be very similar to those obtained on the validation data: both over- and undersampling improve the quality of the classifiers, and they both achieve similar values of the F-score."
   ]
  },
  {
   "cell_type": "code",
   "execution_count": null,
   "metadata": {},
   "outputs": [],
   "source": []
  }
 ],
 "metadata": {
  "kernelspec": {
   "display_name": "Python 3 (ipykernel)",
   "language": "python",
   "name": "python3"
  },
  "language_info": {
   "codemirror_mode": {
    "name": "ipython",
    "version": 3
   },
   "authors": [{ "name": "Viktor Pekar" }],
    "file_extension": ".py",
   "mimetype": "text/x-python",
   "name": "python",
   "nbconvert_exporter": "python",
   "pygments_lexer": "ipython3",
   "version": "3.9.7"
  },
  "toc": {
   "base_numbering": 1,
   "nav_menu": {},
   "number_sections": true,
   "sideBar": true,
   "skip_h1_title": false,
   "title_cell": "Table of Contents",
   "title_sidebar": "Contents",
   "toc_cell": false,
   "toc_position": {},
   "toc_section_display": true,
   "toc_window_display": true
  }
 },
 "nbformat": 4,
 "nbformat_minor": 2
}

