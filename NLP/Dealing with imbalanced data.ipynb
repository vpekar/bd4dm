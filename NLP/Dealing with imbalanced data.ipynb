{
 "cells": [
  {
   "cell_type": "markdown",
   "metadata": {},
   "source": [
    "# Helpfulness of a product review\n",
    "\n",
    "The notebook creates classification models of the helpfulness of a customer review. It is trained and evaluated on data where each review is provided with the number of helpfulness votes given by readers.\n",
    "\n",
    "The data can be obtained at this [page](https://jmcauley.ucsd.edu/data/amazon/), download the file [reviews_Cell_Phones_and_Accessories_5.json.gz](http://snap.stanford.edu/data/amazon/productGraph/categoryFiles/reviews_Cell_Phones_and_Accessories_5.json.gz) and put it into the same folder as the notebook."
   ]
  },
  {
   "cell_type": "code",
   "execution_count": 1,
   "metadata": {
    "ExecuteTime": {
     "end_time": "2022-03-17T09:42:41.595882Z",
     "start_time": "2022-03-17T09:42:39.443877Z"
    }
   },
   "outputs": [
    {
     "name": "stderr",
     "output_type": "stream",
     "text": [
      "Intel(R) Extension for Scikit-learn* enabled (https://github.com/intel/scikit-learn-intelex)\n"
     ]
    }
   ],
   "source": [
    "import logging\n",
    "logging.basicConfig()\n",
    "logging.getLogger(\"SKLEARNEX\").setLevel(logging.ERROR)\n",
    "\n",
    "import json\n",
    "import gzip\n",
    "import pandas as pd\n",
    "import numpy as np\n",
    "import matplotlib.pyplot as plt\n",
    "\n",
    "from sklearn.metrics import precision_recall_fscore_support, classification_report\n",
    "from sklearn.metrics import ConfusionMatrixDisplay\n",
    "from sklearn.model_selection import cross_val_predict\n",
    "\n",
    "from IPython.display import display"
   ]
  },
  {
   "cell_type": "code",
   "execution_count": 2,
   "metadata": {
    "ExecuteTime": {
     "end_time": "2022-03-17T09:42:41.611049Z",
     "start_time": "2022-03-17T09:42:41.597835Z"
    }
   },
   "outputs": [],
   "source": [
    "def evaluate_on_test(model, ytest, Xtest):\n",
    "    \"\"\"Given a trained model and test data, generate predictions\n",
    "    and print a report with evaluation results\n",
    "    \"\"\"\n",
    "    yhat = model.predict(Xtest)\n",
    "    print(classification_report(ytest, yhat))\n",
    "\n",
    "\n",
    "def print_cv_results(grid_search, col_width=100):\n",
    "    \"\"\"Given a grid search object, print a table with the \n",
    "    cross-validation results\n",
    "    \"\"\"\n",
    "    results = pd.DataFrame(grid_search.cv_results_\n",
    "                             )[['params', 'mean_train_score', 'mean_test_score']]\n",
    "    results[\"diff, %\"] = 100*(results[\"mean_train_score\"]-results[\"mean_test_score\"]\n",
    "                                                         )/results[\"mean_train_score\"]\n",
    "\n",
    "    pd.set_option('display.max_colwidth', col_width)\n",
    "    display(results.sort_values('mean_test_score', ascending=False))"
   ]
  },
  {
   "cell_type": "markdown",
   "metadata": {},
   "source": [
    "# Load the data\n",
    "\n",
    "Read the reviews and use only those that received 5 or more helpfulness votes.\n",
    "\n",
    "We will keep only the text of the review and create a helpfulness score, which is the number of upvotes divided by the total number of votes."
   ]
  },
  {
   "cell_type": "code",
   "execution_count": 3,
   "metadata": {
    "ExecuteTime": {
     "end_time": "2022-03-17T09:42:45.378771Z",
     "start_time": "2022-03-17T09:42:41.623026Z"
    }
   },
   "outputs": [],
   "source": [
    "texts = []\n",
    "targets = []\n",
    "for line in gzip.open(\"reviews_Cell_Phones_and_Accessories_5.json.gz\", 'r'):\n",
    "    d = json.loads(line)\n",
    "    h = d['helpful']\n",
    "    t = d['reviewText']\n",
    "    if h[1] < 5:\n",
    "        continue\n",
    "    texts.append(t)\n",
    "    # the helpfulness of a review is the fraction of readers who found the review helpful\n",
    "    score = h[0]/h[1]\n",
    "    targets.append(score)\n",
    "\n",
    "df = pd.DataFrame({\"text\": texts, \"target\": targets})"
   ]
  },
  {
   "cell_type": "code",
   "execution_count": 4,
   "metadata": {
    "ExecuteTime": {
     "end_time": "2022-03-17T09:42:45.394895Z",
     "start_time": "2022-03-17T09:42:45.378771Z"
    }
   },
   "outputs": [
    {
     "data": {
      "text/plain": [
       "(10619, 2)"
      ]
     },
     "execution_count": 4,
     "metadata": {},
     "output_type": "execute_result"
    }
   ],
   "source": [
    "df.shape"
   ]
  },
  {
   "cell_type": "markdown",
   "metadata": {},
   "source": [
    "# Data cleaning and transformation\n",
    "\n",
    "Using the helpfulness score, we will create helpfulness classes, using the `cut` method of pandas. First, we'll try creating 10 classes using 10 equally spaced \"bins\":"
   ]
  },
  {
   "cell_type": "code",
   "execution_count": 5,
   "metadata": {
    "ExecuteTime": {
     "end_time": "2022-03-17T09:42:45.422478Z",
     "start_time": "2022-03-17T09:42:45.396773Z"
    }
   },
   "outputs": [],
   "source": [
    "df[\"target_cat\"] = pd.cut(df[\"target\"], bins=10, labels=[x for x in range(10)])"
   ]
  },
  {
   "cell_type": "code",
   "execution_count": 6,
   "metadata": {
    "ExecuteTime": {
     "end_time": "2022-03-17T09:42:45.594838Z",
     "start_time": "2022-03-17T09:42:45.422478Z"
    }
   },
   "outputs": [
    {
     "data": {
      "text/plain": [
       "<AxesSubplot:>"
      ]
     },
     "execution_count": 6,
     "metadata": {},
     "output_type": "execute_result"
    },
    {
     "data": {
      "image/png": "[encoded data removed]",
      "text/plain": [
       "<Figure size 432x288 with 1 Axes>"
      ]
     },
     "metadata": {
      "needs_background": "light"
     },
     "output_type": "display_data"
    }
   ],
   "source": [
    "df[\"target_cat\"].value_counts().sort_index().plot(kind=\"bar\")"
   ]
  },
  {
   "cell_type": "markdown",
   "metadata": {},
   "source": [
    "We see that there are very few reviews that belong to categories reflecting poor helpfulness (categories 0-4), and that there are very many reviews that end up in categories reflecting a lot of helpfulness (categories 7, 8 and 9).\n",
    "\n",
    "So we'll create 3 bins, with custom bins: reviews with the score between 0 and 0.5 will be put into the class \"no\" (meaning \"not helpful\"), between 0.5 and 0.8 will be put into class \"undecided\", and between 0.8 and 1.0 into the class \"yes\" (meaning \"helpful\")."
   ]
  },
  {
   "cell_type": "code",
   "execution_count": 7,
   "metadata": {
    "ExecuteTime": {
     "end_time": "2022-03-17T09:42:45.610413Z",
     "start_time": "2022-03-17T09:42:45.594838Z"
    }
   },
   "outputs": [],
   "source": [
    "df[\"target_cat\"] = pd.cut(df[\"target\"], bins=[-0.001, 0.5, 0.8, 1.0], labels=[\"no\", \"undecided\", \"yes\"])"
   ]
  },
  {
   "cell_type": "code",
   "execution_count": 8,
   "metadata": {
    "ExecuteTime": {
     "end_time": "2022-03-17T09:42:45.708127Z",
     "start_time": "2022-03-17T09:42:45.610413Z"
    }
   },
   "outputs": [
    {
     "data": {
      "text/plain": [
       "<AxesSubplot:>"
      ]
     },
     "execution_count": 8,
     "metadata": {},
     "output_type": "execute_result"
    },
    {
     "data": {
      "image/png": "[encoded data removed]",
      "text/plain": [
       "<Figure size 432x288 with 1 Axes>"
      ]
     },
     "metadata": {
      "needs_background": "light"
     },
     "output_type": "display_data"
    }
   ],
   "source": [
    "df[\"target_cat\"].value_counts().sort_index().plot(kind=\"bar\")"
   ]
  },
  {
   "cell_type": "markdown",
   "metadata": {},
   "source": [
    "Now we see that the \"no\" class still contains around 6 times less reviews than the \"yes\" class. To simplify things, we will remove the \"undecided\" class from the data, so the decision between helpful and unhelpful reviews is a clear binary decision."
   ]
  },
  {
   "cell_type": "code",
   "execution_count": 9,
   "metadata": {
    "ExecuteTime": {
     "end_time": "2022-03-17T09:42:45.723760Z",
     "start_time": "2022-03-17T09:42:45.708127Z"
    }
   },
   "outputs": [],
   "source": [
    "df = df[df[\"target_cat\"] != \"undecided\"]"
   ]
  },
  {
   "cell_type": "code",
   "execution_count": 10,
   "metadata": {
    "ExecuteTime": {
     "end_time": "2022-03-17T09:42:45.739459Z",
     "start_time": "2022-03-17T09:42:45.723760Z"
    }
   },
   "outputs": [],
   "source": [
    "df.reset_index(inplace=True, drop=True)"
   ]
  },
  {
   "cell_type": "code",
   "execution_count": 11,
   "metadata": {
    "ExecuteTime": {
     "end_time": "2022-03-17T09:42:45.764492Z",
     "start_time": "2022-03-17T09:42:45.739459Z"
    }
   },
   "outputs": [
    {
     "data": {
      "text/plain": [
       "(7325, 3)"
      ]
     },
     "execution_count": 11,
     "metadata": {},
     "output_type": "execute_result"
    }
   ],
   "source": [
    "df.shape"
   ]
  },
  {
   "cell_type": "markdown",
   "metadata": {},
   "source": [
    "There are now 7325 reviews left in the dataset.\n",
    "\n",
    "Now we'll create a train and test split, using stratfied sampling, to ensure that the target classes have equal distributions in the training and test data."
   ]
  },
  {
   "cell_type": "code",
   "execution_count": 12,
   "metadata": {
    "ExecuteTime": {
     "end_time": "2022-03-17T09:42:45.790274Z",
     "start_time": "2022-03-17T09:42:45.764492Z"
    }
   },
   "outputs": [],
   "source": [
    "from sklearn.model_selection import train_test_split\n",
    "\n",
    "trainset, testset = train_test_split(df, test_size=0.1, \n",
    "                                     stratify=df[\"target_cat\"], random_state=7)"
   ]
  },
  {
   "cell_type": "markdown",
   "metadata": {},
   "source": [
    "Delete the column with numerical helpfulness scores:"
   ]
  },
  {
   "cell_type": "code",
   "execution_count": 13,
   "metadata": {
    "ExecuteTime": {
     "end_time": "2022-03-17T09:42:45.805572Z",
     "start_time": "2022-03-17T09:42:45.790274Z"
    }
   },
   "outputs": [],
   "source": [
    "del trainset[\"target\"]\n",
    "del testset[\"target\"]"
   ]
  },
  {
   "cell_type": "code",
   "execution_count": 14,
   "metadata": {
    "ExecuteTime": {
     "end_time": "2022-03-17T09:42:45.815968Z",
     "start_time": "2022-03-17T09:42:45.805572Z"
    }
   },
   "outputs": [
    {
     "name": "stdout",
     "output_type": "stream",
     "text": [
      "6592 train and 733 test instances\n"
     ]
    }
   ],
   "source": [
    "print(f\"{len(trainset)} train and {len(testset)} test instances\")"
   ]
  },
  {
   "cell_type": "markdown",
   "metadata": {},
   "source": [
    "We can inspect a couple of actual reviews and their scores."
   ]
  },
  {
   "cell_type": "code",
   "execution_count": 15,
   "metadata": {
    "ExecuteTime": {
     "end_time": "2022-03-17T09:42:45.831667Z",
     "start_time": "2022-03-17T09:42:45.817271Z"
    }
   },
   "outputs": [
    {
     "data": {
      "text/html": [
       "<div>\n",
       "<style scoped>\n",
       "    .dataframe tbody tr th:only-of-type {\n",
       "        vertical-align: middle;\n",
       "    }\n",
       "\n",
       "    .dataframe tbody tr th {\n",
       "        vertical-align: top;\n",
       "    }\n",
       "\n",
       "    .dataframe thead th {\n",
       "        text-align: right;\n",
       "    }\n",
       "</style>\n",
       "<table border=\"1\" class=\"dataframe\">\n",
       "  <thead>\n",
       "    <tr style=\"text-align: right;\">\n",
       "      <th></th>\n",
       "      <th>text</th>\n",
       "      <th>target_cat</th>\n",
       "    </tr>\n",
       "  </thead>\n",
       "  <tbody>\n",
       "    <tr>\n",
       "      <th>3648</th>\n",
       "      <td>Let me say this up front.  I would love to have a great Android phone.  I love Android's operating system much better than IOS.  The flexibility, the interconnection of apps, and screen size all make me love Android phones.The crucial difference is fragmentation and manufacturer support.My wife had the HTC Evo a couple of years ago and HTC did a decent job of patching and updating Android.  I had a Samsung Epic 4G and it was a crippled mess with Samsung pushing few updates to the phone, including one that hobbled an already awful GPS.My wife liked her Evo, so when it came time to upgrade, we saw the rather lackluster reports of \"improvements\" forthcoming to the iPhone 5 (we were hoping for a large screen version) and decided to stick with Android and the new Evo, since it was going to be a marked improvement over the Evo my wife found reliable.We got the phone and were pretty happy at first.  The Android upgrade and the faster phone meant that it was a joy to operate.  We loved the...</td>\n",
       "      <td>yes</td>\n",
       "    </tr>\n",
       "    <tr>\n",
       "      <th>5543</th>\n",
       "      <td>I use a silicone cover on my phone and this arm band is big enough to fit the phone with the silicone cover on.</td>\n",
       "      <td>yes</td>\n",
       "    </tr>\n",
       "    <tr>\n",
       "      <th>2646</th>\n",
       "      <td>This isn't the first rechargeable backup battery I've used, but it's the first one that gets all the important things right. First of all it has a generous 2000mAh capacity which is enough to bring my iPhone 3Gs from dead to full power on a single recharge (albeit it is pretty much used up after that). It also delivers USB power at a full 1 amp instead of the slower 500 milliamp that others do, this let you charge finicky items like tablets or completely drained blackberries too. And it's universal USB too, it comes with a cable that charges itself over USB (standard A size to micro), which can be flipped around to the output plug to charge a multitude of micro USB devices (it also has a mini USB adapter included). So it has the open standards pretty much covered which is most Android and feature phones, but if you have an iPhone, Samsung, or other proprietary brand you'll still need your existing data/charge cable to use it. Fortunately I have more than I need from a history of iP...</td>\n",
       "      <td>yes</td>\n",
       "    </tr>\n",
       "    <tr>\n",
       "      <th>1334</th>\n",
       "      <td>Perfect for the AT&amp;T Mifi, which has the stupid annoying design that will shut off wireless when a data cable is connected.  Really--who comes up with these brain dead ideas?  This is perfect because I can power the Mifi from the USB port all day long.</td>\n",
       "      <td>yes</td>\n",
       "    </tr>\n",
       "    <tr>\n",
       "      <th>6308</th>\n",
       "      <td>All of my previous reviews of wireless headphones were focused around sound quality, noise isolation, and ear tip fitment. Now, here comes a new chapter in wireless headphones with all these rules out of the window. Based on a military technology of bone conduction, AfterShokz were designed to sit outside of your ears conducting the sound through your cheekbones to your inner ear - a shortcut bypassing your eardrums. I know, the description of this process doesn't sound too attractive, but once you get these wraparound headphones on - it will make a perfect sense. I was a bit confused myself reading the description, that's why I couldn't wait to receive my review sample, to test it out, and to share my first hand experience.Once you open the box, the first thing you notice is a very nice and sturdy carrying case which is the size of the box itself. These are not earbuds or some foldable headphones, but rather a full wraparound band headphones with a unique design shape where having...</td>\n",
       "      <td>yes</td>\n",
       "    </tr>\n",
       "    <tr>\n",
       "      <th>7076</th>\n",
       "      <td>Wanted an Apple &amp;#34;certified&amp;#34; charger for my iPhone 5, and this one fits the bill. Well made and charges super fast.  I only wish the cord was a little longer -- plugging it into the socket in my glove box make it a little awkward based on length of cord, but it's still a great product.4.5/5 stars</td>\n",
       "      <td>yes</td>\n",
       "    </tr>\n",
       "    <tr>\n",
       "      <th>4794</th>\n",
       "      <td>I installed this screen protector on my husband's GNote II as a test. I understand that the trade-off for an anti-glare screen protector is a bit of hit on perceived clarity and brightness of the screen. Personally, I thought it did a great job of making the screen more visible and less prone to glare, especially outside. However, my husband did not like this screen protector because he felt that it made the screen &amp;#34;less clear&amp;#34; and less vibrant, and the anti-glare benefit could not overcome those shortcomings. I ended up removing it on his request and installing a Tech Armor HD Clear screen protector instead and he is happier.If I didn't already have a screen protector on my GNote II, I would consider applying this and testing it myself. It seemed to reduce fingerprints, which is a problem on very clear screen protectors (like mine).I will say that if your screen looks darker after applying this screen protector, I'd suggest turning up the brightness a notch to compensate f...</td>\n",
       "      <td>yes</td>\n",
       "    </tr>\n",
       "    <tr>\n",
       "      <th>4203</th>\n",
       "      <td>The protector is a nice, thick film. It retains sensitivity well. The only issue (besides my own incompetence on installing) is that your finger doesn't slide even remotely as well as it does without the protector. Makes Swype difficult.</td>\n",
       "      <td>yes</td>\n",
       "    </tr>\n",
       "    <tr>\n",
       "      <th>5220</th>\n",
       "      <td>Why buy a slim and thin iPhone 5 and then put a giant foam case (otter box) on it? This SPIGEN SGP SGP10088 Slim Armor Case for iPhone 5 will not add any noticeable size to your iPhone 5. I have used SPIGEN since I purchased a Droid Razor 2 years ago. I needed a case that will protect my phone but not add size because I carry it in my pocket.This is a great protective case for the iPhone 5. Mine looks as if there is no case on the iPhone. Mine is a slate metal, two tone color that adds a cool look to the phone. It protects well against accidents but it is much smaller than many protective cases. I highly recommend this case for someone like myself that carries a phone in your front pant pocket.</td>\n",
       "      <td>yes</td>\n",
       "    </tr>\n",
       "    <tr>\n",
       "      <th>3899</th>\n",
       "      <td>I prefer a thicker pen due to my arthritis,  and one of the pens has already fallen apart. Therefore they are just ok.</td>\n",
       "      <td>yes</td>\n",
       "    </tr>\n",
       "  </tbody>\n",
       "</table>\n",
       "</div>"
      ],
      "text/plain": [
       "                                                                                                                                                                                                                                                                                                                                                                                                                                                                                                                                                                                                                                                                                                                                                                                                                                                                                                                                                                                                                                         text  \\\n",
       "3648  Let me say this up front.  I would love to have a great Android phone.  I love Android's operating system much better than IOS.  The flexibility, the interconnection of apps, and screen size all make me love Android phones.The crucial difference is fragmentation and manufacturer support.My wife had the HTC Evo a couple of years ago and HTC did a decent job of patching and updating Android.  I had a Samsung Epic 4G and it was a crippled mess with Samsung pushing few updates to the phone, including one that hobbled an already awful GPS.My wife liked her Evo, so when it came time to upgrade, we saw the rather lackluster reports of \"improvements\" forthcoming to the iPhone 5 (we were hoping for a large screen version) and decided to stick with Android and the new Evo, since it was going to be a marked improvement over the Evo my wife found reliable.We got the phone and were pretty happy at first.  The Android upgrade and the faster phone meant that it was a joy to operate.  We loved the...   \n",
       "5543                                                                                                                                                                                                                                                                                                                                                                                                                                                                                                                                                                                                                                                                                                                                                                                                                                                                                                                          I use a silicone cover on my phone and this arm band is big enough to fit the phone with the silicone cover on.   \n",
       "2646  This isn't the first rechargeable backup battery I've used, but it's the first one that gets all the important things right. First of all it has a generous 2000mAh capacity which is enough to bring my iPhone 3Gs from dead to full power on a single recharge (albeit it is pretty much used up after that). It also delivers USB power at a full 1 amp instead of the slower 500 milliamp that others do, this let you charge finicky items like tablets or completely drained blackberries too. And it's universal USB too, it comes with a cable that charges itself over USB (standard A size to micro), which can be flipped around to the output plug to charge a multitude of micro USB devices (it also has a mini USB adapter included). So it has the open standards pretty much covered which is most Android and feature phones, but if you have an iPhone, Samsung, or other proprietary brand you'll still need your existing data/charge cable to use it. Fortunately I have more than I need from a history of iP...   \n",
       "1334                                                                                                                                                                                                                                                                                                                                                                                                                                                                                                                                                                                                                                                                                                                                                                             Perfect for the AT&T Mifi, which has the stupid annoying design that will shut off wireless when a data cable is connected.  Really--who comes up with these brain dead ideas?  This is perfect because I can power the Mifi from the USB port all day long.   \n",
       "6308  All of my previous reviews of wireless headphones were focused around sound quality, noise isolation, and ear tip fitment. Now, here comes a new chapter in wireless headphones with all these rules out of the window. Based on a military technology of bone conduction, AfterShokz were designed to sit outside of your ears conducting the sound through your cheekbones to your inner ear - a shortcut bypassing your eardrums. I know, the description of this process doesn't sound too attractive, but once you get these wraparound headphones on - it will make a perfect sense. I was a bit confused myself reading the description, that's why I couldn't wait to receive my review sample, to test it out, and to share my first hand experience.Once you open the box, the first thing you notice is a very nice and sturdy carrying case which is the size of the box itself. These are not earbuds or some foldable headphones, but rather a full wraparound band headphones with a unique design shape where having...   \n",
       "7076                                                                                                                                                                                                                                                                                                                                                                                                                                                                                                                                                                                                                                                                                                                         Wanted an Apple &#34;certified&#34; charger for my iPhone 5, and this one fits the bill. Well made and charges super fast.  I only wish the cord was a little longer -- plugging it into the socket in my glove box make it a little awkward based on length of cord, but it's still a great product.4.5/5 stars   \n",
       "4794  I installed this screen protector on my husband's GNote II as a test. I understand that the trade-off for an anti-glare screen protector is a bit of hit on perceived clarity and brightness of the screen. Personally, I thought it did a great job of making the screen more visible and less prone to glare, especially outside. However, my husband did not like this screen protector because he felt that it made the screen &#34;less clear&#34; and less vibrant, and the anti-glare benefit could not overcome those shortcomings. I ended up removing it on his request and installing a Tech Armor HD Clear screen protector instead and he is happier.If I didn't already have a screen protector on my GNote II, I would consider applying this and testing it myself. It seemed to reduce fingerprints, which is a problem on very clear screen protectors (like mine).I will say that if your screen looks darker after applying this screen protector, I'd suggest turning up the brightness a notch to compensate f...   \n",
       "4203                                                                                                                                                                                                                                                                                                                                                                                                                                                                                                                                                                                                                                                                                                                                                                                            The protector is a nice, thick film. It retains sensitivity well. The only issue (besides my own incompetence on installing) is that your finger doesn't slide even remotely as well as it does without the protector. Makes Swype difficult.   \n",
       "5220                                                                                                                                                                                                                                                                                                          Why buy a slim and thin iPhone 5 and then put a giant foam case (otter box) on it? This SPIGEN SGP SGP10088 Slim Armor Case for iPhone 5 will not add any noticeable size to your iPhone 5. I have used SPIGEN since I purchased a Droid Razor 2 years ago. I needed a case that will protect my phone but not add size because I carry it in my pocket.This is a great protective case for the iPhone 5. Mine looks as if there is no case on the iPhone. Mine is a slate metal, two tone color that adds a cool look to the phone. It protects well against accidents but it is much smaller than many protective cases. I highly recommend this case for someone like myself that carries a phone in your front pant pocket.   \n",
       "3899                                                                                                                                                                                                                                                                                                                                                                                                                                                                                                                                                                                                                                                                                                                                                                                                                                                                                                                   I prefer a thicker pen due to my arthritis,  and one of the pens has already fallen apart. Therefore they are just ok.   \n",
       "\n",
       "     target_cat  \n",
       "3648        yes  \n",
       "5543        yes  \n",
       "2646        yes  \n",
       "1334        yes  \n",
       "6308        yes  \n",
       "7076        yes  \n",
       "4794        yes  \n",
       "4203        yes  \n",
       "5220        yes  \n",
       "3899        yes  "
      ]
     },
     "execution_count": 15,
     "metadata": {},
     "output_type": "execute_result"
    }
   ],
   "source": [
    "pd.set_option('display.max_colwidth', 1000)\n",
    "trainset.head(10)"
   ]
  },
  {
   "cell_type": "code",
   "execution_count": 16,
   "metadata": {
    "ExecuteTime": {
     "end_time": "2022-03-17T09:42:45.840693Z",
     "start_time": "2022-03-17T09:42:45.832664Z"
    }
   },
   "outputs": [],
   "source": [
    "# drop labels for training set, but keep all others\n",
    "Xtrain = trainset.drop(\"target_cat\", axis=1)\n",
    "ytrain = trainset[\"target_cat\"].copy()\n",
    "\n",
    "Xtest = testset.drop(\"target_cat\", axis=1)\n",
    "ytest = testset[\"target_cat\"].copy()"
   ]
  },
  {
   "cell_type": "markdown",
   "metadata": {},
   "source": [
    "Next, convert the reviews to a word-document matrix using `CountVectorizer`:"
   ]
  },
  {
   "cell_type": "code",
   "execution_count": 17,
   "metadata": {
    "ExecuteTime": {
     "end_time": "2022-03-17T09:42:45.856316Z",
     "start_time": "2022-03-17T09:42:45.840693Z"
    }
   },
   "outputs": [],
   "source": [
    "import re\n",
    "\n",
    "from sklearn.feature_extraction.text import CountVectorizer\n",
    "\n",
    "\n",
    "def custom_preprocessor(text):\n",
    "    \"\"\"Replace all numbers with a symbol\n",
    "    \"\"\"\n",
    "    \n",
    "    # replace digits\n",
    "    text = re.compile(\"\\d+\").sub(\"digitsymbol\", text)\n",
    "        \n",
    "    return text\n",
    "\n",
    "\n",
    "count_vectorizer = CountVectorizer(\n",
    "    strip_accents=\"unicode\", # convert accented chars to non-accented versions\n",
    "    lowercase=True,\n",
    "    tokenizer=None,        # None - use the default tokenizer\n",
    "    preprocessor=custom_preprocessor,     # None - use the default preprocessor\n",
    "    stop_words=\"english\",\n",
    "    ngram_range=(1,3),     # min and max range of ngrams\n",
    "    analyzer=\"word\",       # split the document into words, rather than e.g. characters\n",
    "    max_df=0.9,            # ignore words with df greater than the value (int represents count, \n",
    "                           # float represents proportion of documents)\n",
    "    min_df=5               # ignore words with df lower than the value (int represents count, \n",
    "                           # float represents proportion)\n",
    ")"
   ]
  },
  {
   "cell_type": "code",
   "execution_count": 18,
   "metadata": {
    "ExecuteTime": {
     "end_time": "2022-03-17T09:42:50.345305Z",
     "start_time": "2022-03-17T09:42:45.856316Z"
    }
   },
   "outputs": [],
   "source": [
    "docs_train_counts = count_vectorizer.fit_transform(Xtrain['text'])"
   ]
  },
  {
   "cell_type": "code",
   "execution_count": 19,
   "metadata": {
    "ExecuteTime": {
     "end_time": "2022-03-17T09:42:50.374792Z",
     "start_time": "2022-03-17T09:42:50.345305Z"
    }
   },
   "outputs": [
    {
     "data": {
      "text/plain": [
       "(6592, 34584)"
      ]
     },
     "execution_count": 19,
     "metadata": {},
     "output_type": "execute_result"
    }
   ],
   "source": [
    "docs_train_counts.shape"
   ]
  },
  {
   "cell_type": "code",
   "execution_count": 20,
   "metadata": {
    "ExecuteTime": {
     "end_time": "2022-03-17T09:42:50.698491Z",
     "start_time": "2022-03-17T09:42:50.374792Z"
    }
   },
   "outputs": [],
   "source": [
    "docs_test_counts = count_vectorizer.transform(Xtest['text'])"
   ]
  },
  {
   "cell_type": "markdown",
   "metadata": {},
   "source": [
    "The matrix has been created, but it has a very large number of columns (34,584). This can make all the processing of the data very slow. To deal with this, we will use Latent Semantic Indexing (LSA), which is a technique commonly used in Information Retrieval to represent documents in a compact way while preserving the meaning captured by the word counts. \n",
    "\n",
    "LSA involves first weighting each cell in the matrix using TFIDF weights (term frequency multiplied by inverse document frequency, which gives a greater weight to words that (1) appeared a lot in a given document and (2) appeared in few other documents. In this way, the weights encourage words that are prominent in a given document and yet are specific to that document."
   ]
  },
  {
   "cell_type": "code",
   "execution_count": 21,
   "metadata": {
    "ExecuteTime": {
     "end_time": "2022-03-17T09:42:51.034619Z",
     "start_time": "2022-03-17T09:42:50.698491Z"
    }
   },
   "outputs": [],
   "source": [
    "from sklearn.feature_extraction.text import TfidfTransformer\n",
    "\n",
    "tfidf_transformer = TfidfTransformer()\n",
    "\n",
    "# fit and transform the training set with \"fit_transform()\"\n",
    "docs_train_tfidf = tfidf_transformer.fit_transform(docs_train_counts)\n",
    "\n",
    "# transform test\n",
    "docs_test_tfidf = tfidf_transformer.transform(docs_test_counts)"
   ]
  },
  {
   "cell_type": "markdown",
   "metadata": {},
   "source": [
    "The second step in LSA is to reduce the dimensionality of the matrix using Singular Value Decomposition. Here, we will specify the number of reduced dimensions of the matrix to be 10. The more common value to use is 300, but here we use a much smaller value, for a quick demonstration."
   ]
  },
  {
   "cell_type": "code",
   "execution_count": 22,
   "metadata": {
    "ExecuteTime": {
     "end_time": "2022-03-17T09:42:51.419576Z",
     "start_time": "2022-03-17T09:42:51.034619Z"
    }
   },
   "outputs": [],
   "source": [
    "from sklearn.decomposition import TruncatedSVD\n",
    "\n",
    "svd = TruncatedSVD(n_components=10)\n",
    "X_train_svd = svd.fit_transform(docs_train_tfidf)\n",
    "X_test_svd = svd.transform(docs_test_tfidf)"
   ]
  },
  {
   "cell_type": "markdown",
   "metadata": {},
   "source": [
    "Let's make sure the matrix has now only 10 dimensions, but the same number of rows (i.e. each review is now represented as a vector of 10 values):"
   ]
  },
  {
   "cell_type": "code",
   "execution_count": 23,
   "metadata": {
    "ExecuteTime": {
     "end_time": "2022-03-17T09:42:51.433098Z",
     "start_time": "2022-03-17T09:42:51.421330Z"
    }
   },
   "outputs": [
    {
     "data": {
      "text/plain": [
       "(6592, 10)"
      ]
     },
     "execution_count": 23,
     "metadata": {},
     "output_type": "execute_result"
    }
   ],
   "source": [
    "X_train_svd.shape"
   ]
  },
  {
   "cell_type": "code",
   "execution_count": 24,
   "metadata": {
    "ExecuteTime": {
     "end_time": "2022-03-17T09:42:51.458855Z",
     "start_time": "2022-03-17T09:42:51.433098Z"
    }
   },
   "outputs": [],
   "source": [
    "Xtrain, Xtest = X_train_svd, X_test_svd"
   ]
  },
  {
   "cell_type": "markdown",
   "metadata": {},
   "source": [
    "# Baseline\n",
    "\n",
    "Calculate the F-score for the majority baseline (every class label is \"yes\"):"
   ]
  },
  {
   "cell_type": "code",
   "execution_count": 25,
   "metadata": {
    "ExecuteTime": {
     "end_time": "2022-03-17T09:42:51.472788Z",
     "start_time": "2022-03-17T09:42:51.458855Z"
    }
   },
   "outputs": [
    {
     "data": {
      "text/plain": [
       "yes          5608\n",
       "no            984\n",
       "undecided       0\n",
       "Name: target_cat, dtype: int64"
      ]
     },
     "execution_count": 25,
     "metadata": {},
     "output_type": "execute_result"
    }
   ],
   "source": [
    "trainset[\"target_cat\"].value_counts()"
   ]
  },
  {
   "cell_type": "code",
   "execution_count": 26,
   "metadata": {
    "ExecuteTime": {
     "end_time": "2022-03-17T09:42:51.497123Z",
     "start_time": "2022-03-17T09:42:51.472788Z"
    }
   },
   "outputs": [],
   "source": [
    "n_yes = trainset[\"target_cat\"].value_counts()[\"yes\"]\n",
    "n_instances = trainset.shape[0]"
   ]
  },
  {
   "cell_type": "code",
   "execution_count": 27,
   "metadata": {
    "ExecuteTime": {
     "end_time": "2022-03-17T09:42:51.519760Z",
     "start_time": "2022-03-17T09:42:51.497123Z"
    }
   },
   "outputs": [
    {
     "name": "stdout",
     "output_type": "stream",
     "text": [
      "Precision: 0.42536\n",
      "Recall: 0.5\n",
      "F-score: 0.45967\n"
     ]
    }
   ],
   "source": [
    "# For the \"Yes\" label, the accuracy measures will be:\n",
    "yes_precision = n_yes/n_instances\n",
    "yes_recall = n_yes/n_yes\n",
    "yes_fscore = 2/(1/yes_precision + 1/yes_recall)\n",
    "\n",
    "# For the \"no\" label, it will be:\n",
    "no_precision = 0.0\n",
    "no_recall = 0.0\n",
    "no_fscore = 0.0\n",
    "\n",
    "# The averages of the two classes, i.e. the eventual baseline scores:\n",
    "p = (yes_precision+no_precision)/2\n",
    "r = (yes_recall+no_recall)/2\n",
    "f = (yes_fscore+no_fscore)/2\n",
    "\n",
    "print(f\"Precision: {p:.5}\")\n",
    "print(f\"Recall: {r:.5}\")\n",
    "print(f\"F-score: {f:.5}\")"
   ]
  },
  {
   "cell_type": "markdown",
   "metadata": {},
   "source": [
    "# Train a model"
   ]
  },
  {
   "cell_type": "markdown",
   "metadata": {},
   "source": [
    "## Unbalanced data\n",
    "\n",
    "First, we build a Random Forest model on the unbalanced data."
   ]
  },
  {
   "cell_type": "code",
   "execution_count": 28,
   "metadata": {
    "ExecuteTime": {
     "end_time": "2022-03-17T09:43:14.237983Z",
     "start_time": "2022-03-17T09:42:51.519760Z"
    }
   },
   "outputs": [
    {
     "data": {
      "text/plain": [
       "GridSearchCV(cv=10, estimator=RandomForestClassifier(random_state=7),\n",
       "             param_grid=[{'max_depth': [5, None],\n",
       "                          'n_estimators': [100, 200, 500]}],\n",
       "             return_train_score=True, scoring='f1_macro')"
      ]
     },
     "execution_count": 28,
     "metadata": {},
     "output_type": "execute_result"
    }
   ],
   "source": [
    "from sklearn.model_selection import GridSearchCV\n",
    "from sklearn.ensemble import RandomForestClassifier\n",
    "\n",
    "# specify the hyperparameters and their values\n",
    "param_grid = [\n",
    "    {'n_estimators': [100, 200, 500],\n",
    "     'max_depth': [5, None]},\n",
    "]\n",
    "\n",
    "forest = RandomForestClassifier(random_state=7)\n",
    "\n",
    "rf_grid_search = GridSearchCV(forest, param_grid, cv=10, \n",
    "                              scoring='f1_macro',\n",
    "                              return_train_score=True)\n",
    "\n",
    "rf_grid_search.fit(Xtrain, ytrain)"
   ]
  },
  {
   "cell_type": "code",
   "execution_count": 29,
   "metadata": {
    "ExecuteTime": {
     "end_time": "2022-03-17T09:43:14.272603Z",
     "start_time": "2022-03-17T09:43:14.239977Z"
    },
    "scrolled": true
   },
   "outputs": [
    {
     "data": {
      "text/html": [
       "<div>\n",
       "<style scoped>\n",
       "    .dataframe tbody tr th:only-of-type {\n",
       "        vertical-align: middle;\n",
       "    }\n",
       "\n",
       "    .dataframe tbody tr th {\n",
       "        vertical-align: top;\n",
       "    }\n",
       "\n",
       "    .dataframe thead th {\n",
       "        text-align: right;\n",
       "    }\n",
       "</style>\n",
       "<table border=\"1\" class=\"dataframe\">\n",
       "  <thead>\n",
       "    <tr style=\"text-align: right;\">\n",
       "      <th></th>\n",
       "      <th>params</th>\n",
       "      <th>mean_train_score</th>\n",
       "      <th>mean_test_score</th>\n",
       "      <th>diff, %</th>\n",
       "    </tr>\n",
       "  </thead>\n",
       "  <tbody>\n",
       "    <tr>\n",
       "      <th>3</th>\n",
       "      <td>{'max_depth': None, 'n_estimators': 100}</td>\n",
       "      <td>0.999070</td>\n",
       "      <td>0.526447</td>\n",
       "      <td>47.306306</td>\n",
       "    </tr>\n",
       "    <tr>\n",
       "      <th>4</th>\n",
       "      <td>{'max_depth': None, 'n_estimators': 200}</td>\n",
       "      <td>0.999070</td>\n",
       "      <td>0.525554</td>\n",
       "      <td>47.395622</td>\n",
       "    </tr>\n",
       "    <tr>\n",
       "      <th>5</th>\n",
       "      <td>{'max_depth': None, 'n_estimators': 500}</td>\n",
       "      <td>0.999070</td>\n",
       "      <td>0.522428</td>\n",
       "      <td>47.708528</td>\n",
       "    </tr>\n",
       "    <tr>\n",
       "      <th>0</th>\n",
       "      <td>{'max_depth': 5, 'n_estimators': 100}</td>\n",
       "      <td>0.459672</td>\n",
       "      <td>0.459672</td>\n",
       "      <td>0.000002</td>\n",
       "    </tr>\n",
       "    <tr>\n",
       "      <th>1</th>\n",
       "      <td>{'max_depth': 5, 'n_estimators': 200}</td>\n",
       "      <td>0.459672</td>\n",
       "      <td>0.459672</td>\n",
       "      <td>0.000002</td>\n",
       "    </tr>\n",
       "    <tr>\n",
       "      <th>2</th>\n",
       "      <td>{'max_depth': 5, 'n_estimators': 500}</td>\n",
       "      <td>0.459672</td>\n",
       "      <td>0.459672</td>\n",
       "      <td>0.000002</td>\n",
       "    </tr>\n",
       "  </tbody>\n",
       "</table>\n",
       "</div>"
      ],
      "text/plain": [
       "                                     params  mean_train_score  \\\n",
       "3  {'max_depth': None, 'n_estimators': 100}          0.999070   \n",
       "4  {'max_depth': None, 'n_estimators': 200}          0.999070   \n",
       "5  {'max_depth': None, 'n_estimators': 500}          0.999070   \n",
       "0     {'max_depth': 5, 'n_estimators': 100}          0.459672   \n",
       "1     {'max_depth': 5, 'n_estimators': 200}          0.459672   \n",
       "2     {'max_depth': 5, 'n_estimators': 500}          0.459672   \n",
       "\n",
       "   mean_test_score    diff, %  \n",
       "3         0.526447  47.306306  \n",
       "4         0.525554  47.395622  \n",
       "5         0.522428  47.708528  \n",
       "0         0.459672   0.000002  \n",
       "1         0.459672   0.000002  \n",
       "2         0.459672   0.000002  "
      ]
     },
     "metadata": {},
     "output_type": "display_data"
    }
   ],
   "source": [
    "# training and validation RMSE\n",
    "print_cv_results(rf_grid_search, col_width=100)"
   ]
  },
  {
   "cell_type": "markdown",
   "metadata": {},
   "source": [
    "The best model improved on the baseline, but only a little. Its F-score is 0.519 vs the majority baseline's 0.459.\n",
    "\n",
    "Let's build a confusion matrix to see what errors the model made. \n",
    "\n",
    "The confusion matrix on the training data:"
   ]
  },
  {
   "cell_type": "code",
   "execution_count": 30,
   "metadata": {
    "ExecuteTime": {
     "end_time": "2022-03-17T09:43:16.371570Z",
     "start_time": "2022-03-17T09:43:14.274598Z"
    }
   },
   "outputs": [
    {
     "data": {
      "text/plain": [
       "<sklearn.metrics._plot.confusion_matrix.ConfusionMatrixDisplay at 0x1fe8b343760>"
      ]
     },
     "execution_count": 30,
     "metadata": {},
     "output_type": "execute_result"
    },
    {
     "data": {
      "image/png": "[encoded data removed]",
      "text/plain": [
       "<Figure size 432x288 with 2 Axes>"
      ]
     },
     "metadata": {
      "needs_background": "light"
     },
     "output_type": "display_data"
    }
   ],
   "source": [
    "# cross-validation confusion matrix, training data\n",
    "yhat = cross_val_predict(rf_grid_search.best_estimator_, Xtrain, ytrain, cv=10)\n",
    "ConfusionMatrixDisplay.from_predictions(ytrain, yhat, \n",
    "                                        labels=rf_grid_search.best_estimator_.classes_, \n",
    "                                        normalize=\"true\",\n",
    "                                        cmap=plt.cm.Blues)"
   ]
  },
  {
   "cell_type": "markdown",
   "metadata": {},
   "source": [
    "The confusion matrix on the test data:"
   ]
  },
  {
   "cell_type": "code",
   "execution_count": 31,
   "metadata": {
    "ExecuteTime": {
     "end_time": "2022-03-17T09:43:16.529815Z",
     "start_time": "2022-03-17T09:43:16.371570Z"
    }
   },
   "outputs": [
    {
     "data": {
      "text/plain": [
       "<sklearn.metrics._plot.confusion_matrix.ConfusionMatrixDisplay at 0x1fe8cd043a0>"
      ]
     },
     "execution_count": 31,
     "metadata": {},
     "output_type": "execute_result"
    },
    {
     "data": {
      "image/png": "[encoded data removed]",
      "text/plain": [
       "<Figure size 432x288 with 2 Axes>"
      ]
     },
     "metadata": {
      "needs_background": "light"
     },
     "output_type": "display_data"
    }
   ],
   "source": [
    "ConfusionMatrixDisplay.from_estimator(rf_grid_search.best_estimator_, Xtest, ytest,\n",
    "                                 display_labels=rf_grid_search.best_estimator_.classes_,\n",
    "                                 cmap=plt.cm.Blues,\n",
    "                                 normalize='true')"
   ]
  },
  {
   "cell_type": "markdown",
   "metadata": {},
   "source": [
    "We see that on the test data, the model assigned 97-99% of all test instances - both of the \"yes\" and \"no\" class - to the \"yes\" class. This is the consequence of the training data being very imbalanced: there are much more training examples of the \"yes\" class than examples of the \"no\" class. So there is no surprise its F-score is not much different from the one of the majority baseline."
   ]
  },
  {
   "cell_type": "markdown",
   "metadata": {},
   "source": [
    "## Random oversampling"
   ]
  },
  {
   "cell_type": "markdown",
   "metadata": {},
   "source": [
    "We'll first use random oversampling to deal with the imbalanced training data, i.e. copies of instances of the minority class will be added to the training data, with replacement, until a desired balance of the two classes is reached. We will try different desired ratios between the minority and majority class.\n",
    "\n",
    "To use the oversampling technique, you may need to install the `imblearn` package:\n",
    "\n",
    "`conda install -c conda-forge imbalanced-learn`\n",
    "\n",
    "During grid search, we can fine-tune not only the hyperparameters of the classifier, but also the minority/majority ratio of the oversampling method. This can be achieved using the `Pipeline` class of `imblearn`, as follows:"
   ]
  },
  {
   "cell_type": "code",
   "execution_count": 32,
   "metadata": {
    "ExecuteTime": {
     "end_time": "2022-03-17T09:45:01.439389Z",
     "start_time": "2022-03-17T09:43:16.530320Z"
    }
   },
   "outputs": [
    {
     "data": {
      "text/plain": [
       "GridSearchCV(cv=10,\n",
       "             estimator=Pipeline(steps=[('ros',\n",
       "                                        RandomOverSampler(random_state=7)),\n",
       "                                       ('rfc',\n",
       "                                        RandomForestClassifier(random_state=7))]),\n",
       "             param_grid=[{'rfc__max_depth': [5, None],\n",
       "                          'rfc__n_estimators': [100, 200, 500],\n",
       "                          'ros__sampling_strategy': [0.5, 0.75, 1.0]}],\n",
       "             return_train_score=True, scoring='f1_macro')"
      ]
     },
     "execution_count": 32,
     "metadata": {},
     "output_type": "execute_result"
    }
   ],
   "source": [
    "from imblearn.pipeline import Pipeline\n",
    "from imblearn.over_sampling import RandomOverSampler\n",
    "\n",
    "pipeline = Pipeline([\n",
    "        ('ros', RandomOverSampler(random_state=7)),\n",
    "        ('rfc', RandomForestClassifier(random_state=7))\n",
    "    ])\n",
    "\n",
    "param_grid = [\n",
    "    {\n",
    "        'ros__sampling_strategy': [0.5, 0.75, 1.0],\n",
    "        'rfc__n_estimators': [100, 200, 500],\n",
    "        'rfc__max_depth': [5, None]\n",
    "    },\n",
    "]\n",
    "\n",
    "ros_grid_search = GridSearchCV(pipeline, param_grid, cv=10, \n",
    "                               scoring='f1_macro',\n",
    "                               return_train_score=True)\n",
    "\n",
    "ros_grid_search.fit(Xtrain, ytrain)"
   ]
  },
  {
   "cell_type": "code",
   "execution_count": 33,
   "metadata": {
    "ExecuteTime": {
     "end_time": "2022-03-17T09:45:01.470283Z",
     "start_time": "2022-03-17T09:45:01.441344Z"
    }
   },
   "outputs": [
    {
     "data": {
      "text/html": [
       "<div>\n",
       "<style scoped>\n",
       "    .dataframe tbody tr th:only-of-type {\n",
       "        vertical-align: middle;\n",
       "    }\n",
       "\n",
       "    .dataframe tbody tr th {\n",
       "        vertical-align: top;\n",
       "    }\n",
       "\n",
       "    .dataframe thead th {\n",
       "        text-align: right;\n",
       "    }\n",
       "</style>\n",
       "<table border=\"1\" class=\"dataframe\">\n",
       "  <thead>\n",
       "    <tr style=\"text-align: right;\">\n",
       "      <th></th>\n",
       "      <th>params</th>\n",
       "      <th>mean_train_score</th>\n",
       "      <th>mean_test_score</th>\n",
       "      <th>diff, %</th>\n",
       "    </tr>\n",
       "  </thead>\n",
       "  <tbody>\n",
       "    <tr>\n",
       "      <th>1</th>\n",
       "      <td>{'rfc__max_depth': 5, 'rfc__n_estimators': 100, 'ros__sampling_strategy': 0.75}</td>\n",
       "      <td>0.652818</td>\n",
       "      <td>0.606404</td>\n",
       "      <td>7.109809</td>\n",
       "    </tr>\n",
       "    <tr>\n",
       "      <th>4</th>\n",
       "      <td>{'rfc__max_depth': 5, 'rfc__n_estimators': 200, 'ros__sampling_strategy': 0.75}</td>\n",
       "      <td>0.654340</td>\n",
       "      <td>0.604610</td>\n",
       "      <td>7.599965</td>\n",
       "    </tr>\n",
       "    <tr>\n",
       "      <th>7</th>\n",
       "      <td>{'rfc__max_depth': 5, 'rfc__n_estimators': 500, 'ros__sampling_strategy': 0.75}</td>\n",
       "      <td>0.655524</td>\n",
       "      <td>0.603968</td>\n",
       "      <td>7.864868</td>\n",
       "    </tr>\n",
       "    <tr>\n",
       "      <th>6</th>\n",
       "      <td>{'rfc__max_depth': 5, 'rfc__n_estimators': 500, 'ros__sampling_strategy': 0.5}</td>\n",
       "      <td>0.629347</td>\n",
       "      <td>0.593186</td>\n",
       "      <td>5.745697</td>\n",
       "    </tr>\n",
       "    <tr>\n",
       "      <th>0</th>\n",
       "      <td>{'rfc__max_depth': 5, 'rfc__n_estimators': 100, 'ros__sampling_strategy': 0.5}</td>\n",
       "      <td>0.627756</td>\n",
       "      <td>0.588803</td>\n",
       "      <td>6.205166</td>\n",
       "    </tr>\n",
       "    <tr>\n",
       "      <th>3</th>\n",
       "      <td>{'rfc__max_depth': 5, 'rfc__n_estimators': 200, 'ros__sampling_strategy': 0.5}</td>\n",
       "      <td>0.628797</td>\n",
       "      <td>0.586154</td>\n",
       "      <td>6.781595</td>\n",
       "    </tr>\n",
       "    <tr>\n",
       "      <th>11</th>\n",
       "      <td>{'rfc__max_depth': None, 'rfc__n_estimators': 100, 'ros__sampling_strategy': 1.0}</td>\n",
       "      <td>0.999103</td>\n",
       "      <td>0.582278</td>\n",
       "      <td>41.719884</td>\n",
       "    </tr>\n",
       "    <tr>\n",
       "      <th>14</th>\n",
       "      <td>{'rfc__max_depth': None, 'rfc__n_estimators': 200, 'ros__sampling_strategy': 1.0}</td>\n",
       "      <td>0.999103</td>\n",
       "      <td>0.574292</td>\n",
       "      <td>42.519236</td>\n",
       "    </tr>\n",
       "    <tr>\n",
       "      <th>17</th>\n",
       "      <td>{'rfc__max_depth': None, 'rfc__n_estimators': 500, 'ros__sampling_strategy': 1.0}</td>\n",
       "      <td>0.999103</td>\n",
       "      <td>0.572469</td>\n",
       "      <td>42.701660</td>\n",
       "    </tr>\n",
       "    <tr>\n",
       "      <th>10</th>\n",
       "      <td>{'rfc__max_depth': None, 'rfc__n_estimators': 100, 'ros__sampling_strategy': 0.75}</td>\n",
       "      <td>0.999103</td>\n",
       "      <td>0.572175</td>\n",
       "      <td>42.731161</td>\n",
       "    </tr>\n",
       "    <tr>\n",
       "      <th>16</th>\n",
       "      <td>{'rfc__max_depth': None, 'rfc__n_estimators': 500, 'ros__sampling_strategy': 0.75}</td>\n",
       "      <td>0.999103</td>\n",
       "      <td>0.571413</td>\n",
       "      <td>42.807392</td>\n",
       "    </tr>\n",
       "    <tr>\n",
       "      <th>12</th>\n",
       "      <td>{'rfc__max_depth': None, 'rfc__n_estimators': 200, 'ros__sampling_strategy': 0.5}</td>\n",
       "      <td>0.999103</td>\n",
       "      <td>0.570792</td>\n",
       "      <td>42.869503</td>\n",
       "    </tr>\n",
       "    <tr>\n",
       "      <th>13</th>\n",
       "      <td>{'rfc__max_depth': None, 'rfc__n_estimators': 200, 'ros__sampling_strategy': 0.75}</td>\n",
       "      <td>0.999103</td>\n",
       "      <td>0.570574</td>\n",
       "      <td>42.891363</td>\n",
       "    </tr>\n",
       "    <tr>\n",
       "      <th>9</th>\n",
       "      <td>{'rfc__max_depth': None, 'rfc__n_estimators': 100, 'ros__sampling_strategy': 0.5}</td>\n",
       "      <td>0.999103</td>\n",
       "      <td>0.568774</td>\n",
       "      <td>43.071562</td>\n",
       "    </tr>\n",
       "    <tr>\n",
       "      <th>15</th>\n",
       "      <td>{'rfc__max_depth': None, 'rfc__n_estimators': 500, 'ros__sampling_strategy': 0.5}</td>\n",
       "      <td>0.999103</td>\n",
       "      <td>0.563620</td>\n",
       "      <td>43.587397</td>\n",
       "    </tr>\n",
       "    <tr>\n",
       "      <th>8</th>\n",
       "      <td>{'rfc__max_depth': 5, 'rfc__n_estimators': 500, 'ros__sampling_strategy': 1.0}</td>\n",
       "      <td>0.599150</td>\n",
       "      <td>0.556797</td>\n",
       "      <td>7.068970</td>\n",
       "    </tr>\n",
       "    <tr>\n",
       "      <th>5</th>\n",
       "      <td>{'rfc__max_depth': 5, 'rfc__n_estimators': 200, 'ros__sampling_strategy': 1.0}</td>\n",
       "      <td>0.597714</td>\n",
       "      <td>0.556781</td>\n",
       "      <td>6.848214</td>\n",
       "    </tr>\n",
       "    <tr>\n",
       "      <th>2</th>\n",
       "      <td>{'rfc__max_depth': 5, 'rfc__n_estimators': 100, 'ros__sampling_strategy': 1.0}</td>\n",
       "      <td>0.596899</td>\n",
       "      <td>0.556692</td>\n",
       "      <td>6.736032</td>\n",
       "    </tr>\n",
       "  </tbody>\n",
       "</table>\n",
       "</div>"
      ],
      "text/plain": [
       "                                                                                params  \\\n",
       "1      {'rfc__max_depth': 5, 'rfc__n_estimators': 100, 'ros__sampling_strategy': 0.75}   \n",
       "4      {'rfc__max_depth': 5, 'rfc__n_estimators': 200, 'ros__sampling_strategy': 0.75}   \n",
       "7      {'rfc__max_depth': 5, 'rfc__n_estimators': 500, 'ros__sampling_strategy': 0.75}   \n",
       "6       {'rfc__max_depth': 5, 'rfc__n_estimators': 500, 'ros__sampling_strategy': 0.5}   \n",
       "0       {'rfc__max_depth': 5, 'rfc__n_estimators': 100, 'ros__sampling_strategy': 0.5}   \n",
       "3       {'rfc__max_depth': 5, 'rfc__n_estimators': 200, 'ros__sampling_strategy': 0.5}   \n",
       "11   {'rfc__max_depth': None, 'rfc__n_estimators': 100, 'ros__sampling_strategy': 1.0}   \n",
       "14   {'rfc__max_depth': None, 'rfc__n_estimators': 200, 'ros__sampling_strategy': 1.0}   \n",
       "17   {'rfc__max_depth': None, 'rfc__n_estimators': 500, 'ros__sampling_strategy': 1.0}   \n",
       "10  {'rfc__max_depth': None, 'rfc__n_estimators': 100, 'ros__sampling_strategy': 0.75}   \n",
       "16  {'rfc__max_depth': None, 'rfc__n_estimators': 500, 'ros__sampling_strategy': 0.75}   \n",
       "12   {'rfc__max_depth': None, 'rfc__n_estimators': 200, 'ros__sampling_strategy': 0.5}   \n",
       "13  {'rfc__max_depth': None, 'rfc__n_estimators': 200, 'ros__sampling_strategy': 0.75}   \n",
       "9    {'rfc__max_depth': None, 'rfc__n_estimators': 100, 'ros__sampling_strategy': 0.5}   \n",
       "15   {'rfc__max_depth': None, 'rfc__n_estimators': 500, 'ros__sampling_strategy': 0.5}   \n",
       "8       {'rfc__max_depth': 5, 'rfc__n_estimators': 500, 'ros__sampling_strategy': 1.0}   \n",
       "5       {'rfc__max_depth': 5, 'rfc__n_estimators': 200, 'ros__sampling_strategy': 1.0}   \n",
       "2       {'rfc__max_depth': 5, 'rfc__n_estimators': 100, 'ros__sampling_strategy': 1.0}   \n",
       "\n",
       "    mean_train_score  mean_test_score    diff, %  \n",
       "1           0.652818         0.606404   7.109809  \n",
       "4           0.654340         0.604610   7.599965  \n",
       "7           0.655524         0.603968   7.864868  \n",
       "6           0.629347         0.593186   5.745697  \n",
       "0           0.627756         0.588803   6.205166  \n",
       "3           0.628797         0.586154   6.781595  \n",
       "11          0.999103         0.582278  41.719884  \n",
       "14          0.999103         0.574292  42.519236  \n",
       "17          0.999103         0.572469  42.701660  \n",
       "10          0.999103         0.572175  42.731161  \n",
       "16          0.999103         0.571413  42.807392  \n",
       "12          0.999103         0.570792  42.869503  \n",
       "13          0.999103         0.570574  42.891363  \n",
       "9           0.999103         0.568774  43.071562  \n",
       "15          0.999103         0.563620  43.587397  \n",
       "8           0.599150         0.556797   7.068970  \n",
       "5           0.597714         0.556781   6.848214  \n",
       "2           0.596899         0.556692   6.736032  "
      ]
     },
     "metadata": {},
     "output_type": "display_data"
    }
   ],
   "source": [
    "print_cv_results(ros_grid_search, col_width=100)"
   ]
  },
  {
   "cell_type": "code",
   "execution_count": 34,
   "metadata": {
    "ExecuteTime": {
     "end_time": "2022-03-17T09:45:02.845584Z",
     "start_time": "2022-03-17T09:45:01.476265Z"
    }
   },
   "outputs": [
    {
     "data": {
      "text/plain": [
       "<sklearn.metrics._plot.confusion_matrix.ConfusionMatrixDisplay at 0x1fe8dbfe040>"
      ]
     },
     "execution_count": 34,
     "metadata": {},
     "output_type": "execute_result"
    },
    {
     "data": {
      "image/png": "[encoded data removed]",
      "text/plain": [
       "<Figure size 432x288 with 2 Axes>"
      ]
     },
     "metadata": {
      "needs_background": "light"
     },
     "output_type": "display_data"
    }
   ],
   "source": [
    "# cross-validation confusion matrix on the training data\n",
    "yhat = cross_val_predict(ros_grid_search.best_estimator_, Xtrain, ytrain, cv=10)\n",
    "\n",
    "ConfusionMatrixDisplay.from_predictions(ytrain, yhat, \n",
    "                                        labels=ros_grid_search.best_estimator_.classes_, \n",
    "                                        normalize=\"true\",\n",
    "                                        cmap=plt.cm.Blues)"
   ]
  },
  {
   "cell_type": "code",
   "execution_count": 35,
   "metadata": {
    "ExecuteTime": {
     "end_time": "2022-03-17T09:45:02.999452Z",
     "start_time": "2022-03-17T09:45:02.846460Z"
    }
   },
   "outputs": [
    {
     "data": {
      "text/plain": [
       "<sklearn.metrics._plot.confusion_matrix.ConfusionMatrixDisplay at 0x1fe88077be0>"
      ]
     },
     "execution_count": 35,
     "metadata": {},
     "output_type": "execute_result"
    },
    {
     "data": {
      "image/png": "[encoded data removed]",
      "text/plain": [
       "<Figure size 432x288 with 2 Axes>"
      ]
     },
     "metadata": {
      "needs_background": "light"
     },
     "output_type": "display_data"
    }
   ],
   "source": [
    "# confusion matrix on the test data\n",
    "ConfusionMatrixDisplay.from_estimator(ros_grid_search.best_estimator_, Xtest, ytest,\n",
    "                                 display_labels=ros_grid_search.best_estimator_.classes_,\n",
    "                                 cmap=plt.cm.Blues,\n",
    "                                 normalize='true')"
   ]
  },
  {
   "cell_type": "markdown",
   "metadata": {},
   "source": [
    "Random oversampling produces an cross-validation F-score of 0.606, an improvement on the classifier trained on unbalanced data, which has the F-score of 0.526. 43% of the minority class instances are correctly classified, opposed to just 7% with the latter classifier.\n",
    "\n",
    "The best minority-majority balance proves to be 0.75."
   ]
  },
  {
   "cell_type": "markdown",
   "metadata": {},
   "source": [
    "## SMOTE\n",
    "\n",
    "Next, we'll try the SMOTE method. It will oversample the minority class by generating synthetic training data of a minority class. "
   ]
  },
  {
   "cell_type": "code",
   "execution_count": 36,
   "metadata": {
    "ExecuteTime": {
     "end_time": "2022-03-17T09:46:50.748625Z",
     "start_time": "2022-03-17T09:45:03.001426Z"
    }
   },
   "outputs": [
    {
     "data": {
      "text/plain": [
       "GridSearchCV(cv=10,\n",
       "             estimator=Pipeline(steps=[('smote', SMOTE(random_state=7)),\n",
       "                                       ('rfc',\n",
       "                                        RandomForestClassifier(random_state=7))]),\n",
       "             param_grid=[{'rfc__max_depth': [5, None],\n",
       "                          'rfc__n_estimators': [100, 200, 500],\n",
       "                          'smote__sampling_strategy': [0.5, 0.75, 1.0]}],\n",
       "             return_train_score=True, scoring='f1_macro')"
      ]
     },
     "execution_count": 36,
     "metadata": {},
     "output_type": "execute_result"
    }
   ],
   "source": [
    "from imblearn.pipeline import Pipeline\n",
    "from imblearn.over_sampling import SMOTE\n",
    "\n",
    "pipeline = Pipeline([\n",
    "        ('smote', SMOTE(random_state=7)),\n",
    "        ('rfc', RandomForestClassifier(random_state=7))\n",
    "    ])\n",
    "\n",
    "param_grid = [\n",
    "    {\n",
    "        'smote__sampling_strategy': [0.5, 0.75, 1.0],\n",
    "        'rfc__n_estimators': [100, 200, 500],\n",
    "        'rfc__max_depth': [5, None]\n",
    "    },\n",
    "]\n",
    "\n",
    "os_grid_search = GridSearchCV(pipeline, param_grid, cv=10, \n",
    "                              scoring='f1_macro',\n",
    "                              return_train_score=True)\n",
    "\n",
    "os_grid_search.fit(Xtrain, ytrain)"
   ]
  },
  {
   "cell_type": "code",
   "execution_count": 37,
   "metadata": {
    "ExecuteTime": {
     "end_time": "2022-03-17T09:46:50.794755Z",
     "start_time": "2022-03-17T09:46:50.751616Z"
    }
   },
   "outputs": [
    {
     "data": {
      "text/html": [
       "<div>\n",
       "<style scoped>\n",
       "    .dataframe tbody tr th:only-of-type {\n",
       "        vertical-align: middle;\n",
       "    }\n",
       "\n",
       "    .dataframe tbody tr th {\n",
       "        vertical-align: top;\n",
       "    }\n",
       "\n",
       "    .dataframe thead th {\n",
       "        text-align: right;\n",
       "    }\n",
       "</style>\n",
       "<table border=\"1\" class=\"dataframe\">\n",
       "  <thead>\n",
       "    <tr style=\"text-align: right;\">\n",
       "      <th></th>\n",
       "      <th>params</th>\n",
       "      <th>mean_train_score</th>\n",
       "      <th>mean_test_score</th>\n",
       "      <th>diff, %</th>\n",
       "    </tr>\n",
       "  </thead>\n",
       "  <tbody>\n",
       "    <tr>\n",
       "      <th>16</th>\n",
       "      <td>{'rfc__max_depth': None, 'rfc__n_estimators': 500, 'smote__sampling_strategy': 0.75}</td>\n",
       "      <td>0.999103</td>\n",
       "      <td>0.604550</td>\n",
       "      <td>39.490751</td>\n",
       "    </tr>\n",
       "    <tr>\n",
       "      <th>13</th>\n",
       "      <td>{'rfc__max_depth': None, 'rfc__n_estimators': 200, 'smote__sampling_strategy': 0.75}</td>\n",
       "      <td>0.999103</td>\n",
       "      <td>0.602411</td>\n",
       "      <td>39.704816</td>\n",
       "    </tr>\n",
       "    <tr>\n",
       "      <th>4</th>\n",
       "      <td>{'rfc__max_depth': 5, 'rfc__n_estimators': 200, 'smote__sampling_strategy': 0.75}</td>\n",
       "      <td>0.636011</td>\n",
       "      <td>0.600544</td>\n",
       "      <td>5.576427</td>\n",
       "    </tr>\n",
       "    <tr>\n",
       "      <th>7</th>\n",
       "      <td>{'rfc__max_depth': 5, 'rfc__n_estimators': 500, 'smote__sampling_strategy': 0.75}</td>\n",
       "      <td>0.636938</td>\n",
       "      <td>0.598578</td>\n",
       "      <td>6.022612</td>\n",
       "    </tr>\n",
       "    <tr>\n",
       "      <th>1</th>\n",
       "      <td>{'rfc__max_depth': 5, 'rfc__n_estimators': 100, 'smote__sampling_strategy': 0.75}</td>\n",
       "      <td>0.634858</td>\n",
       "      <td>0.598396</td>\n",
       "      <td>5.743418</td>\n",
       "    </tr>\n",
       "    <tr>\n",
       "      <th>15</th>\n",
       "      <td>{'rfc__max_depth': None, 'rfc__n_estimators': 500, 'smote__sampling_strategy': 0.5}</td>\n",
       "      <td>0.999103</td>\n",
       "      <td>0.598299</td>\n",
       "      <td>40.116389</td>\n",
       "    </tr>\n",
       "    <tr>\n",
       "      <th>17</th>\n",
       "      <td>{'rfc__max_depth': None, 'rfc__n_estimators': 500, 'smote__sampling_strategy': 1.0}</td>\n",
       "      <td>0.999070</td>\n",
       "      <td>0.598293</td>\n",
       "      <td>40.115006</td>\n",
       "    </tr>\n",
       "    <tr>\n",
       "      <th>3</th>\n",
       "      <td>{'rfc__max_depth': 5, 'rfc__n_estimators': 200, 'smote__sampling_strategy': 0.5}</td>\n",
       "      <td>0.618877</td>\n",
       "      <td>0.597513</td>\n",
       "      <td>3.452094</td>\n",
       "    </tr>\n",
       "    <tr>\n",
       "      <th>10</th>\n",
       "      <td>{'rfc__max_depth': None, 'rfc__n_estimators': 100, 'smote__sampling_strategy': 0.75}</td>\n",
       "      <td>0.999103</td>\n",
       "      <td>0.597449</td>\n",
       "      <td>40.201454</td>\n",
       "    </tr>\n",
       "    <tr>\n",
       "      <th>14</th>\n",
       "      <td>{'rfc__max_depth': None, 'rfc__n_estimators': 200, 'smote__sampling_strategy': 1.0}</td>\n",
       "      <td>0.999070</td>\n",
       "      <td>0.597210</td>\n",
       "      <td>40.223370</td>\n",
       "    </tr>\n",
       "    <tr>\n",
       "      <th>6</th>\n",
       "      <td>{'rfc__max_depth': 5, 'rfc__n_estimators': 500, 'smote__sampling_strategy': 0.5}</td>\n",
       "      <td>0.618304</td>\n",
       "      <td>0.597171</td>\n",
       "      <td>3.417802</td>\n",
       "    </tr>\n",
       "    <tr>\n",
       "      <th>0</th>\n",
       "      <td>{'rfc__max_depth': 5, 'rfc__n_estimators': 100, 'smote__sampling_strategy': 0.5}</td>\n",
       "      <td>0.618380</td>\n",
       "      <td>0.597042</td>\n",
       "      <td>3.450649</td>\n",
       "    </tr>\n",
       "    <tr>\n",
       "      <th>9</th>\n",
       "      <td>{'rfc__max_depth': None, 'rfc__n_estimators': 100, 'smote__sampling_strategy': 0.5}</td>\n",
       "      <td>0.999103</td>\n",
       "      <td>0.595497</td>\n",
       "      <td>40.396869</td>\n",
       "    </tr>\n",
       "    <tr>\n",
       "      <th>11</th>\n",
       "      <td>{'rfc__max_depth': None, 'rfc__n_estimators': 100, 'smote__sampling_strategy': 1.0}</td>\n",
       "      <td>0.999070</td>\n",
       "      <td>0.594997</td>\n",
       "      <td>40.444876</td>\n",
       "    </tr>\n",
       "    <tr>\n",
       "      <th>12</th>\n",
       "      <td>{'rfc__max_depth': None, 'rfc__n_estimators': 200, 'smote__sampling_strategy': 0.5}</td>\n",
       "      <td>0.999103</td>\n",
       "      <td>0.594283</td>\n",
       "      <td>40.518307</td>\n",
       "    </tr>\n",
       "    <tr>\n",
       "      <th>2</th>\n",
       "      <td>{'rfc__max_depth': 5, 'rfc__n_estimators': 100, 'smote__sampling_strategy': 1.0}</td>\n",
       "      <td>0.585683</td>\n",
       "      <td>0.554671</td>\n",
       "      <td>5.295142</td>\n",
       "    </tr>\n",
       "    <tr>\n",
       "      <th>5</th>\n",
       "      <td>{'rfc__max_depth': 5, 'rfc__n_estimators': 200, 'smote__sampling_strategy': 1.0}</td>\n",
       "      <td>0.586113</td>\n",
       "      <td>0.552801</td>\n",
       "      <td>5.683607</td>\n",
       "    </tr>\n",
       "    <tr>\n",
       "      <th>8</th>\n",
       "      <td>{'rfc__max_depth': 5, 'rfc__n_estimators': 500, 'smote__sampling_strategy': 1.0}</td>\n",
       "      <td>0.587016</td>\n",
       "      <td>0.552236</td>\n",
       "      <td>5.924913</td>\n",
       "    </tr>\n",
       "  </tbody>\n",
       "</table>\n",
       "</div>"
      ],
      "text/plain": [
       "                                                                                  params  \\\n",
       "16  {'rfc__max_depth': None, 'rfc__n_estimators': 500, 'smote__sampling_strategy': 0.75}   \n",
       "13  {'rfc__max_depth': None, 'rfc__n_estimators': 200, 'smote__sampling_strategy': 0.75}   \n",
       "4      {'rfc__max_depth': 5, 'rfc__n_estimators': 200, 'smote__sampling_strategy': 0.75}   \n",
       "7      {'rfc__max_depth': 5, 'rfc__n_estimators': 500, 'smote__sampling_strategy': 0.75}   \n",
       "1      {'rfc__max_depth': 5, 'rfc__n_estimators': 100, 'smote__sampling_strategy': 0.75}   \n",
       "15   {'rfc__max_depth': None, 'rfc__n_estimators': 500, 'smote__sampling_strategy': 0.5}   \n",
       "17   {'rfc__max_depth': None, 'rfc__n_estimators': 500, 'smote__sampling_strategy': 1.0}   \n",
       "3       {'rfc__max_depth': 5, 'rfc__n_estimators': 200, 'smote__sampling_strategy': 0.5}   \n",
       "10  {'rfc__max_depth': None, 'rfc__n_estimators': 100, 'smote__sampling_strategy': 0.75}   \n",
       "14   {'rfc__max_depth': None, 'rfc__n_estimators': 200, 'smote__sampling_strategy': 1.0}   \n",
       "6       {'rfc__max_depth': 5, 'rfc__n_estimators': 500, 'smote__sampling_strategy': 0.5}   \n",
       "0       {'rfc__max_depth': 5, 'rfc__n_estimators': 100, 'smote__sampling_strategy': 0.5}   \n",
       "9    {'rfc__max_depth': None, 'rfc__n_estimators': 100, 'smote__sampling_strategy': 0.5}   \n",
       "11   {'rfc__max_depth': None, 'rfc__n_estimators': 100, 'smote__sampling_strategy': 1.0}   \n",
       "12   {'rfc__max_depth': None, 'rfc__n_estimators': 200, 'smote__sampling_strategy': 0.5}   \n",
       "2       {'rfc__max_depth': 5, 'rfc__n_estimators': 100, 'smote__sampling_strategy': 1.0}   \n",
       "5       {'rfc__max_depth': 5, 'rfc__n_estimators': 200, 'smote__sampling_strategy': 1.0}   \n",
       "8       {'rfc__max_depth': 5, 'rfc__n_estimators': 500, 'smote__sampling_strategy': 1.0}   \n",
       "\n",
       "    mean_train_score  mean_test_score    diff, %  \n",
       "16          0.999103         0.604550  39.490751  \n",
       "13          0.999103         0.602411  39.704816  \n",
       "4           0.636011         0.600544   5.576427  \n",
       "7           0.636938         0.598578   6.022612  \n",
       "1           0.634858         0.598396   5.743418  \n",
       "15          0.999103         0.598299  40.116389  \n",
       "17          0.999070         0.598293  40.115006  \n",
       "3           0.618877         0.597513   3.452094  \n",
       "10          0.999103         0.597449  40.201454  \n",
       "14          0.999070         0.597210  40.223370  \n",
       "6           0.618304         0.597171   3.417802  \n",
       "0           0.618380         0.597042   3.450649  \n",
       "9           0.999103         0.595497  40.396869  \n",
       "11          0.999070         0.594997  40.444876  \n",
       "12          0.999103         0.594283  40.518307  \n",
       "2           0.585683         0.554671   5.295142  \n",
       "5           0.586113         0.552801   5.683607  \n",
       "8           0.587016         0.552236   5.924913  "
      ]
     },
     "metadata": {},
     "output_type": "display_data"
    }
   ],
   "source": [
    "print_cv_results(os_grid_search, col_width=100)"
   ]
  },
  {
   "cell_type": "code",
   "execution_count": 38,
   "metadata": {
    "ExecuteTime": {
     "end_time": "2022-03-17T09:47:05.771777Z",
     "start_time": "2022-03-17T09:46:50.796751Z"
    }
   },
   "outputs": [
    {
     "data": {
      "text/plain": [
       "<sklearn.metrics._plot.confusion_matrix.ConfusionMatrixDisplay at 0x1fe89d44610>"
      ]
     },
     "execution_count": 38,
     "metadata": {},
     "output_type": "execute_result"
    },
    {
     "data": {
      "image/png": "[encoded data removed]",
      "text/plain": [
       "<Figure size 432x288 with 2 Axes>"
      ]
     },
     "metadata": {
      "needs_background": "light"
     },
     "output_type": "display_data"
    }
   ],
   "source": [
    "# cross-validation confusion matrix on the training data\n",
    "yhat = cross_val_predict(os_grid_search.best_estimator_, Xtrain, ytrain, cv=10)\n",
    "\n",
    "ConfusionMatrixDisplay.from_predictions(ytrain, yhat, \n",
    "                                        labels=os_grid_search.best_estimator_.classes_, \n",
    "                                        normalize=\"true\",\n",
    "                                        cmap=plt.cm.Blues)"
   ]
  },
  {
   "cell_type": "code",
   "execution_count": 39,
   "metadata": {
    "ExecuteTime": {
     "end_time": "2022-03-17T09:47:06.001341Z",
     "start_time": "2022-03-17T09:47:05.773771Z"
    }
   },
   "outputs": [
    {
     "data": {
      "text/plain": [
       "<sklearn.metrics._plot.confusion_matrix.ConfusionMatrixDisplay at 0x1fe891f8c10>"
      ]
     },
     "execution_count": 39,
     "metadata": {},
     "output_type": "execute_result"
    },
    {
     "data": {
      "image/png": "[encoded data removed]",
      "text/plain": [
       "<Figure size 432x288 with 2 Axes>"
      ]
     },
     "metadata": {
      "needs_background": "light"
     },
     "output_type": "display_data"
    }
   ],
   "source": [
    "# confusion matrix on the test data\n",
    "ConfusionMatrixDisplay.from_estimator(os_grid_search.best_estimator_, Xtest, ytest,\n",
    "                                 display_labels=os_grid_search.best_estimator_.classes_,\n",
    "                                 cmap=plt.cm.Blues,\n",
    "                                 normalize='true')"
   ]
  },
  {
   "cell_type": "markdown",
   "metadata": {},
   "source": [
    "One can see that while the model still has a tendency to classify most test instances as \"yes\", its ratio is much smaller than before: 77% of \"no\" instances were classified as \"yes\". This is a big reduction compared to 97% of the classifier trained on unbalanced data."
   ]
  },
  {
   "cell_type": "markdown",
   "metadata": {},
   "source": [
    "## Random undersampling\n",
    "\n",
    "An alternative technique is to undersample the majority class, i.e. remove some training instances of the majority class from the data. As before, we can fine-tune the desired ratio of between the minority and majority classes using grid search.\n",
    "\n",
    "We'll first try random undersampling."
   ]
  },
  {
   "cell_type": "code",
   "execution_count": 40,
   "metadata": {
    "ExecuteTime": {
     "end_time": "2022-03-17T09:47:55.057989Z",
     "start_time": "2022-03-17T09:47:06.002338Z"
    }
   },
   "outputs": [
    {
     "data": {
      "text/plain": [
       "GridSearchCV(cv=10,\n",
       "             estimator=Pipeline(steps=[('rus',\n",
       "                                        RandomUnderSampler(random_state=7)),\n",
       "                                       ('rfc',\n",
       "                                        RandomForestClassifier(random_state=7))]),\n",
       "             param_grid=[{'rfc__max_depth': [5, None],\n",
       "                          'rfc__n_estimators': [100, 200, 500],\n",
       "                          'rus__sampling_strategy': [0.5, 0.75, 1.0]}],\n",
       "             return_train_score=True, scoring='f1_macro')"
      ]
     },
     "execution_count": 40,
     "metadata": {},
     "output_type": "execute_result"
    }
   ],
   "source": [
    "from imblearn.under_sampling import RandomUnderSampler\n",
    "\n",
    "pipeline = Pipeline([\n",
    "        ('rus', RandomUnderSampler(random_state=7)),\n",
    "        ('rfc', RandomForestClassifier(random_state=7))\n",
    "    ])\n",
    "\n",
    "\n",
    "param_grid = [\n",
    "    {\n",
    "        'rus__sampling_strategy': [0.5, 0.75, 1.0],\n",
    "        'rfc__n_estimators': [100, 200, 500],\n",
    "        'rfc__max_depth': [5, None]\n",
    "    },\n",
    "]\n",
    "\n",
    "rus_grid_search = GridSearchCV(pipeline, param_grid, cv=10, \n",
    "                              scoring='f1_macro',\n",
    "                              return_train_score=True)\n",
    "\n",
    "rus_grid_search.fit(Xtrain, ytrain)"
   ]
  },
  {
   "cell_type": "code",
   "execution_count": 41,
   "metadata": {
    "ExecuteTime": {
     "end_time": "2022-03-17T09:47:55.088978Z",
     "start_time": "2022-03-17T09:47:55.059991Z"
    }
   },
   "outputs": [
    {
     "data": {
      "text/html": [
       "<div>\n",
       "<style scoped>\n",
       "    .dataframe tbody tr th:only-of-type {\n",
       "        vertical-align: middle;\n",
       "    }\n",
       "\n",
       "    .dataframe tbody tr th {\n",
       "        vertical-align: top;\n",
       "    }\n",
       "\n",
       "    .dataframe thead th {\n",
       "        text-align: right;\n",
       "    }\n",
       "</style>\n",
       "<table border=\"1\" class=\"dataframe\">\n",
       "  <thead>\n",
       "    <tr style=\"text-align: right;\">\n",
       "      <th></th>\n",
       "      <th>params</th>\n",
       "      <th>mean_train_score</th>\n",
       "      <th>mean_test_score</th>\n",
       "      <th>diff, %</th>\n",
       "    </tr>\n",
       "  </thead>\n",
       "  <tbody>\n",
       "    <tr>\n",
       "      <th>15</th>\n",
       "      <td>{'rfc__max_depth': None, 'rfc__n_estimators': 500, 'rus__sampling_strategy': 0.5}</td>\n",
       "      <td>0.890168</td>\n",
       "      <td>0.618284</td>\n",
       "      <td>30.542981</td>\n",
       "    </tr>\n",
       "    <tr>\n",
       "      <th>12</th>\n",
       "      <td>{'rfc__max_depth': None, 'rfc__n_estimators': 200, 'rus__sampling_strategy': 0.5}</td>\n",
       "      <td>0.887443</td>\n",
       "      <td>0.613916</td>\n",
       "      <td>30.821924</td>\n",
       "    </tr>\n",
       "    <tr>\n",
       "      <th>9</th>\n",
       "      <td>{'rfc__max_depth': None, 'rfc__n_estimators': 100, 'rus__sampling_strategy': 0.5}</td>\n",
       "      <td>0.884638</td>\n",
       "      <td>0.613439</td>\n",
       "      <td>30.656495</td>\n",
       "    </tr>\n",
       "    <tr>\n",
       "      <th>7</th>\n",
       "      <td>{'rfc__max_depth': 5, 'rfc__n_estimators': 500, 'rus__sampling_strategy': 0.75}</td>\n",
       "      <td>0.635347</td>\n",
       "      <td>0.598540</td>\n",
       "      <td>5.793239</td>\n",
       "    </tr>\n",
       "    <tr>\n",
       "      <th>4</th>\n",
       "      <td>{'rfc__max_depth': 5, 'rfc__n_estimators': 200, 'rus__sampling_strategy': 0.75}</td>\n",
       "      <td>0.633796</td>\n",
       "      <td>0.595756</td>\n",
       "      <td>6.002055</td>\n",
       "    </tr>\n",
       "    <tr>\n",
       "      <th>0</th>\n",
       "      <td>{'rfc__max_depth': 5, 'rfc__n_estimators': 100, 'rus__sampling_strategy': 0.5}</td>\n",
       "      <td>0.640273</td>\n",
       "      <td>0.595026</td>\n",
       "      <td>7.066798</td>\n",
       "    </tr>\n",
       "    <tr>\n",
       "      <th>1</th>\n",
       "      <td>{'rfc__max_depth': 5, 'rfc__n_estimators': 100, 'rus__sampling_strategy': 0.75}</td>\n",
       "      <td>0.634036</td>\n",
       "      <td>0.594839</td>\n",
       "      <td>6.182247</td>\n",
       "    </tr>\n",
       "    <tr>\n",
       "      <th>16</th>\n",
       "      <td>{'rfc__max_depth': None, 'rfc__n_estimators': 500, 'rus__sampling_strategy': 0.75}</td>\n",
       "      <td>0.773822</td>\n",
       "      <td>0.594340</td>\n",
       "      <td>23.194170</td>\n",
       "    </tr>\n",
       "    <tr>\n",
       "      <th>6</th>\n",
       "      <td>{'rfc__max_depth': 5, 'rfc__n_estimators': 500, 'rus__sampling_strategy': 0.5}</td>\n",
       "      <td>0.640526</td>\n",
       "      <td>0.592168</td>\n",
       "      <td>7.549815</td>\n",
       "    </tr>\n",
       "    <tr>\n",
       "      <th>3</th>\n",
       "      <td>{'rfc__max_depth': 5, 'rfc__n_estimators': 200, 'rus__sampling_strategy': 0.5}</td>\n",
       "      <td>0.639680</td>\n",
       "      <td>0.591433</td>\n",
       "      <td>7.542445</td>\n",
       "    </tr>\n",
       "    <tr>\n",
       "      <th>13</th>\n",
       "      <td>{'rfc__max_depth': None, 'rfc__n_estimators': 200, 'rus__sampling_strategy': 0.75}</td>\n",
       "      <td>0.773281</td>\n",
       "      <td>0.590612</td>\n",
       "      <td>23.622674</td>\n",
       "    </tr>\n",
       "    <tr>\n",
       "      <th>10</th>\n",
       "      <td>{'rfc__max_depth': None, 'rfc__n_estimators': 100, 'rus__sampling_strategy': 0.75}</td>\n",
       "      <td>0.770471</td>\n",
       "      <td>0.589643</td>\n",
       "      <td>23.469859</td>\n",
       "    </tr>\n",
       "    <tr>\n",
       "      <th>17</th>\n",
       "      <td>{'rfc__max_depth': None, 'rfc__n_estimators': 500, 'rus__sampling_strategy': 1.0}</td>\n",
       "      <td>0.671632</td>\n",
       "      <td>0.543854</td>\n",
       "      <td>19.024900</td>\n",
       "    </tr>\n",
       "    <tr>\n",
       "      <th>11</th>\n",
       "      <td>{'rfc__max_depth': None, 'rfc__n_estimators': 100, 'rus__sampling_strategy': 1.0}</td>\n",
       "      <td>0.667496</td>\n",
       "      <td>0.542365</td>\n",
       "      <td>18.746290</td>\n",
       "    </tr>\n",
       "    <tr>\n",
       "      <th>14</th>\n",
       "      <td>{'rfc__max_depth': None, 'rfc__n_estimators': 200, 'rus__sampling_strategy': 1.0}</td>\n",
       "      <td>0.669872</td>\n",
       "      <td>0.541862</td>\n",
       "      <td>19.109622</td>\n",
       "    </tr>\n",
       "    <tr>\n",
       "      <th>2</th>\n",
       "      <td>{'rfc__max_depth': 5, 'rfc__n_estimators': 100, 'rus__sampling_strategy': 1.0}</td>\n",
       "      <td>0.556536</td>\n",
       "      <td>0.525435</td>\n",
       "      <td>5.588461</td>\n",
       "    </tr>\n",
       "    <tr>\n",
       "      <th>8</th>\n",
       "      <td>{'rfc__max_depth': 5, 'rfc__n_estimators': 500, 'rus__sampling_strategy': 1.0}</td>\n",
       "      <td>0.554896</td>\n",
       "      <td>0.524153</td>\n",
       "      <td>5.540403</td>\n",
       "    </tr>\n",
       "    <tr>\n",
       "      <th>5</th>\n",
       "      <td>{'rfc__max_depth': 5, 'rfc__n_estimators': 200, 'rus__sampling_strategy': 1.0}</td>\n",
       "      <td>0.554393</td>\n",
       "      <td>0.523018</td>\n",
       "      <td>5.659273</td>\n",
       "    </tr>\n",
       "  </tbody>\n",
       "</table>\n",
       "</div>"
      ],
      "text/plain": [
       "                                                                                params  \\\n",
       "15   {'rfc__max_depth': None, 'rfc__n_estimators': 500, 'rus__sampling_strategy': 0.5}   \n",
       "12   {'rfc__max_depth': None, 'rfc__n_estimators': 200, 'rus__sampling_strategy': 0.5}   \n",
       "9    {'rfc__max_depth': None, 'rfc__n_estimators': 100, 'rus__sampling_strategy': 0.5}   \n",
       "7      {'rfc__max_depth': 5, 'rfc__n_estimators': 500, 'rus__sampling_strategy': 0.75}   \n",
       "4      {'rfc__max_depth': 5, 'rfc__n_estimators': 200, 'rus__sampling_strategy': 0.75}   \n",
       "0       {'rfc__max_depth': 5, 'rfc__n_estimators': 100, 'rus__sampling_strategy': 0.5}   \n",
       "1      {'rfc__max_depth': 5, 'rfc__n_estimators': 100, 'rus__sampling_strategy': 0.75}   \n",
       "16  {'rfc__max_depth': None, 'rfc__n_estimators': 500, 'rus__sampling_strategy': 0.75}   \n",
       "6       {'rfc__max_depth': 5, 'rfc__n_estimators': 500, 'rus__sampling_strategy': 0.5}   \n",
       "3       {'rfc__max_depth': 5, 'rfc__n_estimators': 200, 'rus__sampling_strategy': 0.5}   \n",
       "13  {'rfc__max_depth': None, 'rfc__n_estimators': 200, 'rus__sampling_strategy': 0.75}   \n",
       "10  {'rfc__max_depth': None, 'rfc__n_estimators': 100, 'rus__sampling_strategy': 0.75}   \n",
       "17   {'rfc__max_depth': None, 'rfc__n_estimators': 500, 'rus__sampling_strategy': 1.0}   \n",
       "11   {'rfc__max_depth': None, 'rfc__n_estimators': 100, 'rus__sampling_strategy': 1.0}   \n",
       "14   {'rfc__max_depth': None, 'rfc__n_estimators': 200, 'rus__sampling_strategy': 1.0}   \n",
       "2       {'rfc__max_depth': 5, 'rfc__n_estimators': 100, 'rus__sampling_strategy': 1.0}   \n",
       "8       {'rfc__max_depth': 5, 'rfc__n_estimators': 500, 'rus__sampling_strategy': 1.0}   \n",
       "5       {'rfc__max_depth': 5, 'rfc__n_estimators': 200, 'rus__sampling_strategy': 1.0}   \n",
       "\n",
       "    mean_train_score  mean_test_score    diff, %  \n",
       "15          0.890168         0.618284  30.542981  \n",
       "12          0.887443         0.613916  30.821924  \n",
       "9           0.884638         0.613439  30.656495  \n",
       "7           0.635347         0.598540   5.793239  \n",
       "4           0.633796         0.595756   6.002055  \n",
       "0           0.640273         0.595026   7.066798  \n",
       "1           0.634036         0.594839   6.182247  \n",
       "16          0.773822         0.594340  23.194170  \n",
       "6           0.640526         0.592168   7.549815  \n",
       "3           0.639680         0.591433   7.542445  \n",
       "13          0.773281         0.590612  23.622674  \n",
       "10          0.770471         0.589643  23.469859  \n",
       "17          0.671632         0.543854  19.024900  \n",
       "11          0.667496         0.542365  18.746290  \n",
       "14          0.669872         0.541862  19.109622  \n",
       "2           0.556536         0.525435   5.588461  \n",
       "8           0.554896         0.524153   5.540403  \n",
       "5           0.554393         0.523018   5.659273  "
      ]
     },
     "metadata": {},
     "output_type": "display_data"
    }
   ],
   "source": [
    "print_cv_results(rus_grid_search, col_width=100)"
   ]
  },
  {
   "cell_type": "code",
   "execution_count": 42,
   "metadata": {
    "ExecuteTime": {
     "end_time": "2022-03-17T09:48:00.737657Z",
     "start_time": "2022-03-17T09:47:55.090927Z"
    }
   },
   "outputs": [
    {
     "data": {
      "text/plain": [
       "<sklearn.metrics._plot.confusion_matrix.ConfusionMatrixDisplay at 0x1fe8a845a30>"
      ]
     },
     "execution_count": 42,
     "metadata": {},
     "output_type": "execute_result"
    },
    {
     "data": {
      "image/png": "[encoded data removed]",
      "text/plain": [
       "<Figure size 432x288 with 2 Axes>"
      ]
     },
     "metadata": {
      "needs_background": "light"
     },
     "output_type": "display_data"
    }
   ],
   "source": [
    "# cross-validation confusion matrix on the training data\n",
    "yhat = cross_val_predict(rus_grid_search.best_estimator_, Xtrain, ytrain, cv=10)\n",
    "\n",
    "ConfusionMatrixDisplay.from_predictions(ytrain, yhat, \n",
    "                                        labels=rus_grid_search.best_estimator_.classes_, \n",
    "                                        normalize=\"true\",\n",
    "                                        cmap=plt.cm.Blues)"
   ]
  },
  {
   "cell_type": "code",
   "execution_count": 43,
   "metadata": {
    "ExecuteTime": {
     "end_time": "2022-03-17T09:48:00.981563Z",
     "start_time": "2022-03-17T09:48:00.739652Z"
    }
   },
   "outputs": [
    {
     "data": {
      "text/plain": [
       "<sklearn.metrics._plot.confusion_matrix.ConfusionMatrixDisplay at 0x1fe891f8b80>"
      ]
     },
     "execution_count": 43,
     "metadata": {},
     "output_type": "execute_result"
    },
    {
     "data": {
      "image/png": "[encoded data removed]",
      "text/plain": [
       "<Figure size 432x288 with 2 Axes>"
      ]
     },
     "metadata": {
      "needs_background": "light"
     },
     "output_type": "display_data"
    }
   ],
   "source": [
    "# confusion matrix on the test data\n",
    "ConfusionMatrixDisplay.from_estimator(os_grid_search.best_estimator_, Xtest, ytest,\n",
    "                                 display_labels=os_grid_search.best_estimator_.classes_,\n",
    "                                 cmap=plt.cm.Blues,\n",
    "                                 normalize='true')"
   ]
  },
  {
   "cell_type": "markdown",
   "metadata": {},
   "source": [
    "Judging from the confusion matrices, the classifier tends to mis-classify the minority class, but to a much lesser degree than the classifier trained on the unbalanced data. This also results in an improved F-score."
   ]
  },
  {
   "cell_type": "markdown",
   "metadata": {},
   "source": [
    "## Undersampling with Cluster Centroids"
   ]
  },
  {
   "cell_type": "code",
   "execution_count": 44,
   "metadata": {
    "ExecuteTime": {
     "end_time": "2022-03-17T09:58:21.606615Z",
     "start_time": "2022-03-17T09:48:00.983559Z"
    }
   },
   "outputs": [
    {
     "data": {
      "text/plain": [
       "GridSearchCV(cv=10,\n",
       "             estimator=Pipeline(steps=[('cc', ClusterCentroids(random_state=7)),\n",
       "                                       ('rfc',\n",
       "                                        RandomForestClassifier(random_state=7))]),\n",
       "             param_grid=[{'cc__sampling_strategy': [0.5, 0.75, 1.0],\n",
       "                          'rfc__max_depth': [5, None],\n",
       "                          'rfc__n_estimators': [100, 200, 500]}],\n",
       "             return_train_score=True, scoring='f1_macro')"
      ]
     },
     "execution_count": 44,
     "metadata": {},
     "output_type": "execute_result"
    }
   ],
   "source": [
    "from imblearn.under_sampling import ClusterCentroids\n",
    "\n",
    "pipeline = Pipeline([\n",
    "        ('cc', ClusterCentroids(random_state=7)),\n",
    "        ('rfc', RandomForestClassifier(random_state=7))\n",
    "    ])\n",
    "\n",
    "\n",
    "param_grid = [\n",
    "    {\n",
    "        'cc__sampling_strategy': [0.5, 0.75, 1.0],\n",
    "        'rfc__n_estimators': [100, 200, 500],\n",
    "        'rfc__max_depth': [5, None]\n",
    "    },\n",
    "]\n",
    "\n",
    "# we'll use 10-fold cross-validation\n",
    "us_grid_search = GridSearchCV(pipeline, param_grid, cv=10, \n",
    "                              scoring='f1_macro',\n",
    "                              return_train_score=True)\n",
    "\n",
    "us_grid_search.fit(Xtrain, ytrain)"
   ]
  },
  {
   "cell_type": "code",
   "execution_count": 45,
   "metadata": {
    "ExecuteTime": {
     "end_time": "2022-03-17T09:58:21.640779Z",
     "start_time": "2022-03-17T09:58:21.607612Z"
    }
   },
   "outputs": [
    {
     "data": {
      "text/html": [
       "<div>\n",
       "<style scoped>\n",
       "    .dataframe tbody tr th:only-of-type {\n",
       "        vertical-align: middle;\n",
       "    }\n",
       "\n",
       "    .dataframe tbody tr th {\n",
       "        vertical-align: top;\n",
       "    }\n",
       "\n",
       "    .dataframe thead th {\n",
       "        text-align: right;\n",
       "    }\n",
       "</style>\n",
       "<table border=\"1\" class=\"dataframe\">\n",
       "  <thead>\n",
       "    <tr style=\"text-align: right;\">\n",
       "      <th></th>\n",
       "      <th>params</th>\n",
       "      <th>mean_train_score</th>\n",
       "      <th>mean_test_score</th>\n",
       "      <th>diff, %</th>\n",
       "    </tr>\n",
       "  </thead>\n",
       "  <tbody>\n",
       "    <tr>\n",
       "      <th>4</th>\n",
       "      <td>{'cc__sampling_strategy': 0.5, 'rfc__max_depth': None, 'rfc__n_estimators': 200}</td>\n",
       "      <td>0.756620</td>\n",
       "      <td>0.590932</td>\n",
       "      <td>21.898353</td>\n",
       "    </tr>\n",
       "    <tr>\n",
       "      <th>5</th>\n",
       "      <td>{'cc__sampling_strategy': 0.5, 'rfc__max_depth': None, 'rfc__n_estimators': 500}</td>\n",
       "      <td>0.758930</td>\n",
       "      <td>0.589761</td>\n",
       "      <td>22.290496</td>\n",
       "    </tr>\n",
       "    <tr>\n",
       "      <th>3</th>\n",
       "      <td>{'cc__sampling_strategy': 0.5, 'rfc__max_depth': None, 'rfc__n_estimators': 100}</td>\n",
       "      <td>0.754038</td>\n",
       "      <td>0.586581</td>\n",
       "      <td>22.207972</td>\n",
       "    </tr>\n",
       "    <tr>\n",
       "      <th>0</th>\n",
       "      <td>{'cc__sampling_strategy': 0.5, 'rfc__max_depth': 5, 'rfc__n_estimators': 100}</td>\n",
       "      <td>0.596981</td>\n",
       "      <td>0.580230</td>\n",
       "      <td>2.805919</td>\n",
       "    </tr>\n",
       "    <tr>\n",
       "      <th>2</th>\n",
       "      <td>{'cc__sampling_strategy': 0.5, 'rfc__max_depth': 5, 'rfc__n_estimators': 500}</td>\n",
       "      <td>0.597282</td>\n",
       "      <td>0.579132</td>\n",
       "      <td>3.038808</td>\n",
       "    </tr>\n",
       "    <tr>\n",
       "      <th>1</th>\n",
       "      <td>{'cc__sampling_strategy': 0.5, 'rfc__max_depth': 5, 'rfc__n_estimators': 200}</td>\n",
       "      <td>0.597883</td>\n",
       "      <td>0.577019</td>\n",
       "      <td>3.489705</td>\n",
       "    </tr>\n",
       "    <tr>\n",
       "      <th>11</th>\n",
       "      <td>{'cc__sampling_strategy': 0.75, 'rfc__max_depth': None, 'rfc__n_estimators': 500}</td>\n",
       "      <td>0.673973</td>\n",
       "      <td>0.555236</td>\n",
       "      <td>17.617424</td>\n",
       "    </tr>\n",
       "    <tr>\n",
       "      <th>10</th>\n",
       "      <td>{'cc__sampling_strategy': 0.75, 'rfc__max_depth': None, 'rfc__n_estimators': 200}</td>\n",
       "      <td>0.672515</td>\n",
       "      <td>0.551983</td>\n",
       "      <td>17.922657</td>\n",
       "    </tr>\n",
       "    <tr>\n",
       "      <th>9</th>\n",
       "      <td>{'cc__sampling_strategy': 0.75, 'rfc__max_depth': None, 'rfc__n_estimators': 100}</td>\n",
       "      <td>0.669611</td>\n",
       "      <td>0.550964</td>\n",
       "      <td>17.718699</td>\n",
       "    </tr>\n",
       "    <tr>\n",
       "      <th>7</th>\n",
       "      <td>{'cc__sampling_strategy': 0.75, 'rfc__max_depth': 5, 'rfc__n_estimators': 200}</td>\n",
       "      <td>0.556911</td>\n",
       "      <td>0.537138</td>\n",
       "      <td>3.550492</td>\n",
       "    </tr>\n",
       "    <tr>\n",
       "      <th>8</th>\n",
       "      <td>{'cc__sampling_strategy': 0.75, 'rfc__max_depth': 5, 'rfc__n_estimators': 500}</td>\n",
       "      <td>0.557211</td>\n",
       "      <td>0.536925</td>\n",
       "      <td>3.640629</td>\n",
       "    </tr>\n",
       "    <tr>\n",
       "      <th>6</th>\n",
       "      <td>{'cc__sampling_strategy': 0.75, 'rfc__max_depth': 5, 'rfc__n_estimators': 100}</td>\n",
       "      <td>0.556496</td>\n",
       "      <td>0.536781</td>\n",
       "      <td>3.542768</td>\n",
       "    </tr>\n",
       "    <tr>\n",
       "      <th>17</th>\n",
       "      <td>{'cc__sampling_strategy': 1.0, 'rfc__max_depth': None, 'rfc__n_estimators': 500}</td>\n",
       "      <td>0.607925</td>\n",
       "      <td>0.518203</td>\n",
       "      <td>14.758625</td>\n",
       "    </tr>\n",
       "    <tr>\n",
       "      <th>16</th>\n",
       "      <td>{'cc__sampling_strategy': 1.0, 'rfc__max_depth': None, 'rfc__n_estimators': 200}</td>\n",
       "      <td>0.606814</td>\n",
       "      <td>0.517893</td>\n",
       "      <td>14.653865</td>\n",
       "    </tr>\n",
       "    <tr>\n",
       "      <th>15</th>\n",
       "      <td>{'cc__sampling_strategy': 1.0, 'rfc__max_depth': None, 'rfc__n_estimators': 100}</td>\n",
       "      <td>0.605750</td>\n",
       "      <td>0.515563</td>\n",
       "      <td>14.888572</td>\n",
       "    </tr>\n",
       "    <tr>\n",
       "      <th>14</th>\n",
       "      <td>{'cc__sampling_strategy': 1.0, 'rfc__max_depth': 5, 'rfc__n_estimators': 500}</td>\n",
       "      <td>0.515081</td>\n",
       "      <td>0.499908</td>\n",
       "      <td>2.945774</td>\n",
       "    </tr>\n",
       "    <tr>\n",
       "      <th>12</th>\n",
       "      <td>{'cc__sampling_strategy': 1.0, 'rfc__max_depth': 5, 'rfc__n_estimators': 100}</td>\n",
       "      <td>0.515151</td>\n",
       "      <td>0.499885</td>\n",
       "      <td>2.963511</td>\n",
       "    </tr>\n",
       "    <tr>\n",
       "      <th>13</th>\n",
       "      <td>{'cc__sampling_strategy': 1.0, 'rfc__max_depth': 5, 'rfc__n_estimators': 200}</td>\n",
       "      <td>0.514137</td>\n",
       "      <td>0.499293</td>\n",
       "      <td>2.887090</td>\n",
       "    </tr>\n",
       "  </tbody>\n",
       "</table>\n",
       "</div>"
      ],
      "text/plain": [
       "                                                                               params  \\\n",
       "4    {'cc__sampling_strategy': 0.5, 'rfc__max_depth': None, 'rfc__n_estimators': 200}   \n",
       "5    {'cc__sampling_strategy': 0.5, 'rfc__max_depth': None, 'rfc__n_estimators': 500}   \n",
       "3    {'cc__sampling_strategy': 0.5, 'rfc__max_depth': None, 'rfc__n_estimators': 100}   \n",
       "0       {'cc__sampling_strategy': 0.5, 'rfc__max_depth': 5, 'rfc__n_estimators': 100}   \n",
       "2       {'cc__sampling_strategy': 0.5, 'rfc__max_depth': 5, 'rfc__n_estimators': 500}   \n",
       "1       {'cc__sampling_strategy': 0.5, 'rfc__max_depth': 5, 'rfc__n_estimators': 200}   \n",
       "11  {'cc__sampling_strategy': 0.75, 'rfc__max_depth': None, 'rfc__n_estimators': 500}   \n",
       "10  {'cc__sampling_strategy': 0.75, 'rfc__max_depth': None, 'rfc__n_estimators': 200}   \n",
       "9   {'cc__sampling_strategy': 0.75, 'rfc__max_depth': None, 'rfc__n_estimators': 100}   \n",
       "7      {'cc__sampling_strategy': 0.75, 'rfc__max_depth': 5, 'rfc__n_estimators': 200}   \n",
       "8      {'cc__sampling_strategy': 0.75, 'rfc__max_depth': 5, 'rfc__n_estimators': 500}   \n",
       "6      {'cc__sampling_strategy': 0.75, 'rfc__max_depth': 5, 'rfc__n_estimators': 100}   \n",
       "17   {'cc__sampling_strategy': 1.0, 'rfc__max_depth': None, 'rfc__n_estimators': 500}   \n",
       "16   {'cc__sampling_strategy': 1.0, 'rfc__max_depth': None, 'rfc__n_estimators': 200}   \n",
       "15   {'cc__sampling_strategy': 1.0, 'rfc__max_depth': None, 'rfc__n_estimators': 100}   \n",
       "14      {'cc__sampling_strategy': 1.0, 'rfc__max_depth': 5, 'rfc__n_estimators': 500}   \n",
       "12      {'cc__sampling_strategy': 1.0, 'rfc__max_depth': 5, 'rfc__n_estimators': 100}   \n",
       "13      {'cc__sampling_strategy': 1.0, 'rfc__max_depth': 5, 'rfc__n_estimators': 200}   \n",
       "\n",
       "    mean_train_score  mean_test_score    diff, %  \n",
       "4           0.756620         0.590932  21.898353  \n",
       "5           0.758930         0.589761  22.290496  \n",
       "3           0.754038         0.586581  22.207972  \n",
       "0           0.596981         0.580230   2.805919  \n",
       "2           0.597282         0.579132   3.038808  \n",
       "1           0.597883         0.577019   3.489705  \n",
       "11          0.673973         0.555236  17.617424  \n",
       "10          0.672515         0.551983  17.922657  \n",
       "9           0.669611         0.550964  17.718699  \n",
       "7           0.556911         0.537138   3.550492  \n",
       "8           0.557211         0.536925   3.640629  \n",
       "6           0.556496         0.536781   3.542768  \n",
       "17          0.607925         0.518203  14.758625  \n",
       "16          0.606814         0.517893  14.653865  \n",
       "15          0.605750         0.515563  14.888572  \n",
       "14          0.515081         0.499908   2.945774  \n",
       "12          0.515151         0.499885   2.963511  \n",
       "13          0.514137         0.499293   2.887090  "
      ]
     },
     "metadata": {},
     "output_type": "display_data"
    }
   ],
   "source": [
    "print_cv_results(us_grid_search, col_width=100)"
   ]
  },
  {
   "cell_type": "code",
   "execution_count": 46,
   "metadata": {
    "ExecuteTime": {
     "end_time": "2022-03-17T09:59:06.863436Z",
     "start_time": "2022-03-17T09:58:21.642774Z"
    }
   },
   "outputs": [
    {
     "data": {
      "text/plain": [
       "<sklearn.metrics._plot.confusion_matrix.ConfusionMatrixDisplay at 0x1fe9417acd0>"
      ]
     },
     "execution_count": 46,
     "metadata": {},
     "output_type": "execute_result"
    },
    {
     "data": {
      "image/png": "[encoded data removed]",
      "text/plain": [
       "<Figure size 432x288 with 2 Axes>"
      ]
     },
     "metadata": {
      "needs_background": "light"
     },
     "output_type": "display_data"
    }
   ],
   "source": [
    "# cross-validation confusion matrix\n",
    "yhat = cross_val_predict(us_grid_search.best_estimator_, Xtrain, ytrain, cv=10)\n",
    "\n",
    "ConfusionMatrixDisplay.from_predictions(ytrain, yhat, \n",
    "                                        labels=rf_grid_search.best_estimator_.classes_, \n",
    "                                        normalize=\"true\",\n",
    "                                        cmap=plt.cm.Blues)"
   ]
  },
  {
   "cell_type": "code",
   "execution_count": 47,
   "metadata": {
    "ExecuteTime": {
     "end_time": "2022-03-17T09:59:07.038043Z",
     "start_time": "2022-03-17T09:59:06.865430Z"
    }
   },
   "outputs": [
    {
     "data": {
      "text/plain": [
       "<sklearn.metrics._plot.confusion_matrix.ConfusionMatrixDisplay at 0x1fe8e2bc5b0>"
      ]
     },
     "execution_count": 47,
     "metadata": {},
     "output_type": "execute_result"
    },
    {
     "data": {
      "image/png": "[encoded data removed]",
      "text/plain": [
       "<Figure size 432x288 with 2 Axes>"
      ]
     },
     "metadata": {
      "needs_background": "light"
     },
     "output_type": "display_data"
    }
   ],
   "source": [
    "# confusion matrix on the test data\n",
    "ConfusionMatrixDisplay.from_estimator(us_grid_search.best_estimator_, Xtest, ytest,\n",
    "                                 display_labels=us_grid_search.best_estimator_.classes_,\n",
    "                                 cmap=plt.cm.Blues,\n",
    "                                 normalize='true')"
   ]
  },
  {
   "cell_type": "markdown",
   "metadata": {},
   "source": [
    "As before, this technique improves the F-score on the one achieved with the classifier trained on unbalanced data. There are much fewer misclassifications of the minority class, although this is achieved at the expense of more errors classifying the majority class instances."
   ]
  },
  {
   "cell_type": "markdown",
   "metadata": {},
   "source": [
    "# Evaluate on test\n",
    "\n",
    "Finally, let's compared the performance of the original RF model to those created using over- and under-sampling on the test data:"
   ]
  },
  {
   "cell_type": "code",
   "execution_count": 48,
   "metadata": {
    "ExecuteTime": {
     "end_time": "2022-03-17T09:59:07.069957Z",
     "start_time": "2022-03-17T09:59:07.040039Z"
    }
   },
   "outputs": [
    {
     "name": "stdout",
     "output_type": "stream",
     "text": [
      "              precision    recall  f1-score   support\n",
      "\n",
      "          no       0.29      0.02      0.03       109\n",
      "         yes       0.85      0.99      0.92       624\n",
      "\n",
      "    accuracy                           0.85       733\n",
      "   macro avg       0.57      0.51      0.48       733\n",
      "weighted avg       0.77      0.85      0.79       733\n",
      "\n"
     ]
    }
   ],
   "source": [
    "# Unbalanced data\n",
    "evaluate_on_test(rf_grid_search.best_estimator_, ytest, Xtest)"
   ]
  },
  {
   "cell_type": "code",
   "execution_count": 49,
   "metadata": {
    "ExecuteTime": {
     "end_time": "2022-03-17T09:59:07.117023Z",
     "start_time": "2022-03-17T09:59:07.070955Z"
    }
   },
   "outputs": [
    {
     "name": "stdout",
     "output_type": "stream",
     "text": [
      "              precision    recall  f1-score   support\n",
      "\n",
      "          no       0.25      0.36      0.30       109\n",
      "         yes       0.88      0.81      0.85       624\n",
      "\n",
      "    accuracy                           0.75       733\n",
      "   macro avg       0.57      0.59      0.57       733\n",
      "weighted avg       0.79      0.75      0.76       733\n",
      "\n"
     ]
    }
   ],
   "source": [
    "# Random oversampling\n",
    "evaluate_on_test(ros_grid_search.best_estimator_, ytest, Xtest)"
   ]
  },
  {
   "cell_type": "code",
   "execution_count": 50,
   "metadata": {
    "ExecuteTime": {
     "end_time": "2022-03-17T09:59:07.194899Z",
     "start_time": "2022-03-17T09:59:07.121953Z"
    }
   },
   "outputs": [
    {
     "name": "stdout",
     "output_type": "stream",
     "text": [
      "              precision    recall  f1-score   support\n",
      "\n",
      "          no       0.28      0.21      0.24       109\n",
      "         yes       0.87      0.91      0.89       624\n",
      "\n",
      "    accuracy                           0.80       733\n",
      "   macro avg       0.57      0.56      0.56       733\n",
      "weighted avg       0.78      0.80      0.79       733\n",
      "\n"
     ]
    }
   ],
   "source": [
    "# SMOTE\n",
    "evaluate_on_test(os_grid_search.best_estimator_, ytest, Xtest)"
   ]
  },
  {
   "cell_type": "code",
   "execution_count": 51,
   "metadata": {
    "ExecuteTime": {
     "end_time": "2022-03-17T09:59:07.242814Z",
     "start_time": "2022-03-17T09:59:07.195904Z"
    }
   },
   "outputs": [
    {
     "name": "stdout",
     "output_type": "stream",
     "text": [
      "              precision    recall  f1-score   support\n",
      "\n",
      "          no       0.34      0.28      0.31       109\n",
      "         yes       0.88      0.90      0.89       624\n",
      "\n",
      "    accuracy                           0.81       733\n",
      "   macro avg       0.61      0.59      0.60       733\n",
      "weighted avg       0.80      0.81      0.80       733\n",
      "\n"
     ]
    }
   ],
   "source": [
    "# Random undersampling\n",
    "evaluate_on_test(rus_grid_search.best_estimator_, ytest, Xtest)"
   ]
  },
  {
   "cell_type": "code",
   "execution_count": 52,
   "metadata": {
    "ExecuteTime": {
     "end_time": "2022-03-17T09:59:07.289696Z",
     "start_time": "2022-03-17T09:59:07.244775Z"
    }
   },
   "outputs": [
    {
     "name": "stdout",
     "output_type": "stream",
     "text": [
      "              precision    recall  f1-score   support\n",
      "\n",
      "          no       0.26      0.48      0.34       109\n",
      "         yes       0.89      0.77      0.83       624\n",
      "\n",
      "    accuracy                           0.72       733\n",
      "   macro avg       0.58      0.62      0.58       733\n",
      "weighted avg       0.80      0.72      0.75       733\n",
      "\n"
     ]
    }
   ],
   "source": [
    "# Undersampling with Cluster Centroids\n",
    "evaluate_on_test(us_grid_search.best_estimator_, ytest, Xtest)"
   ]
  },
  {
   "cell_type": "markdown",
   "metadata": {},
   "source": [
    "The results appear to be very similar to those obtained on the validation data: both over- and undersampling improve the quality of the classifiers, and they both achieve similar values of the F-score."
   ]
  },
  {
   "cell_type": "code",
   "execution_count": null,
   "metadata": {},
   "outputs": [],
   "source": []
  }
 ],
 "metadata": {
  "kernelspec": {
   "display_name": "Python 3 (ipykernel)",
   "language": "python",
   "name": "python3"
  },
  "language_info": {
   "codemirror_mode": {
    "name": "ipython",
    "version": 3
   },
   "file_extension": ".py",
   "mimetype": "text/x-python",
   "name": "python",
   "nbconvert_exporter": "python",
   "pygments_lexer": "ipython3",
   "version": "3.9.7"
  },
  "toc": {
   "base_numbering": 1,
   "nav_menu": {},
   "number_sections": true,
   "sideBar": true,
   "skip_h1_title": false,
   "title_cell": "Table of Contents",
   "title_sidebar": "Contents",
   "toc_cell": false,
   "toc_position": {},
   "toc_section_display": true,
   "toc_window_display": true
  }
 },
 "nbformat": 4,
 "nbformat_minor": 2
}
