{
 "cells": [
  {
   "cell_type": "markdown",
   "id": "0a5bc86e-1dbd-4033-8aa5-ea89ea9a3d12",
   "metadata": {},
   "source": [
    "The datafiles contain pre-processed training and test data from the Ames housing dataset. Train a DT model predicting \"SalesPrice\".\n",
    "\n",
    "Build a pipeline for the Ames data that includes a Feature Selection step using Pearson's correlation and a DT step. Create a HP grid tuning the *k* HP of the feature selection step and the *max_depth* and *min_samples_leaf* of the DT model, choosing ranges for each of the HPs. Determine the best HP settings using Bayesian Optimisation.\n",
    "\n",
    "Replace the step that selects features based on Pearson's *r* with feature selection based on RFE. Comment on the results obtained.\n",
    "\n",
    "Some parts of the solution are already provided. Write code in the empty cells and in places indicated with \"???\".\n",
    "\n",
    "Hint: use \"Sklearn pipeline.ipynb\" and \"RFE.ipynb\" as examples."
   ]
  },
  {
   "cell_type": "code",
   "execution_count": null,
   "id": "e217b816-3a09-4155-9e8d-ceefc85863ea",
   "metadata": {},
   "outputs": [],
   "source": [
    "!pip install scikit-optimize"
   ]
  },
  {
   "cell_type": "code",
   "execution_count": null,
   "id": "7d8fc49d-2349-464e-b1d6-7b36186c682e",
   "metadata": {},
   "outputs": [],
   "source": [
    "import pandas as pd\n",
    "import numpy as np\n",
    "import seaborn as sns\n",
    "\n",
    "sns.set_theme(palette=\"Set2\")\n",
    "\n",
    "# execution time\n",
    "from timeit import default_timer as timer\n",
    "from datetime import timedelta\n",
    "\n",
    "# increase column width\n",
    "pd.set_option('display.max_colwidth', 250)\n",
    "\n",
    "# silence warnings\n",
    "import warnings\n",
    "warnings.filterwarnings(\"ignore\", category=UserWarning)"
   ]
  },
  {
   "cell_type": "markdown",
   "id": "67b53c4e-b83b-497b-9205-f8ba916cf497",
   "metadata": {},
   "source": [
    "# Load the data"
   ]
  },
  {
   "cell_type": "code",
   "execution_count": null,
   "id": "1fbfda41-de9b-480d-98b0-662477edd376",
   "metadata": {},
   "outputs": [],
   "source": [
    "trainset = pd.read_csv(\"trainset-ames-housing.csv\")\n",
    "testset = pd.read_csv(\"testset-ames-housing.csv\")\n",
    "\n",
    "# separate predictors and target\n",
    "ytrain = trainset[\"SalePrice\"].copy()\n",
    "Xtrain = trainset.drop(\"SalePrice\", axis=1)\n",
    "ytest = testset[\"SalePrice\"].copy()\n",
    "Xtest = testset.drop(\"SalePrice\", axis=1)"
   ]
  },
  {
   "cell_type": "markdown",
   "id": "5c78483c-3145-4375-a0ce-98f5ffcdec91",
   "metadata": {},
   "source": [
    "# Model development"
   ]
  },
  {
   "cell_type": "markdown",
   "id": "fd7be0c5-4964-4e20-91be-60de1c70bd10",
   "metadata": {},
   "source": [
    "## Feature Selection with Pearson's r"
   ]
  },
  {
   "cell_type": "code",
   "execution_count": null,
   "id": "e1ef448e-fec8-47a5-80ab-cece16e581bb",
   "metadata": {},
   "outputs": [],
   "source": [
    "from skopt import BayesSearchCV\n",
    "\n",
    "# import relevant modules\n",
    "from imblearn.pipeline import Pipeline\n",
    "???"
   ]
  },
  {
   "cell_type": "code",
   "execution_count": null,
   "id": "c6eedb42-f42a-481b-868a-1b6339f9a52a",
   "metadata": {},
   "outputs": [],
   "source": [
    "start = timer()\n",
    "\n",
    "pipe = Pipeline([\n",
    "    ('fsel', SelectKBest(r_regression)),\n",
    "    ('dt', DecisionTreeRegressor(random_state=7))\n",
    "])\n",
    "\n",
    "hp_grid = {\n",
    "    'fsel__k': [???],\n",
    "    'dt__max_depth': [???],\n",
    "    'dt__min_samples_leaf': [???],\n",
    "}\n",
    "\n",
    "opt_grid_search = BayesSearchCV(\n",
    "     pipe,\n",
    "     hp_grid,\n",
    "     n_iter=???,\n",
    "     random_state=7,\n",
    "     scoring='neg_root_mean_squared_error',\n",
    "     return_train_score=True,\n",
    "     cv=10\n",
    ")\n",
    "\n",
    "np.int = int\n",
    "opt_grid_search.fit(???, ???)\n",
    "\n",
    "print(\"Execution time HH:MM:SS:\", timedelta(seconds=timer() - start))"
   ]
  },
  {
   "cell_type": "code",
   "execution_count": null,
   "id": "fe4334e4-d69e-4732-8392-d177f3863eab",
   "metadata": {},
   "outputs": [],
   "source": [
    "cv_results = pd.DataFrame(opt_grid_search.cv_results_)[['params', 'mean_train_score', 'mean_test_score']]\n",
    "cv_results[\"mean_train_score\"] = -cv_results[\"mean_train_score\"]\n",
    "cv_results[\"mean_test_score\"] = -cv_results[\"mean_test_score\"]\n",
    "cv_results[\"diff, %\"] = 100*(cv_results[\"mean_train_score\"]-cv_results[\"mean_test_score\"]\n",
    "                                                     )/cv_results[\"mean_train_score\"]\n",
    "\n",
    "cv_results.sort_values('mean_test_score')"
   ]
  },
  {
   "cell_type": "markdown",
   "id": "d585fb40-b182-4703-93f2-1af0b1c5cd68",
   "metadata": {},
   "source": [
    "# Feature selection using RFE"
   ]
  },
  {
   "cell_type": "code",
   "execution_count": null,
   "id": "048b8857-59b8-4502-99c1-abeb488d7f54",
   "metadata": {},
   "outputs": [],
   "source": [
    "from imblearn.pipeline import Pipeline\n",
    "from sklearn.feature_selection import ???\n",
    "\n",
    "start = timer()\n",
    "\n",
    "pipe = Pipeline([\n",
    "    ('fsel', ???),\n",
    "    ('dt', ???)\n",
    "])\n",
    "\n",
    "hp_grid = {\n",
    "    ???\n",
    "}\n",
    "\n",
    "opt_grid_search = BayesSearchCV(\n",
    "     pipe,\n",
    "     hp_grid,\n",
    "     n_iter=???,\n",
    "     random_state=7,\n",
    "     scoring='neg_root_mean_squared_error',\n",
    "     return_train_score=True,\n",
    "     cv=10\n",
    ")\n",
    "\n",
    "np.int = int\n",
    "opt_grid_search.fit(???, ???)\n",
    "\n",
    "print(\"Execution time HH:MM:SS:\", timedelta(seconds=timer() - start))"
   ]
  },
  {
   "cell_type": "code",
   "execution_count": null,
   "id": "4b5588e1-db53-4145-9da0-4bf480ed5eee",
   "metadata": {},
   "outputs": [],
   "source": [
    "cv_results = pd.DataFrame(opt_grid_search.cv_results_)[['params', 'mean_train_score', 'mean_test_score']]\n",
    "cv_results[\"mean_train_score\"] = -cv_results[\"mean_train_score\"]\n",
    "cv_results[\"mean_test_score\"] = -cv_results[\"mean_test_score\"]\n",
    "cv_results[\"diff, %\"] = 100*(cv_results[\"mean_train_score\"]-cv_results[\"mean_test_score\"]\n",
    "                                                     )/cv_results[\"mean_train_score\"]\n",
    "\n",
    "cv_results.sort_values('mean_test_score')"
   ]
  },
  {
   "cell_type": "code",
   "execution_count": null,
   "id": "1f38eea7-22f9-4f8e-8bc0-e040fae0923c",
   "metadata": {},
   "outputs": [],
   "source": []
  }
 ],
 "metadata": {
  "kernelspec": {
   "display_name": "Python 3 (ipykernel)",
   "language": "python",
   "name": "python3"
  },
  "language_info": {
   "codemirror_mode": {
    "name": "ipython",
    "version": 3
   },
   "file_extension": ".py",
   "mimetype": "text/x-python",
   "name": "python",
   "nbconvert_exporter": "python",
   "pygments_lexer": "ipython3",
   "version": "3.9.18"
  }
 },
 "nbformat": 4,
 "nbformat_minor": 5
}
