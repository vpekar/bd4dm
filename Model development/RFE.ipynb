{
 "cells": [
  {
   "cell_type": "code",
   "execution_count": 1,
   "id": "6722e897-2913-45cd-9142-a5a2e7369db8",
   "metadata": {},
   "outputs": [],
   "source": [
    "import pandas as pd\n",
    "import numpy as np\n",
    "import seaborn as sns\n",
    "\n",
    "import matplotlib.pyplot as plt\n",
    "\n",
    "sns.set_theme(palette=\"Set2\")\n",
    "\n",
    "# execution time\n",
    "from timeit import default_timer as timer\n",
    "from datetime import timedelta\n",
    "\n",
    "# increase column width\n",
    "pd.set_option('display.max_colwidth', 200)"
   ]
  },
  {
   "cell_type": "markdown",
   "id": "519a319d-ea4b-4dc9-8a82-7fec1abb95f8",
   "metadata": {},
   "source": [
    "# Load the data"
   ]
  },
  {
   "cell_type": "code",
   "execution_count": 2,
   "id": "ec120372-71ce-435e-8939-b8ab5b0e6c7f",
   "metadata": {},
   "outputs": [],
   "source": [
    "trainset = pd.read_csv(\"trainset-ca-housing.csv\")\n",
    "testset = pd.read_csv(\"testset-ca-housing.csv\")\n",
    "\n",
    "Xtrain = trainset.drop(\"median_house_value\", axis=1)\n",
    "ytrain = trainset[\"median_house_value\"].copy()\n",
    "Xtest = testset.drop(\"median_house_value\", axis=1)\n",
    "ytest = testset[\"median_house_value\"].copy()"
   ]
  },
  {
   "cell_type": "markdown",
   "id": "9dc7ef48-9ae5-4aaa-a5de-acbac18cd429",
   "metadata": {},
   "source": [
    "# Feasure selection using Pearson's r"
   ]
  },
  {
   "cell_type": "code",
   "execution_count": 3,
   "id": "9adc1b57-4c9c-40ce-a0d0-0d7681857690",
   "metadata": {},
   "outputs": [],
   "source": [
    "from sklearn.feature_selection import SelectKBest\n",
    "from sklearn.feature_selection import r_regression \n",
    "\n",
    "selector = SelectKBest(r_regression, k=10)\n",
    "Xtrain_tmp = selector.fit_transform(Xtrain, ytrain)\n",
    "Xtest_tmp = selector.transform(Xtest)"
   ]
  },
  {
   "cell_type": "code",
   "execution_count": 4,
   "id": "09eef718-6e28-4346-bf73-de27e47077b5",
   "metadata": {},
   "outputs": [
    {
     "data": {
      "text/plain": [
       "array(['longitude', 'housing_median_age', 'total_rooms', 'total_bedrooms',\n",
       "       'population', 'households', 'median_income', 'rooms_per_household',\n",
       "       'ocean_proximity_NEAR BAY', 'ocean_proximity_NEAR OCEAN'],\n",
       "      dtype=object)"
      ]
     },
     "execution_count": 4,
     "metadata": {},
     "output_type": "execute_result"
    }
   ],
   "source": [
    "selector.get_feature_names_out()"
   ]
  },
  {
   "cell_type": "code",
   "execution_count": 5,
   "id": "0a4d4db1-8039-4250-8e8e-60c5daf10f1e",
   "metadata": {},
   "outputs": [],
   "source": [
    "# fit_transform returns a NumPy array, so we need to put it back \n",
    "# into a Pandas dataframe\n",
    "Xtrain_tmp = pd.DataFrame(Xtrain_tmp, columns=selector.get_feature_names_out())\n",
    "Xtest_tmp = pd.DataFrame(Xtest_tmp, columns=selector.get_feature_names_out())"
   ]
  },
  {
   "cell_type": "code",
   "execution_count": 6,
   "id": "50c61b81-b042-4c7f-8519-cc86b2581183",
   "metadata": {},
   "outputs": [
    {
     "data": {
      "text/plain": [
       "((15262, 10), (3819, 10))"
      ]
     },
     "execution_count": 6,
     "metadata": {},
     "output_type": "execute_result"
    }
   ],
   "source": [
    "Xtrain_tmp.shape, Xtest_tmp.shape"
   ]
  },
  {
   "cell_type": "markdown",
   "id": "ce7d1862-7fd2-4eb5-b116-f99287998128",
   "metadata": {},
   "source": [
    "# Recursive Feature Elimination"
   ]
  },
  {
   "cell_type": "code",
   "execution_count": 7,
   "id": "fcd906d5-b59a-471b-87ba-efafb75d6f21",
   "metadata": {},
   "outputs": [],
   "source": [
    "from sklearn.feature_selection import RFE\n",
    "from sklearn.tree import DecisionTreeRegressor\n",
    "\n",
    "model = DecisionTreeRegressor(random_state=7, max_depth=10)\n",
    "selector = RFE(model, n_features_to_select=5, step=1)\n",
    "selector = selector.fit(Xtrain, ytrain)"
   ]
  },
  {
   "cell_type": "code",
   "execution_count": 8,
   "id": "09586c57-08dc-49bf-a830-30c222355900",
   "metadata": {},
   "outputs": [],
   "source": [
    "Xtrain_tmp = selector.transform(Xtrain)\n",
    "Xtest_tmp = selector.transform(Xtest)"
   ]
  },
  {
   "cell_type": "code",
   "execution_count": 9,
   "id": "75f93c76-deb8-4c86-a5a3-af7c52f79caa",
   "metadata": {},
   "outputs": [
    {
     "data": {
      "text/plain": [
       "array(['longitude', 'housing_median_age', 'total_bedrooms',\n",
       "       'median_income', 'rooms_per_household'], dtype=object)"
      ]
     },
     "execution_count": 9,
     "metadata": {},
     "output_type": "execute_result"
    }
   ],
   "source": [
    "selector.get_feature_names_out()"
   ]
  },
  {
   "cell_type": "code",
   "execution_count": 10,
   "id": "e4b8271c-04ae-4447-8c26-3f42ba475fa8",
   "metadata": {},
   "outputs": [
    {
     "data": {
      "text/plain": [
       "((15262, 5), (3819, 5))"
      ]
     },
     "execution_count": 10,
     "metadata": {},
     "output_type": "execute_result"
    }
   ],
   "source": [
    "Xtrain_tmp.shape, Xtest_tmp.shape"
   ]
  },
  {
   "cell_type": "code",
   "execution_count": null,
   "id": "d4963099-700e-4fe6-a12c-f9d2052d592b",
   "metadata": {},
   "outputs": [],
   "source": []
  }
 ],
 "metadata": {
  "kernelspec": {
   "display_name": "Python 3 (ipykernel)",
   "language": "python",
   "name": "python3"
  },
  "language_info": {
   "codemirror_mode": {
    "name": "ipython",
    "version": 3
   },
   "file_extension": ".py",
   "mimetype": "text/x-python",
   "name": "python",
   "nbconvert_exporter": "python",
   "pygments_lexer": "ipython3",
   "version": "3.9.18"
  }
 },
 "nbformat": 4,
 "nbformat_minor": 5
}
