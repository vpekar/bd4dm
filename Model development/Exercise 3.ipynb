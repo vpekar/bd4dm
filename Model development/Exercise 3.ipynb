{
 "cells": [
  {
   "cell_type": "markdown",
   "id": "926c0583-4e31-4bb1-98c6-63faa7bd6906",
   "metadata": {},
   "source": [
    "The datafiles contain pre-processed training and test data from the Ames housing dataset. Train a DT model predicting SalesPrice. First, create a HP grid with the *max_depth*, *min_samples_split* and *min_samples_leaf*, and try to come up with reasonable ranges for each of the HPs. Determine the best HP settings using Exhaustive Search and Bayesian Optimisation. For Bayesian Optimisation, use max 10 models. Compare on the results you obtain with the two types of grid searches. Comment on the degree of overfitting of the best models.\n",
    "\n",
    "Some parts of the solution are already provided. Write code in the empty cells and in places indicated with \"???\".\n",
    "\n",
    "Hint: use \"HP tuning.ipynb\" as an examples."
   ]
  },
  {
   "cell_type": "markdown",
   "id": "38c3e10c-83f2-4721-8798-b2529dac2863",
   "metadata": {},
   "source": [
    "# Ensure skopt is installed"
   ]
  },
  {
   "cell_type": "code",
   "execution_count": null,
   "id": "0b6fbb15-d6a7-481a-9303-227443590945",
   "metadata": {},
   "outputs": [],
   "source": [
    "!pip install scikit-optimize"
   ]
  },
  {
   "cell_type": "code",
   "execution_count": 1,
   "id": "2c074f75-3d4a-4c3b-806d-d947d99b4aed",
   "metadata": {},
   "outputs": [],
   "source": [
    "import pandas as pd\n",
    "import numpy as np\n",
    "import seaborn as sns\n",
    "\n",
    "sns.set_theme(palette=\"Set2\")\n",
    "\n",
    "# execution time\n",
    "from timeit import default_timer as timer\n",
    "from datetime import timedelta\n",
    "\n",
    "# increase column width\n",
    "pd.set_option('display.max_colwidth', 250)\n",
    "\n",
    "# silence warnings\n",
    "import warnings\n",
    "warnings.filterwarnings(\"ignore\", category=UserWarning)"
   ]
  },
  {
   "cell_type": "markdown",
   "id": "b830485a-5ee8-47ef-b79f-74138e3b7df3",
   "metadata": {},
   "source": [
    "# Load data"
   ]
  },
  {
   "cell_type": "code",
   "execution_count": null,
   "id": "dcc81803-7b4b-4258-b171-c1473fb2447c",
   "metadata": {},
   "outputs": [],
   "source": [
    "trainset = ???\n",
    "testset = ???"
   ]
  },
  {
   "cell_type": "code",
   "execution_count": null,
   "id": "18224444-7415-4eaf-af03-2503101283b7",
   "metadata": {},
   "outputs": [],
   "source": [
    "trainset.info()"
   ]
  },
  {
   "cell_type": "code",
   "execution_count": null,
   "id": "335dfa22-6aa8-42ee-8e9d-61ed77113402",
   "metadata": {},
   "outputs": [],
   "source": [
    "testset.info()"
   ]
  },
  {
   "cell_type": "markdown",
   "id": "9bef00d3-456f-4261-85b4-8f07f68a64a8",
   "metadata": {},
   "source": [
    "# Separate predictors and target"
   ]
  },
  {
   "cell_type": "code",
   "execution_count": null,
   "id": "e3bd0b80-25ce-4878-a741-63fcafd3bf02",
   "metadata": {},
   "outputs": [],
   "source": [
    "ytrain = trainset[\"SalePrice\"].copy()\n",
    "Xtrain = trainset.drop(\"SalePrice\", axis=1)\n",
    "ytest = testset[\"SalePrice\"].copy()\n",
    "Xtest = testset.drop(\"SalePrice\", axis=1)"
   ]
  },
  {
   "cell_type": "markdown",
   "id": "267adf60-6a4d-475a-a1e7-9e6faba02e7b",
   "metadata": {},
   "source": [
    "# Create a tree with default HP settings\n",
    "\n",
    "Train an unconstrained DT on the training data. Evaluate it using RMSE, and examine its depth."
   ]
  },
  {
   "cell_type": "code",
   "execution_count": null,
   "id": "cfa89a33-0353-4169-a807-fca9a036cdcc",
   "metadata": {},
   "outputs": [],
   "source": [
    "from sklearn.tree import DecisionTreeRegressor\n",
    "from sklearn.metrics import mean_squared_error"
   ]
  },
  {
   "cell_type": "code",
   "execution_count": null,
   "id": "4eaa24ff-9e3b-41a6-a627-4487e4bff765",
   "metadata": {},
   "outputs": [],
   "source": []
  },
  {
   "cell_type": "code",
   "execution_count": null,
   "id": "2c221d7c-adc2-47eb-8aac-abeed8c991a8",
   "metadata": {},
   "outputs": [],
   "source": [
    "# the depth of the tree\n",
    "tree_reg.get_depth()"
   ]
  },
  {
   "cell_type": "markdown",
   "id": "d26bc1a2-03f9-4724-bce1-b5dda7b47d6d",
   "metadata": {},
   "source": [
    "# Exhaustive search"
   ]
  },
  {
   "cell_type": "code",
   "execution_count": null,
   "id": "2618c2fa-4ea6-42ee-9e9f-e8add388e0ba",
   "metadata": {},
   "outputs": [],
   "source": [
    "from sklearn.model_selection import ???"
   ]
  },
  {
   "cell_type": "code",
   "execution_count": null,
   "id": "77462ba3-c3c4-4095-94e1-e9234379e4dc",
   "metadata": {},
   "outputs": [],
   "source": [
    "start = timer()\n",
    "\n",
    "# specify the hyperparameters and their values\n",
    "hp_grid = {\n",
    "    'max_depth': [???],\n",
    "    'min_samples_leaf': [???],\n",
    "    'min_samples_split': [???],\n",
    "}\n",
    "\n",
    "tree_reg = DecisionTreeRegressor(random_state=7)\n",
    "\n",
    "# we'll use 10-fold cross-validation\n",
    "grid_search = GridSearchCV(tree_reg, hp_grid, cv=10,\n",
    "                           scoring='neg_root_mean_squared_error', \n",
    "                           return_train_score=True, verbose=1)\n",
    "\n",
    "grid_search.fit(???)\n",
    "\n",
    "print(\"Execution time HH:MM:SS:\", timedelta(seconds=timer() - start))"
   ]
  },
  {
   "cell_type": "code",
   "execution_count": null,
   "id": "29fa8886-e080-421a-94d7-df9d9fd0d2cd",
   "metadata": {},
   "outputs": [],
   "source": [
    "grid_search.best_estimator_"
   ]
  },
  {
   "cell_type": "code",
   "execution_count": null,
   "id": "2f14e581-4a2e-4626-b3f3-c6b8b51c846b",
   "metadata": {},
   "outputs": [],
   "source": [
    "cv_results = pd.DataFrame(grid_search.cv_results_)[['params', 'mean_train_score', 'mean_test_score']]\n",
    "cv_results[\"mean_train_score\"] = -cv_results[\"mean_train_score\"]\n",
    "cv_results[\"mean_test_score\"] = -cv_results[\"mean_test_score\"]\n",
    "cv_results[\"diff, %\"] = 100*(cv_results[\"mean_train_score\"]-cv_results[\"mean_test_score\"]\n",
    "                                                     )/cv_results[\"mean_train_score\"]\n",
    "\n",
    "cv_results.sort_values('mean_test_score')"
   ]
  },
  {
   "cell_type": "markdown",
   "id": "9941f3f8-d2f2-466d-9bfd-c28d72f09f6e",
   "metadata": {},
   "source": [
    "# Bayesian Optimisation"
   ]
  },
  {
   "cell_type": "code",
   "execution_count": null,
   "id": "6381560e-1b74-48cd-be3e-ba58e428db88",
   "metadata": {},
   "outputs": [],
   "source": [
    "from skopt import ???"
   ]
  },
  {
   "cell_type": "code",
   "execution_count": null,
   "id": "76a9759f-2671-4d60-94c7-a8d9e2a7c27c",
   "metadata": {},
   "outputs": [],
   "source": [
    "start = timer()\n",
    "\n",
    "hp_grid = {\n",
    "         'max_depth': [???],\n",
    "         'min_samples_leaf': [???],\n",
    "         'min_samples_split': [???],\n",
    "     }\n",
    "\n",
    "opt_grid_search = BayesSearchCV(\n",
    "     DecisionTreeRegressor(random_state=7),\n",
    "     hp_grid,\n",
    "     n_iter=???,\n",
    "     random_state=7,\n",
    "     scoring='neg_root_mean_squared_error',\n",
    "     return_train_score=True,\n",
    "     cv=10\n",
    ")\n",
    "\n",
    "np.int = int\n",
    "opt_grid_search.fit(Xtrain, ytrain)\n",
    "\n",
    "print(\"Execution time HH:MM:SS:\", timedelta(seconds=timer() - start))"
   ]
  },
  {
   "cell_type": "code",
   "execution_count": null,
   "id": "99a4abcd-bbab-4bb6-99ab-496ffbceff89",
   "metadata": {},
   "outputs": [],
   "source": [
    "opt_grid_search.best_estimator_"
   ]
  },
  {
   "cell_type": "code",
   "execution_count": null,
   "id": "7b4b560d-1af9-4bf9-930c-b1bbc5f89ef2",
   "metadata": {},
   "outputs": [],
   "source": [
    "cv_results = pd.DataFrame(opt_grid_search.cv_results_)[['params', 'mean_train_score', 'mean_test_score']]\n",
    "cv_results[\"mean_train_score\"] = -cv_results[\"mean_train_score\"]\n",
    "cv_results[\"mean_test_score\"] = -cv_results[\"mean_test_score\"]\n",
    "cv_results[\"diff, %\"] = 100*(cv_results[\"mean_train_score\"]-cv_results[\"mean_test_score\"]\n",
    "                                                     )/cv_results[\"mean_train_score\"]\n",
    "\n",
    "cv_results.sort_values('mean_test_score')"
   ]
  },
  {
   "cell_type": "code",
   "execution_count": null,
   "id": "e8e1c215-8785-4214-bfd2-32bba4a75e89",
   "metadata": {},
   "outputs": [],
   "source": []
  }
 ],
 "metadata": {
  "kernelspec": {
   "display_name": "Python 3 (ipykernel)",
   "language": "python",
   "name": "python3"
  },
  "language_info": {
   "codemirror_mode": {
    "name": "ipython",
    "version": 3
   },
   "file_extension": ".py",
   "mimetype": "text/x-python",
   "name": "python",
   "nbconvert_exporter": "python",
   "pygments_lexer": "ipython3",
   "version": "3.9.18"
  }
 },
 "nbformat": 4,
 "nbformat_minor": 5
}
