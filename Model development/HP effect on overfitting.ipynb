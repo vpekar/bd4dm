{
 "cells": [
  {
   "cell_type": "markdown",
   "id": "d2078dc0-4418-4599-95d9-58f6c6481693",
   "metadata": {},
   "source": [
    "Make sure imblearn is installed:"
   ]
  },
  {
   "cell_type": "code",
   "execution_count": 1,
   "id": "84139ce6-60af-453f-bf1f-c226a24bfbdd",
   "metadata": {},
   "outputs": [
    {
     "name": "stdout",
     "output_type": "stream",
     "text": [
      "Requirement already satisfied: imblearn in c:\\users\\pekarv\\anaconda3\\envs\\.env\\lib\\site-packages (0.0)\n",
      "Requirement already satisfied: imbalanced-learn in c:\\users\\pekarv\\anaconda3\\envs\\.env\\lib\\site-packages (from imblearn) (0.10.1)\n",
      "Requirement already satisfied: numpy>=1.17.3 in c:\\users\\pekarv\\anaconda3\\envs\\.env\\lib\\site-packages (from imbalanced-learn->imblearn) (1.26.3)\n",
      "Requirement already satisfied: scipy>=1.3.2 in c:\\users\\pekarv\\anaconda3\\envs\\.env\\lib\\site-packages (from imbalanced-learn->imblearn) (1.11.4)\n",
      "Requirement already satisfied: scikit-learn>=1.0.2 in c:\\users\\pekarv\\anaconda3\\envs\\.env\\lib\\site-packages (from imbalanced-learn->imblearn) (1.2.2)\n",
      "Requirement already satisfied: joblib>=1.1.1 in c:\\users\\pekarv\\anaconda3\\envs\\.env\\lib\\site-packages (from imbalanced-learn->imblearn) (1.2.0)\n",
      "Requirement already satisfied: threadpoolctl>=2.0.0 in c:\\users\\pekarv\\anaconda3\\envs\\.env\\lib\\site-packages (from imbalanced-learn->imblearn) (2.2.0)\n"
     ]
    }
   ],
   "source": [
    "!pip install imblearn"
   ]
  },
  {
   "cell_type": "markdown",
   "id": "2d880bee-0825-4be2-a869-85887a43d887",
   "metadata": {},
   "source": [
    "Note: if you are using sklearn=1.3, it needs to be downgraded for the code below to work:\n",
    "\n",
    "!pip uninstall scikit-learn --yes\n",
    "\n",
    "!pip uninstall imblearn --yes\n",
    "\n",
    "!pip install scikit-learn==1.2.2\n",
    "\n",
    "!pip install imblearn"
   ]
  },
  {
   "cell_type": "code",
   "execution_count": 2,
   "id": "c6dd836f-7930-42f3-b8dd-5f890f9314b0",
   "metadata": {},
   "outputs": [],
   "source": [
    "# setting logging to print only error messages from Sklearnex\n",
    "import logging\n",
    "logging.basicConfig()\n",
    "logging.getLogger(\"SKLEARNEX\").setLevel(logging.ERROR)\n",
    "\n",
    "import pandas as pd\n",
    "import numpy as np\n",
    "import seaborn as sns\n",
    "\n",
    "from sklearn.model_selection import train_test_split\n",
    "\n",
    "sns.set_theme(palette=\"Set2\")\n",
    "\n",
    "# execution time\n",
    "from timeit import default_timer as timer\n",
    "from datetime import timedelta\n",
    "\n",
    "# increase column width\n",
    "pd.set_option('display.max_colwidth', 200)\n",
    "\n",
    "# silence warnings\n",
    "import warnings\n",
    "warnings.filterwarnings(\"ignore\", category=UserWarning)"
   ]
  },
  {
   "cell_type": "markdown",
   "id": "07a9635a-f9cf-4781-b6d8-a0c82d3c04a1",
   "metadata": {},
   "source": [
    "# Load the data"
   ]
  },
  {
   "cell_type": "code",
   "execution_count": 3,
   "id": "3aaca1b1-d849-4ced-8f0f-b5660abfe062",
   "metadata": {},
   "outputs": [],
   "source": [
    "import os\n",
    "import tarfile\n",
    "import urllib\n",
    "\n",
    "\n",
    "# the file is archived with tar and gunzip\n",
    "URL = \"https://raw.githubusercontent.com/ageron/handson-ml/master/datasets/housing/housing.tgz\"\n",
    "\n",
    "def get_dataframe():\n",
    "    global URL\n",
    "    \n",
    "    # if the \"datasets\" folder does not exist, create it\n",
    "    if not os.path.exists(\"datasets\"):\n",
    "        os.makedirs(\"datasets\")\n",
    "    \n",
    "    # if the archived file does not exist, download it\n",
    "    if not os.path.exists(\"datasets/housing.tgz\"):\n",
    "        urllib.request.urlretrieve(URL, \"datasets/housing.tgz\")\n",
    "    \n",
    "    # if the unpacked file does not exist, unpack it\n",
    "    if not os.path.exists(\"datasets/housing.csv\"):\n",
    "        infile = tarfile.open(\"datasets/housing.tgz\")\n",
    "        infile.extractall(path=\"datasets\")\n",
    "        infile.close()\n",
    "    \n",
    "    # load the dataframe\n",
    "    return pd.read_csv(\"datasets/housing.csv\")\n",
    "\n",
    "df = get_dataframe()"
   ]
  },
  {
   "cell_type": "markdown",
   "id": "bf861a67-e2f4-4b0b-8f24-96498ca2e1ff",
   "metadata": {},
   "source": [
    "# Train-test split"
   ]
  },
  {
   "cell_type": "code",
   "execution_count": 4,
   "id": "a44c6747-f168-4fd4-b0db-0ffa00d63be1",
   "metadata": {},
   "outputs": [],
   "source": [
    "df[\"income_cat\"] = pd.cut(df[\"median_income\"], bins=[0., 1.5, 3.0, 4.5, 6., np.inf],\n",
    "                          labels=[1, 2, 3, 4, 5])\n",
    "trainset, testset = train_test_split(df, test_size=0.2, random_state=7,\n",
    "                                     stratify=df[\"income_cat\"])\n",
    "del trainset[\"income_cat\"]\n",
    "del testset[\"income_cat\"]"
   ]
  },
  {
   "cell_type": "markdown",
   "id": "7a4d77f9-675c-4b8e-8b87-c85d7df91d45",
   "metadata": {},
   "source": [
    "# Repeat initial preprocessing steps"
   ]
  },
  {
   "cell_type": "markdown",
   "id": "d1c9a89c-60a5-4b3d-92e8-57731e1ea35e",
   "metadata": {},
   "source": [
    "## Feature engineering"
   ]
  },
  {
   "cell_type": "code",
   "execution_count": 5,
   "id": "f5558a57-2ceb-4151-af9b-544784810252",
   "metadata": {},
   "outputs": [
    {
     "name": "stdout",
     "output_type": "stream",
     "text": [
      "Before: 16512 train instances, 4128 test instances\n",
      "After: 15735 train instances, 3940 test instances\n"
     ]
    }
   ],
   "source": [
    "# create two new features\n",
    "trainset[\"rooms_per_household\"] = trainset[\"total_rooms\"]/trainset[\"households\"]\n",
    "trainset[\"population_per_household\"] = trainset[\"population\"]/trainset[\"households\"]\n",
    "testset[\"rooms_per_household\"] = testset[\"total_rooms\"]/testset[\"households\"]\n",
    "testset[\"population_per_household\"] = testset[\"population\"]/testset[\"households\"]\n",
    "\n",
    "# rename \"ISLAND\" to \"NEAR OCEAN\"\n",
    "trainset[\"ocean_proximity\"] = trainset[\"ocean_proximity\"].replace(\"ISLAND\", \"NEAR OCEAN\")\n",
    "testset[\"ocean_proximity\"] = testset[\"ocean_proximity\"].replace(\"ISLAND\", \"NEAR OCEAN\")\n",
    "trainset[\"ocean_proximity\"].unique()\n",
    "\n",
    "# delete capped values\n",
    "    \n",
    "print(f\"Before: {trainset.shape[0]} train instances, {testset.shape[0]} test instances\")\n",
    "\n",
    "trainset.drop(trainset[trainset[\"median_house_value\"] >= 500001].index, inplace=True)\n",
    "testset.drop(testset[testset[\"median_house_value\"] >= 500001].index, inplace=True)\n",
    "\n",
    "print(f\"After: {trainset.shape[0]} train instances, {testset.shape[0]} test instances\")"
   ]
  },
  {
   "cell_type": "markdown",
   "id": "27511ab4-7a20-41bb-b117-5a779c3ea827",
   "metadata": {},
   "source": [
    "## Dummy variables"
   ]
  },
  {
   "cell_type": "code",
   "execution_count": 6,
   "id": "7f718469-8c9b-4cfe-b5c0-9b44a128ac59",
   "metadata": {},
   "outputs": [
    {
     "name": "stderr",
     "output_type": "stream",
     "text": [
      "C:\\Users\\pekarv\\Anaconda3\\envs\\.env\\lib\\site-packages\\sklearn\\preprocessing\\_encoders.py:868: FutureWarning: `sparse` was renamed to `sparse_output` in version 1.2 and will be removed in 1.4. `sparse_output` is ignored unless you leave `sparse` to its default value.\n",
      "  warnings.warn(\n"
     ]
    }
   ],
   "source": [
    "from sklearn.preprocessing import OneHotEncoder\n",
    "\n",
    "one_hot_encoder = OneHotEncoder(drop=\"first\", sparse=False)\n",
    "\n",
    "# categorical columns to transform\n",
    "cat_cols = [\"ocean_proximity\"]\n",
    "\n",
    "# fit an encoder and transform the **trainset**\n",
    "cat_vals = trainset[cat_cols]\n",
    "\n",
    "transformed = one_hot_encoder.fit_transform(cat_vals)\n",
    "\n",
    "# the names of the new columns are the unique values of \"ocean_proximity\"\n",
    "new_col_names = one_hot_encoder.get_feature_names_out(cat_cols)\n",
    "\n",
    "# put the transformed data as columns in the trainset dataframe\n",
    "for i, new_col_name in enumerate(new_col_names):\n",
    "    trainset[new_col_name] = transformed[:,i]\n",
    "\n",
    "# delete the categorical column\n",
    "del trainset['ocean_proximity']\n",
    "\n",
    "# transform the **testset** using the encoder fitted on trainset\n",
    "cat_vals = testset[cat_cols]\n",
    "transformed = one_hot_encoder.transform(cat_vals)\n",
    "\n",
    "# put the transformed data as columns in the testset dataframe\n",
    "for i, new_col_name in enumerate(new_col_names):\n",
    "    testset[new_col_name] = transformed[:,i]\n",
    "\n",
    "# delete the categorical column also in the test set\n",
    "del testset['ocean_proximity']"
   ]
  },
  {
   "cell_type": "markdown",
   "id": "2e2ed070-4762-46cf-8aa7-d83f2a627d16",
   "metadata": {},
   "source": [
    "## Separate predictors and target"
   ]
  },
  {
   "cell_type": "code",
   "execution_count": 7,
   "id": "9b742173-ffbc-4527-b02e-a7896e601cdc",
   "metadata": {},
   "outputs": [],
   "source": [
    "ytrain = trainset[\"median_house_value\"].copy()\n",
    "Xtrain = trainset.drop(\"median_house_value\", axis=1)\n",
    "ytest = testset[\"median_house_value\"].copy()\n",
    "Xtest = testset.drop(\"median_house_value\", axis=1)"
   ]
  },
  {
   "cell_type": "markdown",
   "id": "ca9c6649-f061-4509-b391-d486cee0af84",
   "metadata": {},
   "source": [
    "# Pipeline"
   ]
  },
  {
   "cell_type": "code",
   "execution_count": 8,
   "id": "09bb1792-b22a-4787-a732-8473e1f65f16",
   "metadata": {},
   "outputs": [],
   "source": [
    "from sklearn.ensemble import IsolationForest\n",
    "from sklearn.feature_selection import SelectKBest\n",
    "from sklearn.feature_selection import r_regression\n",
    "from sklearn.preprocessing import StandardScaler\n",
    "from sklearn.impute import SimpleImputer\n",
    "from imblearn.pipeline import Pipeline\n",
    "from sklearn.tree import DecisionTreeRegressor\n",
    "from sklearn.metrics import mean_squared_error\n",
    "\n",
    "\n",
    "class LogTransformer:\n",
    "\n",
    "    def __init__(self, cols, **kwargs):\n",
    "        self.cols = cols\n",
    "\n",
    "    def fit(self, X, y=None, **kwargs):\n",
    "        return self\n",
    "\n",
    "    def transform(self, X, y=None, **kwargs):\n",
    "        for col in self.cols:\n",
    "            X[:, col] = np.log(X[:, col] + 1)\n",
    "        return X\n",
    "\n",
    "\n",
    "class OutlierDetectionWrapper:\n",
    "\n",
    "    def __init__(self, **kwargs):\n",
    "        self.clf = IsolationForest(**kwargs)\n",
    "\n",
    "    def fit_resample(self, X, y):\n",
    "        yhat = self.clf.fit(X).predict(X)\n",
    "        return X[yhat != -1], y[yhat != -1]\n",
    "\n",
    "    def set_params(self, **kwargs):\n",
    "        self.clf.set_params(**kwargs)"
   ]
  },
  {
   "cell_type": "markdown",
   "id": "183208c1-523c-49c9-b251-919fdd9e7ab2",
   "metadata": {},
   "source": [
    "# Tuning hyperparameters"
   ]
  },
  {
   "cell_type": "code",
   "execution_count": 9,
   "id": "f0a964d9-3c73-4894-ab38-fefc6da02033",
   "metadata": {},
   "outputs": [],
   "source": [
    "from sklearn.model_selection import GridSearchCV"
   ]
  },
  {
   "cell_type": "code",
   "execution_count": 10,
   "id": "2069a9df-e51b-4d97-9713-f182ebbf12af",
   "metadata": {},
   "outputs": [],
   "source": [
    "def run_pipeline(hp_grid):\n",
    "\n",
    "    # indices of columns to be log-transformed\n",
    "    col_idx = [Xtrain.columns.get_loc(x) for x in \n",
    "               [\"total_rooms\", \"total_bedrooms\", \"population\", \"households\", \"median_income\"]]\n",
    "    \n",
    "    pipe = Pipeline([\n",
    "        ('imputer', SimpleImputer(strategy=\"median\")),\n",
    "        ('logtransformer', LogTransformer(col_idx)),\n",
    "        ('iforest', OutlierDetectionWrapper(n_estimators=100, random_state=7, contamination=0.03)),\n",
    "        ('fsel', SelectKBest(r_regression, k=10)),\n",
    "        ('scaler', StandardScaler()),\n",
    "        ('dt', DecisionTreeRegressor(random_state=7))\n",
    "    ])\n",
    "    \n",
    "    best_hp = {\n",
    "        'dt__max_depth': [16], \n",
    "        'dt__max_leaf_nodes': [9807], \n",
    "        'dt__min_samples_leaf': [16], \n",
    "        'dt__min_samples_split': [50], \n",
    "        'fsel__k': [13], \n",
    "        'iforest__contamination': [0.1]\n",
    "    }\n",
    "\n",
    "    best_hp.update(hp_grid)\n",
    "    \n",
    "    # we'll use 10-fold cross-validation\n",
    "    grid_search = GridSearchCV(pipe, best_hp, cv=10,\n",
    "                               scoring='neg_root_mean_squared_error', \n",
    "                               return_train_score=True, verbose=0)\n",
    "    \n",
    "    grid_search.fit(Xtrain, ytrain)\n",
    "    \n",
    "    cv_results = pd.DataFrame(grid_search.cv_results_)[['params', 'mean_train_score', 'mean_test_score']]\n",
    "    cv_results[\"mean_train_score\"] = -cv_results[\"mean_train_score\"]\n",
    "    cv_results[\"mean_test_score\"] = -cv_results[\"mean_test_score\"]\n",
    "    cv_results[\"diff, %\"] = 100*(cv_results[\"mean_train_score\"]-cv_results[\"mean_test_score\"]\n",
    "                                                         )/cv_results[\"mean_train_score\"]\n",
    "    \n",
    "    return cv_results[[\"params\", \"diff, %\"]].sort_values('diff, %')"
   ]
  },
  {
   "cell_type": "markdown",
   "id": "11441901-14e4-4d85-9bec-8ae29b927e22",
   "metadata": {},
   "source": [
    "## Effect of outlier removal"
   ]
  },
  {
   "cell_type": "code",
   "execution_count": 11,
   "id": "fc96f055-2477-48cf-8bb5-a22b367ccf8f",
   "metadata": {},
   "outputs": [
    {
     "name": "stdout",
     "output_type": "stream",
     "text": [
      "Execution time HH:MM:SS: 0:01:36.856055\n"
     ]
    },
    {
     "data": {
      "text/html": [
       "<div>\n",
       "<style scoped>\n",
       "    .dataframe tbody tr th:only-of-type {\n",
       "        vertical-align: middle;\n",
       "    }\n",
       "\n",
       "    .dataframe tbody tr th {\n",
       "        vertical-align: top;\n",
       "    }\n",
       "\n",
       "    .dataframe thead th {\n",
       "        text-align: right;\n",
       "    }\n",
       "</style>\n",
       "<table border=\"1\" class=\"dataframe\">\n",
       "  <thead>\n",
       "    <tr style=\"text-align: right;\">\n",
       "      <th></th>\n",
       "      <th>params</th>\n",
       "      <th>diff, %</th>\n",
       "    </tr>\n",
       "  </thead>\n",
       "  <tbody>\n",
       "    <tr>\n",
       "      <th>0</th>\n",
       "      <td>{'dt__max_depth': 16, 'dt__max_leaf_nodes': 9807, 'dt__min_samples_leaf': 16, 'dt__min_samples_split': 50, 'fsel__k': 13, 'iforest__contamination': 0.001}</td>\n",
       "      <td>-18.853342</td>\n",
       "    </tr>\n",
       "    <tr>\n",
       "      <th>1</th>\n",
       "      <td>{'dt__max_depth': 16, 'dt__max_leaf_nodes': 9807, 'dt__min_samples_leaf': 16, 'dt__min_samples_split': 50, 'fsel__k': 13, 'iforest__contamination': 0.025}</td>\n",
       "      <td>-16.501983</td>\n",
       "    </tr>\n",
       "    <tr>\n",
       "      <th>2</th>\n",
       "      <td>{'dt__max_depth': 16, 'dt__max_leaf_nodes': 9807, 'dt__min_samples_leaf': 16, 'dt__min_samples_split': 50, 'fsel__k': 13, 'iforest__contamination': 0.05}</td>\n",
       "      <td>-15.551095</td>\n",
       "    </tr>\n",
       "    <tr>\n",
       "      <th>3</th>\n",
       "      <td>{'dt__max_depth': 16, 'dt__max_leaf_nodes': 9807, 'dt__min_samples_leaf': 16, 'dt__min_samples_split': 50, 'fsel__k': 13, 'iforest__contamination': 0.075}</td>\n",
       "      <td>-14.578627</td>\n",
       "    </tr>\n",
       "    <tr>\n",
       "      <th>4</th>\n",
       "      <td>{'dt__max_depth': 16, 'dt__max_leaf_nodes': 9807, 'dt__min_samples_leaf': 16, 'dt__min_samples_split': 50, 'fsel__k': 13, 'iforest__contamination': 0.1}</td>\n",
       "      <td>-13.808643</td>\n",
       "    </tr>\n",
       "    <tr>\n",
       "      <th>5</th>\n",
       "      <td>{'dt__max_depth': 16, 'dt__max_leaf_nodes': 9807, 'dt__min_samples_leaf': 16, 'dt__min_samples_split': 50, 'fsel__k': 13, 'iforest__contamination': 0.125}</td>\n",
       "      <td>-13.489788</td>\n",
       "    </tr>\n",
       "    <tr>\n",
       "      <th>6</th>\n",
       "      <td>{'dt__max_depth': 16, 'dt__max_leaf_nodes': 9807, 'dt__min_samples_leaf': 16, 'dt__min_samples_split': 50, 'fsel__k': 13, 'iforest__contamination': 0.15}</td>\n",
       "      <td>-13.206109</td>\n",
       "    </tr>\n",
       "    <tr>\n",
       "      <th>7</th>\n",
       "      <td>{'dt__max_depth': 16, 'dt__max_leaf_nodes': 9807, 'dt__min_samples_leaf': 16, 'dt__min_samples_split': 50, 'fsel__k': 13, 'iforest__contamination': 0.175}</td>\n",
       "      <td>-12.280228</td>\n",
       "    </tr>\n",
       "    <tr>\n",
       "      <th>8</th>\n",
       "      <td>{'dt__max_depth': 16, 'dt__max_leaf_nodes': 9807, 'dt__min_samples_leaf': 16, 'dt__min_samples_split': 50, 'fsel__k': 13, 'iforest__contamination': 0.2}</td>\n",
       "      <td>-11.348466</td>\n",
       "    </tr>\n",
       "  </tbody>\n",
       "</table>\n",
       "</div>"
      ],
      "text/plain": [
       "                                                                                                                                                       params  \\\n",
       "0  {'dt__max_depth': 16, 'dt__max_leaf_nodes': 9807, 'dt__min_samples_leaf': 16, 'dt__min_samples_split': 50, 'fsel__k': 13, 'iforest__contamination': 0.001}   \n",
       "1  {'dt__max_depth': 16, 'dt__max_leaf_nodes': 9807, 'dt__min_samples_leaf': 16, 'dt__min_samples_split': 50, 'fsel__k': 13, 'iforest__contamination': 0.025}   \n",
       "2   {'dt__max_depth': 16, 'dt__max_leaf_nodes': 9807, 'dt__min_samples_leaf': 16, 'dt__min_samples_split': 50, 'fsel__k': 13, 'iforest__contamination': 0.05}   \n",
       "3  {'dt__max_depth': 16, 'dt__max_leaf_nodes': 9807, 'dt__min_samples_leaf': 16, 'dt__min_samples_split': 50, 'fsel__k': 13, 'iforest__contamination': 0.075}   \n",
       "4    {'dt__max_depth': 16, 'dt__max_leaf_nodes': 9807, 'dt__min_samples_leaf': 16, 'dt__min_samples_split': 50, 'fsel__k': 13, 'iforest__contamination': 0.1}   \n",
       "5  {'dt__max_depth': 16, 'dt__max_leaf_nodes': 9807, 'dt__min_samples_leaf': 16, 'dt__min_samples_split': 50, 'fsel__k': 13, 'iforest__contamination': 0.125}   \n",
       "6   {'dt__max_depth': 16, 'dt__max_leaf_nodes': 9807, 'dt__min_samples_leaf': 16, 'dt__min_samples_split': 50, 'fsel__k': 13, 'iforest__contamination': 0.15}   \n",
       "7  {'dt__max_depth': 16, 'dt__max_leaf_nodes': 9807, 'dt__min_samples_leaf': 16, 'dt__min_samples_split': 50, 'fsel__k': 13, 'iforest__contamination': 0.175}   \n",
       "8    {'dt__max_depth': 16, 'dt__max_leaf_nodes': 9807, 'dt__min_samples_leaf': 16, 'dt__min_samples_split': 50, 'fsel__k': 13, 'iforest__contamination': 0.2}   \n",
       "\n",
       "     diff, %  \n",
       "0 -18.853342  \n",
       "1 -16.501983  \n",
       "2 -15.551095  \n",
       "3 -14.578627  \n",
       "4 -13.808643  \n",
       "5 -13.489788  \n",
       "6 -13.206109  \n",
       "7 -12.280228  \n",
       "8 -11.348466  "
      ]
     },
     "execution_count": 11,
     "metadata": {},
     "output_type": "execute_result"
    }
   ],
   "source": [
    "start = timer()\n",
    "\n",
    "hp_grid = {\n",
    "    'iforest__contamination': [0.001, 0.025, 0.05, 0.075, 0.1, 0.125, 0.15, 0.175, 0.2]\n",
    "}\n",
    "result = run_pipeline(hp_grid)\n",
    "\n",
    "print(\"Execution time HH:MM:SS:\", timedelta(seconds=timer() - start))\n",
    "\n",
    "result"
   ]
  },
  {
   "cell_type": "markdown",
   "id": "961a2939-0f91-466e-ba4b-2b93751dcbf4",
   "metadata": {},
   "source": [
    "## Effect of feature selection"
   ]
  },
  {
   "cell_type": "code",
   "execution_count": 12,
   "id": "f912fba2-5aea-4681-ad6b-b09d296dc6d2",
   "metadata": {},
   "outputs": [
    {
     "name": "stdout",
     "output_type": "stream",
     "text": [
      "Execution time HH:MM:SS: 0:01:03.714857\n"
     ]
    },
    {
     "data": {
      "text/html": [
       "<div>\n",
       "<style scoped>\n",
       "    .dataframe tbody tr th:only-of-type {\n",
       "        vertical-align: middle;\n",
       "    }\n",
       "\n",
       "    .dataframe tbody tr th {\n",
       "        vertical-align: top;\n",
       "    }\n",
       "\n",
       "    .dataframe thead th {\n",
       "        text-align: right;\n",
       "    }\n",
       "</style>\n",
       "<table border=\"1\" class=\"dataframe\">\n",
       "  <thead>\n",
       "    <tr style=\"text-align: right;\">\n",
       "      <th></th>\n",
       "      <th>params</th>\n",
       "      <th>diff, %</th>\n",
       "    </tr>\n",
       "  </thead>\n",
       "  <tbody>\n",
       "    <tr>\n",
       "      <th>3</th>\n",
       "      <td>{'dt__max_depth': 16, 'dt__max_leaf_nodes': 9807, 'dt__min_samples_leaf': 16, 'dt__min_samples_split': 50, 'fsel__k': 9, 'iforest__contamination': 0.1}</td>\n",
       "      <td>-14.513725</td>\n",
       "    </tr>\n",
       "    <tr>\n",
       "      <th>4</th>\n",
       "      <td>{'dt__max_depth': 16, 'dt__max_leaf_nodes': 9807, 'dt__min_samples_leaf': 16, 'dt__min_samples_split': 50, 'fsel__k': 11, 'iforest__contamination': 0.1}</td>\n",
       "      <td>-14.146509</td>\n",
       "    </tr>\n",
       "    <tr>\n",
       "      <th>5</th>\n",
       "      <td>{'dt__max_depth': 16, 'dt__max_leaf_nodes': 9807, 'dt__min_samples_leaf': 16, 'dt__min_samples_split': 50, 'fsel__k': 13, 'iforest__contamination': 0.1}</td>\n",
       "      <td>-13.808643</td>\n",
       "    </tr>\n",
       "    <tr>\n",
       "      <th>2</th>\n",
       "      <td>{'dt__max_depth': 16, 'dt__max_leaf_nodes': 9807, 'dt__min_samples_leaf': 16, 'dt__min_samples_split': 50, 'fsel__k': 7, 'iforest__contamination': 0.1}</td>\n",
       "      <td>-13.334744</td>\n",
       "    </tr>\n",
       "    <tr>\n",
       "      <th>0</th>\n",
       "      <td>{'dt__max_depth': 16, 'dt__max_leaf_nodes': 9807, 'dt__min_samples_leaf': 16, 'dt__min_samples_split': 50, 'fsel__k': 3, 'iforest__contamination': 0.1}</td>\n",
       "      <td>-12.957378</td>\n",
       "    </tr>\n",
       "    <tr>\n",
       "      <th>1</th>\n",
       "      <td>{'dt__max_depth': 16, 'dt__max_leaf_nodes': 9807, 'dt__min_samples_leaf': 16, 'dt__min_samples_split': 50, 'fsel__k': 5, 'iforest__contamination': 0.1}</td>\n",
       "      <td>-12.491134</td>\n",
       "    </tr>\n",
       "  </tbody>\n",
       "</table>\n",
       "</div>"
      ],
      "text/plain": [
       "                                                                                                                                                     params  \\\n",
       "3   {'dt__max_depth': 16, 'dt__max_leaf_nodes': 9807, 'dt__min_samples_leaf': 16, 'dt__min_samples_split': 50, 'fsel__k': 9, 'iforest__contamination': 0.1}   \n",
       "4  {'dt__max_depth': 16, 'dt__max_leaf_nodes': 9807, 'dt__min_samples_leaf': 16, 'dt__min_samples_split': 50, 'fsel__k': 11, 'iforest__contamination': 0.1}   \n",
       "5  {'dt__max_depth': 16, 'dt__max_leaf_nodes': 9807, 'dt__min_samples_leaf': 16, 'dt__min_samples_split': 50, 'fsel__k': 13, 'iforest__contamination': 0.1}   \n",
       "2   {'dt__max_depth': 16, 'dt__max_leaf_nodes': 9807, 'dt__min_samples_leaf': 16, 'dt__min_samples_split': 50, 'fsel__k': 7, 'iforest__contamination': 0.1}   \n",
       "0   {'dt__max_depth': 16, 'dt__max_leaf_nodes': 9807, 'dt__min_samples_leaf': 16, 'dt__min_samples_split': 50, 'fsel__k': 3, 'iforest__contamination': 0.1}   \n",
       "1   {'dt__max_depth': 16, 'dt__max_leaf_nodes': 9807, 'dt__min_samples_leaf': 16, 'dt__min_samples_split': 50, 'fsel__k': 5, 'iforest__contamination': 0.1}   \n",
       "\n",
       "     diff, %  \n",
       "3 -14.513725  \n",
       "4 -14.146509  \n",
       "5 -13.808643  \n",
       "2 -13.334744  \n",
       "0 -12.957378  \n",
       "1 -12.491134  "
      ]
     },
     "execution_count": 12,
     "metadata": {},
     "output_type": "execute_result"
    }
   ],
   "source": [
    "start = timer()\n",
    "\n",
    "hp_grid = {\n",
    "    'fsel__k': [3, 5, 7, 9, 11, 13],\n",
    "}\n",
    "result = run_pipeline(hp_grid)\n",
    "\n",
    "print(\"Execution time HH:MM:SS:\", timedelta(seconds=timer() - start))\n",
    "\n",
    "result"
   ]
  },
  {
   "cell_type": "markdown",
   "id": "25bf2ee7-03aa-40be-b943-8637e98bfedb",
   "metadata": {},
   "source": [
    "## Effect of max_depth"
   ]
  },
  {
   "cell_type": "code",
   "execution_count": 13,
   "id": "a5ef3d3d-192c-4e0d-a86e-bf03d2686d45",
   "metadata": {},
   "outputs": [
    {
     "name": "stdout",
     "output_type": "stream",
     "text": [
      "Execution time HH:MM:SS: 0:00:53.106482\n"
     ]
    },
    {
     "data": {
      "text/html": [
       "<div>\n",
       "<style scoped>\n",
       "    .dataframe tbody tr th:only-of-type {\n",
       "        vertical-align: middle;\n",
       "    }\n",
       "\n",
       "    .dataframe tbody tr th {\n",
       "        vertical-align: top;\n",
       "    }\n",
       "\n",
       "    .dataframe thead th {\n",
       "        text-align: right;\n",
       "    }\n",
       "</style>\n",
       "<table border=\"1\" class=\"dataframe\">\n",
       "  <thead>\n",
       "    <tr style=\"text-align: right;\">\n",
       "      <th></th>\n",
       "      <th>params</th>\n",
       "      <th>diff, %</th>\n",
       "    </tr>\n",
       "  </thead>\n",
       "  <tbody>\n",
       "    <tr>\n",
       "      <th>3</th>\n",
       "      <td>{'dt__max_depth': 20, 'dt__max_leaf_nodes': 9807, 'dt__min_samples_leaf': 16, 'dt__min_samples_split': 50, 'fsel__k': 13, 'iforest__contamination': 0.1}</td>\n",
       "      <td>-13.827947</td>\n",
       "    </tr>\n",
       "    <tr>\n",
       "      <th>4</th>\n",
       "      <td>{'dt__max_depth': 25, 'dt__max_leaf_nodes': 9807, 'dt__min_samples_leaf': 16, 'dt__min_samples_split': 50, 'fsel__k': 13, 'iforest__contamination': 0.1}</td>\n",
       "      <td>-13.827947</td>\n",
       "    </tr>\n",
       "    <tr>\n",
       "      <th>2</th>\n",
       "      <td>{'dt__max_depth': 15, 'dt__max_leaf_nodes': 9807, 'dt__min_samples_leaf': 16, 'dt__min_samples_split': 50, 'fsel__k': 13, 'iforest__contamination': 0.1}</td>\n",
       "      <td>-13.774774</td>\n",
       "    </tr>\n",
       "    <tr>\n",
       "      <th>1</th>\n",
       "      <td>{'dt__max_depth': 10, 'dt__max_leaf_nodes': 9807, 'dt__min_samples_leaf': 16, 'dt__min_samples_split': 50, 'fsel__k': 13, 'iforest__contamination': 0.1}</td>\n",
       "      <td>-10.515221</td>\n",
       "    </tr>\n",
       "    <tr>\n",
       "      <th>0</th>\n",
       "      <td>{'dt__max_depth': 2, 'dt__max_leaf_nodes': 9807, 'dt__min_samples_leaf': 16, 'dt__min_samples_split': 50, 'fsel__k': 13, 'iforest__contamination': 0.1}</td>\n",
       "      <td>-0.387578</td>\n",
       "    </tr>\n",
       "  </tbody>\n",
       "</table>\n",
       "</div>"
      ],
      "text/plain": [
       "                                                                                                                                                     params  \\\n",
       "3  {'dt__max_depth': 20, 'dt__max_leaf_nodes': 9807, 'dt__min_samples_leaf': 16, 'dt__min_samples_split': 50, 'fsel__k': 13, 'iforest__contamination': 0.1}   \n",
       "4  {'dt__max_depth': 25, 'dt__max_leaf_nodes': 9807, 'dt__min_samples_leaf': 16, 'dt__min_samples_split': 50, 'fsel__k': 13, 'iforest__contamination': 0.1}   \n",
       "2  {'dt__max_depth': 15, 'dt__max_leaf_nodes': 9807, 'dt__min_samples_leaf': 16, 'dt__min_samples_split': 50, 'fsel__k': 13, 'iforest__contamination': 0.1}   \n",
       "1  {'dt__max_depth': 10, 'dt__max_leaf_nodes': 9807, 'dt__min_samples_leaf': 16, 'dt__min_samples_split': 50, 'fsel__k': 13, 'iforest__contamination': 0.1}   \n",
       "0   {'dt__max_depth': 2, 'dt__max_leaf_nodes': 9807, 'dt__min_samples_leaf': 16, 'dt__min_samples_split': 50, 'fsel__k': 13, 'iforest__contamination': 0.1}   \n",
       "\n",
       "     diff, %  \n",
       "3 -13.827947  \n",
       "4 -13.827947  \n",
       "2 -13.774774  \n",
       "1 -10.515221  \n",
       "0  -0.387578  "
      ]
     },
     "execution_count": 13,
     "metadata": {},
     "output_type": "execute_result"
    }
   ],
   "source": [
    "start = timer()\n",
    "\n",
    "hp_grid = {\n",
    "    'dt__max_depth': [2, 10, 15, 20, 25],\n",
    "}\n",
    "result = run_pipeline(hp_grid)\n",
    "\n",
    "print(\"Execution time HH:MM:SS:\", timedelta(seconds=timer() - start))\n",
    "\n",
    "result"
   ]
  },
  {
   "cell_type": "markdown",
   "id": "6ced5411-3f22-4e8c-823f-aecb0c643eb8",
   "metadata": {},
   "source": [
    "## Effect of min_samples_leaf"
   ]
  },
  {
   "cell_type": "code",
   "execution_count": 14,
   "id": "bbc511c0-0ba1-40dc-b6cb-01d6505065bc",
   "metadata": {},
   "outputs": [
    {
     "name": "stdout",
     "output_type": "stream",
     "text": [
      "Execution time HH:MM:SS: 0:01:05.437495\n"
     ]
    },
    {
     "data": {
      "text/html": [
       "<div>\n",
       "<style scoped>\n",
       "    .dataframe tbody tr th:only-of-type {\n",
       "        vertical-align: middle;\n",
       "    }\n",
       "\n",
       "    .dataframe tbody tr th {\n",
       "        vertical-align: top;\n",
       "    }\n",
       "\n",
       "    .dataframe thead th {\n",
       "        text-align: right;\n",
       "    }\n",
       "</style>\n",
       "<table border=\"1\" class=\"dataframe\">\n",
       "  <thead>\n",
       "    <tr style=\"text-align: right;\">\n",
       "      <th></th>\n",
       "      <th>params</th>\n",
       "      <th>diff, %</th>\n",
       "    </tr>\n",
       "  </thead>\n",
       "  <tbody>\n",
       "    <tr>\n",
       "      <th>0</th>\n",
       "      <td>{'dt__max_depth': 16, 'dt__max_leaf_nodes': 9807, 'dt__min_samples_leaf': 1, 'dt__min_samples_split': 50, 'fsel__k': 13, 'iforest__contamination': 0.1}</td>\n",
       "      <td>-21.059726</td>\n",
       "    </tr>\n",
       "    <tr>\n",
       "      <th>1</th>\n",
       "      <td>{'dt__max_depth': 16, 'dt__max_leaf_nodes': 9807, 'dt__min_samples_leaf': 10, 'dt__min_samples_split': 50, 'fsel__k': 13, 'iforest__contamination': 0.1}</td>\n",
       "      <td>-15.532081</td>\n",
       "    </tr>\n",
       "    <tr>\n",
       "      <th>2</th>\n",
       "      <td>{'dt__max_depth': 16, 'dt__max_leaf_nodes': 9807, 'dt__min_samples_leaf': 20, 'dt__min_samples_split': 50, 'fsel__k': 13, 'iforest__contamination': 0.1}</td>\n",
       "      <td>-13.140952</td>\n",
       "    </tr>\n",
       "    <tr>\n",
       "      <th>3</th>\n",
       "      <td>{'dt__max_depth': 16, 'dt__max_leaf_nodes': 9807, 'dt__min_samples_leaf': 30, 'dt__min_samples_split': 50, 'fsel__k': 13, 'iforest__contamination': 0.1}</td>\n",
       "      <td>-10.324975</td>\n",
       "    </tr>\n",
       "    <tr>\n",
       "      <th>4</th>\n",
       "      <td>{'dt__max_depth': 16, 'dt__max_leaf_nodes': 9807, 'dt__min_samples_leaf': 40, 'dt__min_samples_split': 50, 'fsel__k': 13, 'iforest__contamination': 0.1}</td>\n",
       "      <td>-8.019621</td>\n",
       "    </tr>\n",
       "    <tr>\n",
       "      <th>5</th>\n",
       "      <td>{'dt__max_depth': 16, 'dt__max_leaf_nodes': 9807, 'dt__min_samples_leaf': 50, 'dt__min_samples_split': 50, 'fsel__k': 13, 'iforest__contamination': 0.1}</td>\n",
       "      <td>-6.662314</td>\n",
       "    </tr>\n",
       "  </tbody>\n",
       "</table>\n",
       "</div>"
      ],
      "text/plain": [
       "                                                                                                                                                     params  \\\n",
       "0   {'dt__max_depth': 16, 'dt__max_leaf_nodes': 9807, 'dt__min_samples_leaf': 1, 'dt__min_samples_split': 50, 'fsel__k': 13, 'iforest__contamination': 0.1}   \n",
       "1  {'dt__max_depth': 16, 'dt__max_leaf_nodes': 9807, 'dt__min_samples_leaf': 10, 'dt__min_samples_split': 50, 'fsel__k': 13, 'iforest__contamination': 0.1}   \n",
       "2  {'dt__max_depth': 16, 'dt__max_leaf_nodes': 9807, 'dt__min_samples_leaf': 20, 'dt__min_samples_split': 50, 'fsel__k': 13, 'iforest__contamination': 0.1}   \n",
       "3  {'dt__max_depth': 16, 'dt__max_leaf_nodes': 9807, 'dt__min_samples_leaf': 30, 'dt__min_samples_split': 50, 'fsel__k': 13, 'iforest__contamination': 0.1}   \n",
       "4  {'dt__max_depth': 16, 'dt__max_leaf_nodes': 9807, 'dt__min_samples_leaf': 40, 'dt__min_samples_split': 50, 'fsel__k': 13, 'iforest__contamination': 0.1}   \n",
       "5  {'dt__max_depth': 16, 'dt__max_leaf_nodes': 9807, 'dt__min_samples_leaf': 50, 'dt__min_samples_split': 50, 'fsel__k': 13, 'iforest__contamination': 0.1}   \n",
       "\n",
       "     diff, %  \n",
       "0 -21.059726  \n",
       "1 -15.532081  \n",
       "2 -13.140952  \n",
       "3 -10.324975  \n",
       "4  -8.019621  \n",
       "5  -6.662314  "
      ]
     },
     "execution_count": 14,
     "metadata": {},
     "output_type": "execute_result"
    }
   ],
   "source": [
    "start = timer()\n",
    "\n",
    "hp_grid = {\n",
    "    'dt__min_samples_leaf': [1, 10, 20, 30, 40, 50],\n",
    "}\n",
    "result = run_pipeline(hp_grid)\n",
    "\n",
    "print(\"Execution time HH:MM:SS:\", timedelta(seconds=timer() - start))\n",
    "\n",
    "result"
   ]
  },
  {
   "cell_type": "markdown",
   "id": "5df46594-35d3-4c89-af8b-c330e37f81a1",
   "metadata": {},
   "source": [
    "## Effect of min_samples_split"
   ]
  },
  {
   "cell_type": "code",
   "execution_count": 15,
   "id": "45913add-f1b9-4b1e-8652-b5cba0ac9969",
   "metadata": {},
   "outputs": [
    {
     "name": "stdout",
     "output_type": "stream",
     "text": [
      "Execution time HH:MM:SS: 0:01:05.319134\n"
     ]
    },
    {
     "data": {
      "text/html": [
       "<div>\n",
       "<style scoped>\n",
       "    .dataframe tbody tr th:only-of-type {\n",
       "        vertical-align: middle;\n",
       "    }\n",
       "\n",
       "    .dataframe tbody tr th {\n",
       "        vertical-align: top;\n",
       "    }\n",
       "\n",
       "    .dataframe thead th {\n",
       "        text-align: right;\n",
       "    }\n",
       "</style>\n",
       "<table border=\"1\" class=\"dataframe\">\n",
       "  <thead>\n",
       "    <tr style=\"text-align: right;\">\n",
       "      <th></th>\n",
       "      <th>params</th>\n",
       "      <th>diff, %</th>\n",
       "    </tr>\n",
       "  </thead>\n",
       "  <tbody>\n",
       "    <tr>\n",
       "      <th>0</th>\n",
       "      <td>{'dt__max_depth': 16, 'dt__max_leaf_nodes': 9807, 'dt__min_samples_leaf': 16, 'dt__min_samples_split': 2, 'fsel__k': 13, 'iforest__contamination': 0.1}</td>\n",
       "      <td>-18.013621</td>\n",
       "    </tr>\n",
       "    <tr>\n",
       "      <th>1</th>\n",
       "      <td>{'dt__max_depth': 16, 'dt__max_leaf_nodes': 9807, 'dt__min_samples_leaf': 16, 'dt__min_samples_split': 10, 'fsel__k': 13, 'iforest__contamination': 0.1}</td>\n",
       "      <td>-18.013621</td>\n",
       "    </tr>\n",
       "    <tr>\n",
       "      <th>2</th>\n",
       "      <td>{'dt__max_depth': 16, 'dt__max_leaf_nodes': 9807, 'dt__min_samples_leaf': 16, 'dt__min_samples_split': 20, 'fsel__k': 13, 'iforest__contamination': 0.1}</td>\n",
       "      <td>-18.013621</td>\n",
       "    </tr>\n",
       "    <tr>\n",
       "      <th>3</th>\n",
       "      <td>{'dt__max_depth': 16, 'dt__max_leaf_nodes': 9807, 'dt__min_samples_leaf': 16, 'dt__min_samples_split': 30, 'fsel__k': 13, 'iforest__contamination': 0.1}</td>\n",
       "      <td>-18.013621</td>\n",
       "    </tr>\n",
       "    <tr>\n",
       "      <th>4</th>\n",
       "      <td>{'dt__max_depth': 16, 'dt__max_leaf_nodes': 9807, 'dt__min_samples_leaf': 16, 'dt__min_samples_split': 40, 'fsel__k': 13, 'iforest__contamination': 0.1}</td>\n",
       "      <td>-16.471470</td>\n",
       "    </tr>\n",
       "    <tr>\n",
       "      <th>5</th>\n",
       "      <td>{'dt__max_depth': 16, 'dt__max_leaf_nodes': 9807, 'dt__min_samples_leaf': 16, 'dt__min_samples_split': 50, 'fsel__k': 13, 'iforest__contamination': 0.1}</td>\n",
       "      <td>-13.808643</td>\n",
       "    </tr>\n",
       "  </tbody>\n",
       "</table>\n",
       "</div>"
      ],
      "text/plain": [
       "                                                                                                                                                     params  \\\n",
       "0   {'dt__max_depth': 16, 'dt__max_leaf_nodes': 9807, 'dt__min_samples_leaf': 16, 'dt__min_samples_split': 2, 'fsel__k': 13, 'iforest__contamination': 0.1}   \n",
       "1  {'dt__max_depth': 16, 'dt__max_leaf_nodes': 9807, 'dt__min_samples_leaf': 16, 'dt__min_samples_split': 10, 'fsel__k': 13, 'iforest__contamination': 0.1}   \n",
       "2  {'dt__max_depth': 16, 'dt__max_leaf_nodes': 9807, 'dt__min_samples_leaf': 16, 'dt__min_samples_split': 20, 'fsel__k': 13, 'iforest__contamination': 0.1}   \n",
       "3  {'dt__max_depth': 16, 'dt__max_leaf_nodes': 9807, 'dt__min_samples_leaf': 16, 'dt__min_samples_split': 30, 'fsel__k': 13, 'iforest__contamination': 0.1}   \n",
       "4  {'dt__max_depth': 16, 'dt__max_leaf_nodes': 9807, 'dt__min_samples_leaf': 16, 'dt__min_samples_split': 40, 'fsel__k': 13, 'iforest__contamination': 0.1}   \n",
       "5  {'dt__max_depth': 16, 'dt__max_leaf_nodes': 9807, 'dt__min_samples_leaf': 16, 'dt__min_samples_split': 50, 'fsel__k': 13, 'iforest__contamination': 0.1}   \n",
       "\n",
       "     diff, %  \n",
       "0 -18.013621  \n",
       "1 -18.013621  \n",
       "2 -18.013621  \n",
       "3 -18.013621  \n",
       "4 -16.471470  \n",
       "5 -13.808643  "
      ]
     },
     "execution_count": 15,
     "metadata": {},
     "output_type": "execute_result"
    }
   ],
   "source": [
    "start = timer()\n",
    "\n",
    "hp_grid = {\n",
    "    'dt__min_samples_split': [2, 10, 20, 30, 40, 50],\n",
    "}\n",
    "result = run_pipeline(hp_grid)\n",
    "\n",
    "print(\"Execution time HH:MM:SS:\", timedelta(seconds=timer() - start))\n",
    "\n",
    "result"
   ]
  },
  {
   "cell_type": "markdown",
   "id": "1202a3b1-c27e-4cb2-a936-2d25cf3b098b",
   "metadata": {},
   "source": [
    "## Effect of max_leaf_nodes"
   ]
  },
  {
   "cell_type": "code",
   "execution_count": 16,
   "id": "b24d1577-161d-4047-b110-24a1d219c072",
   "metadata": {},
   "outputs": [
    {
     "name": "stdout",
     "output_type": "stream",
     "text": [
      "Execution time HH:MM:SS: 0:00:43.972412\n"
     ]
    },
    {
     "data": {
      "text/html": [
       "<div>\n",
       "<style scoped>\n",
       "    .dataframe tbody tr th:only-of-type {\n",
       "        vertical-align: middle;\n",
       "    }\n",
       "\n",
       "    .dataframe tbody tr th {\n",
       "        vertical-align: top;\n",
       "    }\n",
       "\n",
       "    .dataframe thead th {\n",
       "        text-align: right;\n",
       "    }\n",
       "</style>\n",
       "<table border=\"1\" class=\"dataframe\">\n",
       "  <thead>\n",
       "    <tr style=\"text-align: right;\">\n",
       "      <th></th>\n",
       "      <th>params</th>\n",
       "      <th>diff, %</th>\n",
       "    </tr>\n",
       "  </thead>\n",
       "  <tbody>\n",
       "    <tr>\n",
       "      <th>4</th>\n",
       "      <td>{'dt__max_depth': 16, 'dt__max_leaf_nodes': None, 'dt__min_samples_leaf': 16, 'dt__min_samples_split': 50, 'fsel__k': 13, 'iforest__contamination': 0.1}</td>\n",
       "      <td>-13.810980</td>\n",
       "    </tr>\n",
       "    <tr>\n",
       "      <th>0</th>\n",
       "      <td>{'dt__max_depth': 16, 'dt__max_leaf_nodes': 2500, 'dt__min_samples_leaf': 16, 'dt__min_samples_split': 50, 'fsel__k': 13, 'iforest__contamination': 0.1}</td>\n",
       "      <td>-13.808643</td>\n",
       "    </tr>\n",
       "    <tr>\n",
       "      <th>1</th>\n",
       "      <td>{'dt__max_depth': 16, 'dt__max_leaf_nodes': 5000, 'dt__min_samples_leaf': 16, 'dt__min_samples_split': 50, 'fsel__k': 13, 'iforest__contamination': 0.1}</td>\n",
       "      <td>-13.808643</td>\n",
       "    </tr>\n",
       "    <tr>\n",
       "      <th>2</th>\n",
       "      <td>{'dt__max_depth': 16, 'dt__max_leaf_nodes': 7500, 'dt__min_samples_leaf': 16, 'dt__min_samples_split': 50, 'fsel__k': 13, 'iforest__contamination': 0.1}</td>\n",
       "      <td>-13.808643</td>\n",
       "    </tr>\n",
       "    <tr>\n",
       "      <th>3</th>\n",
       "      <td>{'dt__max_depth': 16, 'dt__max_leaf_nodes': 10000, 'dt__min_samples_leaf': 16, 'dt__min_samples_split': 50, 'fsel__k': 13, 'iforest__contamination': 0.1}</td>\n",
       "      <td>-13.808643</td>\n",
       "    </tr>\n",
       "  </tbody>\n",
       "</table>\n",
       "</div>"
      ],
      "text/plain": [
       "                                                                                                                                                      params  \\\n",
       "4   {'dt__max_depth': 16, 'dt__max_leaf_nodes': None, 'dt__min_samples_leaf': 16, 'dt__min_samples_split': 50, 'fsel__k': 13, 'iforest__contamination': 0.1}   \n",
       "0   {'dt__max_depth': 16, 'dt__max_leaf_nodes': 2500, 'dt__min_samples_leaf': 16, 'dt__min_samples_split': 50, 'fsel__k': 13, 'iforest__contamination': 0.1}   \n",
       "1   {'dt__max_depth': 16, 'dt__max_leaf_nodes': 5000, 'dt__min_samples_leaf': 16, 'dt__min_samples_split': 50, 'fsel__k': 13, 'iforest__contamination': 0.1}   \n",
       "2   {'dt__max_depth': 16, 'dt__max_leaf_nodes': 7500, 'dt__min_samples_leaf': 16, 'dt__min_samples_split': 50, 'fsel__k': 13, 'iforest__contamination': 0.1}   \n",
       "3  {'dt__max_depth': 16, 'dt__max_leaf_nodes': 10000, 'dt__min_samples_leaf': 16, 'dt__min_samples_split': 50, 'fsel__k': 13, 'iforest__contamination': 0.1}   \n",
       "\n",
       "     diff, %  \n",
       "4 -13.810980  \n",
       "0 -13.808643  \n",
       "1 -13.808643  \n",
       "2 -13.808643  \n",
       "3 -13.808643  "
      ]
     },
     "execution_count": 16,
     "metadata": {},
     "output_type": "execute_result"
    }
   ],
   "source": [
    "start = timer()\n",
    "\n",
    "hp_grid = {\n",
    "    'dt__max_leaf_nodes': [2500, 5000, 7500, 10000, None]\n",
    "}\n",
    "result = run_pipeline(hp_grid)\n",
    "\n",
    "print(\"Execution time HH:MM:SS:\", timedelta(seconds=timer() - start))\n",
    "\n",
    "result"
   ]
  },
  {
   "cell_type": "code",
   "execution_count": null,
   "id": "fb2250c6-5f1b-490c-aeda-dd04e59519b7",
   "metadata": {},
   "outputs": [],
   "source": []
  }
 ],
 "metadata": {
  "kernelspec": {
   "display_name": "Python 3 (ipykernel)",
   "language": "python",
   "name": "python3"
  },
  "language_info": {
   "codemirror_mode": {
    "name": "ipython",
    "version": 3
   },
   "file_extension": ".py",
   "mimetype": "text/x-python",
   "name": "python",
   "nbconvert_exporter": "python",
   "pygments_lexer": "ipython3",
   "version": "3.9.18"
  }
 },
 "nbformat": 4,
 "nbformat_minor": 5
}
