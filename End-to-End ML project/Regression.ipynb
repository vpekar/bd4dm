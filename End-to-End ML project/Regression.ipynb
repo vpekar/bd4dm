{
 "cells": [
  {
   "cell_type": "markdown",
   "metadata": {},
   "source": [
    "# Regression problem\n",
    "\n",
    "The task is to predict the median price of a house on a given district in California, given past records on sold properties in this US state."
   ]
  },
  {
   "cell_type": "code",
   "execution_count": 1,
   "metadata": {
    "ExecuteTime": {
     "end_time": "2022-03-13T12:36:55.107267Z",
     "start_time": "2022-03-13T12:36:52.979287Z"
    }
   },
   "outputs": [],
   "source": [
    "# setting logging to print only error messages from Sklearnex\n",
    "import logging\n",
    "logging.basicConfig()\n",
    "logging.getLogger(\"SKLEARNEX\").setLevel(logging.ERROR)\n",
    "\n",
    "import pandas as pd\n",
    "import numpy as np\n",
    "import seaborn as sns\n",
    "\n",
    "import matplotlib.pyplot as plt\n",
    "\n",
    "sns.set_theme(palette=\"Set2\")"
   ]
  },
  {
   "cell_type": "markdown",
   "metadata": {},
   "source": [
    "# Step 1. Load the data\n",
    "\n",
    "If the data has not been downloaded before, download it, and save to a local folder called \"datasets\"."
   ]
  },
  {
   "cell_type": "code",
   "execution_count": 2,
   "metadata": {
    "ExecuteTime": {
     "end_time": "2022-03-13T12:36:55.129076Z",
     "start_time": "2022-03-13T12:36:55.110260Z"
    }
   },
   "outputs": [],
   "source": [
    "import os\n",
    "import tarfile\n",
    "import urllib\n",
    "\n",
    "\n",
    "# the file is archived with tar and gunzip\n",
    "URL = \"https://raw.githubusercontent.com/ageron/handson-ml/master/datasets/housing/housing.tgz\"\n",
    "\n",
    "def get_dataframe():\n",
    "    global URL\n",
    "    \n",
    "    # if the \"datasets\" folder does not exist, create it\n",
    "    if not os.path.exists(\"datasets\"):\n",
    "        os.makedirs(\"datasets\")\n",
    "    \n",
    "    # if the archived file does not exist, download it\n",
    "    if not os.path.exists(\"datasets/housing.tgz\"):\n",
    "        urllib.request.urlretrieve(URL, \"datasets/housing.tgz\")\n",
    "    \n",
    "    # if the unpacked file does not exist, unpack it\n",
    "    if not os.path.exists(\"datasets/housing.csv\"):\n",
    "        infile = tarfile.open(\"datasets/housing.tgz\")\n",
    "        infile.extractall(path=\"datasets\")\n",
    "        infile.close()\n",
    "    \n",
    "    # load the dataframe\n",
    "    return pd.read_csv(\"datasets/housing.csv\")"
   ]
  },
  {
   "cell_type": "code",
   "execution_count": 3,
   "metadata": {
    "ExecuteTime": {
     "end_time": "2022-03-13T12:36:55.245898Z",
     "start_time": "2022-03-13T12:36:55.130915Z"
    }
   },
   "outputs": [],
   "source": [
    "df = get_dataframe()"
   ]
  },
  {
   "cell_type": "code",
   "execution_count": 4,
   "metadata": {
    "ExecuteTime": {
     "end_time": "2022-03-13T12:36:55.288291Z",
     "start_time": "2022-03-13T12:36:55.249937Z"
    }
   },
   "outputs": [
    {
     "data": {
      "text/html": [
       "<div>\n",
       "<style scoped>\n",
       "    .dataframe tbody tr th:only-of-type {\n",
       "        vertical-align: middle;\n",
       "    }\n",
       "\n",
       "    .dataframe tbody tr th {\n",
       "        vertical-align: top;\n",
       "    }\n",
       "\n",
       "    .dataframe thead th {\n",
       "        text-align: right;\n",
       "    }\n",
       "</style>\n",
       "<table border=\"1\" class=\"dataframe\">\n",
       "  <thead>\n",
       "    <tr style=\"text-align: right;\">\n",
       "      <th></th>\n",
       "      <th>longitude</th>\n",
       "      <th>latitude</th>\n",
       "      <th>housing_median_age</th>\n",
       "      <th>total_rooms</th>\n",
       "      <th>total_bedrooms</th>\n",
       "      <th>population</th>\n",
       "      <th>households</th>\n",
       "      <th>median_income</th>\n",
       "      <th>median_house_value</th>\n",
       "      <th>ocean_proximity</th>\n",
       "    </tr>\n",
       "  </thead>\n",
       "  <tbody>\n",
       "    <tr>\n",
       "      <th>0</th>\n",
       "      <td>-122.23</td>\n",
       "      <td>37.88</td>\n",
       "      <td>41.0</td>\n",
       "      <td>880.0</td>\n",
       "      <td>129.0</td>\n",
       "      <td>322.0</td>\n",
       "      <td>126.0</td>\n",
       "      <td>8.3252</td>\n",
       "      <td>452600.0</td>\n",
       "      <td>NEAR BAY</td>\n",
       "    </tr>\n",
       "    <tr>\n",
       "      <th>1</th>\n",
       "      <td>-122.22</td>\n",
       "      <td>37.86</td>\n",
       "      <td>21.0</td>\n",
       "      <td>7099.0</td>\n",
       "      <td>1106.0</td>\n",
       "      <td>2401.0</td>\n",
       "      <td>1138.0</td>\n",
       "      <td>8.3014</td>\n",
       "      <td>358500.0</td>\n",
       "      <td>NEAR BAY</td>\n",
       "    </tr>\n",
       "    <tr>\n",
       "      <th>2</th>\n",
       "      <td>-122.24</td>\n",
       "      <td>37.85</td>\n",
       "      <td>52.0</td>\n",
       "      <td>1467.0</td>\n",
       "      <td>190.0</td>\n",
       "      <td>496.0</td>\n",
       "      <td>177.0</td>\n",
       "      <td>7.2574</td>\n",
       "      <td>352100.0</td>\n",
       "      <td>NEAR BAY</td>\n",
       "    </tr>\n",
       "    <tr>\n",
       "      <th>3</th>\n",
       "      <td>-122.25</td>\n",
       "      <td>37.85</td>\n",
       "      <td>52.0</td>\n",
       "      <td>1274.0</td>\n",
       "      <td>235.0</td>\n",
       "      <td>558.0</td>\n",
       "      <td>219.0</td>\n",
       "      <td>5.6431</td>\n",
       "      <td>341300.0</td>\n",
       "      <td>NEAR BAY</td>\n",
       "    </tr>\n",
       "    <tr>\n",
       "      <th>4</th>\n",
       "      <td>-122.25</td>\n",
       "      <td>37.85</td>\n",
       "      <td>52.0</td>\n",
       "      <td>1627.0</td>\n",
       "      <td>280.0</td>\n",
       "      <td>565.0</td>\n",
       "      <td>259.0</td>\n",
       "      <td>3.8462</td>\n",
       "      <td>342200.0</td>\n",
       "      <td>NEAR BAY</td>\n",
       "    </tr>\n",
       "  </tbody>\n",
       "</table>\n",
       "</div>"
      ],
      "text/plain": [
       "   longitude  latitude  housing_median_age  total_rooms  total_bedrooms  \\\n",
       "0    -122.23     37.88                41.0        880.0           129.0   \n",
       "1    -122.22     37.86                21.0       7099.0          1106.0   \n",
       "2    -122.24     37.85                52.0       1467.0           190.0   \n",
       "3    -122.25     37.85                52.0       1274.0           235.0   \n",
       "4    -122.25     37.85                52.0       1627.0           280.0   \n",
       "\n",
       "   population  households  median_income  median_house_value ocean_proximity  \n",
       "0       322.0       126.0         8.3252            452600.0        NEAR BAY  \n",
       "1      2401.0      1138.0         8.3014            358500.0        NEAR BAY  \n",
       "2       496.0       177.0         7.2574            352100.0        NEAR BAY  \n",
       "3       558.0       219.0         5.6431            341300.0        NEAR BAY  \n",
       "4       565.0       259.0         3.8462            342200.0        NEAR BAY  "
      ]
     },
     "execution_count": 4,
     "metadata": {},
     "output_type": "execute_result"
    }
   ],
   "source": [
    "# inspect the first couple of rows\n",
    "df.head()"
   ]
  },
  {
   "cell_type": "markdown",
   "metadata": {},
   "source": [
    "Each row describes a district, its geographical coordinates, mean age of houses, total number of rooms in the district, total number of bedrooms, the population of the district, the number of households (i.e. separate properties) in the district, etc."
   ]
  },
  {
   "cell_type": "code",
   "execution_count": 5,
   "metadata": {
    "ExecuteTime": {
     "end_time": "2022-03-13T12:36:55.304225Z",
     "start_time": "2022-03-13T12:36:55.291623Z"
    }
   },
   "outputs": [
    {
     "data": {
      "text/plain": [
       "(20640, 10)"
      ]
     },
     "execution_count": 5,
     "metadata": {},
     "output_type": "execute_result"
    }
   ],
   "source": [
    "# the size of the dataset\n",
    "df.shape"
   ]
  },
  {
   "cell_type": "markdown",
   "metadata": {},
   "source": [
    "There are 20,640 rows and 10 columns."
   ]
  },
  {
   "cell_type": "markdown",
   "metadata": {},
   "source": [
    "# Step 2. Train-test split\n",
    "\n",
    "We should set aside a test part of the dataset as soon as possible, in order to avoid **data snooping** bias: Exploring test data may suggest to us specific solutions (data preprocessing steps or choice of the learning algorithm) and thus result in over-fitting the model to test data too, i.e. an over-optimistic evaluation of its accuracy.\n",
    "\n",
    "## Random sampling\n",
    "\n",
    "One option is to **randomly** split the full dataset into a training and test part:"
   ]
  },
  {
   "cell_type": "code",
   "execution_count": 6,
   "metadata": {
    "ExecuteTime": {
     "end_time": "2022-03-13T12:36:56.078497Z",
     "start_time": "2022-03-13T12:36:55.306234Z"
    }
   },
   "outputs": [
    {
     "name": "stdout",
     "output_type": "stream",
     "text": [
      "16512 train and 4128 test instances\n"
     ]
    },
    {
     "name": "stderr",
     "output_type": "stream",
     "text": [
      "Intel(R) Extension for Scikit-learn* enabled (https://github.com/intel/scikit-learn-intelex)\n"
     ]
    }
   ],
   "source": [
    "from sklearn.model_selection import train_test_split\n",
    "\n",
    "train_set, test_set = train_test_split(df, test_size=0.2, random_state=7)\n",
    "print(f\"{train_set.shape[0]} train and {test_set.shape[0]} test instances\")"
   ]
  },
  {
   "cell_type": "markdown",
   "metadata": {},
   "source": [
    "Here, we requested that the test set is 20% of the full dataset (by passing `test_size=0.2`) and that the random number generator uses the same seed number (by passing `random_state=7`, any constant will do, as long as it is the same in different calls of the function). The latter ensures that if we run the same function again, the same train-test split will be produced.\n",
    "\n",
    "Random sampling works well for very large datasets, but the smaller the dataset, the greater sampling there will be.\n",
    "\n",
    "## Stratified sampling\n",
    "\n",
    "Stratified sampling aims to ensure that some critical attribute(s) of the population are correctly represented in the sample. For example, if the general population of a country is composed of 51.3% females and 48.7% males, the gender attribute is important in our study, and our sample must have 1000 observations, then we should ensure that there are 513 females and 487 males in the sample. Otherwise, random sampling may introduce an undesired bias into our sample.\n",
    "\n",
    "Suppose that the property agency indicated to us that the income of the population is a very important attribute. We can then split the data into the training and test sets, creating several income categories of observations and using them for stratified sampling.\n",
    "\n",
    "We can use the `cut()` method to create a categorical variable in the dataframe that would record the groups of income. Here we create five income groups:"
   ]
  },
  {
   "cell_type": "code",
   "execution_count": 7,
   "metadata": {
    "ExecuteTime": {
     "end_time": "2022-03-13T12:36:56.104342Z",
     "start_time": "2022-03-13T12:36:56.082831Z"
    }
   },
   "outputs": [],
   "source": [
    "df[\"income_cat\"] = pd.cut(df[\"median_income\"], bins=[0., 1.5, 3.0, 4.5, 6., np.inf],\n",
    "                          labels=[1, 2, 3, 4, 5])"
   ]
  },
  {
   "cell_type": "markdown",
   "metadata": {},
   "source": [
    "We can plot the distribution of the frequencies of each group to make sure each is sufficiently large and the same proportion of group sizes can be achieved after the train-test split."
   ]
  },
  {
   "cell_type": "code",
   "execution_count": 8,
   "metadata": {
    "ExecuteTime": {
     "end_time": "2022-03-13T12:36:56.132563Z",
     "start_time": "2022-03-13T12:36:56.108742Z"
    }
   },
   "outputs": [
    {
     "data": {
      "text/plain": [
       "3    7236\n",
       "2    6581\n",
       "4    3639\n",
       "5    2362\n",
       "1     822\n",
       "Name: income_cat, dtype: int64"
      ]
     },
     "execution_count": 8,
     "metadata": {},
     "output_type": "execute_result"
    }
   ],
   "source": [
    "df[\"income_cat\"].value_counts()"
   ]
  },
  {
   "cell_type": "code",
   "execution_count": 9,
   "metadata": {
    "ExecuteTime": {
     "end_time": "2022-03-13T12:36:56.397462Z",
     "start_time": "2022-03-13T12:36:56.138371Z"
    }
   },
   "outputs": [
    {
     "data": {
      "text/plain": [
       "<AxesSubplot:>"
      ]
     },
     "execution_count": 9,
     "metadata": {},
     "output_type": "execute_result"
    },
    {
     "data": {
      "image/png": "[encoded data removed]",
      "text/plain": [
       "<Figure size 432x288 with 1 Axes>"
      ]
     },
     "metadata": {},
     "output_type": "display_data"
    }
   ],
   "source": [
    "df[\"income_cat\"].value_counts().plot(kind=\"bar\", rot=0)"
   ]
  },
  {
   "cell_type": "markdown",
   "metadata": {},
   "source": [
    "Now we can perform stratified sampling."
   ]
  },
  {
   "cell_type": "code",
   "execution_count": 10,
   "metadata": {
    "ExecuteTime": {
     "end_time": "2022-03-13T12:36:56.421364Z",
     "start_time": "2022-03-13T12:36:56.401462Z"
    }
   },
   "outputs": [],
   "source": [
    "strat_train_set, strat_test_set = train_test_split(df, test_size=0.2, random_state=7,\n",
    "                                                  stratify=df[\"income_cat\"])"
   ]
  },
  {
   "cell_type": "markdown",
   "metadata": {},
   "source": [
    "We can look at the income category proportions in the full dataset, in the test set produced with random sampling, and in the test set produced with stratified sampling:"
   ]
  },
  {
   "cell_type": "code",
   "execution_count": 11,
   "metadata": {
    "ExecuteTime": {
     "end_time": "2022-03-13T12:36:56.457810Z",
     "start_time": "2022-03-13T12:36:56.422544Z"
    }
   },
   "outputs": [
    {
     "data": {
      "text/html": [
       "<div>\n",
       "<style scoped>\n",
       "    .dataframe tbody tr th:only-of-type {\n",
       "        vertical-align: middle;\n",
       "    }\n",
       "\n",
       "    .dataframe tbody tr th {\n",
       "        vertical-align: top;\n",
       "    }\n",
       "\n",
       "    .dataframe thead th {\n",
       "        text-align: right;\n",
       "    }\n",
       "</style>\n",
       "<table border=\"1\" class=\"dataframe\">\n",
       "  <thead>\n",
       "    <tr style=\"text-align: right;\">\n",
       "      <th></th>\n",
       "      <th>Overall</th>\n",
       "      <th>Random test set</th>\n",
       "      <th>Stratified test set</th>\n",
       "      <th>Rand. %error</th>\n",
       "      <th>Strat. %error</th>\n",
       "    </tr>\n",
       "  </thead>\n",
       "  <tbody>\n",
       "    <tr>\n",
       "      <th>1</th>\n",
       "      <td>0.039826</td>\n",
       "      <td>0.039971</td>\n",
       "      <td>0.039971</td>\n",
       "      <td>0.364964</td>\n",
       "      <td>0.364964</td>\n",
       "    </tr>\n",
       "    <tr>\n",
       "      <th>2</th>\n",
       "      <td>0.318847</td>\n",
       "      <td>0.297481</td>\n",
       "      <td>0.318798</td>\n",
       "      <td>-6.701109</td>\n",
       "      <td>-0.015195</td>\n",
       "    </tr>\n",
       "    <tr>\n",
       "      <th>3</th>\n",
       "      <td>0.350581</td>\n",
       "      <td>0.358043</td>\n",
       "      <td>0.350533</td>\n",
       "      <td>2.128248</td>\n",
       "      <td>-0.013820</td>\n",
       "    </tr>\n",
       "    <tr>\n",
       "      <th>4</th>\n",
       "      <td>0.176308</td>\n",
       "      <td>0.188953</td>\n",
       "      <td>0.176357</td>\n",
       "      <td>7.172300</td>\n",
       "      <td>0.027480</td>\n",
       "    </tr>\n",
       "    <tr>\n",
       "      <th>5</th>\n",
       "      <td>0.114438</td>\n",
       "      <td>0.115552</td>\n",
       "      <td>0.114341</td>\n",
       "      <td>0.973751</td>\n",
       "      <td>-0.084674</td>\n",
       "    </tr>\n",
       "  </tbody>\n",
       "</table>\n",
       "</div>"
      ],
      "text/plain": [
       "    Overall  Random test set  Stratified test set  Rand. %error  Strat. %error\n",
       "1  0.039826         0.039971             0.039971      0.364964       0.364964\n",
       "2  0.318847         0.297481             0.318798     -6.701109      -0.015195\n",
       "3  0.350581         0.358043             0.350533      2.128248      -0.013820\n",
       "4  0.176308         0.188953             0.176357      7.172300       0.027480\n",
       "5  0.114438         0.115552             0.114341      0.973751      -0.084674"
      ]
     },
     "execution_count": 11,
     "metadata": {},
     "output_type": "execute_result"
    }
   ],
   "source": [
    "def income_cat_proportions(data):\n",
    "    return data[\"income_cat\"].value_counts() / len(data)\n",
    "\n",
    "# create a random split\n",
    "rand_train_set, rand_test_set = train_test_split(df, test_size=0.2, random_state=7)\n",
    "\n",
    "# create a temporary dataframe for easy visualization\n",
    "df_tmp = pd.DataFrame({\n",
    "    \"Overall\": income_cat_proportions(df),\n",
    "    \"Random test set\": income_cat_proportions(rand_test_set),\n",
    "    \"Stratified test set\": income_cat_proportions(strat_test_set),\n",
    "}).sort_index()\n",
    "\n",
    "# add two columns for the percent of the difference to the overall proportion\n",
    "df_tmp[\"Rand. %error\"] = 100 * df_tmp[\"Random test set\"] / df_tmp[\"Overall\"] - 100\n",
    "df_tmp[\"Strat. %error\"] = 100 * df_tmp[\"Stratified test set\"] / df_tmp[\"Overall\"] - 100\n",
    "\n",
    "df_tmp"
   ]
  },
  {
   "cell_type": "markdown",
   "metadata": {},
   "source": [
    "So random splitting produces a test set where income category 2 is under-represented by 6% compared to its proportion in the overall dataset, and categories 3 and 4 are over-represented by 2% and 7%, respectively.\n",
    "\n",
    "Stratification sampling resulted in under- or over-representations of income categories of no more than 0.25%.\n",
    "\n",
    "Now that we have created stratified samples, we can delete the \"income_cat\" column in both subsets of data:"
   ]
  },
  {
   "cell_type": "code",
   "execution_count": 12,
   "metadata": {
    "ExecuteTime": {
     "end_time": "2022-03-13T12:36:56.466369Z",
     "start_time": "2022-03-13T12:36:56.460307Z"
    }
   },
   "outputs": [],
   "source": [
    "del strat_train_set[\"income_cat\"]\n",
    "del strat_test_set[\"income_cat\"]"
   ]
  },
  {
   "cell_type": "markdown",
   "metadata": {},
   "source": [
    "For convenience, let's rename the variables to shorter names:"
   ]
  },
  {
   "cell_type": "code",
   "execution_count": 13,
   "metadata": {
    "ExecuteTime": {
     "end_time": "2022-03-13T12:36:56.475361Z",
     "start_time": "2022-03-13T12:36:56.468427Z"
    }
   },
   "outputs": [],
   "source": [
    "trainset = strat_train_set\n",
    "testset = strat_test_set"
   ]
  },
  {
   "cell_type": "markdown",
   "metadata": {},
   "source": [
    "# Step 3. Exploratory Data Analysis\n",
    "\n",
    "## Columns and their data types\n",
    "\n",
    "Let's inspect the size of the dataset, the columns and their data types."
   ]
  },
  {
   "cell_type": "code",
   "execution_count": 14,
   "metadata": {
    "ExecuteTime": {
     "end_time": "2022-03-13T12:36:56.494296Z",
     "start_time": "2022-03-13T12:36:56.478578Z"
    }
   },
   "outputs": [
    {
     "name": "stdout",
     "output_type": "stream",
     "text": [
      "<class 'pandas.core.frame.DataFrame'>\n",
      "Int64Index: 16512 entries, 8088 to 2786\n",
      "Data columns (total 10 columns):\n",
      " #   Column              Non-Null Count  Dtype  \n",
      "---  ------              --------------  -----  \n",
      " 0   longitude           16512 non-null  float64\n",
      " 1   latitude            16512 non-null  float64\n",
      " 2   housing_median_age  16512 non-null  float64\n",
      " 3   total_rooms         16512 non-null  float64\n",
      " 4   total_bedrooms      16356 non-null  float64\n",
      " 5   population          16512 non-null  float64\n",
      " 6   households          16512 non-null  float64\n",
      " 7   median_income       16512 non-null  float64\n",
      " 8   median_house_value  16512 non-null  float64\n",
      " 9   ocean_proximity     16512 non-null  object \n",
      "dtypes: float64(9), object(1)\n",
      "memory usage: 1.4+ MB\n"
     ]
    }
   ],
   "source": [
    "trainset.info()"
   ]
  },
  {
   "cell_type": "markdown",
   "metadata": {},
   "source": [
    "In the \"total_bedrooms\" column, the number of non-null values is smaller than the number of rows, which suggests there are missing values that will need to be dealt with.\n",
    "\n",
    "## Descriptive statistics\n",
    "\n",
    "The data type of all the columns is numerical, except \"ocean_proximity\", which is a categorical variable. We can view all possible values of the column:"
   ]
  },
  {
   "cell_type": "code",
   "execution_count": 15,
   "metadata": {
    "ExecuteTime": {
     "end_time": "2022-03-13T12:36:56.509577Z",
     "start_time": "2022-03-13T12:36:56.497293Z"
    }
   },
   "outputs": [
    {
     "data": {
      "text/plain": [
       "<1H OCEAN     7307\n",
       "INLAND        5269\n",
       "NEAR OCEAN    2114\n",
       "NEAR BAY      1817\n",
       "ISLAND           5\n",
       "Name: ocean_proximity, dtype: int64"
      ]
     },
     "execution_count": 15,
     "metadata": {},
     "output_type": "execute_result"
    }
   ],
   "source": [
    "trainset['ocean_proximity'].value_counts()"
   ]
  },
  {
   "cell_type": "markdown",
   "metadata": {},
   "source": [
    "To understand the distribution of the numerical values, one can use the `describe()` method of a dataframe:"
   ]
  },
  {
   "cell_type": "code",
   "execution_count": 16,
   "metadata": {
    "ExecuteTime": {
     "end_time": "2022-03-13T12:36:56.566926Z",
     "start_time": "2022-03-13T12:36:56.511571Z"
    }
   },
   "outputs": [
    {
     "data": {
      "text/html": [
       "<div>\n",
       "<style scoped>\n",
       "    .dataframe tbody tr th:only-of-type {\n",
       "        vertical-align: middle;\n",
       "    }\n",
       "\n",
       "    .dataframe tbody tr th {\n",
       "        vertical-align: top;\n",
       "    }\n",
       "\n",
       "    .dataframe thead th {\n",
       "        text-align: right;\n",
       "    }\n",
       "</style>\n",
       "<table border=\"1\" class=\"dataframe\">\n",
       "  <thead>\n",
       "    <tr style=\"text-align: right;\">\n",
       "      <th></th>\n",
       "      <th>longitude</th>\n",
       "      <th>latitude</th>\n",
       "      <th>housing_median_age</th>\n",
       "      <th>total_rooms</th>\n",
       "      <th>total_bedrooms</th>\n",
       "      <th>population</th>\n",
       "      <th>households</th>\n",
       "      <th>median_income</th>\n",
       "      <th>median_house_value</th>\n",
       "    </tr>\n",
       "  </thead>\n",
       "  <tbody>\n",
       "    <tr>\n",
       "      <th>count</th>\n",
       "      <td>16512.000000</td>\n",
       "      <td>16512.000000</td>\n",
       "      <td>16512.000000</td>\n",
       "      <td>16512.000000</td>\n",
       "      <td>16356.000000</td>\n",
       "      <td>16512.000000</td>\n",
       "      <td>16512.000000</td>\n",
       "      <td>16512.000000</td>\n",
       "      <td>16512.000000</td>\n",
       "    </tr>\n",
       "    <tr>\n",
       "      <th>mean</th>\n",
       "      <td>-119.573100</td>\n",
       "      <td>35.637304</td>\n",
       "      <td>28.698886</td>\n",
       "      <td>2626.351623</td>\n",
       "      <td>535.972243</td>\n",
       "      <td>1418.784944</td>\n",
       "      <td>497.814983</td>\n",
       "      <td>3.867893</td>\n",
       "      <td>207136.547602</td>\n",
       "    </tr>\n",
       "    <tr>\n",
       "      <th>std</th>\n",
       "      <td>2.000532</td>\n",
       "      <td>2.133814</td>\n",
       "      <td>12.559323</td>\n",
       "      <td>2147.169862</td>\n",
       "      <td>414.717072</td>\n",
       "      <td>1082.348875</td>\n",
       "      <td>376.209950</td>\n",
       "      <td>1.899566</td>\n",
       "      <td>115413.047088</td>\n",
       "    </tr>\n",
       "    <tr>\n",
       "      <th>min</th>\n",
       "      <td>-124.300000</td>\n",
       "      <td>32.540000</td>\n",
       "      <td>1.000000</td>\n",
       "      <td>2.000000</td>\n",
       "      <td>2.000000</td>\n",
       "      <td>3.000000</td>\n",
       "      <td>2.000000</td>\n",
       "      <td>0.499900</td>\n",
       "      <td>14999.000000</td>\n",
       "    </tr>\n",
       "    <tr>\n",
       "      <th>25%</th>\n",
       "      <td>-121.790000</td>\n",
       "      <td>33.930000</td>\n",
       "      <td>18.000000</td>\n",
       "      <td>1453.750000</td>\n",
       "      <td>297.000000</td>\n",
       "      <td>790.000000</td>\n",
       "      <td>280.000000</td>\n",
       "      <td>2.558225</td>\n",
       "      <td>119900.000000</td>\n",
       "    </tr>\n",
       "    <tr>\n",
       "      <th>50%</th>\n",
       "      <td>-118.500000</td>\n",
       "      <td>34.260000</td>\n",
       "      <td>29.000000</td>\n",
       "      <td>2125.000000</td>\n",
       "      <td>435.000000</td>\n",
       "      <td>1166.500000</td>\n",
       "      <td>409.000000</td>\n",
       "      <td>3.537150</td>\n",
       "      <td>180400.000000</td>\n",
       "    </tr>\n",
       "    <tr>\n",
       "      <th>75%</th>\n",
       "      <td>-118.010000</td>\n",
       "      <td>37.720000</td>\n",
       "      <td>37.000000</td>\n",
       "      <td>3136.250000</td>\n",
       "      <td>644.000000</td>\n",
       "      <td>1724.000000</td>\n",
       "      <td>603.000000</td>\n",
       "      <td>4.736900</td>\n",
       "      <td>265125.000000</td>\n",
       "    </tr>\n",
       "    <tr>\n",
       "      <th>max</th>\n",
       "      <td>-114.310000</td>\n",
       "      <td>41.950000</td>\n",
       "      <td>52.000000</td>\n",
       "      <td>39320.000000</td>\n",
       "      <td>6210.000000</td>\n",
       "      <td>16305.000000</td>\n",
       "      <td>5358.000000</td>\n",
       "      <td>15.000100</td>\n",
       "      <td>500001.000000</td>\n",
       "    </tr>\n",
       "  </tbody>\n",
       "</table>\n",
       "</div>"
      ],
      "text/plain": [
       "          longitude      latitude  housing_median_age   total_rooms  \\\n",
       "count  16512.000000  16512.000000        16512.000000  16512.000000   \n",
       "mean    -119.573100     35.637304           28.698886   2626.351623   \n",
       "std        2.000532      2.133814           12.559323   2147.169862   \n",
       "min     -124.300000     32.540000            1.000000      2.000000   \n",
       "25%     -121.790000     33.930000           18.000000   1453.750000   \n",
       "50%     -118.500000     34.260000           29.000000   2125.000000   \n",
       "75%     -118.010000     37.720000           37.000000   3136.250000   \n",
       "max     -114.310000     41.950000           52.000000  39320.000000   \n",
       "\n",
       "       total_bedrooms    population    households  median_income  \\\n",
       "count    16356.000000  16512.000000  16512.000000   16512.000000   \n",
       "mean       535.972243   1418.784944    497.814983       3.867893   \n",
       "std        414.717072   1082.348875    376.209950       1.899566   \n",
       "min          2.000000      3.000000      2.000000       0.499900   \n",
       "25%        297.000000    790.000000    280.000000       2.558225   \n",
       "50%        435.000000   1166.500000    409.000000       3.537150   \n",
       "75%        644.000000   1724.000000    603.000000       4.736900   \n",
       "max       6210.000000  16305.000000   5358.000000      15.000100   \n",
       "\n",
       "       median_house_value  \n",
       "count        16512.000000  \n",
       "mean        207136.547602  \n",
       "std         115413.047088  \n",
       "min          14999.000000  \n",
       "25%         119900.000000  \n",
       "50%         180400.000000  \n",
       "75%         265125.000000  \n",
       "max         500001.000000  "
      ]
     },
     "execution_count": 16,
     "metadata": {},
     "output_type": "execute_result"
    }
   ],
   "source": [
    "trainset.describe()"
   ]
  },
  {
   "cell_type": "markdown",
   "metadata": {},
   "source": [
    "Another way to inspect the distribution of the variables is to plot histograms. One can plot a histogram for all numerical variables by calling the `hist()` method on the dataframe:"
   ]
  },
  {
   "cell_type": "code",
   "execution_count": 17,
   "metadata": {
    "ExecuteTime": {
     "end_time": "2022-03-13T12:36:58.983370Z",
     "start_time": "2022-03-13T12:36:56.568937Z"
    }
   },
   "outputs": [
    {
     "data": {
      "image/png": "[encoded data removed]",
      "text/plain": [
       "<Figure size 1152x864 with 9 Axes>"
      ]
     },
     "metadata": {},
     "output_type": "display_data"
    }
   ],
   "source": [
    "dummy = trainset.hist(bins=50, figsize=(16,12))"
   ]
  },
  {
   "cell_type": "markdown",
   "metadata": {},
   "source": [
    "Things that can be noted:\n",
    "\n",
    "* The median house age and median house value have a lot of observations at the right of the histogram. This suggests the data was **capped**. We can confirm this printing sorted values in the column:"
   ]
  },
  {
   "cell_type": "code",
   "execution_count": 18,
   "metadata": {
    "ExecuteTime": {
     "end_time": "2022-03-13T12:36:58.999288Z",
     "start_time": "2022-03-13T12:36:58.985321Z"
    }
   },
   "outputs": [
    {
     "data": {
      "text/plain": [
       "15702    500001.0\n",
       "5247     500001.0\n",
       "18339    500001.0\n",
       "18052    500001.0\n",
       "10679    500001.0\n",
       "           ...   \n",
       "13889     22500.0\n",
       "5887      17500.0\n",
       "19802     14999.0\n",
       "2521      14999.0\n",
       "2799      14999.0\n",
       "Name: median_house_value, Length: 16512, dtype: float64"
      ]
     },
     "execution_count": 18,
     "metadata": {},
     "output_type": "execute_result"
    }
   ],
   "source": [
    "trainset[\"median_house_value\"].sort_values(ascending=False)"
   ]
  },
  {
   "cell_type": "markdown",
   "metadata": {},
   "source": [
    "It appears all values greater than 500,000 were replaced with 500,001. Since house value is our target variable, we can either (1) collect uncapped data or (2) remove the capped data from the dataset at the data cleaning stage.\n",
    "    \n",
    "* All variables have very different scales (e.g., median income ranges between 0 and 15, while median house value between 0 and 500,000). This may be a problem for some algorithms and the variables may need to be scaled to be within the same range.\n",
    "    \n",
    "* Most of the variables do not seem to be normally distributed, and are right-tail heavy. One way to deal with some values being too far distributed to the right of the mean is to take their logarithms."
   ]
  },
  {
   "cell_type": "markdown",
   "metadata": {},
   "source": [
    "## Visualizing geographical data\n",
    "\n",
    "We have the lattitude and longitude data, so we can use a scatterplot to visualize the geographical data (the alpha argument controlls the degree of transparency so it's easier to see high-density points):"
   ]
  },
  {
   "cell_type": "code",
   "execution_count": 19,
   "metadata": {
    "ExecuteTime": {
     "end_time": "2022-03-13T12:36:59.227411Z",
     "start_time": "2022-03-13T12:36:59.003962Z"
    }
   },
   "outputs": [
    {
     "name": "stderr",
     "output_type": "stream",
     "text": [
      "WARNING:matplotlib.axes._axes:*c* argument looks like a single numeric RGB or RGBA sequence, which should be avoided as value-mapping will have precedence in case its length matches with *x* & *y*.  Please use the *color* keyword-argument or provide a 2D array with a single row if you intend to specify the same RGB or RGBA value for all points.\n"
     ]
    },
    {
     "data": {
      "text/plain": [
       "<AxesSubplot:xlabel='longitude', ylabel='latitude'>"
      ]
     },
     "execution_count": 19,
     "metadata": {},
     "output_type": "execute_result"
    },
    {
     "data": {
      "image/png": "[encoded data removed]",
      "text/plain": [
       "<Figure size 432x288 with 1 Axes>"
      ]
     },
     "metadata": {},
     "output_type": "display_data"
    }
   ],
   "source": [
    "trainset.plot(kind=\"scatter\", x=\"longitude\", y=\"latitude\", alpha=0.1)"
   ]
  },
  {
   "cell_type": "markdown",
   "metadata": {},
   "source": [
    "A lot of the population is on the coast (San Francisco and Los Angeles) as well as in the Central Valley inland.\n",
    "\n",
    "Now let's look at the housing prices on the map."
   ]
  },
  {
   "cell_type": "code",
   "execution_count": 20,
   "metadata": {
    "ExecuteTime": {
     "end_time": "2022-03-13T12:36:59.811933Z",
     "start_time": "2022-03-13T12:36:59.229405Z"
    }
   },
   "outputs": [
    {
     "data": {
      "text/plain": [
       "<AxesSubplot:xlabel='longitude', ylabel='latitude'>"
      ]
     },
     "execution_count": 20,
     "metadata": {},
     "output_type": "execute_result"
    },
    {
     "data": {
      "image/png": "[encoded data removed]",
      "text/plain": [
       "<Figure size 432x288 with 2 Axes>"
      ]
     },
     "metadata": {},
     "output_type": "display_data"
    }
   ],
   "source": [
    "trainset.plot(kind=\"scatter\",\n",
    "            x=\"longitude\",\n",
    "            y=\"latitude\", \n",
    "            alpha=0.4,                    # transparency\n",
    "            s=trainset[\"population\"]/100, # radius of each dot: population in the district\n",
    "            label=\"population\",\n",
    "            c=\"median_house_value\",       # colour of the dot: house value\n",
    "            cmap=plt.get_cmap(\"jet\"),    # colour map to use\n",
    "            colorbar=True,                # show the color map\n",
    ")"
   ]
  },
  {
   "cell_type": "markdown",
   "metadata": {},
   "source": [
    "The plot suggests the most expensive housing is on the coast, except the Northern part of the state. The prices inland are noticeably lower. This suggests that the attribute \"ocean_proximity\" can indeed be useful for predicting house prices.\n",
    "\n",
    "Another way to capture these observations in a predictor variable would be to cluster the points by geographical proximity and use the cluster id as a nominal predictor.\n",
    "\n",
    "## Variable correlations\n",
    "\n",
    "We can find out which variables have a correlation with our target variable. The `corr()` method of the Pandas dataframe measures Pearson's $r$ correlation in all pairs of numerical variables. The method returns a dataframe with measures. We can retrieve the correlations with \"median_house_value\" by checking the corresponding column:"
   ]
  },
  {
   "cell_type": "code",
   "execution_count": 21,
   "metadata": {
    "ExecuteTime": {
     "end_time": "2022-03-13T12:36:59.837902Z",
     "start_time": "2022-03-13T12:36:59.814145Z"
    }
   },
   "outputs": [
    {
     "data": {
      "text/plain": [
       "median_house_value    1.000000\n",
       "median_income         0.686289\n",
       "total_rooms           0.135723\n",
       "housing_median_age    0.109030\n",
       "households            0.066404\n",
       "total_bedrooms        0.050819\n",
       "population           -0.024405\n",
       "longitude            -0.045513\n",
       "latitude             -0.145896\n",
       "Name: median_house_value, dtype: float64"
      ]
     },
     "execution_count": 21,
     "metadata": {},
     "output_type": "execute_result"
    }
   ],
   "source": [
    "corr_matrix = trainset.corr()\n",
    "corr_matrix['median_house_value'].sort_values(ascending=False)"
   ]
  },
  {
   "cell_type": "markdown",
   "metadata": {},
   "source": [
    "The variable with by far the strongest correlation is \"median_income\". Other variables that may have some effect on house price are the latitude (negatively correlated, the further up north, the lower the price tends to be), the total number of rooms and the house age.\n",
    "\n",
    "Based on the correlation coefficient values we could further select the most informative variables, deleting say the bottom 50% of variables sorted by the absolute value of the coefficent.\n",
    "\n",
    "Note though that Pearson's coefficient measures linear correlation, and will miss any non-linear relationships that may exist between variables.\n",
    "\n",
    "Another way to check correlations between variables is to use a **scatter matrix**, which will help to spot any non-linear relationships:"
   ]
  },
  {
   "cell_type": "code",
   "execution_count": 22,
   "metadata": {
    "ExecuteTime": {
     "end_time": "2022-03-13T12:37:02.302853Z",
     "start_time": "2022-03-13T12:36:59.841280Z"
    }
   },
   "outputs": [
    {
     "data": {
      "image/png": "[encoded data removed]",
      "text/plain": [
       "<Figure size 864x576 with 16 Axes>"
      ]
     },
     "metadata": {},
     "output_type": "display_data"
    }
   ],
   "source": [
    "from pandas.plotting import scatter_matrix\n",
    "\n",
    "# select only the variables that are most likely to be correlated\n",
    "attributes = [\"median_house_value\", \"median_income\", \"total_rooms\", \"housing_median_age\"]\n",
    "dummy = scatter_matrix(trainset[attributes], figsize=(12, 8))"
   ]
  },
  {
   "cell_type": "markdown",
   "metadata": {},
   "source": [
    "The median_income variable appears to have the strongest correlation with the house value. Note also that the variable has been capped at 500,001 (which can be seen from the plot), so an extra cleaning step may be to delete all rows where median income is equal to or greater 500,001."
   ]
  },
  {
   "cell_type": "markdown",
   "metadata": {},
   "source": [
    "# Step 4. Data cleaning and transformation\n",
    "\n",
    "## Feature engineering\n",
    "\n",
    "There are a few variables that do not seem to be useful on their own: the total number of rooms, the total number of households, and the population in a district do not seem to be relevant to the price of a house. What might matter is how many rooms per household there are (the more rooms per property, the more expensive the property is likely to be), and how many people live in each property (the more people in a property on average, the less expensive it is likely to be). So we can create two additional variables:"
   ]
  },
  {
   "cell_type": "code",
   "execution_count": 23,
   "metadata": {
    "ExecuteTime": {
     "end_time": "2022-03-13T12:37:02.318987Z",
     "start_time": "2022-03-13T12:37:02.306149Z"
    }
   },
   "outputs": [],
   "source": [
    "trainset[\"rooms_per_household\"] = trainset[\"total_rooms\"]/trainset[\"households\"]\n",
    "trainset[\"population_per_household\"] = trainset[\"population\"]/trainset[\"households\"]"
   ]
  },
  {
   "cell_type": "markdown",
   "metadata": {},
   "source": [
    "Let's check the correlation with the target variable again:"
   ]
  },
  {
   "cell_type": "code",
   "execution_count": 24,
   "metadata": {
    "ExecuteTime": {
     "end_time": "2022-03-13T12:37:02.362502Z",
     "start_time": "2022-03-13T12:37:02.320961Z"
    }
   },
   "outputs": [
    {
     "data": {
      "text/plain": [
       "median_house_value          1.000000\n",
       "median_income               0.686289\n",
       "rooms_per_household         0.147401\n",
       "total_rooms                 0.135723\n",
       "housing_median_age          0.109030\n",
       "households                  0.066404\n",
       "total_bedrooms              0.050819\n",
       "population_per_household   -0.021876\n",
       "population                 -0.024405\n",
       "longitude                  -0.045513\n",
       "latitude                   -0.145896\n",
       "Name: median_house_value, dtype: float64"
      ]
     },
     "execution_count": 24,
     "metadata": {},
     "output_type": "execute_result"
    }
   ],
   "source": [
    "corr_matrix = trainset.corr()\n",
    "corr_matrix['median_house_value'].sort_values(ascending=False)"
   ]
  },
  {
   "cell_type": "markdown",
   "metadata": {},
   "source": [
    "It seems \"rooms_per_household\" is in fact one of the most strongly correlated variables!\n",
    "\n",
    "Create the same two extra columns also in the **test set**:"
   ]
  },
  {
   "cell_type": "code",
   "execution_count": 25,
   "metadata": {
    "ExecuteTime": {
     "end_time": "2022-03-13T12:37:02.379049Z",
     "start_time": "2022-03-13T12:37:02.364496Z"
    }
   },
   "outputs": [],
   "source": [
    "testset[\"rooms_per_household\"] = testset[\"total_rooms\"]/testset[\"households\"]\n",
    "testset[\"population_per_household\"] = testset[\"population\"]/testset[\"households\"]"
   ]
  },
  {
   "cell_type": "markdown",
   "metadata": {},
   "source": [
    "## Missing values\n",
    "\n",
    "As noted before, \"total_bedrooms\" has 156 missing values. "
   ]
  },
  {
   "cell_type": "code",
   "execution_count": 26,
   "metadata": {
    "ExecuteTime": {
     "end_time": "2022-03-13T12:37:02.394272Z",
     "start_time": "2022-03-13T12:37:02.381044Z"
    }
   },
   "outputs": [
    {
     "data": {
      "text/plain": [
       "156"
      ]
     },
     "execution_count": 26,
     "metadata": {},
     "output_type": "execute_result"
    }
   ],
   "source": [
    "trainset['total_bedrooms'].isnull().sum()"
   ]
  },
  {
   "cell_type": "markdown",
   "metadata": {},
   "source": [
    "Before the data can be used for training and testing, we can either (1) delete the corresponding rows, (2) delete the entire column, or (3) impute missing values (i.e., replace them with the mean, median, zero, etc).\n",
    "\n",
    "There are not many missing values, so it makes sense not to delete the whole column and impute them instead, using, say, the median value in the column."
   ]
  },
  {
   "cell_type": "code",
   "execution_count": 27,
   "metadata": {
    "ExecuteTime": {
     "end_time": "2022-03-13T12:37:02.418440Z",
     "start_time": "2022-03-13T12:37:02.396268Z"
    }
   },
   "outputs": [],
   "source": [
    "from sklearn.impute import SimpleImputer\n",
    "\n",
    "imputer = SimpleImputer(strategy=\"median\")\n",
    "\n",
    "# we create a temporary dataframe with only numerical columns, \n",
    "# but keep the categorical columns in a separate variable\n",
    "trainset_categorical = trainset[\"ocean_proximity\"].values\n",
    "trainset_numerical = trainset.drop(\"ocean_proximity\", axis=1)"
   ]
  },
  {
   "cell_type": "markdown",
   "metadata": {},
   "source": [
    "We first need to \"fit\" the imputer on the **training data**. When `fit()` is called, imputer finds the median for all the columns and stores them as internal attributes:"
   ]
  },
  {
   "cell_type": "code",
   "execution_count": 28,
   "metadata": {
    "ExecuteTime": {
     "end_time": "2022-03-13T12:37:02.804043Z",
     "start_time": "2022-03-13T12:37:02.428772Z"
    }
   },
   "outputs": [
    {
     "data": {
      "text/plain": [
       "SimpleImputer(strategy='median')"
      ]
     },
     "execution_count": 28,
     "metadata": {},
     "output_type": "execute_result"
    }
   ],
   "source": [
    "imputer.fit(trainset_numerical)"
   ]
  },
  {
   "cell_type": "markdown",
   "metadata": {},
   "source": [
    "Then we can do the replacements. When `transform()` is called, imputer replaces missing values with the median:"
   ]
  },
  {
   "cell_type": "code",
   "execution_count": 29,
   "metadata": {
    "ExecuteTime": {
     "end_time": "2022-03-13T12:37:02.827068Z",
     "start_time": "2022-03-13T12:37:02.807254Z"
    }
   },
   "outputs": [],
   "source": [
    "transformed = imputer.transform(trainset_numerical)"
   ]
  },
  {
   "cell_type": "markdown",
   "metadata": {},
   "source": [
    "Note the last two steps could have been achieved by just calling `fit_transform()`.\n",
    "\n",
    "The replaced values are a NumPy array. It needs to be put back into the dataframe, this can be done like this:"
   ]
  },
  {
   "cell_type": "code",
   "execution_count": 30,
   "metadata": {
    "ExecuteTime": {
     "end_time": "2022-03-13T12:37:02.853901Z",
     "start_time": "2022-03-13T12:37:02.830481Z"
    }
   },
   "outputs": [
    {
     "data": {
      "text/plain": [
       "longitude                   0\n",
       "latitude                    0\n",
       "housing_median_age          0\n",
       "total_rooms                 0\n",
       "total_bedrooms              0\n",
       "population                  0\n",
       "households                  0\n",
       "median_income               0\n",
       "median_house_value          0\n",
       "rooms_per_household         0\n",
       "population_per_household    0\n",
       "ocean_proximity             0\n",
       "dtype: int64"
      ]
     },
     "execution_count": 30,
     "metadata": {},
     "output_type": "execute_result"
    }
   ],
   "source": [
    "trainset = pd.DataFrame(transformed, columns=trainset_numerical.columns)\n",
    "\n",
    "# add the categorical variable back\n",
    "trainset['ocean_proximity'] = trainset_categorical\n",
    "\n",
    "# check if there are missing values again\n",
    "trainset.isnull().sum()"
   ]
  },
  {
   "cell_type": "markdown",
   "metadata": {},
   "source": [
    "To impute missing values also in the **test set**, we need to use the imputer fitted on the training data. So we only call the transform (but not `fit()` and not `fit_transform()`):"
   ]
  },
  {
   "cell_type": "code",
   "execution_count": 31,
   "metadata": {
    "ExecuteTime": {
     "end_time": "2022-03-13T12:37:02.893175Z",
     "start_time": "2022-03-13T12:37:02.855913Z"
    }
   },
   "outputs": [
    {
     "data": {
      "text/plain": [
       "longitude                   0\n",
       "latitude                    0\n",
       "housing_median_age          0\n",
       "total_rooms                 0\n",
       "total_bedrooms              0\n",
       "population                  0\n",
       "households                  0\n",
       "median_income               0\n",
       "median_house_value          0\n",
       "rooms_per_household         0\n",
       "population_per_household    0\n",
       "ocean_proximity             0\n",
       "dtype: int64"
      ]
     },
     "execution_count": 31,
     "metadata": {},
     "output_type": "execute_result"
    }
   ],
   "source": [
    "testset_categorical = testset[\"ocean_proximity\"].values\n",
    "testset_numerical = testset.drop(\"ocean_proximity\", axis=1)\n",
    "\n",
    "transformed = imputer.transform(testset_numerical)\n",
    "\n",
    "testset = pd.DataFrame(transformed, columns=testset_numerical.columns)\n",
    "\n",
    "# add the categorical variable back\n",
    "testset['ocean_proximity'] = testset_categorical\n",
    "\n",
    "# check if there are missing values again\n",
    "testset.isnull().sum()"
   ]
  },
  {
   "cell_type": "markdown",
   "metadata": {},
   "source": [
    "No missing values remain either in the train or test set."
   ]
  },
  {
   "cell_type": "markdown",
   "metadata": {},
   "source": [
    "## Create dummy variables\n",
    "\n",
    "The \"ocean_proximity\" variable is the only categorical variable. We can create dummy variables from it using `OneHotEncoder` from scikit-learn (it is more suitable than `get_dummies` from Pandas, as it creates dummies from training data and then applies the same transformations to test data):"
   ]
  },
  {
   "cell_type": "code",
   "execution_count": 32,
   "metadata": {
    "ExecuteTime": {
     "end_time": "2022-03-13T12:37:02.943048Z",
     "start_time": "2022-03-13T12:37:02.896164Z"
    }
   },
   "outputs": [
    {
     "data": {
      "text/html": [
       "<div>\n",
       "<style scoped>\n",
       "    .dataframe tbody tr th:only-of-type {\n",
       "        vertical-align: middle;\n",
       "    }\n",
       "\n",
       "    .dataframe tbody tr th {\n",
       "        vertical-align: top;\n",
       "    }\n",
       "\n",
       "    .dataframe thead th {\n",
       "        text-align: right;\n",
       "    }\n",
       "</style>\n",
       "<table border=\"1\" class=\"dataframe\">\n",
       "  <thead>\n",
       "    <tr style=\"text-align: right;\">\n",
       "      <th></th>\n",
       "      <th>longitude</th>\n",
       "      <th>latitude</th>\n",
       "      <th>housing_median_age</th>\n",
       "      <th>total_rooms</th>\n",
       "      <th>total_bedrooms</th>\n",
       "      <th>population</th>\n",
       "      <th>households</th>\n",
       "      <th>median_income</th>\n",
       "      <th>median_house_value</th>\n",
       "      <th>rooms_per_household</th>\n",
       "      <th>population_per_household</th>\n",
       "      <th>ocean_proximity</th>\n",
       "      <th>INLAND</th>\n",
       "      <th>ISLAND</th>\n",
       "      <th>NEAR BAY</th>\n",
       "      <th>NEAR OCEAN</th>\n",
       "    </tr>\n",
       "  </thead>\n",
       "  <tbody>\n",
       "    <tr>\n",
       "      <th>0</th>\n",
       "      <td>-118.21</td>\n",
       "      <td>33.82</td>\n",
       "      <td>34.0</td>\n",
       "      <td>1719.0</td>\n",
       "      <td>398.0</td>\n",
       "      <td>1444.0</td>\n",
       "      <td>372.0</td>\n",
       "      <td>2.8438</td>\n",
       "      <td>139300.0</td>\n",
       "      <td>4.620968</td>\n",
       "      <td>3.881720</td>\n",
       "      <td>NEAR OCEAN</td>\n",
       "      <td>0.0</td>\n",
       "      <td>0.0</td>\n",
       "      <td>0.0</td>\n",
       "      <td>1.0</td>\n",
       "    </tr>\n",
       "    <tr>\n",
       "      <th>1</th>\n",
       "      <td>-117.27</td>\n",
       "      <td>33.03</td>\n",
       "      <td>25.0</td>\n",
       "      <td>1787.0</td>\n",
       "      <td>311.0</td>\n",
       "      <td>1108.0</td>\n",
       "      <td>311.0</td>\n",
       "      <td>3.9826</td>\n",
       "      <td>215800.0</td>\n",
       "      <td>5.745981</td>\n",
       "      <td>3.562701</td>\n",
       "      <td>NEAR OCEAN</td>\n",
       "      <td>0.0</td>\n",
       "      <td>0.0</td>\n",
       "      <td>0.0</td>\n",
       "      <td>1.0</td>\n",
       "    </tr>\n",
       "    <tr>\n",
       "      <th>2</th>\n",
       "      <td>-122.08</td>\n",
       "      <td>37.68</td>\n",
       "      <td>26.0</td>\n",
       "      <td>1167.0</td>\n",
       "      <td>370.0</td>\n",
       "      <td>253.0</td>\n",
       "      <td>137.0</td>\n",
       "      <td>2.4196</td>\n",
       "      <td>275000.0</td>\n",
       "      <td>8.518248</td>\n",
       "      <td>1.846715</td>\n",
       "      <td>NEAR BAY</td>\n",
       "      <td>0.0</td>\n",
       "      <td>0.0</td>\n",
       "      <td>1.0</td>\n",
       "      <td>0.0</td>\n",
       "    </tr>\n",
       "    <tr>\n",
       "      <th>3</th>\n",
       "      <td>-121.45</td>\n",
       "      <td>38.70</td>\n",
       "      <td>24.0</td>\n",
       "      <td>2159.0</td>\n",
       "      <td>369.0</td>\n",
       "      <td>1141.0</td>\n",
       "      <td>355.0</td>\n",
       "      <td>3.9853</td>\n",
       "      <td>90400.0</td>\n",
       "      <td>6.081690</td>\n",
       "      <td>3.214085</td>\n",
       "      <td>INLAND</td>\n",
       "      <td>1.0</td>\n",
       "      <td>0.0</td>\n",
       "      <td>0.0</td>\n",
       "      <td>0.0</td>\n",
       "    </tr>\n",
       "    <tr>\n",
       "      <th>4</th>\n",
       "      <td>-122.10</td>\n",
       "      <td>37.39</td>\n",
       "      <td>35.0</td>\n",
       "      <td>2471.0</td>\n",
       "      <td>349.0</td>\n",
       "      <td>881.0</td>\n",
       "      <td>342.0</td>\n",
       "      <td>7.6229</td>\n",
       "      <td>500001.0</td>\n",
       "      <td>7.225146</td>\n",
       "      <td>2.576023</td>\n",
       "      <td>NEAR BAY</td>\n",
       "      <td>0.0</td>\n",
       "      <td>0.0</td>\n",
       "      <td>1.0</td>\n",
       "      <td>0.0</td>\n",
       "    </tr>\n",
       "  </tbody>\n",
       "</table>\n",
       "</div>"
      ],
      "text/plain": [
       "   longitude  latitude  housing_median_age  total_rooms  total_bedrooms  \\\n",
       "0    -118.21     33.82                34.0       1719.0           398.0   \n",
       "1    -117.27     33.03                25.0       1787.0           311.0   \n",
       "2    -122.08     37.68                26.0       1167.0           370.0   \n",
       "3    -121.45     38.70                24.0       2159.0           369.0   \n",
       "4    -122.10     37.39                35.0       2471.0           349.0   \n",
       "\n",
       "   population  households  median_income  median_house_value  \\\n",
       "0      1444.0       372.0         2.8438            139300.0   \n",
       "1      1108.0       311.0         3.9826            215800.0   \n",
       "2       253.0       137.0         2.4196            275000.0   \n",
       "3      1141.0       355.0         3.9853             90400.0   \n",
       "4       881.0       342.0         7.6229            500001.0   \n",
       "\n",
       "   rooms_per_household  population_per_household ocean_proximity  INLAND  \\\n",
       "0             4.620968                  3.881720      NEAR OCEAN     0.0   \n",
       "1             5.745981                  3.562701      NEAR OCEAN     0.0   \n",
       "2             8.518248                  1.846715        NEAR BAY     0.0   \n",
       "3             6.081690                  3.214085          INLAND     1.0   \n",
       "4             7.225146                  2.576023        NEAR BAY     0.0   \n",
       "\n",
       "   ISLAND  NEAR BAY  NEAR OCEAN  \n",
       "0     0.0       0.0         1.0  \n",
       "1     0.0       0.0         1.0  \n",
       "2     0.0       1.0         0.0  \n",
       "3     0.0       0.0         0.0  \n",
       "4     0.0       1.0         0.0  "
      ]
     },
     "execution_count": 32,
     "metadata": {},
     "output_type": "execute_result"
    }
   ],
   "source": [
    "from sklearn.preprocessing import OneHotEncoder\n",
    "\n",
    "one_hot_encoder = OneHotEncoder(drop=\"first\", sparse=False)\n",
    "\n",
    "# the input to the encoder must be a 2-d numpy array,\n",
    "# so we take the column, extract their values and reshape the array to be 2-d\n",
    "cat_vals = trainset['ocean_proximity'].values.reshape(-1,1)\n",
    "\n",
    "transformed = one_hot_encoder.fit_transform(cat_vals)\n",
    "\n",
    "# put the transformed data as columns in the dataframe\n",
    "col_names = one_hot_encoder.categories_[0].tolist()[1:]\n",
    "for i, col_name in enumerate(col_names):\n",
    "    trainset[col_name] = transformed[:,i]\n",
    "\n",
    "# check if the dummies are produced correctly\n",
    "trainset.head()"
   ]
  },
  {
   "cell_type": "code",
   "execution_count": 33,
   "metadata": {
    "ExecuteTime": {
     "end_time": "2022-03-13T12:37:02.958738Z",
     "start_time": "2022-03-13T12:37:02.945028Z"
    }
   },
   "outputs": [],
   "source": [
    "# delete the categorical column\n",
    "del trainset['ocean_proximity']"
   ]
  },
  {
   "cell_type": "markdown",
   "metadata": {},
   "source": [
    "Create dummies in the **test set** using the fitted encoder. As before, we call `transform()`, but not `fit()` or `fit_transform()`:"
   ]
  },
  {
   "cell_type": "code",
   "execution_count": 34,
   "metadata": {
    "ExecuteTime": {
     "end_time": "2022-03-13T12:37:02.998005Z",
     "start_time": "2022-03-13T12:37:02.960696Z"
    }
   },
   "outputs": [
    {
     "data": {
      "text/html": [
       "<div>\n",
       "<style scoped>\n",
       "    .dataframe tbody tr th:only-of-type {\n",
       "        vertical-align: middle;\n",
       "    }\n",
       "\n",
       "    .dataframe tbody tr th {\n",
       "        vertical-align: top;\n",
       "    }\n",
       "\n",
       "    .dataframe thead th {\n",
       "        text-align: right;\n",
       "    }\n",
       "</style>\n",
       "<table border=\"1\" class=\"dataframe\">\n",
       "  <thead>\n",
       "    <tr style=\"text-align: right;\">\n",
       "      <th></th>\n",
       "      <th>longitude</th>\n",
       "      <th>latitude</th>\n",
       "      <th>housing_median_age</th>\n",
       "      <th>total_rooms</th>\n",
       "      <th>total_bedrooms</th>\n",
       "      <th>population</th>\n",
       "      <th>households</th>\n",
       "      <th>median_income</th>\n",
       "      <th>median_house_value</th>\n",
       "      <th>rooms_per_household</th>\n",
       "      <th>population_per_household</th>\n",
       "      <th>ocean_proximity</th>\n",
       "      <th>INLAND</th>\n",
       "      <th>ISLAND</th>\n",
       "      <th>NEAR BAY</th>\n",
       "      <th>NEAR OCEAN</th>\n",
       "    </tr>\n",
       "  </thead>\n",
       "  <tbody>\n",
       "    <tr>\n",
       "      <th>0</th>\n",
       "      <td>-122.22</td>\n",
       "      <td>40.18</td>\n",
       "      <td>13.0</td>\n",
       "      <td>3719.0</td>\n",
       "      <td>803.0</td>\n",
       "      <td>1754.0</td>\n",
       "      <td>764.0</td>\n",
       "      <td>2.3517</td>\n",
       "      <td>88900.0</td>\n",
       "      <td>4.867801</td>\n",
       "      <td>2.295812</td>\n",
       "      <td>INLAND</td>\n",
       "      <td>1.0</td>\n",
       "      <td>0.0</td>\n",
       "      <td>0.0</td>\n",
       "      <td>0.0</td>\n",
       "    </tr>\n",
       "    <tr>\n",
       "      <th>1</th>\n",
       "      <td>-121.81</td>\n",
       "      <td>37.29</td>\n",
       "      <td>15.0</td>\n",
       "      <td>5957.0</td>\n",
       "      <td>1037.0</td>\n",
       "      <td>3838.0</td>\n",
       "      <td>997.0</td>\n",
       "      <td>6.2907</td>\n",
       "      <td>253100.0</td>\n",
       "      <td>5.974925</td>\n",
       "      <td>3.849549</td>\n",
       "      <td>&lt;1H OCEAN</td>\n",
       "      <td>0.0</td>\n",
       "      <td>0.0</td>\n",
       "      <td>0.0</td>\n",
       "      <td>0.0</td>\n",
       "    </tr>\n",
       "    <tr>\n",
       "      <th>2</th>\n",
       "      <td>-122.26</td>\n",
       "      <td>38.02</td>\n",
       "      <td>5.0</td>\n",
       "      <td>3846.0</td>\n",
       "      <td>786.0</td>\n",
       "      <td>2053.0</td>\n",
       "      <td>716.0</td>\n",
       "      <td>5.0473</td>\n",
       "      <td>184800.0</td>\n",
       "      <td>5.371508</td>\n",
       "      <td>2.867318</td>\n",
       "      <td>NEAR BAY</td>\n",
       "      <td>0.0</td>\n",
       "      <td>0.0</td>\n",
       "      <td>1.0</td>\n",
       "      <td>0.0</td>\n",
       "    </tr>\n",
       "    <tr>\n",
       "      <th>3</th>\n",
       "      <td>-118.34</td>\n",
       "      <td>33.98</td>\n",
       "      <td>47.0</td>\n",
       "      <td>2649.0</td>\n",
       "      <td>684.0</td>\n",
       "      <td>2374.0</td>\n",
       "      <td>607.0</td>\n",
       "      <td>2.3882</td>\n",
       "      <td>137700.0</td>\n",
       "      <td>4.364086</td>\n",
       "      <td>3.911038</td>\n",
       "      <td>&lt;1H OCEAN</td>\n",
       "      <td>0.0</td>\n",
       "      <td>0.0</td>\n",
       "      <td>0.0</td>\n",
       "      <td>0.0</td>\n",
       "    </tr>\n",
       "    <tr>\n",
       "      <th>4</th>\n",
       "      <td>-119.67</td>\n",
       "      <td>34.42</td>\n",
       "      <td>37.0</td>\n",
       "      <td>1673.0</td>\n",
       "      <td>444.0</td>\n",
       "      <td>1477.0</td>\n",
       "      <td>446.0</td>\n",
       "      <td>2.0643</td>\n",
       "      <td>246700.0</td>\n",
       "      <td>3.751121</td>\n",
       "      <td>3.311659</td>\n",
       "      <td>&lt;1H OCEAN</td>\n",
       "      <td>0.0</td>\n",
       "      <td>0.0</td>\n",
       "      <td>0.0</td>\n",
       "      <td>0.0</td>\n",
       "    </tr>\n",
       "  </tbody>\n",
       "</table>\n",
       "</div>"
      ],
      "text/plain": [
       "   longitude  latitude  housing_median_age  total_rooms  total_bedrooms  \\\n",
       "0    -122.22     40.18                13.0       3719.0           803.0   \n",
       "1    -121.81     37.29                15.0       5957.0          1037.0   \n",
       "2    -122.26     38.02                 5.0       3846.0           786.0   \n",
       "3    -118.34     33.98                47.0       2649.0           684.0   \n",
       "4    -119.67     34.42                37.0       1673.0           444.0   \n",
       "\n",
       "   population  households  median_income  median_house_value  \\\n",
       "0      1754.0       764.0         2.3517             88900.0   \n",
       "1      3838.0       997.0         6.2907            253100.0   \n",
       "2      2053.0       716.0         5.0473            184800.0   \n",
       "3      2374.0       607.0         2.3882            137700.0   \n",
       "4      1477.0       446.0         2.0643            246700.0   \n",
       "\n",
       "   rooms_per_household  population_per_household ocean_proximity  INLAND  \\\n",
       "0             4.867801                  2.295812          INLAND     1.0   \n",
       "1             5.974925                  3.849549       <1H OCEAN     0.0   \n",
       "2             5.371508                  2.867318        NEAR BAY     0.0   \n",
       "3             4.364086                  3.911038       <1H OCEAN     0.0   \n",
       "4             3.751121                  3.311659       <1H OCEAN     0.0   \n",
       "\n",
       "   ISLAND  NEAR BAY  NEAR OCEAN  \n",
       "0     0.0       0.0         0.0  \n",
       "1     0.0       0.0         0.0  \n",
       "2     0.0       1.0         0.0  \n",
       "3     0.0       0.0         0.0  \n",
       "4     0.0       0.0         0.0  "
      ]
     },
     "execution_count": 34,
     "metadata": {},
     "output_type": "execute_result"
    }
   ],
   "source": [
    "cat_vals = testset['ocean_proximity'].values.reshape(-1,1)\n",
    "transformed = one_hot_encoder.transform(cat_vals)\n",
    "\n",
    "for i, col_name in enumerate(col_names):\n",
    "    testset[col_name] = transformed[:,i]\n",
    "\n",
    "# check if the dummies are produced correctly\n",
    "testset.head()"
   ]
  },
  {
   "cell_type": "code",
   "execution_count": 35,
   "metadata": {
    "ExecuteTime": {
     "end_time": "2022-03-13T12:37:03.008152Z",
     "start_time": "2022-03-13T12:37:03.000515Z"
    }
   },
   "outputs": [],
   "source": [
    "# delete the categorical column\n",
    "del testset['ocean_proximity']"
   ]
  },
  {
   "cell_type": "markdown",
   "metadata": {},
   "source": [
    "## Delete capped values\n",
    "\n",
    "Let's delete rows where the value in the \"median_house_value\" has been replaced with 500,001."
   ]
  },
  {
   "cell_type": "code",
   "execution_count": 36,
   "metadata": {
    "ExecuteTime": {
     "end_time": "2022-03-13T12:37:03.038534Z",
     "start_time": "2022-03-13T12:37:03.010784Z"
    }
   },
   "outputs": [
    {
     "name": "stdout",
     "output_type": "stream",
     "text": [
      "Before: 16512 train instances, 4128 test instances\n",
      "After: 15735 train instances, 3940 test instances\n"
     ]
    }
   ],
   "source": [
    "def delete_capped(df, col_name, capped_val):\n",
    "    return df.drop(df[df[col_name] >= capped_val].index)\n",
    "    \n",
    "print(f\"Before: {trainset.shape[0]} train instances, {testset.shape[0]} test instances\")\n",
    "\n",
    "trainset = delete_capped(trainset, \"median_house_value\", 500001)\n",
    "testset = delete_capped(testset, \"median_house_value\", 500001)\n",
    "\n",
    "print(f\"After: {trainset.shape[0]} train instances, {testset.shape[0]} test instances\")"
   ]
  },
  {
   "cell_type": "markdown",
   "metadata": {},
   "source": [
    "## Feature scaling\n",
    "\n",
    "With few exceptions, Machine Learning algorithms don’t perform well when the input numerical attributes have very different scales. This is the case for the housing data: the total number of rooms ranges from about 6 to 39,320, while the median incomes only range from 0 to 15. Note that scaling the target values is generally not required, and it's best to keep their original values so it is easier to interpret them.\n",
    "\n",
    "There are two common ways to get all variables to have the same scale: **min-max scaling** and\n",
    "**standardization**.\n",
    "\n",
    "**Min-max scaling** (many people call this normalization) is quite simple: values are shifted and rescaled so that they end up ranging from 0 to 1. We do this by subtracting the min value and dividing by the max minus the min. Scikit-Learn provides a transformer called `MinMaxScaler` for this.\n",
    "\n",
    "**Standardization** is quite different: first it subtracts the mean value (so standardized values always have _a zero mean_ ), and then it divides by the variance so that the resulting distribution has _unit variance_.\n",
    "\n",
    "Some algorithms (e.g., neural networks) require variables to be scaled to the 0-1 range. However, standardization is much less affected by outliers. Scikit-Learn provides a transformer called `StandardScaler` for standardization. We'll use it in this project.\n",
    "\n",
    ">**Note**: As with all the transformations, it is important to fit the scalers to the training data only, not to the full dataset (which would include the test set). Only then can you use them to transform the training set and the test set."
   ]
  },
  {
   "cell_type": "code",
   "execution_count": 37,
   "metadata": {
    "ExecuteTime": {
     "end_time": "2022-03-13T12:37:03.090063Z",
     "start_time": "2022-03-13T12:37:03.041537Z"
    }
   },
   "outputs": [
    {
     "data": {
      "text/html": [
       "<div>\n",
       "<style scoped>\n",
       "    .dataframe tbody tr th:only-of-type {\n",
       "        vertical-align: middle;\n",
       "    }\n",
       "\n",
       "    .dataframe tbody tr th {\n",
       "        vertical-align: top;\n",
       "    }\n",
       "\n",
       "    .dataframe thead th {\n",
       "        text-align: right;\n",
       "    }\n",
       "</style>\n",
       "<table border=\"1\" class=\"dataframe\">\n",
       "  <thead>\n",
       "    <tr style=\"text-align: right;\">\n",
       "      <th></th>\n",
       "      <th>longitude</th>\n",
       "      <th>latitude</th>\n",
       "      <th>housing_median_age</th>\n",
       "      <th>total_rooms</th>\n",
       "      <th>total_bedrooms</th>\n",
       "      <th>population</th>\n",
       "      <th>households</th>\n",
       "      <th>median_income</th>\n",
       "      <th>rooms_per_household</th>\n",
       "      <th>population_per_household</th>\n",
       "      <th>INLAND</th>\n",
       "      <th>ISLAND</th>\n",
       "      <th>NEAR BAY</th>\n",
       "      <th>NEAR OCEAN</th>\n",
       "      <th>median_house_value</th>\n",
       "    </tr>\n",
       "  </thead>\n",
       "  <tbody>\n",
       "    <tr>\n",
       "      <th>0</th>\n",
       "      <td>0.677040</td>\n",
       "      <td>-0.855558</td>\n",
       "      <td>0.445990</td>\n",
       "      <td>-0.415227</td>\n",
       "      <td>-0.335389</td>\n",
       "      <td>0.009348</td>\n",
       "      <td>-0.338056</td>\n",
       "      <td>-0.528521</td>\n",
       "      <td>-0.313152</td>\n",
       "      <td>0.063549</td>\n",
       "      <td>-0.707309</td>\n",
       "      <td>-0.017829</td>\n",
       "      <td>-0.343423</td>\n",
       "      <td>2.665046</td>\n",
       "      <td>139300.0</td>\n",
       "    </tr>\n",
       "    <tr>\n",
       "      <th>1</th>\n",
       "      <td>1.146465</td>\n",
       "      <td>-1.223491</td>\n",
       "      <td>-0.275199</td>\n",
       "      <td>-0.383516</td>\n",
       "      <td>-0.546026</td>\n",
       "      <td>-0.298400</td>\n",
       "      <td>-0.500095</td>\n",
       "      <td>0.197649</td>\n",
       "      <td>0.160504</td>\n",
       "      <td>0.036687</td>\n",
       "      <td>-0.707309</td>\n",
       "      <td>-0.017829</td>\n",
       "      <td>-0.343423</td>\n",
       "      <td>2.665046</td>\n",
       "      <td>215800.0</td>\n",
       "    </tr>\n",
       "    <tr>\n",
       "      <th>2</th>\n",
       "      <td>-1.255592</td>\n",
       "      <td>0.942189</td>\n",
       "      <td>-0.195067</td>\n",
       "      <td>-0.672641</td>\n",
       "      <td>-0.403180</td>\n",
       "      <td>-1.081510</td>\n",
       "      <td>-0.962306</td>\n",
       "      <td>-0.799017</td>\n",
       "      <td>1.327690</td>\n",
       "      <td>-0.107806</td>\n",
       "      <td>-0.707309</td>\n",
       "      <td>-0.017829</td>\n",
       "      <td>2.911858</td>\n",
       "      <td>-0.375228</td>\n",
       "      <td>275000.0</td>\n",
       "    </tr>\n",
       "    <tr>\n",
       "      <th>3</th>\n",
       "      <td>-0.940978</td>\n",
       "      <td>1.417241</td>\n",
       "      <td>-0.355331</td>\n",
       "      <td>-0.210042</td>\n",
       "      <td>-0.405601</td>\n",
       "      <td>-0.268175</td>\n",
       "      <td>-0.383214</td>\n",
       "      <td>0.199371</td>\n",
       "      <td>0.301845</td>\n",
       "      <td>0.007332</td>\n",
       "      <td>1.413809</td>\n",
       "      <td>-0.017829</td>\n",
       "      <td>-0.343423</td>\n",
       "      <td>-0.375228</td>\n",
       "      <td>90400.0</td>\n",
       "    </tr>\n",
       "    <tr>\n",
       "      <th>4</th>\n",
       "      <td>-1.165702</td>\n",
       "      <td>1.100540</td>\n",
       "      <td>-1.877841</td>\n",
       "      <td>-0.489373</td>\n",
       "      <td>-0.405601</td>\n",
       "      <td>-0.363430</td>\n",
       "      <td>-0.338056</td>\n",
       "      <td>-0.036500</td>\n",
       "      <td>-0.493105</td>\n",
       "      <td>-0.028577</td>\n",
       "      <td>1.413809</td>\n",
       "      <td>-0.017829</td>\n",
       "      <td>-0.343423</td>\n",
       "      <td>-0.375228</td>\n",
       "      <td>181800.0</td>\n",
       "    </tr>\n",
       "  </tbody>\n",
       "</table>\n",
       "</div>"
      ],
      "text/plain": [
       "   longitude  latitude  housing_median_age  total_rooms  total_bedrooms  \\\n",
       "0   0.677040 -0.855558            0.445990    -0.415227       -0.335389   \n",
       "1   1.146465 -1.223491           -0.275199    -0.383516       -0.546026   \n",
       "2  -1.255592  0.942189           -0.195067    -0.672641       -0.403180   \n",
       "3  -0.940978  1.417241           -0.355331    -0.210042       -0.405601   \n",
       "4  -1.165702  1.100540           -1.877841    -0.489373       -0.405601   \n",
       "\n",
       "   population  households  median_income  rooms_per_household  \\\n",
       "0    0.009348   -0.338056      -0.528521            -0.313152   \n",
       "1   -0.298400   -0.500095       0.197649             0.160504   \n",
       "2   -1.081510   -0.962306      -0.799017             1.327690   \n",
       "3   -0.268175   -0.383214       0.199371             0.301845   \n",
       "4   -0.363430   -0.338056      -0.036500            -0.493105   \n",
       "\n",
       "   population_per_household    INLAND    ISLAND  NEAR BAY  NEAR OCEAN  \\\n",
       "0                  0.063549 -0.707309 -0.017829 -0.343423    2.665046   \n",
       "1                  0.036687 -0.707309 -0.017829 -0.343423    2.665046   \n",
       "2                 -0.107806 -0.707309 -0.017829  2.911858   -0.375228   \n",
       "3                  0.007332  1.413809 -0.017829 -0.343423   -0.375228   \n",
       "4                 -0.028577  1.413809 -0.017829 -0.343423   -0.375228   \n",
       "\n",
       "   median_house_value  \n",
       "0            139300.0  \n",
       "1            215800.0  \n",
       "2            275000.0  \n",
       "3             90400.0  \n",
       "4            181800.0  "
      ]
     },
     "execution_count": 37,
     "metadata": {},
     "output_type": "execute_result"
    }
   ],
   "source": [
    "from sklearn.preprocessing import StandardScaler\n",
    "\n",
    "scaler = StandardScaler()\n",
    "\n",
    "trainset_target = trainset[\"median_house_value\"].values\n",
    "trainset_predictors = trainset.drop(\"median_house_value\", axis=1)\n",
    "\n",
    "# fit_transform returns a NumPy array, so we need to put it back \n",
    "# into a Pandas dataframe\n",
    "scaled_vals = scaler.fit_transform(trainset_predictors)\n",
    "trainset = pd.DataFrame(scaled_vals, columns=trainset_predictors.columns)\n",
    "\n",
    "# put the non-scaled target back in\n",
    "trainset['median_house_value'] = trainset_target\n",
    "\n",
    "# inspect the data\n",
    "trainset.head()"
   ]
  },
  {
   "cell_type": "markdown",
   "metadata": {},
   "source": [
    "Now use the fitted scaler to scale also the test data, again calling `transform()` on the fitted scaler:"
   ]
  },
  {
   "cell_type": "code",
   "execution_count": 38,
   "metadata": {
    "ExecuteTime": {
     "end_time": "2022-03-13T12:37:03.135867Z",
     "start_time": "2022-03-13T12:37:03.093143Z"
    }
   },
   "outputs": [
    {
     "data": {
      "text/html": [
       "<div>\n",
       "<style scoped>\n",
       "    .dataframe tbody tr th:only-of-type {\n",
       "        vertical-align: middle;\n",
       "    }\n",
       "\n",
       "    .dataframe tbody tr th {\n",
       "        vertical-align: top;\n",
       "    }\n",
       "\n",
       "    .dataframe thead th {\n",
       "        text-align: right;\n",
       "    }\n",
       "</style>\n",
       "<table border=\"1\" class=\"dataframe\">\n",
       "  <thead>\n",
       "    <tr style=\"text-align: right;\">\n",
       "      <th></th>\n",
       "      <th>longitude</th>\n",
       "      <th>latitude</th>\n",
       "      <th>housing_median_age</th>\n",
       "      <th>total_rooms</th>\n",
       "      <th>total_bedrooms</th>\n",
       "      <th>population</th>\n",
       "      <th>households</th>\n",
       "      <th>median_income</th>\n",
       "      <th>rooms_per_household</th>\n",
       "      <th>population_per_household</th>\n",
       "      <th>INLAND</th>\n",
       "      <th>ISLAND</th>\n",
       "      <th>NEAR BAY</th>\n",
       "      <th>NEAR OCEAN</th>\n",
       "      <th>median_house_value</th>\n",
       "    </tr>\n",
       "  </thead>\n",
       "  <tbody>\n",
       "    <tr>\n",
       "      <th>0</th>\n",
       "      <td>-1.325507</td>\n",
       "      <td>2.106533</td>\n",
       "      <td>-1.236784</td>\n",
       "      <td>0.517433</td>\n",
       "      <td>0.645163</td>\n",
       "      <td>0.293283</td>\n",
       "      <td>0.703246</td>\n",
       "      <td>-0.842314</td>\n",
       "      <td>-0.209230</td>\n",
       "      <td>-0.069990</td>\n",
       "      <td>1.413809</td>\n",
       "      <td>-0.017829</td>\n",
       "      <td>-0.343423</td>\n",
       "      <td>-0.375228</td>\n",
       "      <td>88900.0</td>\n",
       "    </tr>\n",
       "    <tr>\n",
       "      <th>1</th>\n",
       "      <td>-1.120758</td>\n",
       "      <td>0.760551</td>\n",
       "      <td>-1.076520</td>\n",
       "      <td>1.561078</td>\n",
       "      <td>1.211705</td>\n",
       "      <td>2.202055</td>\n",
       "      <td>1.322183</td>\n",
       "      <td>1.669438</td>\n",
       "      <td>0.256894</td>\n",
       "      <td>0.060840</td>\n",
       "      <td>-0.707309</td>\n",
       "      <td>-0.017829</td>\n",
       "      <td>-0.343423</td>\n",
       "      <td>-0.375228</td>\n",
       "      <td>253100.0</td>\n",
       "    </tr>\n",
       "    <tr>\n",
       "      <th>2</th>\n",
       "      <td>-1.345482</td>\n",
       "      <td>1.100540</td>\n",
       "      <td>-1.877841</td>\n",
       "      <td>0.576656</td>\n",
       "      <td>0.604004</td>\n",
       "      <td>0.567142</td>\n",
       "      <td>0.575740</td>\n",
       "      <td>0.876569</td>\n",
       "      <td>0.002842</td>\n",
       "      <td>-0.021867</td>\n",
       "      <td>-0.707309</td>\n",
       "      <td>-0.017829</td>\n",
       "      <td>2.911858</td>\n",
       "      <td>-0.375228</td>\n",
       "      <td>184800.0</td>\n",
       "    </tr>\n",
       "    <tr>\n",
       "      <th>3</th>\n",
       "      <td>0.612119</td>\n",
       "      <td>-0.781040</td>\n",
       "      <td>1.487707</td>\n",
       "      <td>0.018460</td>\n",
       "      <td>0.357051</td>\n",
       "      <td>0.861151</td>\n",
       "      <td>0.286194</td>\n",
       "      <td>-0.819040</td>\n",
       "      <td>-0.421305</td>\n",
       "      <td>0.066018</td>\n",
       "      <td>-0.707309</td>\n",
       "      <td>-0.017829</td>\n",
       "      <td>-0.343423</td>\n",
       "      <td>-0.375228</td>\n",
       "      <td>137700.0</td>\n",
       "    </tr>\n",
       "    <tr>\n",
       "      <th>4</th>\n",
       "      <td>-0.052067</td>\n",
       "      <td>-0.576115</td>\n",
       "      <td>0.686386</td>\n",
       "      <td>-0.436678</td>\n",
       "      <td>-0.224018</td>\n",
       "      <td>0.039573</td>\n",
       "      <td>-0.141483</td>\n",
       "      <td>-1.025579</td>\n",
       "      <td>-0.679377</td>\n",
       "      <td>0.015548</td>\n",
       "      <td>-0.707309</td>\n",
       "      <td>-0.017829</td>\n",
       "      <td>-0.343423</td>\n",
       "      <td>-0.375228</td>\n",
       "      <td>246700.0</td>\n",
       "    </tr>\n",
       "  </tbody>\n",
       "</table>\n",
       "</div>"
      ],
      "text/plain": [
       "   longitude  latitude  housing_median_age  total_rooms  total_bedrooms  \\\n",
       "0  -1.325507  2.106533           -1.236784     0.517433        0.645163   \n",
       "1  -1.120758  0.760551           -1.076520     1.561078        1.211705   \n",
       "2  -1.345482  1.100540           -1.877841     0.576656        0.604004   \n",
       "3   0.612119 -0.781040            1.487707     0.018460        0.357051   \n",
       "4  -0.052067 -0.576115            0.686386    -0.436678       -0.224018   \n",
       "\n",
       "   population  households  median_income  rooms_per_household  \\\n",
       "0    0.293283    0.703246      -0.842314            -0.209230   \n",
       "1    2.202055    1.322183       1.669438             0.256894   \n",
       "2    0.567142    0.575740       0.876569             0.002842   \n",
       "3    0.861151    0.286194      -0.819040            -0.421305   \n",
       "4    0.039573   -0.141483      -1.025579            -0.679377   \n",
       "\n",
       "   population_per_household    INLAND    ISLAND  NEAR BAY  NEAR OCEAN  \\\n",
       "0                 -0.069990  1.413809 -0.017829 -0.343423   -0.375228   \n",
       "1                  0.060840 -0.707309 -0.017829 -0.343423   -0.375228   \n",
       "2                 -0.021867 -0.707309 -0.017829  2.911858   -0.375228   \n",
       "3                  0.066018 -0.707309 -0.017829 -0.343423   -0.375228   \n",
       "4                  0.015548 -0.707309 -0.017829 -0.343423   -0.375228   \n",
       "\n",
       "   median_house_value  \n",
       "0             88900.0  \n",
       "1            253100.0  \n",
       "2            184800.0  \n",
       "3            137700.0  \n",
       "4            246700.0  "
      ]
     },
     "execution_count": 38,
     "metadata": {},
     "output_type": "execute_result"
    }
   ],
   "source": [
    "testset_target = testset[\"median_house_value\"].values\n",
    "testset_predictors = testset.drop(\"median_house_value\", axis=1)\n",
    "\n",
    "scaled_vals = scaler.transform(testset_predictors)\n",
    "testset = pd.DataFrame(scaled_vals, columns=testset_predictors.columns)\n",
    "\n",
    "# put the non-scaled target back in\n",
    "testset['median_house_value'] = testset_target\n",
    "\n",
    "testset.head()"
   ]
  },
  {
   "cell_type": "markdown",
   "metadata": {},
   "source": [
    "# Train models\n",
    "\n",
    "As discussed before, models are trained only on the training data.\n",
    "\n",
    "First, create separate arrays for the predictors (`Xtrain`) and for the target (`ytrain`):"
   ]
  },
  {
   "cell_type": "code",
   "execution_count": 39,
   "metadata": {
    "ExecuteTime": {
     "end_time": "2022-03-13T12:37:03.151332Z",
     "start_time": "2022-03-13T12:37:03.137862Z"
    }
   },
   "outputs": [],
   "source": [
    "# drop labels for training set, but keep all others\n",
    "Xtrain = trainset.drop(\"median_house_value\", axis=1)\n",
    "\n",
    "ytrain = trainset[\"median_house_value\"].copy()"
   ]
  },
  {
   "cell_type": "code",
   "execution_count": 40,
   "metadata": {
    "ExecuteTime": {
     "end_time": "2022-03-13T12:37:03.159835Z",
     "start_time": "2022-03-13T12:37:03.154324Z"
    }
   },
   "outputs": [
    {
     "name": "stdout",
     "output_type": "stream",
     "text": [
      "(15735, 14)\n",
      "(15735, 15)\n"
     ]
    }
   ],
   "source": [
    "print(Xtrain.shape)\n",
    "print(trainset.shape)"
   ]
  },
  {
   "cell_type": "markdown",
   "metadata": {},
   "source": [
    "# Baseline\n",
    "\n",
    "We'll use a simple baseline: for all test instances, predict the median value seen in the training data:"
   ]
  },
  {
   "cell_type": "code",
   "execution_count": 41,
   "metadata": {
    "ExecuteTime": {
     "end_time": "2022-03-13T12:37:03.175653Z",
     "start_time": "2022-03-13T12:37:03.161829Z"
    }
   },
   "outputs": [
    {
     "data": {
      "text/plain": [
       "174100.0"
      ]
     },
     "execution_count": 41,
     "metadata": {},
     "output_type": "execute_result"
    }
   ],
   "source": [
    "median_price = ytrain.median()\n",
    "median_price"
   ]
  },
  {
   "cell_type": "markdown",
   "metadata": {},
   "source": [
    "Let's measure it in terms of RMSE:"
   ]
  },
  {
   "cell_type": "code",
   "execution_count": 42,
   "metadata": {
    "ExecuteTime": {
     "end_time": "2022-03-13T12:37:03.191703Z",
     "start_time": "2022-03-13T12:37:03.177650Z"
    }
   },
   "outputs": [
    {
     "data": {
      "text/plain": [
       "99386.25261605746"
      ]
     },
     "execution_count": 42,
     "metadata": {},
     "output_type": "execute_result"
    }
   ],
   "source": [
    "from sklearn.metrics import mean_squared_error\n",
    "\n",
    "# yhat will have the same number of rows as ytrain, \n",
    "# each cell will be filled with the same value, median_price\n",
    "yhat = np.full((ytrain.shape[0], 1), median_price)\n",
    "\n",
    "baseline_mse = mean_squared_error(ytrain, yhat)\n",
    "\n",
    "# take square root\n",
    "baseline_rmse = np.sqrt(baseline_mse)\n",
    "\n",
    "baseline_rmse"
   ]
  },
  {
   "cell_type": "markdown",
   "metadata": {},
   "source": [
    "I.e., the baseline is off by $99,386.25 on average."
   ]
  },
  {
   "cell_type": "markdown",
   "metadata": {},
   "source": [
    "## Training and evaluating on training data\n",
    "\n",
    "### Linear regression\n",
    "\n",
    "Let's begin with linear regression:"
   ]
  },
  {
   "cell_type": "code",
   "execution_count": 43,
   "metadata": {
    "ExecuteTime": {
     "end_time": "2022-03-13T12:37:03.207393Z",
     "start_time": "2022-03-13T12:37:03.194694Z"
    }
   },
   "outputs": [
    {
     "data": {
      "text/plain": [
       "LinearRegression()"
      ]
     },
     "execution_count": 43,
     "metadata": {},
     "output_type": "execute_result"
    }
   ],
   "source": [
    "from sklearn.linear_model import LinearRegression\n",
    "\n",
    "lin_reg = LinearRegression()\n",
    "\n",
    "lin_reg.fit(Xtrain, ytrain)"
   ]
  },
  {
   "cell_type": "markdown",
   "metadata": {},
   "source": [
    "Look up the $R^2$ score for this model:"
   ]
  },
  {
   "cell_type": "code",
   "execution_count": 44,
   "metadata": {
    "ExecuteTime": {
     "end_time": "2022-03-13T12:37:03.223306Z",
     "start_time": "2022-03-13T12:37:03.210384Z"
    }
   },
   "outputs": [
    {
     "data": {
      "text/plain": [
       "0.6125415917493089"
      ]
     },
     "execution_count": 44,
     "metadata": {},
     "output_type": "execute_result"
    }
   ],
   "source": [
    "lin_reg.score(Xtrain, ytrain)"
   ]
  },
  {
   "cell_type": "markdown",
   "metadata": {},
   "source": [
    "Pretty good. Now let's find out the Root Mean Squared Error, on the **training set**:"
   ]
  },
  {
   "cell_type": "code",
   "execution_count": 45,
   "metadata": {
    "ExecuteTime": {
     "end_time": "2022-03-13T12:37:03.238616Z",
     "start_time": "2022-03-13T12:37:03.225300Z"
    }
   },
   "outputs": [
    {
     "data": {
      "text/plain": [
       "60774.07055524483"
      ]
     },
     "execution_count": 45,
     "metadata": {},
     "output_type": "execute_result"
    }
   ],
   "source": [
    "# make predictions\n",
    "yhat = lin_reg.predict(Xtrain)\n",
    "\n",
    "lin_mse = mean_squared_error(ytrain, yhat)\n",
    "\n",
    "# take square root\n",
    "lin_rmse = np.sqrt(lin_mse)\n",
    "\n",
    "lin_rmse"
   ]
  },
  {
   "cell_type": "markdown",
   "metadata": {},
   "source": [
    "I.e., the predictions are off by $60,774.07 on average. Better than the baseline, but obviously not very useful yet. A linear model assumes there is a linear relationship between variables, which is rarely the case, and such a model often **underfits**, unable to capture complex patterns in the data.\n",
    "\n",
    "We can also visualize the predictions and the true values. Because there are too many test instances, we'll show only the first 50."
   ]
  },
  {
   "cell_type": "code",
   "execution_count": 46,
   "metadata": {
    "ExecuteTime": {
     "end_time": "2022-03-13T12:37:04.236689Z",
     "start_time": "2022-03-13T12:37:03.240611Z"
    }
   },
   "outputs": [
    {
     "data": {
      "text/plain": [
       "<AxesSubplot:>"
      ]
     },
     "execution_count": 46,
     "metadata": {},
     "output_type": "execute_result"
    },
    {
     "data": {
      "image/png": "[encoded data removed]",
      "text/plain": [
       "<Figure size 864x360 with 1 Axes>"
      ]
     },
     "metadata": {},
     "output_type": "display_data"
    }
   ],
   "source": [
    "# create a temporary dataframe containing two columns\n",
    "df_tmp = pd.DataFrame({\"ytrain\": ytrain[:50], \"yhat\": yhat[:50]})\n",
    "\n",
    "# plot the dataframe\n",
    "df_tmp.plot(figsize=(12,5), kind=\"bar\", rot=0)"
   ]
  },
  {
   "cell_type": "markdown",
   "metadata": {},
   "source": [
    "### Decision Trees\n",
    "\n",
    "Now let's fit a Decision Trees regressor. This is a powerful algorithm, capable of finding complex\n",
    "nonlinear relationships in the data."
   ]
  },
  {
   "cell_type": "code",
   "execution_count": 47,
   "metadata": {
    "ExecuteTime": {
     "end_time": "2022-03-13T12:37:04.517878Z",
     "start_time": "2022-03-13T12:37:04.240156Z"
    }
   },
   "outputs": [
    {
     "data": {
      "text/plain": [
       "0.0"
      ]
     },
     "execution_count": 47,
     "metadata": {},
     "output_type": "execute_result"
    }
   ],
   "source": [
    "from sklearn.tree import DecisionTreeRegressor\n",
    "\n",
    "tree_reg = DecisionTreeRegressor()\n",
    "tree_reg.fit(Xtrain, ytrain)\n",
    "yhat = tree_reg.predict(Xtrain)\n",
    "tree_mse = mean_squared_error(ytrain, yhat)\n",
    "tree_rmse = np.sqrt(tree_mse)\n",
    "tree_rmse"
   ]
  },
  {
   "cell_type": "markdown",
   "metadata": {},
   "source": [
    "The model makes no errors! Let's visualize the predictions."
   ]
  },
  {
   "cell_type": "code",
   "execution_count": 48,
   "metadata": {
    "ExecuteTime": {
     "end_time": "2022-03-13T12:37:05.349798Z",
     "start_time": "2022-03-13T12:37:04.520967Z"
    }
   },
   "outputs": [
    {
     "data": {
      "text/plain": [
       "<AxesSubplot:>"
      ]
     },
     "execution_count": 48,
     "metadata": {},
     "output_type": "execute_result"
    },
    {
     "data": {
      "image/png": "[encoded data removed]",
      "text/plain": [
       "<Figure size 864x360 with 1 Axes>"
      ]
     },
     "metadata": {},
     "output_type": "display_data"
    }
   ],
   "source": [
    "# create a temporary dataframe containing two columns\n",
    "df_tmp = pd.DataFrame({\"ytrain\": ytrain[:50], \"yhat\": yhat[:50]})\n",
    "\n",
    "# plot the dataframe\n",
    "df_tmp.plot(figsize=(12,5), kind=\"bar\", rot=0)"
   ]
  },
  {
   "cell_type": "markdown",
   "metadata": {},
   "source": [
    "Indeed, the predictions are spot on! But, these are predictions on training data. Decision trees are powerful models, capable of capturing complex patterns in the data, but at the same time they will **overfit**, unless they are contrained in some way (e.g. a maximum tree depth is set). To confirm this, we would need to see how the model fares on the test data, but this needs to be postponed till after we have selected the most promising models for the eventual evaluation on the test set.\n",
    "\n",
    "Another possibility is to evaluate the model using **cross-validation**.\n",
    "\n",
    "## Cross-validation\n",
    "\n",
    "The idea behind cross-validation is the following: take the training set, split it into $k$ parts (e.g., $k$=10). Then train a model on the $k-1$ parts and evaluate the model on the $k$-th part. Repeat this $k$ times, each time recording the accuracy score. The final accuracy score is the mean of the accuracy scores of the $k$ models.\n",
    "\n",
    "In scikit-learn, this can be achieved as follows.\n",
    "\n",
    "### Decision trees"
   ]
  },
  {
   "cell_type": "code",
   "execution_count": 49,
   "metadata": {
    "ExecuteTime": {
     "end_time": "2022-03-13T12:37:07.558060Z",
     "start_time": "2022-03-13T12:37:05.351330Z"
    }
   },
   "outputs": [
    {
     "name": "stdout",
     "output_type": "stream",
     "text": [
      "Scores: [61174.346946   61250.56614111 61889.7932273  64373.40614774\n",
      " 64230.78767331 63709.39869845 67932.00210771 63285.86633131\n",
      " 62711.80895334 64209.22506915]\n",
      "Mean: 63476.7201295416\n",
      "Standard deviation: 1876.417840277121\n"
     ]
    }
   ],
   "source": [
    "from sklearn.model_selection import cross_val_score\n",
    "\n",
    "tree_reg = DecisionTreeRegressor()\n",
    "\n",
    "# Scikit-Learn cross-validation features expect a utility function (greater is better) \n",
    "# rather than a cost function (lower is better), so the scoring function is actually \n",
    "# the opposite of the MSE\n",
    "rmse_scores = -cross_val_score(tree_reg, Xtrain, ytrain, scoring=\"neg_root_mean_squared_error\", cv=10)\n",
    "\n",
    "def display_scores(scores):\n",
    "    print(\"Scores:\", scores)\n",
    "    print(\"Mean:\", scores.mean())\n",
    "    print(\"Standard deviation:\", scores.std())\n",
    "\n",
    "display_scores(rmse_scores)"
   ]
  },
  {
   "cell_type": "markdown",
   "metadata": {},
   "source": [
    "Thus, the Decision Tree algorithm produces models that have the RMSE of 63,833.93; the standard deviation being 2,043 (which gives an idea of the variance of the algorithm).\n",
    "\n",
    "So we can confirm that our original model, which was evaluated on the training set, overfitted the data."
   ]
  },
  {
   "cell_type": "markdown",
   "metadata": {},
   "source": [
    "### Linear regression\n",
    "\n",
    "For comparison, let's also evaluate the linear regression using cross-validation:"
   ]
  },
  {
   "cell_type": "code",
   "execution_count": 50,
   "metadata": {
    "ExecuteTime": {
     "end_time": "2022-03-13T12:37:07.653292Z",
     "start_time": "2022-03-13T12:37:07.561257Z"
    }
   },
   "outputs": [
    {
     "name": "stdout",
     "output_type": "stream",
     "text": [
      "Scores: [60391.23908087 58558.61491325 62494.25085911 62032.13711681\n",
      " 60868.52479896 59369.86555516 63651.45371733 61703.30866387\n",
      " 59609.10907932 60790.13918702]\n",
      "Mean: 60946.8642971698\n",
      "Standard deviation: 1475.7676873343828\n"
     ]
    }
   ],
   "source": [
    "lin_reg = LinearRegression()\n",
    "rmse_scores = -cross_val_score(lin_reg, Xtrain, ytrain,\n",
    "                         scoring=\"neg_root_mean_squared_error\", cv=10)\n",
    "display_scores(rmse_scores)"
   ]
  },
  {
   "cell_type": "markdown",
   "metadata": {},
   "source": [
    "It turns out that linear regression has a slightly lower average error rate than Decision Trees, and at the same time exhibits lower variance."
   ]
  },
  {
   "cell_type": "markdown",
   "metadata": {},
   "source": [
    "### Random Forest\n",
    "\n",
    "Finally, let's evaluate a RandomForest regression algorithm. Random Forests work by training many Decision Trees on random subsets of the features, then averaging out their predictions.\n",
    "\n",
    "We specify that we want the algorithm to use 10 decision trees. We do that by passing `n_estimators=10` when we initialize the `RandomForestRegressor` class "
   ]
  },
  {
   "cell_type": "code",
   "execution_count": 51,
   "metadata": {
    "ExecuteTime": {
     "end_time": "2022-03-13T12:37:09.850060Z",
     "start_time": "2022-03-13T12:37:07.656766Z"
    }
   },
   "outputs": [
    {
     "name": "stdout",
     "output_type": "stream",
     "text": [
      "Scores: [46362.71504436 46592.32689625 47861.76298238 48110.05543239\n",
      " 47056.27916163 47300.08736286 49938.2228861  49014.34477377\n",
      " 46798.44881455 48124.59934161]\n",
      "Mean: 47715.88426959181\n",
      "Standard deviation: 1072.9207811127385\n"
     ]
    }
   ],
   "source": [
    "from sklearn.ensemble import RandomForestRegressor\n",
    "\n",
    "forest_reg = RandomForestRegressor(n_estimators=10, random_state=7)\n",
    "rmse_scores = -cross_val_score(forest_reg, Xtrain, ytrain,\n",
    "                         scoring=\"neg_root_mean_squared_error\", cv=10)\n",
    "display_scores(rmse_scores)"
   ]
  },
  {
   "cell_type": "markdown",
   "metadata": {},
   "source": [
    "The algorithm produced a much lower RMSE score (47,715) than either Decision Trees or linear regression methods. It seems to be a particularly suitable algorithm to be explored further."
   ]
  },
  {
   "cell_type": "markdown",
   "metadata": {},
   "source": [
    "## Tuning hyperparameters"
   ]
  },
  {
   "cell_type": "markdown",
   "metadata": {},
   "source": [
    "In the previous experiment, we used 10 decision trees in the Random Forest algorithm. This setting is called a hyperparameter of the algorithm, and needs to be set before a model is trained.\n",
    "\n",
    "We might experiment with several different settings of the hyperparameter to find its optimal settings. However, many algorithms have quite a few of such hyperparameters. Scikit-learn has a utility to automatically search for the best combination of hyperparameter values, implemented in the `GridSearchCV` class. \n",
    "\n",
    "### Exhaustive grid search\n",
    "\n",
    "`GridSearchCV` takes a set of hyperparameters and the search range for each hyperparameter, constructs a search grid with all possible hyperparameter combinations, and evaluates each combination using cross-validation. The output is the model with the best cross-validation accuracy.\n",
    "\n",
    "Let's take a look at an example. We will train a RandomForest regressor, searching for the best model in the grid created from two hyperparameters: `n_estimators` (the number of decision trees, trying values 3, 10 and 30) and `max_depth` (the maximum depth of each tree, trying values 4, 6, 8 and None - None being the maximum possible depth, the default value). So, the grid search will involve creating and evaluating 12 models using cross-validation."
   ]
  },
  {
   "cell_type": "code",
   "execution_count": 52,
   "metadata": {
    "ExecuteTime": {
     "end_time": "2022-03-13T12:37:26.754220Z",
     "start_time": "2022-03-13T12:37:09.852961Z"
    }
   },
   "outputs": [
    {
     "name": "stdout",
     "output_type": "stream",
     "text": [
      "Fitting 10 folds for each of 12 candidates, totalling 120 fits\n",
      "[CV] END ........................max_depth=4, n_estimators=3; total time=   0.0s\n",
      "[CV] END ........................max_depth=4, n_estimators=3; total time=   0.0s\n",
      "[CV] END ........................max_depth=4, n_estimators=3; total time=   0.0s\n",
      "[CV] END ........................max_depth=4, n_estimators=3; total time=   0.0s\n",
      "[CV] END ........................max_depth=4, n_estimators=3; total time=   0.0s\n",
      "[CV] END ........................max_depth=4, n_estimators=3; total time=   0.0s\n",
      "[CV] END ........................max_depth=4, n_estimators=3; total time=   0.0s\n",
      "[CV] END ........................max_depth=4, n_estimators=3; total time=   0.0s\n",
      "[CV] END ........................max_depth=4, n_estimators=3; total time=   0.0s\n",
      "[CV] END ........................max_depth=4, n_estimators=3; total time=   0.0s\n",
      "[CV] END .......................max_depth=4, n_estimators=10; total time=   0.0s\n",
      "[CV] END .......................max_depth=4, n_estimators=10; total time=   0.0s\n",
      "[CV] END .......................max_depth=4, n_estimators=10; total time=   0.0s\n",
      "[CV] END .......................max_depth=4, n_estimators=10; total time=   0.0s\n",
      "[CV] END .......................max_depth=4, n_estimators=10; total time=   0.0s\n",
      "[CV] END .......................max_depth=4, n_estimators=10; total time=   0.0s\n",
      "[CV] END .......................max_depth=4, n_estimators=10; total time=   0.0s\n",
      "[CV] END .......................max_depth=4, n_estimators=10; total time=   0.0s\n",
      "[CV] END .......................max_depth=4, n_estimators=10; total time=   0.0s\n",
      "[CV] END .......................max_depth=4, n_estimators=10; total time=   0.0s\n",
      "[CV] END .......................max_depth=4, n_estimators=30; total time=   0.0s\n",
      "[CV] END .......................max_depth=4, n_estimators=30; total time=   0.0s\n",
      "[CV] END .......................max_depth=4, n_estimators=30; total time=   0.0s\n",
      "[CV] END .......................max_depth=4, n_estimators=30; total time=   0.0s\n",
      "[CV] END .......................max_depth=4, n_estimators=30; total time=   0.0s\n",
      "[CV] END .......................max_depth=4, n_estimators=30; total time=   0.0s\n",
      "[CV] END .......................max_depth=4, n_estimators=30; total time=   0.0s\n",
      "[CV] END .......................max_depth=4, n_estimators=30; total time=   0.0s\n",
      "[CV] END .......................max_depth=4, n_estimators=30; total time=   0.0s\n",
      "[CV] END .......................max_depth=4, n_estimators=30; total time=   0.0s\n",
      "[CV] END ........................max_depth=6, n_estimators=3; total time=   0.0s\n",
      "[CV] END ........................max_depth=6, n_estimators=3; total time=   0.0s\n",
      "[CV] END ........................max_depth=6, n_estimators=3; total time=   0.0s\n",
      "[CV] END ........................max_depth=6, n_estimators=3; total time=   0.0s\n",
      "[CV] END ........................max_depth=6, n_estimators=3; total time=   0.0s\n",
      "[CV] END ........................max_depth=6, n_estimators=3; total time=   0.0s\n",
      "[CV] END ........................max_depth=6, n_estimators=3; total time=   0.0s\n",
      "[CV] END ........................max_depth=6, n_estimators=3; total time=   0.0s\n",
      "[CV] END ........................max_depth=6, n_estimators=3; total time=   0.0s\n",
      "[CV] END ........................max_depth=6, n_estimators=3; total time=   0.0s\n",
      "[CV] END .......................max_depth=6, n_estimators=10; total time=   0.0s\n",
      "[CV] END .......................max_depth=6, n_estimators=10; total time=   0.0s\n",
      "[CV] END .......................max_depth=6, n_estimators=10; total time=   0.0s\n",
      "[CV] END .......................max_depth=6, n_estimators=10; total time=   0.0s\n",
      "[CV] END .......................max_depth=6, n_estimators=10; total time=   0.0s\n",
      "[CV] END .......................max_depth=6, n_estimators=10; total time=   0.0s\n",
      "[CV] END .......................max_depth=6, n_estimators=10; total time=   0.0s\n",
      "[CV] END .......................max_depth=6, n_estimators=10; total time=   0.0s\n",
      "[CV] END .......................max_depth=6, n_estimators=10; total time=   0.0s\n",
      "[CV] END .......................max_depth=6, n_estimators=10; total time=   0.0s\n",
      "[CV] END .......................max_depth=6, n_estimators=30; total time=   0.0s\n",
      "[CV] END .......................max_depth=6, n_estimators=30; total time=   0.0s\n",
      "[CV] END .......................max_depth=6, n_estimators=30; total time=   0.0s\n",
      "[CV] END .......................max_depth=6, n_estimators=30; total time=   0.0s\n",
      "[CV] END .......................max_depth=6, n_estimators=30; total time=   0.0s\n",
      "[CV] END .......................max_depth=6, n_estimators=30; total time=   0.0s\n",
      "[CV] END .......................max_depth=6, n_estimators=30; total time=   0.1s\n",
      "[CV] END .......................max_depth=6, n_estimators=30; total time=   0.0s\n",
      "[CV] END .......................max_depth=6, n_estimators=30; total time=   0.0s\n",
      "[CV] END .......................max_depth=6, n_estimators=30; total time=   0.0s\n",
      "[CV] END ........................max_depth=8, n_estimators=3; total time=   0.0s\n",
      "[CV] END ........................max_depth=8, n_estimators=3; total time=   0.0s\n",
      "[CV] END ........................max_depth=8, n_estimators=3; total time=   0.0s\n",
      "[CV] END ........................max_depth=8, n_estimators=3; total time=   0.0s\n",
      "[CV] END ........................max_depth=8, n_estimators=3; total time=   0.0s\n",
      "[CV] END ........................max_depth=8, n_estimators=3; total time=   0.0s\n",
      "[CV] END ........................max_depth=8, n_estimators=3; total time=   0.0s\n",
      "[CV] END ........................max_depth=8, n_estimators=3; total time=   0.0s\n",
      "[CV] END ........................max_depth=8, n_estimators=3; total time=   0.0s\n",
      "[CV] END ........................max_depth=8, n_estimators=3; total time=   0.0s\n",
      "[CV] END .......................max_depth=8, n_estimators=10; total time=   0.0s\n",
      "[CV] END .......................max_depth=8, n_estimators=10; total time=   0.0s\n",
      "[CV] END .......................max_depth=8, n_estimators=10; total time=   0.0s\n",
      "[CV] END .......................max_depth=8, n_estimators=10; total time=   0.0s\n",
      "[CV] END .......................max_depth=8, n_estimators=10; total time=   0.0s\n",
      "[CV] END .......................max_depth=8, n_estimators=10; total time=   0.0s\n",
      "[CV] END .......................max_depth=8, n_estimators=10; total time=   0.0s\n",
      "[CV] END .......................max_depth=8, n_estimators=10; total time=   0.0s\n",
      "[CV] END .......................max_depth=8, n_estimators=10; total time=   0.0s\n",
      "[CV] END .......................max_depth=8, n_estimators=10; total time=   0.0s\n",
      "[CV] END .......................max_depth=8, n_estimators=30; total time=   0.1s\n",
      "[CV] END .......................max_depth=8, n_estimators=30; total time=   0.0s\n",
      "[CV] END .......................max_depth=8, n_estimators=30; total time=   0.0s\n",
      "[CV] END .......................max_depth=8, n_estimators=30; total time=   0.0s\n",
      "[CV] END .......................max_depth=8, n_estimators=30; total time=   0.1s\n",
      "[CV] END .......................max_depth=8, n_estimators=30; total time=   0.0s\n",
      "[CV] END .......................max_depth=8, n_estimators=30; total time=   0.0s\n",
      "[CV] END .......................max_depth=8, n_estimators=30; total time=   0.0s\n",
      "[CV] END .......................max_depth=8, n_estimators=30; total time=   0.0s\n",
      "[CV] END .......................max_depth=8, n_estimators=30; total time=   0.0s\n",
      "[CV] END .....................max_depth=None, n_estimators=3; total time=   0.0s\n",
      "[CV] END .....................max_depth=None, n_estimators=3; total time=   0.0s\n",
      "[CV] END .....................max_depth=None, n_estimators=3; total time=   0.0s\n",
      "[CV] END .....................max_depth=None, n_estimators=3; total time=   0.0s\n",
      "[CV] END .....................max_depth=None, n_estimators=3; total time=   0.0s\n",
      "[CV] END .....................max_depth=None, n_estimators=3; total time=   0.0s\n",
      "[CV] END .....................max_depth=None, n_estimators=3; total time=   0.0s\n",
      "[CV] END .....................max_depth=None, n_estimators=3; total time=   0.0s\n",
      "[CV] END .....................max_depth=None, n_estimators=3; total time=   0.0s\n",
      "[CV] END .....................max_depth=None, n_estimators=3; total time=   0.0s\n",
      "[CV] END ....................max_depth=None, n_estimators=10; total time=   0.1s\n"
     ]
    },
    {
     "name": "stdout",
     "output_type": "stream",
     "text": [
      "[CV] END ....................max_depth=None, n_estimators=10; total time=   0.2s\n",
      "[CV] END ....................max_depth=None, n_estimators=10; total time=   0.1s\n",
      "[CV] END ....................max_depth=None, n_estimators=10; total time=   0.1s\n",
      "[CV] END ....................max_depth=None, n_estimators=10; total time=   0.1s\n",
      "[CV] END ....................max_depth=None, n_estimators=10; total time=   0.1s\n",
      "[CV] END ....................max_depth=None, n_estimators=10; total time=   0.1s\n",
      "[CV] END ....................max_depth=None, n_estimators=10; total time=   0.1s\n",
      "[CV] END ....................max_depth=None, n_estimators=10; total time=   0.1s\n",
      "[CV] END ....................max_depth=None, n_estimators=10; total time=   0.1s\n",
      "[CV] END ....................max_depth=None, n_estimators=30; total time=   0.6s\n",
      "[CV] END ....................max_depth=None, n_estimators=30; total time=   0.5s\n",
      "[CV] END ....................max_depth=None, n_estimators=30; total time=   0.5s\n",
      "[CV] END ....................max_depth=None, n_estimators=30; total time=   0.6s\n",
      "[CV] END ....................max_depth=None, n_estimators=30; total time=   0.6s\n",
      "[CV] END ....................max_depth=None, n_estimators=30; total time=   0.5s\n",
      "[CV] END ....................max_depth=None, n_estimators=30; total time=   0.6s\n",
      "[CV] END ....................max_depth=None, n_estimators=30; total time=   0.5s\n",
      "[CV] END ....................max_depth=None, n_estimators=30; total time=   0.6s\n",
      "[CV] END ....................max_depth=None, n_estimators=30; total time=   0.5s\n"
     ]
    },
    {
     "data": {
      "text/plain": [
       "GridSearchCV(cv=10, estimator=RandomForestRegressor(random_state=7),\n",
       "             param_grid={'max_depth': [4, 6, 8, None],\n",
       "                         'n_estimators': [3, 10, 30]},\n",
       "             return_train_score=True, scoring='neg_root_mean_squared_error',\n",
       "             verbose=2)"
      ]
     },
     "execution_count": 52,
     "metadata": {},
     "output_type": "execute_result"
    }
   ],
   "source": [
    "from sklearn.model_selection import GridSearchCV\n",
    "\n",
    "# specify the hyperparameters and their values\n",
    "param_grid = {\n",
    "    'n_estimators': [3, 10, 30],\n",
    "    'max_depth': [4, 6, 8, None]\n",
    "}\n",
    "\n",
    "forest_reg = RandomForestRegressor(random_state=7)\n",
    "\n",
    "# we'll use 10-fold cross-validation\n",
    "grid_search = GridSearchCV(forest_reg, param_grid, cv=10,\n",
    "                           scoring='neg_root_mean_squared_error', \n",
    "                           return_train_score=True, verbose=2)\n",
    "\n",
    "grid_search.fit(Xtrain, ytrain)"
   ]
  },
  {
   "cell_type": "markdown",
   "metadata": {},
   "source": [
    "Once grid search is complete we can obtain the best model and its accuracy score: they are attributes on the `GridSearchCV` class:"
   ]
  },
  {
   "cell_type": "code",
   "execution_count": 53,
   "metadata": {
    "ExecuteTime": {
     "end_time": "2022-03-13T12:37:26.770086Z",
     "start_time": "2022-03-13T12:37:26.756391Z"
    }
   },
   "outputs": [
    {
     "data": {
      "text/plain": [
       "RandomForestRegressor(n_estimators=30, random_state=7)"
      ]
     },
     "execution_count": 53,
     "metadata": {},
     "output_type": "execute_result"
    }
   ],
   "source": [
    "grid_search.best_estimator_"
   ]
  },
  {
   "cell_type": "markdown",
   "metadata": {},
   "source": [
    "The best model proved to be one with `n_estimator=30` and `max_depth=None`.\n",
    "\n",
    "Let's look up its RMSE."
   ]
  },
  {
   "cell_type": "code",
   "execution_count": 54,
   "metadata": {
    "ExecuteTime": {
     "end_time": "2022-03-13T12:37:26.785596Z",
     "start_time": "2022-03-13T12:37:26.772717Z"
    }
   },
   "outputs": [
    {
     "data": {
      "text/plain": [
       "46204.58490177015"
      ]
     },
     "execution_count": 54,
     "metadata": {},
     "output_type": "execute_result"
    }
   ],
   "source": [
    "-grid_search.best_score_"
   ]
  },
  {
   "cell_type": "markdown",
   "metadata": {},
   "source": [
    "Thus by tuning hyperparameters, we were able to further reduce the error rate (from 47715 to 46204). \n",
    "\n",
    "You could have noticed that the largest value of `n_estimators` we tried (30) produced the best result. This suggests we should try even greater values - we could improve the error rate further.\n",
    "\n",
    "We can also access RMSE scores of each model trained during grid search. They are stored in the `cv_results_` attribute:"
   ]
  },
  {
   "cell_type": "code",
   "execution_count": 55,
   "metadata": {
    "ExecuteTime": {
     "end_time": "2022-03-13T12:37:26.817015Z",
     "start_time": "2022-03-13T12:37:26.788586Z"
    }
   },
   "outputs": [
    {
     "data": {
      "text/html": [
       "<div>\n",
       "<style scoped>\n",
       "    .dataframe tbody tr th:only-of-type {\n",
       "        vertical-align: middle;\n",
       "    }\n",
       "\n",
       "    .dataframe tbody tr th {\n",
       "        vertical-align: top;\n",
       "    }\n",
       "\n",
       "    .dataframe thead th {\n",
       "        text-align: right;\n",
       "    }\n",
       "</style>\n",
       "<table border=\"1\" class=\"dataframe\">\n",
       "  <thead>\n",
       "    <tr style=\"text-align: right;\">\n",
       "      <th></th>\n",
       "      <th>params</th>\n",
       "      <th>mean_train_score</th>\n",
       "      <th>mean_test_score</th>\n",
       "      <th>diff, %</th>\n",
       "    </tr>\n",
       "  </thead>\n",
       "  <tbody>\n",
       "    <tr>\n",
       "      <th>11</th>\n",
       "      <td>{'max_depth': None, 'n_estimators': 30}</td>\n",
       "      <td>18449.945407</td>\n",
       "      <td>46204.584902</td>\n",
       "      <td>-150.432096</td>\n",
       "    </tr>\n",
       "    <tr>\n",
       "      <th>10</th>\n",
       "      <td>{'max_depth': None, 'n_estimators': 10}</td>\n",
       "      <td>20749.335861</td>\n",
       "      <td>47715.884270</td>\n",
       "      <td>-129.963429</td>\n",
       "    </tr>\n",
       "    <tr>\n",
       "      <th>8</th>\n",
       "      <td>{'max_depth': 8, 'n_estimators': 30}</td>\n",
       "      <td>45068.344072</td>\n",
       "      <td>50638.694124</td>\n",
       "      <td>-12.359784</td>\n",
       "    </tr>\n",
       "    <tr>\n",
       "      <th>7</th>\n",
       "      <td>{'max_depth': 8, 'n_estimators': 10}</td>\n",
       "      <td>45629.018368</td>\n",
       "      <td>50963.861722</td>\n",
       "      <td>-11.691778</td>\n",
       "    </tr>\n",
       "    <tr>\n",
       "      <th>6</th>\n",
       "      <td>{'max_depth': 8, 'n_estimators': 3}</td>\n",
       "      <td>47578.721465</td>\n",
       "      <td>52922.420857</td>\n",
       "      <td>-11.231280</td>\n",
       "    </tr>\n",
       "    <tr>\n",
       "      <th>9</th>\n",
       "      <td>{'max_depth': None, 'n_estimators': 3}</td>\n",
       "      <td>27263.517784</td>\n",
       "      <td>53677.305467</td>\n",
       "      <td>-96.883270</td>\n",
       "    </tr>\n",
       "    <tr>\n",
       "      <th>5</th>\n",
       "      <td>{'max_depth': 6, 'n_estimators': 30}</td>\n",
       "      <td>52530.224017</td>\n",
       "      <td>54859.064650</td>\n",
       "      <td>-4.433335</td>\n",
       "    </tr>\n",
       "    <tr>\n",
       "      <th>4</th>\n",
       "      <td>{'max_depth': 6, 'n_estimators': 10}</td>\n",
       "      <td>52781.305140</td>\n",
       "      <td>55078.149853</td>\n",
       "      <td>-4.351625</td>\n",
       "    </tr>\n",
       "    <tr>\n",
       "      <th>3</th>\n",
       "      <td>{'max_depth': 6, 'n_estimators': 3}</td>\n",
       "      <td>53868.893594</td>\n",
       "      <td>56221.501782</td>\n",
       "      <td>-4.367285</td>\n",
       "    </tr>\n",
       "    <tr>\n",
       "      <th>2</th>\n",
       "      <td>{'max_depth': 4, 'n_estimators': 30}</td>\n",
       "      <td>60633.648651</td>\n",
       "      <td>61370.369446</td>\n",
       "      <td>-1.215036</td>\n",
       "    </tr>\n",
       "    <tr>\n",
       "      <th>1</th>\n",
       "      <td>{'max_depth': 4, 'n_estimators': 10}</td>\n",
       "      <td>60781.658070</td>\n",
       "      <td>61513.193193</td>\n",
       "      <td>-1.203546</td>\n",
       "    </tr>\n",
       "    <tr>\n",
       "      <th>0</th>\n",
       "      <td>{'max_depth': 4, 'n_estimators': 3}</td>\n",
       "      <td>61362.491658</td>\n",
       "      <td>62152.792741</td>\n",
       "      <td>-1.287922</td>\n",
       "    </tr>\n",
       "  </tbody>\n",
       "</table>\n",
       "</div>"
      ],
      "text/plain": [
       "                                     params  mean_train_score  \\\n",
       "11  {'max_depth': None, 'n_estimators': 30}      18449.945407   \n",
       "10  {'max_depth': None, 'n_estimators': 10}      20749.335861   \n",
       "8      {'max_depth': 8, 'n_estimators': 30}      45068.344072   \n",
       "7      {'max_depth': 8, 'n_estimators': 10}      45629.018368   \n",
       "6       {'max_depth': 8, 'n_estimators': 3}      47578.721465   \n",
       "9    {'max_depth': None, 'n_estimators': 3}      27263.517784   \n",
       "5      {'max_depth': 6, 'n_estimators': 30}      52530.224017   \n",
       "4      {'max_depth': 6, 'n_estimators': 10}      52781.305140   \n",
       "3       {'max_depth': 6, 'n_estimators': 3}      53868.893594   \n",
       "2      {'max_depth': 4, 'n_estimators': 30}      60633.648651   \n",
       "1      {'max_depth': 4, 'n_estimators': 10}      60781.658070   \n",
       "0       {'max_depth': 4, 'n_estimators': 3}      61362.491658   \n",
       "\n",
       "    mean_test_score     diff, %  \n",
       "11     46204.584902 -150.432096  \n",
       "10     47715.884270 -129.963429  \n",
       "8      50638.694124  -12.359784  \n",
       "7      50963.861722  -11.691778  \n",
       "6      52922.420857  -11.231280  \n",
       "9      53677.305467  -96.883270  \n",
       "5      54859.064650   -4.433335  \n",
       "4      55078.149853   -4.351625  \n",
       "3      56221.501782   -4.367285  \n",
       "2      61370.369446   -1.215036  \n",
       "1      61513.193193   -1.203546  \n",
       "0      62152.792741   -1.287922  "
      ]
     },
     "execution_count": 55,
     "metadata": {},
     "output_type": "execute_result"
    }
   ],
   "source": [
    "cv_results = pd.DataFrame(grid_search.cv_results_)[['params', 'mean_train_score', 'mean_test_score']]\n",
    "cv_results[\"mean_train_score\"] = -cv_results[\"mean_train_score\"]\n",
    "cv_results[\"mean_test_score\"] = -cv_results[\"mean_test_score\"]\n",
    "cv_results[\"diff, %\"] = 100*(cv_results[\"mean_train_score\"]-cv_results[\"mean_test_score\"]\n",
    "                                                     )/cv_results[\"mean_train_score\"]\n",
    "\n",
    "cv_results.sort_values('mean_test_score')"
   ]
  },
  {
   "cell_type": "markdown",
   "metadata": {},
   "source": [
    "The best-performing model showed a much lower RMSE on the training set (18449) than on the validation set (46204). This indicates the model overfitted the training data. The overfitting could be reduced and the model further improved by introducing constraints on the learned trees (for example, enforcing a maximum depth of the learned trees)."
   ]
  },
  {
   "cell_type": "markdown",
   "metadata": {},
   "source": [
    "### Randomized grid search\n",
    "\n",
    "When the search space of hyperparameters is very large, running exhaustive grid search may take too much time. In such cases, one can try `RandomizedSearchCV` instead. It allows to limit the number of models to build and thus control the amount of computing resources one uses.\n",
    "\n",
    "The class works very much the same as `GridSearchCV`, but takes extra arguments: `n_iter`, the number of random combinations to try and `random_state`, which can be set to the same constant to ensure that the same random combinations are tried in different runs of the code.\n",
    "\n",
    "Here, we will try 6 random combinations (`n_iter=6`), instead of 12 in the exhaustive search."
   ]
  },
  {
   "cell_type": "code",
   "execution_count": 56,
   "metadata": {
    "ExecuteTime": {
     "end_time": "2022-03-13T12:37:35.076234Z",
     "start_time": "2022-03-13T12:37:26.818760Z"
    }
   },
   "outputs": [
    {
     "name": "stdout",
     "output_type": "stream",
     "text": [
      "Fitting 10 folds for each of 6 candidates, totalling 60 fits\n",
      "[CV] END .......................max_depth=8, n_estimators=10; total time=   0.0s\n",
      "[CV] END .......................max_depth=8, n_estimators=10; total time=   0.0s\n",
      "[CV] END .......................max_depth=8, n_estimators=10; total time=   0.0s\n",
      "[CV] END .......................max_depth=8, n_estimators=10; total time=   0.0s\n",
      "[CV] END .......................max_depth=8, n_estimators=10; total time=   0.0s\n",
      "[CV] END .......................max_depth=8, n_estimators=10; total time=   0.0s\n",
      "[CV] END .......................max_depth=8, n_estimators=10; total time=   0.0s\n",
      "[CV] END .......................max_depth=8, n_estimators=10; total time=   0.0s\n",
      "[CV] END .......................max_depth=8, n_estimators=10; total time=   0.0s\n",
      "[CV] END .......................max_depth=8, n_estimators=10; total time=   0.0s\n",
      "[CV] END ....................max_depth=None, n_estimators=10; total time=   0.3s\n",
      "[CV] END ....................max_depth=None, n_estimators=10; total time=   0.4s\n",
      "[CV] END ....................max_depth=None, n_estimators=10; total time=   0.3s\n",
      "[CV] END ....................max_depth=None, n_estimators=10; total time=   0.2s\n",
      "[CV] END ....................max_depth=None, n_estimators=10; total time=   0.2s\n",
      "[CV] END ....................max_depth=None, n_estimators=10; total time=   0.2s\n",
      "[CV] END ....................max_depth=None, n_estimators=10; total time=   0.3s\n",
      "[CV] END ....................max_depth=None, n_estimators=10; total time=   0.2s\n",
      "[CV] END ....................max_depth=None, n_estimators=10; total time=   0.1s\n",
      "[CV] END ....................max_depth=None, n_estimators=10; total time=   0.1s\n",
      "[CV] END .......................max_depth=4, n_estimators=30; total time=   0.0s\n",
      "[CV] END .......................max_depth=4, n_estimators=30; total time=   0.0s\n",
      "[CV] END .......................max_depth=4, n_estimators=30; total time=   0.0s\n",
      "[CV] END .......................max_depth=4, n_estimators=30; total time=   0.0s\n",
      "[CV] END .......................max_depth=4, n_estimators=30; total time=   0.0s\n",
      "[CV] END .......................max_depth=4, n_estimators=30; total time=   0.0s\n",
      "[CV] END .......................max_depth=4, n_estimators=30; total time=   0.0s\n",
      "[CV] END .......................max_depth=4, n_estimators=30; total time=   0.0s\n",
      "[CV] END .......................max_depth=4, n_estimators=30; total time=   0.0s\n",
      "[CV] END .......................max_depth=4, n_estimators=30; total time=   0.0s\n",
      "[CV] END .......................max_depth=6, n_estimators=30; total time=   0.0s\n",
      "[CV] END .......................max_depth=6, n_estimators=30; total time=   0.1s\n",
      "[CV] END .......................max_depth=6, n_estimators=30; total time=   0.1s\n",
      "[CV] END .......................max_depth=6, n_estimators=30; total time=   0.1s\n",
      "[CV] END .......................max_depth=6, n_estimators=30; total time=   0.1s\n",
      "[CV] END .......................max_depth=6, n_estimators=30; total time=   0.1s\n",
      "[CV] END .......................max_depth=6, n_estimators=30; total time=   0.2s\n",
      "[CV] END .......................max_depth=6, n_estimators=30; total time=   0.2s\n",
      "[CV] END .......................max_depth=6, n_estimators=30; total time=   0.1s\n",
      "[CV] END .......................max_depth=6, n_estimators=30; total time=   0.0s\n",
      "[CV] END ........................max_depth=4, n_estimators=3; total time=   0.0s\n",
      "[CV] END ........................max_depth=4, n_estimators=3; total time=   0.0s\n",
      "[CV] END ........................max_depth=4, n_estimators=3; total time=   0.0s\n",
      "[CV] END ........................max_depth=4, n_estimators=3; total time=   0.0s\n",
      "[CV] END ........................max_depth=4, n_estimators=3; total time=   0.0s\n",
      "[CV] END ........................max_depth=4, n_estimators=3; total time=   0.0s\n",
      "[CV] END ........................max_depth=4, n_estimators=3; total time=   0.0s\n",
      "[CV] END ........................max_depth=4, n_estimators=3; total time=   0.0s\n",
      "[CV] END ........................max_depth=4, n_estimators=3; total time=   0.0s\n",
      "[CV] END ........................max_depth=4, n_estimators=3; total time=   0.0s\n",
      "[CV] END .......................max_depth=4, n_estimators=10; total time=   0.0s\n",
      "[CV] END .......................max_depth=4, n_estimators=10; total time=   0.0s\n",
      "[CV] END .......................max_depth=4, n_estimators=10; total time=   0.0s\n",
      "[CV] END .......................max_depth=4, n_estimators=10; total time=   0.0s\n",
      "[CV] END .......................max_depth=4, n_estimators=10; total time=   0.0s\n",
      "[CV] END .......................max_depth=4, n_estimators=10; total time=   0.0s\n",
      "[CV] END .......................max_depth=4, n_estimators=10; total time=   0.0s\n",
      "[CV] END .......................max_depth=4, n_estimators=10; total time=   0.0s\n",
      "[CV] END .......................max_depth=4, n_estimators=10; total time=   0.0s\n",
      "[CV] END .......................max_depth=4, n_estimators=10; total time=   0.0s\n"
     ]
    },
    {
     "data": {
      "text/plain": [
       "RandomizedSearchCV(cv=10, estimator=RandomForestRegressor(random_state=7),\n",
       "                   n_iter=6,\n",
       "                   param_distributions={'max_depth': [4, 6, 8, None],\n",
       "                                        'n_estimators': [3, 10, 30]},\n",
       "                   random_state=7, return_train_score=True,\n",
       "                   scoring='neg_root_mean_squared_error', verbose=2)"
      ]
     },
     "execution_count": 56,
     "metadata": {},
     "output_type": "execute_result"
    }
   ],
   "source": [
    "from sklearn.model_selection import RandomizedSearchCV\n",
    "\n",
    "# specify the hyperparameters and their values\n",
    "param_grid = {\n",
    "    'n_estimators': [3, 10, 30],\n",
    "    'max_depth': [4, 6, 8, None]\n",
    "}\n",
    "\n",
    "forest_reg = RandomForestRegressor(random_state=7)\n",
    "\n",
    "# we'll use 10-fold cross-validation\n",
    "rand_grid_search = RandomizedSearchCV(forest_reg, param_grid, cv=10, n_iter=6,\n",
    "                                     scoring='neg_root_mean_squared_error', random_state=7,\n",
    "                                     return_train_score=True, verbose=2)\n",
    "\n",
    "rand_grid_search.fit(Xtrain, ytrain)"
   ]
  },
  {
   "cell_type": "code",
   "execution_count": 57,
   "metadata": {
    "ExecuteTime": {
     "end_time": "2022-03-13T12:37:35.091857Z",
     "start_time": "2022-03-13T12:37:35.079226Z"
    }
   },
   "outputs": [
    {
     "data": {
      "text/plain": [
       "RandomForestRegressor(n_estimators=10, random_state=7)"
      ]
     },
     "execution_count": 57,
     "metadata": {},
     "output_type": "execute_result"
    }
   ],
   "source": [
    "rand_grid_search.best_estimator_"
   ]
  },
  {
   "cell_type": "markdown",
   "metadata": {},
   "source": [
    "The best model found is with `n_estimators=10` and `max_depth=None`.\n",
    "\n",
    "Its RMSE score is:"
   ]
  },
  {
   "cell_type": "code",
   "execution_count": 58,
   "metadata": {
    "ExecuteTime": {
     "end_time": "2022-03-13T12:37:35.108841Z",
     "start_time": "2022-03-13T12:37:35.094852Z"
    }
   },
   "outputs": [
    {
     "data": {
      "text/plain": [
       "47715.88426959181"
      ]
     },
     "execution_count": 58,
     "metadata": {},
     "output_type": "execute_result"
    }
   ],
   "source": [
    "-rand_grid_search.best_score_"
   ]
  },
  {
   "cell_type": "markdown",
   "metadata": {},
   "source": [
    "## Analyze the most promising models\n",
    "\n",
    "We can examine what variables were the most important for the regression problem in the best-performing model. They are also stored as an attribute on the model object:"
   ]
  },
  {
   "cell_type": "code",
   "execution_count": 59,
   "metadata": {
    "ExecuteTime": {
     "end_time": "2022-03-13T12:37:35.138604Z",
     "start_time": "2022-03-13T12:37:35.110836Z"
    }
   },
   "outputs": [
    {
     "name": "stdout",
     "output_type": "stream",
     "text": [
      "median_income: 0.412\n",
      "INLAND: 0.159\n",
      "population_per_household: 0.113\n",
      "longitude: 0.094\n",
      "latitude: 0.072\n",
      "housing_median_age: 0.051\n",
      "rooms_per_household: 0.035\n",
      "total_rooms: 0.029\n",
      "total_bedrooms: 0.014\n",
      "population: 0.012\n",
      "households: 0.007\n",
      "NEAR OCEAN: 0.003\n",
      "NEAR BAY: 0.000\n",
      "ISLAND: 0.000\n"
     ]
    }
   ],
   "source": [
    "# put them into a separate variable for convenience\n",
    "feature_importances = grid_search.best_estimator_.feature_importances_\n",
    "\n",
    "# the order of the features in `feature_importances` is the same as in the Xtrain dataframe,\n",
    "# so we can \"zip\" the two and print in the descending order:\n",
    "\n",
    "for k, v in sorted(zip(feature_importances, Xtrain.columns), reverse=True):\n",
    "    print(f\"{v}: {k:.3f}\")"
   ]
  },
  {
   "cell_type": "markdown",
   "metadata": {},
   "source": [
    "We can notice that median income is by far the most useful variable for predicting the price of housing. Other useful features are the position of the district relative to the ocean, the average number of persons per household in a district.\n",
    "\n",
    "There are some features that are much less useful: \"NEAR OCEAN\", \"NEAR BAY\" and \"ISLAND\". We may consider removing them both from the training and test set.\n",
    "\n",
    "It often helps to also visualize the predictions made by the model. Let's refit the best model on the first 90% of the training set and generate predictions on the last 10%. There are 15736 training instances, so we will use 14162 for training and the rest for testing."
   ]
  },
  {
   "cell_type": "code",
   "execution_count": 60,
   "metadata": {
    "ExecuteTime": {
     "end_time": "2022-03-13T12:37:35.156541Z",
     "start_time": "2022-03-13T12:37:35.142789Z"
    }
   },
   "outputs": [
    {
     "data": {
      "text/plain": [
       "pandas.core.frame.DataFrame"
      ]
     },
     "execution_count": 60,
     "metadata": {},
     "output_type": "execute_result"
    }
   ],
   "source": [
    "type(Xtrain)"
   ]
  },
  {
   "cell_type": "code",
   "execution_count": 61,
   "metadata": {
    "ExecuteTime": {
     "end_time": "2022-03-13T12:37:35.453424Z",
     "start_time": "2022-03-13T12:37:35.162901Z"
    }
   },
   "outputs": [],
   "source": [
    "forest_reg = RandomForestRegressor(n_estimators=30, max_depth=None)\n",
    "tree_reg.fit(Xtrain.values[:14163,:], ytrain.values[:14163])\n",
    "yhat = tree_reg.predict(Xtrain.values[14163:, :])"
   ]
  },
  {
   "cell_type": "code",
   "execution_count": 62,
   "metadata": {
    "ExecuteTime": {
     "end_time": "2022-03-13T12:37:36.506621Z",
     "start_time": "2022-03-13T12:37:35.456952Z"
    }
   },
   "outputs": [
    {
     "data": {
      "text/plain": [
       "<AxesSubplot:>"
      ]
     },
     "execution_count": 62,
     "metadata": {},
     "output_type": "execute_result"
    },
    {
     "data": {
      "image/png": "[encoded data removed]",
      "text/plain": [
       "<Figure size 864x360 with 1 Axes>"
      ]
     },
     "metadata": {},
     "output_type": "display_data"
    }
   ],
   "source": [
    "# create a temporary dataframe containing two columns\n",
    "df_tmp = pd.DataFrame({\"ytrain\": ytrain[14163:14163+50], \"yhat\": yhat[:50]})\n",
    "\n",
    "# plot the dataframe\n",
    "df_tmp.plot(figsize=(12,5), kind=\"bar\")"
   ]
  },
  {
   "cell_type": "markdown",
   "metadata": {},
   "source": [
    "We see that the predictions are quite reasonable, except for a few cases where the prediction either overshot or undershot the true value by a large amount.\n",
    "\n",
    "We can retrieve specific instances where the absolute difference between the prediction and the true value was particularly big, say, over 50% of the true value:"
   ]
  },
  {
   "cell_type": "code",
   "execution_count": 63,
   "metadata": {
    "ExecuteTime": {
     "end_time": "2022-03-13T12:37:36.522198Z",
     "start_time": "2022-03-13T12:37:36.509069Z"
    }
   },
   "outputs": [],
   "source": [
    "cond_idx = np.abs(ytrain[14163:] - yhat)/ytrain[14163:] > 0.5"
   ]
  },
  {
   "cell_type": "markdown",
   "metadata": {},
   "source": [
    "The number of such cases is:"
   ]
  },
  {
   "cell_type": "code",
   "execution_count": 64,
   "metadata": {
    "ExecuteTime": {
     "end_time": "2022-03-13T12:37:36.530237Z",
     "start_time": "2022-03-13T12:37:36.523681Z"
    }
   },
   "outputs": [
    {
     "data": {
      "text/plain": [
       "172"
      ]
     },
     "execution_count": 64,
     "metadata": {},
     "output_type": "execute_result"
    }
   ],
   "source": [
    "cond_idx.sum()"
   ]
  },
  {
   "cell_type": "markdown",
   "metadata": {},
   "source": [
    "We can print the corresponding rows in the `trainset` dataframe:"
   ]
  },
  {
   "cell_type": "code",
   "execution_count": 65,
   "metadata": {
    "ExecuteTime": {
     "end_time": "2022-03-13T12:37:36.561824Z",
     "start_time": "2022-03-13T12:37:36.532233Z"
    }
   },
   "outputs": [
    {
     "data": {
      "text/html": [
       "<div>\n",
       "<style scoped>\n",
       "    .dataframe tbody tr th:only-of-type {\n",
       "        vertical-align: middle;\n",
       "    }\n",
       "\n",
       "    .dataframe tbody tr th {\n",
       "        vertical-align: top;\n",
       "    }\n",
       "\n",
       "    .dataframe thead th {\n",
       "        text-align: right;\n",
       "    }\n",
       "</style>\n",
       "<table border=\"1\" class=\"dataframe\">\n",
       "  <thead>\n",
       "    <tr style=\"text-align: right;\">\n",
       "      <th></th>\n",
       "      <th>longitude</th>\n",
       "      <th>latitude</th>\n",
       "      <th>housing_median_age</th>\n",
       "      <th>total_rooms</th>\n",
       "      <th>total_bedrooms</th>\n",
       "      <th>population</th>\n",
       "      <th>households</th>\n",
       "      <th>median_income</th>\n",
       "      <th>rooms_per_household</th>\n",
       "      <th>population_per_household</th>\n",
       "      <th>INLAND</th>\n",
       "      <th>ISLAND</th>\n",
       "      <th>NEAR BAY</th>\n",
       "      <th>NEAR OCEAN</th>\n",
       "      <th>median_house_value</th>\n",
       "    </tr>\n",
       "  </thead>\n",
       "  <tbody>\n",
       "    <tr>\n",
       "      <th>14190</th>\n",
       "      <td>-0.861076</td>\n",
       "      <td>0.779181</td>\n",
       "      <td>0.606254</td>\n",
       "      <td>-1.194464</td>\n",
       "      <td>-1.269940</td>\n",
       "      <td>-1.288507</td>\n",
       "      <td>-1.304979</td>\n",
       "      <td>0.208745</td>\n",
       "      <td>0.267451</td>\n",
       "      <td>0.020882</td>\n",
       "      <td>1.413809</td>\n",
       "      <td>-0.017829</td>\n",
       "      <td>-0.343423</td>\n",
       "      <td>-0.375228</td>\n",
       "      <td>75000.0</td>\n",
       "    </tr>\n",
       "    <tr>\n",
       "      <th>14196</th>\n",
       "      <td>1.256330</td>\n",
       "      <td>-1.428415</td>\n",
       "      <td>-0.996388</td>\n",
       "      <td>0.966974</td>\n",
       "      <td>0.950224</td>\n",
       "      <td>1.501378</td>\n",
       "      <td>0.971541</td>\n",
       "      <td>-0.397354</td>\n",
       "      <td>0.020679</td>\n",
       "      <td>0.035836</td>\n",
       "      <td>-0.707309</td>\n",
       "      <td>-0.017829</td>\n",
       "      <td>-0.343423</td>\n",
       "      <td>2.665046</td>\n",
       "      <td>98300.0</td>\n",
       "    </tr>\n",
       "    <tr>\n",
       "      <th>14198</th>\n",
       "      <td>-1.385433</td>\n",
       "      <td>1.063281</td>\n",
       "      <td>1.247310</td>\n",
       "      <td>-0.322893</td>\n",
       "      <td>-0.224018</td>\n",
       "      <td>-0.455938</td>\n",
       "      <td>-0.170704</td>\n",
       "      <td>-0.595284</td>\n",
       "      <td>-0.403281</td>\n",
       "      <td>-0.082123</td>\n",
       "      <td>-0.707309</td>\n",
       "      <td>-0.017829</td>\n",
       "      <td>2.911858</td>\n",
       "      <td>-0.375228</td>\n",
       "      <td>140300.0</td>\n",
       "    </tr>\n",
       "    <tr>\n",
       "      <th>14199</th>\n",
       "      <td>-0.836106</td>\n",
       "      <td>1.044651</td>\n",
       "      <td>-0.996388</td>\n",
       "      <td>-1.193531</td>\n",
       "      <td>-1.274782</td>\n",
       "      <td>-1.294918</td>\n",
       "      <td>-1.310292</td>\n",
       "      <td>-0.668041</td>\n",
       "      <td>1.249837</td>\n",
       "      <td>0.017373</td>\n",
       "      <td>1.413809</td>\n",
       "      <td>-0.017829</td>\n",
       "      <td>-0.343423</td>\n",
       "      <td>-0.375228</td>\n",
       "      <td>137500.0</td>\n",
       "    </tr>\n",
       "    <tr>\n",
       "      <th>14205</th>\n",
       "      <td>0.687028</td>\n",
       "      <td>-0.366534</td>\n",
       "      <td>-2.118237</td>\n",
       "      <td>-0.236156</td>\n",
       "      <td>-0.357179</td>\n",
       "      <td>-0.467845</td>\n",
       "      <td>-0.428373</td>\n",
       "      <td>0.881670</td>\n",
       "      <td>0.360874</td>\n",
       "      <td>-0.033365</td>\n",
       "      <td>1.413809</td>\n",
       "      <td>-0.017829</td>\n",
       "      <td>-0.343423</td>\n",
       "      <td>-0.375228</td>\n",
       "      <td>111100.0</td>\n",
       "    </tr>\n",
       "    <tr>\n",
       "      <th>...</th>\n",
       "      <td>...</td>\n",
       "      <td>...</td>\n",
       "      <td>...</td>\n",
       "      <td>...</td>\n",
       "      <td>...</td>\n",
       "      <td>...</td>\n",
       "      <td>...</td>\n",
       "      <td>...</td>\n",
       "      <td>...</td>\n",
       "      <td>...</td>\n",
       "      <td>...</td>\n",
       "      <td>...</td>\n",
       "      <td>...</td>\n",
       "      <td>...</td>\n",
       "      <td>...</td>\n",
       "    </tr>\n",
       "    <tr>\n",
       "      <th>15697</th>\n",
       "      <td>1.301275</td>\n",
       "      <td>-1.307323</td>\n",
       "      <td>-1.397048</td>\n",
       "      <td>3.317742</td>\n",
       "      <td>3.049332</td>\n",
       "      <td>3.492583</td>\n",
       "      <td>3.394162</td>\n",
       "      <td>0.318168</td>\n",
       "      <td>0.045212</td>\n",
       "      <td>-0.014675</td>\n",
       "      <td>-0.707309</td>\n",
       "      <td>-0.017829</td>\n",
       "      <td>-0.343423</td>\n",
       "      <td>-0.375228</td>\n",
       "      <td>166100.0</td>\n",
       "    </tr>\n",
       "    <tr>\n",
       "      <th>15704</th>\n",
       "      <td>-0.970941</td>\n",
       "      <td>0.634802</td>\n",
       "      <td>-0.755992</td>\n",
       "      <td>-0.110713</td>\n",
       "      <td>-0.345073</td>\n",
       "      <td>-0.267259</td>\n",
       "      <td>-0.356650</td>\n",
       "      <td>0.223921</td>\n",
       "      <td>0.477386</td>\n",
       "      <td>0.000148</td>\n",
       "      <td>1.413809</td>\n",
       "      <td>-0.017829</td>\n",
       "      <td>-0.343423</td>\n",
       "      <td>-0.375228</td>\n",
       "      <td>374600.0</td>\n",
       "    </tr>\n",
       "    <tr>\n",
       "      <th>15705</th>\n",
       "      <td>0.612119</td>\n",
       "      <td>-0.762410</td>\n",
       "      <td>1.647971</td>\n",
       "      <td>-0.466523</td>\n",
       "      <td>-0.400759</td>\n",
       "      <td>-0.492575</td>\n",
       "      <td>-0.292897</td>\n",
       "      <td>-0.737802</td>\n",
       "      <td>-0.517230</td>\n",
       "      <td>-0.069356</td>\n",
       "      <td>-0.707309</td>\n",
       "      <td>-0.017829</td>\n",
       "      <td>-0.343423</td>\n",
       "      <td>-0.375228</td>\n",
       "      <td>136600.0</td>\n",
       "    </tr>\n",
       "    <tr>\n",
       "      <th>15714</th>\n",
       "      <td>-1.055837</td>\n",
       "      <td>0.495081</td>\n",
       "      <td>-1.316916</td>\n",
       "      <td>7.752537</td>\n",
       "      <td>9.576664</td>\n",
       "      <td>9.817909</td>\n",
       "      <td>10.287475</td>\n",
       "      <td>-0.259810</td>\n",
       "      <td>-0.406454</td>\n",
       "      <td>-0.029242</td>\n",
       "      <td>-0.707309</td>\n",
       "      <td>-0.017829</td>\n",
       "      <td>-0.343423</td>\n",
       "      <td>-0.375228</td>\n",
       "      <td>152800.0</td>\n",
       "    </tr>\n",
       "    <tr>\n",
       "      <th>15716</th>\n",
       "      <td>-1.140733</td>\n",
       "      <td>0.443850</td>\n",
       "      <td>0.766518</td>\n",
       "      <td>-1.105861</td>\n",
       "      <td>-0.245808</td>\n",
       "      <td>-1.138297</td>\n",
       "      <td>-1.148252</td>\n",
       "      <td>-1.455746</td>\n",
       "      <td>-0.763111</td>\n",
       "      <td>-0.023262</td>\n",
       "      <td>-0.707309</td>\n",
       "      <td>-0.017829</td>\n",
       "      <td>-0.343423</td>\n",
       "      <td>-0.375228</td>\n",
       "      <td>125000.0</td>\n",
       "    </tr>\n",
       "  </tbody>\n",
       "</table>\n",
       "<p>172 rows × 15 columns</p>\n",
       "</div>"
      ],
      "text/plain": [
       "       longitude  latitude  housing_median_age  total_rooms  total_bedrooms  \\\n",
       "14190  -0.861076  0.779181            0.606254    -1.194464       -1.269940   \n",
       "14196   1.256330 -1.428415           -0.996388     0.966974        0.950224   \n",
       "14198  -1.385433  1.063281            1.247310    -0.322893       -0.224018   \n",
       "14199  -0.836106  1.044651           -0.996388    -1.193531       -1.274782   \n",
       "14205   0.687028 -0.366534           -2.118237    -0.236156       -0.357179   \n",
       "...          ...       ...                 ...          ...             ...   \n",
       "15697   1.301275 -1.307323           -1.397048     3.317742        3.049332   \n",
       "15704  -0.970941  0.634802           -0.755992    -0.110713       -0.345073   \n",
       "15705   0.612119 -0.762410            1.647971    -0.466523       -0.400759   \n",
       "15714  -1.055837  0.495081           -1.316916     7.752537        9.576664   \n",
       "15716  -1.140733  0.443850            0.766518    -1.105861       -0.245808   \n",
       "\n",
       "       population  households  median_income  rooms_per_household  \\\n",
       "14190   -1.288507   -1.304979       0.208745             0.267451   \n",
       "14196    1.501378    0.971541      -0.397354             0.020679   \n",
       "14198   -0.455938   -0.170704      -0.595284            -0.403281   \n",
       "14199   -1.294918   -1.310292      -0.668041             1.249837   \n",
       "14205   -0.467845   -0.428373       0.881670             0.360874   \n",
       "...           ...         ...            ...                  ...   \n",
       "15697    3.492583    3.394162       0.318168             0.045212   \n",
       "15704   -0.267259   -0.356650       0.223921             0.477386   \n",
       "15705   -0.492575   -0.292897      -0.737802            -0.517230   \n",
       "15714    9.817909   10.287475      -0.259810            -0.406454   \n",
       "15716   -1.138297   -1.148252      -1.455746            -0.763111   \n",
       "\n",
       "       population_per_household    INLAND    ISLAND  NEAR BAY  NEAR OCEAN  \\\n",
       "14190                  0.020882  1.413809 -0.017829 -0.343423   -0.375228   \n",
       "14196                  0.035836 -0.707309 -0.017829 -0.343423    2.665046   \n",
       "14198                 -0.082123 -0.707309 -0.017829  2.911858   -0.375228   \n",
       "14199                  0.017373  1.413809 -0.017829 -0.343423   -0.375228   \n",
       "14205                 -0.033365  1.413809 -0.017829 -0.343423   -0.375228   \n",
       "...                         ...       ...       ...       ...         ...   \n",
       "15697                 -0.014675 -0.707309 -0.017829 -0.343423   -0.375228   \n",
       "15704                  0.000148  1.413809 -0.017829 -0.343423   -0.375228   \n",
       "15705                 -0.069356 -0.707309 -0.017829 -0.343423   -0.375228   \n",
       "15714                 -0.029242 -0.707309 -0.017829 -0.343423   -0.375228   \n",
       "15716                 -0.023262 -0.707309 -0.017829 -0.343423   -0.375228   \n",
       "\n",
       "       median_house_value  \n",
       "14190             75000.0  \n",
       "14196             98300.0  \n",
       "14198            140300.0  \n",
       "14199            137500.0  \n",
       "14205            111100.0  \n",
       "...                   ...  \n",
       "15697            166100.0  \n",
       "15704            374600.0  \n",
       "15705            136600.0  \n",
       "15714            152800.0  \n",
       "15716            125000.0  \n",
       "\n",
       "[172 rows x 15 columns]"
      ]
     },
     "execution_count": 65,
     "metadata": {},
     "output_type": "execute_result"
    }
   ],
   "source": [
    "trainset[14163:][cond_idx]"
   ]
  },
  {
   "cell_type": "markdown",
   "metadata": {},
   "source": [
    "We can inspect these rows more closely to understand potential reasons for the errors. For example, comparing the values in each column with the respective mean and standard deviations, we might find if outliers account for most of these cases."
   ]
  },
  {
   "cell_type": "markdown",
   "metadata": {},
   "source": [
    "# Step 6. Evaluate on the test set\n",
    "\n",
    "Once we found a model that seems to perform well on training data, we can finally evaluate it on the test data.\n",
    "\n",
    "As with the training data, we need to extract the predictors and the target variables into separate arrays:"
   ]
  },
  {
   "cell_type": "code",
   "execution_count": 66,
   "metadata": {
    "ExecuteTime": {
     "end_time": "2022-03-13T12:37:36.592443Z",
     "start_time": "2022-03-13T12:37:36.563821Z"
    }
   },
   "outputs": [
    {
     "data": {
      "text/plain": [
       "45052.23479976055"
      ]
     },
     "execution_count": 66,
     "metadata": {},
     "output_type": "execute_result"
    }
   ],
   "source": [
    "# drop labels for training set, but keep all others\n",
    "Xtest = testset.drop(\"median_house_value\", axis=1)\n",
    "ytest = testset[\"median_house_value\"].copy()\n",
    "\n",
    "best_model = grid_search.best_estimator_\n",
    "\n",
    "yhat = best_model.predict(Xtest)\n",
    "\n",
    "final_mse = mean_squared_error(ytest, yhat)\n",
    "final_rmse = np.sqrt(final_mse)\n",
    "final_rmse"
   ]
  },
  {
   "cell_type": "markdown",
   "metadata": {},
   "source": [
    "The performance on the test set turns out to be very similar to the performance on the training set achieved with cross-validation, but it is not uncommon for it to be somewhat worse than that."
   ]
  },
  {
   "cell_type": "markdown",
   "metadata": {},
   "source": [
    "Finally, let's visualize the predictions on the test set."
   ]
  },
  {
   "cell_type": "code",
   "execution_count": 67,
   "metadata": {
    "ExecuteTime": {
     "end_time": "2022-03-13T12:37:37.568670Z",
     "start_time": "2022-03-13T12:37:36.594280Z"
    }
   },
   "outputs": [
    {
     "data": {
      "text/plain": [
       "<AxesSubplot:>"
      ]
     },
     "execution_count": 67,
     "metadata": {},
     "output_type": "execute_result"
    },
    {
     "data": {
      "image/png": "[encoded data removed]",
      "text/plain": [
       "<Figure size 864x360 with 1 Axes>"
      ]
     },
     "metadata": {},
     "output_type": "display_data"
    }
   ],
   "source": [
    "# create a temporary dataframe containing two columns\n",
    "df_tmp = pd.DataFrame({\"ytest\": ytest[:50], \"yhat\": yhat[:50]})\n",
    "\n",
    "# plot the dataframe\n",
    "df_tmp.plot(figsize=(12,5), kind=\"bar\", rot=0)"
   ]
  },
  {
   "cell_type": "markdown",
   "metadata": {},
   "source": [
    "# Acknowledgement\n",
    "\n",
    "The notebook is based on the code examples from [Aurélien Géron's textbook](https://www.oreilly.com/library/view/hands-on-machine-learning/9781492032632/) \"Hands-On Machine Learning with Scikit-Learn, Keras, and TensorFlow\"."
   ]
  },
  {
   "cell_type": "code",
   "execution_count": null,
   "metadata": {},
   "outputs": [],
   "source": []
  }
 ],
 "metadata": {
  "kernelspec": {
   "display_name": "Python 3 (ipykernel)",
   "language": "python",
   "name": "python3"
  },
  "language_info": {
   "codemirror_mode": {
    "name": "ipython",
    "version": 3
   },
   "authors": [{ "name": "Viktor Pekar" }],
   "file_extension": ".py",
   "mimetype": "text/x-python",
   "name": "python",
   "nbconvert_exporter": "python",
   "pygments_lexer": "ipython3",
   "version": "3.9.7"
  },
  "toc": {
   "base_numbering": 1,
   "nav_menu": {},
   "number_sections": true,
   "sideBar": true,
   "skip_h1_title": false,
   "title_cell": "Table of Contents",
   "title_sidebar": "Contents",
   "toc_cell": false,
   "toc_position": {},
   "toc_section_display": true,
   "toc_window_display": true
  }
 },
 "nbformat": 4,
 "nbformat_minor": 2
}

