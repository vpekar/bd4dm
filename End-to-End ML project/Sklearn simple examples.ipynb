{
 "cells": [
  {
   "cell_type": "markdown",
   "metadata": {},
   "source": [
    "# Regression\n",
    "\n",
    "Task: predict the cost of a wedding, given the attendance and the couple's income figures.\n",
    "\n",
    "## Step 1. Choose the learning algorithm\n",
    "\n",
    "Import the linear regression class."
   ]
  },
  {
   "cell_type": "code",
   "execution_count": 1,
   "metadata": {
    "ExecuteTime": {
     "end_time": "2022-11-16T21:48:21.730699Z",
     "start_time": "2022-11-16T21:48:18.100559Z"
    }
   },
   "outputs": [
    {
     "name": "stderr",
     "output_type": "stream",
     "text": [
      "Intel(R) Extension for Scikit-learn* enabled (https://github.com/intel/scikit-learn-intelex)\n"
     ]
    }
   ],
   "source": [
    "# setting logging to print only error messages from Sklearnex\n",
    "import logging\n",
    "logging.basicConfig()\n",
    "logging.getLogger(\"SKLEARNEX\").setLevel(logging.ERROR)\n",
    "\n",
    "from sklearn.linear_model import LinearRegression"
   ]
  },
  {
   "cell_type": "markdown",
   "metadata": {},
   "source": [
    "## Step 2. Choose initialization parameters\n",
    "\n",
    "As indicated in the [documentation](https://scikit-learn.org/stable/modules/generated/sklearn.linear_model.LinearRegression.html) on `LinearRegression`, several initialization parameters need to be set. We will use all the default ones, so there is no need to pass any arguments (but we could override them if needed, for example, require not to fit the intercept by passing `fit_intercept=False`)."
   ]
  },
  {
   "cell_type": "code",
   "execution_count": 2,
   "metadata": {
    "ExecuteTime": {
     "end_time": "2022-11-16T21:48:24.040074Z",
     "start_time": "2022-11-16T21:48:24.016137Z"
    }
   },
   "outputs": [
    {
     "data": {
      "text/plain": [
       "LinearRegression()"
      ]
     },
     "execution_count": 2,
     "metadata": {},
     "output_type": "execute_result"
    }
   ],
   "source": [
    "lin_reg = LinearRegression()\n",
    "\n",
    "# inspect the class of the variable and its attributes\n",
    "lin_reg"
   ]
  },
  {
   "cell_type": "markdown",
   "metadata": {},
   "source": [
    "## Step 3. Prepare the data\n",
    "\n",
    "Load the data and arrange into into X (the features matrix) and y (the target vector)."
   ]
  },
  {
   "cell_type": "code",
   "execution_count": 3,
   "metadata": {
    "ExecuteTime": {
     "end_time": "2022-11-16T21:48:26.567791Z",
     "start_time": "2022-11-16T21:48:25.201011Z"
    }
   },
   "outputs": [
    {
     "data": {
      "text/html": [
       "<div>\n",
       "<style scoped>\n",
       "    .dataframe tbody tr th:only-of-type {\n",
       "        vertical-align: middle;\n",
       "    }\n",
       "\n",
       "    .dataframe tbody tr th {\n",
       "        vertical-align: top;\n",
       "    }\n",
       "\n",
       "    .dataframe thead th {\n",
       "        text-align: right;\n",
       "    }\n",
       "</style>\n",
       "<table border=\"1\" class=\"dataframe\">\n",
       "  <thead>\n",
       "    <tr style=\"text-align: right;\">\n",
       "      <th></th>\n",
       "      <th>CoupleIncome</th>\n",
       "      <th>Attendance</th>\n",
       "      <th>WeddingCost</th>\n",
       "    </tr>\n",
       "  </thead>\n",
       "  <tbody>\n",
       "    <tr>\n",
       "      <th>0</th>\n",
       "      <td>130000.0</td>\n",
       "      <td>300.0</td>\n",
       "      <td>60700.0</td>\n",
       "    </tr>\n",
       "    <tr>\n",
       "      <th>1</th>\n",
       "      <td>157000.0</td>\n",
       "      <td>350.0</td>\n",
       "      <td>52000.0</td>\n",
       "    </tr>\n",
       "    <tr>\n",
       "      <th>2</th>\n",
       "      <td>98000.0</td>\n",
       "      <td>150.0</td>\n",
       "      <td>47000.0</td>\n",
       "    </tr>\n",
       "    <tr>\n",
       "      <th>3</th>\n",
       "      <td>72000.0</td>\n",
       "      <td>200.0</td>\n",
       "      <td>42000.0</td>\n",
       "    </tr>\n",
       "    <tr>\n",
       "      <th>4</th>\n",
       "      <td>86000.0</td>\n",
       "      <td>250.0</td>\n",
       "      <td>34000.0</td>\n",
       "    </tr>\n",
       "  </tbody>\n",
       "</table>\n",
       "</div>"
      ],
      "text/plain": [
       "   CoupleIncome  Attendance  WeddingCost\n",
       "0      130000.0       300.0      60700.0\n",
       "1      157000.0       350.0      52000.0\n",
       "2       98000.0       150.0      47000.0\n",
       "3       72000.0       200.0      42000.0\n",
       "4       86000.0       250.0      34000.0"
      ]
     },
     "execution_count": 3,
     "metadata": {},
     "output_type": "execute_result"
    }
   ],
   "source": [
    "import pandas as pd\n",
    "import numpy as np\n",
    "\n",
    "df = pd.read_csv(\"Weddings.csv\")\n",
    "df.head()"
   ]
  },
  {
   "cell_type": "markdown",
   "metadata": {},
   "source": [
    "The first two columns are independent variables, the last one is the target variable.\n",
    "\n",
    "The input to the regression algorithm must be two NumPy arrays: one for all the independent variables and one for the target variable. The data contained in the Pandas dataframe can be accessed via the `values` attribute."
   ]
  },
  {
   "cell_type": "code",
   "execution_count": 4,
   "metadata": {
    "ExecuteTime": {
     "end_time": "2022-03-13T12:41:28.137174Z",
     "start_time": "2022-03-13T12:41:28.129482Z"
    }
   },
   "outputs": [
    {
     "name": "stdout",
     "output_type": "stream",
     "text": [
      "Shape of X: (25, 2)\n",
      "Shape of y: (25,)\n"
     ]
    }
   ],
   "source": [
    "# all rows, the first two columns\n",
    "X = df.values[:, :2]\n",
    "\n",
    "# all rows, the last column\n",
    "y = df.values[:, -1]\n",
    "\n",
    "print(f\"Shape of X: {X.shape}\")\n",
    "print(f\"Shape of y: {y.shape}\")"
   ]
  },
  {
   "cell_type": "markdown",
   "metadata": {},
   "source": [
    "That is, the number of rows in both arrays is the same. The `X` array contains two columns (the two predictor variables) and the `y` array contains one column (the target variable)."
   ]
  },
  {
   "cell_type": "markdown",
   "metadata": {},
   "source": [
    "## Step 4. Fit the model\n",
    "\n",
    "Call `fit()`. It will return an object holding the fitted model."
   ]
  },
  {
   "cell_type": "code",
   "execution_count": 5,
   "metadata": {
    "ExecuteTime": {
     "end_time": "2022-03-13T12:41:28.487130Z",
     "start_time": "2022-03-13T12:41:28.139135Z"
    }
   },
   "outputs": [],
   "source": [
    "model = lin_reg.fit(X, y)"
   ]
  },
  {
   "cell_type": "markdown",
   "metadata": {},
   "source": [
    "Once the model has been trained, we can access the estimated parameters of the model:"
   ]
  },
  {
   "cell_type": "code",
   "execution_count": 6,
   "metadata": {
    "ExecuteTime": {
     "end_time": "2022-03-13T12:41:28.501359Z",
     "start_time": "2022-03-13T12:41:28.490929Z"
    }
   },
   "outputs": [
    {
     "data": {
      "text/plain": [
       "-7002.447077706023"
      ]
     },
     "execution_count": 6,
     "metadata": {},
     "output_type": "execute_result"
    }
   ],
   "source": [
    "# intercept\n",
    "model.intercept_"
   ]
  },
  {
   "cell_type": "code",
   "execution_count": 7,
   "metadata": {
    "ExecuteTime": {
     "end_time": "2022-03-13T12:41:28.518635Z",
     "start_time": "2022-03-13T12:41:28.504655Z"
    }
   },
   "outputs": [
    {
     "data": {
      "text/plain": [
       "array([ 0.31240207, 53.03090213])"
      ]
     },
     "execution_count": 7,
     "metadata": {},
     "output_type": "execute_result"
    }
   ],
   "source": [
    "# coefficients\n",
    "model.coef_"
   ]
  },
  {
   "cell_type": "markdown",
   "metadata": {},
   "source": [
    "We can look up the $R^2$ score for the fitted model:"
   ]
  },
  {
   "cell_type": "code",
   "execution_count": 8,
   "metadata": {
    "ExecuteTime": {
     "end_time": "2022-03-13T12:41:28.537160Z",
     "start_time": "2022-03-13T12:41:28.522037Z"
    }
   },
   "outputs": [
    {
     "data": {
      "text/plain": [
       "0.7343682845869217"
      ]
     },
     "execution_count": 8,
     "metadata": {},
     "output_type": "execute_result"
    }
   ],
   "source": [
    "model.score(X, y)"
   ]
  },
  {
   "cell_type": "markdown",
   "metadata": {},
   "source": [
    "## Step 5. Predict the target for a new instance\n",
    "\n",
    "Predict the cost of wedding, if there will be 175 guests and the couple's income is $100,000.\n",
    "\n",
    "Create a two-dimensional NumPy array, containing a single row. The columns are the same as in the training data: the first value is the couple's income, the second is the attendance."
   ]
  },
  {
   "cell_type": "code",
   "execution_count": 9,
   "metadata": {
    "ExecuteTime": {
     "end_time": "2022-03-13T12:41:28.550670Z",
     "start_time": "2022-03-13T12:41:28.539155Z"
    }
   },
   "outputs": [
    {
     "data": {
      "text/plain": [
       "array([33518.16789185])"
      ]
     },
     "execution_count": 9,
     "metadata": {},
     "output_type": "execute_result"
    }
   ],
   "source": [
    "new_instance = np.array([[100000, 175]])\n",
    "y_hat = model.predict(new_instance)\n",
    "y_hat"
   ]
  },
  {
   "cell_type": "markdown",
   "metadata": {},
   "source": [
    "# Classification\n",
    "\n",
    "We will use the Iris dataset containing measurements of petals and sepals for different examples of three species of the iris.\n",
    "\n",
    "We will split the dataset into a training and a test set, train a decision tree on the training set, and evaluate it on the test set.\n",
    "\n",
    "## Step 1. Import the class implementing a selected ML algorithm"
   ]
  },
  {
   "cell_type": "code",
   "execution_count": 10,
   "metadata": {
    "ExecuteTime": {
     "end_time": "2022-03-13T12:41:28.560284Z",
     "start_time": "2022-03-13T12:41:28.554962Z"
    }
   },
   "outputs": [],
   "source": [
    "from sklearn.tree import DecisionTreeClassifier"
   ]
  },
  {
   "cell_type": "markdown",
   "metadata": {},
   "source": [
    "## Step 2. Specify initialization parameters\n",
    "\n",
    "According to the [documentation](https://scikit-learn.org/stable/modules/generated/sklearn.tree.DecisionTreeClassifier.html), the `DecisionTreeClassifier` class has various initialization parameters. We will use default settings, except for `max_depth`, which we will set to 2 so as to avoid building a large tree."
   ]
  },
  {
   "cell_type": "code",
   "execution_count": 11,
   "metadata": {
    "ExecuteTime": {
     "end_time": "2022-03-13T12:41:28.575363Z",
     "start_time": "2022-03-13T12:41:28.563372Z"
    }
   },
   "outputs": [],
   "source": [
    "dtree = DecisionTreeClassifier(max_depth=2)"
   ]
  },
  {
   "cell_type": "markdown",
   "metadata": {},
   "source": [
    "## Step 3. Prepare the data\n",
    "\n",
    "We will use the Iris dataset that is comes built-in with the scikit-learn distribution:"
   ]
  },
  {
   "cell_type": "code",
   "execution_count": 12,
   "metadata": {
    "ExecuteTime": {
     "end_time": "2022-03-13T12:41:28.763703Z",
     "start_time": "2022-03-13T12:41:28.577133Z"
    }
   },
   "outputs": [],
   "source": [
    "from sklearn.datasets import load_iris\n",
    "\n",
    "iris_data = load_iris()\n",
    "\n",
    "# the built-in dataset is an object with several attributes: \n",
    "# \"data\" (predictor features), \n",
    "# \"feature_names\" (the names of the features)\n",
    "# \"target\" (the target variable as integers),\n",
    "# \"target_names\" (the class labels)"
   ]
  },
  {
   "cell_type": "code",
   "execution_count": 13,
   "metadata": {
    "ExecuteTime": {
     "end_time": "2022-03-13T12:41:28.778831Z",
     "start_time": "2022-03-13T12:41:28.767530Z"
    }
   },
   "outputs": [
    {
     "data": {
      "text/plain": [
       "['sepal length (cm)',\n",
       " 'sepal width (cm)',\n",
       " 'petal length (cm)',\n",
       " 'petal width (cm)']"
      ]
     },
     "execution_count": 13,
     "metadata": {},
     "output_type": "execute_result"
    }
   ],
   "source": [
    "iris_data.feature_names"
   ]
  },
  {
   "cell_type": "code",
   "execution_count": 14,
   "metadata": {
    "ExecuteTime": {
     "end_time": "2022-03-13T12:41:28.794106Z",
     "start_time": "2022-03-13T12:41:28.780825Z"
    }
   },
   "outputs": [
    {
     "data": {
      "text/plain": [
       "array(['setosa', 'versicolor', 'virginica'], dtype='<U10')"
      ]
     },
     "execution_count": 14,
     "metadata": {},
     "output_type": "execute_result"
    }
   ],
   "source": [
    "iris_data.target_names"
   ]
  },
  {
   "cell_type": "code",
   "execution_count": 15,
   "metadata": {
    "ExecuteTime": {
     "end_time": "2022-03-13T12:41:28.810031Z",
     "start_time": "2022-03-13T12:41:28.796101Z"
    }
   },
   "outputs": [
    {
     "data": {
      "text/plain": [
       "(150, 4)"
      ]
     },
     "execution_count": 15,
     "metadata": {},
     "output_type": "execute_result"
    }
   ],
   "source": [
    "iris_data.data.shape"
   ]
  },
  {
   "cell_type": "markdown",
   "metadata": {},
   "source": [
    " There are 150 rows and 4 columns in the dataset.\n",
    " \n",
    "To split the data into a training and a test set, we can use `train_test_split`, a utility function in scikit-learn. We can specify the desired size of the test set using the `test_size` argument. Here, we want the test data to be 10% of the whole dataset:"
   ]
  },
  {
   "cell_type": "code",
   "execution_count": 16,
   "metadata": {
    "ExecuteTime": {
     "end_time": "2022-03-13T12:41:28.833199Z",
     "start_time": "2022-03-13T12:41:28.816422Z"
    }
   },
   "outputs": [],
   "source": [
    "from sklearn.model_selection import train_test_split\n",
    "\n",
    "Xtrain, Xtest, ytrain, ytest = train_test_split(iris_data.data, iris_data.target,\n",
    "                                                random_state=1, test_size=0.1)"
   ]
  },
  {
   "cell_type": "code",
   "execution_count": 17,
   "metadata": {
    "ExecuteTime": {
     "end_time": "2022-03-13T12:41:28.842844Z",
     "start_time": "2022-03-13T12:41:28.836343Z"
    }
   },
   "outputs": [
    {
     "data": {
      "text/plain": [
       "(135, 4)"
      ]
     },
     "execution_count": 17,
     "metadata": {},
     "output_type": "execute_result"
    }
   ],
   "source": [
    "Xtrain.shape"
   ]
  },
  {
   "cell_type": "code",
   "execution_count": 18,
   "metadata": {
    "ExecuteTime": {
     "end_time": "2022-03-13T12:41:28.859810Z",
     "start_time": "2022-03-13T12:41:28.844839Z"
    }
   },
   "outputs": [
    {
     "data": {
      "text/plain": [
       "(15, 4)"
      ]
     },
     "execution_count": 18,
     "metadata": {},
     "output_type": "execute_result"
    }
   ],
   "source": [
    "Xtest.shape"
   ]
  },
  {
   "cell_type": "code",
   "execution_count": 19,
   "metadata": {
    "ExecuteTime": {
     "end_time": "2022-03-13T12:41:28.872171Z",
     "start_time": "2022-03-13T12:41:28.861649Z"
    }
   },
   "outputs": [
    {
     "data": {
      "text/plain": [
       "(135,)"
      ]
     },
     "execution_count": 19,
     "metadata": {},
     "output_type": "execute_result"
    }
   ],
   "source": [
    "ytrain.shape"
   ]
  },
  {
   "cell_type": "code",
   "execution_count": 20,
   "metadata": {
    "ExecuteTime": {
     "end_time": "2022-03-13T12:41:28.891187Z",
     "start_time": "2022-03-13T12:41:28.875196Z"
    }
   },
   "outputs": [
    {
     "data": {
      "text/plain": [
       "(15,)"
      ]
     },
     "execution_count": 20,
     "metadata": {},
     "output_type": "execute_result"
    }
   ],
   "source": [
    "ytest.shape"
   ]
  },
  {
   "cell_type": "markdown",
   "metadata": {},
   "source": [
    "So the training set contains 135 instances, and the test set contains 15 instances."
   ]
  },
  {
   "cell_type": "markdown",
   "metadata": {},
   "source": [
    "## Step 4. Fit the model\n",
    "\n",
    "Train the model on the training data:"
   ]
  },
  {
   "cell_type": "code",
   "execution_count": 21,
   "metadata": {
    "ExecuteTime": {
     "end_time": "2022-03-13T12:41:28.910272Z",
     "start_time": "2022-03-13T12:41:28.893183Z"
    }
   },
   "outputs": [],
   "source": [
    "model = dtree.fit(Xtrain, ytrain)"
   ]
  },
  {
   "cell_type": "markdown",
   "metadata": {},
   "source": [
    "The model object contains estimated model parameters, as well as the feature importance scores:"
   ]
  },
  {
   "cell_type": "code",
   "execution_count": 22,
   "metadata": {
    "ExecuteTime": {
     "end_time": "2022-03-13T12:41:28.927085Z",
     "start_time": "2022-03-13T12:41:28.912268Z"
    }
   },
   "outputs": [
    {
     "data": {
      "text/plain": [
       "array([0., 0., 0., 1.])"
      ]
     },
     "execution_count": 22,
     "metadata": {},
     "output_type": "execute_result"
    }
   ],
   "source": [
    "model.feature_importances_"
   ]
  },
  {
   "cell_type": "markdown",
   "metadata": {},
   "source": [
    "Thus, the most important classification feature is \"petal width (cm)\" - it is the most useful one for separating instances belonging to different classes.\n",
    "\n",
    "We can also visualize the trained decision tree:"
   ]
  },
  {
   "cell_type": "code",
   "execution_count": 23,
   "metadata": {
    "ExecuteTime": {
     "end_time": "2022-03-13T12:41:29.886946Z",
     "start_time": "2022-03-13T12:41:28.929083Z"
    }
   },
   "outputs": [
    {
     "data": {
      "image/png": "[encoded data removed]",
      "text/plain": [
       "<Figure size 720x360 with 1 Axes>"
      ]
     },
     "metadata": {
      "needs_background": "light"
     },
     "output_type": "display_data"
    }
   ],
   "source": [
    "from sklearn.tree import plot_tree\n",
    "import matplotlib.pyplot as plt\n",
    "\n",
    "# define the figure size\n",
    "fig = plt.figure(figsize=(10,5))\n",
    "ax = plt.axes()\n",
    "\n",
    "# plot the tree\n",
    "dummy = plot_tree(model, \n",
    "          class_names=iris_data.target_names, \n",
    "          feature_names=iris_data.feature_names, \n",
    "          ax=ax)"
   ]
  },
  {
   "cell_type": "markdown",
   "metadata": {},
   "source": [
    "## Step 5. Evaluate the model on the test set\n",
    "\n",
    "Use the estimated model to produce predictions on the test set (predictions are usually indicated with $\\hat{y}$, so the variable holding predictions is `yhat`):"
   ]
  },
  {
   "cell_type": "code",
   "execution_count": 24,
   "metadata": {
    "ExecuteTime": {
     "end_time": "2022-03-13T12:41:29.895284Z",
     "start_time": "2022-03-13T12:41:29.889262Z"
    }
   },
   "outputs": [
    {
     "data": {
      "text/plain": [
       "(15,)"
      ]
     },
     "execution_count": 24,
     "metadata": {},
     "output_type": "execute_result"
    }
   ],
   "source": [
    "yhat = model.predict(Xtest)\n",
    "yhat.shape"
   ]
  },
  {
   "cell_type": "markdown",
   "metadata": {},
   "source": [
    "Compare the predictions with true values of `y` visually:"
   ]
  },
  {
   "cell_type": "code",
   "execution_count": 25,
   "metadata": {
    "ExecuteTime": {
     "end_time": "2022-03-13T12:41:29.926757Z",
     "start_time": "2022-03-13T12:41:29.896363Z"
    }
   },
   "outputs": [
    {
     "data": {
      "text/plain": [
       "array([0, 1, 1, 0, 2, 1, 2, 0, 0, 2, 1, 0, 2, 1, 1])"
      ]
     },
     "execution_count": 25,
     "metadata": {},
     "output_type": "execute_result"
    }
   ],
   "source": [
    "yhat"
   ]
  },
  {
   "cell_type": "code",
   "execution_count": 26,
   "metadata": {
    "ExecuteTime": {
     "end_time": "2022-03-13T12:41:29.935906Z",
     "start_time": "2022-03-13T12:41:29.928752Z"
    }
   },
   "outputs": [
    {
     "data": {
      "text/plain": [
       "array([0, 1, 1, 0, 2, 1, 2, 0, 0, 2, 1, 0, 2, 1, 1])"
      ]
     },
     "execution_count": 26,
     "metadata": {},
     "output_type": "execute_result"
    }
   ],
   "source": [
    "ytest"
   ]
  },
  {
   "cell_type": "markdown",
   "metadata": {},
   "source": [
    "Calculate precision, recall and f-score:"
   ]
  },
  {
   "cell_type": "code",
   "execution_count": 27,
   "metadata": {
    "ExecuteTime": {
     "end_time": "2022-03-13T12:41:29.955457Z",
     "start_time": "2022-03-13T12:41:29.940384Z"
    }
   },
   "outputs": [
    {
     "name": "stdout",
     "output_type": "stream",
     "text": [
      "Precision: 1.0\n",
      "Recall: 1.0\n",
      "F score: 1.0\n"
     ]
    }
   ],
   "source": [
    "from sklearn.metrics import precision_recall_fscore_support\n",
    "\n",
    "# micro-averaged precision, recall and f-score\n",
    "p, r, f, s = precision_recall_fscore_support(ytest, yhat, average=\"macro\")\n",
    "print(f\"Precision: {p}\")\n",
    "print(f\"Recall: {r}\")\n",
    "print(f\"F score: {f}\")"
   ]
  },
  {
   "cell_type": "markdown",
   "metadata": {},
   "source": [
    "# Citing this notebook\n",
    "\n",
    "If you use this notebook in your work, please cite it as follows:\n",
    "    \n",
    "Pekar, V. (2022). Big Data for Decision Making. Lecture examples and exercises. (Version 1.0.0). URL: https://github.com/vpekar/bd4dm\n"
   ]
  },
  {
   "cell_type": "code",
   "execution_count": null,
   "metadata": {},
   "outputs": [],
   "source": []
  }
 ],
 "metadata": {
  "kernelspec": {
   "display_name": "Python 3",
   "language": "python",
   "name": "python3"
  },
  "language_info": {
   "codemirror_mode": {
    "name": "ipython",
    "version": 3
   },
   "file_extension": ".py",
   "mimetype": "text/x-python",
   "name": "python",
   "nbconvert_exporter": "python",
   "pygments_lexer": "ipython3",
   "version": "3.9.7"
  },
  "toc": {
   "base_numbering": 1,
   "nav_menu": {},
   "number_sections": true,
   "sideBar": true,
   "skip_h1_title": false,
   "title_cell": "Table of Contents",
   "title_sidebar": "Contents",
   "toc_cell": false,
   "toc_position": {},
   "toc_section_display": true,
   "toc_window_display": true
  }
 },
 "nbformat": 4,
 "nbformat_minor": 2
}
